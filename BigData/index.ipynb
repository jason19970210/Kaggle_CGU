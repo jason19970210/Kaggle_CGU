{
 "cells": [
  {
   "cell_type": "markdown",
   "metadata": {},
   "source": [
    "# Table of Contents\n",
    "* [Journey Toward Big Data, <small>Kaggle Challenge</small>](#Journey-Toward-Big-Data,-<small>Kaggle-Challenge</small>)\n",
    "\t* [Goals of the Lecture](#Goals-of-the-Lecture)\n",
    "\t* [Course Components](#Course-Components)\n",
    "\t\t* [Labs](#Labs)\n",
    "\t* [Outline](#Outline)\n",
    "\t\t* [What you would learn here](#What-you-would-learn-here)\n",
    "\t\t* [What you expected](#What-you-expected)\n",
    "\t\t* [Week Schedule](#Week-Schedule)\n",
    "\t\t* [Two-credit Course](#Two-credit-Course)\n",
    "\t\t* [Grading](#Grading)\n",
    "\t\t* [Textbooks and References](#Textbooks-and-References)\n",
    "      "
   ]
  },
  {
   "cell_type": "code",
   "execution_count": 10,
   "metadata": {},
   "outputs": [
    {
     "data": {
      "text/html": [
       "<link href='http://fonts.googleapis.com/css?family=Open+Sans:100,300,400,500,700,800,900,100italic,300italic,400italic,500italic,700italic,800italic,900italic' rel='stylesheet' type='text/css'>\n",
       "<link href='http://fonts.googleapis.com/css?family=Arvo:400,700,400italic' rel='stylesheet' type='text/css'>\n",
       "<link href='http://fonts.googleapis.com/css?family=PT+Mono' rel='stylesheet' type='text/css'>\n",
       "<link href='http://fonts.googleapis.com/css?family=Shadows+Into+Light' rel='stylesheet' type='text/css'>\n",
       "<link href='http://fonts.googleapis.com/css?family=Nixie+One' rel='stylesheet' type='text/css'>\n",
       "<style>\n",
       "\n",
       "@font-face {\n",
       "    font-family: \"Computer Modern\";\n",
       "    src: url('http://mirrors.ctan.org/fonts/cm-unicode/fonts/otf/cmunss.otf');\n",
       "}\n",
       "\n",
       "#notebook_panel { /* main background */\n",
       "    background: rgb(245,245,245);\n",
       "}\n",
       "\n",
       "div.cell { /* set cell width */\n",
       "    width: 1000px;\n",
       "}\n",
       "\n",
       "div #notebook { /* centre the content */\n",
       "    background: #fff; /* white background for content */\n",
       "    width: 1200px;\n",
       "    margin: auto;\n",
       "    padding-left: 0em;\n",
       "}\n",
       "\n",
       "#notebook li { /* More space between bullet points */\n",
       "margin-top:0.8em;\n",
       "}\n",
       "\n",
       "/* draw border around running cells */\n",
       "div.cell.border-box-sizing.code_cell.running { \n",
       "    border: 1px solid #111;\n",
       "}\n",
       "\n",
       "/* Put a solid color box around each cell and its output, visually linking them*/\n",
       "div.cell.code_cell {\n",
       "    background-color: rgb(256,256,256); \n",
       "    border-radius: 0px; \n",
       "    padding: 0.5em;\n",
       "    margin-left:1em;\n",
       "    margin-top: 1em;\n",
       "}\n",
       "\n",
       "div.text_cell_render{\n",
       "    font-family: 'Open Sans' sans-serif;\n",
       "    line-height: 140%;\n",
       "    font-size: 125%;\n",
       "    font-weight: 400;\n",
       "    width:900px;\n",
       "    margin-left:auto;\n",
       "    margin-right:auto;\n",
       "}\n",
       "\n",
       "\n",
       "/* Formatting for header cells */\n",
       ".text_cell_render h1 {\n",
       "    font-family: 'Arvo', serif;\n",
       "    font-style:regular;\n",
       "    font-weight: 400;    \n",
       "    font-size: 45pt;\n",
       "    line-height: 100%;\n",
       "    color: rgb(0,51,102);\n",
       "    margin-bottom: 0.5em;\n",
       "    margin-top: 0.5em;\n",
       "    display: block;\n",
       "}\t\n",
       ".text_cell_render h2 {\n",
       "    font-family: 'Arvo', serif;\n",
       "    font-weight: 400;\n",
       "    font-size: 30pt;\n",
       "    line-height: 100%;\n",
       "    color: rgb(0,51,102);\n",
       "    margin-bottom: 0.1em;\n",
       "    margin-top: 0.3em;\n",
       "    display: block;\n",
       "}\t\n",
       "\n",
       ".text_cell_render h3 {\n",
       "    font-family: 'Arvo', serif;\n",
       "    margin-top:16px;\n",
       "\tfont-size: 22pt;\n",
       "    font-weight: 600;\n",
       "    margin-bottom: 3px;\n",
       "    font-style: regular;\n",
       "    color: rgb(102,102,0);\n",
       "}\n",
       "\n",
       ".text_cell_render h4 {    /*Use this for captions*/\n",
       "    font-family: 'Arvo', serif;\n",
       "    font-size: 14pt;\n",
       "    text-align: center;\n",
       "    margin-top: 0em;\n",
       "    margin-bottom: 2em;\n",
       "    font-style: regular;\n",
       "}\n",
       "\n",
       ".text_cell_render h5 {  /*Use this for small titles*/\n",
       "    font-family: 'Arvo', sans-serif;\n",
       "    font-weight: 400;\n",
       "    font-size: 16pt;\n",
       "    color: rgb(163,0,0);\n",
       "    font-style: italic;\n",
       "    margin-bottom: .1em;\n",
       "    margin-top: 0.8em;\n",
       "    display: block;\n",
       "}\n",
       "\n",
       ".text_cell_render h6 { /*use this for copyright note*/\n",
       "    font-family: 'PT Mono', sans-serif;\n",
       "    font-weight: 300;\n",
       "    font-size: 9pt;\n",
       "    line-height: 100%;\n",
       "    color: grey;\n",
       "    margin-bottom: 1px;\n",
       "    margin-top: 1px;\n",
       "}\n",
       "\n",
       ".CodeMirror{\n",
       "        font-family: \"PT Mono\";\n",
       "        font-size: 90%;\n",
       "}\n",
       "\n",
       "</style>\n",
       "<script>\n",
       "    MathJax.Hub.Config({\n",
       "                        TeX: {\n",
       "                           extensions: [\"AMSmath.js\"],\n",
       "                           equationNumbers: { autoNumber: \"AMS\", useLabelIds: true}\n",
       "                           },\n",
       "                tex2jax: {\n",
       "                    inlineMath: [ ['$','$'], [\"\\\\(\",\"\\\\)\"] ],\n",
       "                    displayMath: [ ['$$','$$'], [\"\\\\[\",\"\\\\]\"] ]\n",
       "                },\n",
       "                displayAlign: 'center', // Change this to 'center' to center equations.\n",
       "                \"HTML-CSS\": {\n",
       "                    styles: {'.MathJax_Display': {\"margin\": 4}}\n",
       "                }\n",
       "        });\n",
       "</script>\n"
      ],
      "text/plain": [
       "<IPython.core.display.HTML object>"
      ]
     },
     "execution_count": 10,
     "metadata": {},
     "output_type": "execute_result"
    }
   ],
   "source": [
    "from IPython.core.display import HTML\n",
    "css_file = 'css/ngcmstyle.css'\n",
    "HTML(open(css_file, \"r\").read())"
   ]
  },
  {
   "cell_type": "markdown",
   "metadata": {},
   "source": [
    "# Journey Toward Big Data, <br><small>Kaggle Challenge</small>"
   ]
  },
  {
   "cell_type": "markdown",
   "metadata": {},
   "source": [
    "<div align=\"center\">by cch, started since 03/23/2017</div>"
   ]
  },
  {
   "cell_type": "markdown",
   "metadata": {},
   "source": [
    "## Prelude\n",
    "\n",
    "\n",
    "```    \n",
    "    To see a World in a Grain of Sand\n",
    "    And a Heaven in a Wild Flower,\n",
    "    Hold Infinity in the palm of your hand \n",
    "    And Eternity in an hour.\n",
    "\n",
    "    ㄧ沙一塵世 ㄧ花ㄧ天堂 \n",
    "    時間似永恆 須臾已輪迴\n",
    "       \n",
    "                      William Blake, To see a World\n",
    "                      Fragments from \"Auguries of Innocence\"\n",
    "```    \n",
    "```\n",
    "A Robin Redbreast in a Cage\n",
    "Puts all Heaven in a Rage.\n",
    "A dove house fill’d with doves and pigeons\n",
    "Shudders Hell thro’ all its regions.\n",
    "A Dog starv’d at his Master’s Gate\n",
    "Predicts the ruin of the State.\n",
    "A Horse misus’d upon the Road\n",
    "Calls to Heaven for Human blood.\n",
    "Each outcry of the hunted Hare\n",
    "A fiber from the Brain does tear.\n",
    "\n",
    "He who shall train the Horse to War\n",
    "Shall never pass the Polar Bar.\n",
    "The Beggar’s Dog and Widow’s Cat,\n",
    "Feed them and thou wilt grow fat.\n",
    "The Gnat that sings his Summer song \n",
    "Poison gets from Slander’s tongue.\n",
    "The poison of the Snake and Newt\n",
    "Is the sweat of Envy’s Foot.\n",
    "\n",
    "A truth that’s told with bad intent\n",
    "Beats all the Lies you can invent.\n",
    "It is right it should be so;\n",
    "Man was made for Joy and Woe;\n",
    "And when this we rightly know\n",
    "Thro’ the World we safely go.\n",
    "\n",
    "Every Night and every Morn\n",
    "Some to Misery are Born.\n",
    "Every Morn and every Night\n",
    "Some are Born to sweet delight.\n",
    "Some are Born to sweet delight,\n",
    "Some are Born to Endless Night.  \n",
    "```"
   ]
  },
  {
   "cell_type": "markdown",
   "metadata": {},
   "source": [
    "## Goals of the Lecture"
   ]
  },
  {
   "cell_type": "markdown",
   "metadata": {},
   "source": [
    "The amount and complexity of information produced in science, engineering, business, and everyday human activity are increasing at a staggering rate. The goal of this course is to expose you to methods and techniques for analyzing and understanding complex data. Data Science lies at the intersection of statistics, computer science, and, of course, the domain from which the data comes from. This course will provide an introduction to the former two: statistics and computer science and provide you with a toolset to conquer problems in your domain!\n",
    "\n",
    "-  Introduce the basics of Machine Learning, and some skills useful in practice.<br>\n",
    "-  Introduce the core packages of Python Machine Learning, so that we can make use of the rich tool\n",
    "set available; for more complicated problems, we would implement necessary schemes to do data analysis.<br>\n",
    "- Practice the schemes introduced in lectures over selected data from Kaggle and others,\n",
    "attendants are encouraged to compete with others on the public databases in the wild data world.<br>\n",
    "\n",
    "受益於現在電腦的普及和網路的普及, 產生大量的資料, 從資料中擷取可用的資訊, 改變的現代生活運作方式, 也 直接影響分析技能的基本需求, 進而改變對事情觀察的角度. 對於大量資料的處理、分析、預測往往需要龐大並且複雜 的理論基礎, 往往造成初學者難以跨越的鴻溝. 這門課的目的, 就是為了要弭平這個鴻溝而設計的.\n",
    "這門課的設計, 主要引入成熟容易開發的自由軟體, 主要包含機器學習的函式庫, 依照特定的實例, 從資料的存取 分類, 如何分析預測結果, 並且熟悉相關技術應用的原理, 徹底了解範例的細節, 為了更接近真實的世界, 我們特地從著 名的 Kaggle 及其他資料庫, 選取公開資料實作課程介紹的方法並加以驗證 o"
   ]
  },
  {
   "cell_type": "markdown",
   "metadata": {},
   "source": [
    "## Course Components"
   ]
  },
  {
   "cell_type": "markdown",
   "metadata": {},
   "source": [
    "Lectures are used to introduce basic tools for data manipulation and theoretical concepts.\n",
    "Labs are used to teaching coding skills and revisit the concepts introduced in lectures in practical terms. We will typically run coding exercises in the lab. We try to help all lecture attendants to set up one’s personal computing lab on one computer devices which could overcome the limit of learning environment due to software and space."
   ]
  },
  {
   "cell_type": "markdown",
   "metadata": {},
   "source": [
    "### Lectures"
   ]
  },
  {
   "cell_type": "markdown",
   "metadata": {},
   "source": [
    "The class meets once a week for lectures and joint class activities. The class activities are designed to help attendants master the relevant materials, to work on their homework in groups, and to get one started on one’s\n",
    "project. The weekly schedule of lectures would be posted on our course web site."
   ]
  },
  {
   "cell_type": "markdown",
   "metadata": {},
   "source": [
    "### Labs"
   ]
  },
  {
   "cell_type": "markdown",
   "metadata": {},
   "source": [
    "Labs are an important aspect of the course, as they are meant to give you the technical skills to successfully complete the homework assignments and projects, complementing the theoretical knowledge taught in lectures. Sections will typically consist of a short presentation and live coding, followed by time to complete some exercises with the help of the instructors. Arranged labs include: \n",
    "\n",
    "1. Titanic Machine Learning from Disaster, <br>\n",
    "   <span class=\"girk\"><span class=\"girk\"><span class=\"girk\">Goals of lab</span></span></span>: Regression, SVM, random forest, cross-validation.\n",
    "   - Data Handling: Importing Data with Pandas, Cleaning Data, Exploring Data through Visualizations with Matplotlib\n",
    "   - Data Analysis: Supervised Machine learning Techniques:, Logit Regression Model, Support Vector Machine (SVM), Basic Random Forest, Plotting results\n",
    "   - Valuation of the Analysis: K-folds cross validation to valuate results locally, compare results of Kaggle.\n",
    "- Factor Analysis of Financial Incomes and Prediction Improvement,<br>\n",
    "   <span class=\"girk\">Goals of lab</span>: Methods Introduced: Adaptive Lasso Method and Neural Network Model (NN),\n",
    "   - Data Analysis: Classify the key-characteristics which affect the income of Finance mostly; setup the model of data analysis and find out the best choice.\n",
    "   - For improve the in-sufficiency of least-square method other step-wise regression models, GM model would be introduced to setup apriori-predict model ;\n",
    "   - imporve prediction by the GM model and suitable NN. \n",
    "- Dengue outbreak at Tainan 2015, <br>\n",
    "   <span class=\"girk\">Goals of lab</span>: methods Introduced: Dickey-Fuller Test, Ljung-Box test, ARIMA model\n",
    "   - Data Analysis: test whether time series is stationary; detrained if yes;\n",
    "   - Classify whether white-noise free is or not by Ljung-Box test;\n",
    "   - in case of white-noise free, find the optimal parameters of ARIMA model and forecast the future."
   ]
  },
  {
   "cell_type": "markdown",
   "metadata": {},
   "source": [
    "## Outline"
   ]
  },
  {
   "cell_type": "markdown",
   "metadata": {},
   "source": [
    "### What you would learn here"
   ]
  },
  {
   "cell_type": "markdown",
   "metadata": {},
   "source": [
    "1. Math background,\n",
    "- Computer skills in Data Analysis, \n",
    "- training for being reporter.\n",
    "  - plotting\n",
    "  - calculation"
   ]
  },
  {
   "cell_type": "markdown",
   "metadata": {},
   "source": [
    "### What you expected"
   ]
  },
  {
   "cell_type": "markdown",
   "metadata": {},
   "source": [
    "???, let me know!"
   ]
  },
  {
   "cell_type": "markdown",
   "metadata": {},
   "source": [
    "### Week Schedule"
   ]
  },
  {
   "cell_type": "markdown",
   "metadata": {},
   "source": [
    "- Week 1. Big Data Introduction, and how it changes world,\n",
    "( Data Science Induction by cases and what the truth behind data), [Visualization, 2018-2-first-talk](Visualization/VisualizationIntroduction.ipynb)\n",
    "- Week 2. System setup, and Data Manipulation\n",
    "( System setup, the basic mathematics and the computing schemes we require)\n",
    "- Week 3. Modern Three Kingdoms Tale, Apple Inc., TMSC and Samsung Inc. I. Data retrieve, analysis\n",
    "( From data of stock prices of three companies, learn the skills how to gather the data, clean data to suit\n",
    "what we need, Assignment: consider to process recent data as exercise.) \n",
    "- Week 4. II. Visualization and Future forecast\n",
    "( Introduction the skills , Interactive, 2D/3D data visualization, and basic data fitting for prediction)\n",
    "- Week 5. Kaggle Competition, (Project 1) ( Explore the data from project, Titanic Machine Learning from Disaster, introduce the basic machine )\n",
    "- Week 6. GeoData Introduction\n",
    "( Incorporated with Google map to visualize geo-data case study and basic cluster analysis)\n",
    "- Week 7. Pandas introduction, Statistical library.\n",
    "( Since data is the core of data science, the powerful package, pandas, is introduced for the latter part\n",
    "of lecture. Assignment: select a simple data to exercise the pandas capacities. \n",
    "- Week 8. Dengue at Tainan 2015, Data collection and basic statistic. (Project 2I)\n",
    "( Clean data, statistic description, visualization) \n",
    "- Week 9. Time series and Trends (Project 2II)\n",
    "( Linear/nonlinear Regression)\n",
    "- Week 10. Dimensionality Reduction and Density Estimation (Project 2III)\n",
    "( How PCA method reduces the complicity of data and related method) \n",
    "- Week 11. Attack Ratio, Rt, estimation for prediction, (Project 2IV)\n",
    "( a simplest method to monitor the epidemic, with time-series data) \n",
    "- Week 12. Term report and Discussion\n",
    "- Week 13. Financial Data Introduction (project 3 I)\n",
    "( How to get the financial data, scraper scheme for data)\n",
    "- Week 14. Data Fitting, Lasso and Adaptive Lasso Methods (project 3 II) ( Classify the best features from time-series data)\n",
    "- Week 15. Grey Box method for Prediction (project 3 III)\n",
    "( Implement Grey box to setup up the prediction model with small samples )\n",
    "- Week 16. Neural Network Method for Prediction (project 3 IV)\n",
    "( Training last result to do future prediction. Assignment: test other prediction models with the\n",
    "data set)\n",
    "- Week 17-18. Free Projects Report\n",
    "( Group report demos)"
   ]
  },
  {
   "cell_type": "markdown",
   "metadata": {},
   "source": [
    "### Two-credit Course"
   ]
  },
  {
   "cell_type": "markdown",
   "metadata": {},
   "source": [
    "To learn the data science has to own a) advanced mathematical background, b) good computing skills. Thus the lecture is designed in two-credit course, two for lectures and one for lab practice. To keep the certain progress in learning and limit to the resources we can provide, only 20 enrollees are allowed."
   ]
  },
  {
   "cell_type": "markdown",
   "metadata": {},
   "source": [
    "### Grading"
   ]
  },
  {
   "cell_type": "markdown",
   "metadata": {},
   "source": [
    "- Fourteen assignments; each will have a computational part and written part (60%) \n",
    "- An in-class exam (20%)\n",
    "- A final project (20%)"
   ]
  },
  {
   "cell_type": "markdown",
   "metadata": {},
   "source": [
    "### Textbooks and References"
   ]
  },
  {
   "cell_type": "markdown",
   "metadata": {},
   "source": [
    "To introduce the newest concepts and schemes of Data science in time, we try to avail all the lecture source by ourselves in our repository(6) . However, learning technique on data science is a long road to follow and foreign to most ones who are interested; some valued references(1-5) should do helps to the newbies on the field:\n",
    "\n",
    "\n",
    "1. <a href=\"../../2016/PythonDataScienceHandbook-master/index.ipynb\">Python Data Science Hndbook, Jake Vanderplas, 2015, O'reilly</a>\n",
    "- <a href=\"2017/Python_dataAnalytics_Mining/index.ipynb\">Python数据分析与挖掘实战, 張良均 等, 2016, China Machine Press. </a>\n",
    "- <a href=\"../../2016/QuantEcon/QuantInvestment/Python%20Quant%20Book\">Investment bt Python, 蔡立瑞, 2017, Electronics Industry Pub.</a>\n",
    "- [Python for Data Science For Dummies$^®$, Luca Massaron and John Paul Mueller, 2015 by John Wiley & Sons, Inc.](../../../prepare/DigitalLearning/DummiesBigData)\n",
    "- [Building Machine Learning Systems with Python, Luis Pedro Coelho, 2015, Packt Pub.](../../../prepare/DigitalLearning/2 BuildingMachineLearningSystemsWithPython-master/index.ipynb)\n",
    "- Lecture website, https://github.com/cchuang2009/2016-1"
   ]
  },
  {
   "cell_type": "markdown",
   "metadata": {},
   "source": [
    "Data Processing\n",
    "===\n",
    "1. What we want to explore,\n",
    "- Data Collection,\n",
    "- Data Exploring,\n",
    "- Data Washing, for instance, NaN, Null Value, dimensionality Reduction,\n",
    "- Modeling, \n",
    "- Evaluation and Prediction. \n"
   ]
  },
  {
   "cell_type": "markdown",
   "metadata": {},
   "source": [
    "<div class=\"mark\">\n",
    "Development Platform\n",
    "===\n",
    "Computer Language and Libraries\n",
    "---\n",
    "[Python &ge;3.x, of course](https://www.python.org/)\n",
    "    - Series of the Python changed from 2 to 3 few years ago; to get more consistence and match with techniques development, Python 3 is our preferred choice.\n",
    "    - Now the recomendation is just go with Python 3.6.x.\n",
    "\n",
    "Libraries and Modules\n",
    "---\n",
    "+ [Numpy](http://www.numpy.org/) and [Scipy](http://www.scipy.org)\n",
    "    - Core libraries, which provide high performance numerical library particularly array and matrix oriented, and functions doing math computation;    \n",
    "+ [Matplotlib](https://matplotlib.org/)\n",
    "    - the grand daddy of Python Plotting libraries, many other libraries build on it to simplify and or stylize it\n",
    "+ [plotly](https://plot.ly):  It is rather a web-based toolbox for building visualizations, exposing APIs to some programming languages (Python among them). \n",
    "+ [ipywidgets](http://ipywidgets.readthedocs.io/en/latest/)\n",
    "+ [qgrid](https://github.com/quantopian/qgrid) &ge;0.3.3, \n",
    "+ [Sci-kit Learn](http://scikit-learn.org/stable/)\n",
    "    - A collection of libraries for almost all types of machine learning with consitant API's and supporting libraries \n",
    "\n",
    "+ [Pandas](http://pandas.pydata.org/), andas is a Python package designed to do work with “labeled” and “relational” data simple and intuitive. Pandas is a perfect tool for data wrangling. It designed for quick and easy data manipulation, aggregation, and visualization. There are two main data structures in the library:\n",
    "“Series” — one-dimensional data, “Data Frames”, two-dimensional data.\n",
    "    - Main data manipulation library, mostly using DataFrames (think Excel on steroids)\n",
    "    - Many IO capabilities GBQ, S-3, Parquet, SQL, CSV, JSON, And web data (stock prices and financial data)\n",
    "    - Built on top of Numpy  \n",
    "+ [TensorFlow](https://www.tensorflow.org/), The key feature of TensorFlow is their multi-layered nodes system that enables quick training of artificial neural networks on large datasets. This powers Google’s voice recognition and object identification from pictures.\n",
    "    - Google's open source numerical computing library\n",
    "    - on which they have built and released a large number of machine learning components\n",
    "    - along with a number of supporting components (I/O, encoding, serving etc)\n",
    "+ [Keras](https://keras.io/), It is an open-source library for building **Neural Networks** at a high-level of the interface, and it is written in Python. The general idea of Keras is based on layers, and everything else is built around them. Data is prepared in tensors, the first layer is responsible for input of tensors, the last layer is responsible for output, and the model is built in between.\n",
    "    - a simplified interface to many Machine learning libraries, also incorporated into TensorFlow\n",
    "    - supports Theano, Cntk, Pytorch (and more on the way)\n",
    "    + StatsModels (http://www.statsmodels.org/stable/index.html)(https://patsy.readthedocs.io/en/latest/)\n",
    "    - Many statistical techniques and the Patsy statistical language (much like R)\n",
    "+ [Statsmodels](http://www.statsmodels.org/), statsmodels is a library for Python that enables its users to conduct data exploration via the use of various methods of estimation of statistical models and performing statistical assertions and analysis. Among many useful features are descriptive and result statistics via the use of linear regression models, generalized linear models, discrete choice models, robust linear models, time series analysis models, various estimators.\n",
    "\n",
    "The library also provides extensive plotting functions that are designed specifically for the use in statistical analysis and tweaked for good performance with big data sets of statistical data.\n",
    "\n",
    "+ [PyMC3](https://pymc-devs.github.io/pymc3/index.html)\n",
    "    - Baysian Modeling library (in many ways comparable to Stan but newer)\n",
    "\n",
    "Install without pain\n",
    "---\n",
    "Pain gains from desires\n",
    "- [Anaconda](https://www.continuum.io/downloads): All of the above,(150+ libraries), (but except TensorFlow, Keras etc) and much more is auto installed for you using the Anaconda distribution including awesome browser-based GUI, navigator.\n",
    "\n",
    "Others\n",
    "---\n",
    "Anaconda brings the Python computing platform but  there are still plenty of libraries and modules not availed by it. Insteadly, we can install python packages, not come from Anaconda package, ```keras```, as follows:\n",
    "- pip: \n",
    "```\n",
    "shell> pip install keras\n",
    "```</div><i class=\"fa fa-lightbulb-o \"></i>"
   ]
  },
  {
   "cell_type": "markdown",
   "metadata": {},
   "source": [
    "- or download the source, compile, and install it manually by \n",
    "\n",
    "```shell\n",
    "shell> python setup.py install\n",
    "```"
   ]
  },
  {
   "cell_type": "markdown",
   "metadata": {},
   "source": [
    "\n",
    "Just it? Yes."
   ]
  },
  {
   "cell_type": "code",
   "execution_count": 1,
   "metadata": {},
   "outputs": [],
   "source": [
    "%load_ext watermark"
   ]
  },
  {
   "cell_type": "code",
   "execution_count": 2,
   "metadata": {},
   "outputs": [
    {
     "name": "stderr",
     "output_type": "stream",
     "text": [
      "Using TensorFlow backend.\n"
     ]
    },
    {
     "name": "stdout",
     "output_type": "stream",
     "text": [
      "diffusion \n",
      "last updated: Tue Nov 07 2017 06:57:20 CST\n",
      "\n",
      "CPython 3.6.1\n",
      "IPython 6.2.1\n",
      "\n",
      "numpy 1.13.3\n",
      "scipy 0.19.1\n",
      "matplotlib 2.1.0\n",
      "plotly 2.0.12\n",
      "qgrid 1.0.0b5\n",
      "sklearn 0.19.1\n",
      "tpot 0.8.3\n",
      "tensorflow 1.3.0\n",
      "keras 2.0.8\n",
      "statsmodels 0.8.0\n",
      "pandas 0.20.3\n",
      "pymc3 3.1\n",
      "bs4 4.6.0\n",
      "\n",
      "compiler   : GCC 4.2.1 Compatible Apple LLVM 6.0 (clang-600.0.57)\n",
      "system     : Darwin\n",
      "release    : 16.7.0\n",
      "machine    : x86_64\n",
      "processor  : i386\n",
      "CPU cores  : 8\n",
      "interpreter: 64bit\n",
      "Git hash   :\n"
     ]
    }
   ],
   "source": [
    "%watermark -a \"diffusion\" -u -n -t -z -v -m -p numpy,scipy,matplotlib,plotly,qgrid,sklearn,tpot,\\\n",
    "tensorflow,keras,statsmodels,pandas,pymc3,bs4 -g"
   ]
  },
  {
   "cell_type": "code",
   "execution_count": 1,
   "metadata": {
    "code_folding": []
   },
   "outputs": [],
   "source": [
    "from IPython.display import HTML,clear_output, display\n",
    "import glob, os\n",
    "import ipywidgets as widgets\n",
    "\n",
    "files=glob.glob(\"*ipynb\")\n",
    "def FileBrowse():\n",
    "    FileSel=widgets.Dropdown(\n",
    "       options=files,\n",
    "       value=files[0],\n",
    "       description='File:',\n",
    "    ) \n",
    "    S  = widgets.Box([widgets.Label(value='  ')],   layout=widgets.Layout(width='8%'))\n",
    "    button1=widgets.Button(description='Open',disabled=False,\n",
    "          button_style='',tooltip='Calculate',icon='check')\n",
    "    button1.style.button_color = '#f27318'\n",
    "    \n",
    "    def on_button_clicked(b): \n",
    "        FileName=FileSel.value\n",
    "        display(HTML('<div align=\"center\"><iframe src=%s width=\"90%%\", height=500></iframe></div>' %FileName))\n",
    "        clear_output(True)\n",
    "    button1.on_click(on_button_clicked)\n",
    "\n",
    "    return widgets.VBox(\n",
    "             [FileSel,\n",
    "              widgets.HBox([S,button1])\n",
    "             ])    "
   ]
  },
  {
   "cell_type": "code",
   "execution_count": 2,
   "metadata": {},
   "outputs": [
    {
     "data": {
      "application/vnd.jupyter.widget-view+json": {
       "model_id": "2176ecbde2a14b41a6a91aa318e0ce71",
       "version_major": 2,
       "version_minor": 0
      },
      "text/html": [
       "<p>Failed to display Jupyter Widget of type <code>VBox</code>.</p>\n",
       "<p>\n",
       "  If you're reading this message in the Jupyter Notebook or JupyterLab Notebook, it may mean\n",
       "  that the widgets JavaScript is still loading. If this message persists, it\n",
       "  likely means that the widgets JavaScript library is either not installed or\n",
       "  not enabled. See the <a href=\"https://ipywidgets.readthedocs.io/en/stable/user_install.html\">Jupyter\n",
       "  Widgets Documentation</a> for setup instructions.\n",
       "</p>\n",
       "<p>\n",
       "  If you're reading this message in another frontend (for example, a static\n",
       "  rendering on GitHub or <a href=\"https://nbviewer.jupyter.org/\">NBViewer</a>),\n",
       "  it may mean that your frontend doesn't currently support widgets.\n",
       "</p>\n"
      ],
      "text/plain": [
       "VBox(children=(Dropdown(description='File:', options=('Pima_XGBoost.ipynb', 'PlaidML_R.ipynb', 'JupyterServer.ipynb', 'MathBackground.ipynb', 'index-1.ipynb', 'Prelude.ipynb', 'index.ipynb', 'PlaidML_demo.ipynb'), value='Pima_XGBoost.ipynb'), HBox(children=(Box(children=(Label(value='  '),), layout=Layout(width='8%')), Button(description='Open', icon='check', style=ButtonStyle(button_color='#f27318'), tooltip='Calculate')))))"
      ]
     },
     "metadata": {},
     "output_type": "display_data"
    }
   ],
   "source": [
    "FileBrowse()"
   ]
  },
  {
   "cell_type": "markdown",
   "metadata": {},
   "source": [
    "<div class=\"girk\">\n",
    "Note\n",
    "---\n",
    "Anaconda can be installed **(a).** on USB stick such as I had created the USB-anaconda ( for Windowns clone and Apple Mac) or **(b).** Live Linux system as follows:</div><i class=\"fa fa-lightbulb-o \"></i>"
   ]
  },
  {
   "cell_type": "code",
   "execution_count": 1,
   "metadata": {},
   "outputs": [
    {
     "data": {
      "text/html": [
       "<div align=\"center\"><iframe src=jupyternb/jupyternb.html width=600, height=500></iframe></div>"
      ],
      "text/plain": [
       "<IPython.core.display.HTML object>"
      ]
     },
     "execution_count": 1,
     "metadata": {},
     "output_type": "execute_result"
    }
   ],
   "source": [
    "from IPython.display import HTML\n",
    "filename=\"jupyternb/jupyternb.html\"\n",
    "HTML('<div align=\"center\"><iframe src=%s width=600, height=500></iframe></div>' %filename)"
   ]
  },
  {
   "cell_type": "markdown",
   "metadata": {
    "collapsed": true
   },
   "source": [
    "Anaconda on Linux\n",
    "---\n",
    "To release the power of Hardware on ML, Linux, witout doulbe, is the best OS for us to utilize. To confirm this concept, We tried to  install and test the Anaconda on Live Linux system, <a href=\"porteus.org\">Porteus</a>. Almost without any problem, Python, Jupyter notebook works like as sharm except GPU for tensorflow (caused of the test device, Mac notebook Pro).\n",
    "\n",
    "<span class=\"girk\">If you have a box with high-end Nvidia GPU, we encourage to build up a high-performance Linux system with GPU-based tenforflow package!</span> "
   ]
  },
  {
   "cell_type": "code",
   "execution_count": null,
   "metadata": {
    "collapsed": true
   },
   "outputs": [],
   "source": []
  },
  {
   "cell_type": "markdown",
   "metadata": {},
   "source": [
    "Example\n",
    "===\n",
    "1. <a href=\"prepare/ransac.ipynb\">a master hand's first small display</a>\n",
    "- <a href=\"../scipy-2017-sklearn-master/notebooks\">sklearn tutorials in Scipy 2017</a>\n",
    "- <a href=\"Kaggle\">Kaggle Introduction</a>\n",
    "- <a href=\"vocapouch-research-master/books/Book%20Coverage.ipynb\">How many pages do you have to read to know 90% of words in the book</a>\n",
    "- <a href=\"\">Python incorporated with R in Jupyter notebook</a>\n",
    "- <a href=\"../Python_dataAnalytics_Mining/index.ipynb\">Python数据分析与挖掘实战, 張良均 等</a>, includes <a href=\"../Python_dataAnalytics_Mining/chapter5/demo/code\">apriori, Logitmodel, Decision Tree, Kmeans, GradientTrwwBoost, NN Introductions</a>\n",
    "- <a href=\"../Face_recognition/Images\">Machine Learning about Image Recognition</a>, Games of Throne.\n",
    "- <a href=\"../Kaggle\">Python Machine Learning and Kaggle</a>"
   ]
  },
  {
   "cell_type": "markdown",
   "metadata": {},
   "source": [
    "Background\n",
    "---\n",
    "1. Math\n",
    "  - <a href=\"../2016-datascience-labs-master/\">ML 1</a>\n",
    "  - <a href=\"../2016-datascience-labs-master\">ML 2 with labs</a>\n",
    "  - <a href=\"../data-science-ipython-notebooks-master/scikit-learn\">ML 2 with examples</a>: [kaggle Titanic](../data-science-ipython-notebooks-master/kaggle/titanic.ipynb), [RFC](../data-science-ipython-notebooks-master/scikit-learn/scikit-learn-random-forest.ipynb),...\n",
    "  - [Numeric Algebra](numerical-linear-algebra-master), CT Scan Recogition,\n",
    "  - [Math of ML, demos of pystan,...](../Qiita_Contents-master), [partial LSE](../2017/Qiita_Contents-master/Castella-book/Partial_Least_Square.ipynb), [Probability in Python](../2017 Qiita_Contents-master Math_cafe_stats), \n",
    "  - [deepshool io](../deepschool.io-master), Math descriptions for Algorithms, Tweeter Trump\n",
    "  - [Tensorflow Keras application](Tensorflow_keras_App) Titanic DNN Model\n",
    "- Statistics\n",
    "  - <a href=\"../stats_in_python_tutorial-master-2/introduction.ipynb\">Statistics</a>\n",
    "  - [Numeric Stat Course, Rochester Univ](../numerical_stats-master)\n",
    "  - [Introduction to Statistical Learning by Gareth James, Daniela Witten, Trevor Hastie and Robert Tibshirani](../Machine-Learning-Books-With-Python-master/Introduction%20to%20Statistical%20Learning/) sklearning tutorial, standfort University\n",
    "- what you had learned in your major   "
   ]
  },
  {
   "cell_type": "code",
   "execution_count": null,
   "metadata": {
    "collapsed": true
   },
   "outputs": [],
   "source": []
  },
  {
   "cell_type": "markdown",
   "metadata": {},
   "source": [
    "Memory_or_not\n",
    "---\n",
    "1. <a href=\"AnacondaCamp\">ShortCuts</a>\n",
    "- [Hands-on Machine Learning with Scikit-Learn and TensorFlow](handson-ml-master/index.ipynb)\n",
    "- [Keras Examples](MP21710_example/index.ipynb)\n",
    "- [NN for Sound](NN_Sound/dl4mir-master/)\n",
    "- [Polynomial Chaos: A technique for modeling uncertainty](prepare/pydata-berlin.ipynb)\n",
    "- [Introduction to RANSAC](prepare/ransac.ipynb)\n",
    "- [PyAF (Python Automatic Forecasting)](pyaf-master/demos/Untitled.ipynb)\n",
    "- [Python Data Science Handbook](PythonDataScienceHandbook-master/notebooks/index.ipynb)\n",
    "- [Grab and filter data for Condference](showcase-master/pydatabln2017_filter_and_overview.ipynb)\n",
    "- [catboost, Titanic case](../catboost)\n",
    "- [UCSD projects, 2017](../FinalProjects-master)\n",
    "- [Robot tracking, monte_calro_localization](../probrobo_practice-master)\n",
    "- [NN, Edwards and kera example](../random-effects-neural-networks-master), Bayesian Method\n",
    "- [Sutton Barto Book reinforce learning, race car](../suttonbarto-master)\n",
    "- [pymc3](../pymc3)\n",
    "- [Deep ML, Washington U. St.Louis](../t81_558_deep_learning-master), desciption by pictures\n",
    "- [[Aurélien Géron: Hands-On Machine Learning with Scikit-Learn and TensorFlow: Concepts, Tools, and Techniques for Building Intelligent Systems, 2017, Oreilly](handson-ml-master/index.ipynb), [PCA,LLA, SVD, t-SNE](../handson-ml-master/08_dimensionality_reduction.ipynb)\n",
    "- [Standforn CS20N1 Tensorflow class](../stanfordN201)\n",
    "- [Caffe,](../caffe-master) **ToDo**\n",
    "- [Boot Camp 2017 Tel Aviv](../Deep-Learning-Boot-Camp-master/index.ipynb)"
   ]
  },
  {
   "cell_type": "markdown",
   "metadata": {
    "collapsed": true
   },
   "source": [
    "Note\n",
    "---\n",
    "- 監督學習經典模型\n",
    "  - 分類學習.............. .................................................35 \n",
    "    - 線性分類器\n",
    "    - 支持向量機（分類）\n",
    "    - 樸素貝葉斯\n",
    "    -  K近鄰（分類）\n",
    "    - 決策樹\n",
    "    - 集成模型（分類）\n",
    "  - 回歸預測.. .................................................. ...........64 \n",
    "    - 線性回歸器\n",
    "    - 支持向量機（回歸）\n",
    "    -  K近鄰（回歸）\n",
    "    - 回歸樹\n",
    "    - 集成模型（回歸）\n",
    "- 無監督學習經典模型.............................................. .........81 \n",
    "  - 數據聚類.................................. ....................81 \n",
    "    - K均值算法\n",
    "  - 特徵降維................. ..............................................91 \n",
    "    - 主成分分析\n",
    "\n",
    "- 模型實用技巧............................ .................................98?  \n",
    "  - 特徵提升.......... .................................................. ...99 \n",
    "  -  模型正則化........................................ ....................111 \n",
    "  - 模型檢驗........................ ......................................121 \n",
    "  - 超參數搜索..... .................................................. .....122 \n",
    "- 流行庫/模型實踐...................................... ...................129 \n",
    "  - 自然語言處理包（NLTK）.................... ............................131 \n",
    "  - 詞向量（Word2Vec）技術............ ....................................133 \n",
    "  -  XGBoost模型........ .................................................. .138 \n",
    "  -  Tensorflow框架........................................... .............140 \n"
   ]
  },
  {
   "cell_type": "code",
   "execution_count": null,
   "metadata": {},
   "outputs": [],
   "source": []
  }
 ],
 "metadata": {
  "kernelspec": {
   "display_name": "Python 3",
   "language": "python",
   "name": "python3"
  },
  "language_info": {
   "codemirror_mode": {
    "name": "ipython",
    "version": 3
   },
   "file_extension": ".py",
   "mimetype": "text/x-python",
   "name": "python",
   "nbconvert_exporter": "python",
   "pygments_lexer": "ipython3",
   "version": "3.6.5"
  },
  "toc": {
   "colors": {
    "hover_highlight": "#DAA520",
    "navigate_num": "#000000",
    "navigate_text": "#333333",
    "running_highlight": "#FF0000",
    "selected_highlight": "#FFD700",
    "sidebar_border": "#EEEEEE",
    "wrapper_background": "#FFFFFF"
   },
   "moveMenuLeft": true,
   "nav_menu": {
    "height": "210px",
    "width": "252px"
   },
   "navigate_menu": true,
   "number_sections": true,
   "sideBar": true,
   "threshold": 4,
   "toc_cell": false,
   "toc_position": {
    "height": "605px",
    "left": "0px",
    "right": "20px",
    "top": "106px",
    "width": "277px"
   },
   "toc_section_display": "block",
   "toc_window_display": false,
   "widenNotebook": false
  }
 },
 "nbformat": 4,
 "nbformat_minor": 2
}
