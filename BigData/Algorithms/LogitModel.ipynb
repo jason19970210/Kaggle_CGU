{
 "cells": [
  {
   "cell_type": "code",
   "execution_count": 1,
   "metadata": {
    "collapsed": true
   },
   "outputs": [],
   "source": [
    "import pandas as pd\n",
    "import matplotlib.pyplot as plt\n",
    "\n",
    "from sklearn.linear_model import LogisticRegression as LR\n",
    "from sklearn.linear_model import RandomizedLogisticRegression as RLR \n",
    "\n",
    "%matplotlib inline"
   ]
  },
  {
   "cell_type": "code",
   "execution_count": 6,
   "metadata": {
    "collapsed": true
   },
   "outputs": [],
   "source": [
    "\n",
    "filename = '../data/bankloan.xls'\n",
    "df = pd.read_excel(filename)\n",
    "x = df.iloc[:,:8].as_matrix()\n",
    "y = df.iloc[:,8].as_matrix()\n"
   ]
  },
  {
   "cell_type": "code",
   "execution_count": 7,
   "metadata": {},
   "outputs": [
    {
     "data": {
      "text/html": [
       "<div>\n",
       "<style>\n",
       "    .dataframe thead tr:only-child th {\n",
       "        text-align: right;\n",
       "    }\n",
       "\n",
       "    .dataframe thead th {\n",
       "        text-align: left;\n",
       "    }\n",
       "\n",
       "    .dataframe tbody tr th {\n",
       "        vertical-align: top;\n",
       "    }\n",
       "</style>\n",
       "<table border=\"1\" class=\"dataframe\">\n",
       "  <thead>\n",
       "    <tr style=\"text-align: right;\">\n",
       "      <th></th>\n",
       "      <th>年龄</th>\n",
       "      <th>教育</th>\n",
       "      <th>工龄</th>\n",
       "      <th>地址</th>\n",
       "      <th>收入</th>\n",
       "      <th>负债率</th>\n",
       "      <th>信用卡负债</th>\n",
       "      <th>其他负债</th>\n",
       "      <th>违约</th>\n",
       "    </tr>\n",
       "  </thead>\n",
       "  <tbody>\n",
       "    <tr>\n",
       "      <th>0</th>\n",
       "      <td>41</td>\n",
       "      <td>3</td>\n",
       "      <td>17</td>\n",
       "      <td>12</td>\n",
       "      <td>176</td>\n",
       "      <td>9.3</td>\n",
       "      <td>11.359392</td>\n",
       "      <td>5.008608</td>\n",
       "      <td>1</td>\n",
       "    </tr>\n",
       "    <tr>\n",
       "      <th>1</th>\n",
       "      <td>27</td>\n",
       "      <td>1</td>\n",
       "      <td>10</td>\n",
       "      <td>6</td>\n",
       "      <td>31</td>\n",
       "      <td>17.3</td>\n",
       "      <td>1.362202</td>\n",
       "      <td>4.000798</td>\n",
       "      <td>0</td>\n",
       "    </tr>\n",
       "    <tr>\n",
       "      <th>2</th>\n",
       "      <td>40</td>\n",
       "      <td>1</td>\n",
       "      <td>15</td>\n",
       "      <td>14</td>\n",
       "      <td>55</td>\n",
       "      <td>5.5</td>\n",
       "      <td>0.856075</td>\n",
       "      <td>2.168925</td>\n",
       "      <td>0</td>\n",
       "    </tr>\n",
       "    <tr>\n",
       "      <th>3</th>\n",
       "      <td>41</td>\n",
       "      <td>1</td>\n",
       "      <td>15</td>\n",
       "      <td>14</td>\n",
       "      <td>120</td>\n",
       "      <td>2.9</td>\n",
       "      <td>2.658720</td>\n",
       "      <td>0.821280</td>\n",
       "      <td>0</td>\n",
       "    </tr>\n",
       "    <tr>\n",
       "      <th>4</th>\n",
       "      <td>24</td>\n",
       "      <td>2</td>\n",
       "      <td>2</td>\n",
       "      <td>0</td>\n",
       "      <td>28</td>\n",
       "      <td>17.3</td>\n",
       "      <td>1.787436</td>\n",
       "      <td>3.056564</td>\n",
       "      <td>1</td>\n",
       "    </tr>\n",
       "  </tbody>\n",
       "</table>\n",
       "</div>"
      ],
      "text/plain": [
       "   年龄  教育  工龄  地址   收入   负债率      信用卡负债      其他负债  违约\n",
       "0  41   3  17  12  176   9.3  11.359392  5.008608   1\n",
       "1  27   1  10   6   31  17.3   1.362202  4.000798   0\n",
       "2  40   1  15  14   55   5.5   0.856075  2.168925   0\n",
       "3  41   1  15  14  120   2.9   2.658720  0.821280   0\n",
       "4  24   2   2   0   28  17.3   1.787436  3.056564   1"
      ]
     },
     "execution_count": 7,
     "metadata": {},
     "output_type": "execute_result"
    }
   ],
   "source": [
    "df.head()"
   ]
  },
  {
   "cell_type": "code",
   "execution_count": 96,
   "metadata": {},
   "outputs": [
    {
     "data": {
      "text/plain": [
       "Index(['工龄', '地址'], dtype='object')"
      ]
     },
     "execution_count": 96,
     "metadata": {},
     "output_type": "execute_result"
    }
   ],
   "source": [
    "df.columns[[2,3]]"
   ]
  },
  {
   "cell_type": "markdown",
   "metadata": {},
   "source": [
    "Question\n",
    "---\n",
    "which feauture(s) could affect actually violation? (binary regression, 0 and1)"
   ]
  },
  {
   "cell_type": "code",
   "execution_count": 77,
   "metadata": {},
   "outputs": [
    {
     "data": {
      "text/plain": [
       "RandomizedLogisticRegression(C=1, fit_intercept=True,\n",
       "               memory=Memory(cachedir=None), n_jobs=1, n_resampling=200,\n",
       "               normalize=True, pre_dispatch='3*n_jobs', random_state=None,\n",
       "               sample_fraction=0.75, scaling=0.5, selection_threshold=0.25,\n",
       "               tol=0.001, verbose=False)"
      ]
     },
     "execution_count": 77,
     "metadata": {},
     "output_type": "execute_result"
    }
   ],
   "source": [
    "rlr = RLR() \n",
    "rlr.fit(x, y) "
   ]
  },
  {
   "cell_type": "code",
   "execution_count": 81,
   "metadata": {},
   "outputs": [
    {
     "data": {
      "text/plain": [
       "array([2, 3, 5, 6])"
      ]
     },
     "execution_count": 81,
     "metadata": {},
     "output_type": "execute_result"
    }
   ],
   "source": [
    "rlr.get_support(indices=True)"
   ]
  },
  {
   "cell_type": "code",
   "execution_count": 111,
   "metadata": {
    "collapsed": true
   },
   "outputs": [],
   "source": [
    "import numpy as np\n",
    "cols=[]\n",
    "for i in rlr.get_support(indices=True): cols=np.append(cols,df.columns[i])"
   ]
  },
  {
   "cell_type": "code",
   "execution_count": 123,
   "metadata": {},
   "outputs": [
    {
     "name": "stdout",
     "output_type": "stream",
     "text": [
      "Logistic model\n",
      "---\n",
      "sufficiebt Features:  ['工龄' '地址' '负债率' '信用卡负债']\n"
     ]
    }
   ],
   "source": [
    "print('Logistic model\\n---')\n",
    "print(\"sufficiebt Features: \",cols)"
   ]
  },
  {
   "cell_type": "code",
   "execution_count": 169,
   "metadata": {},
   "outputs": [
    {
     "name": "stdout",
     "output_type": "stream",
     "text": [
      "Validated Classifiers 工龄,地址,负债率,信用卡负债\n"
     ]
    }
   ],
   "source": [
    "print('Validated Classifiers %s' % ','.join(df.columns[:8][rlr.get_support()]))"
   ]
  },
  {
   "cell_type": "code",
   "execution_count": 138,
   "metadata": {},
   "outputs": [
    {
     "data": {
      "text/html": [
       "<div>\n",
       "<style>\n",
       "    .dataframe thead tr:only-child th {\n",
       "        text-align: right;\n",
       "    }\n",
       "\n",
       "    .dataframe thead th {\n",
       "        text-align: left;\n",
       "    }\n",
       "\n",
       "    .dataframe tbody tr th {\n",
       "        vertical-align: top;\n",
       "    }\n",
       "</style>\n",
       "<table border=\"1\" class=\"dataframe\">\n",
       "  <thead>\n",
       "    <tr style=\"text-align: right;\">\n",
       "      <th></th>\n",
       "      <th>工龄</th>\n",
       "      <th>地址</th>\n",
       "      <th>负债率</th>\n",
       "      <th>信用卡负债</th>\n",
       "    </tr>\n",
       "  </thead>\n",
       "  <tbody>\n",
       "    <tr>\n",
       "      <th>0</th>\n",
       "      <td>17</td>\n",
       "      <td>12</td>\n",
       "      <td>9.3</td>\n",
       "      <td>11.359392</td>\n",
       "    </tr>\n",
       "    <tr>\n",
       "      <th>1</th>\n",
       "      <td>10</td>\n",
       "      <td>6</td>\n",
       "      <td>17.3</td>\n",
       "      <td>1.362202</td>\n",
       "    </tr>\n",
       "    <tr>\n",
       "      <th>2</th>\n",
       "      <td>15</td>\n",
       "      <td>14</td>\n",
       "      <td>5.5</td>\n",
       "      <td>0.856075</td>\n",
       "    </tr>\n",
       "    <tr>\n",
       "      <th>3</th>\n",
       "      <td>15</td>\n",
       "      <td>14</td>\n",
       "      <td>2.9</td>\n",
       "      <td>2.658720</td>\n",
       "    </tr>\n",
       "    <tr>\n",
       "      <th>4</th>\n",
       "      <td>2</td>\n",
       "      <td>0</td>\n",
       "      <td>17.3</td>\n",
       "      <td>1.787436</td>\n",
       "    </tr>\n",
       "  </tbody>\n",
       "</table>\n",
       "</div>"
      ],
      "text/plain": [
       "   工龄  地址   负债率      信用卡负债\n",
       "0  17  12   9.3  11.359392\n",
       "1  10   6  17.3   1.362202\n",
       "2  15  14   5.5   0.856075\n",
       "3  15  14   2.9   2.658720\n",
       "4   2   0  17.3   1.787436"
      ]
     },
     "execution_count": 138,
     "metadata": {},
     "output_type": "execute_result"
    }
   ],
   "source": [
    "df[cols][:5]"
   ]
  },
  {
   "cell_type": "code",
   "execution_count": 125,
   "metadata": {
    "collapsed": true
   },
   "outputs": [],
   "source": [
    "# x = df[data.columns[:8][rlr.get_support()]].as_matrix() \n",
    "x=df[cols]"
   ]
  },
  {
   "cell_type": "code",
   "execution_count": 129,
   "metadata": {},
   "outputs": [
    {
     "name": "stdout",
     "output_type": "stream",
     "text": [
      "Logistic Regression Model\n",
      "---\n",
      "Mean Accuarcy of model：0.8143 \n"
     ]
    }
   ],
   "source": [
    "lr = LR() #建立逻辑货柜模型\n",
    "lr.fit(x, y) #用筛选后的特征数据来训练模型\n",
    "print('Logistic Regression Model\\n---')\n",
    "print('Mean Accuarcy of model：%.4f ' % lr.score(x, y)) #给出模型的平均正确率，本例为81.4%"
   ]
  },
  {
   "cell_type": "code",
   "execution_count": 317,
   "metadata": {
    "collapsed": true
   },
   "outputs": [],
   "source": [
    "x_lr=lr.predict(x.values)"
   ]
  },
  {
   "cell_type": "code",
   "execution_count": 325,
   "metadata": {},
   "outputs": [
    {
     "data": {
      "text/plain": [
       "array([1, 0, 0, 0, 1, 0, 0, 0, 1, 1, 0, 0, 0, 0, 0, 0, 0, 0, 0, 0, 0, 0, 0,\n",
       "       0, 1, 1, 0, 0, 0, 1, 0, 0, 0, 0, 0, 1, 0, 0, 1, 0, 0, 0, 0, 0, 1, 0,\n",
       "       0, 0, 1, 0, 0, 0, 0, 0, 0, 1, 0, 0, 0, 0, 0, 0, 0, 0, 0, 1, 0, 0, 0,\n",
       "       1, 1, 1, 0, 1, 0, 0, 0, 0, 0, 0, 1, 0, 1, 0, 0, 0, 1, 0, 0, 1, 0, 0,\n",
       "       0, 0, 1, 0, 0, 0, 0, 0, 0, 0, 0, 0, 1, 0, 0, 0, 0, 0, 0, 0, 1, 0, 0,\n",
       "       0, 0, 0, 1, 0, 0, 0, 1, 1, 0, 0, 0, 0, 0, 0, 0, 0, 0, 0, 0, 0, 1, 0,\n",
       "       0, 0, 1, 0, 0, 0, 0, 0, 1, 0, 0, 0, 0, 0, 0, 0, 1, 0, 0, 0, 0, 0, 0,\n",
       "       0, 0, 0, 0, 1, 1, 0, 0, 0, 0, 0, 0, 0, 0, 0, 1, 0, 0, 1, 0, 0, 0, 0,\n",
       "       1, 0, 0, 1, 0, 0, 0, 0, 0, 0, 0, 0, 0, 0, 0, 1, 0, 0, 0, 0, 0, 0, 0,\n",
       "       0, 0, 0, 0, 0, 0, 0, 0, 0, 0, 0, 0, 1, 0, 0, 0, 1, 1, 0, 0, 0, 0, 0,\n",
       "       0, 0, 0, 0, 0, 0, 0, 0, 0, 0, 0, 0, 0, 0, 1, 0, 0, 0, 0, 0, 0, 0, 0,\n",
       "       0, 0, 0, 0, 0, 0, 0, 0, 0, 0, 0, 0, 0, 0, 0, 0, 0, 0, 0, 0, 0, 0, 1,\n",
       "       1, 0, 0, 0, 0, 1, 0, 0, 0, 0, 0, 1, 0, 0, 0, 0, 0, 0, 0, 0, 0, 1, 0,\n",
       "       0, 1, 0, 0, 0, 0, 0, 0, 0, 0, 0, 1, 0, 1, 0, 1, 0, 0, 0, 0, 0, 0, 0,\n",
       "       0, 0, 0, 1, 0, 0, 0, 0, 0, 0, 0, 1, 0, 0, 0, 0, 1, 0, 0, 0, 0, 1, 0,\n",
       "       1, 0, 0, 0, 0, 0, 1, 0, 0, 0, 0, 1, 1, 0, 1, 0, 0, 0, 0, 0, 0, 0, 0,\n",
       "       0, 0, 0, 0, 0, 1, 0, 0, 0, 0, 0, 0, 0, 1, 1, 0, 0, 1, 0, 0, 0, 0, 0,\n",
       "       0, 0, 1, 1, 0, 0, 0, 1, 0, 0, 0, 0, 1, 0, 0, 0, 0, 0, 0, 0, 0, 0, 1,\n",
       "       1, 0, 0, 0, 1, 0, 0, 0, 0, 0, 1, 0, 0, 0, 0, 0, 1, 0, 0, 1, 1, 0, 0,\n",
       "       0, 0, 0, 0, 0, 0, 1, 1, 0, 0, 0, 1, 1, 0, 0, 0, 0, 1, 0, 0, 0, 0, 0,\n",
       "       0, 1, 0, 0, 1, 1, 1, 0, 0, 0, 0, 0, 0, 0, 0, 0, 0, 0, 0, 0, 0, 0, 0,\n",
       "       0, 0, 0, 0, 1, 1, 0, 0, 0, 1, 0, 1, 0, 0, 0, 1, 1, 1, 1, 0, 0, 1, 1,\n",
       "       0, 0, 1, 0, 1, 0, 0, 0, 0, 0, 0, 0, 0, 0, 0, 0, 0, 0, 0, 0, 0, 0, 0,\n",
       "       1, 0, 1, 0, 0, 0, 0, 0, 0, 0, 1, 0, 0, 0, 1, 0, 0, 0, 0, 0, 1, 0, 1,\n",
       "       1, 0, 0, 0, 0, 0, 0, 0, 0, 0, 0, 0, 1, 0, 0, 0, 1, 0, 1, 0, 0, 0, 1,\n",
       "       1, 0, 0, 0, 0, 0, 0, 0, 1, 1, 0, 0, 0, 0, 0, 1, 1, 0, 0, 1, 0, 0, 1,\n",
       "       0, 1, 0, 0, 0, 0, 1, 0, 1, 0, 0, 0, 0, 0, 0, 0, 0, 0, 0, 0, 0, 1, 0,\n",
       "       0, 0, 0, 0, 0, 0, 0, 1, 1, 0, 0, 1, 1, 0, 0, 1, 1, 0, 0, 0, 0, 0, 0,\n",
       "       0, 1, 0, 0, 0, 1, 0, 0, 0, 0, 0, 0, 0, 0, 0, 0, 0, 0, 0, 0, 0, 0, 0,\n",
       "       0, 0, 0, 0, 1, 0, 1, 0, 0, 0, 0, 0, 0, 1, 0, 0, 0, 0, 0, 0, 0, 0, 0,\n",
       "       0, 0, 1, 0, 1, 0, 0, 0, 0, 0])"
      ]
     },
     "execution_count": 325,
     "metadata": {},
     "output_type": "execute_result"
    }
   ],
   "source": [
    "x_lr"
   ]
  },
  {
   "cell_type": "code",
   "execution_count": 333,
   "metadata": {},
   "outputs": [
    {
     "data": {
      "text/plain": [
       "0.074285714285714288"
      ]
     },
     "execution_count": 333,
     "metadata": {},
     "output_type": "execute_result"
    }
   ],
   "source": [
    "sum(y-x_lm)/len(y)"
   ]
  },
  {
   "cell_type": "markdown",
   "metadata": {},
   "source": [
    "Goodness-of-fit\n",
    "---"
   ]
  },
  {
   "cell_type": "code",
   "execution_count": 340,
   "metadata": {
    "collapsed": true
   },
   "outputs": [],
   "source": [
    "def cm_plot(y, yp):\n",
    "  \n",
    "  from sklearn.metrics import confusion_matrix \n",
    "\n",
    "  cm = confusion_matrix(y, yp) \n",
    "  print(cm)\n",
    "  import matplotlib.pyplot as plt \n",
    "  plt.matshow(cm, cmap=plt.cm.Reds) \n",
    "  plt.colorbar() \n",
    "  \n",
    "  for x in range(len(cm)): \n",
    "    for y in range(len(cm)):\n",
    "      plt.annotate(cm[x,y], xy=(x, y), color=\"blue\",horizontalalignment='center', verticalalignment='center')\n",
    "  \n",
    "  plt.ylabel('True label') \n",
    "  plt.xlabel('Predicted label') \n",
    "  #plt.title(\"%s\" %)\n",
    "  return plt"
   ]
  },
  {
   "cell_type": "code",
   "execution_count": 341,
   "metadata": {},
   "outputs": [
    {
     "name": "stdout",
     "output_type": "stream",
     "text": [
      "[[478  39]\n",
      " [ 91  92]]\n"
     ]
    },
    {
     "data": {
      "text/plain": [
       "<module 'matplotlib.pyplot' from '/Users/cch/anaconda36/anaconda/lib/python3.6/site-packages/matplotlib/pyplot.py'>"
      ]
     },
     "execution_count": 341,
     "metadata": {},
     "output_type": "execute_result"
    },
    {
     "data": {
      "image/png": "[encoded data removed]",
      "text/plain": [
       "<matplotlib.figure.Figure at 0x139c889e8>"
      ]
     },
     "metadata": {},
     "output_type": "display_data"
    }
   ],
   "source": [
    "cm_plot(y,x_lm)"
   ]
  },
  {
   "cell_type": "code",
   "execution_count": null,
   "metadata": {
    "collapsed": true
   },
   "outputs": [],
   "source": []
  },
  {
   "cell_type": "code",
   "execution_count": 255,
   "metadata": {},
   "outputs": [
    {
     "data": {
      "text/plain": [
       "['/Library/Fonts/STIXIntUpReg.otf',\n",
       " '/Users/cch/Library/Fonts/LSTKClaBol.otf',\n",
       " '/Users/cch/Library/Fonts/SourceHanSansTWHK-Light.otf',\n",
       " '/Library/Fonts/STIXNonUniIta.otf',\n",
       " '/Library/Fonts/STIXGeneral.otf',\n",
       " '/Users/cch/Library/Fonts/SourceHanSansTWHK-Medium.otf',\n",
       " '/System/Library/Fonts/SFNSTextItalic.ttf',\n",
       " '/Users/cch/Library/Fonts/SourceHanSansTWHK-ExtraLight.otf',\n",
       " '/Library/Fonts/Trebuchet MS Bold Italic.ttf',\n",
       " '/Users/cch/Library/Fonts/SourceHanSansTWHK-Normal.otf',\n",
       " '/Library/Fonts/Tahoma Bold.ttf',\n",
       " '/System/Library/Fonts/Apple Braille Pinpoint 6 Dot.ttf',\n",
       " '/Library/Fonts/Brush Script.ttf',\n",
       " '/Users/cch/Library/Fonts/BOD_BLAI.TTF',\n",
       " '/Library/Fonts/STIXIntUpSmReg.otf',\n",
       " '/Users/cch/Library/Fonts/SourceHanSansTWHK-Bold.otf',\n",
       " '/Users/cch/Library/Fonts/segoeui.ttf',\n",
       " '/Library/Fonts/Zapfino.ttf',\n",
       " '/System/Library/Fonts/SFCompactRounded-Heavy.otf',\n",
       " '/Users/cch/Library/Fonts/Drugs.otf',\n",
       " '/Users/cch/Library/Fonts/SHLOP.TTF',\n",
       " '/usr/X11/lib/X11/fonts/TTF/luxirr.ttf',\n",
       " '/Library/Fonts/Skia.ttf',\n",
       " '/Library/Fonts/Courier New Bold.ttf',\n",
       " '/Library/Fonts/STIXVarBol.otf',\n",
       " '/Users/cch/Library/Fonts/Segoe Script.ttf',\n",
       " '/Library/Fonts/STIXGeneralItalic.otf',\n",
       " '/Users/cch/Library/Fonts/segoescb.ttf',\n",
       " '/Library/Fonts/STIXSizFourSymReg.otf',\n",
       " '/Users/cch/Library/Fonts/Bebas Neue.ttf',\n",
       " '/Library/Fonts/STIXNonUni.otf',\n",
       " '/Users/cch/Library/Fonts/bloody.ttf',\n",
       " '/usr/X11/lib/X11/fonts/OTF/SyrCOMNisibinOutline.otf',\n",
       " '/usr/X11/lib/X11/fonts/TTF/VeraMoBd.ttf',\n",
       " '/Library/Fonts/Arial Narrow Italic.ttf',\n",
       " '/Library/Fonts/Impact.ttf',\n",
       " '/Library/Fonts/Verdana Italic.ttf',\n",
       " '/Library/Fonts/Arial Narrow Bold Italic.ttf',\n",
       " '/Library/Fonts/DIN Alternate Bold.ttf',\n",
       " '/usr/X11/lib/X11/fonts/OTF/SyrCOMKharput.otf',\n",
       " '/usr/X11/lib/X11/fonts/OTF/SyrCOMTalada.otf',\n",
       " '/Users/cch/Library/Fonts/AveriaSansLibre-LightItalic.ttf',\n",
       " '/usr/X11/lib/X11/fonts/TTF/luxirbi.ttf',\n",
       " '/System/Library/Fonts/Apple Symbols.ttf',\n",
       " '/Users/cch/Library/Fonts/BEBASNEUE BOLD.TTF',\n",
       " '/System/Library/Fonts/SFNSTextCondensed-Semibold.otf',\n",
       " '/Users/cch/Library/Fonts/BELL.TTF',\n",
       " '/Users/cch/Library/Fonts/SourceHanSansTWHK-Regular.otf',\n",
       " '/Library/Fonts/Times New Roman Italic.ttf',\n",
       " '/Library/Fonts/Andale Mono.ttf',\n",
       " '/Library/Fonts/STIXIntUpBol.otf',\n",
       " '/System/Library/Fonts/SFCompactDisplay-Medium.otf',\n",
       " '/Users/cch/Library/Fonts/eager___.ttf',\n",
       " '/Users/cch/Library/Fonts/augie.ttf',\n",
       " '/Users/cch/Library/Fonts/SourceHanSansJP-Normal.otf',\n",
       " '/Users/cch/Library/Fonts/AveriaSansLibre-Italic.ttf',\n",
       " '/Users/cch/Library/Fonts/BLOODRAC.TTF',\n",
       " '/Users/cch/Library/Fonts/Monsters Attack!.ttf',\n",
       " '/Users/cch/Library/Fonts/AlegreyaSansSC-Medium.ttf',\n",
       " '/Library/Fonts/Mishafi.ttf',\n",
       " '/Library/Fonts/BigCaslon.ttf',\n",
       " '/Library/Fonts/STIXIntUpSmBol.otf',\n",
       " '/Users/cch/Library/Fonts/Dense-Regular.otf',\n",
       " '/Users/cch/Library/Fonts/segoeuil.ttf',\n",
       " '/Users/cch/Library/Fonts/AlegreyaSansSC-Thin.ttf',\n",
       " '/Users/cch/Library/Fonts/AlegreyaSansSC-ThinItalic.ttf',\n",
       " '/Users/cch/Library/Fonts/SCRIPTBL.TTF',\n",
       " '/Users/cch/Library/Fonts/seguibl.ttf',\n",
       " '/Users/cch/Library/Fonts/fireflysung.ttf',\n",
       " '/Library/Fonts/STIXSizOneSymBol.otf',\n",
       " '/Users/cch/Library/Fonts/segoeuisl.ttf',\n",
       " '/usr/X11/lib/X11/fonts/TTF/VeraSe.ttf',\n",
       " '/Library/Fonts/Arial Bold.ttf',\n",
       " '/System/Library/Fonts/SFNSTextCondensed-Heavy.otf',\n",
       " '/Users/cch/Library/Fonts/seguibli.ttf',\n",
       " '/usr/X11/lib/X11/fonts/OTF/SyrCOMBatnanBold.otf',\n",
       " '/usr/X11/lib/X11/fonts/OTF/SyrCOMNisibin.otf',\n",
       " '/usr/X11/lib/X11/fonts/TTF/luxirri.ttf',\n",
       " '/Library/Fonts/STIXSizThreeSymReg.otf',\n",
       " '/System/Library/Fonts/SFCompactText-Regular.otf',\n",
       " '/Library/Fonts/Verdana.ttf',\n",
       " '/Users/cch/Library/Fonts/BOD_CI.TTF',\n",
       " '/Users/cch/Library/Fonts/segoesc.ttf',\n",
       " '/Users/cch/Library/Fonts/SourceHanSans-Medium.ttf',\n",
       " '/Users/cch/Library/Fonts/Tempus Sans ITC.TTF',\n",
       " '/Users/cch/Library/Fonts/Amatic-Bold.ttf',\n",
       " '/Users/cch/Library/Fonts/TYPOUPRN.TTF',\n",
       " '/Users/cch/Library/Fonts/Allura-Regular.ttf',\n",
       " '/usr/X11/lib/X11/fonts/TTF/luxisr.ttf',\n",
       " '/Users/cch/Library/Fonts/BOD_R.TTF',\n",
       " '/Library/Fonts/Ayuthaya.ttf',\n",
       " '/Library/Fonts/Courier New Italic.ttf',\n",
       " '/System/Library/Fonts/SFNSDisplayCondensed-Ultralight.otf',\n",
       " '/Library/Fonts/Bodoni Ornaments.ttf',\n",
       " '/System/Library/Fonts/SFNSTextCondensed-Bold.otf',\n",
       " '/System/Library/Fonts/SFCompactRounded-Medium.otf',\n",
       " '/Users/cch/Library/Fonts/seguili.ttf',\n",
       " '/System/Library/Fonts/SFNSTextCondensed-Light.otf',\n",
       " '/Users/cch/Library/Fonts/SourceHanSansJP-Bold.otf',\n",
       " '/Users/cch/Library/Fonts/Miama.ttf',\n",
       " '/Users/cch/Library/Fonts/AlegreyaSansSC-Light.ttf',\n",
       " '/Users/cch/Library/Fonts/kilsonburg.ttf',\n",
       " '/System/Library/Fonts/SFCompactRounded-Light.otf',\n",
       " '/Users/cch/Library/Fonts/AlegreyaSansSC-Regular.ttf',\n",
       " '/Library/Fonts/Bodoni 72 Smallcaps Book.ttf',\n",
       " '/System/Library/Fonts/SFCompactDisplay-Thin.otf',\n",
       " '/Users/cch/Library/Fonts/BELLB.TTF',\n",
       " '/System/Library/Fonts/SFCompactDisplay-Heavy.otf',\n",
       " '/Library/Fonts/Verdana Bold.ttf',\n",
       " '/usr/X11/lib/X11/fonts/TTF/luxisb.ttf',\n",
       " '/usr/X11/lib/X11/fonts/OTF/SyrCOMAntioch.otf',\n",
       " '/Library/Fonts/Courier New.ttf',\n",
       " '/Users/cch/Library/Fonts/Vladimir Script.TTF',\n",
       " '/Library/Fonts/InaiMathi.ttf',\n",
       " '/Library/Fonts/STIXNonUniBol.otf',\n",
       " '/Users/cch/Library/Fonts/seguisb.ttf',\n",
       " '/Users/cch/Library/Fonts/TektonPro-Bold.otf',\n",
       " '/Users/cch/Library/Fonts/seguisym.ttf',\n",
       " '/System/Library/Fonts/SFCompactRounded-Thin.otf',\n",
       " '/System/Library/Fonts/Symbol.ttf',\n",
       " '/System/Library/Fonts/SFCompactText-HeavyItalic.otf',\n",
       " '/Users/cch/Library/Fonts/TektonPro-BoldCond.otf',\n",
       " '/Users/cch/Library/Fonts/BOD_BLAR.TTF',\n",
       " '/System/Library/Fonts/SFCompactText-MediumItalic.otf',\n",
       " '/Users/cch/Library/Fonts/segoeuib.ttf',\n",
       " '/Users/cch/Library/Fonts/BOD_I.TTF',\n",
       " '/Library/Fonts/Luminari.ttf',\n",
       " '/Library/Fonts/Wingdings 3.ttf',\n",
       " '/usr/X11/lib/X11/fonts/TTF/GohaTibebZemen.ttf',\n",
       " '/Users/cch/Library/Fonts/GhoulFriAOE.ttf',\n",
       " '/Users/cch/Library/Fonts/AveriaSansLibre-BoldItalic.ttf',\n",
       " '/Users/cch/Library/Fonts/ITCEDSCR.TTF',\n",
       " '/usr/X11/lib/X11/fonts/OTF/SyrCOMJerusalemBold.otf',\n",
       " '/System/Library/Fonts/SFCompactText-LightItalic.otf',\n",
       " '/usr/X11/lib/X11/fonts/TTF/luximri.ttf',\n",
       " '/Library/Fonts/Arial.ttf',\n",
       " '/Users/cch/Library/Fonts/Nexa Bold.otf',\n",
       " '/usr/X11/lib/X11/fonts/TTF/luximbi.ttf',\n",
       " '/Library/Fonts/Farisi.ttf',\n",
       " '/System/Library/Fonts/Apple Braille.ttf',\n",
       " '/usr/X11/lib/X11/fonts/TTF/VeraMono.ttf',\n",
       " '/System/Library/Fonts/SFCompactText-Semibold.otf',\n",
       " '/Library/Fonts/PlantagenetCherokee.ttf',\n",
       " '/Library/Fonts/Comic Sans MS.ttf',\n",
       " '/System/Library/Fonts/SFCompactText-RegularItalic.otf',\n",
       " '/Users/cch/Library/Fonts/DeFonarts Bold.otf',\n",
       " '/Library/Fonts/STIXSizOneSymReg.otf',\n",
       " '/Users/cch/Library/Fonts/odokai.ttf',\n",
       " '/usr/X11/lib/X11/fonts/OTF/SyrCOMJerusalem.otf',\n",
       " '/usr/X11/lib/X11/fonts/OTF/SyrCOMJerusalemOutline.otf',\n",
       " '/Users/cch/Library/Fonts/Walking Dead Kansas.ttf',\n",
       " '/Library/Fonts/STIXIntDBol.otf',\n",
       " '/System/Library/Fonts/SFNSDisplayCondensed-Black.otf',\n",
       " '/usr/X11/lib/X11/fonts/TTF/luxisri.ttf',\n",
       " '/usr/X11/lib/X11/fonts/OTF/SyrCOMMardin.otf',\n",
       " '/Library/Fonts/AppleMyungjo.ttf',\n",
       " '/Library/Fonts/Wingdings 2.ttf',\n",
       " '/System/Library/Fonts/SFNSDisplayCondensed-Light.otf',\n",
       " '/Users/cch/Library/Fonts/segoepr.ttf',\n",
       " '/Users/cch/Library/Fonts/AveriaSansLibre-Light.ttf',\n",
       " '/Users/cch/Library/Fonts/chinese.ttf',\n",
       " '/Users/cch/Library/Fonts/segoeuiz.ttf',\n",
       " '/System/Library/Fonts/SFCompactDisplay-Light.otf',\n",
       " '/Users/cch/Library/Fonts/CevicheOne-Regular.ttf',\n",
       " '/usr/X11/lib/X11/fonts/OTF/SyrCOMMidyat.otf',\n",
       " '/usr/X11/lib/X11/fonts/TTF/Vera.ttf',\n",
       " '/usr/X11/lib/X11/fonts/OTF/SyrCOMQenNeshrin.otf',\n",
       " '/System/Library/Fonts/Apple Braille Outline 6 Dot.ttf',\n",
       " '/Users/cch/Library/Fonts/AveriaSansLibre-Bold.ttf',\n",
       " '/usr/X11/lib/X11/fonts/OTF/GohaTibebZemen.otf',\n",
       " '/Library/Fonts/Comic Sans MS Bold.ttf',\n",
       " '/Library/Fonts/Arial Rounded Bold.ttf',\n",
       " '/System/Library/Fonts/SFCompactDisplay-Bold.otf',\n",
       " '/System/Library/Fonts/SFCompactDisplay-Semibold.otf',\n",
       " '/Users/cch/Library/Fonts/seguisbi.ttf',\n",
       " '/Users/cch/Library/Fonts/SourceHanSansJP-ExtraLight.otf',\n",
       " '/Library/Fonts/Krungthep.ttf',\n",
       " '/usr/X11/lib/X11/fonts/TTF/VeraMoIt.ttf',\n",
       " '/System/Library/Fonts/SFCompactText-Heavy.otf',\n",
       " '/Users/cch/Library/Fonts/Uni_acc.ttf',\n",
       " '/Library/Fonts/Courier New Bold Italic.ttf',\n",
       " '/Library/Fonts/Lao Sangam MN.ttf',\n",
       " '/Users/cch/Library/Fonts/AveriaSans-Regular.ttf',\n",
       " '/Library/Fonts/STIXSizTwoSymBol.otf',\n",
       " '/System/Library/Fonts/ZapfDingbats.ttf',\n",
       " '/Users/cch/Library/Fonts/BOD_BI.TTF',\n",
       " '/System/Library/Fonts/Keyboard.ttf',\n",
       " '/System/Library/Fonts/Apple Braille Outline 8 Dot.ttf',\n",
       " '/Library/Fonts/Webdings.ttf',\n",
       " '/Library/Fonts/Hoefler Text Ornaments.ttf',\n",
       " '/Library/Fonts/Trebuchet MS.ttf',\n",
       " '/usr/X11/lib/X11/fonts/TTF/luxisbi.ttf',\n",
       " '/Library/Fonts/Diwan Thuluth.ttf',\n",
       " '/System/Library/Fonts/SFCompactText-Bold.otf',\n",
       " '/Library/Fonts/STIXIntSmReg.otf',\n",
       " '/System/Library/Fonts/SFCompactText-Medium.otf',\n",
       " '/System/Library/Fonts/SFNSDisplayCondensed-Semibold.otf',\n",
       " '/Users/cch/Library/Fonts/seguisli.ttf',\n",
       " '/Users/cch/Library/Fonts/SourceHanSansTWHK-Heavy.otf',\n",
       " '/System/Library/Fonts/SFNSDisplayCondensed-Medium.otf',\n",
       " '/Library/Fonts/STIXSizThreeSymBol.otf',\n",
       " '/System/Library/Fonts/SFNSDisplayCondensed-Regular.otf',\n",
       " '/Library/Fonts/Arial Bold Italic.ttf',\n",
       " '/Library/Fonts/Microsoft Sans Serif.ttf',\n",
       " '/Library/Fonts/Times New Roman Bold.ttf',\n",
       " '/Library/Fonts/Mishafi Gold.ttf',\n",
       " '/System/Library/Fonts/SFCompactDisplay-Black.otf',\n",
       " '/System/Library/Fonts/SFCompactText-Light.otf',\n",
       " '/usr/X11/lib/X11/fonts/TTF/luxirb.ttf',\n",
       " '/Library/Fonts/Verdana Bold Italic.ttf',\n",
       " '/System/Library/Fonts/SFNSText.ttf',\n",
       " '/Library/Fonts/Arial Narrow Bold.ttf',\n",
       " '/System/Library/Fonts/SFNSTextCondensed-Medium.otf',\n",
       " '/Users/cch/Library/Fonts/Bacon.otf',\n",
       " '/Users/cch/Library/Fonts/Blair Witch Caps.TTF',\n",
       " '/Users/cch/Library/Fonts/BOD_B.TTF',\n",
       " '/Library/Fonts/Gurmukhi.ttf',\n",
       " '/Users/cch/Library/Fonts/RitaSmith.ttf',\n",
       " '/Library/Fonts/Sathu.ttf',\n",
       " '/Users/cch/Library/Fonts/FrederickatheGreat-Regular.ttf',\n",
       " '/usr/X11/lib/X11/fonts/TTF/luximr.ttf',\n",
       " '/Library/Fonts/Kokonor.ttf',\n",
       " '/Library/Fonts/STIXGeneralBolIta.otf',\n",
       " '/Library/Fonts/Arial Narrow.ttf',\n",
       " '/System/Library/Fonts/SFNSDisplayCondensed-Heavy.otf',\n",
       " '/Library/Fonts/STIXSizTwoSymReg.otf',\n",
       " '/Users/cch/Library/Fonts/euphorig.ttf',\n",
       " '/Users/cch/Library/Fonts/MrsSaintDelafield-Regular.ttf',\n",
       " '/Users/cch/Library/Fonts/seguiemj.ttf',\n",
       " '/usr/X11/lib/X11/fonts/TTF/VeraMoBI.ttf',\n",
       " '/Library/Fonts/Trebuchet MS Bold.ttf',\n",
       " '/Users/cch/Library/Fonts/SourceHanSansJP-Medium.otf',\n",
       " '/Library/Fonts/STIXIntUpDBol.otf',\n",
       " '/Library/Fonts/STIXIntUpDReg.otf',\n",
       " '/Library/Fonts/STIXNonUniBolIta.otf',\n",
       " '/Users/cch/Library/Fonts/Alternate Gothic2 BT.TTF',\n",
       " '/Users/cch/Library/Fonts/VLADIMIR.TTF',\n",
       " '/usr/X11/lib/X11/fonts/OTF/SyrCOMCtesiphon.otf',\n",
       " '/Users/cch/Library/Fonts/BELLI.TTF',\n",
       " '/Users/cch/Library/Fonts/Raleway-Bold.ttf',\n",
       " '/usr/X11/lib/X11/fonts/OTF/SyrCOMAdiabene.otf',\n",
       " '/System/Library/Fonts/Apple Braille Pinpoint 8 Dot.ttf',\n",
       " '/Library/Fonts/Khmer Sangam MN.ttf',\n",
       " '/Users/cch/Library/Fonts/SourceHanSansJP-Light.otf',\n",
       " '/usr/X11/lib/X11/fonts/OTF/SyrCOMJerusalemItalic.otf',\n",
       " '/Library/Fonts/Herculanum.ttf',\n",
       " '/Library/Fonts/DIN Condensed Bold.ttf',\n",
       " '/Library/Fonts/Times New Roman Bold Italic.ttf',\n",
       " '/Library/Fonts/Chalkduster.ttf',\n",
       " '/System/Library/Fonts/SFNSDisplay.ttf',\n",
       " '/System/Library/Fonts/SFCompactRounded-Semibold.otf',\n",
       " '/Library/Fonts/Arial Unicode.ttf',\n",
       " '/Users/cch/Library/Fonts/AlegreyaSansSC-MediumItalic.ttf',\n",
       " '/Users/cch/Library/Fonts/SourceHanSansJP-Heavy.otf',\n",
       " '/System/Library/Fonts/SFCompactRounded-Bold.otf',\n",
       " '/usr/X11/lib/X11/fonts/TTF/VeraIt.ttf',\n",
       " '/Users/cch/Library/Fonts/Script MT Bold.TTF',\n",
       " '/usr/X11/lib/X11/fonts/OTF/SyrCOMBatnan.otf',\n",
       " '/System/Library/Fonts/LastResort.ttf',\n",
       " '/Users/cch/Library/Fonts/segoeprb.ttf',\n",
       " '/Users/cch/Library/Fonts/BOD_CB.TTF',\n",
       " '/Library/Fonts/STIXGeneralBol.otf',\n",
       " '/System/Library/Fonts/SFNSDisplayCondensed-Bold.otf',\n",
       " '/usr/X11/lib/X11/fonts/OTF/SyrCOMMalankara.otf',\n",
       " '/System/Library/Fonts/SFCompactDisplay-Regular.otf',\n",
       " '/System/Library/Fonts/SFCompactRounded-Regular.otf',\n",
       " '/Library/Fonts/Georgia Italic.ttf',\n",
       " '/Users/cch/Library/Fonts/segoe.ttf',\n",
       " '/usr/X11/lib/X11/fonts/OTF/SyrCOMTurAbdin.otf',\n",
       " '/Users/cch/Library/Fonts/Bodoni MT.TTF',\n",
       " '/Library/Fonts/STIXIntSmBol.otf',\n",
       " '/Users/cch/Library/Fonts/Carnevalee Freakshow.ttf',\n",
       " '/usr/X11/lib/X11/fonts/OTF/SyrCOMUrhoy.otf',\n",
       " '/usr/X11/lib/X11/fonts/TTF/VeraBd.ttf',\n",
       " '/usr/X11/lib/X11/fonts/TTF/VeraBI.ttf',\n",
       " '/Library/Fonts/STIXVar.otf',\n",
       " '/Library/Fonts/Trattatello.ttf',\n",
       " '/Users/cch/Library/Fonts/TEMPSITC.TTF',\n",
       " '/System/Library/Fonts/SFCompactText-SemiboldItalic.otf',\n",
       " '/Users/cch/Library/Fonts/HATTEN_3.TTF',\n",
       " '/Users/cch/Library/Fonts/segoeb.ttf',\n",
       " '/usr/X11/lib/X11/fonts/OTF/SyrCOMEdessa.otf',\n",
       " '/Library/Fonts/Arial Italic.ttf',\n",
       " '/System/Library/Fonts/SFCompactText-BoldItalic.otf',\n",
       " '/Users/cch/Library/Fonts/segoeuii.ttf',\n",
       " '/usr/X11/lib/X11/fonts/OTF/SyrCOMUrhoyBold.otf',\n",
       " '/Library/Fonts/Arial Black.ttf',\n",
       " '/Library/Fonts/Georgia Bold Italic.ttf',\n",
       " '/Users/cch/Library/Fonts/SourceHanSansJP-Regular.otf',\n",
       " '/Users/cch/Library/Fonts/BOD_CBI.TTF',\n",
       " '/Library/Fonts/AppleGothic.ttf',\n",
       " '/Users/cch/Library/Fonts/TektonPro-BoldObl.otf',\n",
       " '/Library/Fonts/Bradley Hand Bold.ttf',\n",
       " '/usr/X11/lib/X11/fonts/OTF/SyrCOMMardinBold.otf',\n",
       " '/Library/Fonts/STIXSizFourSymBol.otf',\n",
       " '/Library/Fonts/Trebuchet MS Italic.ttf',\n",
       " '/Library/Fonts/STIXIntDReg.otf',\n",
       " '/Library/Fonts/Times New Roman.ttf',\n",
       " '/System/Library/Fonts/SFNSTextCondensed-Regular.otf',\n",
       " '/usr/X11/lib/X11/fonts/TTF/VeraSeBd.ttf',\n",
       " '/Library/Fonts/Songti.ttf',\n",
       " '/Library/Fonts/NISC18030.ttf',\n",
       " '/Users/cch/Library/Fonts/AlegreyaSansSC-LightItalic.ttf',\n",
       " '/Users/cch/Library/Fonts/CevicheOne-Regular.otf',\n",
       " '/System/Library/Fonts/SFCompactRounded-Ultralight.otf',\n",
       " '/Users/cch/Library/Fonts/TektonPro-BoldExt.otf',\n",
       " '/Library/Fonts/Georgia.ttf',\n",
       " '/Library/Fonts/Silom.ttf',\n",
       " '/Users/cch/Library/Fonts/ARESSENCE.ttf',\n",
       " '/Users/cch/Library/Fonts/BOD_CR.TTF',\n",
       " '/Users/cch/Library/Fonts/MarckScript-Regular.ttf',\n",
       " '/Users/cch/Library/Fonts/ALTGOT2N.TTF',\n",
       " '/Users/cch/Library/Fonts/JandaAsLongAsYouLoveMe.ttf',\n",
       " '/Library/Fonts/STIXSizFiveSymReg.otf',\n",
       " '/Library/Fonts/Wingdings.ttf',\n",
       " '/System/Library/Fonts/SFCompactDisplay-Ultralight.otf',\n",
       " '/usr/X11/lib/X11/fonts/TTF/luximb.ttf',\n",
       " '/Library/Fonts/Tahoma.ttf',\n",
       " '/System/Library/Fonts/SFCompactRounded-Black.otf',\n",
       " '/Library/Fonts/Georgia Bold.ttf',\n",
       " '/System/Library/Fonts/SFNSDisplayCondensed-Thin.otf',\n",
       " '/Users/cch/Library/Fonts/Haettenschweiler.TTF',\n",
       " '/Library/Fonts/Apple Chancery.ttf',\n",
       " '/Users/cch/Library/Fonts/ARIALN.TTF',\n",
       " '/Users/cch/Library/Fonts/Aldrich-Regular.ttf']"
      ]
     },
     "execution_count": 255,
     "metadata": {},
     "output_type": "execute_result"
    }
   ],
   "source": [
    "import matplotlib.font_manager\n",
    "matplotlib.font_manager.findSystemFonts(fontpaths=None, fontext='ttf')"
   ]
  },
  {
   "cell_type": "code",
   "execution_count": 280,
   "metadata": {},
   "outputs": [
    {
     "data": {
      "text/plain": [
       "<matplotlib.axes._subplots.AxesSubplot at 0x1313e4a20>"
      ]
     },
     "execution_count": 280,
     "metadata": {},
     "output_type": "execute_result"
    },
    {
     "data": {
      "image/png": "[encoded data removed]",
      "text/plain": [
       "<matplotlib.figure.Figure at 0x130deff28>"
      ]
     },
     "metadata": {},
     "output_type": "display_data"
    }
   ],
   "source": [
    "from matplotlib import font_manager,rcParams\n",
    "\n",
    "#rcParams['font.family'] = 'AppleGothic' \n",
    "rcParams['font.family'] = 'AR PL New Kai' \n",
    "rcParams['font.weight'] = 'bold'\n",
    "\n",
    "plt.rcParams['axes.unicode_minus'] = False \n",
    "\n",
    "x[[x.columns[0],x.columns[2]]].plot(kind=\"box\",fontsize=16)\n",
    "#x[x.columns[0]][y==0].plot(kind=\"bar\")\n",
    "#plt.show()"
   ]
  },
  {
   "cell_type": "code",
   "execution_count": 288,
   "metadata": {},
   "outputs": [
    {
     "data": {
      "text/plain": [
       "<matplotlib.axes._subplots.AxesSubplot at 0x137c7b438>"
      ]
     },
     "execution_count": 288,
     "metadata": {},
     "output_type": "execute_result"
    },
    {
     "data": {
      "image/png": "[encoded data removed]",
      "text/plain": [
       "<matplotlib.figure.Figure at 0x137cb8940>"
      ]
     },
     "metadata": {},
     "output_type": "display_data"
    }
   ],
   "source": [
    "#x[[x.columns[0]]].plot(kind=\"box\",fontsize=16,by=[x.columns[-1]])\n",
    "df.boxplot(column=[df.columns[0]], by=[df.columns[-1]])"
   ]
  },
  {
   "cell_type": "code",
   "execution_count": 250,
   "metadata": {},
   "outputs": [
    {
     "data": {
      "text/plain": [
       "array([<matplotlib.axes._subplots.AxesSubplot object at 0x12fe64cc0>,\n",
       "       <matplotlib.axes._subplots.AxesSubplot object at 0x12fe1d278>], dtype=object)"
      ]
     },
     "execution_count": 250,
     "metadata": {},
     "output_type": "execute_result"
    },
    {
     "data": {
      "image/png": "[encoded data removed]",
      "text/plain": [
       "<matplotlib.figure.Figure at 0x12fdbb9b0>"
      ]
     },
     "metadata": {},
     "output_type": "display_data"
    }
   ],
   "source": [
    "#x[[x.columns[0],x.columns[-1]]].plot(kind=\"box\")\n",
    "df.boxplot(column=[df.columns[0],df.columns[2]], by=[df.columns[-1]])"
   ]
  },
  {
   "cell_type": "code",
   "execution_count": 172,
   "metadata": {
    "collapsed": true
   },
   "outputs": [],
   "source": [
    "import seaborn as sns"
   ]
  },
  {
   "cell_type": "code",
   "execution_count": 302,
   "metadata": {},
   "outputs": [
    {
     "data": {
      "text/plain": [
       "<matplotlib.axes._subplots.AxesSubplot at 0x1386ca668>"
      ]
     },
     "execution_count": 302,
     "metadata": {},
     "output_type": "execute_result"
    },
    {
     "data": {
      "image/png": "[encoded data removed]",
      "text/plain": [
       "<matplotlib.figure.Figure at 0x13838f908>"
      ]
     },
     "metadata": {},
     "output_type": "display_data"
    }
   ],
   "source": [
    "sns.barplot(df.columns[1], df.columns[-1],data=df)"
   ]
  },
  {
   "cell_type": "code",
   "execution_count": 289,
   "metadata": {},
   "outputs": [
    {
     "data": {
      "text/plain": [
       "<seaborn.axisgrid.FacetGrid at 0x137822518>"
      ]
     },
     "execution_count": 289,
     "metadata": {},
     "output_type": "execute_result"
    },
    {
     "data": {
      "image/png": "[encoded data removed]",
      "text/plain": [
       "<matplotlib.figure.Figure at 0x137a883c8>"
      ]
     },
     "metadata": {},
     "output_type": "display_data"
    }
   ],
   "source": [
    "sns.factorplot(df.columns[1],df.columns[-1], data=df,palette=\"BuPu_d\")\n"
   ]
  },
  {
   "cell_type": "code",
   "execution_count": 290,
   "metadata": {},
   "outputs": [
    {
     "data": {
      "text/plain": [
       "<seaborn.axisgrid.FacetGrid at 0x137cd2f28>"
      ]
     },
     "execution_count": 290,
     "metadata": {},
     "output_type": "execute_result"
    },
    {
     "data": {
      "image/png": "[encoded data removed]",
      "text/plain": [
       "<matplotlib.figure.Figure at 0x137cc0240>"
      ]
     },
     "metadata": {},
     "output_type": "display_data"
    }
   ],
   "source": [
    "sns.factorplot(df.columns[-1],df.columns[1], data=df,palette=\"BuPu_d\")\n"
   ]
  },
  {
   "cell_type": "code",
   "execution_count": 181,
   "metadata": {
    "collapsed": true
   },
   "outputs": [],
   "source": []
  },
  {
   "cell_type": "code",
   "execution_count": 303,
   "metadata": {
    "collapsed": true
   },
   "outputs": [],
   "source": [
    "df.columns=['year','edu','work','address','income','debt','creditDebt','otherDebt','Violation']"
   ]
  },
  {
   "cell_type": "code",
   "execution_count": 205,
   "metadata": {},
   "outputs": [
    {
     "data": {
      "text/plain": [
       "<matplotlib.axes._subplots.AxesSubplot at 0x115e1fd30>"
      ]
     },
     "execution_count": 205,
     "metadata": {},
     "output_type": "execute_result"
    },
    {
     "data": {
      "image/png": "[encoded data removed]",
      "text/plain": [
       "<matplotlib.figure.Figure at 0x116bd2c18>"
      ]
     },
     "metadata": {},
     "output_type": "display_data"
    }
   ],
   "source": [
    "sns.violinplot(df[df.columns[-1]],df[df.columns[1]])"
   ]
  },
  {
   "cell_type": "code",
   "execution_count": null,
   "metadata": {
    "collapsed": true
   },
   "outputs": [],
   "source": [
    "df.columns[1]"
   ]
  }
 ],
 "metadata": {
  "kernelspec": {
   "display_name": "Python 3",
   "language": "python",
   "name": "python3"
  },
  "language_info": {
   "codemirror_mode": {
    "name": "ipython",
    "version": 3
   },
   "file_extension": ".py",
   "mimetype": "text/x-python",
   "name": "python",
   "nbconvert_exporter": "python",
   "pygments_lexer": "ipython3",
   "version": "3.6.1"
  }
 },
 "nbformat": 4,
 "nbformat_minor": 2
}
