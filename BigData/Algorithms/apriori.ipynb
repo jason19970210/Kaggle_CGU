{
 "cells": [
  {
   "cell_type": "markdown",
   "metadata": {},
   "source": [
    "Association by Apriori Method\n",
    "==="
   ]
  },
  {
   "cell_type": "code",
   "execution_count": 7,
   "metadata": {
    "collapsed": true
   },
   "outputs": [],
   "source": [
    "from __future__ import print_function\n",
    "import pandas as pd\n",
    "\n",
    "def connect_string(x, ms):\n",
    "  x = list(map(lambda i:sorted(i.split(ms)), x))\n",
    "  l = len(x[0])\n",
    "  r = []\n",
    "  for i in range(len(x)):\n",
    "    for j in range(i,len(x)):\n",
    "      if x[i][:l-1] == x[j][:l-1] and x[i][l-1] != x[j][l-1]:\n",
    "        r.append(x[i][:l-1]+sorted([x[j][l-1],x[i][l-1]]))\n",
    "  return r\n",
    "\n",
    "def find_rule(d, support, confidence, ms = u'--'):\n",
    "  result = pd.DataFrame(index=['support', 'confidence']) \n",
    "  \n",
    "  support_series = 1.0*d.sum()/len(d) \n",
    "  column = list(support_series[support_series > support].index) \n",
    "  k = 0\n",
    "  \n",
    "  while len(column) > 1:\n",
    "    k = k+1\n",
    "    print(u'\\n%s searching ongoing...' %k)\n",
    "    column = connect_string(column, ms)\n",
    "    print(u'number：%s...' %len(column))\n",
    "    sf = lambda i: d[i].prod(axis=1, numeric_only = True) \n",
    "    \n",
    "    d_2 = pd.DataFrame(list(map(sf,column)), index = [ms.join(i) for i in column]).T\n",
    "    \n",
    "    support_series_2 = 1.0*d_2[[ms.join(i) for i in column]].sum()/len(d)\n",
    "    column = list(support_series_2[support_series_2 > support].index) \n",
    "    support_series = support_series.append(support_series_2)\n",
    "    column2 = []\n",
    "    \n",
    "    for i in column: \n",
    "      i = i.split(ms)\n",
    "      for j in range(len(i)):\n",
    "        column2.append(i[:j]+i[j+1:]+i[j:j+1])\n",
    "    \n",
    "    cofidence_series = pd.Series(index=[ms.join(i) for i in column2]) \n",
    " \n",
    "    for i in column2: \n",
    "      cofidence_series[ms.join(i)] = support_series[ms.join(sorted(i))]/support_series[ms.join(i[:len(i)-1])]\n",
    "    \n",
    "    for i in cofidence_series[cofidence_series > confidence].index: \n",
    "      result[i] = 0.0\n",
    "      result[i]['confidence'] = cofidence_series[i]\n",
    "      result[i]['support'] = support_series[ms.join(sorted(i.split(ms)))]\n",
    "  \n",
    "  result = result.T.sort_values(['confidence','support'], ascending = False) \n",
    "  print('\\nFinal Result：')\n",
    "  print(result)\n",
    "  \n",
    "  return result"
   ]
  },
  {
   "cell_type": "code",
   "execution_count": 8,
   "metadata": {},
   "outputs": [
    {
     "name": "stdout",
     "output_type": "stream",
     "text": [
      "\n",
      "Convert Data into binary, 0 or 1...\n",
      "\n",
      "Convertion Completed。\n",
      "\n",
      "1 searching ongoing...\n",
      "number：6...\n",
      "\n",
      "2 searching ongoing...\n",
      "number：3...\n",
      "\n",
      "3 searching ongoing...\n",
      "number：0...\n",
      "\n",
      "Final Result：\n",
      "           support  confidence\n",
      "e---a          0.3    1.000000\n",
      "e---c          0.3    1.000000\n",
      "c---e---a      0.3    1.000000\n",
      "a---e---c      0.3    1.000000\n",
      "a---b          0.5    0.714286\n",
      "c---a          0.5    0.714286\n",
      "a---c          0.5    0.714286\n",
      "c---b          0.5    0.714286\n",
      "b---a          0.5    0.625000\n",
      "b---c          0.5    0.625000\n",
      "b---c---a      0.3    0.600000\n",
      "a---c---b      0.3    0.600000\n",
      "a---b---c      0.3    0.600000\n",
      "a---c---e      0.3    0.600000\n"
     ]
    }
   ],
   "source": [
    "inputfile = '../data/menu_orders.xls'\n",
    "outputfile = '../tmp/apriori_rules.xls' \n",
    "data = pd.read_excel(inputfile, header = None)\n",
    "\n",
    "print('\\nConvert Data into binary, 0 or 1...')\n",
    "ct = lambda x : pd.Series(1, index = x[pd.notnull(x)]) \n",
    "b = map(ct, data.as_matrix()) \n",
    "data = pd.DataFrame(list(b)).fillna(0) \n",
    "print('\\nConvertion Completed。')\n",
    "del b \n",
    "\n",
    "support = 0.2 \n",
    "confidence = 0.5 \n",
    "ms = '---'\n",
    "\n",
    "find_rule(data, support, confidence, ms).to_excel(outputfile) "
   ]
  },
  {
   "cell_type": "code",
   "execution_count": null,
   "metadata": {
    "collapsed": true
   },
   "outputs": [],
   "source": []
  }
 ],
 "metadata": {
  "kernelspec": {
   "display_name": "Python 3",
   "language": "python",
   "name": "python3"
  },
  "language_info": {
   "codemirror_mode": {
    "name": "ipython",
    "version": 3
   },
   "file_extension": ".py",
   "mimetype": "text/x-python",
   "name": "python",
   "nbconvert_exporter": "python",
   "pygments_lexer": "ipython3",
   "version": "3.6.1"
  },
  "toc": {
   "colors": {
    "hover_highlight": "#DAA520",
    "navigate_num": "#000000",
    "navigate_text": "#333333",
    "running_highlight": "#FF0000",
    "selected_highlight": "#FFD700",
    "sidebar_border": "#EEEEEE",
    "wrapper_background": "#FFFFFF"
   },
   "moveMenuLeft": true,
   "nav_menu": {
    "height": "30px",
    "width": "252px"
   },
   "navigate_menu": true,
   "number_sections": true,
   "sideBar": true,
   "threshold": 4,
   "toc_cell": false,
   "toc_section_display": "block",
   "toc_window_display": false,
   "widenNotebook": false
  }
 },
 "nbformat": 4,
 "nbformat_minor": 2
}
