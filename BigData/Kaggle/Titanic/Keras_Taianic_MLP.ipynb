{
 "cells": [
  {
   "cell_type": "markdown",
   "metadata": {
    "slideshow": {
     "slide_type": "-"
    }
   },
   "source": [
    "Tensorflow with keras\n",
    "===\n"
   ]
  },
  {
   "cell_type": "markdown",
   "metadata": {
    "collapsed": true
   },
   "source": [
    "# 1. Import Library"
   ]
  },
  {
   "cell_type": "code",
   "execution_count": null,
   "metadata": {
    "slideshow": {
     "slide_type": "-"
    }
   },
   "outputs": [],
   "source": [
    "import numpy\n",
    "import numpy as np\n",
    "import pandas as pd\n",
    "from sklearn import preprocessing\n",
    "numpy.random.seed(10)\n",
    "\n",
    "import matplotlib\n",
    "import matplotlib.pyplot as plt\n",
    "\n",
    "%matplotlib inline "
   ]
  },
  {
   "cell_type": "code",
   "execution_count": null,
   "metadata": {},
   "outputs": [],
   "source": [
    "# concatation of Kaggle data, train.csv and test.csv\n",
    "df_train=pd.read_csv(\"data/Titanic/train.csv\")\n",
    "df_test=pd.read_csv(\"data/Titanic/test.csv\")\n",
    "df_concat=pd.concat([df_train,df_test])"
   ]
  },
  {
   "cell_type": "code",
   "execution_count": null,
   "metadata": {},
   "outputs": [],
   "source": [
    "df_concat.head()"
   ]
  },
  {
   "cell_type": "code",
   "execution_count": null,
   "metadata": {},
   "outputs": [],
   "source": [
    "df_concat=df_concat.sort_values(['Name'])"
   ]
  },
  {
   "cell_type": "code",
   "execution_count": null,
   "metadata": {},
   "outputs": [],
   "source": [
    "df_concat.info()"
   ]
  },
  {
   "cell_type": "markdown",
   "metadata": {},
   "source": [
    "To get more stories, we use the data from <a href=\"http://biostat.mc.vanderbilt.edu/wiki/pub/Main/DataSets/titanic3.xls\">titanic3.xls</a>"
   ]
  },
  {
   "cell_type": "code",
   "execution_count": null,
   "metadata": {},
   "outputs": [],
   "source": [
    "df = pd.read_excel(\"data/titanic3.xls\")\n",
    "#df = pd.read_csv(\"data/Titanic/train.csv\")"
   ]
  },
  {
   "cell_type": "code",
   "execution_count": null,
   "metadata": {},
   "outputs": [],
   "source": [
    "import qgrid"
   ]
  },
  {
   "cell_type": "code",
   "execution_count": null,
   "metadata": {
    "scrolled": true
   },
   "outputs": [],
   "source": [
    "qgrid.show_grid(df,show_toolbar=True)"
   ]
  },
  {
   "cell_type": "markdown",
   "metadata": {},
   "source": [
    "Let the first column be 'survived':"
   ]
  },
  {
   "cell_type": "code",
   "execution_count": null,
   "metadata": {},
   "outputs": [],
   "source": [
    "cols=['survived','name','pclass' ,'sex', 'age', 'sibsp',\n",
    "      'parch', 'fare', 'embarked']\n",
    "df=df[cols]"
   ]
  },
  {
   "cell_type": "code",
   "execution_count": null,
   "metadata": {},
   "outputs": [],
   "source": [
    "#cdivede data into two parts, train and test. \n",
    "msk = numpy.random.rand(len(df)) < 0.8\n",
    "train_df = df[msk]\n",
    "test_df = df[~msk]"
   ]
  },
  {
   "cell_type": "code",
   "execution_count": null,
   "metadata": {},
   "outputs": [],
   "source": [
    "print('total:',len(df),\n",
    "      'train:',len(train_df),\n",
    "      'test:',len(test_df))"
   ]
  },
  {
   "cell_type": "markdown",
   "metadata": {},
   "source": [
    "Data Preprocessing\n",
    "---\n",
    "- drop `name` column\n",
    "- fill empty `age` (`fare`) with mean value,\n",
    "- convert `sex` property, 0 for Female, 1 for other\n",
    "- duplicate and divide 'embarked' into 3 different columns according its features, 'C,Q,S',\n",
    "  via  ```pd.get_dummies```.\n",
    "- Convert df into ndarray\n",
    "- divide label, index=0 i.e. `survived`, and Features, the others, indeces [1:],\n",
    "- normalize the `Features`'s values within 0 and 1. "
   ]
  },
  {
   "cell_type": "code",
   "execution_count": null,
   "metadata": {},
   "outputs": [],
   "source": [
    "def PreprocessData(raw_df):\n",
    "    # drop name feature\n",
    "    df=raw_df.drop(['name'], axis=1)\n",
    "    # replace the nan in \"age\",\"fare\" with mean \n",
    "    age_mean = df['age'].mean()\n",
    "    df['age'] = df['age'].fillna(age_mean)\n",
    "    fare_mean = df['fare'].mean()\n",
    "    df['fare'] = df['fare'].fillna(fare_mean)\n",
    "    # convert \"sex\" into int, 0 for Female, 1 for male\n",
    "    df['sex']= df['sex'].map({'female':0, 'male': 1}).astype(int)\n",
    "    \n",
    "    # divide \"embarked\" into individual features\n",
    "    x_OneHot_df = pd.get_dummies(data=df,columns=[\"embarked\" ])\n",
    "\n",
    "    ndarray = x_OneHot_df.values\n",
    "    Features = ndarray[:,1:]\n",
    "    Label = ndarray[:,0]\n",
    "    \n",
    "    minmax_scale = preprocessing.MinMaxScaler(feature_range=(0, 1))\n",
    "    scaledFeatures=minmax_scale.fit_transform(Features)    \n",
    "    \n",
    "    return scaledFeatures,Label"
   ]
  },
  {
   "cell_type": "code",
   "execution_count": null,
   "metadata": {},
   "outputs": [],
   "source": [
    "train_Features,train_Label=PreprocessData(train_df)\n",
    "test_Features,test_Label=PreprocessData(test_df)"
   ]
  },
  {
   "cell_type": "code",
   "execution_count": null,
   "metadata": {},
   "outputs": [],
   "source": [
    "cols=['survived','name','pclass' ,'sex', 'age', 'sibsp',\n",
    "      'parch', 'fare', 'embarked']\n",
    "\n",
    "cols_name=['pclass','sex','age','sibsp','ParChild','fare','C','Q','S']\n",
    "\n",
    "for i in range(9):\n",
    "    print(cols_name[i],\": \",train_Features[300][i])\n",
    "        \n",
    "#train_Features[0]"
   ]
  },
  {
   "cell_type": "markdown",
   "metadata": {},
   "source": [
    "<big style=\"font-size:2em;color:yellow;background-color:black;\">\n",
    "    <font color=\"orange\">**õ|o**</font> Question<big style=\"font-size:0.7em;color:brown;background-color:white;padding:-2pt\"> \n",
    "about data prepocessing\n",
    "</big>\n",
    "</big>\n",
    "\n",
    "---\n",
    "Here, train and test data were preprocessed by the same function, \"```PreprocessData()```\". Is there any difference with the case of 1&deg;) preprocessing raw data first and 2&deg;) dividing into train and test data afterwards?\n",
    "\n",
    "晉惠帝: 「<font color=\"red\"> 何不食肉糜 ?</font>」"
   ]
  },
  {
   "cell_type": "markdown",
   "metadata": {},
   "source": [
    "# 3. Create Model \n",
    "Artificial Neural Network:\n",
    "<table>\n",
    "   <tr>    \n",
    "       <td><img src=\"imgs/neuron.png\"  width=100% /></td>\n",
    "       <td><img src=\"imgs/NN.jpg\" width=90% /></td>\n",
    "   </tr>\n",
    "</table>    \n",
    "The structure is desdigned as:\n",
    "- 9-dimensional Input layer since 9 -features here,\n",
    "- the first hideen layer is given in 40 cells,\n",
    "- the second hideen layer is given in 30 cells,\n",
    "- and 1-dimension output layer is given, one label (`suvived`) here.\n",
    "\n",
    "**Reference**. <a href=\"#Note\">Why Neural Network, deep learning</a>?"
   ]
  },
  {
   "cell_type": "code",
   "execution_count": null,
   "metadata": {},
   "outputs": [],
   "source": [
    "def nn_graph(nodes,colors=[[1.0, 0.5, 0.5],[0.5, 0.5, 1],[0.5, 0.7509803921568627, 0.5]],fname=None):\n",
    "    \"\"\"\n",
    "    Draw neural network graph with a given number of nodes per layer.\n",
    "    \n",
    "    --inputs:\n",
    "    \n",
    "    nodes: List with the number of nodes in each layer.\n",
    "    colors (optional): List of colors for each layers' nodes, one color per layer.\n",
    "    fname (optional): File name to save the figure.\n",
    "    \"\"\"\n",
    "    \n",
    "    nodes=[n for n in nodes if isinstance(n,int)]\n",
    "    \n",
    "    fig = plt.figure(figsize=(12,8))\n",
    "    ax = fig.add_subplot(1, 1, 1)\n",
    "    \n",
    "    layers=len(nodes)\n",
    "    mx=np.max(nodes)\n",
    "    node_r=0.3\n",
    "    \n",
    "    plt.text(-0.5, 7, \"Input\", fontsize=16)\n",
    "    plt.text(1.5, 7, \"Hidden Layer ...\", fontsize=16,color=\"grey\")\n",
    "    plt.text(5.5, 7, \"Output\", fontsize=16)\n",
    "    \n",
    "    plt.figure(figsize=(1.5*layers,mx))\n",
    "    \n",
    "    for i in range(layers):\n",
    "        x=np.zeros(nodes[i])+2*i\n",
    "        y=range(nodes[i])\n",
    "        if (nodes[i]<mx):\n",
    "            y+=(mx-nodes[i])/2\n",
    "            \n",
    "        #draw nodes\n",
    "        for px,py in zip(x,y):\n",
    "            circ = plt.Circle((px, py), radius=node_r, color=colors[i%len(colors)])\n",
    "            ax.add_patch(circ)\n",
    "        \n",
    "        #draw connecting lines\n",
    "        if i>0:\n",
    "            for a in prevy:\n",
    "                for b in y:\n",
    "                    ax.plot([2*(i-1)+node_r,2*i-node_r],[a,b],'gray')\n",
    "                    #ax.margins(0.2, 0.2)\n",
    "        \n",
    "        prevy=y\n",
    "        \n",
    "    \n",
    "    ax.axis('off')\n",
    "    ax.set_aspect(\"equal\");\n",
    "    \n",
    "    if fname!=None:\n",
    "        fig.savefig(fname,bbox_inches='tight',dpi=300)\n",
    "        print('figure saved as: ',fname) "
   ]
  },
  {
   "cell_type": "code",
   "execution_count": null,
   "metadata": {},
   "outputs": [],
   "source": [
    "nodes=[5,7,6,1]\n",
    "nn_graph(nodes,fname='nn.png')"
   ]
  },
  {
   "cell_type": "code",
   "execution_count": null,
   "metadata": {},
   "outputs": [],
   "source": []
  },
  {
   "cell_type": "code",
   "execution_count": null,
   "metadata": {},
   "outputs": [],
   "source": [
    "from keras.models import Sequential\n",
    "from keras.layers import Dense,Dropout"
   ]
  },
  {
   "cell_type": "markdown",
   "metadata": {},
   "source": [
    "activation functions\n",
    "---\n",
    "\\begin{eqnarray}\n",
    "\\text{relu} &=& 0 \\text{ if } x\\le0\\\\\n",
    "            &=& x \\text{ if } x>0\\\\\n",
    "\\text{sigmod} &=& \\frac{1}{1+e^{-x}}          \n",
    "\\end{eqnarray}"
   ]
  },
  {
   "cell_type": "code",
   "execution_count": null,
   "metadata": {},
   "outputs": [],
   "source": [
    "import matplotlib.pylab as plt\n",
    "\n",
    "%matplotlib inline\n"
   ]
  },
  {
   "cell_type": "code",
   "execution_count": null,
   "metadata": {},
   "outputs": [],
   "source": [
    "def logit(z):\n",
    "    return 1 / (1 + np.exp(-z))"
   ]
  },
  {
   "cell_type": "code",
   "execution_count": null,
   "metadata": {},
   "outputs": [],
   "source": [
    "z = np.linspace(-5, 5, 200)\n",
    "\n",
    "plt.plot([-5, 5], [0, 0], 'k-')\n",
    "plt.plot([-5, 5], [1, 1], 'k--')\n",
    "plt.plot([0, 0], [-0.2, 1.2], 'k-')\n",
    "plt.plot([-5, 5], [-3/4, 7/4], 'g--')\n",
    "plt.plot(z, logit(z), \"b-\", linewidth=2)\n",
    "props = dict(facecolor='black', shrink=0.1)\n",
    "plt.annotate('Saturating', xytext=(3.5, 0.7), xy=(5, 1), arrowprops=props, fontsize=14, ha=\"center\")\n",
    "plt.annotate('Saturating', xytext=(-3.5, 0.3), xy=(-5, 0), arrowprops=props, fontsize=14, ha=\"center\")\n",
    "plt.annotate('Linear', xytext=(2, 0.2), xy=(0, 0.5), arrowprops=props, fontsize=14, ha=\"center\")\n",
    "plt.grid(True)\n",
    "plt.title(\"Sigmoid activation function\", fontsize=14)\n",
    "plt.axis([-5, 5, -0.2, 1.2]);\n"
   ]
  },
  {
   "cell_type": "code",
   "execution_count": null,
   "metadata": {},
   "outputs": [],
   "source": [
    "def leaky_relu(z, alpha=0.01):\n",
    "    return np.maximum(alpha*z, z)"
   ]
  },
  {
   "cell_type": "code",
   "execution_count": null,
   "metadata": {},
   "outputs": [],
   "source": [
    "plt.plot(z, leaky_relu(z, 0.05), \"b-\", linewidth=2)\n",
    "plt.plot([-5, 5], [0, 0], 'k-')\n",
    "plt.plot([0, 0], [-0.5, 4.2], 'k-')\n",
    "plt.grid(True)\n",
    "props = dict(facecolor='black', shrink=0.1)\n",
    "plt.annotate('Leak', xytext=(-3.5, 0.5), xy=(-5, -0.2), arrowprops=props, fontsize=14, ha=\"center\")\n",
    "plt.title(\"Leaky ReLU activation function\", fontsize=14)\n",
    "plt.axis([-5, 5, -0.5, 4.2]);\n"
   ]
  },
  {
   "cell_type": "markdown",
   "metadata": {},
   "source": [
    "In the last few years, ```relu``` becomes most popular activation function than others: "
   ]
  },
  {
   "cell_type": "code",
   "execution_count": null,
   "metadata": {},
   "outputs": [],
   "source": [
    "model = Sequential()"
   ]
  },
  {
   "cell_type": "code",
   "execution_count": null,
   "metadata": {},
   "outputs": [],
   "source": [
    "model.add(Dense(units=40, input_dim=9, \n",
    "                kernel_initializer='uniform', \n",
    "                activation='relu'))"
   ]
  },
  {
   "cell_type": "code",
   "execution_count": null,
   "metadata": {},
   "outputs": [],
   "source": [
    "model.add(Dense(units=30, \n",
    "                kernel_initializer='uniform', \n",
    "                activation='relu'))"
   ]
  },
  {
   "cell_type": "code",
   "execution_count": null,
   "metadata": {},
   "outputs": [],
   "source": [
    "model.add(Dense(units=1, \n",
    "                kernel_initializer='uniform',\n",
    "                activation='sigmoid'))"
   ]
  },
  {
   "cell_type": "markdown",
   "metadata": {},
   "source": [
    "# 4. Train model\n",
    "\n",
    "```\n",
    "survived\n",
    "                        Y    F\n",
    "Y'i labels (True Val):  0    1  \n",
    "Yi   predict Value   : 0.2  0.8\n",
    "```\n",
    "binary_crossentropy = $\\sum\\limits_i -Y'_i\\log Y_i= -0\\cdot\\log0.2- 1\\cdot\\log0.8\\sim0.223$ \n",
    "\n",
    "Optimizer: optimize the loss function by continuously updating weights and biase, i.e stochastic gradient decent (SGD) is the famous one, general optitions, sgd, rmsprop, adam etc; the last one becomes popular recently. "
   ]
  },
  {
   "cell_type": "markdown",
   "metadata": {},
   "source": [
    "Define the model and train it:\n",
    "```python\n",
    "model.compile(loss='binary_crossentropy',\n",
    "              optimizer='adam', metrics=['accuracy'])\n",
    "\n",
    "train_history =model.fit(x=Features, y=Label, validation_split=0.1, \n",
    "                         epochs=30, batch_size=30,verbose=0)\n",
    "```\n",
    "where the parameters are defined as follows:\n",
    "- loss: Loss function to minimize, include mse;\n",
    "- split=0.1: 10% data for validation;\n",
    "- batch_size=30: 30 data trained concurrenct;\n",
    "- epochs=30: 30 tarining steps;\n",
    "- verbose=0: disable trainging result and 2 for enable."
   ]
  },
  {
   "cell_type": "code",
   "execution_count": null,
   "metadata": {},
   "outputs": [],
   "source": [
    "def creat_sgd_model():\n",
    "    sgd = SGD(lr=0.01, momentum=0.8, decay=0.0, nesterov=False)\n",
    "    model.compile(loss='binary_crossentropy', optimizer=sgd, metrics=['accuracy'])\n",
    "    return model"
   ]
  },
  {
   "cell_type": "code",
   "execution_count": null,
   "metadata": {},
   "outputs": [],
   "source": [
    "sgd_model = creat_adam_model()\n",
    "sgd_train_history = sgd_model.fit(x=train_Features, y=train_Label, \n",
    "                         validation_split=0.1, epochs=30, batch_size=30,verbose=0)\n",
    "\n",
    "sgd_model.evaluate(x=test_Features,  y=test_Label)[1]"
   ]
  },
  {
   "cell_type": "code",
   "execution_count": null,
   "metadata": {},
   "outputs": [],
   "source": [
    "def creat_adam_model():\n",
    "    model.compile(loss='binary_crossentropy',optimizer='adam', metrics=['accuracy'])\n",
    "    return model"
   ]
  },
  {
   "cell_type": "code",
   "execution_count": null,
   "metadata": {},
   "outputs": [],
   "source": []
  },
  {
   "cell_type": "code",
   "execution_count": null,
   "metadata": {},
   "outputs": [],
   "source": [
    "adam_model = creat_adam_model()\n",
    "adam_train_history = adam_model.fit(x=train_Features, y=train_Label, \n",
    "                         validation_split=0.1, epochs=30, batch_size=30,verbose=0)\n",
    "\n",
    "adam_model.evaluate(x=test_Features,  y=test_Label)[1]"
   ]
  },
  {
   "cell_type": "markdown",
   "metadata": {},
   "source": [
    "# 6. Print History\n",
    "How good id the fit of model? The visualization of accuracy and loss should explains the result. "
   ]
  },
  {
   "cell_type": "code",
   "execution_count": null,
   "metadata": {},
   "outputs": [],
   "source": [
    "import matplotlib.pyplot as plt\n",
    "def show_train_history(train_history,train,validation):\n",
    "    plt.plot(train_history.history[train])\n",
    "    plt.plot(train_history.history[validation])\n",
    "    plt.title('Train History')\n",
    "    plt.ylabel(train)\n",
    "    plt.xlabel('Epoch')\n",
    "    plt.legend(['train', 'validation'], loc='upper left')\n",
    "    plt.show()"
   ]
  },
  {
   "cell_type": "markdown",
   "metadata": {},
   "source": [
    "Whatever train or validation result, accuracy had increased about 0.75 after 5 epoch, and loss related had also decreasing fast under 0.5 after 5 epoch."
   ]
  },
  {
   "cell_type": "code",
   "execution_count": null,
   "metadata": {},
   "outputs": [],
   "source": [
    "show_train_history(train_history,'acc','val_acc')"
   ]
  },
  {
   "cell_type": "code",
   "execution_count": null,
   "metadata": {},
   "outputs": [],
   "source": [
    "show_train_history(train_history,'acc','val_acc')"
   ]
  },
  {
   "cell_type": "code",
   "execution_count": null,
   "metadata": {},
   "outputs": [],
   "source": [
    "show_train_history(train_history,'loss','val_loss')"
   ]
  },
  {
   "cell_type": "markdown",
   "metadata": {},
   "source": [
    "Visualization by Plotly\n",
    "---\n",
    "Benifited from the HTML library, **d3.js**, plotly provides more awesome visualization tool for data display.  The following demo shows how to make an off-line data picture:"
   ]
  },
  {
   "cell_type": "code",
   "execution_count": null,
   "metadata": {},
   "outputs": [],
   "source": [
    "import plotly.graph_objs as go\n",
    "\n",
    "import plotly\n",
    "from plotly.offline import init_notebook_mode,iplot\n",
    "init_notebook_mode()"
   ]
  },
  {
   "cell_type": "code",
   "execution_count": null,
   "metadata": {},
   "outputs": [],
   "source": [
    "def show_train_history_plotly(train_history,train,validation):\n",
    "    trace0 = go.Scatter(\n",
    "     # x=np.arange(len(train_history.history['train])),\n",
    "     y=train_history.history[train],\n",
    "     name=train   \n",
    "    )\n",
    "    trace1 = go.Scatter(\n",
    "     # x=np.arange(len(train_history.history['train])),\n",
    "     y=train_history.history[validation],\n",
    "     name=validation   \n",
    "    )\n",
    "    \n",
    "    data = [trace0,trace1]\n",
    "    fig = go.Figure(data=data)\n",
    "    iplot(fig)"
   ]
  },
  {
   "cell_type": "code",
   "execution_count": null,
   "metadata": {},
   "outputs": [],
   "source": [
    "np.arange(len(train_history.history['loss']))"
   ]
  },
  {
   "cell_type": "code",
   "execution_count": null,
   "metadata": {},
   "outputs": [],
   "source": [
    "show_train_history_plotly(train_history,'loss','val_loss')"
   ]
  },
  {
   "cell_type": "markdown",
   "metadata": {},
   "source": [
    "# Evaluation of Model Accuracy"
   ]
  },
  {
   "cell_type": "code",
   "execution_count": null,
   "metadata": {},
   "outputs": [],
   "source": [
    "scores = model.evaluate(x=test_Features, \n",
    "                        y=test_Label)"
   ]
  },
  {
   "cell_type": "code",
   "execution_count": null,
   "metadata": {
    "ordo_solution": {
     "text/plain": "0.80363636406985195"
    }
   },
   "outputs": [],
   "source": [
    "scores[1]"
   ]
  },
  {
   "cell_type": "markdown",
   "metadata": {},
   "source": [
    "Save/Load Training Model\n",
    "---\n",
    "1.  Use the pickle operation to serialize your machine learning algorithms and save the serialized format to a file;  later we can load this file to deserialize your model and use it to make new predictions.\n",
    "- Joblib is part of the SciPy ecosystem and provides utilities for pipelining Python jobs.\n",
    "It provides utilities for saving and loading Python objects that make use of NumPy data structures, efficiently. This can be useful for some machine learning algorithms that require a lot of parameters or store the entire dataset (like K-Nearest Neighbors)."
   ]
  },
  {
   "cell_type": "code",
   "execution_count": null,
   "metadata": {},
   "outputs": [],
   "source": [
    "import pickle\n",
    "filename = 'finalized_model.sav'\n",
    "pickle.dump(model, open(filename, 'wb'))\n",
    " \n",
    "# some time later...\n",
    " \n",
    "# load the model from disk\n",
    "loaded_model = pickle.load(open(filename, 'rb'))\n",
    "#result = loaded_model.score(X_test, Y_test)\n",
    "#print(result)"
   ]
  },
  {
   "cell_type": "markdown",
   "metadata": {},
   "source": [
    "Save/Load Keras Model\n",
    "---\n",
    "Keras separates the concerns of saving your model architecture and saving your model weights.\n",
    "\n",
    "Model weights are saved to HDF5 format. This is a grid format that is ideal for storing multi-dimensional arrays of numbers.\n",
    "\n",
    "The model structure can be described and saved using two different formats: JSON and YAML:\n",
    "1. JSON: Keras provides the ability to describe any model using JSON format with a to_json() function. This can be saved to file and later loaded via the model_from_json() function that will create a new model from the JSON specification, and the weights are saved directly from the model using the save_weights() function and later loaded using the symmetrical load_weights() function.\n",
    "- YAML: the model is described using YAML, saved to file model.yaml and later loaded into a new model via the model_from_yaml() function. Weights are handled in the same way as above in HDF5 format as model.h5.\n",
    "\n"
   ]
  },
  {
   "cell_type": "code",
   "execution_count": null,
   "metadata": {
    "ordo_solution": {
     "text/plain": "<keras.models.Sequential at 0x11d8b0518>"
    }
   },
   "outputs": [],
   "source": [
    "model"
   ]
  },
  {
   "cell_type": "code",
   "execution_count": null,
   "metadata": {},
   "outputs": [],
   "source": [
    "# serialize model to JSON\n",
    "model_json = model.to_json()\n",
    "with open(\"model.json\", \"w\") as json_file:\n",
    "    json_file.write(model_json)\n",
    "# serialize weights to HDF5\n",
    "model.save_weights(\"model.h5\")\n",
    "print(\"Saved model to disk\")"
   ]
  },
  {
   "cell_type": "code",
   "execution_count": null,
   "metadata": {},
   "outputs": [],
   "source": [
    "from keras.models import model_from_json\n",
    "\n",
    "# load json and create model\n",
    "json_file = open('model.json', 'r')\n",
    "loaded_model_json = json_file.read()\n",
    "json_file.close()\n",
    "loaded_model = model_from_json(loaded_model_json)\n",
    "# load weights into new model\n",
    "loaded_model.load_weights(\"model.h5\")\n",
    "print(\"Loaded model from disk\")"
   ]
  },
  {
   "cell_type": "code",
   "execution_count": null,
   "metadata": {},
   "outputs": [],
   "source": [
    "loaded_model.compile(loss='binary_crossentropy', \n",
    "              optimizer='adam', metrics=['accuracy'])\n",
    "scores1 = loaded_model.evaluate(x=test_Features, \n",
    "                        y=test_Label)\n",
    "scores1[1]"
   ]
  },
  {
   "cell_type": "code",
   "execution_count": null,
   "metadata": {},
   "outputs": [],
   "source": [
    "from keras.models import model_from_yaml\n",
    "\n",
    "model_yaml = model.to_yaml()\n",
    "with open(\"model.yaml\", \"w\") as yaml_file:\n",
    "    yaml_file.write(model_yaml)\n",
    "# serialize weights to HDF5\n",
    "model.save_weights(\"model2.h5\")\n",
    "print(\"Saved model to disk\")"
   ]
  },
  {
   "cell_type": "code",
   "execution_count": null,
   "metadata": {},
   "outputs": [],
   "source": [
    "from keras.models import model_from_yaml\n",
    "\n",
    "# load YAML and create model\n",
    "yaml_file = open('model.yaml', 'r')\n",
    "loaded_model_yaml = yaml_file.read()\n",
    "yaml_file.close()\n",
    "loaded_model2 = model_from_yaml(loaded_model_yaml)\n",
    "# load weights into new model\n",
    "loaded_model2.load_weights(\"model2.h5\")\n",
    "print(\"Loaded model from disk\")"
   ]
  },
  {
   "cell_type": "code",
   "execution_count": null,
   "metadata": {},
   "outputs": [],
   "source": [
    "loaded_model2.compile(loss='binary_crossentropy', \n",
    "              optimizer='adam', metrics=['accuracy'])\n",
    "scores2 = loaded_model2.evaluate(x=test_Features, \n",
    "                        y=test_Label)\n",
    "scores2[1]"
   ]
  },
  {
   "cell_type": "markdown",
   "metadata": {
    "collapsed": true
   },
   "source": [
    "Note\n",
    "---\n",
    "Why is Neural Network concered with \"XOR\":\n",
    "\n",
    "```\n",
    "   Pred\\Fact    True   False\n",
    "    \n",
    "      True        T      F\n",
    "     \n",
    "      Flase       F      T\n",
    "```\n",
    "We can not divide the output by single line, (least square, for instance); thus, introduce additional conditions to help to make decision, (i.e. insert some \"<font color=\"brown\">hidden layer</font>\", or think that we use more lines to make final output).  "
   ]
  },
  {
   "cell_type": "code",
   "execution_count": null,
   "metadata": {},
   "outputs": [],
   "source": [
    "def cm_plot(y, yp):\n",
    "  cm = confusion_matrix(y, yp) \n",
    "  \n",
    "  plt.matshow(cm, cmap=plt.cm.Oranges) \n",
    "  plt.colorbar() \n",
    "  \n",
    "  for x in range(len(cm)): \n",
    "    for y in range(len(cm)):\n",
    "      plt.annotate(cm[x,y], xy=(x, y), horizontalalignment='center', verticalalignment='center',\n",
    "                   size=16,color='lightblue')\n",
    "  \n",
    "  plt.ylabel('True label',size=16) \n",
    "  plt.xlabel('Predicted label', size=16) \n",
    "  #return plt"
   ]
  },
  {
   "cell_type": "code",
   "execution_count": null,
   "metadata": {},
   "outputs": [],
   "source": [
    "train_Label"
   ]
  },
  {
   "cell_type": "code",
   "execution_count": null,
   "metadata": {},
   "outputs": [],
   "source": [
    "yp=model.predict_classes(train_Features).reshape(len(train_Label))"
   ]
  },
  {
   "cell_type": "code",
   "execution_count": null,
   "metadata": {},
   "outputs": [],
   "source": [
    "cm_plot(train_Label,yp)"
   ]
  },
  {
   "cell_type": "markdown",
   "metadata": {},
   "source": [
    "# Prediction"
   ]
  },
  {
   "cell_type": "markdown",
   "metadata": {},
   "source": [
    "# Additional data of Jack and Rose"
   ]
  },
  {
   "cell_type": "code",
   "execution_count": null,
   "metadata": {},
   "outputs": [],
   "source": [
    "Jack = pd.Series([0 ,'Jack',3, 'male'  , 23, 1, 0,  5.0000,'S'])\n",
    "Rose = pd.Series([1 ,'Rose',1, 'female', 20, 1, 0, 100.0000,'S'])"
   ]
  },
  {
   "cell_type": "code",
   "execution_count": null,
   "metadata": {},
   "outputs": [],
   "source": [
    "JR_df = pd.DataFrame([list(Jack),list(Rose)],  \n",
    "                  columns=['survived', 'name','pclass', 'sex', \n",
    "                   'age', 'sibsp','parch', 'fare','embarked'])"
   ]
  },
  {
   "cell_type": "code",
   "execution_count": null,
   "metadata": {},
   "outputs": [],
   "source": [
    "all_df=pd.concat([df,JR_df])"
   ]
  },
  {
   "cell_type": "code",
   "execution_count": null,
   "metadata": {
    "ordo_solution": {
     "text/html": "<div>\n<style>\n    .dataframe thead tr:only-child th {\n        text-align: right;\n    }\n\n    .dataframe thead th {\n        text-align: left;\n    }\n\n    .dataframe tbody tr th {\n        vertical-align: top;\n    }\n</style>\n<table border=\"1\" class=\"dataframe\">\n  <thead>\n    <tr style=\"text-align: right;\">\n      <th></th>\n      <th>survived</th>\n      <th>name</th>\n      <th>pclass</th>\n      <th>sex</th>\n      <th>age</th>\n      <th>sibsp</th>\n      <th>parch</th>\n      <th>fare</th>\n      <th>embarked</th>\n    </tr>\n  </thead>\n  <tbody>\n    <tr>\n      <th>0</th>\n      <td>0</td>\n      <td>Jack</td>\n      <td>3</td>\n      <td>male</td>\n      <td>23.0</td>\n      <td>1</td>\n      <td>0</td>\n      <td>5.0</td>\n      <td>S</td>\n    </tr>\n    <tr>\n      <th>1</th>\n      <td>1</td>\n      <td>Rose</td>\n      <td>1</td>\n      <td>female</td>\n      <td>20.0</td>\n      <td>1</td>\n      <td>0</td>\n      <td>100.0</td>\n      <td>S</td>\n    </tr>\n  </tbody>\n</table>\n</div>",
     "text/plain": "   survived  name  pclass     sex   age  sibsp  parch   fare embarked\n0         0  Jack       3    male  23.0      1      0    5.0        S\n1         1  Rose       1  female  20.0      1      0  100.0        S"
    }
   },
   "outputs": [],
   "source": [
    "all_df[-2:]"
   ]
  },
  {
   "cell_type": "code",
   "execution_count": null,
   "metadata": {
    "ordo_solution": {
     "text/html": "<div>\n<style>\n    .dataframe thead tr:only-child th {\n        text-align: right;\n    }\n\n    .dataframe thead th {\n        text-align: left;\n    }\n\n    .dataframe tbody tr th {\n        vertical-align: top;\n    }\n</style>\n<table border=\"1\" class=\"dataframe\">\n  <thead>\n    <tr style=\"text-align: right;\">\n      <th></th>\n      <th>survived</th>\n      <th>name</th>\n      <th>pclass</th>\n      <th>sex</th>\n      <th>age</th>\n      <th>sibsp</th>\n      <th>parch</th>\n      <th>fare</th>\n      <th>embarked</th>\n    </tr>\n  </thead>\n  <tbody>\n    <tr>\n      <th>0</th>\n      <td>0</td>\n      <td>Jack</td>\n      <td>3</td>\n      <td>male</td>\n      <td>23.0</td>\n      <td>1</td>\n      <td>0</td>\n      <td>5.0</td>\n      <td>S</td>\n    </tr>\n    <tr>\n      <th>1</th>\n      <td>1</td>\n      <td>Rose</td>\n      <td>1</td>\n      <td>female</td>\n      <td>20.0</td>\n      <td>1</td>\n      <td>0</td>\n      <td>100.0</td>\n      <td>S</td>\n    </tr>\n  </tbody>\n</table>\n</div>",
     "text/plain": "   survived  name  pclass     sex   age  sibsp  parch   fare embarked\n0         0  Jack       3    male  23.0      1      0    5.0        S\n1         1  Rose       1  female  20.0      1      0  100.0        S"
    }
   },
   "outputs": [],
   "source": [
    "all_df[-2:]"
   ]
  },
  {
   "cell_type": "markdown",
   "metadata": {},
   "source": [
    "# Survived Prediction "
   ]
  },
  {
   "cell_type": "code",
   "execution_count": null,
   "metadata": {},
   "outputs": [],
   "source": [
    "all_Features,Label=PreprocessData(all_df)"
   ]
  },
  {
   "cell_type": "code",
   "execution_count": null,
   "metadata": {},
   "outputs": [],
   "source": [
    "all_probability=model.predict(all_Features)"
   ]
  },
  {
   "cell_type": "code",
   "execution_count": null,
   "metadata": {
    "ordo_solution": {
     "text/plain": "array([[ 0.97760952],\n       [ 0.59464121],\n       [ 0.97364974],\n       [ 0.39163518],\n       [ 0.97211862],\n       [ 0.27777418],\n       [ 0.94674718],\n       [ 0.32543766],\n       [ 0.9458214 ],\n       [ 0.30609503]], dtype=float32)"
    }
   },
   "outputs": [],
   "source": [
    "all_probability[:10]"
   ]
  },
  {
   "cell_type": "code",
   "execution_count": null,
   "metadata": {},
   "outputs": [],
   "source": [
    "pd=all_df\n",
    "pd.insert(len(all_df.columns),\n",
    "          'probability',all_probability)"
   ]
  },
  {
   "cell_type": "markdown",
   "metadata": {},
   "source": [
    "# Were Jack and Rose survived"
   ]
  },
  {
   "cell_type": "code",
   "execution_count": null,
   "metadata": {
    "ordo_solution": {
     "text/html": "<div>\n<style>\n    .dataframe thead tr:only-child th {\n        text-align: right;\n    }\n\n    .dataframe thead th {\n        text-align: left;\n    }\n\n    .dataframe tbody tr th {\n        vertical-align: top;\n    }\n</style>\n<table border=\"1\" class=\"dataframe\">\n  <thead>\n    <tr style=\"text-align: right;\">\n      <th></th>\n      <th>survived</th>\n      <th>name</th>\n      <th>pclass</th>\n      <th>sex</th>\n      <th>age</th>\n      <th>sibsp</th>\n      <th>parch</th>\n      <th>fare</th>\n      <th>embarked</th>\n      <th>probability</th>\n    </tr>\n  </thead>\n  <tbody>\n    <tr>\n      <th>0</th>\n      <td>0</td>\n      <td>Jack</td>\n      <td>3</td>\n      <td>male</td>\n      <td>23.0</td>\n      <td>1</td>\n      <td>0</td>\n      <td>5.0</td>\n      <td>S</td>\n      <td>0.146612</td>\n    </tr>\n    <tr>\n      <th>1</th>\n      <td>1</td>\n      <td>Rose</td>\n      <td>1</td>\n      <td>female</td>\n      <td>20.0</td>\n      <td>1</td>\n      <td>0</td>\n      <td>100.0</td>\n      <td>S</td>\n      <td>0.970674</td>\n    </tr>\n  </tbody>\n</table>\n</div>",
     "text/plain": "   survived  name  pclass     sex   age  sibsp  parch   fare embarked  \\\n0         0  Jack       3    male  23.0      1      0    5.0        S   \n1         1  Rose       1  female  20.0      1      0  100.0        S   \n\n   probability  \n0     0.146612  \n1     0.970674  "
    }
   },
   "outputs": [],
   "source": [
    "pd[-2:]"
   ]
  },
  {
   "cell_type": "markdown",
   "metadata": {
    "collapsed": true
   },
   "source": [
    "# Could be survived but not"
   ]
  },
  {
   "cell_type": "code",
   "execution_count": null,
   "metadata": {},
   "outputs": [],
   "source": []
  },
  {
   "cell_type": "code",
   "execution_count": null,
   "metadata": {
    "ordo_solution": {
     "text/html": "<div>\n<style>\n    .dataframe thead tr:only-child th {\n        text-align: right;\n    }\n\n    .dataframe thead th {\n        text-align: left;\n    }\n\n    .dataframe tbody tr th {\n        vertical-align: top;\n    }\n</style>\n<table border=\"1\" class=\"dataframe\">\n  <thead>\n    <tr style=\"text-align: right;\">\n      <th></th>\n      <th>survived</th>\n      <th>name</th>\n      <th>pclass</th>\n      <th>sex</th>\n      <th>age</th>\n      <th>sibsp</th>\n      <th>parch</th>\n      <th>fare</th>\n      <th>embarked</th>\n      <th>probability</th>\n    </tr>\n  </thead>\n  <tbody>\n    <tr>\n      <th>2</th>\n      <td>0</td>\n      <td>Allison, Miss. Helen Loraine</td>\n      <td>1</td>\n      <td>female</td>\n      <td>2.0</td>\n      <td>1</td>\n      <td>2</td>\n      <td>151.5500</td>\n      <td>S</td>\n      <td>0.973650</td>\n    </tr>\n    <tr>\n      <th>4</th>\n      <td>0</td>\n      <td>Allison, Mrs. Hudson J C (Bessie Waldo Daniels)</td>\n      <td>1</td>\n      <td>female</td>\n      <td>25.0</td>\n      <td>1</td>\n      <td>2</td>\n      <td>151.5500</td>\n      <td>S</td>\n      <td>0.972119</td>\n    </tr>\n    <tr>\n      <th>105</th>\n      <td>0</td>\n      <td>Evans, Miss. Edith Corse</td>\n      <td>1</td>\n      <td>female</td>\n      <td>36.0</td>\n      <td>0</td>\n      <td>0</td>\n      <td>31.6792</td>\n      <td>C</td>\n      <td>0.979935</td>\n    </tr>\n    <tr>\n      <th>169</th>\n      <td>0</td>\n      <td>Isham, Miss. Ann Elizabeth</td>\n      <td>1</td>\n      <td>female</td>\n      <td>50.0</td>\n      <td>0</td>\n      <td>0</td>\n      <td>28.7125</td>\n      <td>C</td>\n      <td>0.977439</td>\n    </tr>\n    <tr>\n      <th>286</th>\n      <td>0</td>\n      <td>Straus, Mrs. Isidor (Rosalie Ida Blun)</td>\n      <td>1</td>\n      <td>female</td>\n      <td>63.0</td>\n      <td>1</td>\n      <td>0</td>\n      <td>221.7792</td>\n      <td>S</td>\n      <td>0.960816</td>\n    </tr>\n  </tbody>\n</table>\n</div>",
     "text/plain": "     survived                                             name  pclass  \\\n2           0                     Allison, Miss. Helen Loraine       1   \n4           0  Allison, Mrs. Hudson J C (Bessie Waldo Daniels)       1   \n105         0                         Evans, Miss. Edith Corse       1   \n169         0                       Isham, Miss. Ann Elizabeth       1   \n286         0           Straus, Mrs. Isidor (Rosalie Ida Blun)       1   \n\n        sex   age  sibsp  parch      fare embarked  probability  \n2    female   2.0      1      2  151.5500        S     0.973650  \n4    female  25.0      1      2  151.5500        S     0.972119  \n105  female  36.0      0      0   31.6792        C     0.979935  \n169  female  50.0      0      0   28.7125        C     0.977439  \n286  female  63.0      1      0  221.7792        S     0.960816  "
    }
   },
   "outputs": [],
   "source": [
    "pd[(pd['survived']==0) &  (pd['probability']>0.9) ]"
   ]
  },
  {
   "cell_type": "code",
   "execution_count": null,
   "metadata": {
    "ordo_solution": {
     "text/html": "<div>\n<style>\n    .dataframe thead tr:only-child th {\n        text-align: right;\n    }\n\n    .dataframe thead th {\n        text-align: left;\n    }\n\n    .dataframe tbody tr th {\n        vertical-align: top;\n    }\n</style>\n<table border=\"1\" class=\"dataframe\">\n  <thead>\n    <tr style=\"text-align: right;\">\n      <th></th>\n      <th>survived</th>\n      <th>name</th>\n      <th>pclass</th>\n      <th>sex</th>\n      <th>age</th>\n      <th>sibsp</th>\n      <th>parch</th>\n      <th>fare</th>\n      <th>embarked</th>\n      <th>probability</th>\n    </tr>\n  </thead>\n  <tbody>\n    <tr>\n      <th>0</th>\n      <td>1</td>\n      <td>Allen, Miss. Elisabeth Walton</td>\n      <td>1</td>\n      <td>female</td>\n      <td>29.0000</td>\n      <td>0</td>\n      <td>0</td>\n      <td>211.3375</td>\n      <td>S</td>\n      <td>0.977610</td>\n    </tr>\n    <tr>\n      <th>1</th>\n      <td>1</td>\n      <td>Allison, Master. Hudson Trevor</td>\n      <td>1</td>\n      <td>male</td>\n      <td>0.9167</td>\n      <td>1</td>\n      <td>2</td>\n      <td>151.5500</td>\n      <td>S</td>\n      <td>0.594641</td>\n    </tr>\n    <tr>\n      <th>2</th>\n      <td>0</td>\n      <td>Allison, Miss. Helen Loraine</td>\n      <td>1</td>\n      <td>female</td>\n      <td>2.0000</td>\n      <td>1</td>\n      <td>2</td>\n      <td>151.5500</td>\n      <td>S</td>\n      <td>0.973650</td>\n    </tr>\n    <tr>\n      <th>3</th>\n      <td>0</td>\n      <td>Allison, Mr. Hudson Joshua Creighton</td>\n      <td>1</td>\n      <td>male</td>\n      <td>30.0000</td>\n      <td>1</td>\n      <td>2</td>\n      <td>151.5500</td>\n      <td>S</td>\n      <td>0.391635</td>\n    </tr>\n    <tr>\n      <th>4</th>\n      <td>0</td>\n      <td>Allison, Mrs. Hudson J C (Bessie Waldo Daniels)</td>\n      <td>1</td>\n      <td>female</td>\n      <td>25.0000</td>\n      <td>1</td>\n      <td>2</td>\n      <td>151.5500</td>\n      <td>S</td>\n      <td>0.972119</td>\n    </tr>\n    <tr>\n      <th>5</th>\n      <td>1</td>\n      <td>Anderson, Mr. Harry</td>\n      <td>1</td>\n      <td>male</td>\n      <td>48.0000</td>\n      <td>0</td>\n      <td>0</td>\n      <td>26.5500</td>\n      <td>S</td>\n      <td>0.277774</td>\n    </tr>\n  </tbody>\n</table>\n</div>",
     "text/plain": "   survived                                             name  pclass     sex  \\\n0         1                    Allen, Miss. Elisabeth Walton       1  female   \n1         1                   Allison, Master. Hudson Trevor       1    male   \n2         0                     Allison, Miss. Helen Loraine       1  female   \n3         0             Allison, Mr. Hudson Joshua Creighton       1    male   \n4         0  Allison, Mrs. Hudson J C (Bessie Waldo Daniels)       1  female   \n5         1                              Anderson, Mr. Harry       1    male   \n\n       age  sibsp  parch      fare embarked  probability  \n0  29.0000      0      0  211.3375        S     0.977610  \n1   0.9167      1      2  151.5500        S     0.594641  \n2   2.0000      1      2  151.5500        S     0.973650  \n3  30.0000      1      2  151.5500        S     0.391635  \n4  25.0000      1      2  151.5500        S     0.972119  \n5  48.0000      0      0   26.5500        S     0.277774  "
    }
   },
   "outputs": [],
   "source": [
    "pd[:6]"
   ]
  },
  {
   "cell_type": "code",
   "execution_count": null,
   "metadata": {
    "ordo_solution": {
     "text/html": "<div>\n<style>\n    .dataframe thead tr:only-child th {\n        text-align: right;\n    }\n\n    .dataframe thead th {\n        text-align: left;\n    }\n\n    .dataframe tbody tr th {\n        vertical-align: top;\n    }\n</style>\n<table border=\"1\" class=\"dataframe\">\n  <thead>\n    <tr style=\"text-align: right;\">\n      <th></th>\n      <th>survived</th>\n      <th>name</th>\n      <th>pclass</th>\n      <th>sex</th>\n      <th>age</th>\n      <th>sibsp</th>\n      <th>parch</th>\n      <th>fare</th>\n      <th>embarked</th>\n      <th>probability</th>\n    </tr>\n  </thead>\n  <tbody>\n    <tr>\n      <th>73</th>\n      <td>1</td>\n      <td>Cleaver, Miss. Alice</td>\n      <td>1</td>\n      <td>female</td>\n      <td>22.0</td>\n      <td>0</td>\n      <td>0</td>\n      <td>151.55</td>\n      <td>S</td>\n      <td>0.975854</td>\n    </tr>\n  </tbody>\n</table>\n</div>",
     "text/plain": "    survived                  name  pclass     sex   age  sibsp  parch  \\\n73         1  Cleaver, Miss. Alice       1  female  22.0      0      0   \n\n      fare embarked  probability  \n73  151.55        S     0.975854  "
    }
   },
   "outputs": [],
   "source": [
    "pd[73:74]"
   ]
  },
  {
   "cell_type": "code",
   "execution_count": null,
   "metadata": {
    "ordo_solution": {
     "text/html": "<div>\n<style>\n    .dataframe thead tr:only-child th {\n        text-align: right;\n    }\n\n    .dataframe thead th {\n        text-align: left;\n    }\n\n    .dataframe tbody tr th {\n        vertical-align: top;\n    }\n</style>\n<table border=\"1\" class=\"dataframe\">\n  <thead>\n    <tr style=\"text-align: right;\">\n      <th></th>\n      <th>survived</th>\n      <th>name</th>\n      <th>pclass</th>\n      <th>sex</th>\n      <th>age</th>\n      <th>sibsp</th>\n      <th>parch</th>\n      <th>fare</th>\n      <th>embarked</th>\n      <th>probability</th>\n    </tr>\n  </thead>\n  <tbody>\n    <tr>\n      <th>285</th>\n      <td>0</td>\n      <td>Straus, Mr. Isidor</td>\n      <td>1</td>\n      <td>male</td>\n      <td>67.0</td>\n      <td>1</td>\n      <td>0</td>\n      <td>221.7792</td>\n      <td>S</td>\n      <td>0.175478</td>\n    </tr>\n    <tr>\n      <th>286</th>\n      <td>0</td>\n      <td>Straus, Mrs. Isidor (Rosalie Ida Blun)</td>\n      <td>1</td>\n      <td>female</td>\n      <td>63.0</td>\n      <td>1</td>\n      <td>0</td>\n      <td>221.7792</td>\n      <td>S</td>\n      <td>0.960816</td>\n    </tr>\n    <tr>\n      <th>287</th>\n      <td>0</td>\n      <td>Sutton, Mr. Frederick</td>\n      <td>1</td>\n      <td>male</td>\n      <td>61.0</td>\n      <td>0</td>\n      <td>0</td>\n      <td>32.3208</td>\n      <td>S</td>\n      <td>0.215959</td>\n    </tr>\n    <tr>\n      <th>288</th>\n      <td>1</td>\n      <td>Swift, Mrs. Frederick Joel (Margaret Welles Ba...</td>\n      <td>1</td>\n      <td>female</td>\n      <td>48.0</td>\n      <td>0</td>\n      <td>0</td>\n      <td>25.9292</td>\n      <td>S</td>\n      <td>0.961913</td>\n    </tr>\n    <tr>\n      <th>289</th>\n      <td>1</td>\n      <td>Taussig, Miss. Ruth</td>\n      <td>1</td>\n      <td>female</td>\n      <td>18.0</td>\n      <td>0</td>\n      <td>2</td>\n      <td>79.6500</td>\n      <td>S</td>\n      <td>0.970681</td>\n    </tr>\n  </tbody>\n</table>\n</div>",
     "text/plain": "     survived                                               name  pclass  \\\n285         0                                 Straus, Mr. Isidor       1   \n286         0             Straus, Mrs. Isidor (Rosalie Ida Blun)       1   \n287         0                              Sutton, Mr. Frederick       1   \n288         1  Swift, Mrs. Frederick Joel (Margaret Welles Ba...       1   \n289         1                                Taussig, Miss. Ruth       1   \n\n        sex   age  sibsp  parch      fare embarked  probability  \n285    male  67.0      1      0  221.7792        S     0.175478  \n286  female  63.0      1      0  221.7792        S     0.960816  \n287    male  61.0      0      0   32.3208        S     0.215959  \n288  female  48.0      0      0   25.9292        S     0.961913  \n289  female  18.0      0      2   79.6500        S     0.970681  "
    }
   },
   "outputs": [],
   "source": [
    "pd[285:290]"
   ]
  },
  {
   "cell_type": "code",
   "execution_count": null,
   "metadata": {},
   "outputs": [],
   "source": []
  },
  {
   "cell_type": "markdown",
   "metadata": {},
   "source": [
    "Stories\n",
    "---\n",
    "1. Guests number[1,2,3,4,73], Allison family, are the family and traveled with their maid. Allison family didn't know the baby, Trevor, **member 1**, had been aboard lifeboard with their maid, Alice, **member 73**, and stayed on Titanic. Thus they, **members [2,3,4]** sank with Titanic, so sad.\n",
    "2. Guest number 69, Lady Ann, could not escape herself  without her great dane (dog), and stay with her pet; therefore became one of dead in this wreck.\n",
    "3. Guests number [286,287], Mr. and Mrs. Straus, cofounder of Merci's New York, were also dead in this wreck thought Mrs. Straus had chance to be survived; but she refused to leave her husband and be aboard lifeboard alone. \"Where you go, I go\", others told what Mrs. Straus said at last. "
   ]
  },
  {
   "cell_type": "code",
   "execution_count": null,
   "metadata": {},
   "outputs": [],
   "source": []
  }
 ],
 "metadata": {
  "anaconda-cloud": {},
  "kernelspec": {
   "display_name": "Python 3",
   "language": "python",
   "name": "python3"
  },
  "language_info": {
   "codemirror_mode": {
    "name": "ipython",
    "version": 3
   },
   "file_extension": ".py",
   "mimetype": "text/x-python",
   "name": "python",
   "nbconvert_exporter": "python",
   "pygments_lexer": "ipython3",
   "version": "3.6.1"
  },
  "toc": {
   "colors": {
    "hover_highlight": "#DAA520",
    "navigate_num": "#000000",
    "navigate_text": "#333333",
    "running_highlight": "#FF0000",
    "selected_highlight": "#FFD700",
    "sidebar_border": "#EEEEEE",
    "wrapper_background": "#FFFFFF"
   },
   "moveMenuLeft": true,
   "nav_menu": {
    "height": "210px",
    "width": "252px"
   },
   "navigate_menu": true,
   "number_sections": true,
   "sideBar": true,
   "threshold": 4,
   "toc_cell": false,
   "toc_section_display": "block",
   "toc_window_display": false,
   "widenNotebook": false
  }
 },
 "nbformat": 4,
 "nbformat_minor": 1
}
