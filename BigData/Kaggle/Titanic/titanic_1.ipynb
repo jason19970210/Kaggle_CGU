{
 "cells": [
  {
   "cell_type": "markdown",
   "metadata": {},
   "source": [
    "<h1>Purpose : To identify what attributes contributed\n",
    "to the survivors.</h1>\n",
    "\n",
    "<h3>Attributes</h3>\n",
    "<ul>\n",
    "    <li>Age, Sex</li>\n",
    "    <li>Class</li>\n",
    "    <li>Embarked</li>\n",
    "</ul>"
   ]
  },
  {
   "cell_type": "code",
   "execution_count": null,
   "metadata": {},
   "outputs": [],
   "source": [
    "from IPython.display import Image\n",
    "Image(url='http://1.bp.blogspot.com/-Fvx5ut4Tezw/VLryIq1oiuI/AAAAAAAABY4/XuEDMiT3mJE/s1600/titanic-7.jpg',width=400)"
   ]
  },
  {
   "cell_type": "code",
   "execution_count": null,
   "metadata": {},
   "outputs": [],
   "source": [
    "import numpy as np\n",
    "import pandas as pd\n",
    "import seaborn as sns\n",
    "import matplotlib.pyplot as plt\n",
    "%matplotlib inline"
   ]
  },
  {
   "cell_type": "markdown",
   "metadata": {},
   "source": [
    "Download data from <a href=\"https://www.kaggle.com/c/titanic\">Kaggle</a>, save, and open it as follows:"
   ]
  },
  {
   "cell_type": "code",
   "execution_count": null,
   "metadata": {},
   "outputs": [],
   "source": [
    "#data\n",
    "test=pd.read_csv(\"data/Titanic/test.csv\")\n",
    "train=pd.read_csv(\"data/Titanic/train.csv\")"
   ]
  },
  {
   "cell_type": "code",
   "execution_count": null,
   "metadata": {},
   "outputs": [],
   "source": [
    "#General info.\n",
    "train.describe()"
   ]
  },
  {
   "cell_type": "code",
   "execution_count": null,
   "metadata": {},
   "outputs": [],
   "source": [
    "train.info()"
   ]
  },
  {
   "cell_type": "code",
   "execution_count": null,
   "metadata": {},
   "outputs": [],
   "source": [
    "test.describe()"
   ]
  },
  {
   "cell_type": "code",
   "execution_count": null,
   "metadata": {},
   "outputs": [],
   "source": [
    "test.info()"
   ]
  },
  {
   "cell_type": "code",
   "execution_count": null,
   "metadata": {},
   "outputs": [],
   "source": [
    "train.head()"
   ]
  },
  {
   "cell_type": "markdown",
   "metadata": {},
   "source": [
    "Data Cleaning\n",
    "---\n",
    "**Age, Sex**\n",
    "\n",
    "1. remove the missing data, the simplest way, (but is it always reasonable );\n",
    "2. replace missing data with resonable value, i.e. **average with one standard error**, $\\bar X-1\\cdot\\bar S$,\n",
    "   sample mean and standard deviation for $\\mu$ and $\\sigma$ respectively. "
   ]
  },
  {
   "cell_type": "code",
   "execution_count": null,
   "metadata": {},
   "outputs": [],
   "source": [
    "from numpy import exp,pi,sqrt\n",
    "from scipy.stats import gaussian_kde\n",
    "import seaborn as sns \n",
    "\n",
    "plt.figure(figsize=(10,4))\n",
    "\n",
    "# sample data\n",
    "p=1000\n",
    "x=np.random.normal(loc=0.0, scale=1.0, size=p)\n",
    "sns.kdeplot(x, bw=0.5,label='Sample Data')\n",
    "\n",
    "# pdf of standard normal random variable\n",
    "t=np.linspace(np.min(x),np.max(x),p)\n",
    "f=1/sqrt(2*pi)*exp(-t**2/2)\n",
    "plt.plot(t,f,'r--',label='pdf of $N(0,1)$')\n",
    "\n",
    "plt.plot([1,1],[0,exp(-1/2)/sqrt(2*pi)],'r-')\n",
    "plt.plot([-1,-1],[0,exp(-1/2)/sqrt(2*pi)],'r-')\n",
    "plt.text(-0.5,0.1,'68.2%',size=16,color='red')\n",
    "plt.text(-1.4,-0.03,'$-1\\cdot\\sigma$',color='red');\n",
    "plt.text(0.8,-0.03,'$1\\cdot\\sigma$',color='red');\n",
    "plt.legend()"
   ]
  },
  {
   "cell_type": "code",
   "execution_count": null,
   "metadata": {},
   "outputs": [],
   "source": [
    "#count the number of missin values.\n",
    "missing_values=train[\"Age\"].isnull().sum()\n",
    "missing_values"
   ]
  },
  {
   "cell_type": "code",
   "execution_count": null,
   "metadata": {},
   "outputs": [],
   "source": [
    "#there are 177 missing values. Fill in rational values.\n",
    "age_mean=train[\"Age\"].mean()\n",
    "age_std=train[\"Age\"].std()\n",
    "\n",
    "print(\"mean : \"+str(age_mean))\n",
    "print(\"std : \"+str(age_std))"
   ]
  },
  {
   "cell_type": "code",
   "execution_count": null,
   "metadata": {},
   "outputs": [],
   "source": [
    "#generate random values.\n",
    "random_values=np.random.randint(age_mean-age_std,age_mean+age_std,size=177)"
   ]
  },
  {
   "cell_type": "code",
   "execution_count": null,
   "metadata": {},
   "outputs": [],
   "source": [
    "#fill in the random values to null values.\n",
    "train[\"Age\"][train[\"Age\"].isnull()==True]=random_values"
   ]
  },
  {
   "cell_type": "code",
   "execution_count": null,
   "metadata": {},
   "outputs": [],
   "source": [
    "#FaceGrid\n",
    "fig = sns.FacetGrid(train, hue=\"Sex\",aspect=3)\n",
    "fig.map(sns.kdeplot,'Age',shade= True)\n",
    "\n",
    "# set the limit of X-axis\n",
    "oldest = train['Age'].max()\n",
    "fig.set(xlim=(0,oldest))\n",
    "fig.add_legend()"
   ]
  },
  {
   "cell_type": "markdown",
   "metadata": {},
   "source": [
    "Create addition class, in ** person**, which classifies whether the person is a child or not, (age &lt; 15): "
   ]
  },
  {
   "cell_type": "code",
   "execution_count": null,
   "metadata": {},
   "outputs": [],
   "source": [
    "def male_female_child (passenger):\n",
    "    age, sex = passenger\n",
    "    if age < 15:\n",
    "        return \"child\"\n",
    "    else:\n",
    "        return sex"
   ]
  },
  {
   "cell_type": "code",
   "execution_count": null,
   "metadata": {},
   "outputs": [],
   "source": [
    "#add a new colum\n",
    "train[\"person\"]=train[[\"Age\",\"Sex\"]].apply(male_female_child, axis=1)"
   ]
  },
  {
   "cell_type": "code",
   "execution_count": null,
   "metadata": {},
   "outputs": [],
   "source": [
    "train.head(10)"
   ]
  },
  {
   "cell_type": "code",
   "execution_count": null,
   "metadata": {},
   "outputs": [],
   "source": [
    "fig = sns.FacetGrid(train, hue=\"person\",aspect=3)\n",
    "fig.map(sns.kdeplot,'Age',shade= True)\n",
    "oldest = train['Age'].max()\n",
    "fig.set(xlim=(0,oldest))\n",
    "fig.add_legend()"
   ]
  },
  {
   "cell_type": "code",
   "execution_count": null,
   "metadata": {},
   "outputs": [],
   "source": [
    "#the relationship between \"Age\" and \"Survived\".\n",
    "sns.lmplot(\"Age\", \"Survived\", data=train)"
   ]
  },
  {
   "cell_type": "markdown",
   "metadata": {},
   "source": [
    "<p>Generally speaking, the younger passengers were, the more passengers survived.</p>"
   ]
  },
  {
   "cell_type": "code",
   "execution_count": null,
   "metadata": {
    "scrolled": false
   },
   "outputs": [],
   "source": [
    "sns.lmplot(\"Age\", \"Survived\", hue= \"Sex\", data=train, palette=\"winter\")"
   ]
  },
  {
   "cell_type": "markdown",
   "metadata": {},
   "source": [
    "<h2>Summary</h2>\n",
    "<p>There were three classes, male, female, child. (1)male: the older passengers were, the less possibility they had. (2)female: opposite to male, the older passengers were, the more possibility they had. (3)child: Survived with high possibility. We can guess that children were given the first priority to evacuate.</p>"
   ]
  },
  {
   "cell_type": "markdown",
   "metadata": {},
   "source": [
    "<h1>Class</h1>"
   ]
  },
  {
   "cell_type": "code",
   "execution_count": null,
   "metadata": {},
   "outputs": [],
   "source": [
    "#count the number of passengers in each class.\n",
    "print(train.Pclass.value_counts(dropna=False))"
   ]
  },
  {
   "cell_type": "code",
   "execution_count": null,
   "metadata": {
    "scrolled": true
   },
   "outputs": [],
   "source": [
    "sns.countplot(\"Pclass\" ,data=train)"
   ]
  },
  {
   "cell_type": "code",
   "execution_count": null,
   "metadata": {},
   "outputs": [],
   "source": [
    "#more specific\n",
    "sns.countplot(\"Pclass\", data=train, hue=\"Sex\")"
   ]
  },
  {
   "cell_type": "code",
   "execution_count": null,
   "metadata": {},
   "outputs": [],
   "source": [
    "#more specific\n",
    "sns.countplot(\"Pclass\", data=train, hue=\"person\")"
   ]
  },
  {
   "cell_type": "code",
   "execution_count": null,
   "metadata": {},
   "outputs": [],
   "source": [
    "#The relationship between \"Pclass\" and \"Survived\".\n",
    "sns.factorplot(\"Pclass\",\"Survived\",data=train,order=[1,2,3],aspect=2)"
   ]
  },
  {
   "cell_type": "code",
   "execution_count": null,
   "metadata": {},
   "outputs": [],
   "source": [
    "sns.factorplot(\"Pclass\",\"Survived\", hue=\"person\", data= train, order=[1,2,3], aspect=2)"
   ]
  },
  {
   "cell_type": "markdown",
   "metadata": {},
   "source": [
    "<h2>Summary</h2>\n",
    "<p>Pclass1 was the highest one. Pclass3 was the lowest one. Therefore, Class1  passengers were three times as safe as Class3 passengers. However, if you focus on \"Sex\", the result was slightly different.  </P>"
   ]
  },
  {
   "cell_type": "markdown",
   "metadata": {},
   "source": [
    "<h1>Place</h1>"
   ]
  },
  {
   "cell_type": "code",
   "execution_count": null,
   "metadata": {},
   "outputs": [],
   "source": [
    "sns.countplot(\"Embarked\", data=train)"
   ]
  },
  {
   "cell_type": "code",
   "execution_count": null,
   "metadata": {},
   "outputs": [],
   "source": [
    "sns.countplot(\"Embarked\", data=train, hue=\"Pclass\")"
   ]
  },
  {
   "cell_type": "code",
   "execution_count": null,
   "metadata": {},
   "outputs": [],
   "source": [
    "sns.factorplot(\"Embarked\",\"Survived\", data= train, aspect=2)"
   ]
  },
  {
   "cell_type": "markdown",
   "metadata": {},
   "source": [
    "<h2 style=\"font-family:georgia;background:black;color:yellow;\">Question</h2>\n",
    "<p style=\"font-family:georgia;font-size:1.4em\">The persons embarked at C own the highest rate of alive in this ship wreck. Could we conclude that it was because most passengers embarked at \"C\" also bought \"1\" Class tickets, compared with others doing?</p>"
   ]
  },
  {
   "cell_type": "code",
   "execution_count": null,
   "metadata": {},
   "outputs": [],
   "source": [
    "from IPython.display import Image\n",
    "Image(url='http://1.bp.blogspot.com/-E4r73C2lSyw/UFDGu4_9jBI/AAAAAAAAANc/ao7fY_fLotQ/s1600/TITANIC.jpg')"
   ]
  },
  {
   "cell_type": "code",
   "execution_count": null,
   "metadata": {},
   "outputs": [],
   "source": [
    "sns.factorplot('Pclass','Survived',data=train, aspect=2)"
   ]
  },
  {
   "cell_type": "code",
   "execution_count": null,
   "metadata": {},
   "outputs": [],
   "source": [
    "sns.factorplot('Embarked',data=train,hue='Pclass', kind='count',aspect=2)"
   ]
  },
  {
   "cell_type": "code",
   "execution_count": null,
   "metadata": {},
   "outputs": [],
   "source": [
    "train[\"Deck\"] = train.Cabin.str[0].map(lambda s: np.nan if s == \"T\" else s)\n",
    "train[\"Deck\"].fillna('Null', inplace=True)\n",
    "\n",
    "\n",
    "sns.factorplot('Deck',data=train, kind='count', palette='spring_d',aspect=2)"
   ]
  },
  {
   "cell_type": "code",
   "execution_count": null,
   "metadata": {},
   "outputs": [],
   "source": []
  }
 ],
 "metadata": {
  "kernelspec": {
   "display_name": "Python 3",
   "language": "python",
   "name": "python3"
  },
  "language_info": {
   "codemirror_mode": {
    "name": "ipython",
    "version": 3
   },
   "file_extension": ".py",
   "mimetype": "text/x-python",
   "name": "python",
   "nbconvert_exporter": "python",
   "pygments_lexer": "ipython3",
   "version": "3.6.1"
  }
 },
 "nbformat": 4,
 "nbformat_minor": 2
}
