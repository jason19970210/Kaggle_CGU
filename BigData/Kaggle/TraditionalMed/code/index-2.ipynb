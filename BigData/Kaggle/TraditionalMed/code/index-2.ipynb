{
 "cells": [
  {
   "cell_type": "markdown",
   "metadata": {},
   "source": [
    "[三陰乳癌 analyzed by Apriori Method](#Note)"
   ]
  },
  {
   "cell_type": "code",
   "execution_count": null,
   "metadata": {},
   "outputs": [],
   "source": [
    "import pandas as pd\n",
    "import time"
   ]
  },
  {
   "cell_type": "code",
   "execution_count": null,
   "metadata": {},
   "outputs": [],
   "source": [
    "# concer with L_{k-1}  to C_k \n",
    "def connect_string(x, ms):\n",
    "  x = list([sorted(i.split(ms)) for i in x])\n",
    "  l = len(x[0])\n",
    "  r = []\n",
    "  for i in range(len(x)):\n",
    "    for j in range(i,len(x)):\n",
    "      if x[i][:l-1] == x[j][:l-1] and x[i][l-1] != x[j][l-1]:\n",
    "        r.append(x[i][:l-1]+sorted([x[j][l-1],x[i][l-1]]))\n",
    "  return r\n",
    "\n",
    "# accociation rules seeking\n",
    "def find_rule(d, support, confidence, ms = '--'):\n",
    "  # the output   \n",
    "  result = pd.DataFrame(index=['support', 'confidence']) \n",
    "  \n",
    "  # degree of Support computation\n",
    "  support_series = 1.0*d.sum()/len(d)\n",
    "  # the first filter for support\n",
    "  column = list(support_series[support_series > support].index) \n",
    "  k = 0\n",
    "  \n",
    "  while len(column) > 1:\n",
    "    k = k+1\n",
    "    print('\\n第 %s 次搜尋進行中...' %k)\n",
    "    column = connect_string(column, ms)\n",
    "    print('數目：%s...' %len(column))\n",
    "    \n",
    "    # calculate support-value\n",
    "    sf = lambda i: d[i].prod(axis=1, numeric_only = True)\n",
    "    d_2 = pd.DataFrame(list(map(sf,column)), index = [ms.join(i) for i in column]).T\n",
    "    \n",
    "    # update the support-value while connected to L\n",
    "    support_series_2 = 1.0*d_2[[ms.join(i) for i in column]].sum()/len(d) \n",
    "    column = list(support_series_2[support_series_2 > support].index) \n",
    "    support_series = support_series.append(support_series_2)\n",
    "    column2 = []\n",
    "    \n",
    "    # detect the rules and seek which one is right\n",
    "    for i in column: \n",
    "      i = i.split(ms)\n",
    "      for j in range(len(i)):\n",
    "        column2.append(i[:j]+i[j+1:]+i[j:j+1])\n",
    "    \n",
    "    # introduce the array for confidence and compute\n",
    "    cofidence_series = pd.Series(index=[ms.join(i) for i in column2]) \n",
    "    for i in column2: \n",
    "      cofidence_series[ms.join(i)] = support_series[ms.join(sorted(i))]/support_series[ms.join(i[:len(i)-1])]\n",
    "    \n",
    "    # validate the confidence\n",
    "    for i in cofidence_series[cofidence_series > confidence].index:\n",
    "      result[i] = 0.0\n",
    "      result[i]['confidence'] = cofidence_series[i]\n",
    "      result[i]['support'] = support_series[ms.join(sorted(i.split(ms)))]\n",
    "  \n",
    "  # output the result\n",
    "  result = result.T.sort_values(['confidence','support'], ascending = False)\n",
    "  print('\\n结果為：')\n",
    "  print(result)\n",
    "  \n",
    "  return result"
   ]
  },
  {
   "cell_type": "code",
   "execution_count": null,
   "metadata": {},
   "outputs": [],
   "source": [
    "inputfile = '../data/apriori.csv'\n",
    "data = pd.read_csv(inputfile, header=None, dtype = object)"
   ]
  },
  {
   "cell_type": "code",
   "execution_count": null,
   "metadata": {},
   "outputs": [],
   "source": [
    "# timing the computational processing \n",
    "start = time.clock() \n",
    "print('\\n轉換原始數據至 binary (0-1) 矩陣...')\n",
    "# initial the test matrix\n",
    "ct = lambda x : pd.Series(1, index = x[pd.notnull(x)]) #转换0-1矩阵的过渡函数\n",
    "b = list(map(ct, data.as_matrix())) \n",
    "# replace the null columns by 0  \n",
    "data = pd.DataFrame(b).fillna(0)\n",
    "# time up\n",
    "end = time.clock() \n",
    "print('\\n轉換完成，執行時間：%0.2f秒' %(end-start))\n",
    "del b "
   ]
  },
  {
   "cell_type": "code",
   "execution_count": null,
   "metadata": {
    "scrolled": false
   },
   "outputs": [],
   "source": [
    "# the minima of default support and confidence levels\n",
    "support = 0.06 #最小支持度\n",
    "confidence = 0.75 #最小置信度\n",
    "ms = '---'\n",
    "\n",
    "start = time.clock() \n",
    "print('\\n最小支持度 %s, 最小可信度 %s' %(support,confidence))\n",
    "print('\\n開始搜尋關聯規則...')\n",
    "find_rule(data, support, confidence, ms)\n",
    "end = time.clock()\n",
    "print('\\n搜尋完成，執行時間：%0.2f 秒' %(end-start))"
   ]
  },
  {
   "cell_type": "markdown",
   "metadata": {},
   "source": [
    "Summary and Discussion\n",
    "---\n",
    "There are four rules induced here.\n",
    "1. ```A3---F4---H4``` means A3, F4  → H4 and etc.\n",
    "- Not all the rules are meaningful, only the last induced result in ```H``` cardinal.\n",
    "- Since the first rule, ```A3---F4---H4```, got the maximal support and confidence too, this explains the fact:\n",
    "      \"TNM 分期\" being H4 with confidence 88% and occurs possibly with 7.96%.\n",
    "- Rule 2: ...\n",
    "- Summary, the cancer with \"TNM 分期\" being H4 related to '肝腎陰虛症型 (F)', '肝氣鬱結症型 (A)', and '沖任失調症型 (C)', (<b style=\"color:red;\">肝氣不舒鬱積而成</b>)."
   ]
  },
  {
   "cell_type": "code",
   "execution_count": null,
   "metadata": {},
   "outputs": [],
   "source": [
    "datafile0 = '../data/data.csv'\n",
    "df = pd.read_csv(datafile0) "
   ]
  },
  {
   "cell_type": "code",
   "execution_count": null,
   "metadata": {},
   "outputs": [],
   "source": [
    "df.head()"
   ]
  },
  {
   "cell_type": "code",
   "execution_count": null,
   "metadata": {},
   "outputs": [],
   "source": [
    "import matplotlib.pyplot as plt\n",
    "from mpl_toolkits.mplot3d import Axes3D\n",
    "\n",
    "%matplotlib inline"
   ]
  },
  {
   "cell_type": "code",
   "execution_count": null,
   "metadata": {},
   "outputs": [],
   "source": [
    "plt.hist?"
   ]
  },
  {
   "cell_type": "code",
   "execution_count": null,
   "metadata": {},
   "outputs": [],
   "source": [
    "plt.scatter(df[['肝腎陰虛症型係數']],df[['肝氣鬱結症型係數']])"
   ]
  },
  {
   "cell_type": "code",
   "execution_count": null,
   "metadata": {},
   "outputs": [],
   "source": [
    "A= plt.figure().gca(projection='3d')\n",
    "A.scatter(df[['肝腎陰虛症型係數']],df[['肝氣鬱結症型係數']],df[['沖任失調症型係數']])"
   ]
  },
  {
   "cell_type": "code",
   "execution_count": null,
   "metadata": {},
   "outputs": [],
   "source": []
  }
 ],
 "metadata": {
  "kernelspec": {
   "display_name": "Python 3",
   "language": "python",
   "name": "python3"
  },
  "language_info": {
   "codemirror_mode": {
    "name": "ipython",
    "version": 3
   },
   "file_extension": ".py",
   "mimetype": "text/x-python",
   "name": "python",
   "nbconvert_exporter": "python",
   "pygments_lexer": "ipython3",
   "version": "3.6.1"
  },
  "toc": {
   "colors": {
    "hover_highlight": "#DAA520",
    "navigate_num": "#000000",
    "navigate_text": "#333333",
    "running_highlight": "#FF0000",
    "selected_highlight": "#FFD700",
    "sidebar_border": "#EEEEEE",
    "wrapper_background": "#FFFFFF"
   },
   "moveMenuLeft": true,
   "nav_menu": {
    "height": "12px",
    "width": "252px"
   },
   "navigate_menu": true,
   "number_sections": true,
   "sideBar": true,
   "threshold": 4,
   "toc_cell": false,
   "toc_section_display": "block",
   "toc_window_display": false,
   "widenNotebook": false
  }
 },
 "nbformat": 4,
 "nbformat_minor": 2
}
