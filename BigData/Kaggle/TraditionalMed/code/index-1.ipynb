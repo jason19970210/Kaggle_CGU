{
 "cells": [
  {
   "cell_type": "code",
   "execution_count": null,
   "metadata": {},
   "outputs": [],
   "source": [
    "import pandas as pd\n",
    "from sklearn.cluster import KMeans \n",
    "import numpy as np\n",
    "# where data file and result saved\n",
    "datafile = '../data/data.csv' \n",
    "processedfile = '../tmp/data_processed.csv' \n",
    "\n",
    "typelabel ={'肝氣鬱結症型係數':'A', '熱毒蘊結症型係數':'B', '沖任失調症型係數':'C', '氣血兩虛症型係數':'D',\n",
    "            '脾胃虛弱症型係數':'E', '肝腎陰虛症型係數':'F'}\n",
    "# number of clusters\n",
    "k = 4 \n",
    "\n",
    "# load data\n",
    "data = pd.read_csv(datafile) \n",
    "keys = list(typelabel.keys())"
   ]
  },
  {
   "cell_type": "markdown",
   "metadata": {},
   "source": [
    "Total scores\n",
    "---\n",
    "1. 肝氣鬱結症型 (A): 40,\n",
    "-  熱毒蘊結症型 (B): 44,\n",
    "-  沖任失調症型 (C): 41,\n",
    "-  氣血兩虛症型 (D): 43,\n",
    "-  脾胃虛弱症型 (E): 43,\n",
    "-  肝腎陰虛症型 (F): 38.\n",
    "\n",
    "症型係數 = <font size=+1.5>$\\frac{\\text{score}}{\\text{total}}$</font>\n",
    "\n",
    "Steps:\n",
    "---\n",
    "1. convert each data into 症型係數, <i>score/(total score)</i>\n",
    "- (KNN's) there are 4 clusters in each feature (A ~ F);\n",
    "- computer the center of clusters\n",
    "- determine in which clusters the data are;\n",
    "- normailze the range, [0,1], of features according to the data frequencies."
   ]
  },
  {
   "cell_type": "code",
   "execution_count": null,
   "metadata": {},
   "outputs": [],
   "source": [
    "\n",
    "result = pd.DataFrame()\n",
    "\n",
    "for i in range(len(keys)):\n",
    "    # Using k-means Algorithm\n",
    "    print('正在進行 “%s” 的聚類...' % keys[i])\n",
    "    # n_jobs: number of threads, numbers of cores is a good selection\n",
    "    kmodel = KMeans(n_clusters = k, n_jobs = 4) \n",
    "    kmodel.fit(data[[keys[i]]].as_matrix()) # Model training\n",
    "    \n",
    "    \"\"\"\n",
    "    r1: centers of clusters\n",
    "    r2: number of each clusters\n",
    "    r :  \n",
    "    \"\"\"    \n",
    "    r1 = pd.DataFrame(kmodel.cluster_centers_, columns = [typelabel[keys[i]]]) \n",
    "    r2 = pd.Series(kmodel.labels_).value_counts() \n",
    "    r2 = pd.DataFrame(r2, columns = [typelabel[keys[i]]+'n'])\n",
    "    r = pd.concat([r1, r2], axis = 1).sort_values(typelabel[keys[i]]) \n",
    "    r.index = [1, 2, 3, 4]\n",
    "    \n",
    "    r[typelabel[keys[i]]] = pd.rolling_mean(r[typelabel[keys[i]]], 2) #rolling_mean()用来计算相邻2列的均值，以此作为边界点。\n",
    "    r[typelabel[keys[i]]][1] = 0.0 #这两句代码将原来的聚类中心改为边界点。\n",
    "    result = result.append(r.T)\n",
    "    #result= result.sort_values()\n",
    "    result.to_csv(processedfile)"
   ]
  },
  {
   "cell_type": "code",
   "execution_count": null,
   "metadata": {},
   "outputs": [],
   "source": [
    "# find out max value for each feature \n",
    "B={}\n",
    "for key in keys:\n",
    "    B[typelabel[key]]=max(data[key])\n",
    "\n",
    "Features=list(typelabel.values())#['A','B','C','D','E','F']\n",
    "\n",
    "# the range of clusters for each feature\n",
    "print(\"Ranges of Clusters\\n===\")\n",
    "for f in Features:\n",
    "    i=0\n",
    "    for i in range(0,4):\n",
    "        if i ==3:\n",
    "           f_val0=result.loc[f].values[i]\n",
    "           #f_val1=max(data['肝氣鬱結症型係數'])\n",
    "           f_val1=B[f] \n",
    "        else:\n",
    "           f_val0=result.loc[f].values[i]\n",
    "           f_val1=result.loc[f].values[i+1]\n",
    "        print(\"%s%d: (%.3f,%.3f]\" %(f,i+1,f_val0,f_val1))\n",
    "    print('---\\n')"
   ]
  },
  {
   "cell_type": "code",
   "execution_count": null,
   "metadata": {},
   "outputs": [],
   "source": [
    "# create the range array create above\n",
    "\n",
    "f_range=np.zeros([6,4])\n",
    "i=0\n",
    "for f in Features:\n",
    "    for j in range(0,4):\n",
    "        if j ==3:\n",
    "           #f_val1=max(data['肝氣鬱結症型係數'])\n",
    "            f_range[i,j]=B[f] \n",
    "        else:\n",
    "           f_range[i,j]=result.loc[f].values[j+1]\n",
    "    i=i+1       "
   ]
  },
  {
   "cell_type": "code",
   "execution_count": null,
   "metadata": {},
   "outputs": [],
   "source": [
    "def feature_class1(fval,fname=Features[0],range_arr=f_range[0]):\n",
    "    index_val = fval\n",
    "\n",
    "    if index_val < range_arr[0]:\n",
    "        return fname+'1'\n",
    "    elif index_val < range_arr[1]:\n",
    "        return fname+'2'\n",
    "    elif index_val < range_arr[2]:\n",
    "        return fname+'3'\n",
    "    else:\n",
    "        return fname+'4'"
   ]
  },
  {
   "cell_type": "code",
   "execution_count": null,
   "metadata": {},
   "outputs": [],
   "source": []
  },
  {
   "cell_type": "code",
   "execution_count": null,
   "metadata": {},
   "outputs": [],
   "source": [
    "data1=data"
   ]
  },
  {
   "cell_type": "markdown",
   "metadata": {},
   "source": [
    "<big>**Pre-defined variables**</big>\n",
    "\n",
    "<pre style=\"font-family:chalkboard;font-face:bold;font-size:1.2em;\" />\n",
    "keys = ['肝氣鬱結症型係數','熱毒蘊結症型係數', '沖任失調症型係數', '氣血兩虛症型係數', '脾胃虛弱症型係數', '肝腎陰虛症型係數']\n",
    "\n",
    "Features = ['A', 'B', 'C', 'D', 'E', 'F']\n",
    "f_range = array([\n",
    "                  [0.17869759, 0.25772406, 0.35184318, 0.504 ],\n",
    "                  [0.15354254, 0.29821671, 0.48995396, 0.78  ],\n",
    "                  [0.20214873, 0.28906114, 0.42353655, 0.61  ],\n",
    "                  [0.17228126, 0.25168344, 0.35935347, 0.552 ],\n",
    "                  [0.1526978 , 0.25787347, 0.37606164, 0.526 ],\n",
    "                  [0.17914338, 0.26138639, 0.35464267, 0.607 ]\n",
    "                ])\n",
    "</pre>"
   ]
  },
  {
   "cell_type": "code",
   "execution_count": null,
   "metadata": {},
   "outputs": [],
   "source": [
    "# create cardinal column\n",
    "for i in range(6):\n",
    "    data1[Features[i]]=[feature_class1(item,fname=Features[i],range_arr=f_range[i]) \n",
    "                for item in data1[[keys[i]]].values]"
   ]
  },
  {
   "cell_type": "code",
   "execution_count": null,
   "metadata": {},
   "outputs": [],
   "source": [
    "data1[['H']]=data[['TNM分期']]"
   ]
  },
  {
   "cell_type": "code",
   "execution_count": null,
   "metadata": {},
   "outputs": [],
   "source": [
    "data1.head()"
   ]
  },
  {
   "cell_type": "code",
   "execution_count": null,
   "metadata": {},
   "outputs": [],
   "source": [
    "# save the converted cardinal data\n",
    "data1[['A','B','C','D','E','F','H']].to_csv(\"../data/apriori.csv\",index=False,columns=None,header=None)"
   ]
  },
  {
   "cell_type": "code",
   "execution_count": null,
   "metadata": {},
   "outputs": [],
   "source": []
  }
 ],
 "metadata": {
  "kernelspec": {
   "display_name": "Python 3",
   "language": "python",
   "name": "python3"
  },
  "language_info": {
   "codemirror_mode": {
    "name": "ipython",
    "version": 3
   },
   "file_extension": ".py",
   "mimetype": "text/x-python",
   "name": "python",
   "nbconvert_exporter": "python",
   "pygments_lexer": "ipython3",
   "version": "3.6.1"
  },
  "toc": {
   "colors": {
    "hover_highlight": "#DAA520",
    "navigate_num": "#000000",
    "navigate_text": "#333333",
    "running_highlight": "#FF0000",
    "selected_highlight": "#FFD700",
    "sidebar_border": "#EEEEEE",
    "wrapper_background": "#FFFFFF"
   },
   "moveMenuLeft": true,
   "nav_menu": {
    "height": "12px",
    "width": "252px"
   },
   "navigate_menu": true,
   "number_sections": true,
   "sideBar": true,
   "threshold": 4,
   "toc_cell": false,
   "toc_section_display": "none",
   "toc_window_display": false,
   "widenNotebook": false
  }
 },
 "nbformat": 4,
 "nbformat_minor": 2
}
