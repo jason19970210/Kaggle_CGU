{
 "cells": [
  {
   "cell_type": "markdown",
   "metadata": {},
   "source": [
    "K-Means\n",
    "===\n",
    "- [t-SNE, Dimensions Resduction](#t_SNE-(Visualization-for-High-dimensional-Data)), Visualization of high-dimensional data\n",
    "- [KMeans, Math background](#Mathematical-Background)\n",
    "- [Association among data](#Apriori's-Algorithm)\n",
    "\n",
    "\n",
    "[Windows Python packages](https://www.lfd.uci.edu/~gohlke/pythonlibs/)\n",
    "\n",
    "[goo.gl](https://docs.google.com/forms/d/e/1FAIpQLSeoNLyNEOSC3sy0JQVYxIyCIRbXYZe_batJ-vszreVYGbRaXw/viewform)"
   ]
  },
  {
   "cell_type": "code",
   "execution_count": null,
   "metadata": {},
   "outputs": [],
   "source": []
  },
  {
   "cell_type": "code",
   "execution_count": null,
   "metadata": {},
   "outputs": [],
   "source": [
    "from sklearn.cluster import KMeans\n",
    "import pandas as pd\n",
    "import numpy as np\n",
    "\n",
    "from sklearn.manifold import TSNE\n",
    "import matplotlib.pyplot as plt\n",
    "from mpl_toolkits.mplot3d import Axes3D"
   ]
  },
  {
   "cell_type": "code",
   "execution_count": null,
   "metadata": {},
   "outputs": [],
   "source": [
    "# generate 6 vetors data with 4 dimensions, each element being integer between [0,9]\n",
    "X = np.random.randint(10,size=(6,4))\n",
    "X"
   ]
  },
  {
   "cell_type": "code",
   "execution_count": null,
   "metadata": {},
   "outputs": [],
   "source": [
    "# 3-clusters\n",
    "kmeans = KMeans(n_clusters=3, random_state=0).fit(X)\n",
    "kmeans.cluster_centers_"
   ]
  },
  {
   "cell_type": "code",
   "execution_count": null,
   "metadata": {},
   "outputs": [],
   "source": [
    "kmeans.labels_"
   ]
  },
  {
   "cell_type": "code",
   "execution_count": null,
   "metadata": {},
   "outputs": [],
   "source": [
    "# 2 data in type 0, 2 in type 1, and 2 in type 2\n",
    "kmeans.labels_"
   ]
  },
  {
   "cell_type": "code",
   "execution_count": null,
   "metadata": {},
   "outputs": [],
   "source": [
    "# regenerate 2 additional data\n",
    "y=np.random.randint(10,size=(2,4))\n",
    "y"
   ]
  },
  {
   "cell_type": "code",
   "execution_count": null,
   "metadata": {},
   "outputs": [],
   "source": [
    "# determine which cluster each one belongs to \n",
    "kmeans.predict(y)"
   ]
  },
  {
   "cell_type": "markdown",
   "metadata": {},
   "source": [
    "t_SNE (Visualization for High-dimensional Data)\n",
    "---\n",
    "One-dimentional data, `{(x1,c1),(x2,c2), ...}`, could be visualized by 2D picture, 2-dimentional data, `{(x1,y1,c1),(x2,y2,c2), ...}`, could be visualized by 3D picture. But how to visualize the data with dimension more than 2? With the concept of \"manifold\" of Mathemetical theory, we can also visualize the data. "
   ]
  },
  {
   "cell_type": "code",
   "execution_count": null,
   "metadata": {},
   "outputs": [],
   "source": [
    "# Make more data\n",
    "X = np.random.randint(10,size=(100,4))\n",
    "df = pd.DataFrame(X)"
   ]
  },
  {
   "cell_type": "code",
   "execution_count": null,
   "metadata": {},
   "outputs": [],
   "source": []
  },
  {
   "cell_type": "code",
   "execution_count": null,
   "metadata": {},
   "outputs": [],
   "source": [
    "kmeans = KMeans(n_clusters=3, random_state=0).fit(X)\n",
    "kmeans.cluster_centers_"
   ]
  },
  {
   "cell_type": "code",
   "execution_count": null,
   "metadata": {},
   "outputs": [],
   "source": [
    "r1 = pd.Series(kmeans.labels_).value_counts() \n",
    "r2 = pd.DataFrame(kmeans.cluster_centers_)"
   ]
  },
  {
   "cell_type": "code",
   "execution_count": null,
   "metadata": {},
   "outputs": [],
   "source": [
    "r2"
   ]
  },
  {
   "cell_type": "code",
   "execution_count": null,
   "metadata": {},
   "outputs": [],
   "source": [
    "r=pd.concat([r2, r1], axis = 1)\n",
    "r"
   ]
  },
  {
   "cell_type": "code",
   "execution_count": null,
   "metadata": {},
   "outputs": [],
   "source": [
    "r.columns = list(df.columns) + ['Num']\n",
    "r"
   ]
  },
  {
   "cell_type": "code",
   "execution_count": null,
   "metadata": {},
   "outputs": [],
   "source": [
    "r = pd.concat([df, pd.Series(kmeans.labels_, index = df.index)], axis = 1)\n",
    "r.columns = list(df.columns) + ['Cluster']\n"
   ]
  },
  {
   "cell_type": "code",
   "execution_count": null,
   "metadata": {},
   "outputs": [],
   "source": [
    "df1=df.copy()"
   ]
  },
  {
   "cell_type": "code",
   "execution_count": null,
   "metadata": {},
   "outputs": [],
   "source": [
    "TSNE?"
   ]
  },
  {
   "cell_type": "code",
   "execution_count": null,
   "metadata": {},
   "outputs": [],
   "source": [
    "tsne = TSNE()\n",
    "tsne.fit_transform(df1);\n"
   ]
  },
  {
   "cell_type": "code",
   "execution_count": null,
   "metadata": {},
   "outputs": [],
   "source": [
    "tsne3 = TSNE(n_components=3)\n",
    "tsne3.fit_transform(df1);\n"
   ]
  },
  {
   "cell_type": "code",
   "execution_count": null,
   "metadata": {},
   "outputs": [],
   "source": []
  },
  {
   "cell_type": "code",
   "execution_count": null,
   "metadata": {},
   "outputs": [],
   "source": [
    "tsne = pd.DataFrame(tsne.embedding_, index = df1.index)"
   ]
  },
  {
   "cell_type": "code",
   "execution_count": null,
   "metadata": {},
   "outputs": [],
   "source": [
    "tsne3 = pd.DataFrame(tsne3.embedding_, index = df1.index)"
   ]
  },
  {
   "cell_type": "code",
   "execution_count": null,
   "metadata": {},
   "outputs": [],
   "source": [
    "\n",
    "#plt.rcParams['font.serif'] = ['SimHei'] #用来正常显示中文标签\n",
    "#plt.rcParams['axes.unicode_minus'] = False\n",
    "\n",
    "plt.figure(figsize=(6,6))\n",
    "\n",
    "d = tsne[r['Cluster'] == 0]\n",
    "plt.plot(d[0], d[1], 'r.')\n",
    "d = tsne[r['Cluster'] == 1]\n",
    "plt.plot(d[0], d[1], 'go')\n",
    "d = tsne[r['Cluster'] == 2]\n",
    "plt.plot(d[0], d[1], 'b*')\n",
    "plt.show()"
   ]
  },
  {
   "cell_type": "code",
   "execution_count": null,
   "metadata": {},
   "outputs": [],
   "source": [
    "\n",
    "#plt.rcParams['font.serif'] = ['SimHei'] #用来正常显示中文标签\n",
    "#plt.rcParams['axes.unicode_minus'] = False\n",
    "\n",
    "A= plt.figure(figsize=(12,8)).gca(projection='3d')\n",
    "\n",
    "d = tsne3[r['Cluster'] == 0]\n",
    "A.scatter(d[0], d[1], d[2],'r.')\n",
    "d = tsne3[r['Cluster'] == 1]\n",
    "A.scatter(d[0], d[1],d[2], 'go')\n",
    "d = tsne3[r['Cluster'] == 2]\n",
    "A.scatter(d[0], d[1],d[2], 'b*')\n",
    "A.view_init(elev=20., azim=-95)\n",
    "#plt.show()"
   ]
  },
  {
   "cell_type": "code",
   "execution_count": null,
   "metadata": {},
   "outputs": [],
   "source": [
    "\n",
    "#plt.rcParams['font.serif'] = ['SimHei'] #用来正常显示中文标签\n",
    "#plt.rcParams['axes.unicode_minus'] = False\n",
    "\n",
    "plt.figure(figsize=(6,6))\n",
    "\n",
    "d = tsne[r['Cluster'] == 0]\n",
    "plt.plot(d[0], d[1], 'r.')\n",
    "d = tsne[r['Cluster'] == 1]\n",
    "plt.plot(d[0], d[1], 'go')\n",
    "d = tsne[r['Cluster'] == 2]\n",
    "plt.plot(d[0], d[1], 'b*')\n",
    "plt.show()"
   ]
  },
  {
   "cell_type": "code",
   "execution_count": null,
   "metadata": {},
   "outputs": [],
   "source": []
  },
  {
   "cell_type": "code",
   "execution_count": null,
   "metadata": {},
   "outputs": [],
   "source": [
    "# introduce seaborn style\n",
    "import seaborn as sns\n",
    "sns.set()"
   ]
  },
  {
   "cell_type": "code",
   "execution_count": null,
   "metadata": {},
   "outputs": [],
   "source": []
  },
  {
   "cell_type": "markdown",
   "metadata": {},
   "source": [
    "Mathematical Background\n",
    "---\n",
    "1. Initial $k$ centers of cluster: Choose $k$ samples, $y_i$, $i=1,2,\\cdots,k$, randomly from $n$ dataset, $X_n=\\{x_{n1},x_{n2},\\cdots,x_{nm}\\}$;\n",
    "2. Each data was included into the the cluster above to which it is closest;\n",
    "- Re-calculate the centers of clusters;\n",
    "- Compare new centers with the last result; if varies, repeat step (2), or forward;\n",
    "- if not change, output the clusters."
   ]
  },
  {
   "cell_type": "markdown",
   "metadata": {},
   "source": [
    "Apriori's Algorithm\n",
    "===\n",
    "\n",
    "Support and Confidence\n",
    "---\n",
    "\n",
    "1. Suppose that sample space $\\Omega=\\{Event_1,Event_2,\\cdots\\}$, and each events could includes elements, $A, B,$ and etc, e.g.\n",
    "     ```\n",
    "      Event 1: A, B, C, D\n",
    "      Event 2: C, D\n",
    "      Event 3: B, C, D\n",
    "      Event 4: A, D\n",
    "      Event 5: A, C, D\n",
    "     ```\n",
    "  a). support of $A$, frequency of $A$ included in events:\n",
    "    $$ \\text{support}(A)=\\frac{P(A)}{P(\\Omega)}=\\left(\\color{red}{\\frac{3}{5}}\\right)$$\n",
    "    3 $A$'s in 5 event.\n",
    "  b). Confidence of $A\\to B$\n",
    "    $$\\text{confidence}(B|A)=P(A\\to B)=\\frac{\\text{support}(A\\cap B)}{\\text{support}(A)}=\\left(\\color{red}{\\frac{1}{3}}\\right)$$\n",
    "    One $(A,B)$ occurence come with respect to 3 $(A)$ occurences in total events. \n",
    "\n"
   ]
  },
  {
   "cell_type": "markdown",
   "metadata": {},
   "source": [
    "Algorithm\n",
    "---\n",
    "consider the case, minimal support, <font color=\"brown\">0.4</font>, and confidence, <font color=\"brown\">0.6</font>, given:\n",
    "   \n",
    "a).   \n",
    "\n",
    "|C1, Support|L1, Support|\n",
    "|---|---|\n",
    "|{A} → 0.6|{A} → 0.6 ✔️|\n",
    "|{B} → 0.4|{B} → 0.4 ✔️|\n",
    "|{C} → 0.8|{C} → 0.8 ✔️|\n",
    "|{D} → 1.0|{D} → 1.0 ✔️|\n",
    "\n",
    "where the cases in L1 represents they satisfy the condition, **support  ≥ 0.4**; in other words, the cases occur frequently.\n",
    "\n",
    "b).\n",
    "\n",
    "|C2, Support|L2, Support|\n",
    "|---|---|\n",
    "|<del>{A,B} → 0.2</del>||\n",
    "|{A,C} → 0.4|{A,C} → 0.4 ✔️|\n",
    "|{A,D} → 0.6|{A,D} → 0.6 ✔️|\n",
    "|{B,C} → 0.4|{B,C} → 0.4 ✔️|\n",
    "|{B,D} → 0.4|{B,D} → 0.4 ✔️|\n",
    "|{C,D} → 0.8|{C,D} → 0.8 ✔️|\n",
    "\n",
    "c).\n",
    "\n",
    "|C3, Support|L3, Support|\n",
    "|---|---|\n",
    "|{B,C,D} → 0.4|{B,C,D} → 0.4 ✔️|\n",
    "\n",
    "In C3, support of all the non-null subset have to be satisfies in L1 and L2. Thus only\n",
    "{B,C,D} is satisfies, e.g.\n",
    "- {A,B,C} ▶︎ <font color=\"red\">{A,B} ✘</font>, {A,C} ✔️, {B,C} ✔️\n",
    "- {A,C,D} ▶︎ {A,C}, {A,D}, {C,D} ✔️\n",
    "- {B,C,D} ▶︎ {B,C}, {B,D}, {C,D} ✔️\n",
    "\n",
    "\n",
    "|Rule|Support|Confidence|Rules|\n",
    "|---|---:|---:|\n",
    "|A → C|40%|66.7%| \n",
    "|C → A|40%|50%| \n",
    "|A → D|60%|100%| ✔️|\n",
    "|D → A|60%|60%| \n",
    "|✝︎B → C|40%|100%| ✝︎✔️|\n",
    "|C → B|40%|50%|\n",
    "|✝︎B → D|40%|100%| ✝︎✔️|\n",
    "|D → B|40%|40%|\n",
    "|C → D|80%|100%| ✔️|\n",
    "|D → C|80%|80%| ✔️ |\n",
    "|A,C → D|40%|100%| ✔️|\n",
    "|B,C → D|40%|100%| ✔️|\n",
    "|B,D → C|40%|100%| ✔️|\n",
    "|C,D → B|40%|66.7%|\n",
    "|✝︎B → C,D|40%|100%|✝︎✔️|\n",
    "|C → B,D|40%|50%|\n",
    "|D → B,C|40%|40%|\n",
    "\n",
    "where `✝︎` means the same induction. The result of the 3rd inference shows the fact that item C should be also chosen once item B was chosen."
   ]
  },
  {
   "cell_type": "markdown",
   "metadata": {},
   "source": [
    "Frequent-Pattern (FP) Growth\n",
    "---\n",
    "FP-Growth is an improvement of apriori designed to eliminate some of the heavy bottlenecks in apriori. "
   ]
  },
  {
   "cell_type": "markdown",
   "metadata": {},
   "source": [
    "It's not hard to find out all the associated rules but only complicated. Here, `pyfpgrowth` plays the role to find out the associated rule among set of considered events. This packages can be install by `pip`."
   ]
  },
  {
   "cell_type": "markdown",
   "metadata": {},
   "source": [
    "Steps\n",
    "---\n",
    "The first step is we count all the items in all the transactions\n",
    "\n",
    "1. **Transactions**= [ A: 3, B: 2, C: 4, D: 5]\n",
    "- Set minimal threshhole = 2, (i.e. 2/5=0.4), <br>\n",
    "**Transactions**= [ A: 3, B: 2, C: 4, D: 5]\n",
    "- Now we sort the list according to the count of each item:<br>\n",
    "**Transactions**= [D: 5, C: 4, A: 3, B: 2 ]\n",
    "- Make the FP-tree:"
   ]
  },
  {
   "cell_type": "code",
   "execution_count": null,
   "metadata": {},
   "outputs": [],
   "source": []
  },
  {
   "cell_type": "markdown",
   "metadata": {},
   "source": [
    "Build the tree\n",
    "---\n",
    "Event1: [ 'A', 'B', 'C', 'D']\n",
    "```\n",
    "              D[1]\n",
    "              ↙︎\n",
    "          C[1]\n",
    "           ↙︎\n",
    "         A[1]  \n",
    "         ↙︎\n",
    "       B[1]  \n",
    "```\n",
    "Event 5 ['A','C','D'] → 3 ['B','C','D']\n",
    "\n",
    "```\n",
    "              D[2]               D[3]\n",
    "              ↙︎                 ↙︎\n",
    "          C[2]                C[3]\n",
    "           ↙︎                  ↙︎ ↘︎\n",
    "         A[2]               A[2]  B[1]\n",
    "         ↙︎                  ↙︎\n",
    "       B[1]               B[1]\n",
    "```\n",
    "Event 2 ['C', 'D'] → 4  [ 'A', 'D']\n",
    "```\n",
    "               D[4]                              D[5]      \n",
    "              ↙︎                                ↙︎   ↘︎ \n",
    "           C[4]                             C[4]     A[1]  \n",
    "           ↙︎  ↘︎                            ↙︎  ↘︎         \n",
    "         A[2]  B[1]                       A[2]   B[1]          \n",
    "        ↙︎                               ↙︎  \n",
    "      B[1]                             B[1]        \n",
    "```\n",
    "**Finally**, check all the sub-tree's  whether the confidence is above the given.\n",
    "\n",
    "**Note.** the scan speed of FP-growth algorithm is much fast than its of aprioi algorithm,"
   ]
  },
  {
   "cell_type": "code",
   "execution_count": null,
   "metadata": {},
   "outputs": [],
   "source": [
    "aprioi(transactions,support=0.4,confidence=0.7)"
   ]
  },
  {
   "cell_type": "code",
   "execution_count": null,
   "metadata": {},
   "outputs": [],
   "source": [
    "import pyfpgrowth\n",
    "\n",
    "transactions = [ [ 'A', 'B', 'C', 'D'], [ 'C', 'D'], [ 'B', 'C', 'D'], [ 'A', 'D'] ,['A','C','D']]\n",
    "\n",
    "patterns = pyfpgrowth.find_frequent_patterns(transactions, 2)\n",
    "rules = pyfpgrowth.generate_association_rules(patterns, 0.7)\n",
    "\n",
    "print(rules)"
   ]
  },
  {
   "cell_type": "code",
   "execution_count": null,
   "metadata": {},
   "outputs": [],
   "source": [
    "patterns"
   ]
  },
  {
   "cell_type": "markdown",
   "metadata": {},
   "source": [
    "Output of rules was a list with key-value format:\n",
    "`{'key1':'value1',...}`, where\n",
    "- key-*n* is list of features,\n",
    "- value-*n* is formed by two-element pair, one being feature list and the other is minimal confidence required.\n",
    "- Use `rules.item()` to retrieve data one by one from  "
   ]
  },
  {
   "cell_type": "code",
   "execution_count": null,
   "metadata": {},
   "outputs": [],
   "source": [
    "for k, v in rules.items():\n",
    "    print(k, v)"
   ]
  },
  {
   "cell_type": "code",
   "execution_count": null,
   "metadata": {},
   "outputs": [],
   "source": [
    "for k, v in rules.items():\n",
    "    karr=', '.join(k)\n",
    "    varr=', '.join(v[0])\n",
    "\n",
    "    print('{%s} --> {%s}, %.2f' %(karr, varr,v[1]))"
   ]
  },
  {
   "cell_type": "code",
   "execution_count": null,
   "metadata": {},
   "outputs": [],
   "source": [
    "W  = '\\033[0m'  # white (normal)\n",
    "K  = '\\033[30m' # black\n",
    "R  = '\\033[31m' # red\n",
    "G  = '\\033[32m' # green\n",
    "O  = '\\033[1;33m' # orange\n",
    "B  = '\\033[34m' # blue\n",
    "P  = '\\033[35m' # purple\n",
    "T =  '\\033[1;33;43m' #Title\n"
   ]
  },
  {
   "cell_type": "code",
   "execution_count": null,
   "metadata": {},
   "outputs": [],
   "source": [
    "def aprioi(dataset,support=0.2,confidence=0.6):\n",
    "    transaction=int(len(dataset)*support)\n",
    "    transactions = dataset\n",
    "\n",
    "    patterns = pyfpgrowth.find_frequent_patterns(transactions, transaction)\n",
    "    rules = pyfpgrowth.generate_association_rules(patterns, confidence)\n",
    "    print(T,B,\"\\tRules\",R,\"\\t\\tConfidence\",W)\n",
    "    for k, v in rules.items():\n",
    "        karr=', '.join(k)\n",
    "        varr=', '.join(v[0])\n",
    "        #print(\" {1:6} --> {1:10}\".format(karr,varr),'{0:8.3f}'.format(v[1]))\n",
    "        print(' [{k:6s}] --> [{s:6s}]   {v:5.3f} '.format(k=karr,s=varr,v=v[1]))"
   ]
  },
  {
   "cell_type": "code",
   "execution_count": null,
   "metadata": {},
   "outputs": [],
   "source": [
    "aprioi(transactions,support=0.4,confidence=0.7)"
   ]
  },
  {
   "cell_type": "code",
   "execution_count": null,
   "metadata": {},
   "outputs": [],
   "source": [
    "import pandas as pd\n",
    "inputfile = '../data/apriori.csv'\n",
    "data = pd.read_csv(inputfile, header=None, dtype = object)\n",
    "b=data.as_matrix()"
   ]
  },
  {
   "cell_type": "code",
   "execution_count": null,
   "metadata": {},
   "outputs": [],
   "source": [
    "b"
   ]
  },
  {
   "cell_type": "code",
   "execution_count": null,
   "metadata": {},
   "outputs": [],
   "source": [
    "import time"
   ]
  },
  {
   "cell_type": "code",
   "execution_count": null,
   "metadata": {},
   "outputs": [],
   "source": [
    "start = time.clock()\n",
    "# FP-Growth start\n",
    "aprioi(b,support=0.06,confidence=0.75)\n",
    "# End\n",
    "end = time.clock()-start\n",
    "print('\\n搜尋完成，執行時間：%0.2f 秒' %(end))"
   ]
  },
  {
   "cell_type": "code",
   "execution_count": null,
   "metadata": {},
   "outputs": [],
   "source": []
  }
 ],
 "metadata": {
  "kernelspec": {
   "display_name": "Python 3",
   "language": "python",
   "name": "python3"
  },
  "language_info": {
   "codemirror_mode": {
    "name": "ipython",
    "version": 3
   },
   "file_extension": ".py",
   "mimetype": "text/x-python",
   "name": "python",
   "nbconvert_exporter": "python",
   "pygments_lexer": "ipython3",
   "version": "3.6.1"
  },
  "toc": {
   "colors": {
    "hover_highlight": "#DAA520",
    "navigate_num": "#000000",
    "navigate_text": "#333333",
    "running_highlight": "#FF0000",
    "selected_highlight": "#FFD700",
    "sidebar_border": "#EEEEEE",
    "wrapper_background": "#FFFFFF"
   },
   "moveMenuLeft": true,
   "nav_menu": {
    "height": "49px",
    "width": "252px"
   },
   "navigate_menu": true,
   "number_sections": true,
   "sideBar": true,
   "threshold": 4,
   "toc_cell": false,
   "toc_section_display": "block",
   "toc_window_display": false,
   "widenNotebook": false
  }
 },
 "nbformat": 4,
 "nbformat_minor": 2
}
