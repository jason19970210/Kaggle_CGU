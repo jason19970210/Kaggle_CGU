{
 "cells": [
  {
   "cell_type": "code",
   "execution_count": 47,
   "metadata": {
    "collapsed": true
   },
   "outputs": [],
   "source": [
    "\n",
    "import pandas as pd\n",
    "\n",
    "from sklearn import metrics\n",
    "\n",
    "\n",
    "inputfile = '../../test/data/test4.csv'\n",
    "outputfile1 = '../tmp/cm_train1.xls' \n",
    "outputfile2 = '../tmp/cm_test1.xls' \n",
    "data = pd.read_csv(inputfile, encoding = 'utf8') \n",
    "data = data.as_matrix()"
   ]
  },
  {
   "cell_type": "code",
   "execution_count": 48,
   "metadata": {
    "collapsed": true
   },
   "outputs": [],
   "source": [
    "import numpy as np\n"
   ]
  },
  {
   "cell_type": "code",
   "execution_count": 49,
   "metadata": {
    "collapsed": true
   },
   "outputs": [],
   "source": [
    "from numpy.random import shuffle \n",
    "shuffle(data) \n",
    "data_train = data[:int(0.8*len(data)), :] \n",
    "data_test = data[int(0.8*len(data)):, :] "
   ]
  },
  {
   "cell_type": "code",
   "execution_count": 50,
   "metadata": {
    "collapsed": true
   },
   "outputs": [],
   "source": [
    "x_train = data_train[:, 2:]*30\n",
    "y_train = data_train[:, 0].astype(int)\n",
    "x_test = data_test[:, 2:]*30\n",
    "y_test = data_test[:, 0].astype(int)"
   ]
  },
  {
   "cell_type": "code",
   "execution_count": 51,
   "metadata": {},
   "outputs": [
    {
     "data": {
      "text/plain": [
       "(array([5, 3, 3, 3, 3, 3, 3, 2, 4, 2, 3, 4, 1, 3, 3, 1, 3, 1, 2, 2, 2, 4, 3,\n",
       "        3, 3, 1, 3, 4, 2, 2, 3, 4, 3, 1, 2, 2, 3, 3, 5, 1, 2, 2, 2, 1, 3, 2,\n",
       "        3, 1, 3, 3, 2, 1, 1, 3, 3, 1, 2, 5, 5, 1, 3, 3, 3, 2, 3, 3, 1, 1, 4,\n",
       "        3, 3, 2, 3, 1, 3, 4, 3, 3, 1, 3, 2, 1, 3, 3, 3, 3, 5, 2, 3, 4, 1, 4,\n",
       "        3, 1, 3, 1, 1, 1, 3, 3, 1, 4, 2, 2, 1, 3, 1, 3, 3, 4, 1, 4, 3, 1, 3,\n",
       "        2, 3, 2, 1, 3, 2, 3, 2, 3, 3, 1, 1, 1, 3, 4, 2, 1, 4, 1, 2, 4, 1, 1,\n",
       "        3, 2, 4, 2, 3, 3, 3, 2, 2, 3, 4, 2, 2, 3, 1, 1, 3, 3, 2, 1, 4, 2, 5,\n",
       "        3]),\n",
       " array([2, 1, 2, 3, 3, 3, 1, 1, 4, 3, 1, 2, 3, 2, 3, 1, 1, 4, 3, 3, 3, 2, 2,\n",
       "        1, 3, 1, 2, 4, 2, 3, 4, 2, 3, 1, 3, 1, 4, 1, 4, 1, 1]))"
      ]
     },
     "execution_count": 51,
     "metadata": {},
     "output_type": "execute_result"
    }
   ],
   "source": [
    "y_train,y_test"
   ]
  },
  {
   "cell_type": "code",
   "execution_count": 52,
   "metadata": {
    "collapsed": true
   },
   "outputs": [],
   "source": [
    "from sklearn import svm\n",
    "model = svm.SVC()\n",
    "model.fit(x_train, y_train)\n",
    "import pickle\n",
    "pickle.dump(model, open('../tmp/svm4.model', 'wb'))\n",
    "\n"
   ]
  },
  {
   "cell_type": "code",
   "execution_count": 53,
   "metadata": {},
   "outputs": [
    {
     "data": {
      "text/plain": [
       "(array([2, 1, 2, 3, 3, 3, 1, 1, 4, 3, 1, 2, 3, 2, 3, 1, 1, 4, 3, 3, 3, 2, 2,\n",
       "        1, 3, 1, 2, 4, 2, 3, 4, 2, 3, 1, 3, 1, 4, 1, 4, 1, 1]),\n",
       " array([2, 1, 2, 3, 3, 3, 1, 1, 4, 3, 1, 2, 3, 2, 3, 1, 1, 4, 3, 3, 3, 2, 2,\n",
       "        1, 3, 1, 2, 4, 2, 3, 4, 2, 3, 1, 3, 3, 4, 1, 4, 1, 1]))"
      ]
     },
     "execution_count": 53,
     "metadata": {},
     "output_type": "execute_result"
    }
   ],
   "source": [
    "y_test,model.predict(x_test)"
   ]
  },
  {
   "cell_type": "code",
   "execution_count": 20,
   "metadata": {
    "collapsed": true
   },
   "outputs": [],
   "source": [
    "outputfile1 = '../tmp/cm_train2.xls' \n",
    "outputfile2 = '../tmp/cm_test2.xls' \n",
    "\n",
    "cm_train = metrics.confusion_matrix(y_train, model.predict(x_train)) \n",
    "cm_test = metrics.confusion_matrix(y_test, model.predict(x_test)) \n",
    "\n",
    "pd.DataFrame(cm_train, index = range(1, 6), columns = range(1, 6)).to_excel(outputfile1)\n",
    "pd.DataFrame(cm_test, index = range(1, 6), columns = range(1, 6)).to_excel(outputfile2)"
   ]
  },
  {
   "cell_type": "code",
   "execution_count": 54,
   "metadata": {},
   "outputs": [
    {
     "data": {
      "text/plain": [
       "array([[35,  1,  2,  0,  0],\n",
       "       [ 0, 34,  1,  0,  0],\n",
       "       [ 0,  0, 65,  0,  0],\n",
       "       [ 0,  0,  3, 15,  0],\n",
       "       [ 0,  1,  0,  3,  2]])"
      ]
     },
     "execution_count": 54,
     "metadata": {},
     "output_type": "execute_result"
    }
   ],
   "source": [
    "metrics.confusion_matrix(y_train, model.predict(x_train))"
   ]
  },
  {
   "cell_type": "code",
   "execution_count": 55,
   "metadata": {},
   "outputs": [
    {
     "data": {
      "text/plain": [
       "array([[12,  0,  1,  0],\n",
       "       [ 0,  9,  0,  0],\n",
       "       [ 0,  0, 13,  0],\n",
       "       [ 0,  0,  0,  6]])"
      ]
     },
     "execution_count": 55,
     "metadata": {},
     "output_type": "execute_result"
    }
   ],
   "source": [
    "metrics.confusion_matrix(y_test, model.predict(x_test))"
   ]
  },
  {
   "cell_type": "code",
   "execution_count": 56,
   "metadata": {},
   "outputs": [
    {
     "data": {
      "text/plain": [
       "0.97560975609756095"
      ]
     },
     "execution_count": 56,
     "metadata": {},
     "output_type": "execute_result"
    }
   ],
   "source": [
    "model.score(x_test, y_test)"
   ]
  },
  {
   "cell_type": "code",
   "execution_count": 30,
   "metadata": {},
   "outputs": [
    {
     "data": {
      "text/plain": [
       "array([[36,  1,  3,  0,  0],\n",
       "       [ 0, 36,  0,  0,  0],\n",
       "       [ 0,  0, 61,  0,  0],\n",
       "       [ 0,  0,  2, 18,  0],\n",
       "       [ 0,  1,  1,  1,  2]])"
      ]
     },
     "execution_count": 30,
     "metadata": {},
     "output_type": "execute_result"
    }
   ],
   "source": [
    "cm_train"
   ]
  },
  {
   "cell_type": "code",
   "execution_count": 57,
   "metadata": {
    "collapsed": true
   },
   "outputs": [],
   "source": [
    "def ordinalData(tabledata, category=['C1','C2','C3','C4','C5']):\n",
    "    n=len(tabledata)\n",
    "    Span_data=np.array([])\n",
    "    for k in range(n+1):\n",
    "      if k==0:\n",
    "         column_ex= np.append(np.array(['Real\\Pred']),category)\n",
    "         column_ex= np.append(column_ex,'Total')   \n",
    "         #column_ex= np.append(np.array([' \\ ']),category)   \n",
    "         Span_data=np.append(Span_data,column_ex)\n",
    "      else:\n",
    "         Sdata=np.array([category[-k]])\n",
    "         total=  np.sum(tabledata[-k]) \n",
    "         Sdata=np.append(Sdata,tabledata[-k])\n",
    "         Sdata=np.append(Sdata,total)   \n",
    "         Span_data=np.append(Span_data,Sdata)\n",
    "    # sum for each pre-Category data        \n",
    "    Span_data= np.append(Span_data,'Total')        \n",
    "    Span_data= np.append(Span_data,np.sum(tabledata,axis=0))\n",
    "    Span_data= np.append(Span_data,np.sum(tabledata))        \n",
    "    Span_data=Span_data.reshape([n+2,n+2])\n",
    "    \n",
    "    return Span_data"
   ]
  },
  {
   "cell_type": "code",
   "execution_count": 58,
   "metadata": {
    "collapsed": true
   },
   "outputs": [],
   "source": [
    "def SvenssonTable(tabledata):\n",
    "    Sdata=ordinalData(tabledata)\n",
    "    n=len(tabledata)\n",
    "    make_table(Sdata)\n",
    "\n",
    "    apply_theme('basic_both')\n",
    "    set_cell_style(0,0, thick_border='left,top')\n",
    "    #set_cell_style(0, 0, color='lightblack')\n",
    "    set_column_style(0, color='lightgray')\n",
    "    for i in range(1,n+1):\n",
    "        set_cell_style(i,n+1-i, thick_border='all',color=\"lightbrown\")\n",
    "\n",
    "    return set_cell_style(0, 0, color='orange')"
   ]
  },
  {
   "cell_type": "code",
   "execution_count": 59,
   "metadata": {
    "collapsed": true
   },
   "outputs": [],
   "source": [
    "from ipy_table import make_table,apply_theme,set_cell_style,set_column_style,set_row_style\n",
    "from IPython.display import clear_output, display"
   ]
  },
  {
   "cell_type": "code",
   "execution_count": 60,
   "metadata": {
    "collapsed": true
   },
   "outputs": [],
   "source": [
    "p=SvenssonTable(cm_train)\n"
   ]
  },
  {
   "cell_type": "code",
   "execution_count": 61,
   "metadata": {},
   "outputs": [
    {
     "data": {
      "text/html": [
       "<table border=\"1\" cellpadding=\"3\" cellspacing=\"0\"  style=\"border:1px solid black;border-collapse:collapse;\"><tr><td  style=\"background-color:orange;border-left: 3px solid black;border-top: 3px solid black;border-left: 1px solid transparent;border-top: 1px solid transparent;\"><b>Real\\Pred</b></td><td  style=\"background-color:LightGray;\"><b>C1</b></td><td  style=\"background-color:LightGray;\"><b>C2</b></td><td  style=\"background-color:LightGray;\"><b>C3</b></td><td  style=\"background-color:LightGray;\"><b>C4</b></td><td  style=\"background-color:LightGray;\"><b>C5</b></td><td  style=\"background-color:LightGray;\"><b>Total</b></td></tr><tr><td  style=\"background-color:lightgray;\"><b>C5</b></td><td  style=\"background-color:Ivory;\">0</td><td  style=\"background-color:Ivory;\">1</td><td  style=\"background-color:Ivory;\">1</td><td  style=\"background-color:Ivory;\">1</td><td  style=\"background-color:lightbrown;border-left: 3px solid black;border-right: 3px solid black;border-top: 3px solid black;border-bottom: 3px solid black;\">2</td><td  style=\"background-color:Ivory;border-left: 3px solid black;\">5</td></tr><tr><td  style=\"background-color:lightgray;\"><b>C4</b></td><td  style=\"background-color:AliceBlue;\">0</td><td  style=\"background-color:AliceBlue;\">0</td><td  style=\"background-color:AliceBlue;\">2</td><td  style=\"background-color:lightbrown;border-left: 3px solid black;border-right: 3px solid black;border-top: 3px solid black;border-bottom: 3px solid black;\">18</td><td  style=\"background-color:AliceBlue;border-top: 3px solid black;border-left: 3px solid black;\">0</td><td  style=\"background-color:AliceBlue;\">20</td></tr><tr><td  style=\"background-color:lightgray;\"><b>C3</b></td><td  style=\"background-color:Ivory;\">0</td><td  style=\"background-color:Ivory;\">0</td><td  style=\"background-color:lightbrown;border-left: 3px solid black;border-right: 3px solid black;border-top: 3px solid black;border-bottom: 3px solid black;\">61</td><td  style=\"background-color:Ivory;border-top: 3px solid black;border-left: 3px solid black;\">0</td><td  style=\"background-color:Ivory;\">0</td><td  style=\"background-color:Ivory;\">61</td></tr><tr><td  style=\"background-color:lightgray;\"><b>C2</b></td><td  style=\"background-color:AliceBlue;\">0</td><td  style=\"background-color:lightbrown;border-left: 3px solid black;border-right: 3px solid black;border-top: 3px solid black;border-bottom: 3px solid black;\">36</td><td  style=\"background-color:AliceBlue;border-top: 3px solid black;border-left: 3px solid black;\">0</td><td  style=\"background-color:AliceBlue;\">0</td><td  style=\"background-color:AliceBlue;\">0</td><td  style=\"background-color:AliceBlue;\">36</td></tr><tr><td  style=\"background-color:lightgray;\"><b>C1</b></td><td  style=\"background-color:lightbrown;border-left: 3px solid black;border-right: 3px solid black;border-top: 3px solid black;border-bottom: 3px solid black;\">36</td><td  style=\"background-color:Ivory;border-top: 3px solid black;border-left: 3px solid black;\">1</td><td  style=\"background-color:Ivory;\">3</td><td  style=\"background-color:Ivory;\">0</td><td  style=\"background-color:Ivory;\">0</td><td  style=\"background-color:Ivory;\">40</td></tr><tr><td  style=\"background-color:lightgray;\"><b>Total</b></td><td  style=\"background-color:AliceBlue;border-top: 3px solid black;\">36</td><td  style=\"background-color:AliceBlue;\">38</td><td  style=\"background-color:AliceBlue;\">67</td><td  style=\"background-color:AliceBlue;\">19</td><td  style=\"background-color:AliceBlue;\">2</td><td  style=\"background-color:AliceBlue;\">162</td></tr></table>"
      ],
      "text/plain": [
       "<ipy_table.IpyTable at 0x117e3d7b8>"
      ]
     },
     "metadata": {},
     "output_type": "display_data"
    }
   ],
   "source": [
    "display(p)"
   ]
  },
  {
   "cell_type": "code",
   "execution_count": null,
   "metadata": {
    "collapsed": true
   },
   "outputs": [],
   "source": []
  }
 ],
 "metadata": {
  "kernelspec": {
   "display_name": "Python 3",
   "language": "python",
   "name": "python3"
  },
  "language_info": {
   "codemirror_mode": {
    "name": "ipython",
    "version": 3
   },
   "file_extension": ".py",
   "mimetype": "text/x-python",
   "name": "python",
   "nbconvert_exporter": "python",
   "pygments_lexer": "ipython3",
   "version": "3.6.1"
  },
  "toc": {
   "colors": {
    "hover_highlight": "#DAA520",
    "navigate_num": "#000000",
    "navigate_text": "#333333",
    "running_highlight": "#FF0000",
    "selected_highlight": "#FFD700",
    "sidebar_border": "#EEEEEE",
    "wrapper_background": "#FFFFFF"
   },
   "moveMenuLeft": true,
   "nav_menu": {
    "height": "12px",
    "width": "252px"
   },
   "navigate_menu": true,
   "number_sections": true,
   "sideBar": true,
   "threshold": 4,
   "toc_cell": false,
   "toc_section_display": "block",
   "toc_window_display": false,
   "widenNotebook": false
  }
 },
 "nbformat": 4,
 "nbformat_minor": 2
}
