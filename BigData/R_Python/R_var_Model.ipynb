{
 "cells": [
  {
   "cell_type": "markdown",
   "metadata": {},
   "source": [
    "Var Model\n",
    "===\n",
    "As [statsmodels](http://www.statsmodels.org/dev/vector_ar.html):\n",
    "\n",
    "---\n",
    "We are interested in modeling a $T \\times K$ multivariate time series $Y$, where $T$ denotes the number of observations and $K$ the number of variables. One way of estimating relationships between the time series and their lagged values is the vector autoregression process:\n",
    "\n",
    "\\begin{eqnarray}\n",
    "Z_t &=& A_1 Z_{t-1} + \\ldots + A_p Z_{t-p} + u_t \\\\\n",
    "u_t &\\sim& {\\sf Normal}(0, \\Sigma_u)\n",
    "\\end{eqnarray}\n",
    "where $A_i$ is a $K \\times K$ coefficient matrix.\n",
    "\n",
    "---\n",
    "\n",
    "Suppose we wants to predict $Y_t$ from observation $X_t$ as follows:\n",
    "$$ Y_t= c_{11} + \\beta_{11} X_{t-1} + u_t$$\n",
    "And sometimes, $X_t$ seems to has the following relation:\n",
    "\n",
    "$$ X_t= c_{12} + \\beta_{12} Y_{t-1} + u_t$$\n",
    "\n",
    "Thus the vector autoregression with one lag, Var(1), is in the form as follows:\n",
    "$$ Z_t=C +\\beta Z_{t-1}+u_t$$\n",
    "where $Z_t=(X_t,Y_t)^t$.\n",
    "\n",
    "\n",
    "\n",
    "Note\n",
    "---\n",
    "1. After Updating the Anaconda, IR kernel can't work as usual. Set PATH to \n",
    "```shell\n",
    "shell> export R_HOME=$anaconda/lib/R\n",
    "```\n",
    "- and install rpy2 by pip might solve the problem. Reason still unknown.\n",
    "- In Linux, we updated R to the last release, 3.4.1 with the configuration\n",
    "```shell\n",
    "shell> ./configure --prefix=/usr --libdir=/usr/lib64 --enable-shlib --with-tcltk\n",
    "```\n",
    "to install R in the system-setting directory, compiled the shared library, and embeded tcltk module. Jupyter notebook R-kernel, ir, requires rpy2 module which could be compiled only with shared R libtary in my system. \n",
    "- if these could not solve the rpy2-installation problem, ckeck the system variables, ```PATH``` and ```R_HOME``` whether are set correct.\n",
    "\n"
   ]
  },
  {
   "cell_type": "code",
   "execution_count": null,
   "metadata": {
    "collapsed": true
   },
   "outputs": [],
   "source": []
  },
  {
   "cell_type": "markdown",
   "metadata": {},
   "source": [
    "Comunication between Python and R\n",
    "---\n",
    "```\n",
    "Why use R computation in Python, exactly on Jupyter notebook, environment?\n",
    "```\n",
    "As well known, statsmodels is one of the best python packages availabel professional and powerful tools on doing statistical computation. The ability of Python computation is based on individual developed modules and packages and they are slimless integrated together by the developers; statsmodels is too. However, plenty of conflicts among the deveopers exist, what kind of alogrithm is suitable and what kind of technique is more efficient, for instance. Ordinary Linera Simulation, (abbreviated by OLS), is one of scheme, on which statsmodels relys; it is also used to estimate the model in vector autoregression model, (Var). The OLS scheme, statsmodels used, is relid on the deprciated scheme in pandas, another Python statistics package and has no another replacement yet. In other words, the schemes involving Var model estimation can't work as usual. \n",
    "\n",
    "R owns tons of statistical packages but Python owns much functionalites in calculation,layout and others. Integrating both is double more flexible in statistical work.\n",
    "R 擁有超多的統計程式庫, Python 具備計算, 輸出等等便利的功能, 整合兩者在統計工作則有加成作用. \n",
    "\n",
    "Neither on the shell environment nor graphical user interface of R and python, R and Python could not simultaneously run together, comunicate and exchage with each other. Juputer notebook supports both interfaces for Python, (called Python 2/3 kernel), and R (called ir kernel), on which the script language can run on its kernel and get the output if any; moreover, Jupyter also supports the intelligent feature: external plugin in python kernel, at which it can execute other language, R includes, and share computation result between them. \n",
    "\n",
    "Before building up the hybrid Python-R computation system for Var model, we had installed the necessary Python 3.6.x packages and modules and tested both on Mac OS and Poteus Linux (live Slackware-clone system) systems. These installed packages include:  \n",
    "\n",
    "1. whole juputer environment,\n",
    "   - on Mac system, based on anaconda x86 solution and annually installed others if necessary,\n",
    "   - on Porteus, manually install Python3.6 with jupyter packages more than 150 third-party packages.\n",
    "- Python packaages, on the priciple of leading the late release, we had installed them  from cofiguration, compilation and installation  almost by scratch.  include\n",
    "  - statsmodels, rpy2, IRkernel\n",
    "- R-3.4.1 with necessary packages for Var model estimation: AER, timeSeries, tseries, vrtest, quantmod, vars etc.\n",
    "- development tools: efficient computation requires high optimized libraries, such as blas/lapack, and they require a fortran compiler to make binary; thus we had installed Xcodes and its essentials for Mac system, gcc/gfortran for porteus Linux. \n",
    "\n",
    "\n",
    "Process of comunication  with R and Python \n",
    "---\n",
    "1. load the extension, 載入 Ｒ 模組\n",
    "```\n",
    "%load_ext rpy2.ipython\n",
    "```\n",
    "- Acclaim R-cell in Python kernel，指定使用 R 程式\n",
    "```\n",
    "%%R\n",
    "...\n",
    "R-codes\n",
    "...\n",
    "```\n",
    "- one line R-mode, 使用一行 R 程式模式\n",
    "```\n",
    "%R R-code\n",
    "```\n",
    "- Retrieve R-data in Python env 轉換 R 物件為 Python 物件\n",
    "```python\n",
    "P = %R R-object\n",
    "```\n",
    "- Convert Python-object to R, **-i** could be omitted 轉換 Python 物件為 R 物件\n",
    "```\n",
    "%R -i P\n",
    "```"
   ]
  },
  {
   "cell_type": "markdown",
   "metadata": {
    "collapsed": true
   },
   "source": []
  },
  {
   "cell_type": "code",
   "execution_count": 1,
   "metadata": {
    "collapsed": true
   },
   "outputs": [],
   "source": [
    "%load_ext rpy2.ipython"
   ]
  },
  {
   "cell_type": "markdown",
   "metadata": {},
   "source": [
    "1. load \"quantmod\" package, had to be update to the last release, **&ge;0.4 here**, since yahoo service policy changes (or ceased).\n",
    "- ```na.omit()```, remove **NaN** data\n",
    "- ```head(),tail()```, data obvervation"
   ]
  },
  {
   "cell_type": "code",
   "execution_count": 2,
   "metadata": {},
   "outputs": [
    {
     "name": "stderr",
     "output_type": "stream",
     "text": [
      "/Users/cch/anaconda36/anaconda/lib/python3.6/site-packages/rpy2/rinterface/__init__.py:186: RRuntimeWarning: Loading required package: xts\n",
      "\n",
      "  warnings.warn(x, RRuntimeWarning)\n",
      "/Users/cch/anaconda36/anaconda/lib/python3.6/site-packages/rpy2/rinterface/__init__.py:186: RRuntimeWarning: Loading required package: zoo\n",
      "\n",
      "  warnings.warn(x, RRuntimeWarning)\n",
      "/Users/cch/anaconda36/anaconda/lib/python3.6/site-packages/rpy2/rinterface/__init__.py:186: RRuntimeWarning: \n",
      "Attaching package: ‘zoo’\n",
      "\n",
      "\n",
      "  warnings.warn(x, RRuntimeWarning)\n",
      "/Users/cch/anaconda36/anaconda/lib/python3.6/site-packages/rpy2/rinterface/__init__.py:186: RRuntimeWarning: The following objects are masked from ‘package:base’:\n",
      "\n",
      "    as.Date, as.Date.numeric\n",
      "\n",
      "\n",
      "  warnings.warn(x, RRuntimeWarning)\n",
      "/Users/cch/anaconda36/anaconda/lib/python3.6/site-packages/rpy2/rinterface/__init__.py:186: RRuntimeWarning: Loading required package: TTR\n",
      "\n",
      "  warnings.warn(x, RRuntimeWarning)\n",
      "/Users/cch/anaconda36/anaconda/lib/python3.6/site-packages/rpy2/rinterface/__init__.py:186: RRuntimeWarning: Version 0.4-0 included new data defaults. See ?getSymbols.\n",
      "Learn from a quantmod author: https://www.datacamp.com/courses/importing-and-managing-financial-data-in-r\n",
      "\n",
      "  warnings.warn(x, RRuntimeWarning)\n",
      "/Users/cch/anaconda36/anaconda/lib/python3.6/site-packages/rpy2/rinterface/__init__.py:186: RRuntimeWarning: ‘getSymbols’ currently uses auto.assign=TRUE by default, but will\n",
      "use auto.assign=FALSE in 0.5-0. You will still be able to use\n",
      "‘loadSymbols’ to automatically load data. getOption(\"getSymbols.env\")\n",
      "and getOption(\"getSymbols.auto.assign\") will still be checked for\n",
      "alternate defaults.\n",
      "\n",
      "This message is shown once per session and may be disabled by setting \n",
      "options(\"getSymbols.warning4.0\"=FALSE). See ?getSymbols for details.\n",
      "\n",
      "  warnings.warn(x, RRuntimeWarning)\n",
      "/Users/cch/anaconda36/anaconda/lib/python3.6/site-packages/rpy2/rinterface/__init__.py:186: RRuntimeWarning: \n",
      "WARNING: There have been significant changes to Yahoo Finance data.\n",
      "Please see the Warning section of ‘?getSymbols.yahoo’ for details.\n",
      "\n",
      "This message is shown once per session and may be disabled by setting\n",
      "options(\"getSymbols.yahoo.warning\"=FALSE).\n",
      "\n",
      "  warnings.warn(x, RRuntimeWarning)\n"
     ]
    }
   ],
   "source": [
    "%%R\n",
    "\n",
    "library(quantmod)\n",
    "start <- \"2017-01-01\"\n",
    "end <- \"2017-08-3\"\n",
    "\n",
    "TW3008.dat = getSymbols(\"3008.TW\", from=start,to=end, adjust = T, auto.assign = FALSE)\n",
    "# na.approx(), na.fill()\n",
    "na.omit(TW3008.dat)\n",
    "\n",
    "write.csv(TW3008.dat,file=\"data/TW3008.csv\",index.name=\"Date\",sep=\",\")"
   ]
  },
  {
   "cell_type": "code",
   "execution_count": 6,
   "metadata": {
    "collapsed": true
   },
   "outputs": [],
   "source": [
    "%%R\n",
    "\n",
    "write.zoo(TW3008.dat,file=\"data/TW3008-1.csv\",index.name=\"Date\",sep=\",\")"
   ]
  },
  {
   "cell_type": "code",
   "execution_count": null,
   "metadata": {
    "collapsed": true
   },
   "outputs": [],
   "source": [
    "%R tail(TW3008.dat) "
   ]
  },
  {
   "cell_type": "code",
   "execution_count": 77,
   "metadata": {},
   "outputs": [
    {
     "data": {
      "text/plain": [
       "           X3008.TW.Open X3008.TW.High X3008.TW.Low X3008.TW.Close\n",
       "2017-01-03          3805          3810         3780           3795\n",
       "           X3008.TW.Volume date\n",
       "2017-01-03          214000 3795\n"
      ]
     },
     "metadata": {},
     "output_type": "display_data"
    }
   ],
   "source": [
    "%%R\n",
    "\n",
    "data=TW3008.dat\n",
    "index(data)\n",
    "data$date<-index(data)\n",
    "data[1]"
   ]
  },
  {
   "cell_type": "code",
   "execution_count": 39,
   "metadata": {},
   "outputs": [
    {
     "name": "stdout",
     "output_type": "stream",
     "text": [
      "\n",
      "Error in withVisible({ : object 'TW3008.dat.b' not found\n"
     ]
    },
    {
     "name": "stderr",
     "output_type": "stream",
     "text": [
      "/Users/cch/anaconda36/anaconda/lib/python3.6/site-packages/rpy2/rinterface/__init__.py:186: RRuntimeWarning: Error in withVisible({ : object 'TW3008.dat.b' not found\n",
      "\n",
      "  warnings.warn(x, RRuntimeWarning)\n"
     ]
    }
   ],
   "source": [
    "%%R\n",
    "TW3008.dat.b"
   ]
  },
  {
   "cell_type": "code",
   "execution_count": 2,
   "metadata": {},
   "outputs": [
    {
     "name": "stderr",
     "output_type": "stream",
     "text": [
      "/Users/cch/anaconda36/anaconda/lib/python3.6/site-packages/rpy2/rinterface/__init__.py:186: RRuntimeWarning: Loading required package: xts\n",
      "\n",
      "  warnings.warn(x, RRuntimeWarning)\n",
      "/Users/cch/anaconda36/anaconda/lib/python3.6/site-packages/rpy2/rinterface/__init__.py:186: RRuntimeWarning: Loading required package: zoo\n",
      "\n",
      "  warnings.warn(x, RRuntimeWarning)\n",
      "/Users/cch/anaconda36/anaconda/lib/python3.6/site-packages/rpy2/rinterface/__init__.py:186: RRuntimeWarning: \n",
      "Attaching package: ‘zoo’\n",
      "\n",
      "\n",
      "  warnings.warn(x, RRuntimeWarning)\n",
      "/Users/cch/anaconda36/anaconda/lib/python3.6/site-packages/rpy2/rinterface/__init__.py:186: RRuntimeWarning: The following objects are masked from ‘package:base’:\n",
      "\n",
      "    as.Date, as.Date.numeric\n",
      "\n",
      "\n",
      "  warnings.warn(x, RRuntimeWarning)\n",
      "/Users/cch/anaconda36/anaconda/lib/python3.6/site-packages/rpy2/rinterface/__init__.py:186: RRuntimeWarning: Loading required package: TTR\n",
      "\n",
      "  warnings.warn(x, RRuntimeWarning)\n",
      "/Users/cch/anaconda36/anaconda/lib/python3.6/site-packages/rpy2/rinterface/__init__.py:186: RRuntimeWarning: Version 0.4-0 included new data defaults. See ?getSymbols.\n",
      "Learn from a quantmod author: https://www.datacamp.com/courses/importing-and-managing-financial-data-in-r\n",
      "\n",
      "  warnings.warn(x, RRuntimeWarning)\n"
     ]
    }
   ],
   "source": [
    "%%R\n",
    "\n",
    "library(quantmod)\n",
    "start <- \"2017-01-01\"\n",
    "end <- \"2017-07-27\"\n",
    "\n",
    "#TW3008.dat = getSymbols(\"3008.TW\", from=start,to=end, adjust = T, auto.assign = FALSE)\n",
    "# na.approx(), na.fill()\n",
    "#na.omit(TW3008.dat)\n",
    "TW3008.dat=read.csv(\"data/TW3008.csv\")"
   ]
  },
  {
   "cell_type": "code",
   "execution_count": null,
   "metadata": {
    "collapsed": true
   },
   "outputs": [],
   "source": []
  },
  {
   "cell_type": "code",
   "execution_count": 3,
   "metadata": {},
   "outputs": [
    {
     "data": {
      "text/plain": [
       "array([[   5525.,    5530.,    5425.,    5425.,  453000.,    5425.],\n",
       "       [   5380.,    5495.,    5380.,    5485.,  316000.,    5485.],\n",
       "       [   5535.,    5600.,    5520.,    5600.,  318000.,    5600.],\n",
       "       [   5600.,    5610.,    5495.,    5495.,  378000.,    5495.],\n",
       "       [   5515.,    5600.,    5515.,    5520.,  342000.,    5520.],\n",
       "       [   5520.,    5530.,    5420.,    5445.,  393000.,    5445.]])"
      ]
     },
     "execution_count": 3,
     "metadata": {},
     "output_type": "execute_result"
    }
   ],
   "source": [
    "%R tail(TW3008.dat) "
   ]
  },
  {
   "cell_type": "code",
   "execution_count": 7,
   "metadata": {},
   "outputs": [
    {
     "data": {
      "text/plain": [
       "array([[ 5595.,  5635.,  5510.],\n",
       "       [ 5525.,  5530.,  5425.],\n",
       "       [ 5380.,  5495.,  5380.],\n",
       "       [ 5535.,  5600.,  5520.],\n",
       "       [ 5600.,  5610.,  5495.],\n",
       "       [ 5515.,  5600.,  5515.]])"
      ]
     },
     "execution_count": 7,
     "metadata": {},
     "output_type": "execute_result"
    }
   ],
   "source": [
    "%R TW3008.dat[\"2017-07-20::2017-07-27\",1:3]"
   ]
  },
  {
   "cell_type": "markdown",
   "metadata": {},
   "source": [
    "1. Return, volume: rescale the data on column 4 and 5 by log\n",
    "- plot\n",
    "- cbind(Return,volumn), create the data required\n"
   ]
  },
  {
   "cell_type": "code",
   "execution_count": 4,
   "metadata": {},
   "outputs": [
    {
     "data": {
      "text/plain": [
       "           X3008.TW.Close X3008.TW.Volume\n",
       "2017-01-04     -0.3960401        12.73376\n",
       "2017-01-05      6.8992871        14.28676\n",
       "2017-01-06      2.3185907        13.86525\n",
       "2017-01-09     -3.3111547        13.57216\n",
       "2017-01-10      3.0696087        13.14803\n",
       "2017-01-11      0.8428707        13.34870\n"
      ]
     },
     "metadata": {},
     "output_type": "display_data"
    }
   ],
   "source": [
    "%%R\n",
    "\n",
    "Return = diff(log(TW3008.dat[, 4]))*100\n",
    "volume = log(TW3008.dat[, 5])\n",
    "\n",
    "plot(Return, xlab = \"dates\", main = \"Time series of TW 3008 returns\")\n",
    "plot(volume, xlab = \"dates\", main = \"Time series of TW 3008 volume\")\n",
    "dat0=cbind(Return, volume)\n",
    "head(dat0)\n",
    "dat=na.omit(dat0)\n",
    "head(dat)"
   ]
  },
  {
   "cell_type": "markdown",
   "metadata": {},
   "source": [
    "No picture output, try to make it in **Python**,"
   ]
  },
  {
   "cell_type": "code",
   "execution_count": 5,
   "metadata": {
    "collapsed": true
   },
   "outputs": [],
   "source": [
    "ret= %R Return\n",
    "vol= %R volume"
   ]
  },
  {
   "cell_type": "code",
   "execution_count": 6,
   "metadata": {
    "collapsed": true
   },
   "outputs": [],
   "source": [
    "import matplotlib.pyplot as plt\n",
    "%matplotlib inline"
   ]
  },
  {
   "cell_type": "code",
   "execution_count": 7,
   "metadata": {},
   "outputs": [
    {
     "data": {
      "text/plain": [
       "[<matplotlib.lines.Line2D at 0x117a47908>]"
      ]
     },
     "execution_count": 7,
     "metadata": {},
     "output_type": "execute_result"
    },
    {
     "data": {
      "image/png": "[encoded data removed]",
      "text/plain": [
       "<matplotlib.figure.Figure at 0x117a47978>"
      ]
     },
     "metadata": {},
     "output_type": "display_data"
    }
   ],
   "source": [
    "plt.plot(ret)\n",
    "plt.plot(vol)"
   ]
  },
  {
   "cell_type": "markdown",
   "metadata": {},
   "source": [
    "Picture Refined\n",
    "---"
   ]
  },
  {
   "cell_type": "code",
   "execution_count": 8,
   "metadata": {},
   "outputs": [
    {
     "data": {
      "text/plain": [
       "<matplotlib.text.Text at 0x117c38860>"
      ]
     },
     "execution_count": 8,
     "metadata": {},
     "output_type": "execute_result"
    },
    {
     "data": {
      "image/png": "[encoded data removed]",
      "text/plain": [
       "<matplotlib.figure.Figure at 0x117bdf550>"
      ]
     },
     "metadata": {},
     "output_type": "display_data"
    }
   ],
   "source": [
    "from matplotlib import font_manager,rcParams\n",
    "\n",
    "rcParams['font.family'] = 'AppleGothic' \n",
    "plt.rcParams['axes.unicode_minus'] = False #用来正常显示负号\n",
    "fig, ax1 = plt.subplots(figsize=(14,6))\n",
    "ax1.plot(ret,drawstyle='steps',alpha=0.8,linewidth=2,label=\"獲利\")\n",
    "\n",
    "ax2 = ax1.twinx()\n",
    "ax2.plot(vol,drawstyle='steps',alpha=0.4,linewidth=2,color=\"red\",linestyle='--',label=\"成交量\")\n",
    "\n",
    "ax1.legend(fontsize=14,loc='upper left')  \n",
    "ax2.legend(fontsize=14)  \n",
    "\n",
    "ax1.set_title('大立光 (3008): 獲利 v.s. 成交量',fontsize=20) "
   ]
  },
  {
   "cell_type": "code",
   "execution_count": 13,
   "metadata": {},
   "outputs": [
    {
     "data": {
      "text/plain": [
       "array([[   5595.,    5635.,    5510.,    5580.,  572000.,    5580.],\n",
       "       [   5525.,    5530.,    5425.,    5425.,  453000.,    5425.],\n",
       "       [   5380.,    5495.,    5380.,    5485.,  316000.,    5485.],\n",
       "       [   5535.,    5600.,    5520.,    5600.,  318000.,    5600.],\n",
       "       [   5600.,    5610.,    5495.,    5495.,  378000.,    5495.],\n",
       "       [   5515.,    5600.,    5515.,    5520.,  342000.,    5520.]])"
      ]
     },
     "execution_count": 13,
     "metadata": {},
     "output_type": "execute_result"
    }
   ],
   "source": [
    "%R tail(TW3008.dat) "
   ]
  },
  {
   "cell_type": "code",
   "execution_count": 14,
   "metadata": {},
   "outputs": [
    {
     "data": {
      "text/plain": [
       "           X3008.TW.Close X3008.TW.Volume\n",
       "2017-01-04     -0.3960401        12.73376\n",
       "2017-01-05      6.8992871        14.28676\n",
       "2017-01-06      2.3185907        13.86525\n",
       "2017-01-09     -3.3111547        13.57216\n",
       "2017-01-10      3.0696087        13.14803\n",
       "2017-01-11      0.8428707        13.34870\n"
      ]
     },
     "metadata": {},
     "output_type": "display_data"
    }
   ],
   "source": [
    "%%R\n",
    "\n",
    "library(quantmod)\n",
    "TW3008.dat = getSymbols(\"3008.TW\", from=\"2017-01-01\",to=\"2017-07-25\", adjust = T, auto.assign = FALSE)\n",
    "head(TW3008.dat);tail(TW3008.dat)   \n",
    "#IBM.dat[\"2016-06-01::2016-12-31\",1:3]\n",
    "Return = diff(log(TW3008.dat[, 4]))*100\n",
    "volume = log(TW3008.dat[, 5])\n",
    "plot(Return, xlab = \"dates\", main = \"Time series of TW 3008 returns\")\n",
    "plot(volume, xlab = \"dates\", main = \"Time series of TW 3008 volume\")\n",
    "dat0=cbind(Return, volume)\n",
    "head(dat0)\n",
    "dat=na.omit(dat0)\n",
    "head(dat)"
   ]
  },
  {
   "cell_type": "code",
   "execution_count": 12,
   "metadata": {},
   "outputs": [
    {
     "data": {
      "text/plain": [
       "array(['Ret', 'Vol'],\n",
       "      dtype='<U3')"
      ]
     },
     "execution_count": 12,
     "metadata": {},
     "output_type": "execute_result"
    }
   ],
   "source": [
    "%R colnames(dat)=c(\"Ret\",\"Vol\")"
   ]
  },
  {
   "cell_type": "markdown",
   "metadata": {},
   "source": [
    "Var Model with 1-lag, Var(1)\n",
    "---\n",
    "$\\mathbf{R_t,V_t}$: represent Return and Volume at time $t$ step.\n",
    "\n",
    "$$\n",
    "\\left(\\begin{array}{c}  \n",
    "     \\mathbf{\n",
    "     R_t\\\\\n",
    "     V_t\n",
    "     }\n",
    "   \\end{array}\\right) = \\left(\\begin{array}{c}\n",
    "     - 4.3382\\\\\n",
    "     6.26743\n",
    "   \\end{array}\\right) + \\left(\\begin{array}{cc}\n",
    "     - 0.0318 & 0.3615\\\\\n",
    "     - 0.02132 & 0.51397\n",
    "   \\end{array}\\right) \\left(\\begin{array}{c}\n",
    "     \\mathbf{\n",
    "     R_{t - 1}\\\\\n",
    "     V_{t - 1}\n",
    "     }\n",
    "   \\end{array} \\right)+\\mathbf{u_t}\n",
    "$$\n",
    "All the eigenvalues of $\\beta<1$ implies the system is stationary. "
   ]
  },
  {
   "cell_type": "code",
   "execution_count": 52,
   "metadata": {
    "collapsed": true
   },
   "outputs": [],
   "source": [
    "from numpy import linalg as LA\n",
    "import numpy as np"
   ]
  },
  {
   "cell_type": "code",
   "execution_count": 54,
   "metadata": {},
   "outputs": [
    {
     "data": {
      "text/plain": [
       "array([-0.01729271,  0.49946271])"
      ]
     },
     "execution_count": 54,
     "metadata": {},
     "output_type": "execute_result"
    }
   ],
   "source": [
    "beta= np.array([[-0.0318,0.3615],[-0.02132,0.51397]])\n",
    "w,v=LA.eig(beta)\n",
    "w"
   ]
  },
  {
   "cell_type": "code",
   "execution_count": 16,
   "metadata": {},
   "outputs": [
    {
     "name": "stderr",
     "output_type": "stream",
     "text": [
      "/Users/cch/anaconda36/anaconda/lib/python3.6/site-packages/rpy2/rinterface/__init__.py:186: RRuntimeWarning: Loading required package: MASS\n",
      "\n",
      "  warnings.warn(x, RRuntimeWarning)\n",
      "/Users/cch/anaconda36/anaconda/lib/python3.6/site-packages/rpy2/rinterface/__init__.py:186: RRuntimeWarning: Loading required package: strucchange\n",
      "\n",
      "  warnings.warn(x, RRuntimeWarning)\n",
      "/Users/cch/anaconda36/anaconda/lib/python3.6/site-packages/rpy2/rinterface/__init__.py:186: RRuntimeWarning: Loading required package: sandwich\n",
      "\n",
      "  warnings.warn(x, RRuntimeWarning)\n",
      "/Users/cch/anaconda36/anaconda/lib/python3.6/site-packages/rpy2/rinterface/__init__.py:186: RRuntimeWarning: Loading required package: urca\n",
      "\n",
      "  warnings.warn(x, RRuntimeWarning)\n",
      "/Users/cch/anaconda36/anaconda/lib/python3.6/site-packages/rpy2/rinterface/__init__.py:186: RRuntimeWarning: Loading required package: lmtest\n",
      "\n",
      "  warnings.warn(x, RRuntimeWarning)\n"
     ]
    },
    {
     "data": {
      "text/plain": [
       "$X3008.TW.Close\n",
       "                   Estimate Std. Error t value Pr(>|t|)\n",
       "X3008.TW.Close.l1   -0.0318    0.09274 -0.3429   0.7322\n",
       "X3008.TW.Volume.l1   0.3615    0.37587  0.9618   0.3380\n",
       "const               -4.3382    4.83800 -0.8967   0.3716\n",
       "\n",
       "$X3008.TW.Volume\n",
       "                   Estimate Std. Error t value  Pr(>|t|)\n",
       "X3008.TW.Close.l1  -0.02132    0.01989  -1.072 2.859e-01\n",
       "X3008.TW.Volume.l1  0.51397    0.08060   6.377 3.127e-09\n",
       "const               6.26743    1.03746   6.041 1.602e-08\n",
       "\n"
      ]
     },
     "metadata": {},
     "output_type": "display_data"
    }
   ],
   "source": [
    "%%R\n",
    "\n",
    "library(vars)\n",
    "out.var=VAR(dat,p=1,type=\"const\",season=NULL, exogen=NULL, lag.max=NULL)\n",
    "options(digits=4)\n",
    "coef(out.var)"
   ]
  },
  {
   "cell_type": "markdown",
   "metadata": {},
   "source": [
    "Granger Causality Test\n",
    "---\n",
    "<big>**Var(2)** Model</big>\n",
    "$$\n",
    "\\mathbf{\n",
    "\\left(\\begin{array}{c}\n",
    "     \\mathbf{\n",
    "       R_t\\\\\n",
    "       V_t\n",
    "     }\n",
    "   \\end{array}\\right) = \\left(\\begin{array}{c}\n",
    "     \\alpha_1\\\\\n",
    "     \\alpha_2\n",
    "   \\end{array}\\right) + \\left(\\begin{array}{cc}\n",
    "     \\beta_{11} & \\color{red}{\\beta_{12}} & \\beta_{13} & \\color{red}{\\beta_{14}} \\\\\n",
    "     \\color{brown}{\\beta_{21}} & \\beta_{22} &  \\color{brown}{\\beta_{23}} & \\beta_{24}\n",
    "   \\end{array}\\right) \\left(\\begin{array}{c}\n",
    "    \\mathbf{\n",
    "     R_{t - 1}\\\\\n",
    "     V_{t - 1}\\\\\n",
    "     R_{t - 2}\\\\\n",
    "     V_{t - 2}\n",
    "    } \n",
    "   \\end{array}\\right)+\\mathbf{u_t}\n",
    "}\n",
    "$$\n",
    "\n",
    "Hypothese Tests of Causality\n",
    "---\n",
    "<b>\n",
    "$H_0:\\beta_{12}=\\beta_{14}=0$, $R_t$ is no causality with $V_t$,<br>\n",
    "$H_0:\\beta_{21}=\\beta_{23}=0$, $V_t$ is no causality with $R_t$,<br>\n",
    "</b>\n",
    "with test Estimate: <b>Wald-statistic $\\sim \\chi^2(2)$</b>\n",
    "\n",
    "**Result of this case**\n",
    "- use bootstrapping method 5000 times,\n",
    "- $p$ values &lt;0.05: do not accept all $H_0$'s, i.e. Return causes Volume and vice visa."
   ]
  },
  {
   "cell_type": "code",
   "execution_count": 57,
   "metadata": {},
   "outputs": [
    {
     "data": {
      "text/plain": [
       "$Granger\n",
       "\n",
       "\tGranger causality H0: Ret do not Granger-cause Vol\n",
       "\n",
       "data:  VAR object out.var\n",
       "F-Test = 1.1, boot.runs = 5000, p-value = 0.3\n",
       "\n",
       "\n",
       "$Instant\n",
       "\n",
       "\tH0: No instantaneous causality between: Ret and Vol\n",
       "\n",
       "data:  VAR object out.var\n",
       "Chi-squared = 8.8, df = 1, p-value = 0.003\n",
       "\n",
       "\n"
      ]
     },
     "metadata": {},
     "output_type": "display_data"
    }
   ],
   "source": [
    "%%R \n",
    "\n",
    "causality(out.var,cause=\"Ret\",boot=TRUE, boot.runs=5000)"
   ]
  },
  {
   "cell_type": "code",
   "execution_count": 56,
   "metadata": {},
   "outputs": [
    {
     "data": {
      "text/plain": [
       "$Granger\n",
       "\n",
       "\tGranger causality H0: Vol do not Granger-cause Ret\n",
       "\n",
       "data:  VAR object out.var\n",
       "F-Test = 0.92, boot.runs = 5000, p-value = 0.3\n",
       "\n",
       "\n",
       "$Instant\n",
       "\n",
       "\tH0: No instantaneous causality between: Vol and Ret\n",
       "\n",
       "data:  VAR object out.var\n",
       "Chi-squared = 8.8, df = 1, p-value = 0.003\n",
       "\n",
       "\n"
      ]
     },
     "metadata": {},
     "output_type": "display_data"
    }
   ],
   "source": [
    "%%R\n",
    "\n",
    "causality(out.var,cause=\"Vol\",boot=TRUE, boot.runs=5000)"
   ]
  },
  {
   "cell_type": "markdown",
   "metadata": {},
   "source": [
    "Impulse-response Analysis\n",
    "---\n",
    "Calculate the impulse to **Ret**, which come from **Vol**, 10 records created in dafault and accompanies with 95% upper and lower bands:"
   ]
  },
  {
   "cell_type": "code",
   "execution_count": 60,
   "metadata": {},
   "outputs": [
    {
     "data": {
      "image/png": "[encoded data removed]"
     },
     "metadata": {},
     "output_type": "display_data"
    }
   ],
   "source": [
    "%%R\n",
    "\n",
    "output.irf=irf(out.var, impulse = \"Vol\", response = c(\"Ret\", \"Vol\"),boot=TRUE, boot.runs=1000)\n",
    "plot(output.irf)\n",
    "\n"
   ]
  },
  {
   "cell_type": "code",
   "execution_count": 58,
   "metadata": {},
   "outputs": [
    {
     "data": {
      "text/plain": [
       "\n",
       "Impulse response coefficients\n",
       "$Vol\n",
       "            Ret       Vol\n",
       " [1,] 0.0000000 0.3976632\n",
       " [2,] 0.1437552 0.2043863\n",
       " [3,] 0.0693142 0.1019840\n",
       " [4,] 0.0346630 0.0509391\n",
       " [5,] 0.0173122 0.0254422\n",
       " [6,] 0.0086468 0.0127075\n",
       " [7,] 0.0043188 0.0063469\n",
       " [8,] 0.0021571 0.0031701\n",
       " [9,] 0.0010774 0.0015833\n",
       "[10,] 0.0005381 0.0007908\n",
       "[11,] 0.0002688 0.0003950\n",
       "\n",
       "\n",
       "Lower Band, CI= 0.95 \n",
       "$Vol\n",
       "             Ret       Vol\n",
       " [1,]  0.0000000 3.446e-01\n",
       " [2,] -0.1183101 1.358e-01\n",
       " [3,] -0.0514477 4.516e-02\n",
       " [4,] -0.0264562 1.463e-02\n",
       " [5,] -0.0131971 5.042e-03\n",
       " [6,] -0.0068649 1.738e-03\n",
       " [7,] -0.0035680 5.987e-04\n",
       " [8,] -0.0018552 2.062e-04\n",
       " [9,] -0.0009648 7.104e-05\n",
       "[10,] -0.0005019 2.449e-05\n",
       "[11,] -0.0002612 8.449e-06\n",
       "\n",
       "\n",
       "Upper Band, CI= 0.95 \n",
       "$Vol\n",
       "           Ret      Vol\n",
       " [1,] 0.000000 0.451552\n",
       " [2,] 0.430688 0.257773\n",
       " [3,] 0.219837 0.153670\n",
       " [4,] 0.117313 0.096340\n",
       " [5,] 0.064851 0.059791\n",
       " [6,] 0.037442 0.037092\n",
       " [7,] 0.021168 0.023017\n",
       " [8,] 0.012306 0.014283\n",
       " [9,] 0.007771 0.008864\n",
       "[10,] 0.004954 0.005502\n",
       "[11,] 0.002992 0.003415\n",
       "\n"
      ]
     },
     "metadata": {},
     "output_type": "display_data"
    }
   ],
   "source": [
    "%%R\n",
    "\n",
    "output.irf"
   ]
  },
  {
   "cell_type": "markdown",
   "metadata": {},
   "source": [
    "Stability test\n",
    "---"
   ]
  },
  {
   "cell_type": "code",
   "execution_count": 62,
   "metadata": {},
   "outputs": [
    {
     "data": {
      "text/plain": [
       "$Ret\n",
       "\n",
       "Empirical Fluctuation Process: OLS-based CUSUM test \n",
       "\n",
       "Call: efp(formula = formula, data = data, type = type, h = h, dynamic = dynamic, \n",
       "    rescale = rescale)\n",
       "\n",
       "\n",
       "$Vol\n",
       "\n",
       "Empirical Fluctuation Process: OLS-based CUSUM test \n",
       "\n",
       "Call: efp(formula = formula, data = data, type = type, h = h, dynamic = dynamic, \n",
       "    rescale = rescale)\n",
       "\n",
       "\n"
      ]
     },
     "metadata": {},
     "output_type": "display_data"
    }
   ],
   "source": [
    "%%R\n",
    "\n",
    "output.stabil = stability(out.var, type = \"OLS-CUSUM\")\n",
    "stability(out.var, type = \"OLS-CUSUM\")"
   ]
  },
  {
   "cell_type": "markdown",
   "metadata": {},
   "source": [
    "Portmanteau Test for Residuals self-relation\n",
    "---"
   ]
  },
  {
   "cell_type": "code",
   "execution_count": 64,
   "metadata": {},
   "outputs": [
    {
     "data": {
      "text/plain": [
       "\n",
       "\tPortmanteau Test (adjusted)\n",
       "\n",
       "data:  Residuals of VAR object out.var\n",
       "Chi-squared = 88, df = 60, p-value = 0.01\n",
       "\n"
      ]
     },
     "metadata": {},
     "output_type": "display_data"
    }
   ],
   "source": [
    "%%R\n",
    "\n",
    "output.serial =serial.test(out.var, lags.pt = 16, type = \"PT.adjusted\")\n",
    "serial.test(out.var, lags.pt = 16, type = \"PT.adjusted\")"
   ]
  },
  {
   "cell_type": "code",
   "execution_count": 59,
   "metadata": {},
   "outputs": [
    {
     "data": {
      "text/plain": [
       "\n",
       "VAR Estimation Results:\n",
       "======================= \n",
       "\n",
       "Estimated coefficients for equation Ret: \n",
       "======================================== \n",
       "Call:\n",
       "Ret = Ret.l1 + Vol.l1 + Ret.l2 + Vol.l2 + Ret.l3 + Vol.l3 + Ret.l4 + Vol.l4 + Ret.l5 + Vol.l5 + Ret.l6 + Vol.l6 + const \n",
       "\n",
       "    Ret.l1     Vol.l1     Ret.l2     Vol.l2     Ret.l3     Vol.l3     Ret.l4 \n",
       " -0.005642   0.147310  -0.146609   0.189834  -0.190670   0.333474  -0.113482 \n",
       "    Vol.l4     Ret.l5     Vol.l5     Ret.l6     Vol.l6      const \n",
       " -0.415825   0.219110  -0.396592  -0.210199   1.207103 -13.357301 \n",
       "\n",
       "\n",
       "Estimated coefficients for equation Vol: \n",
       "======================================== \n",
       "Call:\n",
       "Vol = Ret.l1 + Vol.l1 + Ret.l2 + Vol.l2 + Ret.l3 + Vol.l3 + Ret.l4 + Vol.l4 + Ret.l5 + Vol.l5 + Ret.l6 + Vol.l6 + const \n",
       "\n",
       "   Ret.l1    Vol.l1    Ret.l2    Vol.l2    Ret.l3    Vol.l3    Ret.l4    Vol.l4 \n",
       "-0.031903  0.373691  0.008124  0.044857  0.011392  0.071310 -0.031584  0.011097 \n",
       "   Ret.l5    Vol.l5    Ret.l6    Vol.l6     const \n",
       " 0.018499  0.181250  0.012698  0.047362  3.468680 \n",
       "\n",
       "\n"
      ]
     },
     "metadata": {},
     "output_type": "display_data"
    }
   ],
   "source": [
    "%%R\n",
    "\n",
    "output.stabil = stability(out.var, type = \"OLS-CUSUM\")\n",
    "\n",
    "output.serial =serial.test(out.var, lags.pt = 16, type = \"PT.adjusted\")\n",
    "output.normality =normality.test(out.var)\n",
    "\n",
    "VAR(dat,p=1,type=\"const\",season=NULL, exogen=NULL, lag.max=20,ic=\"AIC\")"
   ]
  },
  {
   "cell_type": "markdown",
   "metadata": {},
   "source": [
    "Normality Test\n",
    "---\n",
    "If yes, the estimator of OLS of degenerated Var(p) is as same as the generalized least squares estimator, GLS."
   ]
  },
  {
   "cell_type": "code",
   "execution_count": 65,
   "metadata": {},
   "outputs": [
    {
     "data": {
      "text/plain": [
       "$JB\n",
       "\n",
       "\tJB-Test (multivariate)\n",
       "\n",
       "data:  Residuals of VAR object out.var\n",
       "Chi-squared = 42, df = 4, p-value = 1e-08\n",
       "\n",
       "\n",
       "$Skewness\n",
       "\n",
       "\tSkewness only (multivariate)\n",
       "\n",
       "data:  Residuals of VAR object out.var\n",
       "Chi-squared = 9.5, df = 2, p-value = 0.009\n",
       "\n",
       "\n",
       "$Kurtosis\n",
       "\n",
       "\tKurtosis only (multivariate)\n",
       "\n",
       "data:  Residuals of VAR object out.var\n",
       "Chi-squared = 33, df = 2, p-value = 8e-08\n",
       "\n",
       "\n"
      ]
     },
     "metadata": {},
     "output_type": "display_data"
    }
   ],
   "source": [
    "%%R\n",
    "\n",
    "output.normality =normality.test(out.var)\n",
    "normality.test(out.var)\n",
    "\n"
   ]
  },
  {
   "cell_type": "markdown",
   "metadata": {},
   "source": [
    "Optimal lagging period\n",
    "---\n",
    "How to find out the best lag, only Var(1) and Var(2) considered above?\n",
    "\n",
    "1. estimate and fit each lag within the range of lag.max,\n",
    "- use one of rules, ```ic=C(\"AIC\",\"HQ\",\"SC\",\"FPE\")``` \n",
    "  - largest one in AIC\n",
    "  - smallest in SC\n",
    "  - midlle in HQ\n",
    "- here, suggests the best fit is $p=6$ lags   "
   ]
  },
  {
   "cell_type": "code",
   "execution_count": 66,
   "metadata": {},
   "outputs": [
    {
     "data": {
      "text/plain": [
       "\n",
       "VAR Estimation Results:\n",
       "======================= \n",
       "\n",
       "Estimated coefficients for equation Ret: \n",
       "======================================== \n",
       "Call:\n",
       "Ret = Ret.l1 + Vol.l1 + Ret.l2 + Vol.l2 + Ret.l3 + Vol.l3 + Ret.l4 + Vol.l4 + Ret.l5 + Vol.l5 + Ret.l6 + Vol.l6 + const \n",
       "\n",
       "    Ret.l1     Vol.l1     Ret.l2     Vol.l2     Ret.l3     Vol.l3     Ret.l4 \n",
       " -0.005642   0.147310  -0.146609   0.189834  -0.190670   0.333474  -0.113482 \n",
       "    Vol.l4     Ret.l5     Vol.l5     Ret.l6     Vol.l6      const \n",
       " -0.415825   0.219110  -0.396592  -0.210199   1.207103 -13.357301 \n",
       "\n",
       "\n",
       "Estimated coefficients for equation Vol: \n",
       "======================================== \n",
       "Call:\n",
       "Vol = Ret.l1 + Vol.l1 + Ret.l2 + Vol.l2 + Ret.l3 + Vol.l3 + Ret.l4 + Vol.l4 + Ret.l5 + Vol.l5 + Ret.l6 + Vol.l6 + const \n",
       "\n",
       "   Ret.l1    Vol.l1    Ret.l2    Vol.l2    Ret.l3    Vol.l3    Ret.l4    Vol.l4 \n",
       "-0.031903  0.373691  0.008124  0.044857  0.011392  0.071310 -0.031584  0.011097 \n",
       "   Ret.l5    Vol.l5    Ret.l6    Vol.l6     const \n",
       " 0.018499  0.181250  0.012698  0.047362  3.468680 \n",
       "\n",
       "\n"
      ]
     },
     "metadata": {},
     "output_type": "display_data"
    }
   ],
   "source": [
    "%%R\n",
    "\n",
    "VAR(dat,p=1,type=\"const\",season=NULL, exogen=NULL, lag.max=20,ic=\"AIC\")"
   ]
  },
  {
   "cell_type": "markdown",
   "metadata": {},
   "source": [
    "# Prediction\n",
    "Having the optimal model, make the predict with the estimated lag-period parameter. Also retrieve the R-data and make the graph output in Python environment. Here ten days' pediction was estimated since 07-27-2017."
   ]
  },
  {
   "cell_type": "code",
   "execution_count": 211,
   "metadata": {},
   "outputs": [
    {
     "data": {
      "image/png": "[encoded data removed]"
     },
     "metadata": {},
     "output_type": "display_data"
    }
   ],
   "source": [
    "%%R\n",
    "\n",
    "library(forecast)\n",
    "var <- VAR(dat,p=6,type=\"const\",season=NULL, exogen=NULL, lag.max=NULL)\n",
    "#ffst <- forecast(var, h=10)\n",
    "fpdt <- predict(var,n.ahead=10)\n",
    "plot(fpdt, xlab=\"Time\")"
   ]
  },
  {
   "cell_type": "code",
   "execution_count": 212,
   "metadata": {},
   "outputs": [
    {
     "data": {
      "text/plain": [
       "$fcst\n",
       "$fcst$X3008.TW.Close\n",
       "          fcst  lower upper    CI\n",
       " [1,]  0.55571 -2.712 3.823 3.267\n",
       " [2,]  0.13502 -3.134 3.404 3.269\n",
       " [3,] -0.39363 -3.699 2.912 3.306\n",
       " [4,]  1.25284 -2.116 4.622 3.369\n",
       " [5,]  0.40949 -2.987 3.806 3.396\n",
       " [6,] -0.46419 -3.991 3.063 3.527\n",
       " [7,] -0.04017 -3.661 3.581 3.621\n",
       " [8,]  0.35893 -3.288 4.006 3.647\n",
       " [9,]  0.87763 -2.776 4.531 3.654\n",
       "[10,]  0.14296 -3.516 3.802 3.659\n",
       "\n",
       "$fcst$X3008.TW.Volume\n",
       "       fcst lower upper     CI\n",
       " [1,] 12.95 12.20 13.69 0.7470\n",
       " [2,] 13.10 12.30 13.89 0.7968\n",
       " [3,] 12.91 12.11 13.72 0.8077\n",
       " [4,] 12.80 11.98 13.61 0.8177\n",
       " [5,] 12.80 11.97 13.62 0.8230\n",
       " [6,] 12.86 12.02 13.71 0.8459\n",
       " [7,] 12.95 12.08 13.81 0.8653\n",
       " [8,] 12.86 11.99 13.73 0.8699\n",
       " [9,] 12.83 11.96 13.71 0.8747\n",
       "[10,] 12.84 11.97 13.72 0.8793\n",
       "\n",
       "\n"
      ]
     },
     "metadata": {},
     "output_type": "display_data"
    }
   ],
   "source": [
    "%%R \n",
    "\n",
    "fpdt[1]\n",
    "#fpdt[1]$fcst$X3008.TW.Close[1:10]"
   ]
  },
  {
   "cell_type": "code",
   "execution_count": 213,
   "metadata": {},
   "outputs": [
    {
     "data": {
      "text/plain": [
       "$fcst\n",
       "$fcst$X3008.TW.Close\n",
       "          fcst  lower upper    CI\n",
       " [1,]  0.55571 -2.712 3.823 3.267\n",
       " [2,]  0.13502 -3.134 3.404 3.269\n",
       " [3,] -0.39363 -3.699 2.912 3.306\n",
       " [4,]  1.25284 -2.116 4.622 3.369\n",
       " [5,]  0.40949 -2.987 3.806 3.396\n",
       " [6,] -0.46419 -3.991 3.063 3.527\n",
       " [7,] -0.04017 -3.661 3.581 3.621\n",
       " [8,]  0.35893 -3.288 4.006 3.647\n",
       " [9,]  0.87763 -2.776 4.531 3.654\n",
       "[10,]  0.14296 -3.516 3.802 3.659\n",
       "\n",
       "$fcst$X3008.TW.Volume\n",
       "       fcst lower upper     CI\n",
       " [1,] 12.95 12.20 13.69 0.7470\n",
       " [2,] 13.10 12.30 13.89 0.7968\n",
       " [3,] 12.91 12.11 13.72 0.8077\n",
       " [4,] 12.80 11.98 13.61 0.8177\n",
       " [5,] 12.80 11.97 13.62 0.8230\n",
       " [6,] 12.86 12.02 13.71 0.8459\n",
       " [7,] 12.95 12.08 13.81 0.8653\n",
       " [8,] 12.86 11.99 13.73 0.8699\n",
       " [9,] 12.83 11.96 13.71 0.8747\n",
       "[10,] 12.84 11.97 13.72 0.8793\n",
       "\n",
       "\n"
      ]
     },
     "metadata": {},
     "output_type": "display_data"
    }
   ],
   "source": [
    "%%R \n",
    "\n",
    "fpdt[1]\n",
    "#fpdt[1]$fcst$X3008.TW.Close[1:10]"
   ]
  },
  {
   "cell_type": "code",
   "execution_count": 226,
   "metadata": {},
   "outputs": [
    {
     "data": {
      "text/plain": [
       "array([ 0.55570702,  0.13501908, -0.39363228,  1.25284353,  0.40949224,\n",
       "       -0.46418907, -0.0401733 ,  0.35893283,  0.87762623,  0.14295777])"
      ]
     },
     "execution_count": 226,
     "metadata": {},
     "output_type": "execute_result"
    }
   ],
   "source": [
    "%R fpdt[1]$fcst$X3008.TW.Close[1:10]"
   ]
  },
  {
   "cell_type": "code",
   "execution_count": 215,
   "metadata": {},
   "outputs": [
    {
     "data": {
      "text/plain": [
       "array([[ 0.55570702, -2.71163767,  3.8230517 ,  3.26734469],\n",
       "       [ 0.13501908, -3.13410306,  3.40414122,  3.26912214],\n",
       "       [-0.39363228, -3.69936591,  2.91210136,  3.30573364],\n",
       "       [ 1.25284353, -2.11605733,  4.62174439,  3.36890086],\n",
       "       [ 0.40949224, -2.9865771 ,  3.80556159,  3.39606935],\n",
       "       [-0.46418907, -3.99147826,  3.06310012,  3.52728919],\n",
       "       [-0.0401733 , -3.66120126,  3.58085465,  3.62102795],\n",
       "       [ 0.35893283, -3.288351  ,  4.00621666,  3.64728383],\n",
       "       [ 0.87762623, -2.77615959,  4.53141205,  3.65378582],\n",
       "       [ 0.14295777, -3.51632097,  3.80223651,  3.65927874]])"
      ]
     },
     "execution_count": 215,
     "metadata": {},
     "output_type": "execute_result"
    }
   ],
   "source": [
    "%R fpdt[1]$fcst$X3008.TW.Close"
   ]
  },
  {
   "cell_type": "code",
   "execution_count": 216,
   "metadata": {
    "collapsed": true
   },
   "outputs": [],
   "source": [
    "import numpy as np\n",
    "fpdt_array =  %R fpdt[1]$fcst$X3008.TW.Close\n",
    "fpdt_vol_array =  %R fpdt[1]$fcst$X3008.TW.Volume"
   ]
  },
  {
   "cell_type": "code",
   "execution_count": 221,
   "metadata": {
    "collapsed": true
   },
   "outputs": [],
   "source": [
    "# convert R output into Numpy and categoried by features\n",
    "fpdt_array.reshape((10, 4))\n",
    "fpdt_np=fpdt_array.T\n",
    "fpdt_vol_array.reshape((10, 4))\n",
    "fpdt_vol_np=fpdt_vol_array.T\n"
   ]
  },
  {
   "cell_type": "code",
   "execution_count": 222,
   "metadata": {
    "collapsed": true
   },
   "outputs": [],
   "source": [
    "# calculate sizes of ret and prediction data\n",
    "num=len(ret)\n",
    "period=len(fpdt_np[0])"
   ]
  },
  {
   "cell_type": "code",
   "execution_count": 225,
   "metadata": {},
   "outputs": [
    {
     "data": {
      "text/plain": [
       "<matplotlib.text.Text at 0x123d641d0>"
      ]
     },
     "execution_count": 225,
     "metadata": {},
     "output_type": "execute_result"
    },
    {
     "data": {
      "image/png": "[encoded data removed]",
      "text/plain": [
       "<matplotlib.figure.Figure at 0x123beaac8>"
      ]
     },
     "metadata": {},
     "output_type": "display_data"
    }
   ],
   "source": [
    "from matplotlib import font_manager,rcParams\n",
    "\n",
    "\n",
    "# conjaction the data, ret and vol, with predict data\n",
    "ret_pt = np.linspace(num-1,num+period-1,period+1)\n",
    "ret_p  = np.append(ret[-1],fpdt_np[0])\n",
    "\n",
    "vol_pt = np.linspace(num-1,num+period-1,period+1)\n",
    "vol_p  = np.append(vol[-1],fpdt_vol_np[0])\n",
    "\n",
    "rcParams['font.family'] = 'AppleGothic' \n",
    "fig, ax1 = plt.subplots(figsize=(14,6))\n",
    "ax1.plot(ret,drawstyle='steps',color='blue',alpha=0.8,linewidth=2,label=\"獲利\")\n",
    "\n",
    "ax1.plot(ret_pt,ret_p,drawstyle='steps',alpha=0.4,linewidth=2,color='blue',linestyle='--')\n",
    "\n",
    "ax2 = ax1.twinx()\n",
    "ax2.plot(vol,drawstyle='steps',alpha=0.4,linewidth=2,color=\"red\",label=\"成交量\")\n",
    "\n",
    "ax2.plot(vol_pt,vol_p,drawstyle='steps',alpha=0.4,linewidth=2,color='red',linestyle='--')\n",
    "\n",
    "\n",
    "ax1.legend(fontsize=14,loc='upper left')  \n",
    "ax2.legend(fontsize=14)  \n",
    "\n",
    "ax1.set_title('大立光 (3008): 獲利 v.s. 成交量',fontsize=20) "
   ]
  },
  {
   "cell_type": "code",
   "execution_count": null,
   "metadata": {
    "collapsed": true
   },
   "outputs": [],
   "source": []
  }
 ],
 "metadata": {
  "kernelspec": {
   "display_name": "Python 3",
   "language": "python",
   "name": "python3"
  },
  "language_info": {
   "codemirror_mode": {
    "name": "ipython",
    "version": 3
   },
   "file_extension": ".py",
   "mimetype": "text/x-python",
   "name": "python",
   "nbconvert_exporter": "python",
   "pygments_lexer": "ipython3",
   "version": "3.6.1"
  },
  "toc": {
   "colors": {
    "hover_highlight": "#DAA520",
    "navigate_num": "#000000",
    "navigate_text": "#333333",
    "running_highlight": "#FF0000",
    "selected_highlight": "#FFD700",
    "sidebar_border": "#EEEEEE",
    "wrapper_background": "#FFFFFF"
   },
   "moveMenuLeft": true,
   "nav_menu": {
    "height": "12px",
    "width": "252px"
   },
   "navigate_menu": true,
   "number_sections": true,
   "sideBar": true,
   "threshold": 4,
   "toc_cell": false,
   "toc_section_display": "block",
   "toc_window_display": false,
   "widenNotebook": false
  }
 },
 "nbformat": 4,
 "nbformat_minor": 2
}
