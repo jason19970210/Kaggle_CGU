{
 "cells": [
  {
   "cell_type": "markdown",
   "metadata": {
    "slideshow": {
     "slide_type": "slide"
    }
   },
   "source": [
    "# Stochastic Prediction Model, <br><small>Case of Dengue Outbreak in Tainan, 2015</small>\n",
    "\n",
    "## Part 1\n",
    "\n",
    "### Data Cleaning and Visualization"
   ]
  },
  {
   "cell_type": "markdown",
   "metadata": {},
   "source": [
    "Data \n",
    "---\n",
    "- [Tainan Goverment](http://data.tainan.gov.tw/dataset/denguefevercases): cases data\n",
    "\n",
    "- [Tainan Goverment](http://data.tainan.gov.tw/dataset/2015-df-mosquito-density): density of vector masquitos\n",
    "\n",
    "\n",
    "\n",
    "\n",
    "Note\n",
    "---\n",
    "- vector mosquito: Aedes aegypt (埃及斑蚊), Aedes albopictus（及白線斑蚊）\n",
    "- Breteau Index (布氏指數): KaoKsuing<br>\n",
    "    ```布氏指數=8.349×誘蚊產卵器陽性率+4.972```\n",
    "\n",
    "- This data is recorded in *big5* encoding and have to converted into **utf-8** in advanced. The worse, data are partly in **big5** encoding and partly in **utf-8** encoding.\n",
    "  - Libreoffice:\n",
    "    \n",
    "    ```\n",
    "    [Save As:] ...\n",
    "    \n",
    "    File type: Text csv(.csv)\n",
    "      √ automatic file extensions\n",
    "      √ Edit file setting\n",
    "      \n",
    "    --------------------\n",
    "            Use TeXt CSV Format                    \n",
    "    --------------------\n",
    "    \n",
    "    Character set: Unicode (UTF 8)\n",
    "    ```\n",
    "  - iconv   \n",
    "    ```shell\n",
    "    > iconv -c -t utf8 data.csv > data_utf8.csv\n",
    "    ```\n",
    "- Also change the names of column in English    "
   ]
  },
  {
   "cell_type": "code",
   "execution_count": null,
   "metadata": {
    "slideshow": {
     "slide_type": "slide"
    }
   },
   "outputs": [],
   "source": []
  },
  {
   "cell_type": "code",
   "execution_count": 1,
   "metadata": {
    "slideshow": {
     "slide_type": "subslide"
    }
   },
   "outputs": [
    {
     "ename": "ModuleNotFoundError",
     "evalue": "No module named 'gmplot'",
     "output_type": "error",
     "traceback": [
      "\u001b[0;31m---------------------------------------------------------------------------\u001b[0m",
      "\u001b[0;31mModuleNotFoundError\u001b[0m                       Traceback (most recent call last)",
      "\u001b[0;32m<ipython-input-1-da942b1b6022>\u001b[0m in \u001b[0;36m<module>\u001b[0;34m\u001b[0m\n\u001b[1;32m      4\u001b[0m \u001b[0;32mimport\u001b[0m \u001b[0mpandas\u001b[0m \u001b[0;32mas\u001b[0m \u001b[0mpd\u001b[0m\u001b[0;34m\u001b[0m\u001b[0;34m\u001b[0m\u001b[0m\n\u001b[1;32m      5\u001b[0m \u001b[0;32mimport\u001b[0m \u001b[0mmatplotlib\u001b[0m\u001b[0;34m.\u001b[0m\u001b[0mpyplot\u001b[0m \u001b[0;32mas\u001b[0m \u001b[0mplt\u001b[0m\u001b[0;34m\u001b[0m\u001b[0;34m\u001b[0m\u001b[0m\n\u001b[0;32m----> 6\u001b[0;31m \u001b[0;32mimport\u001b[0m \u001b[0mgmplot\u001b[0m\u001b[0;34m,\u001b[0m\u001b[0mfolium\u001b[0m\u001b[0;34m\u001b[0m\u001b[0;34m\u001b[0m\u001b[0m\n\u001b[0m\u001b[1;32m      7\u001b[0m \u001b[0;32mimport\u001b[0m \u001b[0mseaborn\u001b[0m \u001b[0;32mas\u001b[0m \u001b[0msns\u001b[0m\u001b[0;34m\u001b[0m\u001b[0;34m\u001b[0m\u001b[0m\n\u001b[1;32m      8\u001b[0m \u001b[0;32mfrom\u001b[0m \u001b[0mipywidgets\u001b[0m \u001b[0;32mimport\u001b[0m \u001b[0minteract\u001b[0m\u001b[0;34m,\u001b[0m\u001b[0mwidgets\u001b[0m\u001b[0;34m,\u001b[0m\u001b[0minteractive\u001b[0m\u001b[0;34m\u001b[0m\u001b[0;34m\u001b[0m\u001b[0m\n",
      "\u001b[0;31mModuleNotFoundError\u001b[0m: No module named 'gmplot'"
     ]
    }
   ],
   "source": [
    "from IPython.core.display import HTML\n",
    "import qgrid\n",
    "import numpy as np\n",
    "import pandas as pd\n",
    "import matplotlib.pyplot as plt\n",
    "import gmplot,folium\n",
    "import seaborn as sns\n",
    "from ipywidgets import interact,widgets,interactive\n",
    "from IPython.display import display,clear_output\n",
    "import warnings\n",
    "warnings.filterwarnings('ignore')\n",
    "\n",
    "sns.set()\n",
    "\n",
    "%matplotlib inline"
   ]
  },
  {
   "cell_type": "markdown",
   "metadata": {},
   "source": [
    "Eco Systems Info\n",
    "---\n",
    "Requirements, by `pip`:\n",
    "- **gmap**, package which helps to render data on the Google map; the bad news of using Google map, it not fully free. Using Google map, you need to get a API key and link with your billing card info. Or try the next solution:\n",
    "- **folium**, folium builds on the data wrangling strengths of the Python ecosystem and the mapping strengths of the Leaflet.js library. Manipulate your data in Python, then visualize it in a Leaflet map via folium.\n",
    "- **statmodels**, a Python package provides statistical utilities;\n",
    "- **arch**, Autoregressive Conditional Heteroskedasticity (ARCH) avails tools for time-series,\n",
    "\n",
    "What packages we used,"
   ]
  },
  {
   "cell_type": "code",
   "execution_count": null,
   "metadata": {},
   "outputs": [],
   "source": []
  },
  {
   "cell_type": "code",
   "execution_count": null,
   "metadata": {},
   "outputs": [],
   "source": []
  },
  {
   "cell_type": "code",
   "execution_count": null,
   "metadata": {},
   "outputs": [],
   "source": [
    "%load_ext watermark"
   ]
  },
  {
   "cell_type": "code",
   "execution_count": null,
   "metadata": {},
   "outputs": [],
   "source": [
    "%watermark -a \"\" -v -p numpy,scipy,seaborn,pandas,qgrid,ipywidgets,arch,statsmodels,gmplot,folium,matplotlib,notebook"
   ]
  },
  {
   "cell_type": "code",
   "execution_count": null,
   "metadata": {},
   "outputs": [],
   "source": [
    "import sys\n",
    "pd.options.display.encoding = sys.stdout.encoding"
   ]
  },
  {
   "cell_type": "code",
   "execution_count": null,
   "metadata": {
    "slideshow": {
     "slide_type": "fragment"
    }
   },
   "outputs": [],
   "source": [
    "qgrid.set_defaults( precision=4)"
   ]
  },
  {
   "cell_type": "markdown",
   "metadata": {
    "slideshow": {
     "slide_type": "slide"
    }
   },
   "source": [
    "Data Sources\n",
    "---\n",
    "<a href=\"http://data.tainan.gov.tw/dataset/dengue-dist\">Tainan City Government</a>"
   ]
  },
  {
   "cell_type": "markdown",
   "metadata": {
    "slideshow": {
     "slide_type": "slide"
    }
   },
   "source": [
    "Subjects\n",
    "---\n",
    "\n",
    "Load native data,"
   ]
  },
  {
   "cell_type": "code",
   "execution_count": null,
   "metadata": {},
   "outputs": [],
   "source": [
    "df = pd.DataFrame.from_csv('data/test.csv',index_col=0,parse_dates=[0],encoding=\"utf-8\")\n",
    "#df = df.sort_index()\n",
    "#result = df.sort(['A', 'B'], ascending=[1, 0])\n"
   ]
  },
  {
   "cell_type": "code",
   "execution_count": null,
   "metadata": {},
   "outputs": [],
   "source": [
    "qgrid.show_grid(df)"
   ]
  },
  {
   "cell_type": "code",
   "execution_count": null,
   "metadata": {},
   "outputs": [],
   "source": [
    "#convert Date format from YY/MM/DD to YY-MM-DD\n",
    "df['date']=pd.to_datetime(df['date'])\n",
    "\n",
    "# before we accumulate the number of suspectives at each day, we add a new colume, num=1\n",
    "df['num']=1"
   ]
  },
  {
   "cell_type": "code",
   "execution_count": null,
   "metadata": {},
   "outputs": [],
   "source": [
    "df.tail()"
   ]
  },
  {
   "cell_type": "code",
   "execution_count": null,
   "metadata": {},
   "outputs": [],
   "source": [
    "import folium\n",
    "#from folium.element import IFrame\n",
    "from folium.plugins import MarkerCluster,CirclePattern"
   ]
  },
  {
   "cell_type": "code",
   "execution_count": null,
   "metadata": {},
   "outputs": [],
   "source": [
    "lats1=df['latitude'].values\n",
    "lons1=df['longitude'].values\n",
    "locations1 = list(zip(lons1, lats1))\n",
    "\n",
    "dates1=df['date'].dt.strftime('%Y-%m-%d')\n",
    "dates2=dates1.values"
   ]
  },
  {
   "cell_type": "code",
   "execution_count": null,
   "metadata": {},
   "outputs": [],
   "source": [
    "Tainan_COORDINATES = ( df['longitude'].mean(), df['latitude'].mean()) \n",
    "\n",
    "map = folium.Map(location=Tainan_COORDINATES, \n",
    "                 zoom_start=10)\n",
    "map.add_children(MarkerCluster(locations=locations1, popups=dates2))"
   ]
  },
  {
   "cell_type": "code",
   "execution_count": null,
   "metadata": {},
   "outputs": [],
   "source": [
    "#display(map)\n",
    "map.save('Taiwanfolium.html')"
   ]
  },
  {
   "cell_type": "code",
   "execution_count": null,
   "metadata": {},
   "outputs": [],
   "source": []
  },
  {
   "cell_type": "code",
   "execution_count": null,
   "metadata": {
    "slideshow": {
     "slide_type": "subslide"
    }
   },
   "outputs": [],
   "source": [
    "cases=df[['date','num','district']]\n",
    "cases.tail(3)"
   ]
  },
  {
   "cell_type": "markdown",
   "metadata": {},
   "source": [
    "To let qgrid work again (with ipywidget-6.0.0+), change\n",
    "```\n",
    "qgrid.show_grid(df) \n",
    "  ⬇︎\n",
    "qgrid.show_grid(df,show_toolbar=True, grid_options={'forceFitColumns': False, 'defaultColumnWidth': 200})\n",
    "\n",
    "```\n",
    "Also, new Jupyter notebook limits the iopub data rate; enlarge the rate in configuration, \n",
    "**jupyter_notebook_config.py*** as follows:\n",
    "```\n",
    "NotebookApp.iopub_data_rate_limit=10000000000\n",
    "```\n",
    "\n",
    "Note\n",
    "---\n",
    "Fast development of ipywidgets provides much advantages of data display, flexibility, interactivity on browser; disavantge due to its update rate also affect the the third-parckages: **qgrid-0.3.2** can't work since IPython > 6!\n",
    "\n",
    "<del>qqrid 0-3.3</del> \n",
    "---\n",
    "Solved,\n",
    "1. modify $anaconda/etc/jupyter/nbconfig/notebook.json as follows:\n",
    "```\n",
    "{\n",
    "  \"load_extensions\": {\n",
    "     ...\n",
    "     \"qgrid/qgridjs/qgrid.widget\": true\n",
    "   }\n",
    "}\n",
    "```\n",
    "\n",
    "- make share qgrid had been copy to $Anaconda/share/jupyter/nbextensions as named qgrid (not qgridjs) after executing\n",
    "```\n",
    "shell> nbextension install qgrid --sys-prefix\n",
    "shell> nbextension enable qgrid --sys-prefix\n",
    "```\n",
    "   "
   ]
  },
  {
   "cell_type": "code",
   "execution_count": null,
   "metadata": {},
   "outputs": [],
   "source": []
  },
  {
   "cell_type": "code",
   "execution_count": null,
   "metadata": {
    "slideshow": {
     "slide_type": "slide"
    }
   },
   "outputs": [],
   "source": [
    "qgrid.show_grid(df,show_toolbar=True, grid_options={'forceFitColumns': False, 'defaultColumnWidth': 100})\n"
   ]
  },
  {
   "cell_type": "code",
   "execution_count": null,
   "metadata": {},
   "outputs": [],
   "source": [
    "qgrid.show_grid(df)"
   ]
  },
  {
   "cell_type": "markdown",
   "metadata": {
    "slideshow": {
     "slide_type": "slide"
    }
   },
   "source": [
    "Accumulation numbers of cases:\n",
    "--\n",
    "\n",
    "Make the accumulated sum based on date:"
   ]
  },
  {
   "cell_type": "code",
   "execution_count": null,
   "metadata": {
    "slideshow": {
     "slide_type": "subslide"
    }
   },
   "outputs": [],
   "source": [
    "#  grouped data with respect to the date\n",
    "cases_group = cases.groupby('date');\n",
    "#cases_group.size()"
   ]
  },
  {
   "cell_type": "code",
   "execution_count": null,
   "metadata": {
    "slideshow": {
     "slide_type": "subslide"
    }
   },
   "outputs": [],
   "source": [
    "# calculate the accumulated number of cases\n",
    "\n",
    "cases_totals = cases_group.sum()\n",
    "#cases_totals.sort(columns='num').head()\n",
    "cases_totals.tail()"
   ]
  },
  {
   "cell_type": "markdown",
   "metadata": {
    "slideshow": {
     "slide_type": "slide"
    }
   },
   "source": [
    "First eys on Data Visualization\n",
    "---"
   ]
  },
  {
   "cell_type": "code",
   "execution_count": null,
   "metadata": {
    "slideshow": {
     "slide_type": "subslide"
    }
   },
   "outputs": [],
   "source": [
    "\n",
    "my_plot = cases_totals.plot(kind='area',figsize=[12,4])"
   ]
  },
  {
   "cell_type": "code",
   "execution_count": null,
   "metadata": {
    "slideshow": {
     "slide_type": "subslide"
    }
   },
   "outputs": [],
   "source": [
    "# or this one is better\n",
    "my_plot = cases_totals.plot(drawstyle='steps',figsize=[12,4])"
   ]
  },
  {
   "cell_type": "code",
   "execution_count": null,
   "metadata": {
    "slideshow": {
     "slide_type": "subslide"
    }
   },
   "outputs": [],
   "source": [
    "#  grouped data with respect to the date and district\n",
    "cases_group1 = cases.groupby(['date','district']);\n",
    "cases_1 = cases.groupby(['date','district'])[['num']].sum();\n",
    "\n",
    "# districts' names\n",
    "#print(cases_1.index[2][:])"
   ]
  },
  {
   "cell_type": "code",
   "execution_count": null,
   "metadata": {},
   "outputs": [],
   "source": [
    "# retrieve sequences of district names of data data\n",
    "district=df.district.tolist()\n",
    "ndistrict=set(district)\n",
    "\n",
    "print(ndistrict)"
   ]
  },
  {
   "cell_type": "code",
   "execution_count": null,
   "metadata": {},
   "outputs": [],
   "source": [
    "from matplotlib.font_manager import FontProperties\n",
    "#myFont = FontProperties('/Users/cch/Downloads/kaiu.ttf')\n",
    "# change font for Traditional Chinese Language\n",
    "plt.rcParams['font.sans-serif'] = ['LiHei Pro']\n",
    "plt.rcParams['font.size']=18\n",
    "\n",
    "myFont = FontProperties('AR PL New Kai')\n",
    "font_chinese = FontProperties(fname=\"/Users/cch/Documents/2017/jeibaChinese/fireflysung.ttf\")"
   ]
  },
  {
   "cell_type": "code",
   "execution_count": null,
   "metadata": {
    "scrolled": true
   },
   "outputs": [],
   "source": [
    "#plt.rcParams['axes.unicode_minus'] = False\n",
    "ndistrict=list(ndistrict)\n",
    "\n",
    "kind=0\n",
    "plt.figure(figsize=(12,5))\n",
    "for k in ndistrict:\n",
    "    plt.plot(cases_1.xs(k,level='district'),label=k)\n",
    "    #plt.legend(k)\n",
    "    plt.title(u\"各區病例個數\",fontsize=30,fontproperties = font_chinese)\n",
    "    kind=kind+1 "
   ]
  },
  {
   "cell_type": "code",
   "execution_count": null,
   "metadata": {},
   "outputs": [],
   "source": [
    "# define dropdown options\n",
    "w = widgets.Dropdown(\n",
    "    options=ndistrict,\n",
    "    value=ndistrict[9],\n",
    "    description='District:',\n",
    ")\n",
    "\n",
    "# make plot for selected district\n",
    "\n",
    "def plot_district_case(district_area):   \n",
    "    plt.rcParams['font.family'] = 'AppleGothic' \n",
    "    plt.figure(figsize=(12,6))\n",
    "    plt.plot(cases_1.xs(district_area,level='district'),drawstyle='steps')\n",
    "    #plt.legend(k)\n",
    "    plt.title(district_area+\" 病例\",fontproperties = font_chinese) ;\n",
    "    #plt.ylim([1,160])\n",
    "    plt.xticks(rotation=90)\n",
    "    clear_output(True)\n",
    "    \n",
    "    "
   ]
  },
  {
   "cell_type": "code",
   "execution_count": null,
   "metadata": {},
   "outputs": [],
   "source": [
    "import plotly.plotly as py\n",
    "from plotly.offline import init_notebook_mode, plot, iplot\n",
    "import plotly.graph_objs as go\n",
    "import cufflinks\n",
    "# offline mode\n",
    "cufflinks.go_offline()\n",
    "# Set the global theme for cufflinks\n",
    "cufflinks.set_config_file(world_readable=True, theme='pearl', offline=True)"
   ]
  },
  {
   "cell_type": "code",
   "execution_count": null,
   "metadata": {},
   "outputs": [],
   "source": [
    "def plotly_district_case(district_area):   \n",
    "    case_size=len(cases_1.xs(district_area,level='district'))\n",
    "\n",
    "    title_= district_area+' 病例個數'\n",
    "    cases_1.xs(district_area,level='district').iplot(title=title_, xTitle='Date, 日期',yTitle='Numbers of cases, 病例數目')\n",
    "    clear_output(True)"
   ]
  },
  {
   "cell_type": "code",
   "execution_count": null,
   "metadata": {},
   "outputs": [],
   "source": []
  },
  {
   "cell_type": "code",
   "execution_count": null,
   "metadata": {},
   "outputs": [],
   "source": [
    "tool=interact(plot_district_case, district_area=w);\n",
    "display(tool)"
   ]
  },
  {
   "cell_type": "code",
   "execution_count": null,
   "metadata": {},
   "outputs": [],
   "source": [
    "tool=interact(plotly_district_case, district_area=w);\n",
    "display(tool)"
   ]
  },
  {
   "cell_type": "markdown",
   "metadata": {},
   "source": [
    "Mosquitos Data\n",
    "---"
   ]
  },
  {
   "cell_type": "code",
   "execution_count": null,
   "metadata": {},
   "outputs": [],
   "source": [
    "df_mosquito2 = pd.DataFrame.from_csv('data/mosquito-re1.csv',index_col=['date'],encoding=\"utf-8\")"
   ]
  },
  {
   "cell_type": "code",
   "execution_count": null,
   "metadata": {},
   "outputs": [],
   "source": [
    "# Native data seems worse to display with un-ordered dates\n",
    "for DistName in ndistrict:\n",
    "    #plt.plot(df_mosquito2.xs(k,level='district'),label=k)\n",
    "    #print(DistName)\n",
    "    if DistName!='永康區':\n",
    "       df_mosquito2[df_mosquito2['district']==DistName]['BIndex'].iplot(title=DistName)\n",
    "    else:\n",
    "       df_mosquito2[df_mosquito2['district']=='永康區']['BIndex'].iplot()\n",
    "    #plt.legend(k)\n",
    "    #plt.title(\"Breteau Index\",fontsize=30)#,fontproperties = myFont)"
   ]
  },
  {
   "cell_type": "code",
   "execution_count": null,
   "metadata": {},
   "outputs": [],
   "source": [
    "# Sored by date-index but comes a little fuzzy\n",
    "for DistName in ndistrict:    \n",
    "    df_mosquito2[df_mosquito2['district']==DistName]['BIndex'].sort_index().iplot(title=DistName)\n",
    "    "
   ]
  },
  {
   "cell_type": "code",
   "execution_count": null,
   "metadata": {},
   "outputs": [],
   "source": [
    "layout1 = cufflinks.Layout(\n",
    "    title='BIndex',\n",
    "    height=250,\n",
    "    width=800\n",
    ")\n",
    "layout2 = cufflinks.Layout(\n",
    "    title='病例個數',\n",
    "    height=300,\n",
    "    width=800\n",
    ")\n",
    "# Let's classify out by help of ipywidgets again\n",
    "def plotly_BIndex(district_area):\n",
    "    title_= district_area+' BIndex'\n",
    "    p1=df_mosquito2[df_mosquito2['district']==district_area]['BIndex'].sort_index().iplot(title=title_,layout=layout1.to_plotly_json())\n",
    "    \n",
    "    case_size=len(cases_1.xs(district_area,level='district'))\n",
    "\n",
    "    title2_= district_area+' 病例個數'\n",
    "    p2=cases_1.xs(district_area,level='district').iplot(title=title2_, xTitle='Date, 日期',yTitle='Numbers of cases, 病例數目',layout=layout2.to_plotly_json())\n",
    "\n",
    "    clear_output(True)"
   ]
  },
  {
   "cell_type": "code",
   "execution_count": null,
   "metadata": {},
   "outputs": [],
   "source": [
    "tool=interact(plotly_BIndex, district_area=w);\n",
    "display(tool)"
   ]
  },
  {
   "cell_type": "markdown",
   "metadata": {},
   "source": [
    "Binding togeter\n",
    "---\n",
    "Place these two subplots in a scece,"
   ]
  },
  {
   "cell_type": "code",
   "execution_count": null,
   "metadata": {},
   "outputs": [],
   "source": [
    "import plotly.plotly as py\n",
    "from plotly.offline import init_notebook_mode, plot, iplot\n",
    "import plotly.graph_objs as go"
   ]
  },
  {
   "cell_type": "code",
   "execution_count": null,
   "metadata": {},
   "outputs": [],
   "source": [
    "# look at the infected case dataframe\n",
    "district_area='永康區'\n",
    "df_mos=df_mosquito2[df_mosquito2['district']==district_area].sort_index()"
   ]
  },
  {
   "cell_type": "code",
   "execution_count": null,
   "metadata": {},
   "outputs": [],
   "source": [
    "df_mos[:5]"
   ]
  },
  {
   "cell_type": "code",
   "execution_count": null,
   "metadata": {},
   "outputs": [],
   "source": [
    "# and the Bindex dataframe, only one feature\n",
    "p2=cases_1.xs(district_area,level='district')\n",
    "p2.head()"
   ]
  },
  {
   "cell_type": "markdown",
   "metadata": {},
   "source": [
    "Now Let's to implement the figure which puts *infected* dataframe and *BIndex* dataframe together\n",
    "```\n",
    "Fill all □⃞□⃞□⃞□⃞□⃞ to complete the output, like the last figure:\n",
    "```"
   ]
  },
  {
   "cell_type": "code",
   "execution_count": null,
   "metadata": {
    "code_folding": []
   },
   "outputs": [],
   "source": [
    "def plotly_BIndex_num(district_area):\n",
    "    title_= district_area+' 病例個數, BIndex'\n",
    "    df_mos=df_mosquito2[df_mosquito2['district']==district_area].sort_index()\n",
    "    p2=cases_1.xs(district_area,level='district')\n",
    "    \n",
    "    trace_mosquitos = go.Scatter(\n",
    "                x=df_mos.□⃞□⃞□⃞□⃞□⃞,\n",
    "                y=df_mos.□⃞□⃞□⃞□⃞□⃞,\n",
    "                name = \"BIndex\",\n",
    "                line = dict(color = '#17BECF'),\n",
    "                opacity = 0.8)\n",
    "    trace_cases=go.Scatter(\n",
    "                x=p2.□⃞□⃞□⃞□⃞□⃞,\n",
    "                y=p2.□⃞□⃞□⃞□⃞□⃞,\n",
    "                name =' 病例個數',\n",
    "                line = dict(color = '#7F7F7F'),\n",
    "                opacity = 0.8)\n",
    "    data = [trace_mosquitos,trace_cases]\n",
    "    \n",
    "    layout = dict(\n",
    "                  title = title_,\n",
    "                  # add slider function on data selection\n",
    "                  xaxis=dict(\n",
    "                             rangeselector=dict(\n",
    "                                  buttons=list([\n",
    "                                          dict(count=1,label='1m',step='month',stepmode='backward'),\n",
    "                                          dict(count=3,label='3m',step='month',stepmode='backward'),\n",
    "                                          dict(step='all')\n",
    "                                  ])\n",
    "                              ),\n",
    "                              rangeslider=dict(visible = True),\n",
    "                              type='date'\n",
    "                  )\n",
    "             )\n",
    "    fig = go.Figure(data=data, layout=layout)\n",
    "    iplot(fig, filename = \"Infected_Cases_and_BIndex\")\n",
    "    clear_output(True)"
   ]
  },
  {
   "cell_type": "code",
   "execution_count": null,
   "metadata": {},
   "outputs": [],
   "source": [
    "tool2=interact(plotly_BIndex_num, district_area=w);\n",
    "display(tool2)"
   ]
  },
  {
   "cell_type": "code",
   "execution_count": null,
   "metadata": {},
   "outputs": [],
   "source": [
    "trace_mosquitos = go.Scatter(\n",
    "                x=df_mos.□⃞□⃞□⃞□⃞□⃞,\n",
    "                y=df_mos.□⃞□⃞□⃞□⃞□⃞,\n",
    "                name = \"BIndex\",\n",
    "                line = dict(color = '#17BECF'),\n",
    "                opacity = 0.8)\n",
    "trace_cases=go.Scatter(\n",
    "                x=p2.□⃞□⃞□⃞□⃞□⃞,\n",
    "                y=p2.□⃞□⃞□⃞□⃞□⃞,\n",
    "                name = \"affected number\",\n",
    "                line = dict(color = '#7F7F7F'),\n",
    "                opacity = 0.8)\n",
    "data = [trace_mosquitos,trace_cases]\n",
    "\n",
    "layout = dict(\n",
    "    title = \"Infexted Cases and Bindex\",\n",
    "    #xaxis = dict(\n",
    "    #range = ['2016-07-01','2016-12-31'])\n",
    ")\n",
    "\n",
    "fig = go.Figure(data=data, layout=layout)\n",
    "iplot(fig, filename = \"Manually Set Range\")"
   ]
  },
  {
   "cell_type": "code",
   "execution_count": null,
   "metadata": {},
   "outputs": [],
   "source": []
  },
  {
   "cell_type": "code",
   "execution_count": null,
   "metadata": {},
   "outputs": [],
   "source": []
  }
 ],
 "metadata": {
  "kernelspec": {
   "display_name": "Python 3",
   "language": "python",
   "name": "python3"
  },
  "language_info": {
   "codemirror_mode": {
    "name": "ipython",
    "version": 3
   },
   "file_extension": ".py",
   "mimetype": "text/x-python",
   "name": "python",
   "nbconvert_exporter": "python",
   "pygments_lexer": "ipython3",
   "version": "3.7.2"
  },
  "toc": {
   "colors": {
    "hover_highlight": "#DAA520",
    "navigate_num": "#000000",
    "navigate_text": "#333333",
    "running_highlight": "#FF0000",
    "selected_highlight": "#FFD700",
    "sidebar_border": "#EEEEEE",
    "wrapper_background": "#FFFFFF"
   },
   "moveMenuLeft": true,
   "nav_menu": {
    "height": "505px",
    "width": "252px"
   },
   "navigate_menu": true,
   "number_sections": true,
   "sideBar": true,
   "threshold": 4,
   "toc_cell": false,
   "toc_section_display": "block",
   "toc_window_display": false,
   "widenNotebook": false
  },
  "widgets": {
   "state": {
    "39cc2474f68044e6a53a521f18ebc31d": {
     "views": [
      {
       "cell_index": 43
      }
     ]
    },
    "39e3ff7e52c14632a7c1d5d9773dcb3e": {
     "views": [
      {
       "cell_index": 68
      }
     ]
    },
    "759044d324e442ae9f0313cd361bc446": {
     "views": [
      {
       "cell_index": 27
      }
     ]
    },
    "824af5bfb673481c88fd905413ae980a": {
     "views": [
      {
       "cell_index": 68
      }
     ]
    },
    "8b618aabfed64607b081cff50bcd61c0": {
     "views": [
      {
       "cell_index": 51
      }
     ]
    },
    "a248b8bd808a43f9be1ec689d9d24bf4": {
     "views": [
      {
       "cell_index": 48
      }
     ]
    },
    "a79696c6fdff49d6856d74abdf3c9ed7": {
     "views": [
      {
       "cell_index": 55
      }
     ]
    },
    "f87aafd6994c4176ada956002e634a45": {
     "views": [
      {
       "cell_index": 51
      }
     ]
    },
    "fc7cebfac0de49c7bbdbef8bde748d2c": {
     "views": [
      {
       "cell_index": 27
      }
     ]
    }
   },
   "version": "1.2.0"
  }
 },
 "nbformat": 4,
 "nbformat_minor": 1
}
