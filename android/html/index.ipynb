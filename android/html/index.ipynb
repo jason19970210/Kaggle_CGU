{
 "cells": [
  {
   "cell_type": "code",
   "execution_count": 4,
   "metadata": {
    "collapsed": true
   },
   "outputs": [],
   "source": [
    "from IPython.display import HTML,clear_output, display\n",
    "import glob, os\n",
    "import ipywidgets as widgets\n",
    "\n",
    "files=glob.glob(\"*.html\")"
   ]
  },
  {
   "cell_type": "code",
   "execution_count": 2,
   "metadata": {
    "collapsed": true
   },
   "outputs": [],
   "source": [
    "def FileBrowse():\n",
    "    FileSel=widgets.Dropdown(\n",
    "       options=files,\n",
    "       value=files[0],\n",
    "       description='File:',\n",
    "    ) \n",
    "    S  = widgets.Box([widgets.Label(value='  ')],   layout=widgets.Layout(width='8%'))\n",
    "    button1=widgets.Button(description='Open',disabled=False,\n",
    "          button_style='',tooltip='Calculate',icon='check')\n",
    "    button1.style.button_color = '#f27318'\n",
    "    \n",
    "    def on_button_clicked(b): \n",
    "        FileName=FileSel.value\n",
    "        display(HTML('<div align=\"center\"><iframe src=%s width=\"90%%\", height=500></iframe></div>' %FileName))\n",
    "        clear_output(True)\n",
    "    button1.on_click(on_button_clicked)\n",
    "\n",
    "    return widgets.VBox(\n",
    "             [FileSel,\n",
    "              widgets.HBox([S,button1])\n",
    "             ])    "
   ]
  },
  {
   "cell_type": "code",
   "execution_count": 3,
   "metadata": {},
   "outputs": [
    {
     "data": {
      "application/vnd.jupyter.widget-view+json": {
       "model_id": "28e7a5c1e30a4307a9d5865dbb7d87c8"
      }
     },
     "metadata": {},
     "output_type": "display_data"
    },
    {
     "data": {
      "text/html": [
       "<div align=\"center\"><iframe src=Canvas.html width=\"90%\", height=500></iframe></div>"
      ],
      "text/plain": [
       "<IPython.core.display.HTML object>"
      ]
     },
     "metadata": {},
     "output_type": "display_data"
    }
   ],
   "source": [
    "FileBrowse()"
   ]
  },
  {
   "cell_type": "code",
   "execution_count": 4,
   "metadata": {},
   "outputs": [
    {
     "data": {
      "application/vnd.jupyter.widget-view+json": {
       "model_id": "e58a8844c7464eac81f10522cd0b0a81"
      }
     },
     "metadata": {},
     "output_type": "display_data"
    }
   ],
   "source": [
    "files=glob.glob(\"../1/*.html\")\n",
    "FileBrowse()"
   ]
  },
  {
   "cell_type": "markdown",
   "metadata": {},
   "source": [
    "Show your work\n",
    "---\n",
    "**Traditional way** by \"<font color=\"brown\">list</font>\" and \"<font color=\"brown\">a</font>\" tags:\n"
   ]
  },
  {
   "cell_type": "code",
   "execution_count": 8,
   "metadata": {
    "collapsed": true
   },
   "outputs": [],
   "source": [
    "navigation=\"\"\"\n",
    "<ol>\n",
    "  <li><a href=\"html/introduction.html\">Introduction</a></li>\n",
    "  <li><a href=\"html/madlibs.html\">Kill-time Play Game</a></li>\n",
    "  <li><a href=\"html/googlemap.html\">Find where we are\n",
    "</ol>\n",
    "\"\"\""
   ]
  },
  {
   "cell_type": "markdown",
   "metadata": {},
   "source": [
    "Now create a new directory, named <font color=\"blue\">guide</font>, and put the html files in:\n",
    "```\n",
    "index.html\n",
    "imagemap.html\n",
    "guide\n",
    "     introduction.html\n",
    "     madlibs.html\n",
    "     googlemap.html\n",
    "```"
   ]
  },
  {
   "cell_type": "code",
   "execution_count": 9,
   "metadata": {},
   "outputs": [
    {
     "data": {
      "text/html": [
       "\n",
       "<ol>\n",
       "  <li><a href=\"html/introduction.html\">Introduction</a></li>\n",
       "  <li><a href=\"html/madlibs.html\">Kill-time Play Game</a></li>\n",
       "  <li><a href=\"html/googlemap.html\">Find where we are\n",
       "</ol>\n"
      ],
      "text/plain": [
       "<IPython.core.display.HTML object>"
      ]
     },
     "execution_count": 9,
     "metadata": {},
     "output_type": "execute_result"
    }
   ],
   "source": [
    "HTML(navigation)"
   ]
  },
  {
   "cell_type": "markdown",
   "metadata": {},
   "source": [
    "Image Map\n",
    "---\n",
    "Now to make life easy, we try to make a tour with image.\n",
    "\n",
    "Requirement\n",
    "---\n",
    "1. <a href=\"https://www.autodraw.com\">Google Autodraw App on Line</a> to create image for doodle,\n",
    "- <a href=\"http://gimp.org\">Gimp</a>, a killer app for Image manipulation, used to find out the coordinates of pixels.\n",
    "\n",
    "HowTo\n",
    "---\n",
    "1. create a `<img>` tag to load map we want,\n",
    "- link the positions of map, (left-top to right-bottom), with  html files, such as:\n",
    "```html\n",
    "<img src=\"guide/imgs/imagemap.png\" usemap=\"#imagemap\" />\n",
    "<map name=\"imagemap\">\n",
    "  <area shape=\"rect\" coords=\"10,30,140,210\" href=\"guide/introduction.html\" />\n",
    "  <area shape=\"rect\" coords=\"200,60,390,160\" href=\"guide/madlibs.html\" />\n",
    "  <area shape=\"rect\" coords=\"45,220,340,360\" href=\"guide/googlemap.html\" />  \n",
    "</map>\n",
    "```\n"
   ]
  },
  {
   "cell_type": "markdown",
   "metadata": {},
   "source": [
    "<img src=\"guide/imgs/imagemap.png\" usemap=\"#imagemap\" />\n",
    "<map name=\"imagemap\">\n",
    "  <area shape=\"rect\" coords=\"10,30,140,210\" href=\"introduction.html\" />\n",
    "  <area shape=\"rect\" coords=\"200,60,390,160\" href=\"guide/madlibs.html\" />\n",
    "  <area shape=\"rect\" coords=\"45,220,340,360\" href=\"googlemap.html\" />  \n",
    "</map>"
   ]
  },
  {
   "cell_type": "code",
   "execution_count": 10,
   "metadata": {},
   "outputs": [
    {
     "name": "stdout",
     "output_type": "stream",
     "text": [
      "[NbConvertApp] Converting notebook index.ipynb to html\n",
      "[NbConvertApp] Writing 266528 bytes to index.html\n"
     ]
    }
   ],
   "source": [
    "!jupyter nbconvert index.ipynb"
   ]
  },
  {
   "cell_type": "code",
   "execution_count": null,
   "metadata": {
    "collapsed": true
   },
   "outputs": [],
   "source": []
  }
 ],
 "metadata": {
  "kernelspec": {
   "display_name": "Python 3",
   "language": "python",
   "name": "python3"
  },
  "language_info": {
   "codemirror_mode": {
    "name": "ipython",
    "version": 3
   },
   "file_extension": ".py",
   "mimetype": "text/x-python",
   "name": "python",
   "nbconvert_exporter": "python",
   "pygments_lexer": "ipython3",
   "version": "3.6.1"
  },
  "widgets": {
   "application/vnd.jupyter.widget-state+json": {
    "state": {
     "013c95517ce64f46a47844d6843ce656": {
      "model_module": "jupyter-js-widgets",
      "model_module_version": "~2.1.4",
      "model_name": "LabelModel",
      "state": {
       "_model_module_version": "~2.1.4",
       "_view_module_version": "~2.1.4",
       "layout": "IPY_MODEL_398da807f3934674ad49a25eac3d482c",
       "value": "  "
      }
     },
     "398da807f3934674ad49a25eac3d482c": {
      "model_module": "jupyter-js-widgets",
      "model_module_version": "~2.1.4",
      "model_name": "LayoutModel",
      "state": {
       "_model_module_version": "~2.1.4",
       "_view_module_version": "~2.1.4"
      }
     },
     "849bb758bb9943e39fc6d40a4e04ccf6": {
      "model_module": "jupyter-js-widgets",
      "model_module_version": "~2.1.4",
      "model_name": "LayoutModel",
      "state": {
       "_model_module_version": "~2.1.4",
       "_view_module_version": "~2.1.4"
      }
     },
     "9955a9775b7341ea954af8a81c7ec118": {
      "model_module": "jupyter-js-widgets",
      "model_module_version": "~2.1.4",
      "model_name": "LayoutModel",
      "state": {
       "_model_module_version": "~2.1.4",
       "_view_module_version": "~2.1.4",
       "width": "8%"
      }
     },
     "af11d3c5b3f3452ba34759e3ae8acf89": {
      "model_module": "jupyter-js-widgets",
      "model_module_version": "~2.1.4",
      "model_name": "ButtonModel",
      "state": {
       "_model_module_version": "~2.1.4",
       "_view_module_version": "~2.1.4",
       "description": "Open",
       "icon": "check",
       "layout": "IPY_MODEL_f078aad7ff2b44c4bb2744a2bec642b9",
       "style": "IPY_MODEL_b73bebf66e9649279fcb4d99bb3207aa",
       "tooltip": "Calculate"
      }
     },
     "b73bebf66e9649279fcb4d99bb3207aa": {
      "model_module": "jupyter-js-widgets",
      "model_module_version": "~2.1.4",
      "model_name": "ButtonStyleModel",
      "state": {
       "_model_module_version": "~2.1.4",
       "_view_module_version": "~2.1.4",
       "button_color": "#f27318"
      }
     },
     "bb4507093a904f588ee25e04853f7186": {
      "model_module": "jupyter-js-widgets",
      "model_module_version": "~2.1.4",
      "model_name": "LayoutModel",
      "state": {
       "_model_module_version": "~2.1.4",
       "_view_module_version": "~2.1.4"
      }
     },
     "cc3498f4a05b4adeae732511ee101ba3": {
      "model_module": "jupyter-js-widgets",
      "model_module_version": "~2.1.4",
      "model_name": "HBoxModel",
      "state": {
       "_model_module_version": "~2.1.4",
       "_view_module_version": "~2.1.4",
       "children": [
        "IPY_MODEL_cecf32070a0748d28501635298333f55",
        "IPY_MODEL_af11d3c5b3f3452ba34759e3ae8acf89"
       ],
       "layout": "IPY_MODEL_bb4507093a904f588ee25e04853f7186"
      }
     },
     "cecf32070a0748d28501635298333f55": {
      "model_module": "jupyter-js-widgets",
      "model_module_version": "~2.1.4",
      "model_name": "BoxModel",
      "state": {
       "_model_module_version": "~2.1.4",
       "_view_module_version": "~2.1.4",
       "children": [
        "IPY_MODEL_013c95517ce64f46a47844d6843ce656"
       ],
       "layout": "IPY_MODEL_9955a9775b7341ea954af8a81c7ec118"
      }
     },
     "d4f72a94644a45228d29d3e27489d838": {
      "model_module": "jupyter-js-widgets",
      "model_module_version": "~2.1.4",
      "model_name": "LayoutModel",
      "state": {
       "_model_module_version": "~2.1.4",
       "_view_module_version": "~2.1.4"
      }
     },
     "d78a586fdfe44642a8fde57fa243c286": {
      "model_module": "jupyter-js-widgets",
      "model_module_version": "~2.1.4",
      "model_name": "VBoxModel",
      "state": {
       "_model_module_version": "~2.1.4",
       "_view_module_version": "~2.1.4",
       "children": [
        "IPY_MODEL_dd10d8c1e73b4fe3aac87b4b323e43dc",
        "IPY_MODEL_cc3498f4a05b4adeae732511ee101ba3"
       ],
       "layout": "IPY_MODEL_849bb758bb9943e39fc6d40a4e04ccf6"
      }
     },
     "dd10d8c1e73b4fe3aac87b4b323e43dc": {
      "model_module": "jupyter-js-widgets",
      "model_module_version": "~2.1.4",
      "model_name": "DropdownModel",
      "state": {
       "_model_module_version": "~2.1.4",
       "_options_labels": [
        "Canvas.html",
        "Com-2016-1-1.html",
        "Com-2016-1.html",
        "index.html"
       ],
       "_view_module_version": "~2.1.4",
       "description": "File:",
       "layout": "IPY_MODEL_d4f72a94644a45228d29d3e27489d838",
       "value": "Com-2016-1.html"
      }
     },
     "f078aad7ff2b44c4bb2744a2bec642b9": {
      "model_module": "jupyter-js-widgets",
      "model_module_version": "~2.1.4",
      "model_name": "LayoutModel",
      "state": {
       "_model_module_version": "~2.1.4",
       "_view_module_version": "~2.1.4"
      }
     }
    },
    "version_major": 1,
    "version_minor": 0
   }
  }
 },
 "nbformat": 4,
 "nbformat_minor": 2
}
