{
 "cells": [
  {
   "cell_type": "markdown",
   "metadata": {
    "slideshow": {
     "slide_type": "slide"
    }
   },
   "source": [
    "# Web application in Android\n",
    "\n",
    "**What kind of app is platform-free? **\n",
    "\n",
    "Just consider whether there are any  differences among browsers in different platform, Windows, Mac or Linux etc?.\n",
    "\n",
    "[Codes]\n",
    "---\n",
    "<big><a href=\"http://diffusion.cgu.edu.tw/android/2015-2/BMI/BMIapp.zip\">http://diffusion.cgu.edu.tw/android/2015-2/BMI/BMIapp.zip</a></big>\n",
    "[Tools]\n",
    "---\n",
    "- seamonkey"
   ]
  },
  {
   "cell_type": "markdown",
   "metadata": {
    "slideshow": {
     "slide_type": "slide"
    }
   },
   "source": [
    "## HTML\n",
    "\n",
    "A <font color=\"blue\">tag-basic</font> language and popular for web application and nothing can be simpler than this language.\n",
    "\n",
    "## Objects\n",
    "* HTML Introduction\n",
    "* Javascript enhancement\n",
    "* Binding with Android "
   ]
  },
  {
   "cell_type": "markdown",
   "metadata": {
    "slideshow": {
     "slide_type": "slide"
    }
   },
   "source": [
    "## Example\n",
    "Body Mass Index (BMI) Calculator (HTML version)\n",
    "\n",
    "Implement the app for:<br> \n",
    "<b>BMI = Height / Weight <sup>2</sup></b>"
   ]
  },
  {
   "cell_type": "markdown",
   "metadata": {},
   "source": [
    "## Skeleton of HTML file\n",
    "```HTML\n",
    "<html>\n",
    "    <head> \n",
    "      <title>HTML</title>\n",
    "      <meta name=\"viewport\" initial-scale=\"1,\" user-scale=\"yes\">\n",
    "      <link rel=\"stylesheet\" href=\"some.css\">\n",
    "      <script src=\"some.js\"></script>\n",
    "      <script type=\"text/javascript\">\n",
    "           ...\n",
    "       </script>\n",
    "    </head>\n",
    "    <body>\n",
    "        Main HTML Codes Here\n",
    "     </body>\n",
    "</html>\n",
    "```"
   ]
  },
  {
   "cell_type": "markdown",
   "metadata": {
    "slideshow": {
     "slide_type": "subslide"
    }
   },
   "source": [
    "1. HTML BMI\n",
    "---\n",
    "\n",
    "Rendering\n",
    "---\n",
    "\n",
    "\n",
    "<form action=\"#\">\n",
    "   Height (cm):\n",
    "   <input id=\"height\"  name=\"height\" >\n",
    "   <br>\n",
    "   Weight (kg):\n",
    "   <input id=\"weight\" name=\"weight\">\n",
    "   <p>\n",
    "   BMI = <b id=\"boldStuff\"> Height / Weight <sup>2</sup></b>\n",
    "   <br>\n",
    "   <input value=\"Calculate BMI\" onclick=\"calcBMI(this.form.height.value,this.form.weight.value)\" type=\"button\">\n",
    "</form> \n",
    "\n",
    "\n"
   ]
  },
  {
   "cell_type": "markdown",
   "metadata": {},
   "source": [
    "\n",
    "- html part: interface: two input columns, one button, and some space left for output\n",
    "\n",
    "```HTML\n",
    "<h2> Design </h2>\n",
    "\n",
    "<form action=\"#\">\n",
    "   Height (cm):\n",
    "   <input id=\"height\"  name=\"height\" />\n",
    "   <br>\n",
    "   Weight (kg):\n",
    "   <input id=\"weight\" name=\"weight\">\n",
    "   <p>\n",
    "   BMI = <b id=\"boldStuff\"> Height / Weight <sup>2</sup></b>\n",
    "   <br>\n",
    "   <input value=\"Calculate BMI\" onclick=\"calcBMI(this.form.height.value,this.form.weight.value)\" type=\"button\">\n",
    "</form> \n",
    "```\n"
   ]
  },
  {
   "cell_type": "markdown",
   "metadata": {},
   "source": [
    "<h3>Descriptions</h3>\n",
    "\n",
    "- \"name\": define the variable in HTML; \n",
    "- onClick: trigger for calling calcBMI() to work with the input data;  \n",
    "- Value of Input:\n",
    "         this.  form                         .weight .value\n",
    "                  v\n",
    "               <form ...                         v      v\n",
    "                  \n",
    "                  Height... <input ... name=\"weight\"> ____\n",
    "              \n"
   ]
  },
  {
   "cell_type": "markdown",
   "metadata": {},
   "source": [
    "Javascript HTML\n",
    "---\n",
    "\n",
    "```javascript\n",
    "<script type=\"text/javascript\">\n",
    "  \n",
    "  function calcBMI(height, weight)\n",
    "  {\n",
    "    if(isNaN(height) || isNaN(weight))\n",
    "    {\n",
    "      alert(\"Error\");\n",
    "    }\n",
    "    else\n",
    "    {\n",
    "      var M = height * .01;\n",
    "      var KG = weight ;\n",
    "      var BMI = (KG/(M*M));\n",
    "      //alert(BMI);\n",
    "      \n",
    "      var msg;\n",
    "      if(BMI < 19) \n",
    "        msg =\"Weight too low for optimum health\";\n",
    "      else if(BMI >= 19 && BMI <= 25) \n",
    "        msg =\" Weight in healthy range\";\n",
    "      else if(BMI >= 26 && BMI <= 30) \n",
    "        msg =\" Weight too high\";\n",
    "      else if(BMI > 30 && BMI <= 40) \n",
    "        msg =\" Weight in obese range\";\n",
    "      else if(BMI > 40) \n",
    "        msg =\" Weight in morbidly obese range\";\n",
    "\n",
    "    //alert(\"BMI=\" BMI +\"+ msg);\n",
    "    document.write (BMI+\"<br>\"+msg);           \n",
    "    }\n",
    "  }  \n",
    "</script>\n",
    "```"
   ]
  },
  {
   "cell_type": "markdown",
   "metadata": {},
   "source": [
    "<h3>Descriptions</h3>\n",
    "\n",
    "- ```isNaN()```: chech whether the input is a number or not;\n",
    "- ```alert()``` and ```document.write()```: a new windows popout in the former case, and in the latter case: refresh the original browser with the result instead of new popout windows; \n"
   ]
  },
  {
   "cell_type": "markdown",
   "metadata": {},
   "source": [
    "<h3>Problems and Modifications</h3>\n",
    "\n",
    "- responsiive web page design:\n",
    "\n",
    "```HTML\n",
    "<meta name=\"viewport\" width=device.width initial-scale=\"1\" user-scale=\"no\">\n",
    "```\n",
    "- set the input value to preveant the user wrong input and give the guide how to input: \n",
    "\n",
    "Height (cm): <input type=\"text\" value=\"100\" name=\"height\"><br>\n",
    "Weight (Kg): <input type=\"text\" value=\"30\" name=\"weight\"><br>\n",
    "\n",
    "\n",
    "```HTML\n",
    "        Height (cm): <input type=\"text\" value=\"100\" name=\"height\"><br>\n",
    "        Weight (Kg): <input type=\"text\" value=\"30\" name=\"weight\"><br>\n",
    "```       \n",
    "\n"
   ]
  },
  {
   "cell_type": "code",
   "execution_count": null,
   "metadata": {},
   "outputs": [],
   "source": []
  },
  {
   "cell_type": "markdown",
   "metadata": {},
   "source": [
    "## 2. HTML5 Design \n",
    "\n",
    "<form action=\"#\">\n",
    "   Height (cm):\n",
    "   <input id=\"height\" type=\"numeric\" name=\"height\" min=\"40\" max=\"230\" step=\"1\" value=\"160\">\n",
    "   <br>\n",
    "   Weight (kg):\n",
    "   <input id=\"weight\" type=\"numeric\" min=\"10\" max=\"120\" step=\"1\" value=\"60\">\n",
    "   <p>\n",
    "   BMI = <b id=\"boldStuff\"> Height / Weight <sup>2</sup></b>\n",
    "   <br>\n",
    "   <input value=\"Calculate BMI\" onclick=\"calcBMI(this.form.height.value,this.form.weight.value)\" type=\"button\">\n",
    "</form> \n",
    "\n",
    "** Enhancements **\n",
    "\n",
    "- change the input type from \"text\" to \"slide\";\n",
    "- directly express the calculated result in the HTML"
   ]
  },
  {
   "cell_type": "markdown",
   "metadata": {
    "slideshow": {
     "slide_type": "subslide"
    }
   },
   "source": [
    "## Main HTML code\n",
    "\n",
    "Create a form for data input (height and weight) as follows:\n",
    "```HTML\n",
    "<form action=\"#\">\n",
    "   Height (cm):\n",
    "   <input id=\"height\" type=\"numeric\" name=\"height\" min=\"40\" max=\"230\" step=\"1\" value=\"160\"> \n",
    "   <br>\n",
    "   Weight (kg):\n",
    "   <input id=\"weight\" type=\"numeric\" min=\"10\" max=\"120\" step=\"1\" value=\"60\"> \n",
    "   <p>\n",
    "   BMI = <b id=\"boldStuff\"> Height / Weight <sup>2</sup></b>\n",
    "   <br>\n",
    "   <input value=\"Calculate BMI\" onclick=\"calcBMI(this.form.height.value,this.form.weight.value)\" type=\"button\"> \n",
    "</form>\n",
    "```"
   ]
  },
  {
   "cell_type": "markdown",
   "metadata": {
    "slideshow": {
     "slide_type": "subslide"
    }
   },
   "source": [
    "**Modification**\n",
    "\n",
    "Under consideration of functions of mobile devices, we can use change the attribution of input from *numberic* to *range*:\n",
    "<ul>\n",
    "<li>Code:<br>\n",
    "  ```HTML\n",
    "  <input id=\"height\" type=\"range\" name=\"height\" min=\"40\" max=\"230\" step=\"1\" value=\"160\">\n",
    "  ```\n",
    "<li> Rendering\n",
    "\n",
    "<input id=\"height\" type=\"range\" name=\"height\" min=\"40\" max=\"230\" step=\"1\" value=\"160\"> \n",
    "</ul> \n",
    " User could change the value of variable by swiping."
   ]
  },
  {
   "cell_type": "markdown",
   "metadata": {
    "slideshow": {
     "slide_type": "slide"
    }
   },
   "source": [
    " Javascript Codes:\n",
    "**Implement the BMI calulator:**\n",
    "\n",
    "```javascript\n",
    "<script type=\"text/javascript\">\n",
    "      function calcBMI(height, weight)\n",
    "      {\n",
    "       // deal the values of variables passed from HTML codes\n",
    "        var M = height * .01;\n",
    "        var KG = weight ;\n",
    "        var BMI = (KG/(M*M));\n",
    "        // make a conclusion and give advice \n",
    "        var msg;\n",
    "        if(BMI < 19) \n",
    "           msg =\"Too low to health\";\n",
    "        else if(BMI >= 19 && BMI <= 25) \n",
    "           msg =\"Keep going on\";\n",
    "        else if(BMI >= 26 && BMI <= 30) \n",
    "           msg =\" Exercise required\";\n",
    "        else if(BMI > 30 ) \n",
    "           msg =\"Not far from Heavan!\";\n",
    "       // show the result\n",
    "        var newHTML =  BMI+\"<br>\"+msg ;\n",
    "        document.getElementById('boldStuff').innerHTML = newHTML; \n",
    "      }  \n",
    "</script>\n",
    "\n",
    "```\n",
    "\n",
    " "
   ]
  },
  {
   "cell_type": "markdown",
   "metadata": {
    "slideshow": {
     "slide_type": "subslide"
    }
   },
   "source": [
    "### Javascript II\n",
    "**Show the chosen value of slide:**\n",
    "\n",
    "1 JavaScript Part:\n",
    "\n",
    "```javascript\n",
    "      function showValue(id,newValue)\n",
    "      {\n",
    "         document.getElementById(id).innerHTML=newValue; \n",
    "      }\n",
    "```\n",
    "\n",
    "2 HTML:\n",
    "\n",
    "```HTML\n",
    " Height (cm): \n",
    "      <input type=\"range\" name=\"height\" min=\"50\" max=\"220 \" step=\"1\" \n",
    "             value=\"160\" onchange=\"showValue('heightTxt',this.value)\">\n",
    "      <span id=\"heightTxt\">160</span><br>\n",
    "```\n",
    " "
   ]
  },
  {
   "cell_type": "markdown",
   "metadata": {
    "slideshow": {
     "slide_type": "subslide"
    }
   },
   "source": [
    "## Final HTML5\n",
    "\n",
    "```HTML\n",
    "<html>\n",
    "    <head> \n",
    "      <title>HTML</title>\n",
    "      <meta name=\"viewport\" initial-scale=\"1,\" user-scale=\"yes\">\n",
    "    <script type=\"text/javascript\">\n",
    "      function calcBMI(height, weight)\n",
    "      {\n",
    "       // deal the values of variables passed from HTML codes\n",
    "        var M = height * .01;\n",
    "        var KG = weight ;\n",
    "        var BMI = (KG/(M*M));\n",
    "        // make a conclusion and give advice \n",
    "        var msg;\n",
    "        if(BMI < 19) \n",
    "           msg =\"Too low to health\";\n",
    "        else if(BMI >= 19 && BMI <= 25) \n",
    "           msg =\"Keep going on\";\n",
    "        else if(BMI >= 26 && BMI <= 30) \n",
    "           msg =\" Exercise required\";\n",
    "        else if(BMI > 30 ) \n",
    "           msg =\"Not far from Heavan!\";\n",
    "       // show the result\n",
    "        var newHTML =  BMI+\"<br>\"+msg ;\n",
    "        document.getElementById('boldStuff').innerHTML = newHTML; \n",
    "      } \n",
    "      function showValue(id,newValue)\n",
    "      {\n",
    "         document.getElementById(id).innerHTML=newValue; \n",
    "      }\n",
    "   </script>\n",
    "   </head>\n",
    "   <body>\n",
    "      <form action=\"#\"> \n",
    "        <label for=\"height\">Height (cm):</label> \n",
    "        <input id=\"height\" name=\"height\" type=\"range\" min=\"40\" max=\"230\" step=\"1\" value=\"160\" \n",
    "               onchange=\"showValue('heightTxt',this.value)\">\n",
    "        <span id=\"heightTxt\">160</span>\n",
    "        <br>\n",
    "        <label for=\"weight\">Weight (kg):</label> \n",
    "        <input id=\"weight\" type=\"range\" min=\"10\" max=\"120\" step=\"1\" value=\"60\"\n",
    "               onchange=\"showValue('weightTxt',this.value)\">\n",
    "        <span id=\"weightTxt\">60</span><br>\n",
    "        <p id=\"column\">BMI = <b id=\"boldStuff\"> Height / Weight <sup>2</sup></b> </p>\n",
    "        <input value=\"Calculate BMI\" onclick=\"calcBMI(this.form.height.value,this.form.weight.value)\"\n",
    "               type=\"button\"> \n",
    "     </form> \n",
    "   </body> \n",
    "</html>   \n",
    "```"
   ]
  },
  {
   "cell_type": "markdown",
   "metadata": {
    "slideshow": {
     "slide_type": "subslide"
    }
   },
   "source": [
    "## Result:\n",
    "<body>\n",
    "    <form action=\"#\"> \n",
    "        <label for=\"height\">Height (cm):</label> \n",
    "        <input id=\"height\" name=\"height\" type=\"range\" min=\"40\" max=\"230\" step=\"1\" value=\"160\" onchange=\"showValue('heightTxt',this.value)\">\n",
    "        <span id=\"heightTxt\">160</span>\n",
    "        <br>\n",
    "        <label for=\"weight\">Weight (kg):</label> \n",
    "        <input id=\"weight\" type=\"range\" min=\"10\" max=\"120\" step=\"1\" value=\"60\" onchange=\"showValue('weightTxt',this.value)\">\n",
    "        <span id=\"weightTxt\">60</span><br>\n",
    "        <p id=\"column\">BMI = <b id=\"boldStuff\"> Height / Weight <sup>2</sup></b> </p>\n",
    "        <input value=\"Calculate BMI\" onclick=\"calcBMI(this.form.height.value,this.form.weight.value)\" type=\"button\"> \n",
    "     </form> \n",
    "<body>     "
   ]
  },
  {
   "cell_type": "markdown",
   "metadata": {
    "slideshow": {
     "slide_type": "subslide"
    }
   },
   "source": [
    "## Note\n",
    "* innerHTML is used to replace the Javascript builtin function, <font\n",
    "color=\"#0000ff\">alert()</font>, for the further application in\n",
    "Android.\n",
    "* The HTML editor, <font color=\"#0000ff\">seamonkey</font>, could be used to make HTML quickly and cleanly."
   ]
  },
  {
   "cell_type": "markdown",
   "metadata": {
    "slideshow": {
     "slide_type": "slide"
    }
   },
   "source": [
    "## Exercise\n",
    "\n",
    "Complete whole the procedure and test it."
   ]
  },
  {
   "cell_type": "markdown",
   "metadata": {
    "slideshow": {
     "slide_type": "skip"
    }
   },
   "source": [
    "## ToDo's\n",
    "* jQuery-mobile enhanence\n",
    "* Android's Binding"
   ]
  },
  {
   "cell_type": "markdown",
   "metadata": {
    "slideshow": {
     "slide_type": "slide"
    }
   },
   "source": [
    "## jQuery(-mobile)\n",
    "* A javascript library\n",
    "* Ajax\n",
    "* Make work easily and scalably \n",
    "\n",
    "-[Tutorial](jQueryTut/index_tpl.html)"
   ]
  },
  {
   "cell_type": "markdown",
   "metadata": {
    "slideshow": {
     "slide_type": "subslide"
    }
   },
   "source": [
    "Rewrite the (HTML) codes:\n",
    "\n",
    "1. Include the jQuery libraries and css files: \n",
    "create the subjectory, js, and put the files, <font color=\"#0000ff\">jquery-2.0.3.min.js, jquery.mobile-1.3.2.min.css, jquery.mobile-1.3.2.min.js</font>, into this subdirectory:\n",
    "\n",
    " &nbsp;&nbsp;<font color=\"#cc6600\"> &lt;head&gt;<br>\n",
    "&nbsp;&nbsp;&nbsp;&nbsp;&nbsp;&nbsp; ...&nbsp;&nbsp; <br>\n",
    "&nbsp;&nbsp; &lt;link rel=\"stylesheet\"\n",
    "href=\"js/jquery.mobile-1.3.2.min.css\"\n",
    "/&gt;&nbsp;&nbsp;&nbsp;&nbsp;&nbsp; &nbsp;<br>\n",
    "&nbsp;&nbsp;&nbsp; &lt;script\n",
    "src=\"js/jquery-2.0.3.min.js\"&gt;&lt;/script&gt; <br>\n",
    "&nbsp;&nbsp;&nbsp; &lt;script\n",
    "src=\"js/jquery.mobile-1.3.2.min.js\"&gt;&lt;/script&gt;&nbsp; <br>\n",
    "&nbsp;&nbsp;&nbsp;&nbsp; &nbsp; ...<br>\n",
    "&nbsp;&nbsp;&nbsp; &lt;/head&gt;</font><br>\n"
   ]
  },
  {
   "cell_type": "markdown",
   "metadata": {
    "slideshow": {
     "slide_type": "subslide"
    }
   },
   "source": [
    "2.Modification of the HTML code:\n",
    "\n",
    " &nbsp; <font color=\"#cc6600\">&lt;div id=\"BMI\" data-role=\"page\"&gt;<br>\n",
    "&nbsp;&nbsp;&nbsp; &lt;div id=\"head\" data-role=\"header\"&gt;\n",
    "&lt;div align=\"center\"&gt;BMI Calculator&lt;/div&gt;&lt;/div&gt;<br>\n",
    "&nbsp;&nbsp;&nbsp; &lt;form action=\"#\"&gt; <br>\n",
    "&nbsp;&nbsp;&nbsp;&nbsp;&nbsp; &lt;div id=\"heightinput\"\n",
    "data-role=\"fieldcontain\"&gt;<br>\n",
    "&nbsp;&nbsp;&nbsp;&nbsp;&nbsp;&nbsp;&nbsp; &lt;label\n",
    "for=\"height\"&gt;&lt;b&gt;Height (cm):&lt;/b&gt;&lt;/label&gt; <br>\n",
    "&nbsp;&nbsp;&nbsp;&nbsp;&nbsp;&nbsp;&nbsp; &lt;input id=\"height\"\n",
    "name=\"height\" type=\"range\" min=\"40\" max=\"230\" step=\"1\"\n",
    "value=\"160\"&gt;<br>\n",
    "&nbsp;&nbsp;&nbsp;&nbsp;&nbsp; &lt;/div&gt;<br>\n",
    "&nbsp;&nbsp;&nbsp;&nbsp;&nbsp; &lt;div id=\"heightinput\"\n",
    "data-role=\"fieldcontain\"&gt;<br>\n",
    "&nbsp;&nbsp;&nbsp;&nbsp;&nbsp;&nbsp;&nbsp; &lt;label\n",
    "for=\"weight\"&gt;Weight (kg):&lt;/label&gt; <br>\n",
    "&nbsp;&nbsp;&nbsp;&nbsp;&nbsp;&nbsp;&nbsp; &lt;input id=\"weight\"\n",
    "type=\"range\" min=\"10\" max=\"120\" step=\"1\" value=\"60\" data-theme=\"d\"\n",
    "data-track-theme=\"b\"&gt;<br>\n",
    "&nbsp;&nbsp;&nbsp;&nbsp;&nbsp; &lt;/div&gt;&nbsp; <br>\n",
    "&nbsp;&nbsp;&nbsp;&nbsp;&nbsp; &lt;p id=\"column\"&gt;BMI = &lt;b\n",
    "id=\"boldStuff\"&gt; Height / Weight\n",
    "&lt;sup&gt;2&lt;/sup&gt;&lt;/b&gt; &lt;/p&gt;<br>\n",
    "&nbsp;&nbsp;&nbsp;&nbsp;&nbsp; &lt;input value=\"Calculate\"\n",
    "onclick=\"calcBMI(this.form.height.value,this.form.weight.value)\"\n",
    "type=\"button\"&gt; <br>\n",
    "&nbsp;&nbsp;&nbsp;&nbsp; &lt;/form&gt;<br>\n",
    "&nbsp; &lt;/div&gt;&nbsp; </font><br>"
   ]
  },
  {
   "cell_type": "markdown",
   "metadata": {
    "slideshow": {
     "slide_type": "subslide"
    }
   },
   "source": [
    "## Notes:\n",
    "* <font color=\"red\">jQuery-mobile</font> Tag:\n",
    "  &nbsp; <font color=\"#cc6600\">&lt;div id=\"...\" data-role=\"...\"&gt;</font><br>\n",
    "* <table <tbody=\"\" border=\"1\" cellpadding=\"2\" cellspacing=\"2\">\n",
    "<tbody>\n",
    "<tr>\n",
    "<td valign=\"top\"><br>\n",
    "</td>\n",
    "<td align=\"center\" valign=\"top\">Page<br>\n",
    "</td>\n",
    "<td valign=\"top\"><br>\n",
    "</td>\n",
    "</tr>\n",
    "<tr>\n",
    "<td valign=\"top\"><br>\n",
    "</td>\n",
    "<td align=\"center\" valign=\"top\">Title<br>\n",
    "</td>\n",
    "<td valign=\"top\"><br>\n",
    "</td>\n",
    "</tr>\n",
    "<tr>\n",
    "<td valign=\"top\">Item1<br>\n",
    "</td>\n",
    "<td valign=\"top\">...<br>\n",
    "</td>\n",
    "<td valign=\"top\">...<br>\n",
    "</td>\n",
    "</tr>\n",
    "<tr>\n",
    "<td valign=\"top\">...<br>\n",
    "</td>\n",
    "<td valign=\"top\"><br>\n",
    "</td>\n",
    "<td valign=\"top\"><br>\n",
    "</td>\n",
    "</tr>\n",
    "</tbody>\n",
    "</table>"
   ]
  },
  {
   "cell_type": "markdown",
   "metadata": {
    "slideshow": {
     "slide_type": "subslide"
    }
   },
   "source": [
    "##JQuery-enhanced BMI\n",
    "<img src=\"imgs/jQuery1.png\">"
   ]
  },
  {
   "cell_type": "markdown",
   "metadata": {
    "slideshow": {
     "slide_type": "slide"
    }
   },
   "source": [
    "##Exercise\n",
    "\n",
    "Complete this session too."
   ]
  },
  {
   "cell_type": "markdown",
   "metadata": {
    "slideshow": {
     "slide_type": "slide"
    }
   },
   "source": [
    "##Packaging Android App\n",
    "Steps\n",
    "\n",
    "* enable internet permission;\n",
    "* create a webView;\n",
    "* copy HTML with library into projects\n",
    "* Java staff for HTML working within webView"
   ]
  },
  {
   "cell_type": "markdown",
   "metadata": {
    "slideshow": {
     "slide_type": "subslide"
    }
   },
   "source": [
    "**1. internet permission**\n",
    "\n",
    "Create project, BMIapp. Add \"<span style=\"color: rgb(204, 0, 0);\">permission</span>\" in\n",
    "Manifest.xml in the top directory:<br>\n",
    "... <br>\n",
    "<span style=\"color: rgb(153, 102, 51);\">&lt;uses-permission\n",
    "android:name=\"android.permission.INTERNET\"/&gt; </span><br>\n",
    "...<br>\n",
    "&nbsp;&nbsp;&nbsp;&nbsp;&nbsp;&nbsp;&nbsp;&lt;activity<br>\n",
    "&nbsp;&nbsp;&nbsp;&nbsp;&nbsp;&nbsp;&nbsp;&nbsp;&nbsp;&nbsp;&nbsp;\n",
    "android:name=\"<font color=\"#cc6600\">com.life.bmiapp.MainActivity</font>\"<br>\n",
    "&nbsp;&nbsp;&nbsp;&nbsp;&nbsp;&nbsp;&nbsp;&nbsp;&nbsp;&nbsp;&nbsp;\n",
    "android:label=\"@string/app_name\" &gt;<br>\n",
    "&nbsp;&nbsp;&nbsp;&nbsp;&nbsp;&nbsp;&nbsp;&nbsp;&nbsp;&nbsp;&nbsp;\n",
    "...<br>\n",
    "&nbsp;&nbsp;&nbsp;&nbsp;&nbsp;&nbsp;&nbsp; &lt;/activity&gt;"
   ]
  },
  {
   "cell_type": "markdown",
   "metadata": {
    "slideshow": {
     "slide_type": "subslide"
    }
   },
   "source": [
    "**2. WebView Creation**\n",
    " Add a view (display), called webview01, in \"main.xml\" in\n",
    "\"res/layout\" directory:<br>\n",
    "<pre>\n",
    "<span style=\"color: rgb(153, 102, 51);\">&lt;webview android:id=\"@+id/webview1\"\n",
    "  android:layout_width=\"fill_parent\"\n",
    "  android:layout_height=\"fill_parent\"&gt;\n",
    "&lt;/webview&gt;\n",
    "</span></pre>"
   ]
  },
  {
   "cell_type": "markdown",
   "metadata": {
    "slideshow": {
     "slide_type": "subslide"
    }
   },
   "source": [
    "**3. Add HTML codes**\n",
    "\n",
    "copy all the files into the directory \\$Project/assest"
   ]
  },
  {
   "cell_type": "markdown",
   "metadata": {},
   "source": [
    "4. Java Codes\n",
    "\n",
    "   <font color=\"#cc6600\">package com.life.bmiapp;<br>\n",
    "&nbsp;&nbsp;&nbsp; ...<br>\n",
    "import android.webkit.WebView;<br>\n",
    "&nbsp;&nbsp;&nbsp; ...<br>\n",
    "public class WebviewActivity extends Activity {<br>\n",
    "&nbsp;&nbsp;&nbsp;&nbsp;&nbsp;&nbsp; private WebView webview;<br>\n",
    "&nbsp;&nbsp; &nbsp;&nbsp;&nbsp; @Override <br>\n",
    "&nbsp;&nbsp; &nbsp; &nbsp; public void onCreate(Bundle\n",
    "savedInstanceState) {<br>\n",
    "&nbsp;&nbsp;&nbsp;&nbsp;&nbsp;&nbsp;&nbsp;&nbsp;&nbsp;&nbsp;&nbsp;&nbsp;&nbsp;\n",
    "...<br>\n",
    "&nbsp;&nbsp;&nbsp;&nbsp;&nbsp;&nbsp;&nbsp;&nbsp;&nbsp;&nbsp;\n",
    "webview = (WebView)this.findViewById(R.id.webview1);&nbsp; <br>\n",
    "&nbsp;&nbsp;&nbsp;&nbsp;&nbsp;&nbsp;&nbsp;&nbsp;&nbsp;&nbsp;\n",
    "webview.getSettings().setJavaScriptEnabled(true);<br>\n",
    "&nbsp;&nbsp;&nbsp;&nbsp;&nbsp;&nbsp;&nbsp;&nbsp;&nbsp;&nbsp;\n",
    "webview.loadUrl(\"file:///android_asset/index.html\");<br>\n",
    "&nbsp;&nbsp;&nbsp;&nbsp;&nbsp;&nbsp;&nbsp;&nbsp;&nbsp;&nbsp;\n",
    "super.loadUrl(\"file:///android_asset/www/BMI3.html\");<br>\n",
    "&nbsp;&nbsp; &nbsp; &nbsp; }<br>\n",
    "&nbsp;&nbsp;&nbsp;&nbsp;&nbsp;&nbsp; ...<br>\n",
    "    }</font>"
   ]
  },
  {
   "cell_type": "markdown",
   "metadata": {
    "slideshow": {
     "slide_type": "subslide"
    }
   },
   "source": [
    "**5. Run App**\n",
    "\n",
    "Done."
   ]
  },
  {
   "cell_type": "markdown",
   "metadata": {
    "slideshow": {
     "slide_type": "slide"
    }
   },
   "source": [
    "##Practice Exercise\n",
    "\n",
    "Try the lecture and show your progress if any."
   ]
  },
  {
   "cell_type": "markdown",
   "metadata": {
    "slideshow": {
     "slide_type": "slide"
    }
   },
   "source": [
    "#Enhanced HTML5 Multimedia Functions\n",
    "\n",
    "* audio/video Tags supported<br>\n",
    "  <font color=\"#cc6600\">&lt;audio autoplay=\"autoplay\" controls=\"controls\"&gt;<br>\n",
    "&nbsp;&nbsp; &lt;source src=\"snd/test.wav\" type=\"audio/wav\"&gt;<br>\n",
    "&lt;/audio&gt; </font><br>\n",
    "\n",
    "* supported media playing formats are different according to different browsers."
   ]
  },
  {
   "cell_type": "markdown",
   "metadata": {
    "slideshow": {
     "slide_type": "subslide"
    }
   },
   "source": [
    "## Multimedia Effect \n",
    "\n",
    "Modify the javascript function, **calcBMI()**, to give warning sound if value of BMI is too low:\n",
    "<p>\n",
    "<font color=\"#cc6600\">&nbsp;function calcBMI(height, weight)<br>\n",
    "&nbsp;&nbsp;&nbsp;&nbsp;&nbsp; {<br>\n",
    "&nbsp;&nbsp;&nbsp;&nbsp;&nbsp;&nbsp; ...<br>\n",
    "&nbsp;&nbsp;&nbsp;&nbsp;&nbsp;&nbsp;&nbsp; if(BMI &lt; 19) <br>\n",
    "&nbsp;&nbsp;&nbsp;&nbsp;&nbsp;&nbsp;&nbsp;&nbsp;&nbsp;&nbsp; msg\n",
    "=\"Too low to health&lt;br&gt;&lt;audio\n",
    "autoplay=\\\"autoplay\\\"&gt;&lt;source src=\\\"snd/test.wav\\\"\n",
    "type=\\\"audio/wav\\\"&gt;&lt;/audio&gt; \";<br>\n",
    "&nbsp;&nbsp;&nbsp;&nbsp;&nbsp;&nbsp; ...</font>"
   ]
  },
  {
   "cell_type": "markdown",
   "metadata": {
    "slideshow": {
     "slide_type": "subslide"
    }
   },
   "source": [
    "##Practice Exercise\n",
    "Try to test above to make your app vividly by adding some multimedia effect. "
   ]
  },
  {
   "cell_type": "code",
   "execution_count": null,
   "metadata": {},
   "outputs": [],
   "source": []
  },
  {
   "cell_type": "code",
   "execution_count": 2,
   "metadata": {
    "slideshow": {
     "slide_type": "skip"
    }
   },
   "outputs": [],
   "source": [
    "from IPython.display import HTML\n",
    "\n",
    "input_form = \"\"\"\n",
    "<form action=\"#\"> \n",
    "        <label for=\"height\">Height (cm):</label> \n",
    "        <input id=\"height\" name=\"height\" type=\"range\" min=\"40\" max=\"230\" step=\"1\" value=\"160\" onchange=\"showValue('heightTxt',this.value)\">\n",
    "        <span id=\"heightTxt\">160</span>\n",
    "        <br>\n",
    "        <label for=\"weight\">Weight (kg):</label> \n",
    "        <input id=\"weight\" type=\"range\" min=\"10\" max=\"120\" step=\"1\" value=\"60\" onchange=\"showValue('weightTxt',this.value)\">\n",
    "        <span id=\"weightTxt\">60</span><br>\n",
    "        <p id=\"column\">BMI = <b id=\"boldStuff\"> Height / Weight <sup>2</sup></b> </p>\n",
    "        <input value=\"Calculate BMI\" onclick=\"calcBMI(this.form.height.value,this.form.weight.value)\" type=\"button\"> \n",
    "     </form> \n",
    "\"\"\"\n",
    "\n",
    "javascript = \"\"\"\n",
    "<script type=\"text/Javascript\">\n",
    "    function calcBMI(height, weight)\n",
    "      {\n",
    "        var M = height * .01;\n",
    "        var KG = weight ;\n",
    "        var BMI = (KG/(M*M));\n",
    "     \n",
    "        var msg;\n",
    "        if(BMI < 19) \n",
    "           msg =\"Too low to health\";\n",
    "        else if(BMI >= 19 && BMI <= 25) \n",
    "           msg =\"Keep going on\";\n",
    "        else if(BMI >= 26 && BMI <= 30) \n",
    "           msg =\" Exercise required\";\n",
    "        else if(BMI > 30 ) \n",
    "           msg =\"Not far from Heavan!\";\n",
    "\n",
    "        //alert(\"BMI=\" BMI +\"+ msg);\n",
    "        //document.write (BMI+\"<br>\"+msg);\n",
    "        var newHTML =  BMI+\"<br>\"+msg ;\n",
    "        document.getElementById('boldStuff').innerHTML = newHTML; \n",
    "      }\n",
    "      function showValue(id,newValue)\n",
    "      {\n",
    "         document.getElementById(id).innerHTML=newValue; \n",
    "      }\n",
    "</script>\n",
    "\"\"\""
   ]
  },
  {
   "cell_type": "code",
   "execution_count": 3,
   "metadata": {
    "slideshow": {
     "slide_type": "skip"
    }
   },
   "outputs": [
    {
     "data": {
      "text/html": [
       "\n",
       "<form action=\"#\"> \n",
       "        <label for=\"height\">Height (cm):</label> \n",
       "        <input id=\"height\" name=\"height\" type=\"range\" min=\"40\" max=\"230\" step=\"1\" value=\"160\" onchange=\"showValue('heightTxt',this.value)\">\n",
       "        <span id=\"heightTxt\">160</span>\n",
       "        <br>\n",
       "        <label for=\"weight\">Weight (kg):</label> \n",
       "        <input id=\"weight\" type=\"range\" min=\"10\" max=\"120\" step=\"1\" value=\"60\" onchange=\"showValue('weightTxt',this.value)\">\n",
       "        <span id=\"weightTxt\">60</span><br>\n",
       "        <p id=\"column\">BMI = <b id=\"boldStuff\"> Height / Weight <sup>2</sup></b> </p>\n",
       "        <input value=\"Calculate BMI\" onclick=\"calcBMI(this.form.height.value,this.form.weight.value)\" type=\"button\"> \n",
       "     </form> \n",
       "\n",
       "<script type=\"text/Javascript\">\n",
       "    function calcBMI(height, weight)\n",
       "      {\n",
       "        var M = height * .01;\n",
       "        var KG = weight ;\n",
       "        var BMI = (KG/(M*M));\n",
       "     \n",
       "        var msg;\n",
       "        if(BMI < 19) \n",
       "           msg =\"Too low to health\";\n",
       "        else if(BMI >= 19 && BMI <= 25) \n",
       "           msg =\"Keep going on\";\n",
       "        else if(BMI >= 26 && BMI <= 30) \n",
       "           msg =\" Exercise required\";\n",
       "        else if(BMI > 30 ) \n",
       "           msg =\"Not far from Heavan!\";\n",
       "\n",
       "        //alert(\"BMI=\" BMI +\"+ msg);\n",
       "        //document.write (BMI+\"<br>\"+msg);\n",
       "        var newHTML =  BMI+\"<br>\"+msg ;\n",
       "        document.getElementById('boldStuff').innerHTML = newHTML; \n",
       "      }\n",
       "      function showValue(id,newValue)\n",
       "      {\n",
       "         document.getElementById(id).innerHTML=newValue; \n",
       "      }\n",
       "</script>\n"
      ],
      "text/plain": [
       "<IPython.core.display.HTML at 0x2ce91d0>"
      ]
     },
     "execution_count": 3,
     "metadata": {},
     "output_type": "execute_result"
    }
   ],
   "source": [
    "HTML(input_form + javascript)"
   ]
  },
  {
   "cell_type": "code",
   "execution_count": null,
   "metadata": {},
   "outputs": [],
   "source": []
  },
  {
   "cell_type": "markdown",
   "metadata": {
    "slideshow": {
     "slide_type": "slide"
    }
   },
   "source": [
    "# PhoneGap (Android App)\n",
    "\n",
    "This demo shows the method to build Android web app with PhoneGap framework.\n",
    "\n",
    "**Environment Info's**\n",
    "\n",
    "* IDE Environment\n",
    "  1. Eclipse and ADT\n",
    "  2. Android Studio (0.2.9)\n",
    "* Android SDK (4.3), JAVA SDK (1.7u40)\n",
    "* phonegap (2.9 zip-bundle)"
   ]
  },
  {
   "cell_type": "markdown",
   "metadata": {
    "slideshow": {
     "slide_type": "subslide"
    }
   },
   "source": [
    "##PreSteps:\n",
    "\n",
    "**1.** create new project:\n",
    "   <pre>\n",
    "   Application Name:  BMIApp\n",
    "   Module Name:       BMIApp\n",
    "   Package Name:      com.cordova.bmiapp\n",
    "   </pre>"
   ]
  },
  {
   "cell_type": "markdown",
   "metadata": {
    "slideshow": {
     "slide_type": "subslide"
    }
   },
   "source": [
    "**2.** Copy the cordova.jar into your Android project's /libs directory.\n",
    "\n",
    "**3.** Edit your application's <font color=\"#0000ff\">res/<code>main.xml</code></font>\n",
    "file:<br>\n",
    "<pre class=\"prettyprint\"><code><font color=\"#cc6600\"><span class=\"tag\">&lt;org.apache.cordova.CordovaWebView</span><span class=\"pln\"><br>&nbsp; &nbsp; </span><span class=\"atn\">android:id</span><span class=\"pun\">=</span><span class=\"atv\">\"@+id/tutorialView\"</span><span class=\"pln\"><br>&nbsp; &nbsp; </span><span class=\"atn\">android:layout_width</span><span class=\"pun\">=</span><span class=\"atv\">\"match_parent\"</span><span class=\"pln\"><br>&nbsp; &nbsp; </span><span class=\"atn\">android:layout_height</span><span class=\"pun\">=</span><span class=\"atv\">\"match_parent\"</span><span class=\"pln\"> </span><span class=\"tag\">/&gt;</span></font><span class=\"pln\"><br></span></code></pre>\n",
    "<br>"
   ]
  },
  {
   "cell_type": "markdown",
   "metadata": {
    "slideshow": {
     "slide_type": "subslide"
    }
   },
   "source": [
    "**4.1** modify Manifest.xml by adding the following permissions:\n",
    "\n",
    "<font color=\"#cc6600\">\n",
    "&nbsp;&nbsp;&nbsp; &lt;uses-permission\n",
    "android:name=\"android.permission.CAMERA\" /&gt;<br>\n",
    "&nbsp;&nbsp;&nbsp; &lt;uses-permission\n",
    "android:name=\"android.permission.VIBRATE\" /&gt;<br>\n",
    "&nbsp;&nbsp;&nbsp; &lt;uses-permission\n",
    "android:name=\"android.permission.ACCESS_COARSE_LOCATION\" /&gt;<br>\n",
    "&nbsp;&nbsp;&nbsp; &lt;uses-permission\n",
    "android:name=\"android.permission.ACCESS_FINE_LOCATION\" /&gt;<br>\n",
    "&nbsp;&nbsp;&nbsp; &lt;uses-permission\n",
    "android:name=\"android.permission.ACCESS_LOCATION_EXTRA_COMMANDS\"\n",
    "/&gt;<br>\n",
    "&nbsp;&nbsp;&nbsp; &lt;uses-permission\n",
    "android:name=\"android.permission.INTERNET\" /&gt;<br>\n",
    "&nbsp;&nbsp;&nbsp; &lt;uses-permission\n",
    "android:name=\"android.permission.RECEIVE_SMS\" /&gt;<br>\n",
    "&nbsp;&nbsp;&nbsp; &lt;uses-permission\n",
    "android:name=\"android.permission.RECORD_AUDIO\" /&gt;<br>\n",
    "&nbsp;&nbsp;&nbsp; &lt;uses-permission\n",
    "android:name=\"android.permission.RECORD_VIDEO\"/&gt;<br>\n",
    "&nbsp;&nbsp;&nbsp; &lt;uses-permission\n",
    "android:name=\"android.permission.MODIFY_AUDIO_SETTINGS\" /&gt;<br>\n",
    "&nbsp;&nbsp;&nbsp; &lt;uses-permission\n",
    "android:name=\"android.permission.READ_CONTACTS\" /&gt;<br>\n",
    "&nbsp;&nbsp;&nbsp; &lt;uses-permission\n",
    "android:name=\"android.permission.WRITE_CONTACTS\" /&gt;<br>\n",
    "&nbsp;&nbsp;&nbsp; &lt;uses-permission\n",
    "android:name=\"android.permission.WRITE_EXTERNAL_STORAGE\" /&gt;<br>\n",
    "&nbsp;&nbsp;&nbsp; &lt;uses-permission\n",
    "android:name=\"android.permission.ACCESS_NETWORK_STATE\" /&gt;<br>\n",
    "&nbsp;&nbsp;&nbsp; &lt;uses-permission\n",
    "android:name=\"android.permission.GET_ACCOUNTS\" /&gt;<br>\n",
    "&nbsp;&nbsp;&nbsp; &lt;uses-permission\n",
    "android:name=\"android.permission.BROADCAST_STICKY\" /&gt;<br>\n",
    "</font>"
   ]
  },
  {
   "cell_type": "markdown",
   "metadata": {
    "slideshow": {
     "slide_type": "subslide"
    }
   },
   "source": [
    "**4.2** modify Manifest.xml by enabling property for hardware Accelerated  and disenbling some functions:\n",
    "\n",
    "<font color=\"#cc6600\">\n",
    " &nbsp;&nbsp; &lt;application<br>\n",
    "&nbsp;&nbsp;&nbsp;&nbsp;&nbsp;&nbsp;&nbsp; ...<br>\n",
    "&nbsp;&nbsp;&nbsp;&nbsp;&nbsp;&nbsp;&nbsp;\n",
    "android:hardwareAccelerated=\"true\"<br>\n",
    "&nbsp;&nbsp;&nbsp;&nbsp;&nbsp;&nbsp;&nbsp; android:debuggable=\"true\"<br>\n",
    "&nbsp;&nbsp;&nbsp;&nbsp;&nbsp;&nbsp;&nbsp; ...&gt;<br>\n",
    "&nbsp;&nbsp;&nbsp;&nbsp;&nbsp; &lt;activity<br>\n",
    "&nbsp;&nbsp;&nbsp;&nbsp;&nbsp;&nbsp;&nbsp;&nbsp;&nbsp;&nbsp;&nbsp;\n",
    "...<br>\n",
    "&nbsp;&nbsp;&nbsp;&nbsp;&nbsp;&nbsp;&nbsp;&nbsp;&nbsp;&nbsp;&nbsp;\n",
    "android:configChanges=\"orientation|keyboardHidden|keyboard|screenSize|locale\"&gt;<br>\n",
    "&nbsp;&nbsp;&nbsp;&nbsp;&nbsp;&nbsp;&nbsp;&nbsp;&nbsp;&nbsp;&nbsp;\n",
    "...&gt;<br>\n",
    "&nbsp;&nbsp;&nbsp;&nbsp; &lt;/activity&gt;<br>\n",
    "&nbsp;&nbsp;&nbsp; &lt;/application&gt;<br>\n",
    "</font>"
   ]
  },
  {
   "cell_type": "markdown",
   "metadata": {
    "slideshow": {
     "slide_type": "subslide"
    }
   },
   "source": [
    "**5.**  Copy HTML and JavaScript files to your Android project's /assets/www directory.\n",
    "\n",
    "**6.** Copy<font color=\"#cc9933\"> <code>cordova.xml</code></font> and <font\n",
    "color=\"#cc9933\"><code>plugins.xml</code><code></code></font>\n",
    "to&nbsp; project's <font color=\"#0000ff\"><code>/res/xml</code> </font>folder."
   ]
  },
  {
   "cell_type": "markdown",
   "metadata": {
    "slideshow": {
     "slide_type": "subslide"
    }
   },
   "source": [
    "**7.** Main Java code:\n",
    "\n",
    "\n",
    "<pre>\n",
    "package com.cordova.bmiapp;\n",
    "\n",
    "import android.os.Bundle;\n",
    "import org.apache.cordova.*;\n",
    "\n",
    "public class MainActivity extends DroidGap {\n",
    "\n",
    "    @Override\n",
    "    public void onCreate(Bundle savedInstanceState) {\n",
    "        super.onCreate(savedInstanceState);\n",
    "        //setContentView(R.layout.activity_main);\n",
    "        super.loadUrl(\"file:///android_asset/www/BMI3.html\");\n",
    "    }\n",
    "\n",
    "}\n",
    "</pre>\n"
   ]
  },
  {
   "cell_type": "markdown",
   "metadata": {
    "slideshow": {
     "slide_type": "subslide"
    }
   },
   "source": [
    "## Export from Eclipse+ADT to Android Studio\n",
    "\n",
    "* In Eclipse, choose [export] -&gt; [build by gradle]\n",
    "* modify <font color=\"blue\">BMIApp/gradle/wrapper/gradle-wrapper.properties</font>:\n",
    "\n",
    "  ...<br>\n",
    "  **distributionUrl=/root/.gradle/wrapper/dists/gradle-1.7-bin/2g3i7gan25uopmtc0lnjb1l9ff/gradle-1.7-bin.zip**\n",
    "  \n",
    "* Startup **Android Studio** and import the project.  "
   ]
  },
  {
   "cell_type": "markdown",
   "metadata": {
    "slideshow": {
     "slide_type": "subslide"
    }
   },
   "source": [
    "##Note\n",
    "**Now we can work both in Eclipse ADT and Android Studio! **"
   ]
  },
  {
   "cell_type": "markdown",
   "metadata": {
    "slideshow": {
     "slide_type": "slide"
    }
   },
   "source": [
    "# PhoneGap API's\n",
    "\n",
    "PhoneGap api's make us able to develop web appliaction which could call the native functions of mobile devices, including  Accelerometer, Camera etc."
   ]
  },
  {
   "cell_type": "markdown",
   "metadata": {
    "slideshow": {
     "slide_type": "subslide"
    }
   },
   "source": [
    "## Prelude\n",
    "Before using PhoneGap API's, it is necessary to monitor the **deviceready** event; while the event was activated, we can utilize API's safely under the confirm of PhobeGap loaded sucessfully. The demo is as follows:\n",
    "\n",
    "\n",
    " <pre class=\"prettyprint\"><code><font color=\"#cc6600\"><span class=\"pln\">&nbsp; </span><span class=\"tag\">&lt;script</span><span class=\"pln\"> </span><span class=\"atn\">type</span><span class=\"pun\">=</span><span class=\"atv\">\"text/javascript\"</span><span class=\"pln\"> </span><span class=\"atn\">charset</span><span class=\"pun\">=</span><span class=\"atv\">\"utf-8\"</span><span class=\"pln\"> </span><span class=\"atn\">src</span><span class=\"pun\">=</span><span class=\"atv\">\"cordova-x.x.x.js\"</span><span class=\"tag\">&gt;&lt;/script&gt;</span><span class=\"pln\"><br>&nbsp; &nbsp; </span><span class=\"tag\">&lt;script</span><span class=\"pln\"> </span><span class=\"atn\">type</span><span class=\"pun\">=</span><span class=\"atv\">\"text/javascript\"</span><span class=\"pln\"> </span><span class=\"atn\">charset</span><span class=\"pun\">=</span><span class=\"atv\">\"utf-8\"</span><span class=\"tag\">&gt;</span><span class=\"pln\"><br><br>&nbsp; &nbsp; </span><span class=\"com\">// Wait for device API libraries to load</span><span class=\"pln\"></span><span class=\"com\"></span><span class=\"pln\"><br>&nbsp; &nbsp; document</span><span class=\"pun\">.</span><a href=\"file:///root/doc/cordova_inappbrowser_inappbrowser.md.html#addEventListener\"><span class=\"pln\">addEventListener</span></a><span class=\"pun\">(</span><span class=\"str\">\"</span><a href=\"file:///root/doc/cordova_events_events.md.html#deviceready\"><span class=\"str\">deviceready</span></a><span class=\"str\">\"</span><span class=\"pun\">,</span><span class=\"pln\"> onDeviceReady</span><span class=\"pun\">,</span><span class=\"pln\"> </span><span class=\"kwd\">false</span><span class=\"pun\">);</span><span class=\"pln\"><br><br>&nbsp; &nbsp; </span><span class=\"com\">// device APIs are available</span><span class=\"pln\"></span><span class=\"com\"></span><span class=\"pln\"><br>&nbsp; &nbsp; </span><span class=\"kwd\">function</span><span class=\"pln\"> onDeviceReady</span><span class=\"pun\">()</span><span class=\"pln\"> </span><span class=\"pun\">{</span><span class=\"pln\"><br>&nbsp; &nbsp; &nbsp; &nbsp; navigator</span><span class=\"pun\">.</span><a href=\"file:///root/doc/cordova_accelerometer_accelerometer.md.html#accelerometer.getCurrentAcceleration\"><span class=\"pln\">accelerometer</span><span class=\"pun\">.</span><span class=\"pln\">getCurrentAcceleration</span></a><span class=\"pun\">(</span><span class=\"pln\">onSuccess</span><span class=\"pun\">,</span><span class=\"pln\"> onError</span><span class=\"pun\">);</span><span class=\"pln\"><br>&nbsp; &nbsp; </span><span class=\"pun\">}</span></font><span class=\"pln\"><font color=\"#cc6600\"><br> &lt;/script&gt;</font><br></span></code></pre>"
   ]
  },
  {
   "cell_type": "markdown",
   "metadata": {
    "slideshow": {
     "slide_type": "subslide"
    }
   },
   "source": [
    " <h4>BMIApp/res/xml/config.xml</h4>\n",
    "<code><span class=\"tag\">&lt;plugin</span><span class=\"pln\"> </span><span\n",
    "class=\"atn\">name</span><span class=\"pun\">=</span><span\n",
    "class=\"atv\">\"</span><a\n",
    "href=\"Media\"><span\n",
    "class=\"atv\">Media</span></a><span class=\"atv\">\"</span><span\n",
    "class=\"pln\"> </span><span class=\"atn\">value</span><span\n",
    "class=\"pun\">=</span><span class=\"atv\">\"org.apache.cordova.AudioHandler\"</span><span\n",
    "class=\"pln\"> </span><span class=\"tag\">/&gt;</span><span\n",
    "class=\"pln\"><br>\n",
    "</span></code>\n",
    "<h4>BMIApp/AndroidManifest.xml</h4>\n",
    "<code><span class=\"tag\">&lt;uses-permission</span><span \n",
    "class=\"pln\"></span><span class=\"atn\">android:name</span><span \n",
    "class=\"pun\">=</span><span class=\"atv\">\"android.permission.RECORD_AUDIO\"</span><span\n",
    "class=\"pln\"> </span><span class=\"tag\">/&gt;</span><span\n",
    "class=\"pln\"><br>\n",
    "</span><span class=\"tag\">&lt;uses-permission</span><span\n",
    "class=\"pln\"> </span><span class=\"atn\">android:name</span><span\n",
    "class=\"pun\">=</span><span class=\"atv\">\"android.permission.MODIFY_AUDIO_SETTINGS\"</span><span\n",
    "class=\"pln\"> </span><span class=\"tag\">/&gt;</span><span\n",
    "class=\"pln\"><br>\n",
    "</span><span class=\"tag\">&lt;uses-permission</span><span\n",
    "class=\"pln\"> </span><span class=\"atn\">android:name</span><span\n",
    "class=\"pun\">=</span><span class=\"atv\">\"android.permission.WRITE_EXTERNAL_STORAGE\"</span><span\n",
    "class=\"pln\"> </span><span class=\"tag\">/&gt;</span><span\n",
    "class=\"pln\"><br>\n",
    "</span></code>\n",
    "<pre class=\"prettyprint\"><code><font color=\"#cc6600\"><span class=\"pln\"></span></font><span class=\"pln\"></span></code></pre>\n"
   ]
  },
  {
   "cell_type": "markdown",
   "metadata": {
    "slideshow": {
     "slide_type": "subslide"
    }
   },
   "source": [
    "<pre class=\"prettyprint\"><code><font color=\"#cc6600\"><span class=\"kwd\">function</span><span class=\"pln\"> playAudio</span><span class=\"pun\">(</span><span class=\"pln\">url</span><span class=\"pun\">)</span><span class=\"pln\"> </span><span class=\"pun\">{</span><span class=\"pln\"><br>&nbsp; &nbsp; </span><span class=\"com\">// Play the audio file at url</span><span class=\"pln\"><br>&nbsp; &nbsp; </span><span class=\"kwd\">var</span><span class=\"pln\"> my_media </span><span class=\"pun\">=</span><span class=\"pln\"> </span><span class=\"kwd\">new</span><span class=\"pln\"> </span><a href=\"file:///root/doc/cordova_media_media.md.html#Media\"><span class=\"typ\">Media</span></a><span class=\"pun\">(</span><span class=\"pln\">url</span><span class=\"pun\">,</span><span class=\"pln\"><br>&nbsp; &nbsp; &nbsp; &nbsp; </span><span class=\"com\">// success callback</span><span class=\"pln\"><br>&nbsp; &nbsp; &nbsp; &nbsp; </span><span class=\"kwd\">function</span><span class=\"pln\"> </span><span class=\"pun\">()</span><span class=\"pln\"> </span><span class=\"pun\">{</span><span class=\"pln\"><br>&nbsp; &nbsp; &nbsp; &nbsp; &nbsp; &nbsp; console</span><span class=\"pun\">.</span><span class=\"pln\">log</span><span class=\"pun\">(</span><span class=\"str\">\"playAudio():Audio Success\"</span><span class=\"pun\">);</span><span class=\"pln\"><br>&nbsp; &nbsp; &nbsp; &nbsp; </span><span class=\"pun\">},</span><span class=\"pln\"><br>&nbsp; &nbsp; &nbsp; &nbsp; </span><span class=\"com\">// error callback</span><span class=\"pln\"><br>&nbsp; &nbsp; &nbsp; &nbsp; </span><span class=\"kwd\">function</span><span class=\"pln\"> </span><span class=\"pun\">(</span><span class=\"pln\">err</span><span class=\"pun\">)</span><span class=\"pln\"> </span><span class=\"pun\">{</span><span class=\"pln\"><br>&nbsp; &nbsp; &nbsp; &nbsp; &nbsp; &nbsp; console</span><span class=\"pun\">.</span><span class=\"pln\">log</span><span class=\"pun\">(</span><span class=\"str\">\"playAudio():Audio Error: \"</span><span class=\"pln\"> </span><span class=\"pun\">+</span><span class=\"pln\"> err</span><span class=\"pun\">);</span><span class=\"pln\"><br>&nbsp; &nbsp; &nbsp; &nbsp; </span><span class=\"pun\">}</span><span class=\"pln\"><br>&nbsp; &nbsp; </span><span class=\"pun\">);</span><span class=\"pln\"><br>&nbsp; &nbsp; </span><span class=\"com\">// Play audio</span><span class=\"pln\"><br>&nbsp; &nbsp; my_media</span><span class=\"pun\">.</span><span class=\"pln\">play</span><span class=\"pun\">();</span><span class=\"pln\"><br></span><span class=\"pun\">}</span></font><span class=\"pln\"><br></span></code></pre>\n",
    "<code><span class=\"pln\"></span></code>\n",
    "<pre class=\"prettyprint\"><code><font color=\"#cc6600\"><span class=\"pln\"></span></font><span class=\"pln\"></span></code></pre>\n"
   ]
  },
  {
   "cell_type": "code",
   "execution_count": null,
   "metadata": {},
   "outputs": [],
   "source": []
  },
  {
   "cell_type": "markdown",
   "metadata": {
    "slideshow": {
     "slide_type": "skip"
    }
   },
   "source": [
    "\n",
    "\n",
    "\n",
    "Beginning in Cordova 1.9, Beginning in <font color=\"#ff0000\">Cordova 1.9</font>, <font\n",
    "color=\"#0000ff\">CordovaActivity</font> becomes a component in a\n",
    "larger native Android application instead of\n",
    "the legacy <font color=\"#996633\">DroidGap</font> approach. "
   ]
  },
  {
   "cell_type": "markdown",
   "metadata": {
    "slideshow": {
     "slide_type": "skip"
    }
   },
   "source": [
    "**3.** Modify activity so that it implements the<font color=\"#0000ff\">\n",
    "CordovaInterface</font>:<br>\n",
    "<br>\n",
    "<pre class=\"prettyprint\"><font color=\"#cc9933\"><span class=\"kwd\">public</span><span class=\"pln\"> </span><span class=\"kwd\">class</span><span class=\"pln\"> </span><span class=\"typ\">CordovaViewTestActivity</span><span class=\"pln\"> </span><span class=\"kwd\">extends</span><span class=\"pln\"> </span><span class=\"typ\">Activity</span><span class=\"pln\"> </span><span class=\"kwd\">implements</span><span class=\"pln\"> </span><span class=\"typ\">CordovaInterface</span><span class=\"pln\"> </span><span class=\"pun\">{</span><span class=\"pln\"><br>&nbsp; &nbsp; </span><span class=\"typ\">CordovaWebView</span><span class=\"pln\"> cwv</span><span class=\"pun\">;</span><span class=\"pln\"><br>&nbsp; &nbsp;</span><span class=\"pln\"><br>&nbsp; &nbsp; </span><span class=\"lit\">@Override</span><span class=\"pln\"><br>&nbsp; &nbsp; </span><span class=\"kwd\">public</span><span class=\"pln\"> </span><span class=\"kwd\">void</span><span class=\"pln\"> onCreate</span><span class=\"pun\">(</span><span class=\"typ\">Bundle</span><span class=\"pln\"> savedInstanceState</span><span class=\"pun\">)</span><span class=\"pln\"> </span><span class=\"pun\">{</span><span class=\"pln\"><br>&nbsp; &nbsp; &nbsp; &nbsp; </span><span class=\"kwd\">super</span><span class=\"pun\">.</span><span class=\"pln\">onCreate</span><span class=\"pun\">(</span><span class=\"pln\">savedInstanceState</span><span class=\"pun\">);</span><span class=\"pln\"><br>&nbsp; &nbsp; &nbsp; &nbsp; setContentView</span><span class=\"pun\">(</span><span class=\"pln\">R</span><span class=\"pun\">.</span><span class=\"pln\">layout</span><span class=\"pun\">.</span><span class=\"pln\">main</span><span class=\"pun\">);</span><span class=\"pln\"><br>&nbsp; &nbsp; &nbsp; &nbsp; cwv </span><span class=\"pun\">=</span><span class=\"pln\"> </span><span class=\"pun\">(</span><span class=\"typ\">CordovaWebView</span><span class=\"pun\">)</span><span class=\"pln\"> findViewById</span><span class=\"pun\">(</span><span class=\"pln\">R</span><span class=\"pun\">.</span><span class=\"pln\">id</span><span class=\"pun\">.</span><span class=\"pln\">tutorialView</span><span class=\"pun\">);</span><span class=\"pln\"><br>&nbsp; &nbsp; &nbsp; &nbsp; </span><span class=\"typ\">Config</span><span class=\"pun\">.</span><span class=\"pln\">init</span><span class=\"pun\">(</span><span class=\"kwd\">this</span><span class=\"pun\">);</span><span class=\"pln\"><br>&nbsp; &nbsp; &nbsp; &nbsp; cwv</span><span class=\"pun\">.</span><span class=\"pln\">loadUrl</span><span class=\"pun\">(</span><span class=\"typ\">Config</span><span class=\"pun\">.</span><span class=\"pln\">getStartUrl</span><span class=\"pun\">());</span><span class=\"pln\"><br>&nbsp; &nbsp; </span><span class=\"pun\">}</span></font><span class=\"pln\"><br></span></pre>\n",
    "<br>"
   ]
  },
  {
   "cell_type": "code",
   "execution_count": null,
   "metadata": {
    "collapsed": true
   },
   "outputs": [],
   "source": []
  },
  {
   "cell_type": "markdown",
   "metadata": {},
   "source": [
    "Android Studio with HTML5\n",
    "===\n",
    "Subjects\n",
    "---\n",
    "- Project creation\n",
    "- HTML5 functionable\n",
    "\n",
    "Logs\n",
    "---\n",
    "- BMI3 (above) project\n",
    "- Pre-requirements:\n",
    "  - JDK-7u-xx\n",
    "  - Android SDK - 6 (Marshmarrow)\n",
    "  - Android studio -2.1 pre3\n",
    "  "
   ]
  },
  {
   "cell_type": "markdown",
   "metadata": {},
   "source": [
    "Step-1\n",
    "---\n",
    "- project create\n",
    "  <br><img src=\"imgs/AndroidStudio-1.png\" width=60% /> \n",
    "  <br><img src=\"imgs/AndroidStudio-2.png\" width=60% /> \n",
    "  <br><img src=\"imgs/AndroidStudio-3.png\" width=60% /> \n",
    "  <br><img src=\"imgs/AndroidStudio-4.png\" width=60% />\n",
    "  <br><img src=\"imgs/AndroidStudio-5.png\" width=60% /> \n",
    "  "
   ]
  },
  {
   "cell_type": "markdown",
   "metadata": {},
   "source": [
    "Step-2\n",
    "---\n",
    "Make the Android App\n",
    "\n",
    "  - AndroidManifest.xml\n",
    "    - HTML5 setting\n",
    "      <br><img src=\"imgs/Manifest-1.png\" width=80% /> \n",
    "    - Suitable orientation: portrait, *horizontal* <br>\n",
    "      <br><img src=\"imgs/Manifest-2.png\" width=80% />\n",
    "    <br><img src=\"imgs/Manifest-3.png\" width=90% />  \n",
    "  \n",
    "  - Type of View: Chrome -> **Webview**\n",
    "    <br><img src=\"imgs/Activity.png\" width=90% />  \n",
    "  - Java code modification: add the *WebView* class, create *webview* object and enable *javascript* function:\n",
    "    <br><img src=\"imgs/MainActivity.png\" width=90% />\n",
    "  - Assets location: copy **BMI3.html** and **js** into the folder, <font color=\"blue\">assets</font>, in **$Project** reference above."
   ]
  },
  {
   "cell_type": "markdown",
   "metadata": {},
   "source": [
    "Step-3\n",
    "---\n",
    "Run it<br><img src=\"imgs/run.png\" width=30% />"
   ]
  },
  {
   "cell_type": "markdown",
   "metadata": {},
   "source": [
    "Intel XDK\n",
    "---\n",
    "A web-based Development Environment fot HTML5 App\n",
    "\n",
    "- Install <a href=\"https://software.intel.com/receive\">XDK</a> and login\n",
    "\n",
    "Version\n",
    "---\n",
    "2893 (2016-3-21)"
   ]
  },
  {
   "cell_type": "markdown",
   "metadata": {},
   "source": [
    "Step 1\n",
    "---\n",
    "1. Creat new project, named ```BMIXDK``` here:\n",
    "   <br><img src=\"imgs/XDK-1.png\" width=90% />\n",
    "2. copy BMI3.html and folder, <font color=\"blue\">js</font>, into $XDKproject/www at which index.html was located and merge the codes of **BMI3.html** into **index.html**:\n",
    "   <br><img src=\"imgs/XDK-2.png\" width=90% />\n",
    "3. Build and download it for test:\n",
    "   <br><img src=\"imgs/XDK-3.png\" width=90% />\n",
    "   <br><img src=\"imgs/XDK-4.png\" width=90% />"
   ]
  },
  {
   "cell_type": "markdown",
   "metadata": {},
   "source": [
    "4. Simulate on  the Virtual Device\n",
    "---\n",
    "No iphone, it's not a problem:\n",
    "<br><img src=\"imgs/XDK-5.png\" width=90% />"
   ]
  },
  {
   "cell_type": "code",
   "execution_count": 4,
   "metadata": {},
   "outputs": [
    {
     "name": "stdout",
     "output_type": "stream",
     "text": [
      "[NbConvertApp] Converting notebook BMIapp.ipynb to html\n",
      "[NbConvertApp] Writing 269255 bytes to BMIapp.html\n"
     ]
    }
   ],
   "source": [
    "!jupyter nbconvert BMIapp.ipynb"
   ]
  },
  {
   "cell_type": "code",
   "execution_count": null,
   "metadata": {
    "collapsed": true
   },
   "outputs": [],
   "source": []
  }
 ],
 "metadata": {
  "kernelspec": {
   "display_name": "Python 3",
   "language": "python",
   "name": "python3"
  },
  "language_info": {
   "codemirror_mode": {
    "name": "ipython",
    "version": 3
   },
   "file_extension": ".py",
   "mimetype": "text/x-python",
   "name": "python",
   "nbconvert_exporter": "python",
   "pygments_lexer": "ipython3",
   "version": "3.6.0"
  }
 },
 "nbformat": 4,
 "nbformat_minor": 1
}
