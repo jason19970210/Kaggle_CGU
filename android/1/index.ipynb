{
 "cells": [
  {
   "cell_type": "markdown",
   "metadata": {},
   "source": [
    "# Create HTML App by Android Studio\n",
    "\n",
    "1. Pre-requirement:\n",
    "    - JDK-8u-xx\n",
    "    - Android SDK - (4.x.x up)\n",
    "    - Android studio - 2.2"
   ]
  },
  {
   "cell_type": "markdown",
   "metadata": {},
   "source": [
    "- <caption>Fire up Studio Studio</caption>\n",
    "<div align=\"center\"><img src=\"imgs/AndroidStudio1.png\" width=100%></img></div>"
   ]
  },
  {
   "cell_type": "markdown",
   "metadata": {},
   "source": [
    "- <caption>Create New Project</caption>\n",
    "<div align=\"center\"><img src=\"imgs/AndroidStudio2.png\" width=100%></img></div>"
   ]
  },
  {
   "cell_type": "markdown",
   "metadata": {},
   "source": [
    "- <caption>Kind of App: Phone and Tablet</caption>\n",
    "<div align=\"center\"><img src=\"imgs/AndroidStudio3.png\" width=100%></img></div>"
   ]
  },
  {
   "cell_type": "markdown",
   "metadata": {},
   "source": [
    "- <caption>Blank Project</caption>\n",
    "<div align=\"center\"><img src=\"imgs/AndroidStudio4.png\" width=100%></img></div>"
   ]
  },
  {
   "cell_type": "markdown",
   "metadata": {},
   "source": [
    "- <caption>Project Activity</caption>\n",
    "<div align=\"center\"><img src=\"imgs/AndroidStudio5.png\" width=100%></img></div>"
   ]
  },
  {
   "cell_type": "markdown",
   "metadata": {},
   "source": [
    "- <caption>First View of Project</caption>\n",
    "<div align=\"center\"><img src=\"imgs/AndroidStudio7.png\" width=100%></img></div>"
   ]
  },
  {
   "cell_type": "markdown",
   "metadata": {},
   "source": [
    "- <caption>AndroidManifest.xml</caption>\n",
    "<div align=\"center\"><img src=\"imgs/AndroidStudio8-1.png\" width=100%></img></div>"
   ]
  },
  {
   "cell_type": "markdown",
   "metadata": {},
   "source": [
    "- <caption>**Internet** Permission enabled I (SDK auto-completed)</caption>\n",
    "<div align=\"center\"><img src=\"imgs/AndroidStudio8-2.png\" width=100%></img></div>"
   ]
  },
  {
   "cell_type": "markdown",
   "metadata": {},
   "source": [
    "- <caption>Activity_main.xml: Change View to WebView</caption>\n",
    "<div align=\"center\"><img src=\"imgs/AndroidStudio9.png\" width=100%></img></div>"
   ]
  },
  {
   "cell_type": "markdown",
   "metadata": {},
   "source": [
    "- Modify the main java code, MainActivity.java, to display HTML/Javascript file:\n",
    "<div align=\"center\"><img src=\"imgs/AndroidStudio11.png\" width=100%></img></div>"
   ]
  },
  {
   "cell_type": "markdown",
   "metadata": {},
   "source": [
    "- create directory, `$Project/app/src/main/assets` and copy the HTML file into it:\n",
    "<div align=\"center\"><img src=\"imgs/AndroidStudio12.png\" width=100%></img></div>"
   ]
  },
  {
   "cell_type": "markdown",
   "metadata": {},
   "source": [
    "- <caption>Build/run App</caption>\n",
    "<div align=\"center\"><img src=\"imgs/AndroidStudio13.png\" width=100%></img></div>"
   ]
  },
  {
   "cell_type": "markdown",
   "metadata": {},
   "source": [
    "- <caption>create Emu</caption>\n",
    "<div align=\"center\"><img src=\"imgs/AndroidStudio14.png\" width=100%></img></div>"
   ]
  },
  {
   "cell_type": "markdown",
   "metadata": {},
   "source": [
    "- <caption>Choose Emu phone</caption>\n",
    "<div align=\"center\"><img src=\"imgs/AndroidStudio15.png\" width=100%></img></div>"
   ]
  },
  {
   "cell_type": "markdown",
   "metadata": {},
   "source": [
    "- <caption>Emu Android properties</caption>\n",
    "<div align=\"center\"><img src=\"imgs/AndroidStudio16.png\" width=100%></img></div>"
   ]
  },
  {
   "cell_type": "markdown",
   "metadata": {},
   "source": [
    "- <caption>Emu Android properties</caption>\n",
    "<div align=\"center\"><img src=\"imgs/AndroidStudio17.png\" width=100%></img></div>"
   ]
  },
  {
   "cell_type": "markdown",
   "metadata": {},
   "source": [
    "Conclusion\n",
    "===\n",
    "test your intelligent phone/tablet with built app, at which is located in the directory, `$Project/app/build/outputs/apk`.\n"
   ]
  },
  {
   "cell_type": "code",
   "execution_count": 1,
   "metadata": {
    "collapsed": false
   },
   "outputs": [
    {
     "name": "stderr",
     "output_type": "stream",
     "text": [
      "[NbConvertApp] Converting notebook index.ipynb to html\n",
      "[NbConvertApp] Writing 256084 bytes to index.html\n"
     ]
    }
   ],
   "source": [
    "%%bash\n",
    "\n",
    "jupyter nbconvert index.ipynb"
   ]
  },
  {
   "cell_type": "code",
   "execution_count": null,
   "metadata": {
    "collapsed": true
   },
   "outputs": [],
   "source": []
  }
 ],
 "metadata": {
  "kernelspec": {
   "display_name": "Python 3",
   "language": "python",
   "name": "python3"
  },
  "language_info": {
   "codemirror_mode": {
    "name": "ipython",
    "version": 3
   },
   "file_extension": ".py",
   "mimetype": "text/x-python",
   "name": "python",
   "nbconvert_exporter": "python",
   "pygments_lexer": "ipython3",
   "version": "3.5.2"
  }
 },
 "nbformat": 4,
 "nbformat_minor": 0
}
