{
 "cells": [
  {
   "cell_type": "markdown",
   "metadata": {
    "internals": {
     "slide_helper": "subslide_end",
     "slide_type": "subslide"
    },
    "slide_helper": "subslide_end",
    "slideshow": {
     "slide_type": "slide"
    }
   },
   "source": [
    " Digital Innovation\n",
    " ===\n",
    " Intelligent Interface of Human-Machine\n",
    " ---\n",
    " Tutor: cch (diffusion)"
   ]
  },
  {
   "cell_type": "markdown",
   "metadata": {
    "internals": {
     "slide_helper": "subslide_end",
     "slide_type": "subslide"
    },
    "slide_helper": "subslide_end",
    "slideshow": {
     "slide_type": "subslide"
    }
   },
   "source": [
    "## Welcome to the WarField, Skywalkers! "
   ]
  },
  {
   "cell_type": "markdown",
   "metadata": {
    "internals": {
     "slide_helper": "subslide_end",
     "slide_type": "subslide"
    },
    "slide_helper": "subslide_end",
    "slideshow": {
     "slide_type": "subslide"
    }
   },
   "source": [
    "Textbook \n",
    "---\n",
    "\n",
    "1.  Kujira Flying Machine: Android Programming by HTML5 and JavaScript, \t旗標出版公司 F2774. 2012\n",
    "- Chen WA: From HTML5, CSS3 and JavaScript to jQuery, PhoneGap and Android,  旗標出版公司 F2472. 2012\n",
    "-  Rick Rogers, Learning Android Game Programming,, Pearson Edu Inc., 2012\n",
    "- Massimo Nardone and Vladimir Silva, Pro Android Games, Third Edition, 2015\n",
    "- Li Ning, Introduction to Kotlin Programming, Post&amp;Telecom Publ, 2018.\n",
    "Reference book \t\n",
    "---\n",
    "<ol>\n",
    "<li> [Github Resource](http://github.com/cchuang2009/2016-1)\n",
    "<li> Wei-Meng Lee, Beginning Android Tablet Application Development, Wrox, 2011\n",
    "<li> Wei-Meng Lee, Beginning Android Application Development, Wrox\n",
    "<li>  Tim Kadlec, Implementing Responsive Design: Building sites for an anywhere, everywhere web, Riders, 2013\n",
    "</ol>\n",
    "\n"
   ]
  },
  {
   "cell_type": "markdown",
   "metadata": {
    "internals": {
     "slide_helper": "subslide_end",
     "slide_type": "subslide"
    },
    "slide_helper": "subslide_end",
    "slideshow": {
     "slide_type": "subslide"
    }
   },
   "source": [
    "# Websites\n",
    "---\n",
    "<ol>\n",
    "<li> http://diffusion.cgu.edu.tw/android \n",
    "<li> https://github.com/cchuang2009/AndroidProgram\n",
    "<li> App Inventor 2 (AI2): http://www.appinventor.org/book2\n",
    "</ol>\n",
    "\n",
    "\n",
    "2013\n",
    "---\n",
    "- [Local Machine](../android/index.html)\n",
    "- [Students' Final Project](student-2013-2/www/index.html)\n",
    "\n",
    "2014\n",
    "---\n",
    "- [Dice with jsWaffle](jsWaffle/dice.ipynb): Training for animation effect, sound embedding .\n",
    "- [Google Map](googleMap/GoogleMap.ipynb): HTML5 Introduction, BMI jQuery-enhanced, Canvas, Json, Google Map eamples, ...\n",
    "- [Web Media API's](xylophone/2014-2-8.ipynb)\n",
    "- [ App Inventor2: Google killer App](../android/lecture-html/appInventor2/index.html) <br>\n",
    "   -[ App Inventor2: example2](AI2DEMO/1/lightbox/index.html) \n",
    "\n",
    "2015\n",
    "---\n",
    "- App for Wear device\n",
    "- ...\n",
    "\n",
    "2016 ~2017\n",
    "---\n",
    "- VR, from cardboard SDK to gsr SDK\n",
    "\n",
    "2018\n",
    "---\n",
    "- kotlin introduced\n",
    "  - [First Introduction](kotlinIntro.ipynb)\n",
    "  "
   ]
  },
  {
   "cell_type": "markdown",
   "metadata": {
    "internals": {
     "slide_type": "subslide"
    },
    "slideshow": {
     "slide_type": "subslide"
    }
   },
   "source": [
    "## Course Description:\n",
    "\n",
    "Android has been widely integrated and be found in hand-held devices, especially in smart phones since it first released at 2007. Java development environment on Linux system makes its capable of potential to run app's on light-weight cell phone. Its success directs the possible and right choice for another future development in cloud computing,  \"end-use\".\n"
   ]
  },
  {
   "cell_type": "markdown",
   "metadata": {
    "internals": {
     "frag_number": 5,
     "slide_helper": "subslide_end"
    },
    "slide_helper": "subslide_end",
    "slideshow": {
     "slide_type": "fragment"
    }
   },
   "source": [
    "\n",
    "     However, Java and Linux teaching and learning will be not focus of lecture but, insteadly, cirricula resources of Java  will be prepared for self-learning and the Android App developed by HTML5-compiant web techniques will be introduced in this course.\n",
    "\n"
   ]
  },
  {
   "cell_type": "markdown",
   "metadata": {
    "internals": {
     "frag_helper": "fragment_end",
     "frag_number": 5,
     "slide_helper": "subslide_end",
     "slide_type": "subslide"
    },
    "slide_helper": "subslide_end",
    "slideshow": {
     "slide_type": "subslide"
    }
   },
   "source": [
    "\n",
    "   Since the HTML-orientated programming is the focus of lectures, we will introduce basic HTML5 syntax, Javascript and CSS application by examples. \n",
    "  \n",
    "Briefly, the topics in this course include:\n",
    "\n",
    "- HTML5 \n",
    "        new features and functions for mobile devices;\n",
    "- CSS3\n",
    "        Style refinement and reponsive web page design;\n",
    "\n",
    "- Javascript\n",
    "        tools for implemnting interactivity, for instance, work with Google map API's.\n",
    "    "
   ]
  },
  {
   "cell_type": "markdown",
   "metadata": {
    "internals": {
     "frag_helper": "fragment_end",
     "frag_number": 5,
     "slide_helper": "subslide_end",
     "slide_type": "subslide"
    },
    "slide_helper": "subslide_end",
    "slideshow": {
     "slide_type": "subslide"
    }
   },
   "source": [
    "The course attendants will be encouraged to implement the group project by the knowledge and techniques learned in this lecture.\n",
    "<p>\n",
    "<font color=\"red\"><big>Make your idea come TRUE!</big></font> "
   ]
  },
  {
   "cell_type": "markdown",
   "metadata": {
    "internals": {
     "frag_helper": "fragment_end",
     "frag_number": 5,
     "slide_helper": "subslide_end",
     "slide_type": "subslide"
    },
    "slide_helper": "subslide_end",
    "slideshow": {
     "slide_type": "subslide"
    }
   },
   "source": [
    "Grading\n",
    "---\n",
    "* Lecture Attendance: 20%\n",
    "* Conceptual Quizzes: 60%\n",
    "* Group projects AND Term Report: 20%\n",
    "\n",
    "Office hour \n",
    "---\n",
    "* Tueday, p.m.12:00~13:00        \n",
    "* Wednesday, p.m.12:00~13:00"
   ]
  },
  {
   "cell_type": "markdown",
   "metadata": {
    "internals": {
     "frag_helper": "fragment_end",
     "frag_number": 5,
     "slide_helper": "subslide_end",
     "slide_type": "subslide"
    },
    "slide_helper": "subslide_end",
    "slideshow": {
     "slide_type": "subslide"
    }
   },
   "source": [
    "Survey\n",
    "---\n",
    "You have to follow the link to complete the survey:\n",
    "\n",
    "https://docs.google.com/forms/d/1TXTlDn9IU5CGN6Qj6FCCC8RYLM4lvLiA7qqBI6OAz6c/viewform?c=0&w=1\n"
   ]
  },
  {
   "cell_type": "markdown",
   "metadata": {
    "internals": {
     "frag_helper": "fragment_end",
     "frag_number": 5,
     "slide_helper": "subslide_end",
     "slide_type": "subslide"
    },
    "slide_helper": "slide_end",
    "slideshow": {
     "slide_type": "subslide"
    }
   },
   "source": [
    "Marilvn vos Savant\n",
    "---\n",
    "    To acquire knowledge, one must study; \n",
    "    but to acquire wisdom, one must observe. \n"
   ]
  },
  {
   "cell_type": "markdown",
   "metadata": {
    "internals": {
     "frag_helper": "fragment_end",
     "frag_number": 5,
     "slide_helper": "subslide_end",
     "slide_type": "subslide"
    },
    "slide_helper": "slide_end",
    "slideshow": {
     "slide_type": "slide"
    }
   },
   "source": [
    "## Lectures\n",
    "\n",
    "<ol>\n",
    "<li> Android Studio (defaulted);<img src=\"imgs/AndroidStudio.png\">\n",
    "<li> HTML, Javascript;<img src=\"imgs/html.png\">\n",
    "<li> Intel XDK<img src=\"imgs/XDK.png\">\n",
    "<li> App Inventor 2;<img src=\"imgs/AI2.jpg\">\n",
    "</ol>"
   ]
  },
  {
   "cell_type": "markdown",
   "metadata": {
    "internals": {
     "frag_helper": "fragment_end",
     "frag_number": 5,
     "slide_helper": "subslide_end",
     "slide_type": "subslide"
    },
    "slide_helper": "subslide_end",
    "slideshow": {
     "slide_type": "slide"
    }
   },
   "source": [
    "##  First Lecture  "
   ]
  },
  {
   "cell_type": "markdown",
   "metadata": {},
   "source": [
    "Before we go\n",
    "---\n",
    "Setup the required environment\n",
    "\n",
    "<code style=\"font-family:chalkboard;font-size:1.2em;color:red;\">\n",
    "    Where are they installed best? Anywhere but not within folder in name included Chinese characters! For Window users,  \"D:\\AndroidStudio\" is a good choice.\n",
    "</code>    \n",
    "\n",
    "- Java SE Development Kit 8: http://www.oracle.com/technetwork/java/javase/downloads/, Android Studio require JDK-1.8;\n",
    "- [Android Studio +3.0]( http://developer.android.com/intl/zh-tw/sdk/index.html) (3.2RC installed 2018/9/6), the best is installing the package with Android Development tools (ADT). To run or test kotlin staff requires install Android platform- 8.0+.\n",
    "- Android SDK/NDK\n",
    "  - SDK: http://developer.android.com/intl/zh-tw/sdk/index.html#Other <br>\n",
    "        which has been bundled with Andrio Studio.\n",
    "  - NDK: http://developer.android.com/intl/zh-tw/tools/sdk/ndk/index.html<br>\n",
    "        should be not required in general and now.\n",
    "- Unity: https://unity3d.com  <br>\n",
    "         one of best software makes AR apps. \n",
    "- Intel XDK:   https://software.intel.com/en-us/intel-xdk <br>\n",
    "         install this if you want to share the power of HTML/Javascript codes with apps.\n",
    "- Google Cardboard:\n",
    "  - WebSite: https://www.google.com/get/cardboard/\n",
    "  - Cardboard-java: https://github.com/googlesamples/cardboard-java\n",
    "  - Cradboard-unity: https://github.com/googlesamples/cardboard-unityCardboad\n",
    "        \n",
    "Further ...        "
   ]
  },
  {
   "cell_type": "markdown",
   "metadata": {},
   "source": [
    "Installation\n",
    "===\n",
    "- Download and extract **<a href=\"http://www.oracle.com/technetwork/java/javase/downloads/jdk8-downloads-2133151.html\">Java SE Development Kit (JDK 1.8u201, 2019/2/20)</a>**\n",
    "- Install <font color=\"brown\">[**Android Studio**](https://developer.android.com/studio/index.html)</font>, (3.3.2+ suggested); \n",
    "```\n",
    " Note: Had better to choose the bundle set which should contain Android Develop Tools; if so, no need to install Android SDK and remember to update at the first startup.\n",
    "```\n",
    "- Download and extract [**Android SDK/NDK**]() into certain directory, says <font color=\"blue\">```$AndroidSDK```</font>,\n",
    "  - extracted NDK put in the directory,  <font color=\"blue\">```$AndroidSDK```/sdk/ndk-bundle</font>;\n",
    "- Install <font color=\"brown\">**Unity**</font>.\n",
    "\n",
    "Soon you should have a well-installed working environment for Android or others mobil systems. "
   ]
  },
  {
   "cell_type": "markdown",
   "metadata": {},
   "source": [
    "Setting PATH\n",
    "---\n",
    "1. <b><font color=\"red\">(IMPORTANT)</font></b> Windows: supoose that ```D:\\Android``` is the top directory at which softwares were installed as above; add the full path of the Android SDK tools and Android SDK platform-tools folders to the <b>PATH</b> variable, separated by a semi-colon. It should look something like this:\n",
    "```\n",
    "D:\\Android\\tools;D:\\Android\\platform-tools\n",
    "```\n",
    "Steps:\n",
    "   - Hit the <font color=\"red\">*Start*</font> key on your Keyboard. \n",
    "   - Start typing the words <font color=\"red\">*Environment Variables*</font>. \n",
    "   - As you type, you'll see the choice to <font color=\"red\">**Edit the system environment variables**</font>. Choose it. \n",
    "   - In the Environment Variables window, select the **PATH** line item in the **User variables** for (your user name) section, then click the **Edit** button.\n",
    "<br><big><font style=\"font-family:chalkboard;color:red;\">Do not install within folder with name including any Chinese characters!</big></font>   \n",
    "- Mac/Linux: Suppose installed at ```~/Android```, open a console and input:\n",
    "```\n",
    "~ User$ export PATH=$HOME/Android/tools:$HOME/Android/platform-tools:$PATH\n",
    "```\n",
    "or add the last input  to the ```.bash_profile```."
   ]
  },
  {
   "cell_type": "markdown",
   "metadata": {},
   "source": [
    "First App\n",
    "---\n",
    "**App's Object**, create a new Android Studio kotlin project, at which includes one text display (edittext), two buttons, one for displaying text in edittext, the other for toasting the text directly.\n",
    "\n",
    "Outline\n",
    "---\n",
    "1. create project with\n",
    "\n",
    "```\n",
    "Name\n",
    "---\n",
    "MyApplicationKotlin\n",
    "\n",
    "Package Name\n",
    "---\n",
    "kom.kotlin.first.myapplicationkotlin\n",
    "\n",
    "...\n",
    "\n",
    "Language\n",
    "---\n",
    "Kotlin\n",
    "\n",
    "Minimum API level\n",
    "---\n",
    "API 19: Android 4.4 (KitKat)\n",
    "```\n",
    "2. choose `Empty Activity` and create.\n",
    "\n",
    "\n",
    "3. Launch Android Studio and create new project:\n",
    "<img src=\"imgs/1/AndroidStudio-1.png\" width=%80 />\n"
   ]
  },
  {
   "cell_type": "markdown",
   "metadata": {},
   "source": [
    "- Type of Activities, blank activity\n",
    "<img src=\"imgs/1/AndroidStudio-5.png\" width=%80 />"
   ]
  },
  {
   "cell_type": "markdown",
   "metadata": {},
   "source": [
    "- Create New Project: the first project creation, it had better to enable option ```[include kotlin support]``` as belows which should install kolin-related packages automatically:\n",
    "<img src=\"imgs/1/AndroidStudio-3.png\" width=%80 />"
   ]
  },
  {
   "cell_type": "markdown",
   "metadata": {},
   "source": [
    "- Main Menu of Android Studio \n",
    "<img src=\"imgs/1/AndroidStudio-7.png\" width=%80 />"
   ]
  },
  {
   "cell_type": "markdown",
   "metadata": {},
   "source": [
    "- BluePrint of Project, AndroidManifest.xml; where you can find a). the app icon (arrow at center) b) if any error (displayed in right <font color=\"red\">red</font> dash shown in the right border of table) , reference the last snapshot in this section: \n",
    "<img src=\"imgs/1/AndroidStudio-8.png\" width=%80 />"
   ]
  },
  {
   "cell_type": "markdown",
   "metadata": {},
   "source": [
    "- Layout of App, graphical and text modes\n",
    "<img src=\"imgs/1/AndroidStudio-9.png\" widyh=80%>\n"
   ]
  },
  {
   "cell_type": "markdown",
   "metadata": {},
   "source": [
    "- App Test via Android Virtual Machine (AVM);  running Kotlin app  requires install Android-8+ platform image (api27+), here intel-x86 atom image installed,\n",
    "<img src=\"imgs/1/AndroidSDK-28.png\" widyh=80%>\n",
    "<img src=\"imgs/1/AndroidStudio-11.png\" widyh=80%>"
   ]
  },
  {
   "cell_type": "markdown",
   "metadata": {},
   "source": [
    "Coding Part\n",
    "===\n",
    "\n",
    "UI's design and code are seperated but are highly related.\n",
    "\n",
    "UI\n",
    "---\n",
    "1. **activiti_main.xml**, define all the visualized units in app,\n",
    "   \n",
    " ```\n",
    "▼ 🗂 app\n",
    "   ▶︎ 🗂 manifests\n",
    "   ▶︎ 🗂 java\n",
    "   ▼ 📂 assets\n",
    "      📠 index.html\n",
    "   ▶︎ 🗂 res\n",
    "     ▼ 📂 layout\n",
    "        📠 activity_main.xml\n",
    " ```       \n",
    "   - change layout to LinearLayout\n",
    "   - create one `EditText` and two `Button`'s\n",
    "2. Code\n",
    "```xml\n",
    "<?xml version=\"1.0\" encoding=\"utf-8\"?>\n",
    "<LinearLayout xmlns:android=\"http://schemas.android.com/apk/res/android\"\n",
    "    android:layout_width=\"match_parent\"\n",
    "    android:layout_height=\"match_parent\"\n",
    "    android:orientation=\"vertical\">\n",
    "\n",
    "    <EditText\n",
    "        android:layout_width=\"match_parent\"\n",
    "        android:layout_height=\"wrap_content\"\n",
    "        android:id=\"@+id/edittext\"\n",
    "     />\n",
    "\n",
    "    <Button\n",
    "        android:id=\"@+id/button\"\n",
    "        android:layout_width=\"match_parent\"\n",
    "        android:layout_height=\"wrap_content\"\n",
    "        android:onClick=\"onClick\"\n",
    "        android:text=\"Click me!\"\n",
    "     />\n",
    "\n",
    "    <Button\n",
    "        android:layout_width=\"match_parent\"\n",
    "        android:layout_height=\"wrap_content\"\n",
    "        android:onClick=\"onClick_toast\"\n",
    "        android:text=\"Message\"\n",
    "        />\n",
    "</LinearLayout>\n",
    "```"
   ]
  },
  {
   "cell_type": "markdown",
   "metadata": {},
   "source": [
    "Kotlin Part\n",
    "---\n",
    "The way of app comes as follows:\n",
    "```java\n",
    "package com.kotlin.first.myapplicationkotlin\n",
    "\n",
    "// standard imports\n",
    "import android.app.Activity\n",
    "import android.os.Bundle\n",
    "import android.view.View\n",
    "import android.widget.EditText\n",
    "import android.widget.Toast\n",
    "\n",
    "class MainActivity : Activity() {\n",
    "    private var edittext: EditText? =null\n",
    "\n",
    "    override fun onCreate(savedInstanceState: Bundle?) {\n",
    "        super.onCreate(savedInstanceState)\n",
    "        // related to UI's\n",
    "        setContentView(R.layout.activity_main)\n",
    "        // define var with espect to UI\n",
    "        edittext =findViewById(R.id.edittext)\n",
    "    }\n",
    "    \n",
    "    // define the functions waiting service while button's, in UI's Buttons', clicked,    \n",
    "    fun onClick(view: View)\n",
    "    {\n",
    "         edittext?.setText(\"Hello Kotlin!\")\n",
    "    }\n",
    "    fun onClick_toast(view:View)\n",
    "    {\n",
    "        Toast.makeText(this,edittext?.text, Toast.LENGTH_LONG).show()\n",
    "    }\n",
    "}\n",
    "\n",
    "```\n",
    "In brief, display the UI and wait for button clicking  for service."
   ]
  },
  {
   "cell_type": "markdown",
   "metadata": {},
   "source": [
    "Note\n",
    "---\n",
    "\n",
    "Should Android Studio run *off-line* possibly? Theoretically, yes. However, running online at the project first created is better since it could download the absent packages automatically if has. The error due to such kind of failure to create project can be removed by deleting unnecessary <font color=\"brown\">dependencies</font> setting in <font color=\"red\">grandle.build(app)</font>:\n",
    "```XML\n",
    "    ...\n",
    "    androidTestCompile('com.android.support.test.espresso:espresso-core:2.2.2', {\n",
    "        exclude group: 'com.android.support', module: 'support-annotations'\n",
    "    })\n",
    "    ...\n",
    "```    \n",
    "<img src=\"imgs/1/AndroidStudio-12.png\" widyh=80%>"
   ]
  },
  {
   "cell_type": "markdown",
   "metadata": {},
   "source": [
    "Image Staff\n",
    "---\n",
    "Put the image in the the layout, add <font color=\"brown\">ImageView</font> in <font color=\"green\">activity_main.xml</font>:\n",
    "```XML\n",
    "    <ImageView\n",
    "        android:layout_width=\"wrap_content\"\n",
    "        android:layout_height=\"wrap_content\"\n",
    "        app:srcCompat=\"@mipmap/flower\"\n",
    "        android:layout_marginStart=\"24dp\"\n",
    "        android:id=\"@+id/flower\" />\n",
    "\n",
    "    <TextView\n",
    "        android:layout_width=\"wrap_content\"\n",
    "        android:layout_height=\"wrap_content\"\n",
    "        android:layout_toRightOf=\"@+id/flower\"\n",
    "        android:text=\"How wonderful the flower of cactus is alive!\"\n",
    "        android:layout_marginLeft=\"5dp\"\n",
    "        android:id=\"@+id/textView\" />\n",
    "```\n",
    "the introduced text was put next to the right site of Image."
   ]
  },
  {
   "cell_type": "markdown",
   "metadata": {},
   "source": [
    "Self Train\n",
    "---\n",
    "Make your own message (card)."
   ]
  },
  {
   "cell_type": "code",
   "execution_count": null,
   "metadata": {
    "collapsed": true
   },
   "outputs": [],
   "source": []
  },
  {
   "cell_type": "markdown",
   "metadata": {
    "internals": {
     "frag_helper": "fragment_end",
     "frag_number": 5,
     "slide_helper": "subslide_end",
     "slide_type": "subslide"
    },
    "slide_helper": "subslide_end",
    "slideshow": {
     "slide_type": "subslide"
    }
   },
   "source": [
    "- How do you work with data (the simplest way)\n",
    "  - Ms Office Suit\n",
    "  - $\\TeX$\n",
    "  - ...\n",
    "     \n",
    "    Do you satisfy?\n",
    "  \n",
    "  "
   ]
  },
  {
   "cell_type": "markdown",
   "metadata": {
    "internals": {
     "frag_helper": "fragment_end",
     "frag_number": 5,
     "slide_helper": "subslide_end",
     "slide_type": "subslide"
    },
    "slide_helper": "slide_end",
    "slideshow": {
     "slide_type": "subslide"
    }
   },
   "source": [
    "      Nothing is no more popular than HTML!"
   ]
  },
  {
   "cell_type": "markdown",
   "metadata": {
    "internals": {
     "frag_helper": "fragment_end",
     "frag_number": 5,
     "slide_helper": "subslide_end",
     "slide_type": "subslide"
    },
    "slide_helper": "subslide_end",
    "slideshow": {
     "slide_type": "slide"
    }
   },
   "source": [
    "HTML\n",
    "===\n",
    "A popular format of data suit for any device and anybody!\n",
    "\n",
    "Template\n",
    "---     \n",
    "```XML\n",
    "<html> \n",
    "   <meta name=\"viewport\" content=\"user-scalable=no, initial-scale=1, maximum-scale=1, minimum-scale=1, width=device-width, height=device-height, target-densitydpi=device-dpi\" />\n",
    "   <head>Page Title</head>\n",
    "   <script type=\"text/javascript\">...</script>\n",
    "   <style type=\"text/css\">...</style>\n",
    "   <body>\n",
    "      I'm here.\n",
    "   </body> \n",
    "</html>\n",
    "```     "
   ]
  },
  {
   "cell_type": "markdown",
   "metadata": {
    "internals": {
     "frag_helper": "fragment_end",
     "frag_number": 5,
     "slide_helper": "subslide_end",
     "slide_type": "subslide"
    },
    "slide_helper": "subslide_end",
    "slideshow": {
     "slide_type": "subslide"
    }
   },
   "source": [
    "- (verbatim mode) I'm here, \n",
    "- <big>I'm here</big>, ( by &lt;big&gt;... &lt;/big&gt; tag)\n",
    "- <i>I'm here</i>, ( by &lt;i&gt;... &lt;i&gt; tag)\n",
    "- <font color=\"red\">I'm here</font>, ( by &lt;font color=\"red\"&gt;... &lt;/color&gt; tag)"
   ]
  },
  {
   "cell_type": "code",
   "execution_count": 7,
   "metadata": {},
   "outputs": [
    {
     "data": {
      "text/html": [
       "<iframe src=1/here.html width=50% height=20%></iframe>"
      ],
      "text/plain": [
       "<IPython.core.display.HTML object>"
      ]
     },
     "execution_count": 7,
     "metadata": {},
     "output_type": "execute_result"
    }
   ],
   "source": [
    "from IPython.display import HTML\n",
    "HTML(\"<iframe src=1/here.html width=50% height=20%></iframe>\")"
   ]
  },
  {
   "cell_type": "markdown",
   "metadata": {},
   "source": [
    "Code \n",
    "---\n",
    "```html\n",
    "<html> \n",
    "   <meta name=\"viewport\" content=\"user-scalable=no, initial-scale=1, \n",
    "     maximum-scale=1, minimum-scale=1, \n",
    "     width=device-width, height=device-height\" />\n",
    "   <body>\n",
    "      I'm here.<br>\n",
    "       <font color=\"red\"> I'm here.</font><br>\n",
    "       <code style=\"background-color:red;color:white;\"> I'm here.</code><br>\n",
    "   </body> \n",
    "</html>\n",
    "```"
   ]
  },
  {
   "cell_type": "markdown",
   "metadata": {
    "internals": {
     "frag_helper": "fragment_end",
     "frag_number": 5,
     "slide_helper": "subslide_end",
     "slide_type": "subslide"
    },
    "slide_helper": "subslide_end",
    "slideshow": {
     "slide_type": "subslide"
    }
   },
   "source": [
    "Note\n",
    "---\n",
    " The *meta* tag with \"viewport\" used above is initially introduced for recent mobile devices device but is also popular in general HTML codes. "
   ]
  },
  {
   "cell_type": "markdown",
   "metadata": {
    "internals": {
     "frag_helper": "fragment_end",
     "frag_number": 5,
     "slide_helper": "subslide_end",
     "slide_type": "subslide"
    },
    "slide_helper": "subslide_end",
    "slideshow": {
     "slide_type": "subslide"
    }
   },
   "source": [
    "HTML Programming Environment\n",
    "---\n",
    "\n",
    "- HTML, CSS and Javascript\n",
    "\n",
    "- Development Tool: Seamonkey,Gimp"
   ]
  },
  {
   "cell_type": "markdown",
   "metadata": {
    "internals": {
     "frag_helper": "fragment_end",
     "frag_number": 5,
     "slide_helper": "subslide_end",
     "slide_type": "subslide"
    },
    "slide_helper": "slide_end",
    "slideshow": {
     "slide_type": "subslide"
    }
   },
   "source": [
    "\n",
    "        "
   ]
  },
  {
   "cell_type": "markdown",
   "metadata": {
    "internals": {
     "frag_helper": "fragment_end",
     "frag_number": 5,
     "slide_type": "subslide"
    },
    "slideshow": {
     "slide_type": "slide"
    }
   },
   "source": [
    "Second Lecture (Interactivity)\n",
    "===\n",
    "\n",
    "Input a number, $X$, and calculate its square power, $X^2$:\n"
   ]
  },
  {
   "cell_type": "code",
   "execution_count": 2,
   "metadata": {},
   "outputs": [
    {
     "data": {
      "text/html": [
       "<iframe src=1/Square.html width=50% height=50%></iframe>"
      ],
      "text/plain": [
       "<IPython.core.display.HTML object>"
      ]
     },
     "execution_count": 2,
     "metadata": {},
     "output_type": "execute_result"
    }
   ],
   "source": [
    "from IPython.display import HTML\n",
    "HTML(\"<iframe src=1/Square.html width=50% height=50%></iframe>\")"
   ]
  },
  {
   "cell_type": "markdown",
   "metadata": {
    "internals": {
     "frag_helper": "fragment_end",
     "frag_number": 21,
     "slide_helper": "subslide_end"
    },
    "slide_helper": "subslide_end",
    "slideshow": {
     "slide_type": "fragment"
    }
   },
   "source": [
    "### <script type=\"text/javascript\">\n",
    "      function calcSquare(real)\n",
    "      {\n",
    "       // deal the values of variables passed from HTML codes\n",
    "        var result=real*real;       \n",
    "        document.getElementById('boldStuff').innerHTML = result; \n",
    "      }  \n",
    "</script>\n",
    "\n",
    "<form action=\"#\">\n",
    "   <div style=\"font-family: Georgia, serif;background-color:gainsboro; border:solid black; width:500px; padding:20px;\">\n",
    "   Input:\n",
    "   <input id=\"real\" type=\"numeric\" name=\"real\" min=\"0\" max=\"100\" step=\"1\" value=\"6\"> \n",
    "   <br>\n",
    "   <p>\n",
    "   Squre of input = <b id=\"boldStuff\">36</b>\n",
    "   <br>\n",
    "   <input value=\"Calculate\" onclick=\"calcSquare(this.form.real.value)\" type=\"button\"> \n",
    "   </div>\n",
    "</form>"
   ]
  },
  {
   "cell_type": "markdown",
   "metadata": {
    "internals": {
     "frag_helper": "fragment_end",
     "frag_number": 21,
     "slide_type": "subslide"
    },
    "slideshow": {
     "slide_type": "subslide"
    }
   },
   "source": [
    "Main HTML Part\n",
    "---\n",
    "\n",
    "define a form, waiting for data input to work:"
   ]
  },
  {
   "cell_type": "markdown",
   "metadata": {
    "internals": {
     "frag_helper": "fragment_end",
     "frag_number": 23,
     "slide_helper": "subslide_end"
    },
    "slide_helper": "subslide_end",
    "slideshow": {
     "slide_type": "fragment"
    }
   },
   "source": [
    "```html\n",
    "   <form action=\"#\">\n",
    "     Input:\n",
    "     <input id=\"real\" type=\"numeric\" name=\"real\"\n",
    "            min=\"0\" max=\"100\" step=\"1\" value=\"6\"> \n",
    "     <br>\n",
    "        Squre of input = <b id=\"boldStuff\">36</b>\n",
    "     <br>\n",
    "     <input value=\"Calculate\"\n",
    "        onclick=\"calcSquare(this.form.real.value)\" \n",
    "        type=\"button\"> \n",
    "   </form>\n",
    "   ```"
   ]
  },
  {
   "cell_type": "markdown",
   "metadata": {
    "internals": {
     "frag_helper": "fragment_end",
     "frag_number": 23,
     "slide_type": "subslide"
    },
    "slideshow": {
     "slide_type": "subslide"
    }
   },
   "source": [
    "Javascript Function\n",
    "---\n",
    "Calculate the square of Input:"
   ]
  },
  {
   "cell_type": "markdown",
   "metadata": {
    "internals": {
     "frag_helper": "fragment_end",
     "frag_number": 25
    },
    "slideshow": {
     "slide_type": "fragment"
    }
   },
   "source": [
    "```javascript\n",
    "    <script type=\"text/javascript\">\n",
    "        function calcSquare(real)\n",
    "        {          \n",
    "          var result=real*real;\n",
    "          document.getElementById('boldStuff').innerHTML = result; \n",
    "        }  \n",
    "    </script>\n",
    "```"
   ]
  },
  {
   "cell_type": "markdown",
   "metadata": {
    "internals": {
     "frag_helper": "fragment_end",
     "frag_number": 26,
     "slide_helper": "subslide_end"
    },
    "slide_helper": "slide_end",
    "slideshow": {
     "slide_type": "fragment"
    }
   },
   "source": [
    "or\n",
    "\n",
    "```javascript\n",
    "    <script type=\"text/javascript\">\n",
    "        function calcSquare()\n",
    "        {\n",
    "          var realval=document.getElementById('real').value;\n",
    "          var result=realval*realval;\n",
    "          document.getElementById('boldStuff').innerHTML = result; \n",
    "        }  \n",
    "    </script>```\n"
   ]
  },
  {
   "cell_type": "code",
   "execution_count": 2,
   "metadata": {
    "collapsed": true,
    "internals": {
     "frag_helper": "fragment_end",
     "frag_number": 26,
     "slide_helper": "subslide_end",
     "slide_type": "subslide"
    },
    "slide_helper": "subslide_end",
    "slideshow": {
     "slide_type": "slide"
    }
   },
   "outputs": [],
   "source": [
    "from IPython.display import HTML"
   ]
  },
  {
   "cell_type": "code",
   "execution_count": 3,
   "metadata": {
    "collapsed": true,
    "internals": {
     "frag_helper": "fragment_end",
     "frag_number": 26,
     "slide_helper": "subslide_end",
     "slide_type": "subslide"
    },
    "slide_helper": "slide_end",
    "slideshow": {
     "slide_type": "subslide"
    }
   },
   "outputs": [],
   "source": [
    "HTMLcode=\"\"\"\n",
    "<form action=\"#\">\n",
    "   Input:\n",
    "   <input id=\"real\" type=\"numeric\" name=\"real\" min=\"0\" max=\"100\" step=\"1\" value=\"6\"> \n",
    "   <br>\n",
    "   <p>\n",
    "   Squre of input = <b id=\"boldStuff\">36</b>\n",
    "   <br>\n",
    "   <input value=\"Calculate\" onclick=\"calcSquare(this.form.real.value)\" type=\"button\"> \n",
    "</form>\n",
    "\"\"\"\n",
    "JScode=\"\"\"\n",
    "<script>\n",
    "      function calcSquare(input)\n",
    "      {\n",
    "        // deal the values of variables passed from HTML codes\n",
    "        var result=input*input;       \n",
    "        document.getElementById('boldStuff').innerHTML = result; \n",
    "      }  \n",
    "</script>\n",
    "\"\"\""
   ]
  },
  {
   "cell_type": "code",
   "execution_count": 4,
   "metadata": {
    "internals": {
     "frag_helper": "fragment_end",
     "frag_number": 26,
     "slide_helper": "subslide_end",
     "slide_type": "subslide"
    },
    "slide_helper": "subslide_end",
    "slideshow": {
     "slide_type": "slide"
    }
   },
   "outputs": [
    {
     "data": {
      "text/html": [
       "\n",
       "<script>\n",
       "      function calcSquare(input)\n",
       "      {\n",
       "        // deal the values of variables passed from HTML codes\n",
       "        var result=input*input;       \n",
       "        document.getElementById('boldStuff').innerHTML = result; \n",
       "      }  \n",
       "</script>\n",
       "\n",
       "<form action=\"#\">\n",
       "   Input:\n",
       "   <input id=\"real\" type=\"numeric\" name=\"real\" min=\"0\" max=\"100\" step=\"1\" value=\"6\"> \n",
       "   <br>\n",
       "   <p>\n",
       "   Squre of input = <b id=\"boldStuff\">36</b>\n",
       "   <br>\n",
       "   <input value=\"Calculate\" onclick=\"calcSquare(this.form.real.value)\" type=\"button\"> \n",
       "</form>\n"
      ],
      "text/plain": [
       "<IPython.core.display.HTML object>"
      ]
     },
     "execution_count": 4,
     "metadata": {},
     "output_type": "execute_result"
    }
   ],
   "source": [
    "HTML(JScode+HTMLcode)"
   ]
  },
  {
   "cell_type": "markdown",
   "metadata": {
    "internals": {
     "frag_helper": "fragment_end",
     "frag_number": 26,
     "slide_helper": "subslide_end",
     "slide_type": "subslide"
    },
    "slide_helper": "subslide_end",
    "slideshow": {
     "slide_type": "subslide"
    }
   },
   "source": [
    "Note\n",
    "---\n",
    "\n",
    "- above result enhanced by some CSS\n",
    "\n",
    "```XML\n",
    "   <div style=\"font-family: Georgia, serif;background-color:gainsboro; border:solid black; width:300px; padding:20px;\">\n",
    "\n",
    "```"
   ]
  },
  {
   "cell_type": "markdown",
   "metadata": {
    "internals": {
     "frag_helper": "fragment_end",
     "frag_number": 26,
     "slide_helper": "subslide_end",
     "slide_type": "subslide"
    },
    "slide_helper": "subslide_end",
    "slideshow": {
     "slide_type": "subslide"
    }
   },
   "source": [
    "- same effect by standard CSS syntax\n",
    "\n",
    "```CSS\n",
    "   <style type=\"text/css\">\n",
    "      form,input {\n",
    "            font-family:  Georgia, serif;\n",
    "      }\n",
    "   </style>   \n",
    "```"
   ]
  },
  {
   "cell_type": "code",
   "execution_count": 5,
   "metadata": {
    "collapsed": true,
    "internals": {
     "frag_helper": "fragment_end",
     "frag_number": 26,
     "slide_helper": "subslide_end",
     "slide_type": "subslide"
    },
    "slide_helper": "slide_end",
    "slideshow": {
     "slide_type": "subslide"
    }
   },
   "outputs": [],
   "source": [
    "HTMLcode=\"\"\"\n",
    "<div style=\"font-family: Georgia, serif;background-color:gainsboro; border:solid black; width:300px; padding:20px;\">\n",
    "<form action=\"#\">\n",
    "   Input:\n",
    "   <input id=\"real\" type=\"numeric\" name=\"real\" min=\"0\" max=\"100\" step=\"1\" value=\"6\"> \n",
    "   <br>\n",
    "   <p>\n",
    "   Squre of input = <b id=\"boldStuff\">36</b>\n",
    "   <br>\n",
    "   <input value=\"Calculate\" onclick=\"calcSquare(this.form.real.value)\" type=\"button\"> \n",
    "</form></div>\n",
    "\"\"\"\n",
    "JScode=\"\"\"\n",
    "<script>\n",
    "      function calcSquare(input)\n",
    "      {\n",
    "        // deal the values of variables passed from HTML codes\n",
    "        var result=input*input;\n",
    "        var kernel = IPython.notebook.kernel;\n",
    "        var callbacks = {'output' : handle_output};\n",
    "        document.getElementById('boldStuff').innerHTML = result; \n",
    "      }  \n",
    "</script>\n",
    "\"\"\""
   ]
  },
  {
   "cell_type": "code",
   "execution_count": 6,
   "metadata": {
    "internals": {
     "frag_helper": "fragment_end",
     "frag_number": 26,
     "slide_helper": "subslide_end",
     "slide_type": "subslide"
    },
    "slide_helper": "subslide_end",
    "slideshow": {
     "slide_type": "slide"
    }
   },
   "outputs": [
    {
     "data": {
      "text/html": [
       "\n",
       "<script>\n",
       "      function calcSquare(input)\n",
       "      {\n",
       "        // deal the values of variables passed from HTML codes\n",
       "        var result=input*input;\n",
       "        var kernel = IPython.notebook.kernel;\n",
       "        var callbacks = {'output' : handle_output};\n",
       "        document.getElementById('boldStuff').innerHTML = result; \n",
       "      }  \n",
       "</script>\n",
       "\n",
       "<div style=\"font-family: Georgia, serif;background-color:gainsboro; border:solid black; width:300px; padding:20px;\">\n",
       "<form action=\"#\">\n",
       "   Input:\n",
       "   <input id=\"real\" type=\"numeric\" name=\"real\" min=\"0\" max=\"100\" step=\"1\" value=\"6\"> \n",
       "   <br>\n",
       "   <p>\n",
       "   Squre of input = <b id=\"boldStuff\">36</b>\n",
       "   <br>\n",
       "   <input value=\"Calculate\" onclick=\"calcSquare(this.form.real.value)\" type=\"button\"> \n",
       "</form></div>\n"
      ],
      "text/plain": [
       "<IPython.core.display.HTML object>"
      ]
     },
     "execution_count": 6,
     "metadata": {},
     "output_type": "execute_result"
    }
   ],
   "source": [
    "HTML(JScode+HTMLcode)"
   ]
  },
  {
   "cell_type": "markdown",
   "metadata": {},
   "source": [
    "Code (HTML+CSS+Javascript)\n",
    "---\n",
    "```html\n",
    "<html> \n",
    "   <meta name=\"viewport\" content=\"user-scalable=no, initial-scale=1, maximum-scale=1, minimum-scale=1, width=device-width, height=device-height\" />\n",
    "   <style type=\"text/css\">\n",
    "      form {\n",
    "            font-family:  Georgia, serif;\n",
    "            background-color:gainsboro; \n",
    "            border:solid black; \n",
    "            width:300px; \n",
    "            padding:20px;\n",
    "      }\n",
    "      input {\n",
    "            font-family:  Georgia, serif;\n",
    "      } \n",
    "   </style>\n",
    "    \n",
    "   <body>\n",
    "      <form action=\"#\">\n",
    "     Input:\n",
    "     <input id=\"real\" type=\"numeric\" name=\"real\"\n",
    "            min=\"0\" max=\"100\" step=\"1\" value=\"6\"> \n",
    "     <p />\n",
    "        Squre of input = <b id=\"boldStuff\">36</b>\n",
    "     <br>\n",
    "     <input value=\"Calculate\"\n",
    "        onclick=\"calcSquare(this.form.real.value)\" \n",
    "        type=\"button\"> \n",
    "   </form>\n",
    "   <script type=\"text/javascript\">\n",
    "        function calcSquare(real)\n",
    "        {          \n",
    "          var result=real*real;\n",
    "          document.getElementById('boldStuff').innerHTML = result; \n",
    "        }  \n",
    "    </script>  \n",
    "   </body> \n",
    "</html>\n",
    "```"
   ]
  },
  {
   "cell_type": "markdown",
   "metadata": {
    "internals": {
     "frag_helper": "fragment_end",
     "frag_number": 26,
     "slide_helper": "subslide_end",
     "slide_type": "subslide"
    },
    "slide_helper": "slide_end",
    "slideshow": {
     "slide_type": "slide"
    }
   },
   "source": [
    "Computer Practice, App Packing \n",
    "===\n",
    "**1.** create new project:\n",
    "```\n",
    "   Application Name:  first\n",
    "   Module Name:       first\n",
    "   Package Name:      android.com\n",
    "```\n"
   ]
  },
  {
   "cell_type": "markdown",
   "metadata": {},
   "source": [
    "**2.** Edit your application's <font color=\"#0000ff\">res/<code>activity_main.xml</code></font>\n",
    "file:<br>\n",
    "```XML\n",
    "<?xml version=\"1.0\" encoding=\"utf-8\"?>\n",
    "<LinearLayout xmlns:android=\"http://schemas.android.com/apk/res/android\"\n",
    "    xmlns:app=\"http://schemas.android.com/apk/res-auto\"\n",
    "    xmlns:tools=\"http://schemas.android.com/tools\"\n",
    "    android:layout_width=\"match_parent\"\n",
    "    android:layout_height=\"match_parent\"\n",
    "    tools:context=\"android.com.first.MainActivity\">\n",
    "\n",
    "    <WebView android:id=\"@+id/webview1\"\n",
    "        android:layout_width=\"match_parent\"\n",
    "        android:layout_height=\"match_parent\" >\n",
    "    </WebView>\n",
    "</LinearLayout>\n",
    "\n",
    "```\n",
    "a). change layout to LinearLayout b). create a webview, named \"webview1\", for HTML output.    \n",
    "    \n",
    "<br>"
   ]
  },
  {
   "cell_type": "markdown",
   "metadata": {},
   "source": [
    "**3**. modify AndroidManifest.xml by adding the following permissions after **manifest** tag:\n",
    "```XML    \n",
    "    <uses-permission android:name=\"android.permission.INTERNET\" />\n",
    "```        "
   ]
  },
  {
   "cell_type": "markdown",
   "metadata": {},
   "source": [
    "**4.** Add HTML codes\n",
    "\n",
    "copy all the files into the directory $Project/app/src/main/assets, especially the html, index.html;"
   ]
  },
  {
   "cell_type": "markdown",
   "metadata": {},
   "source": [
    "**5**. Modify Main Java code:\n",
    "```java    \n",
    "package android.com.first\n",
    "\n",
    "import android.support.v7.app.AppCompatActivity;\n",
    "//import android.app.Activity;\n",
    "import android.os.Bundle;\n",
    "import android.webkit.WebView;\n",
    "\n",
    "public class MainActivity extends AppCompatActivity {\n",
    "    \n",
    "    private WebView mwebview;\n",
    "    \n",
    "    @Override\n",
    "    protected void onCreate(Bundle savedInstanceState) {\n",
    "        super.onCreate(savedInstanceState);\n",
    "        setContentView(R.layout.activity_main);\n",
    "       \n",
    "        mwebview = (WebView) findViewById(R.id.webview1);  \n",
    "        mwebview.getSettings().setJavaScriptEnabled(true);\n",
    "        mwebview.loadUrl(\"file:///android_asset/index.html\");\n",
    "    }\n",
    "\n",
    "}\n",
    "```\n",
    "And last, run the app by emulator or on your mobile device."
   ]
  },
  {
   "cell_type": "markdown",
   "metadata": {},
   "source": [
    "- Complete all the steps of the example."
   ]
  },
  {
   "cell_type": "markdown",
   "metadata": {
    "internals": {
     "frag_helper": "fragment_end",
     "frag_number": 26,
     "slide_helper": "subslide_end",
     "slide_type": "subslide"
    },
    "slide_helper": "slide_end",
    "slideshow": {
     "slide_type": "slide"
    }
   },
   "source": [
    "Next Lecture\n",
    "---\n",
    "How to make an App with the HTML contents:\n",
    " \n",
    "- [Hello World (ipynb)](1/index.ipynb)   \n",
    "- [Hello World (HTML)](1/index.html)     "
   ]
  },
  {
   "cell_type": "markdown",
   "metadata": {
    "internals": {
     "frag_helper": "fragment_end",
     "frag_number": 26,
     "slide_helper": "subslide_end",
     "slide_type": "subslide"
    },
    "slide_helper": "slide_end",
    "slideshow": {
     "slide_type": "slide"
    }
   },
   "source": [
    "\n",
    "<h2>App's Internationalization (i18n)</h2>\n",
    "1. Startup **Android Studio** (or **Eclipse**) and create a project, named \"test\";\n",
    "- Structure of projects, *src,res/[layout,values]*;\n",
    "- Setup \"run configuration\", create a new AVD, and test it;\n",
    "- copy whole the directory, res/values, and rename as <font color=\"brown\">\"res/values-zh-rTW\"</font> for **Traditional Chinese Language**;\n",
    "- modify **string.xml** in the directory ceated by last step into Traditional Chinese;\n",
    "- change language of AVD to test the locale.\n",
    "- use mobile device as the test system. \n",
    " "
   ]
  },
  {
   "cell_type": "markdown",
   "metadata": {},
   "source": [
    "Note\n",
    "---\n",
    "1. Change layout Orientation:\n",
    "   - Switch layout orientation portrait/landscape backwards [AVD]\n",
    "   - modify AndroidManifest.xml as follows:\n",
    "   ```XML\n",
    "   <activity\n",
    "        android:name=\".ActivityName\"\n",
    "        android:screenOrientation=\"landscape\" >\n",
    "   ```    \n",
    "2. Remove title bar: open ```res/values/style.xml``` and change ```.DarkActionBar``` for ```.NoActionBar```.\n",
    "3. prevant to restart activity while orientation was changed, \n",
    "   ```XML\n",
    "   <activity\n",
    "        android:name=\".ActivityName\"\n",
    "        android:screenOrientation=\"landscape\" \n",
    "        android:configChanges=\"orientation|screenSize\" >\n",
    "   ```     "
   ]
  },
  {
   "cell_type": "markdown",
   "metadata": {},
   "source": [
    "Kotlin Android\n",
    "---\n",
    "* start from Android Studio -3,* Convert Java to Kotlin manually:\n",
    "---\n",
    "\n",
    "1. <div style=\"font-family: Georgia;color:lighr blue;background-color:lightgrey;width:240px; padding:10px;\"> [Pref > Plugins > search “Kotlin” ]</div> and install it;\n",
    "- restart Android Studio, and click ```[shift]```-key twice to activae help windows and input (```\"convert to java ...\"```) to convert java to kotlin automatically and this step should ask to set up kotlin's configuration too.\n",
    "  - Windows: [ ctrl + alt + shift +k]\n",
    "  - Mac OS: [shift+option+command+k]\n",
    "  - menu: choose [project ▶︎ app ▶︎ jave], and Main munu [code] ▷ [convert java to kotlin] \n",
    "  - Android should remind to synchronize the project to work.\n",
    "- try AVD again.\n"
   ]
  },
  {
   "cell_type": "markdown",
   "metadata": {},
   "source": [
    "Note\n",
    "---\n",
    "Assignment this week,\n",
    "[News about HTC and Google deal](m.appledaily.tw/realtimenews/article/hot/20170921/1208209),\n",
    "1. why does the HTC depressed so much recently?\n",
    "- Compare all the specification of the flahship handsets of the market leaders in the mobile-device market.\n",
    "- Your opion in such deal."
   ]
  },
  {
   "cell_type": "code",
   "execution_count": 2,
   "metadata": {
    "internals": {
     "frag_helper": "fragment_end",
     "frag_number": 26,
     "slide_helper": "subslide_end",
     "slide_type": "subslide"
    },
    "slide_helper": "slide_end",
    "slideshow": {
     "slide_type": "slide"
    }
   },
   "outputs": [
    {
     "name": "stderr",
     "output_type": "stream",
     "text": [
      "[NbConvertApp] Converting notebook Com-2016-1.ipynb to html\n",
      "[NbConvertApp] Writing 285435 bytes to Com-2016-1.html\n"
     ]
    }
   ],
   "source": [
    "%%bash\n",
    "\n",
    "jupyter nbconvert Com-2016-1.ipynb\n"
   ]
  },
  {
   "cell_type": "markdown",
   "metadata": {},
   "source": [
    "<p>\n",
    "<big><big>\n",
    "    <div align=\"center\" style=\"font-size:1.6em;\"> <b>Android Programming</b></div>\n",
    "</big>\n",
    "<p>    \n",
    "    <div align=\"left\" style=\"font-size:1.4em;\"> Dept:&nbsp;&nbsp;&nbsp;&nbsp;&nbsp;&nbsp;&nbsp;&nbsp; &nbsp;&nbsp;&nbsp; Sequence Number:&nbsp;&nbsp;&nbsp;&nbsp;&nbsp;&nbsp;&nbsp;&nbsp; &nbsp;&nbsp;&nbsp;&nbsp;&nbsp;\n",
    "&nbsp;&nbsp;&nbsp;  Name:&nbsp;&nbsp;&nbsp;&nbsp;&nbsp;&nbsp;&nbsp;&nbsp;  </div> \n",
    "</big>    "
   ]
  },
  {
   "cell_type": "markdown",
   "metadata": {},
   "source": [
    "<table style=\"font-size:1.4em;\">\n",
    "<tr align=\"center\">\n",
    "    <th align=\"center\">Week</th><th>Check Point &nbsp;&nbsp;&nbsp;&nbsp;&nbsp;&nbsp;&nbsp;&nbsp; &nbsp;&nbsp;&nbsp;&nbsp;&nbsp;&nbsp;&nbsp;&nbsp;&nbsp;&nbsp;&nbsp;&nbsp; &nbsp;&nbsp;&nbsp;&nbsp;&nbsp;&nbsp;&nbsp;&nbsp;&nbsp;&nbsp;&nbsp;&nbsp; &nbsp;&nbsp;&nbsp;&nbsp;\n",
    "      </th><th>Yes/No</th><th>Date</th>\n",
    "</tr>    \n",
    "<tr>    <td>1</td><td>Android Studio,JDK-8, Android platform 28 with atom image installation</td><td> / </td><td></td>\n",
    "</tr>   \n",
    "<tr>    \n",
    "    <td>2</td> <td>Hello World App</td> <td></td><td></td>\n",
    "</tr> \n",
    "<tr>    \n",
    "    <td>3</td> <td></td> <td></td><td></td>\n",
    "</tr> \n",
    "<tr>    \n",
    "    <td>4</td> <td></td> <td></td><td></td>\n",
    "</tr> <tr>    \n",
    "    <td>5</td> <td></td> <td></td><td></td>\n",
    "</tr> \n",
    "<tr>    \n",
    "    <td>6</td> <td></td> <td></td><td></td>\n",
    "</tr> \n",
    "<tr>    \n",
    "    <td>7</td> <td></td> <td></td><td></td>\n",
    "</tr> \n",
    "<tr>    \n",
    "    <td>8</td> <td></td> <td></td><td></td>\n",
    "</tr> <tr>    \n",
    "    <td>9</td> <td></td> <td></td><td></td>\n",
    "</tr> \n",
    "<tr>    \n",
    "    <td>10</td> <td></td> <td></td><td></td>\n",
    "</tr>\n",
    "<tr>    \n",
    "    <td>11</td> <td></td> <td></td><td></td>\n",
    "</tr> \n",
    "<tr>    \n",
    "    <td>12</td> <td></td> <td></td><td></td>\n",
    "</tr> <tr>    \n",
    "    <td>13</td> <td></td> <td></td><td></td>\n",
    "</tr> \n",
    "<tr>    \n",
    "    <td>14</td> <td></td> <td></td><td></td>\n",
    "</tr> \n",
    "<tr>    \n",
    "    <td>15</td> <td></td> <td></td><td></td>\n",
    "</tr> \n",
    "<tr>    \n",
    "    <td><font style=\"font-family:chalkboard\">Fin</font></td> <td></td> <td></td><td></td>\n",
    "</tr>    \n",
    "</table> \n",
    "</big>    "
   ]
  },
  {
   "cell_type": "code",
   "execution_count": null,
   "metadata": {},
   "outputs": [],
   "source": []
  }
 ],
 "metadata": {
  "kernelspec": {
   "display_name": "Python 3",
   "language": "python",
   "name": "python3"
  },
  "language_info": {
   "codemirror_mode": {
    "name": "ipython",
    "version": 3
   },
   "file_extension": ".py",
   "mimetype": "text/x-python",
   "name": "python",
   "nbconvert_exporter": "python",
   "pygments_lexer": "ipython3",
   "version": "3.6.5"
  },
  "toc": {
   "colors": {
    "hover_highlight": "#DAA520",
    "navigate_num": "#000000",
    "navigate_text": "#333333",
    "running_highlight": "#FF0000",
    "selected_highlight": "#FFD700",
    "sidebar_border": "#EEEEEE",
    "wrapper_background": "#FFFFFF"
   },
   "moveMenuLeft": true,
   "navigate_menu": true,
   "number_sections": true,
   "sideBar": true,
   "threshold": 4,
   "toc_cell": false,
   "toc_section_display": "block",
   "toc_window_display": false,
   "widenNotebook": false
  }
 },
 "nbformat": 4,
 "nbformat_minor": 2
}
