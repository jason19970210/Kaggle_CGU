{
 "cells": [
  {
   "cell_type": "markdown",
   "metadata": {
    "collapsed": true
   },
   "source": [
    "Google Street View App\n",
    "---\n",
    "Google's updated app now supports Cardboard, meaning we can take a virtual tour of just about anywhere.\n",
    "\n",
    "Cardboard, of course, is the cheap virtual-reality headset that works with smartphone. And Street View is the mobile version of Google's ground-level Maps feature. Put the two together and presto: \n",
    "\n",
    "```Now we get a virtual-reality view of anywhere we want to visit in Street View.```\n"
   ]
  },
  {
   "cell_type": "markdown",
   "metadata": {},
   "source": [
    "Street View to Skybox\n",
    "---\n",
    "Download and import package of ```Street View to Skybox``` , ([having Problems](#Note))\n",
    "1. Find it and open in  Unity  \n",
    "<img src=\"imgs/gmap/gmap-1.png\" width=80% />\n",
    "2. Login unity and import it:  \n",
    "<img src=\"imgs/gmap/gmap-2.png\" width=70% />\n",
    "3. Select **[Window]->[Vendor]->[Mk]->[StreetView To Skybox]** input the latitude/longitude of center, found from \n",
    "<a href=\"http://diffusion.cgu.edu.tw/2014/computer/2014-2/GPSCoord-4.html\">address</a> and create the skybox: \n",
    "<img src=\"imgs/gmap/gmap-3.png\" width=90% />\n"
   ]
  },
  {
   "cell_type": "markdown",
   "metadata": {},
   "source": [
    "Note\n",
    "---\n",
    "- <del>While updated to last Unity-5.5.0b11, the unit package can not be download again</del>. Find the download package from\n",
    "\n",
    "` [user/Library/Unity/Asset Store-5.x/Syntetics/Extensions/Street View To SkyBox.unitypackage]`\n",
    "\n",
    "and import from unity main menu:\n",
    "<img  src=\"imgs/unitypackage.png\" width=80% />\n",
    "- <del>but <font color=\"brown\"> Unity-5.5f1</font> works normally again.</de,>"
   ]
  },
  {
   "cell_type": "markdown",
   "metadata": {},
   "source": [
    "4.&nbsp;import [GVR SDK for Unity Version v1.130.1](https://github.com/googlevr/gvr-unity-sdk/releases/download/v1.130.1/GoogleVRForUnity_1.130.1.unitypackage) (2018/05/15) for Unity package by going to: <br>\n",
    "  \n",
    "   - \n",
    "    <font color=\"green\"><b>\n",
    "    Assests > Import Package > Custom Package </b></font> <br>\n",
    "    select the Google Unity Plugin: \n",
    "      - <font color=\"red\">GoogleVRForUnity_1_130.1.unitypackage</font>\n",
    "      - <del><font color=\"brown\">GoogleVRForUnity_1_110.0.unitypackage</font></del>\n",
    "      - <del><font color=\"brown\">CardboardSDKForUnity.unitypackage</font> (pre-0.8)</del> and \n",
    "      - <del><font color=\"brown\">CardboardDemoForUnity.unitypackage</font> (pre-0.8)</del>;\n",
    "     <img src=\"imgs/demo-2018-05/demo-2018-05-04.png\" width=90% /><br>\n",
    "    <!--<img src=\"imgs/unity-1.png\" width=40% /> -->\n",
    "  <!-- - Since Unity 5.6,  native support for cardboard and daydream is supported in unity; this means that no need to create CardboardMain again!.<br>\n",
    "  <del>Open the <font color=\"blue\">**GoogleVR/Prefabs**</font> folder.   Drag  \n",
    "    <font color=\"red\">CardboardMain.prefabs</font> into the <font color=\"blue\">**Hierachy Windows**</font>\n",
    "    <img src=\"imgs/unity-09.png\" width=90% /></del><br>\n",
    "  -->  \n",
    "  -  create new GameObject, renamed as `Player`, add `Camera` and `GVR SDK → Prefabs → GvrEditorEmulator` under Player object.\n",
    "<img src=\"imgs/demo-2018-05/demo-2018-05-05.png\" width=80% />\n",
    "<img src=\"imgs/demo-2018-05/demo-2018-05-06.png\" width=80% />\n",
    "\n",
    "\n",
    "<del>If nothing option was found in last step, drag ```Standard Assets``` into [Project] Assets. </del>\n",
    "\n",
    "5.&nbsp;Import package from **[Assets]->[Import package]->[Characters]** and \n",
    "<img src=\"imgs/gmap/gmap-4.png\" width=90% />\n",
    "5.&nbsp; From right column, add component, **[First Person Controller]**, for *CardboardMain* in Hierarchy Windows: \n",
    "<img src=\"imgs/gmap/gmap-5.png\" width=30% />\n",
    "\n"
   ]
  },
  {
   "cell_type": "markdown",
   "metadata": {},
   "source": [
    "Skybox\n",
    "---\n",
    "1. Add Skybox by **[Component]->[Rendering]->[Skybox]** \n",
    "<img src=\"imgs/gmap/gmap-6.png\" width=90% />\n",
    "2. In <font color=\"blue\">**Inspector Windows**</font>, [Add Component] for ```CardboardMain -> Main Camera``` in <font color=\"blue\">**Hierachy Windows**</font>,\n",
    "<img src=\"imgs/gmap/gmap-7.png\" width=30% />\n",
    "also change the property of ```Skybox```,\n",
    "<img src=\"imgs/gmap/gmap-8.png\" width=30% />\n",
    "and the property of ```clear flags``` to *Skybox* in **Camera**,\n",
    "<img src=\"imgs/gmap/gmap-9.png\" width=30% />"
   ]
  },
  {
   "cell_type": "markdown",
   "metadata": {},
   "source": [
    "Now we can test it or build the app."
   ]
  },
  {
   "cell_type": "markdown",
   "metadata": {},
   "source": [
    "Note (2018-05-15 update)\n",
    "---\n",
    "<img src=\"imgs/demo-2018-05/unity_sound.png\" width=90% /><br>\n",
    "<del>\n",
    "1. Sound Effect: \n",
    "   - add the sound file by importing [new Asset] or dragging the file into certain folder:\n",
    "\n",
    "   - Add Sount for CardboardMain, [Add Component] -> [Audio] -> [Audio Source]:\n",
    "\n",
    "   - Drag the sound asset into [Audio Source] -> [AudioClip]:\n",
    "\n",
    "2. UI: to test the app, (Apple Case):\n",
    "   - hold [control] key to rotate the scence;\n",
    "   - hold [option] key to look around.\n",
    "</del>\n"
   ]
  },
  {
   "cell_type": "markdown",
   "metadata": {},
   "source": [
    "3.&nbsp; HTML/Javascript codes to get latitude/logitude of position:\n",
    "```html\n",
    "<!doctype html>\n",
    "<html lang=\"en\">\n",
    "<head>\n",
    "\t<meta charset=\"utf-8\" />\n",
    "    <meta name=\"viewport\" content=\"width=device-width, minimum-scale=1, initial-scale=1, user-scalable=no\">\n",
    "    <title></title>\n",
    "\t<script type=\"text/javascript\"   \n",
    "\t   src=\"http://maps.google.com/maps/api/js?sensor=true&v=3&libraries=geometry\"></script>\n",
    "</head>\n",
    "\n",
    "\n",
    "<body>\n",
    "\n",
    "\t<div id=\"map_canvas\" style=\"width: 600px;height: 500px;\"></div>\n",
    "\t<br />\n",
    "\t<label for=\"latitude\">Latitude (緯度):</label>\n",
    "\t<input id=\"latitude\" type=\"text\" value=\"\" />\n",
    "\t<label for=\"longitude\">Longitude (經度):</label>\n",
    "\t<input id=\"longitude\" type=\"text\" value=\"\" />\n",
    "\t\n",
    "\t<br>\n",
    "    <!--\n",
    "    <label>\n",
    "\tThe distance from Chang-Gung University to Destination: <div id=\"distanceAB\"></div>\n",
    "\t<label>\n",
    "    -->\n",
    "<script type=\"text/javascript\">\n",
    "   var myZoom = 16;\n",
    "   var myMarkerIsDraggable = true;\n",
    "   var myCoordsLenght = 12;\n",
    "   var defaultLat = 25.01743594338596;\n",
    "   var defaultLng = 121.540956;\n",
    "   var loc1 = new google.maps.LatLng(25.033515487308918, 121.386525133759);\n",
    "   var loc2 = new google.maps.LatLng(25.033515487308918, 121.386525133759);\n",
    "\n",
    "   function initialize() {\n",
    "      var mapOptions = {\n",
    "          center: new google.maps.LatLng(defaultLat,defaultLng),\n",
    "          zoom: myZoom,\n",
    "          mapTypeId: google.maps.MapTypeId.ROADP\n",
    "      };\n",
    "      var map = new google.maps.Map(document.getElementById(\"map_canvas\"),mapOptions);\n",
    "    \n",
    "      // creates a draggable marker to the given coords    \n",
    "      var myMarker = new google.maps.Marker({\n",
    "          position: new google.maps.LatLng(defaultLat, defaultLng),\n",
    "          draggable: myMarkerIsDraggable\n",
    "      }); \n",
    "\n",
    "\n",
    "      google.maps.event.addListener(myMarker, 'dragend', function(evt){  \n",
    "        var newLat=evt.latLng.lat();\n",
    "        var newLng=evt.latLng.lng().toFixed(myCoordsLenght);\n",
    "\t    document.getElementById('latitude').value = newLat;\n",
    "\t    document.getElementById('longitude').value = newLng;\n",
    "\t    var loc2 = new google.maps.LatLng(newLat, newLng);\n",
    "      });\n",
    "    \n",
    "      // centers the map on markers coords\n",
    "      map.setCenter(myMarker.position);\n",
    "\n",
    "      // adds the marker on the map\n",
    "      myMarker.setMap(map);\n",
    "    }\n",
    "    google.maps.event.addDomListener(window, 'load', initialize); \n",
    "</script>\n",
    "\n",
    "</body>\n",
    "</html>\n",
    "```"
   ]
  },
  {
   "cell_type": "markdown",
   "metadata": {},
   "source": [
    "How to Create Create Panorama Manually\n",
    "---\n",
    "- Got an image;\n",
    "  - Have better to take the image in HDR mode;\n",
    "  - From my Asus padfone, took a snapshoot, connect with Mac botebook pro; pull it from <font color=\"blue\">/HOME/PHONE_MEMORY/DCIM/Camera</font> to Mac;\n",
    "- pull the image into certain folder in Project Windows and rename it if possible;\n",
    "- In [Inspector] Windows,  set the option of [Texture shape] as  <font color=\"brown\">cube</font>,  [mapping] as <font color=\"brown\">Six Frames Layout (Cubic Environment)</font> or  <font color=\"brown\">Latitude-Longitude Layout(Cylindricl)</font>; then  click [Apply] on the bottom to convert it. Test the result by pulling the output on the bottom.\n",
    "- in the same folder of image placed, create a material by right click the mouse botton; \n",
    "  - in [Inspector] Windows, set the [Shader] option as <font color=\"brown\">[skybox -&gt;Cubemap]</font>;\n",
    "  - in [Cubemap (HDR], select the image we jjust converted;\n",
    "- Replace the [Main Camera] Skybox material.\n",
    "Now try the panorama image you had made."
   ]
  },
  {
   "cell_type": "code",
   "execution_count": null,
   "metadata": {
    "collapsed": true
   },
   "outputs": [],
   "source": []
  },
  {
   "cell_type": "code",
   "execution_count": 1,
   "metadata": {},
   "outputs": [
    {
     "name": "stdout",
     "output_type": "stream",
     "text": [
      "[NbConvertApp] Converting notebook Unity-Google-Street-View-2.ipynb to html\n",
      "[NbConvertApp] Writing 265613 bytes to Unity-Google-Street-View-2.html\n"
     ]
    }
   ],
   "source": [
    "!jupyter nbconvert Unity-Google-Street-View-2.ipynb\n"
   ]
  },
  {
   "cell_type": "code",
   "execution_count": null,
   "metadata": {
    "collapsed": true
   },
   "outputs": [],
   "source": []
  }
 ],
 "metadata": {
  "kernelspec": {
   "display_name": "Python 3",
   "language": "python",
   "name": "python3"
  },
  "language_info": {
   "codemirror_mode": {
    "name": "ipython",
    "version": 3
   },
   "file_extension": ".py",
   "mimetype": "text/x-python",
   "name": "python",
   "nbconvert_exporter": "python",
   "pygments_lexer": "ipython3",
   "version": "3.6.1"
  },
  "toc": {
   "colors": {
    "hover_highlight": "#DAA520",
    "navigate_num": "#000000",
    "navigate_text": "#333333",
    "running_highlight": "#FF0000",
    "selected_highlight": "#FFD700",
    "sidebar_border": "#EEEEEE",
    "wrapper_background": "#FFFFFF"
   },
   "moveMenuLeft": true,
   "nav_menu": {
    "height": "120px",
    "width": "252px"
   },
   "navigate_menu": true,
   "number_sections": true,
   "sideBar": true,
   "threshold": 4,
   "toc_cell": false,
   "toc_section_display": "block",
   "toc_window_display": false,
   "widenNotebook": false
  }
 },
 "nbformat": 4,
 "nbformat_minor": 1
}
