{
 "cells": [
  {
   "cell_type": "markdown",
   "metadata": {},
   "source": [
    "Virtual Reality \n",
    "===\n",
    "Unity (<strike>2018.1.0f2</strike> 2018-1) with GVR Unity SDK v1.130.0\n",
    "---\n",
    "(2018/5/5)\n",
    "- <a href=\"https://unity3d.com\">Welcome Unity 2018.1.0f2</a>\n",
    "- <a href=\"https://github.com/googlevr/gvr-unity-sdk/releases\">GVR Unity SDK, 1.130.1</a>\n",
    "\n",
    "No Problem, **Virtual Reality (VR)** is the hottest spot this year, 2016. Before we continue, there are some necessary requirement for implementing the work:\n",
    "\n",
    "- <a href=\"https://www.google.com/get/cardboard/developers/\">BluePrint of Cardboard</a><br>\n",
    "  <img src=\"imgs/Cardboard_M.png\" width=80% />\n",
    "- <a href=\"http://unity3d.com\"> Unity </a>, Certainly not absent here, 5.5.0b11 (16/11/2016);\n",
    "- <a href=\"https://github.com/googlesamples/cardboard-unity\"> Cardboard SDK for Unity </a>, 1.0.3 (till 16/11/2016).\n",
    "- a little idea, :-)\n",
    "\n",
    "News about Google VR SDK (named GVR-unity-sdk now)(<font color=\"red\">2016</font>)\n",
    "---\n",
    "2016, Google announced  [Google VR SDK in Google IO](GoogleVRSDK.ipynb)"
   ]
  },
  {
   "cell_type": "markdown",
   "metadata": {},
   "source": [
    "Assemble Cardboard v2 in Two minutes\n",
    "---"
   ]
  },
  {
   "cell_type": "code",
   "execution_count": 2,
   "metadata": {},
   "outputs": [],
   "source": [
    "from IPython.display import YouTubeVideo"
   ]
  },
  {
   "cell_type": "code",
   "execution_count": 11,
   "metadata": {},
   "outputs": [
    {
     "data": {
      "image/jpeg": "[encoded data removed]",
      "text/html": [
       "\n",
       "        <iframe\n",
       "            width=\"80%\"\n",
       "            height=\"300\"\n",
       "            src=\"https://www.youtube.com/embed/6He2Ff2s3A4\"\n",
       "            frameborder=\"0\"\n",
       "            allowfullscreen\n",
       "        ></iframe>\n",
       "        "
      ],
      "text/plain": [
       "<IPython.lib.display.YouTubeVideo at 0x10f720550>"
      ]
     },
     "execution_count": 11,
     "metadata": {},
     "output_type": "execute_result"
    }
   ],
   "source": [
    "YouTubeVideo('6He2Ff2s3A4' ,width=\"80%\")"
   ]
  },
  {
   "cell_type": "markdown",
   "metadata": {
    "collapsed": true
   },
   "source": [
    "Unity\n",
    "===\n",
    "Unity is a game development platform that can create both 2D and 3D games. It’s cross platform, so it can be used to develop apps for PC, Mac OS X, consoles, iOS, Android, Windows Phone 8, the web, and more.\n",
    "\n",
    "Unity installation Step by Step\n",
    "---\n",
    "1. Download <a href=\"unity3d.org\">UnityDownloadAssisant</a> from official site, for instance 5.6.0f3 (2017/4/20);\n",
    "- As the assistant's default setting,  install unity:\n",
    "<img src=\"imgs/unity-2017-04-24-1.png\" width=50% />\n",
    "<img src=\"imgs/unity-2017-04-24-2.png\" width=50% />\n",
    "<img src=\"imgs/unity-2017-04-24-3.png\" width=50% />\n",
    "<img src=\"imgs/unity-2016-11-5.png\" width=50% />\n",
    "<img src=\"imgs/unity-2016-11-6.png\" width=50% /> \n",
    "While installing Unity via its ```Unity Download Assistant```, also install the platform supports you want to make, for instance ios for Apple mobile devices: \n",
    "<img src=\"imgs/unity_download.png\" width=50% />"
   ]
  },
  {
   "cell_type": "markdown",
   "metadata": {},
   "source": [
    "<strike>Make a Virtual Reality Game with Unity For Google Cardboard</strike>\n",
    "---\n",
    "\n",
    "<strike>\n",
    "\n",
    "**Prerequisites**\n",
    "\n",
    "- [Cardboard Unity Plugin](https://github.com/googlesamples/cardboard-unity) v.0.6 (01/01/2016)\n",
    "  - Modify the file, <font color=\"blue\">[cardboard-unity/Cardboard/Scripts/]</font>*Cardboard.cs* as follows:\n",
    "    \n",
    "    \n",
    "    ```C#\n",
    "    public RenderTexture StereoScreen {\n",
    "    get {\n",
    "      ...\n",
    "      }\n",
    "      return stereoScreen;\n",
    "    }\n",
    "    set {\n",
    "      /// For 5.3.x\n",
    "      if (stereoScreen != null && !stereoScreen.IsCreated()) {\n",
    "          stereoScreen.Create();\n",
    "      }\n",
    "      ///\n",
    "      if (value == stereoScreen) {\n",
    "        return;\n",
    "      }\n",
    "      ...\n",
    "    }\n",
    " \n",
    "    ```\n",
    "    \n",
    "- [Cardboard Unity Plugin] v.0.7 (04/15/2016)\n",
    "- [Cardboard Unity Plugin] v.0.8 (05/20/2016)\n",
    "</strike>"
   ]
  },
  {
   "cell_type": "markdown",
   "metadata": {},
   "source": [
    "GVR Unity SDK\n",
    "---\n",
    "The new name for Google VR SDK for plugin,\n",
    "- <strike>[Version 1.0.3 / 2016/11/21](https://github.com/googlevr/gvr-unity-sdk)</strike>\n",
    "- <strike>[Version 1.4.0 / 2017/4/20](https://github.com/googlevr/gvr-unity-sdk)</strike>\n",
    "- [Version v1.110.0 2017/11/20](https://github.com/googlevr/gvr-unity-sdk/releases/download/v1.110.0/GoogleVRForUnity_1.110.0.unitypackage) for Unity-6 or newer, size about 34 mega bytes\n",
    "- [GVR SDK for Unity, 1.130.1](https://github.com/googlevr/gvr-unity-sdk/releases), 2018-05-08"
   ]
  },
  {
   "cell_type": "code",
   "execution_count": null,
   "metadata": {},
   "outputs": [],
   "source": []
  },
  {
   "cell_type": "markdown",
   "metadata": {},
   "source": [
    "Brief of Steps of Using Unity with Sample Project \n",
    "---\n",
    "Reference the <a href=\"https://developers.google.com/vr/unity/get-started-android\">official documentation</a>,\n",
    "let us to explore the first <strike>Cardboad</strike> <font color=\"brown\">GVR app</font> by unity:\n",
    "\n",
    "1. Open Unity, creating a new project.\n",
    "<img src=\"imgs/demo-2016-11/demo-2017-04-1.png\" width=90% />\n",
    "<img src=\"imgs/demo-2018-05/demo-2018-05-01.png\" width=90% />\n",
    "\n",
    "2. Import the SDK package: **Assets > Import Package > Custom Package**. Select the *GoogleVRSDKForUnity* (<strike>CardboardSDKForUnity</strike>, pre 0,8) unitypackage where you downloaded it and click **Ope**n. Make sure all the boxes are checked in the Importing Package dialog and click **Import**. <u>Note</u>: If you are using Unity 5, you may be warned that the APIs will be automatically upgraded. Accept it and continue if it happens.\n",
    "\n",
    "   - delete any object in Hierarchy Windows, `Main Camera` and `Directional Light`;\n",
    "   - Import the last GVR SDK for Unity, 1.30.1 (2018/05/08):\n",
    "<img src=\"imgs/demo-2018-05/demo-2018-05-02.png\" width=80% />  \n",
    "<img src=\"imgs/demo-2018-05/demo-2018-05-03.png\" width=80% /> \n",
    "<img src=\"imgs/demo-2018-05/demo-2018-05-04.png\" width=80% /> \n",
    "   - create new GameObject, renamed as `Player`, add `Camera` and `GVR SDK → Prefabs → GvrEditorEmulator` under Player object.\n",
    "<img src=\"imgs/demo-2018-05/demo-2018-05-05.png\" width=80% />\n",
    "<img src=\"imgs/demo-2018-05/demo-2018-05-06.png\" width=80% />\n",
    "\n"
   ]
  },
  {
   "cell_type": "markdown",
   "metadata": {},
   "source": [
    "3. In the editor's project panel, navigate to **Assets > GoogleVR > Demos > Scenes** folder and open **GvrDemo**. You should see a scene in which a floating cube is above a plane. Also an new option, GoogleVR, appears at the top menu bar.\n",
    "<img src=\"imgs/demo-2016-11/demo-2017-4-7.png\" width=80% />\n",
    "4. Press **Play**, and you should see the game view showing a stereo rendering of a red cube. Press the **Control** key on your keyboard and move your mouse back and forth to tilt your view. You can also press the **option** button (**Alt** button for Windows) on your keyboard and move your mouse to pan around your view of the VR environment.\n"
   ]
  },
  {
   "cell_type": "markdown",
   "metadata": {},
   "source": [
    "Build and Run APP\n",
    "---\n",
    "Building and deploying above demo to mobile app, for instance Andoid:\n",
    "\n",
    "<pre style=\"color:red;\">\n",
    "   For Windows Users:\n",
    "       Before setup the \"build setting\", have to complete the settings (follows [Preferences/External Tools])\n",
    "          1. install \"WinMerge\" \n",
    "          2. set the path variables where Android SDK and JDK located;\n",
    "          3. ...                     \n",
    "</pre>                        \n",
    "1. In **File > Build Settings**, select **Android** as the platform and  click **Switch Platform**:\n",
    "<img src=\"imgs/demo-2016-11/demo-2016-11-8.png\" width=80% />\n",
    "2. Click Player Settings. Under “Other Settings”, enter a package name into the \"Bundle Identifier\" field (for example, ```com.cgu.first```). Enable ```Virtual Reality```, <font color=\"brown\">Cardboard</font> or Daydream, for instance.\n",
    "Under “Resolution and Presentation”, change the orientation  “Landscape Left”.\n",
    "<img src=\"imgs/demo-2016-11/demo-2017-4-9.png\" width=40% />\n",
    "<img src=\"imgs/demo-2016-11/demo-2016-11-10.png\" width=40% />\n",
    "3. Click **Build and Run**. If prompted for location of the Android SDK, select unzipped SDK at which it had been installed. If not worked for JDK not found, check Unity preference:\n",
    "<img src=\"imgs/demo-2016-11/demo-2016-11-11.png\" width=80% />\n"
   ]
  },
  {
   "cell_type": "code",
   "execution_count": null,
   "metadata": {
    "collapsed": true
   },
   "outputs": [],
   "source": []
  },
  {
   "cell_type": "code",
   "execution_count": 5,
   "metadata": {},
   "outputs": [
    {
     "name": "stdout",
     "output_type": "stream",
     "text": [
      "[NbConvertApp] Converting notebook Unity-Get-Started-2016-11.ipynb to html\n",
      "[NbConvertApp] Writing 258442 bytes to Unity-Get-Started-2016-11.html\n"
     ]
    }
   ],
   "source": [
    "!jupyter nbconvert Unity-Get-Started-2016-11.ipynb"
   ]
  },
  {
   "cell_type": "markdown",
   "metadata": {
    "collapsed": true
   },
   "source": [
    "Google Street View App\n",
    "---\n",
    "1. Add Street View to Skybox,  \n",
    "2. input Latitude/longitude\n",
    "3. get the skybox pictures\n",
    "4. Import FPsControl, Assets -> import package -> Characters\n",
    "5. drag the pictures into Scence"
   ]
  }
 ],
 "metadata": {
  "kernelspec": {
   "display_name": "Python 3",
   "language": "python",
   "name": "python3"
  },
  "language_info": {
   "codemirror_mode": {
    "name": "ipython",
    "version": 3
   },
   "file_extension": ".py",
   "mimetype": "text/x-python",
   "name": "python",
   "nbconvert_exporter": "python",
   "pygments_lexer": "ipython3",
   "version": "3.6.1"
  },
  "toc": {
   "colors": {
    "hover_highlight": "#DAA520",
    "navigate_num": "#000000",
    "navigate_text": "#333333",
    "running_highlight": "#FF0000",
    "selected_highlight": "#FFD700",
    "sidebar_border": "#EEEEEE",
    "wrapper_background": "#FFFFFF"
   },
   "moveMenuLeft": true,
   "nav_menu": {
    "height": "210px",
    "width": "252px"
   },
   "navigate_menu": true,
   "number_sections": true,
   "sideBar": true,
   "threshold": 4,
   "toc_cell": false,
   "toc_section_display": "block",
   "toc_window_display": false,
   "widenNotebook": false
  }
 },
 "nbformat": 4,
 "nbformat_minor": 1
}
