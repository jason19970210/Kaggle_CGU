{
 "cells": [
  {
   "cell_type": "code",
   "execution_count": 1,
   "metadata": {},
   "outputs": [
    {
     "data": {
      "text/html": [
       "<link href='http://fonts.googleapis.com/css?family=Open+Sans:100,300,400,500,700,800,900,100italic,300italic,400italic,500italic,700italic,800italic,900italic' rel='stylesheet' type='text/css'>\n",
       "<link href='http://fonts.googleapis.com/css?family=Arvo:400,700,400italic' rel='stylesheet' type='text/css'>\n",
       "<link href='http://fonts.googleapis.com/css?family=PT+Mono' rel='stylesheet' type='text/css'>\n",
       "<link href='http://fonts.googleapis.com/css?family=Shadows+Into+Light' rel='stylesheet' type='text/css'>\n",
       "<link href='http://fonts.googleapis.com/css?family=Nixie+One' rel='stylesheet' type='text/css'>\n",
       "<style>\n",
       "\n",
       "@font-face {\n",
       "    font-family: \"Computer Modern\";\n",
       "    src: url('http://mirrors.ctan.org/fonts/cm-unicode/fonts/otf/cmunss.otf');\n",
       "}\n",
       "\n",
       "#notebook_panel { /* main background */\n",
       "    background: rgb(245,245,245);\n",
       "}\n",
       "\n",
       "div.cell { /* set cell width */\n",
       "    width: 1000px;\n",
       "}\n",
       "\n",
       "div #notebook { /* centre the content */\n",
       "    background: #fff; /* white background for content */\n",
       "    width: 1200px;\n",
       "    margin: auto;\n",
       "    padding-left: 0em;\n",
       "}\n",
       "\n",
       "#notebook li { /* More space between bullet points */\n",
       "margin-top:0.8em;\n",
       "}\n",
       "\n",
       "/* draw border around running cells */\n",
       "div.cell.border-box-sizing.code_cell.running { \n",
       "    border: 1px solid #111;\n",
       "}\n",
       "\n",
       "/* Put a solid color box around each cell and its output, visually linking them*/\n",
       "div.cell.code_cell {\n",
       "    background-color: rgb(256,256,256); \n",
       "    border-radius: 0px; \n",
       "    padding: 0.5em;\n",
       "    margin-left:1em;\n",
       "    margin-top: 1em;\n",
       "}\n",
       "\n",
       "div.text_cell_render{\n",
       "    font-family: 'Open Sans' sans-serif;\n",
       "    line-height: 140%;\n",
       "    font-size: 125%;\n",
       "    font-weight: 400;\n",
       "    width:900px;\n",
       "    margin-left:auto;\n",
       "    margin-right:auto;\n",
       "}\n",
       "\n",
       "\n",
       "/* Formatting for header cells */\n",
       ".text_cell_render h1 {\n",
       "    font-family: 'Arvo', serif;\n",
       "    font-style:regular;\n",
       "    font-weight: 400;    \n",
       "    font-size: 45pt;\n",
       "    line-height: 100%;\n",
       "    color: rgb(0,51,102);\n",
       "    margin-bottom: 0.5em;\n",
       "    margin-top: 0.5em;\n",
       "    display: block;\n",
       "}\t\n",
       ".text_cell_render h2 {\n",
       "    font-family: 'Arvo', serif;\n",
       "    font-weight: 400;\n",
       "    font-size: 30pt;\n",
       "    line-height: 100%;\n",
       "    color: rgb(0,51,102);\n",
       "    margin-bottom: 0.1em;\n",
       "    margin-top: 0.3em;\n",
       "    display: block;\n",
       "}\t\n",
       "\n",
       ".text_cell_render h3 {\n",
       "    font-family: 'Arvo', serif;\n",
       "    margin-top:16px;\n",
       "\tfont-size: 22pt;\n",
       "    font-weight: 600;\n",
       "    margin-bottom: 3px;\n",
       "    font-style: regular;\n",
       "    color: rgb(102,102,0);\n",
       "}\n",
       "\n",
       ".text_cell_render h4 {    /*Use this for captions*/\n",
       "    font-family: 'Arvo', serif;\n",
       "    font-size: 14pt;\n",
       "    text-align: center;\n",
       "    margin-top: 0em;\n",
       "    margin-bottom: 2em;\n",
       "    font-style: regular;\n",
       "}\n",
       "\n",
       ".text_cell_render h5 {  /*Use this for small titles*/\n",
       "    font-family: 'Arvo', sans-serif;\n",
       "    font-weight: 400;\n",
       "    font-size: 16pt;\n",
       "    color: rgb(163,0,0);\n",
       "    font-style: italic;\n",
       "    margin-bottom: .1em;\n",
       "    margin-top: 0.8em;\n",
       "    display: block;\n",
       "}\n",
       "\n",
       ".text_cell_render h6 { /*use this for copyright note*/\n",
       "    font-family: 'PT Mono', sans-serif;\n",
       "    font-weight: 300;\n",
       "    font-size: 9pt;\n",
       "    line-height: 100%;\n",
       "    color: grey;\n",
       "    margin-bottom: 1px;\n",
       "    margin-top: 1px;\n",
       "}\n",
       "\n",
       ".CodeMirror{\n",
       "        font-family: \"PT Mono\";\n",
       "        font-size: 90%;\n",
       "}\n",
       "\n",
       "</style>\n",
       "<script>\n",
       "    MathJax.Hub.Config({\n",
       "                        TeX: {\n",
       "                           extensions: [\"AMSmath.js\"],\n",
       "                           equationNumbers: { autoNumber: \"AMS\", useLabelIds: true}\n",
       "                           },\n",
       "                tex2jax: {\n",
       "                    inlineMath: [ ['$','$'], [\"\\\\(\",\"\\\\)\"] ],\n",
       "                    displayMath: [ ['$$','$$'], [\"\\\\[\",\"\\\\]\"] ]\n",
       "                },\n",
       "                displayAlign: 'center', // Change this to 'center' to center equations.\n",
       "                \"HTML-CSS\": {\n",
       "                    styles: {'.MathJax_Display': {\"margin\": 4}}\n",
       "                }\n",
       "        });\n",
       "</script>\n"
      ],
      "text/plain": [
       "<IPython.core.display.HTML object>"
      ]
     },
     "execution_count": 1,
     "metadata": {},
     "output_type": "execute_result"
    }
   ],
   "source": [
    "from IPython.core.display import HTML\n",
    "css_file = 'css/ngcmstyle.css'\n",
    "HTML(open(css_file, \"r\").read())"
   ]
  },
  {
   "cell_type": "code",
   "execution_count": 1,
   "metadata": {},
   "outputs": [
    {
     "data": {
      "text/html": [
       "<script>\n",
       "code_show=true; \n",
       "function code_toggle() {\n",
       " if (code_show){\n",
       " $('div.input').hide();\n",
       " } else {\n",
       " $('div.input').show();\n",
       " }\n",
       " code_show = !code_show\n",
       "} \n",
       "$( document ).ready(code_toggle);\n",
       "</script>\n",
       "To toggle on/off the raw Python code, click <a href=\"javascript:code_toggle()\">\n",
       "[<code style=\"background-color:brown;color:yellow;\"> here </code>]</a>."
      ],
      "text/plain": [
       "<IPython.core.display.HTML object>"
      ]
     },
     "execution_count": 1,
     "metadata": {},
     "output_type": "execute_result"
    }
   ],
   "source": [
    "from IPython.display import HTML\n",
    "HTML('''<script>\n",
    "code_show=true; \n",
    "function code_toggle() {\n",
    " if (code_show){\n",
    " $('div.input').hide();\n",
    " } else {\n",
    " $('div.input').show();\n",
    " }\n",
    " code_show = !code_show\n",
    "} \n",
    "$( document ).ready(code_toggle);\n",
    "</script>\n",
    "To toggle on/off the raw Python code, click <a href=\"javascript:code_toggle()\">\n",
    "[<code style=\"background-color:brown;color:yellow;\"> here </code>]</a>.''')"
   ]
  },
  {
   "cell_type": "markdown",
   "metadata": {},
   "source": [
    "Stochastical Model and Analysis\n",
    "===\n",
    "Effective Reproductive Number, $R_t$\n",
    "---\n",
    "\n",
    "\n",
    "Setting up early-warning system is very critical for discerning the subtle conditions of epidemidic changes and does help about making appropriate policy of public heath planning. A method based on estimating the effective reproductive number for epidemic early-warning is proposed.\n",
    "\n",
    "According to the studies of **Coelho et al, [1,2,3]**, the effective reproductive number, $R_t$, could help to quantify the attack ratio of disease and  is a key to epidemiological inference and public health planning.\n",
    "\n",
    "Our method is showcased in a data set consisting of 2015-2016 years of dengue incidence in the city of Tainan, Taiwan based on studies above.\n",
    "\n",
    "Based on the studies on Bayesian result, [2], we use the estimated parameters to calculate $R_t$ as follows:\n",
    "\n",
    "Let $Y_t$ be the number of reported disease cases for a particular time $t \\in \n",
    "(0, T)$. and  $R_t$ is estimated as:\n",
    "\\begin{equation}\n",
    "R_t = \\left( \\frac{Y_{t+1}}{Y_t}\\right)^{1/n}\n",
    "\\end{equation}\n",
    "\n",
    "where $n$ is taken to be the ratio between the length of reporting interval and \n",
    "the mean generation time of the disease. Here we are interested in the simpler case $n=1$.\n",
    "\n",
    "The density of the induced Bayesian distribution is then \n",
    "\n",
    "\\begin{equation}\n",
    "f_P(R_t| a_1, b_1) = \\frac{\\Gamma(a_1 + b_1)}{\\Gamma(a_1)\\Gamma(b_1)} R_t^{a_1 - 1} (1 + R_t)^{-(a_1 + b_1)}\n",
    "\\end{equation}\n",
    "\n",
    "where parameters, $(a_1,b_1)$, come from [2]. Thus, the expectation of $R_t$ is $a_1/(b_1 - 1)$ and its variance is \n",
    "$a_1(a_1 + b_1 - 1)/\\left((b_1 - 2)(b_1 - 1)^2 \\right) $.\n",
    "\n",
    "\n",
    "\n"
   ]
  },
  {
   "cell_type": "code",
   "execution_count": 14,
   "metadata": {
    "collapsed": true
   },
   "outputs": [],
   "source": [
    "%matplotlib inline\n",
    "\n",
    "# pip install git+https://github.com/quantopian/qgrid\n",
    "# conda install ipywidgets\n",
    "import qgrid\n",
    "import numpy as np\n",
    "import pandas as pd\n",
    "import matplotlib.pyplot as plt\n",
    "import gmplot\n",
    "import seaborn as sns\n",
    "from ipywidgets import interact,widgets,interactive\n",
    "from scipy.stats import beta\n",
    "from IPython.display import display\n",
    "from numpy import genfromtxt\n",
    "from matplotlib import font_manager,rcParams\n",
    "import warnings\n",
    "warnings.filterwarnings('ignore')\n",
    "\n",
    "sns.set()"
   ]
  },
  {
   "cell_type": "code",
   "execution_count": 2,
   "metadata": {
    "collapsed": true
   },
   "outputs": [],
   "source": [
    "df = pd.DataFrame.from_csv('data/test.csv',index_col=0,parse_dates=[0],encoding=\"utf-8\")\n",
    "df['date']=pd.to_datetime(df['date'])\n",
    "df['num']=1"
   ]
  },
  {
   "cell_type": "code",
   "execution_count": 4,
   "metadata": {
    "collapsed": true
   },
   "outputs": [],
   "source": [
    "cases=df[['date','num','district']]\n",
    "\n",
    "#  grouped data with respect to the date\n",
    "cases_group = cases.groupby('date');\n",
    "\n",
    "# calculate the accumulated number of cases\n",
    "cases_totals = cases_group.sum()"
   ]
  },
  {
   "cell_type": "code",
   "execution_count": 5,
   "metadata": {
    "collapsed": true
   },
   "outputs": [],
   "source": [
    "cases_patterns = cases.set_index('date')\n",
    "cases_Week=cases_patterns.resample('W',how=sum)\n",
    "#purge the data at beginning\n",
    "cases_Week_1=cases_Week[21:]"
   ]
  },
  {
   "cell_type": "markdown",
   "metadata": {},
   "source": [
    "Parameters Estimation\n",
    "---\n"
   ]
  },
  {
   "cell_type": "code",
   "execution_count": 9,
   "metadata": {
    "collapsed": true
   },
   "outputs": [],
   "source": [
    "def elicit_Rt_hyperpars(m0, v0 , c = .5): \n",
    "   if (v0==\"\"):\n",
    "      a0 = (m0**3*c**2 + m0**3 + m0**2)/(m0**2*c**2) \n",
    "      b0 = (2*m0**2*c**2 + m0**2 + m0)/(m0**2*c**2)\n",
    "   else:\n",
    "      a0 = (m0*v0 + m0**3 + m0**2)/v0\n",
    "      b0 = (2*v0 + m0**2 + m0)/v0  \n",
    "   return a0,b0\n"
   ]
  },
  {
   "cell_type": "code",
   "execution_count": 19,
   "metadata": {},
   "outputs": [
    {
     "name": "stdout",
     "output_type": "stream",
     "text": [
      "Estimated a0 =  1.25 b0 =  3.5\n"
     ]
    }
   ],
   "source": [
    "a0,b0=elicit_Rt_hyperpars(m0=0.5,v0=0.5)\n",
    "print(\"Estimated a0 = \" ,a0, \"b0 = \",b0)"
   ]
  },
  {
   "cell_type": "code",
   "execution_count": 46,
   "metadata": {
    "collapsed": true
   },
   "outputs": [],
   "source": [
    "def ll(x):\n",
    "    return x/(1-x)\n",
    "\n",
    "def Rt_beta(d, gt = 3, alpha = .95, a0 = 2 , b0 = 3):\n",
    "  ## Default a0 and b0 chosen so that E[R_t] = 1 and Var(R_t) = 2 \n",
    "  ## gt = generation time, default 3 weeks\n",
    "  ## alpha = *100% level of confidence\n",
    "  N = len(d)\n",
    "  d['Rt2']=0.;\n",
    "  d['p1']=0.;\n",
    "  d['LowTail']=0.;\n",
    "  d['UpperTail']=0.; \n",
    "  ac = d[gt-1:]\n",
    "  \n",
    "  K = len(ac)\n",
    "  jk1 = ac[1:K] # J[k+1] s\n",
    "  jk  = ac[:(K-1)]# J[k]\n",
    "  #print(K,(jk1) ,len(jk)) \n",
    "  for i in range(gt,N-1):\n",
    "      d['Rt2'][i] =   (a0+jk1.num[i])/(jk.num[i] +b0-1) \n",
    "      #print(i,jk1.num[i],jk.num[i])\n",
    "  #print(jk.num[0],jk1.num[0]/jk.num[0])\n",
    "\n",
    "  for k in range(gt,N-1): \n",
    "      n=jk1.num[k] + jk.num[k]\n",
    "      x=jk1.num[k]\n",
    "      d['p1'][k] =  1-beta.cdf(.5,a=jk1.num[k] + a0,b=jk.num[k] + b0)  \n",
    "      d['LowTail'][k] = ll(beta.ppf((1-alpha)/2,  a0 + x, b0 + n - x))\n",
    "      d['UpperTail'][k]=ll( beta.ppf((1+alpha)/2, a0 + x, b0 + n - x))"
   ]
  },
  {
   "cell_type": "code",
   "execution_count": 47,
   "metadata": {
    "collapsed": true
   },
   "outputs": [],
   "source": [
    "Rt_beta(cases_Week_1,a0=a0,b0=b0)"
   ]
  },
  {
   "cell_type": "markdown",
   "metadata": {},
   "source": [
    "Estimated $R_t$\n",
    "---"
   ]
  },
  {
   "cell_type": "code",
   "execution_count": 48,
   "metadata": {},
   "outputs": [
    {
     "data": {
      "text/html": [
       "<div>\n",
       "<table border=\"1\" class=\"dataframe\">\n",
       "  <thead>\n",
       "    <tr style=\"text-align: right;\">\n",
       "      <th></th>\n",
       "      <th>num</th>\n",
       "      <th>Rt2</th>\n",
       "      <th>p1</th>\n",
       "      <th>LowTail</th>\n",
       "      <th>UpperTail</th>\n",
       "    </tr>\n",
       "    <tr>\n",
       "      <th>date</th>\n",
       "      <th></th>\n",
       "      <th></th>\n",
       "      <th></th>\n",
       "      <th></th>\n",
       "      <th></th>\n",
       "    </tr>\n",
       "  </thead>\n",
       "  <tbody>\n",
       "    <tr>\n",
       "      <th>2015-06-07</th>\n",
       "      <td>1.0</td>\n",
       "      <td>0.000000</td>\n",
       "      <td>0.000000</td>\n",
       "      <td>0.000000</td>\n",
       "      <td>0.000000</td>\n",
       "    </tr>\n",
       "    <tr>\n",
       "      <th>2015-06-14</th>\n",
       "      <td>2.0</td>\n",
       "      <td>0.000000</td>\n",
       "      <td>0.000000</td>\n",
       "      <td>0.000000</td>\n",
       "      <td>0.000000</td>\n",
       "    </tr>\n",
       "    <tr>\n",
       "      <th>2015-06-21</th>\n",
       "      <td>2.0</td>\n",
       "      <td>0.000000</td>\n",
       "      <td>0.000000</td>\n",
       "      <td>0.000000</td>\n",
       "      <td>0.000000</td>\n",
       "    </tr>\n",
       "    <tr>\n",
       "      <th>2015-06-28</th>\n",
       "      <td>5.0</td>\n",
       "      <td>1.586957</td>\n",
       "      <td>0.854151</td>\n",
       "      <td>0.718804</td>\n",
       "      <td>3.119723</td>\n",
       "    </tr>\n",
       "    <tr>\n",
       "      <th>2015-07-05</th>\n",
       "      <td>10.0</td>\n",
       "      <td>1.500000</td>\n",
       "      <td>0.895148</td>\n",
       "      <td>0.817516</td>\n",
       "      <td>2.563534</td>\n",
       "    </tr>\n",
       "  </tbody>\n",
       "</table>\n",
       "</div>"
      ],
      "text/plain": [
       "             num       Rt2        p1   LowTail  UpperTail\n",
       "date                                                     \n",
       "2015-06-07   1.0  0.000000  0.000000  0.000000   0.000000\n",
       "2015-06-14   2.0  0.000000  0.000000  0.000000   0.000000\n",
       "2015-06-21   2.0  0.000000  0.000000  0.000000   0.000000\n",
       "2015-06-28   5.0  1.586957  0.854151  0.718804   3.119723\n",
       "2015-07-05  10.0  1.500000  0.895148  0.817516   2.563534"
      ]
     },
     "execution_count": 48,
     "metadata": {},
     "output_type": "execute_result"
    }
   ],
   "source": [
    "# Rt calulated and created\n",
    "cases_Week_1[:5]"
   ]
  },
  {
   "cell_type": "code",
   "execution_count": 15,
   "metadata": {},
   "outputs": [
    {
     "data": {
      "text/plain": [
       "(0, 3.2)"
      ]
     },
     "execution_count": 15,
     "metadata": {},
     "output_type": "execute_result"
    },
    {
     "data": {
      "image/png": "[encoded data removed]",
      "text/plain": [
       "<matplotlib.figure.Figure at 0x110b39780>"
      ]
     },
     "metadata": {},
     "output_type": "display_data"
    }
   ],
   "source": [
    "#rcParams['font.family'] = 'AR PL New Kai' \n",
    "# rcParams['font.family'] = 'LiHei Pro' \n",
    "rcParams['font.family'] = 'AppleGothic' \n",
    "\n",
    "fig, ax1 = plt.subplots(figsize=(12,7))\n",
    "cases_Week_1['num'].plot(color=\"red\",label='Reported Cases',drawstyle='steps',alpha=0.4,linewidth=4)\n",
    "ax1.set_ylabel('Reported Cases',fontsize=18, color='r')\n",
    "for tl in ax1.get_yticklabels():\n",
    "    tl.set_color('r')\n",
    "\n",
    "ax2 = ax1.twinx()\n",
    "cases_Week_1['Rt2'][1:-1].plot(color=\"blue\",label='$R_t$',drawstyle='steps',style='--',linewidth=4,alpha=0.5)\n",
    "ax2.fill_between(cases_Week_1.index, cases_Week_1.UpperTail, cases_Week_1.LowTail, \\\n",
    "                 step='pre', facecolor='blue', alpha=.2)\n",
    "\n",
    "# Make the y-axis label and tick labels match the line color.\n",
    "\n",
    "ax2.vlines(x=[cases_Week_1.index[6]],ymin=0,ymax=cases_Week_1['Rt2'].max(),color='brown',linestyle='--')\n",
    "ax2.text(x=cases_Week_1.index[7],y=0.6,s='$\\leftarrow$ 10 weeks ahead $\\\\rightarrow$',size=18,color='brown')\n",
    "ax2.text(x=cases_Week_1.index[6],y=cases_Week_1['Rt2'].max(),s='Max $R_r$',size=18,color='brown')\n",
    "\n",
    "ax2.set_ylabel('$R_t$',fontsize=18, color='b')\n",
    "for t2 in ax2.get_yticklabels():\n",
    "    t2.set_color('b')\n",
    "ax1.vlines(x=[cases_Week_1.index[16]],ymin=0,ymax=cases_Week_1['num'].max(),color='brown',linestyle='--')\n",
    "ax1.text(x=cases_Week_1.index[16],y=cases_Week_1['num'].max(),s='Max Cases',size=18,color='brown')\n",
    "\n",
    "ax1.legend(fontsize=14,loc='upper left')  \n",
    "ax2.legend(fontsize=14)  \n",
    "\n",
    "ax1.set_title(u'病例數 v.s. $R_t$',fontsize=24)   \n",
    "ax1.set_xlabel('Date during Jun/2015 ~ Jan/2016',fontsize=24)  \n",
    "ax1.set_ylim([0,4300])\n",
    "ax2.set_ylim([0,3.2])"
   ]
  },
  {
   "cell_type": "markdown",
   "metadata": {},
   "source": [
    "Results and Discussion\n",
    "---\n",
    "Since there is very limited information, (data from Tainan city goverment), regarding the actual proportions of each virus in circulation and most information available is about the predominant serotypes for some epidemics in the period of study only, we propose the use of a simplified a single strain model only with the variability introduced by the co-circulation of multiple serotypes and heterogeneous levels of immunity in the general population taken into account.\n",
    "\n",
    "Hence, we propose a method to bypass the lack of serotype-specific case data by informing the time-varying force of infection with the instantaneous reproductive number, $R_t$ which we calculate from aggregated data.\n",
    "\n",
    "- <font color=\"brown\">As expected, uncertainty about $R_t$ is **greater** when the case counts are low, for instance in the period during July 2015, which represented a big hiatus between major epidemics. The intrinsic variability of $R_t$ can be used to inform the time-varying force of infection, since it reflects variation in the vector population and other environmental factors such as temperature and seasonal variation.</font>\n",
    "- $R_t$ is used to inform a dynamic epidemic model with time-varying force of infection in order to gain insight into the attack ratio of each epidemic;  \n",
    "- Attack Ratio estimates are provided for last year of Dengue epidemics in Tainan, Taiwan.\n",
    "- The developed method to quantify uncertainty about $R_t$ is readily applicable to continuous monitoring and other diseases. \n"
   ]
  },
  {
   "cell_type": "markdown",
   "metadata": {},
   "source": [
    "References\n",
    "---\n",
    "1.  Coelho, F. C., Codec ̧o, C. T. & Gomes, M. G. A Bayesian framework for parameter estimation in\n",
    "dynamical models. PLoS ONE 6, e19616 (2011).\n",
    "\n",
    "2.  Coelho1, Flavio Codeço  & Luiz Max de Carvalho, Estimating the Attack Ratio of\n",
    "Dengue Epidemics under Time-varying Force of Infection using Aggregated Notification Data, Nature 5, 18455 (2015).\n",
    "\n",
    "3. Nishiura, H., Chowell, G., Heesterbeek, H. & Wallinga, J. The ideal reporting interval for an epidemic to objectively interpret the epidemiological time course. J R Soc Interface 7, 297–307 (2010)."
   ]
  },
  {
   "cell_type": "code",
   "execution_count": 51,
   "metadata": {
    "collapsed": true
   },
   "outputs": [],
   "source": [
    "cases_Week_1.to_csv(\"data/taiwan-2016-Rt-2.csv\")"
   ]
  },
  {
   "cell_type": "code",
   "execution_count": null,
   "metadata": {
    "collapsed": true
   },
   "outputs": [],
   "source": []
  }
 ],
 "metadata": {
  "kernelspec": {
   "display_name": "Python 3",
   "language": "python",
   "name": "python3"
  },
  "language_info": {
   "codemirror_mode": {
    "name": "ipython",
    "version": 3
   },
   "file_extension": ".py",
   "mimetype": "text/x-python",
   "name": "python",
   "nbconvert_exporter": "python",
   "pygments_lexer": "ipython3",
   "version": "3.6.0"
  }
 },
 "nbformat": 4,
 "nbformat_minor": 1
}
