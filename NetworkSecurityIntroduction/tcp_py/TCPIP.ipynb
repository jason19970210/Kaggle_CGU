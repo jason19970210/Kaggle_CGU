{
 "cells": [
  {
   "cell_type": "markdown",
   "metadata": {},
   "source": [
    "TCP/IP Introduction\n",
    "===\n",
    "The Internet is based on rules about how to make connections, exchange data, terminate connections, handle timeouts, and so on. These are called protocols, and they are arranged in layers.\n",
    "\n",
    "The very lowest layer governs aspects such as electrical signals; each higher layer builds on those below. In the middle, more or less, is the IP (Internet Protocol) layer, which specifies how network locations are addressed and how packets (chunks) of data flow. In the layer above that, two protocols describe how to move bytes between locations:"
   ]
  },
  {
   "cell_type": "markdown",
   "metadata": {},
   "source": [
    "- UDP (User Datagram Protocol):\n",
    "This is used for short exchanges. A datagram is a tiny message sent in a single burst, like a note on a postcard.\n",
    "- TCP (Transmission Control Protocol):\n",
    "This protocol is used for longer-lived connections. It sends streams of bytes and ensures that they arrive in order without duplication.\n",
    "\n",
    "Note\n",
    "---\n",
    "To distinguish the different computer devices on the internet, each object is assigned a *unique* ip. But Your local machine always has the IP address <font color=\"brown\">127.0.0.1</font> and the name <font color=\"brown\">localhost</font>. You might see this called the <font color=\"brown\">loopback interface</font>. "
   ]
  },
  {
   "cell_type": "code",
   "execution_count": 3,
   "metadata": {
    "collapsed": false
   },
   "outputs": [],
   "source": [
    "# readout the network card setting\n",
    "!ifconfig -a >netconfig.txt"
   ]
  },
  {
   "cell_type": "markdown",
   "metadata": {},
   "source": [
    "The first three lines are listed as follows:\n",
    "\n",
    "```\n",
    "lo0: flags=8049<UP,LOOPBACK,RUNNING,MULTICAST> mtu 16384\n",
    "\toptions=1203<RXCSUM,TXCSUM,TXSTATUS,SW_TIMESTAMP>\n",
    "\tinet 127.0.0.1 netmask 0xff000000 \n",
    "```    "
   ]
  },
  {
   "cell_type": "markdown",
   "metadata": {},
   "source": [
    "Most of the Internet with which we interact—the Web, database servers, and so on—is based on the TCP protocol running atop the IP protocol; so called, **TCP/IP**."
   ]
  },
  {
   "cell_type": "markdown",
   "metadata": {},
   "source": [
    "The lowest level of network programming uses a **socket**, which  coding is tedious. We will introduce it by examples. "
   ]
  },
  {
   "cell_type": "markdown",
   "metadata": {},
   "source": [
    "UDP Example\n",
    "===\n",
    "The client sends a string in a UDP datagram to a server, and the server returns a packet of data containing a string. \n",
    "\n",
    "1. udp server code\n",
    "\n",
    "```python\n",
    "from datetime import datetime\n",
    "import socket\n",
    "\n",
    "# test on one's box with 6789 port\n",
    "server_address = ('localhost', 6789)\n",
    "max_size = 4096\n",
    "\n",
    "print('Starting the server at', datetime.now())\n",
    "print('Waiting for a client to call.')\n",
    "server = socket.socket(socket.AF_INET, socket.SOCK_DGRAM)\n",
    "server.bind(server_address)\n",
    "\n",
    "data, client = server.recvfrom(max_size)\n",
    "\n",
    "print('At', datetime.now(), client, 'said', data)\n",
    "server.sendto(b'Are you talking to me?', client)\n",
    "server.close()\n",
    "```"
   ]
  },
  {
   "cell_type": "markdown",
   "metadata": {},
   "source": [
    "The server has to set up networking through two methods:\n",
    "- the first method, socket.socket, creates a socket, \n",
    "- and the second, bind, binds to it (listens to any data arriving at that IP address and port). \n",
    "\n",
    "`AF_INET` means we’ll create an Internet (IP) socket and `SOCK_DGRAM` means we’ll send and receive datagrams, i.e. use UDP.\n",
    "\n",
    "At this point, the server sits and waits for a datagram to come in (recvfrom). When one arrives, the server wakes up and gets both the data and information about the client. The client variable contains the address and port combination needed to reach the client. The server ends by sending a reply and closing its connection."
   ]
  },
  {
   "cell_type": "markdown",
   "metadata": {},
   "source": [
    "**2.** udp_client codes\n",
    "\n",
    "```python\n",
    "import socket\n",
    "from datetime import datetime\n",
    "\n",
    "server_address = ('localhost', 6789)\n",
    "max_size = 4096\n",
    "\n",
    "print('Starting the client at', datetime.now())\n",
    "client = socket.socket(socket.AF_INET, socket.SOCK_DGRAM)\n",
    "client.sendto(b'Hey!', server_address)\n",
    "data, server = client.recvfrom(max_size)\n",
    "print('At', datetime.now(), server, 'said', data)\n",
    "client.close()\n",
    "```"
   ]
  },
  {
   "cell_type": "markdown",
   "metadata": {},
   "source": [
    "Result\n",
    "---\n",
    "<br>\n",
    "shell &gt; python udp_server.py&nbsp;&nbsp;&nbsp;&nbsp;&nbsp;&nbsp;&nbsp;&nbsp;&nbsp;&nbsp;&nbsp;&nbsp;&nbsp;&nbsp;&nbsp;&nbsp;&nbsp;&nbsp;&nbsp;&nbsp;&nbsp;&nbsp;&nbsp;&nbsp;&nbsp;&nbsp;&nbsp;&nbsp;&nbsp;&nbsp;&nbsp;&nbsp;&nbsp;&nbsp;&nbsp;&nbsp;&nbsp;&nbsp;&nbsp;&nbsp;&nbsp;&nbsp;&nbsp;&nbsp;&nbsp;&nbsp;&nbsp;&nbsp;&nbsp;&nbsp;&nbsp;&nbsp;&nbsp;&nbsp;&nbsp;&nbsp;&nbsp;&nbsp;&nbsp;&nbsp;&nbsp;&nbsp;&nbsp;&nbsp;&nbsp;&nbsp;\n",
    "shell &gt; python udp_client.py<br>\n",
    "<br>\n",
    "Starting the server at 2016-11-03\n",
    "21:04:07.695159&nbsp;&nbsp;&nbsp;&nbsp;&nbsp;&nbsp;&nbsp;&nbsp;&nbsp;&nbsp;&nbsp;&nbsp;&nbsp;&nbsp;&nbsp;&nbsp;&nbsp;&nbsp;&nbsp;&nbsp;&nbsp;&nbsp;&nbsp;&nbsp;&nbsp;&nbsp;&nbsp;&nbsp;&nbsp;&nbsp;\n",
    "Starting the client at 2016-11-03 21:04:56.374011<br>\n",
    "Waiting for a client to call.&nbsp;&nbsp;&nbsp;&nbsp;&nbsp;&nbsp;&nbsp;&nbsp;&nbsp;&nbsp;&nbsp;&nbsp;&nbsp;&nbsp;&nbsp;&nbsp;&nbsp;&nbsp;&nbsp;&nbsp;&nbsp;&nbsp;&nbsp;&nbsp;&nbsp;&nbsp;&nbsp;&nbsp;&nbsp;&nbsp;&nbsp;&nbsp;&nbsp;&nbsp;&nbsp;&nbsp;&nbsp;&nbsp;&nbsp;&nbsp;&nbsp;&nbsp;&nbsp;&nbsp;&nbsp;&nbsp;&nbsp;&nbsp;&nbsp;&nbsp;&nbsp;&nbsp;&nbsp;&nbsp;&nbsp;&nbsp;&nbsp;&nbsp;&nbsp;&nbsp;&nbsp;&nbsp;&nbsp;&nbsp;&nbsp;&nbsp;&nbsp;&nbsp;&nbsp;&nbsp;\n",
    "At 2016-11-03 21:04:56.376209 ('127.0.0.1', 6789) said b'Are you\n",
    "talking to me?'<br>\n",
    "<font color=\"#c0c0c0\">At 2016-11-03 21:04:56.376075 ('127.0.0.1',\n",
    "59037) said b'Hey!'</font><br>"
   ]
  },
  {
   "cell_type": "markdown",
   "metadata": {},
   "source": [
    "TCP Example\n",
    "===\n",
    "TCP is used for longer-lived connections, such as the Web. TCP delivers data in the order in which you send it. If there were any problems, it tries to send it again. Let’s shoot a few packets from client to server and back with TCP.\n",
    "\n",
    "1. client code\n",
    "\n",
    "```python\n",
    "\n",
    "import socket\n",
    "from datetime import datetime\n",
    "\n",
    "address = ('localhost', 6789)\n",
    "max_size = 1000\n",
    "\n",
    "print('Starting the client at', datetime.now())\n",
    "#  create socket object with AF_INET (use IPv4 addrss or hostname), SOCK_STREAM (TCP client)\n",
    "client = socket.socket(socket.AF_INET, socket.SOCK_STREAM)\n",
    "# connect\n",
    "client.connect(address)\n",
    "# send data\n",
    "client.sendall(b'Hey!')\n",
    "# recieve data\n",
    "data = client.recv(max_size)\n",
    "print('At', datetime.now(), 'someone replied', data)\n",
    "# disconnect\n",
    "client.close()\n",
    "```"
   ]
  },
  {
   "cell_type": "markdown",
   "metadata": {},
   "source": [
    "**2.** TCP server codes\n",
    "\n",
    "```python\n",
    "from datetime import datetime\n",
    "import socket\n",
    "\n",
    "address = ('localhost', 6789)\n",
    "max_size = 1000\n",
    "\n",
    "print('Starting the server at', datetime.now())\n",
    "print('Waiting for a client to call.')\n",
    "server = socket.socket(socket.AF_INET, socket.SOCK_STREAM)\n",
    "# pass in the IP address and port we want the server to listen on\n",
    "server.bind(address)\n",
    "# start listening\n",
    "server.listen(5)\n",
    "\n",
    "# while  client connected, we receive the client socket into the client variable, \n",
    "# and the remote connection details into the addr variable\n",
    "client, addr = server.accept()\n",
    "data = client.recv(max_size)\n",
    "\n",
    "print('At', datetime.now(), client, 'said', data)\n",
    "client.sendall(b'Are you talking to me?')\n",
    "client.close()\n",
    "server.close()\n",
    "```\n"
   ]
  },
  {
   "cell_type": "markdown",
   "metadata": {},
   "source": [
    "Result\n",
    "---\n",
    "shell &gt; python\n",
    "tcp_server.py&nbsp;&nbsp;&nbsp;&nbsp;&nbsp;&nbsp;&nbsp;&nbsp;&nbsp;&nbsp;&nbsp;&nbsp;&nbsp;&nbsp;&nbsp;&nbsp;&nbsp;&nbsp;&nbsp;&nbsp;&nbsp;&nbsp;&nbsp;&nbsp;&nbsp;&nbsp;&nbsp;&nbsp;&nbsp;&nbsp;&nbsp;&nbsp;&nbsp;&nbsp;&nbsp;&nbsp;&nbsp;&nbsp;&nbsp;&nbsp;&nbsp;&nbsp;&nbsp;&nbsp;&nbsp;&nbsp;&nbsp;&nbsp;&nbsp;&nbsp;&nbsp;&nbsp;&nbsp;&nbsp;\n",
    "shell &gt;<font color=\"#cc9933\"> python tcp_client.py</font><br>\n",
    "&nbsp;<br>\n",
    "Starting the server at 2016-11-03\n",
    "21:21:07.515420&nbsp;&nbsp;&nbsp;&nbsp;&nbsp;&nbsp;&nbsp;&nbsp;&nbsp;&nbsp;&nbsp;&nbsp;&nbsp;\n",
    "&nbsp; &nbsp; <font color=\"#cc9933\">Starting the client at\n",
    "2016-11-03 21:21:33.648436</font><br>\n",
    "Waiting for a client to\n",
    "call.&nbsp;&nbsp;&nbsp;&nbsp;&nbsp;&nbsp;&nbsp;&nbsp;&nbsp;&nbsp;&nbsp;&nbsp;&nbsp;&nbsp;&nbsp;&nbsp;&nbsp;&nbsp;&nbsp;&nbsp;&nbsp;&nbsp;&nbsp;&nbsp;&nbsp;&nbsp;&nbsp;&nbsp;&nbsp;&nbsp;&nbsp;&nbsp;&nbsp;&nbsp;&nbsp;&nbsp;&nbsp;&nbsp;&nbsp;&nbsp;&nbsp;&nbsp;&nbsp;&nbsp;&nbsp;&nbsp;&nbsp;&nbsp;&nbsp;&nbsp;&nbsp;\n",
    "&nbsp; &nbsp;&nbsp;&nbsp; <font color=\"#cc9933\">At 2016-11-03\n",
    "21:21:33.650712 someone replied b'Are you talking to me?'</font><br>\n",
    "<font color=\"#c0c0c0\">At 2016-11-03 21:21:33.650565\n",
    "&lt;socket.socket fd=6, family=AddressFamily.AF_INET,\n",
    "type=SocketKind.SOCK_STREAM, proto=0, laddr=('127.0.0.1', 6789),\n",
    "raddr=('127.0.0.1', 49211)&gt; said b'Hey!'</font>"
   ]
  },
  {
   "cell_type": "markdown",
   "metadata": {},
   "source": [
    "Notice\n",
    "---\n",
    "The TCP server called `client.sendall()` to respond, and the earlier UDP server called `client.sendto()`. TCP maintains the client-server connection across multiple socket calls and remembers the client’s IP address.\n",
    "-  UDP sends messages, but their size is limited, and they’re not guaranteed to reach their destination.\n",
    "-  TCP sends streams of bytes, not messages. You don’t know how many bytes the system will send or receive with each call.\n",
    "- To exchange entire messages with TCP, you need some extra information to reas‐ semble the full message from its segments: a fixed message size (bytes), or the size of the full message, or some delimiting character.\n",
    "- Because messages are bytes, not Unicode text strings, you need to use the Python bytes type."
   ]
  },
  {
   "cell_type": "markdown",
   "metadata": {},
   "source": [
    "ZeroMQ (ZMQ)\n",
    "---\n",
    "- Exchange entire messages\n",
    "- Retry connections\n",
    "- Buffer data to preserve it when the timing between senders and receivers doesn’t line up"
   ]
  },
  {
   "cell_type": "code",
   "execution_count": 14,
   "metadata": {
    "collapsed": false
   },
   "outputs": [],
   "source": [
    "import PyPDF2\n",
    "book='../../../../Downloads//BlackHatPython.pdf'\n",
    "pdfFileObj = open(book, 'rb')\n",
    "pdfReader = PyPDF2.PdfFileReader(pdfFileObj)\n"
   ]
  },
  {
   "cell_type": "code",
   "execution_count": 15,
   "metadata": {
    "collapsed": false
   },
   "outputs": [
    {
     "data": {
      "text/plain": [
       "195"
      ]
     },
     "execution_count": 15,
     "metadata": {},
     "output_type": "execute_result"
    }
   ],
   "source": [
    "pdfReader.numPages"
   ]
  },
  {
   "cell_type": "code",
   "execution_count": 19,
   "metadata": {
    "collapsed": false
   },
   "outputs": [
    {
     "data": {
      "text/plain": [
       "'The Network: Basics\\n   11client. We then connect the client to the server \\n and send it some data\\n . The last step is to receive some data back and print out the response \\n. This is the simplest form of a TCP client, but the one you will write most \\noften.\\nIn the above code snippet, we are making some serious assumptions \\nabout sockets that you de˜nitely want to be aware of. The ˜rst assump\\n-tion is that our connection will always succeed, and the second is that the \\n\\nserver is always expecting us to send data ˜rst (as opposed to servers that \\n\\nexpect to send data to you ˜rst and await your response). Our third assump\\n-tion is that the server will always send us data back in a timely fashion. We \\n\\nmake these assumptions largely for simplicity™s sake. While programmers \\n\\nhave varied opinions about how to deal with blocking sockets, exception-\\n\\nhandling in sockets, and the like, it™s quite rare for pentesters to build these \\n\\nniceties into the quick-and-dirty tools for recon or exploitation work, so \\n\\nwe™ll omit them in this chapter.  \\nUDP \\nClient\\nA Python UDP client is not much different than a TCP client; we need to \\n\\nmake only two small changes to get it to send packets in UDP form. \\nimport sockettarget_host = \"127.0.0.1\"target_port = 80# create a socket object client = socket.socket(socket.AF_INET, socket.SOCK_DGRAM)# send some data client.sendto(\"AAABBBCCC\",(target_host,target_port))# receive some data data, addr = client.recvfrom(4096) print dataAs you can see, we change the socket type to \\nSOCK_DGRAM  when creat\\n-ing the socket object. The next step is to simply call \\nsendto() , passing in \\nthe data and the server you want to send the data to. Because UDP is a con\\n-nectionless protocol, there is no call to \\nconnect() beforehand. The last step \\nis to call \\nrecvfrom()  to receive UDP data back. You will also notice that it \\nreturns both the data and the details of the remote host and port.\\nAgain, we™re not looking to be superior network programmers; we want \\nto be quick, easy, and reliable enough to handle our day-to-day hacking \\ntasks. Let™s move on to creating some simple servers.\\n'"
      ]
     },
     "execution_count": 19,
     "metadata": {},
     "output_type": "execute_result"
    }
   ],
   "source": [
    "pageObj = pdfReader.getPage(32)\n",
    "pageObj.extractText()"
   ]
  },
  {
   "cell_type": "code",
   "execution_count": null,
   "metadata": {
    "collapsed": true
   },
   "outputs": [],
   "source": []
  }
 ],
 "metadata": {
  "kernelspec": {
   "display_name": "Python 3",
   "language": "python",
   "name": "python3"
  },
  "language_info": {
   "codemirror_mode": {
    "name": "ipython",
    "version": 3
   },
   "file_extension": ".py",
   "mimetype": "text/x-python",
   "name": "python",
   "nbconvert_exporter": "python",
   "pygments_lexer": "ipython3",
   "version": "3.5.2"
  }
 },
 "nbformat": 4,
 "nbformat_minor": 1
}
