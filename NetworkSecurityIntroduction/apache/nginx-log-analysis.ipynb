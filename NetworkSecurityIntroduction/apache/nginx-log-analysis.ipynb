{
 "cells": [
  {
   "cell_type": "markdown",
   "metadata": {},
   "source": [
    "# Nginx log analysis with pandas and matplotlib"
   ]
  },
  {
   "cell_type": "markdown",
   "metadata": {},
   "source": [
    "By Jess Johnson [http://grokcode.com](http://grokcode.com)\n",
    "\n",
    "This notebook analyzes Nginx access logs in order to estimate the capacity needed to survive a traffic spike. I'm looking at access logs for [Author Alcove](http://authoralcove.com) which was hit by a big traffic spike when it spent around 24 hours at the top of [/r/books](http://reddit.com/r/books/). The site was hugged to death by reddit. Visitors experienced very slow load times, and many people couldn't access the site at all due to 50x errors. So let's estimate how much extra capacity would be needed to survive this spike.\n",
    "\n",
    "The source for this notebook is located on [github](https://github.com/grokcode/ipython-notebooks). See a mistake? Pull requests welcome.\n",
    "\n",
    "Thanks to Nikolay Koldunov for his [notebook on Apache log analysis](http://nbviewer.ipython.org/github/koldunovn/nk_public_notebooks/blob/master/Apache_log.ipynb), and thanks to my bro Aaron for the much needed optimism and server optimization tips while everything was on fire.\n",
    "\n",
    "OK let's get started."
   ]
  },
  {
   "cell_type": "markdown",
   "metadata": {},
   "source": [
    "## Setup"
   ]
  },
  {
   "cell_type": "code",
   "execution_count": 1,
   "metadata": {
    "collapsed": false
   },
   "outputs": [],
   "source": [
    "%matplotlib inline"
   ]
  },
  {
   "cell_type": "markdown",
   "metadata": {},
   "source": [
    "Let's import the usual suspects."
   ]
  },
  {
   "cell_type": "code",
   "execution_count": 2,
   "metadata": {
    "collapsed": false
   },
   "outputs": [],
   "source": [
    "import pandas as pd\n",
    "import numpy as np\n",
    "import sys\n",
    "import matplotlib.pyplot as plt\n",
    "import seaborn as sns\n",
    "sns.set()"
   ]
  },
  {
   "cell_type": "markdown",
   "metadata": {},
   "source": [
    "We will also use [apachelog](https://code.google.com/p/apachelog/), which is a module for parsing apache logs, but it works fine with nginx logs as long as we give it the right format string. You can install it with `pip install apachelog`.  "
   ]
  },
  {
   "cell_type": "code",
   "execution_count": 3,
   "metadata": {
    "collapsed": false
   },
   "outputs": [],
   "source": [
    "import apachelog"
   ]
  },
  {
   "cell_type": "markdown",
   "metadata": {},
   "source": [
    "## Parsing the log"
   ]
  },
  {
   "cell_type": "markdown",
   "metadata": {},
   "source": [
    "I started out by doing some command line preprocessing on the log in order to remove bots. I used `egrep -v` to filter out the bots that were hitting the site the most often. These were Googlebot, Bingbot, the New Relic uptime checker, Buidu spider, and a few others. A more careful approach would filter out everything on one of the known bot lists ([like this one](http://www.robotstxt.org/db.html)), but I'm going to play it a bit fast and loose.\n",
    "\n",
    "First of all let's get a sample line out of the `access.log` and try to parse it. Here is a description of the codes in the log format we are working with:\n",
    "\n",
    "    %h          - remote host (ie the client IP)\n",
    "    %l          - identity of the user determined by identd (not usually used since not reliable)\n",
    "    %u          - user name determined by HTTP authentication\n",
    "    %t          - time the server finished processing the request.\n",
    "    %r          - request line from the client. (\"GET / HTTP/1.0\")\n",
    "    %>s         - status code sent from the server to the client (200, 404 etc.)\n",
    "    %b          - size of the response to the client (in bytes)\n",
    "    %i      - Referer is the page that linked to this URL.\n",
    "    User-agent  - the browser identification string\n",
    "    %V          - the server name according to the UseCanonicalName setting"
   ]
  },
  {
   "cell_type": "code",
   "execution_count": 4,
   "metadata": {
    "collapsed": false
   },
   "outputs": [
    {
     "data": {
      "text/plain": [
       "{'%>s': '200',\n",
       " '%b': '662',\n",
       " '%h': '113.82.105.174',\n",
       " '%i': '-',\n",
       " '%l': '-',\n",
       " '%r': 'GET /wmi/webroot/icon/wmi2_shortcut4.png HTTP/1.1',\n",
       " '%t': '[31/Mar/2016:18:08:06 +0800]',\n",
       " '%u': '-',\n",
       " '%{User-Agent}i': 'Mozilla/5.0 (Linux; Android 4.4.2; G7 PLUS Build/KOT49H) AppleWebKit/537.36 (KHTML, like Gecko) Version/4.0 Chrome/30.0.0.0 Mobile Safari/537.36'}"
      ]
     },
     "execution_count": 4,
     "metadata": {},
     "output_type": "execute_result"
    }
   ],
   "source": [
    "#sample_string = '178.137.91.215 - - [21/Feb/2014:06:44:53 +0000] \"GET /work/homepages-maths-year-6/ HTTP/1.0\" \\\n",
    "#200 10427 \"http://authoralcove.com/work/homepages-maths-year-6/\" \"Opera/9.80 (Windows NT 6.1; WOW64; U; ru) \\\n",
    "#Presto/2.10.289 Version/12.00\" \"-\"'\n",
    "sample_string = '113.82.105.174 - - [31/Mar/2016:18:08:06 +0800] \\\n",
    "\"GET /wmi/webroot/icon/wmi2_shortcut4.png HTTP/1.1\" 200 662 \"-\" \\\n",
    "\"Mozilla/5.0 (Linux; Android 4.4.2; G7 PLUS Build/KOT49H) AppleWebKit/537.36 (KHTML, like Gecko) Version/4.0 Chrome/30.0.0.0 Mobile Safari/537.36\"'\n",
    "\n",
    "nformat = r'%h %l %u %t \\\"%r\\\" %>s %b \\\"%i\\\" \\\"%{User-Agent}i\\\"'\n",
    "p = apachelog.parser(nformat)\n",
    "data = p.parse(sample_string)\n",
    "data"
   ]
  },
  {
   "cell_type": "markdown",
   "metadata": {},
   "source": [
    "Now let's parse each line while preparing the access time so that pandas will be able to handle it."
   ]
  },
  {
   "cell_type": "code",
   "execution_count": 5,
   "metadata": {
    "collapsed": false
   },
   "outputs": [],
   "source": [
    "from apachelog import ApacheLogParserError\n",
    "log_list = []\n",
    "with open('log/apache/access-20160414.log') as f:\n",
    "    for line in f.readlines():\n",
    "        try:\n",
    "            data = p.parse(line)\n",
    "        except ApacheLogParserError:\n",
    "            sys.stderr.write(\"Unable to parse %s\" % line)\n",
    "        data['%t'] = data['%t'][1:12]+' '+data['%t'][13:21]+' '+data['%t'][22:27]\n",
    "        log_list.append(data)"
   ]
  },
  {
   "cell_type": "markdown",
   "metadata": {},
   "source": [
    "Loading into pandas."
   ]
  },
  {
   "cell_type": "code",
   "execution_count": 6,
   "metadata": {
    "collapsed": false
   },
   "outputs": [
    {
     "data": {
      "text/html": [
       "<div>\n",
       "<table border=\"1\" class=\"dataframe\">\n",
       "  <thead>\n",
       "    <tr style=\"text-align: right;\">\n",
       "      <th></th>\n",
       "      <th>%&gt;s</th>\n",
       "      <th>%b</th>\n",
       "      <th>%h</th>\n",
       "      <th>%i</th>\n",
       "      <th>%l</th>\n",
       "      <th>%r</th>\n",
       "      <th>%t</th>\n",
       "      <th>%u</th>\n",
       "      <th>%{User-Agent}i</th>\n",
       "    </tr>\n",
       "  </thead>\n",
       "  <tbody>\n",
       "    <tr>\n",
       "      <th>2</th>\n",
       "      <td>301</td>\n",
       "      <td>250</td>\n",
       "      <td>49.218.113.94</td>\n",
       "      <td>-</td>\n",
       "      <td>-</td>\n",
       "      <td>GET /2015/calculus HTTP/1.1</td>\n",
       "      <td>14/Apr/2016 08:03:26 +0800</td>\n",
       "      <td>-</td>\n",
       "      <td>Mozilla/5.0 (iPhone; CPU iPhone OS 9_3_1 like ...</td>\n",
       "    </tr>\n",
       "    <tr>\n",
       "      <th>3</th>\n",
       "      <td>200</td>\n",
       "      <td>15374</td>\n",
       "      <td>49.218.113.94</td>\n",
       "      <td>-</td>\n",
       "      <td>-</td>\n",
       "      <td>GET /2015/calculus/ HTTP/1.1</td>\n",
       "      <td>14/Apr/2016 08:03:26 +0800</td>\n",
       "      <td>-</td>\n",
       "      <td>Mozilla/5.0 (iPhone; CPU iPhone OS 9_3_1 like ...</td>\n",
       "    </tr>\n",
       "    <tr>\n",
       "      <th>4</th>\n",
       "      <td>200</td>\n",
       "      <td>32841</td>\n",
       "      <td>49.218.113.94</td>\n",
       "      <td>http://diffusion.cgu.edu.tw/2015/calculus/</td>\n",
       "      <td>-</td>\n",
       "      <td>GET /2015/calculus/js/impress.js HTTP/1.1</td>\n",
       "      <td>14/Apr/2016 08:03:26 +0800</td>\n",
       "      <td>-</td>\n",
       "      <td>Mozilla/5.0 (iPhone; CPU iPhone OS 9_3_1 like ...</td>\n",
       "    </tr>\n",
       "  </tbody>\n",
       "</table>\n",
       "</div>"
      ],
      "text/plain": [
       "   %>s     %b             %h                                          %i %l  \\\n",
       "2  301    250  49.218.113.94                                           -  -   \n",
       "3  200  15374  49.218.113.94                                           -  -   \n",
       "4  200  32841  49.218.113.94  http://diffusion.cgu.edu.tw/2015/calculus/  -   \n",
       "\n",
       "                                          %r                          %t %u  \\\n",
       "2                GET /2015/calculus HTTP/1.1  14/Apr/2016 08:03:26 +0800  -   \n",
       "3               GET /2015/calculus/ HTTP/1.1  14/Apr/2016 08:03:26 +0800  -   \n",
       "4  GET /2015/calculus/js/impress.js HTTP/1.1  14/Apr/2016 08:03:26 +0800  -   \n",
       "\n",
       "                                      %{User-Agent}i  \n",
       "2  Mozilla/5.0 (iPhone; CPU iPhone OS 9_3_1 like ...  \n",
       "3  Mozilla/5.0 (iPhone; CPU iPhone OS 9_3_1 like ...  \n",
       "4  Mozilla/5.0 (iPhone; CPU iPhone OS 9_3_1 like ...  "
      ]
     },
     "execution_count": 6,
     "metadata": {},
     "output_type": "execute_result"
    }
   ],
   "source": [
    "from pandas import Series, DataFrame, Panel\n",
    "df = DataFrame(log_list)\n",
    "df[2:5]"
   ]
  },
  {
   "cell_type": "markdown",
   "metadata": {},
   "source": [
    "Now lets clean up the pandas dataframe a bit by deleting some columns we aren't interested in and renaming the remaining columns."
   ]
  },
  {
   "cell_type": "code",
   "execution_count": 7,
   "metadata": {
    "collapsed": false
   },
   "outputs": [
    {
     "data": {
      "text/html": [
       "<div>\n",
       "<table border=\"1\" class=\"dataframe\">\n",
       "  <thead>\n",
       "    <tr style=\"text-align: right;\">\n",
       "      <th></th>\n",
       "      <th>%&gt;s</th>\n",
       "      <th>%b</th>\n",
       "      <th>%r</th>\n",
       "      <th>%t</th>\n",
       "    </tr>\n",
       "  </thead>\n",
       "  <tbody>\n",
       "    <tr>\n",
       "      <th>2</th>\n",
       "      <td>301</td>\n",
       "      <td>250</td>\n",
       "      <td>GET /2015/calculus HTTP/1.1</td>\n",
       "      <td>14/Apr/2016 08:03:26 +0800</td>\n",
       "    </tr>\n",
       "    <tr>\n",
       "      <th>3</th>\n",
       "      <td>200</td>\n",
       "      <td>15374</td>\n",
       "      <td>GET /2015/calculus/ HTTP/1.1</td>\n",
       "      <td>14/Apr/2016 08:03:26 +0800</td>\n",
       "    </tr>\n",
       "    <tr>\n",
       "      <th>4</th>\n",
       "      <td>200</td>\n",
       "      <td>32841</td>\n",
       "      <td>GET /2015/calculus/js/impress.js HTTP/1.1</td>\n",
       "      <td>14/Apr/2016 08:03:26 +0800</td>\n",
       "    </tr>\n",
       "  </tbody>\n",
       "</table>\n",
       "</div>"
      ],
      "text/plain": [
       "   %>s     %b                                         %r  \\\n",
       "2  301    250                GET /2015/calculus HTTP/1.1   \n",
       "3  200  15374               GET /2015/calculus/ HTTP/1.1   \n",
       "4  200  32841  GET /2015/calculus/js/impress.js HTTP/1.1   \n",
       "\n",
       "                           %t  \n",
       "2  14/Apr/2016 08:03:26 +0800  \n",
       "3  14/Apr/2016 08:03:26 +0800  \n",
       "4  14/Apr/2016 08:03:26 +0800  "
      ]
     },
     "execution_count": 7,
     "metadata": {},
     "output_type": "execute_result"
    }
   ],
   "source": [
    "\n",
    "del df['%h']\n",
    "del df['%i']\n",
    "del df['%l']\n",
    "del df['%u']\n",
    "del df['%{User-Agent}i']\n",
    "df[2:5]"
   ]
  },
  {
   "cell_type": "code",
   "execution_count": 8,
   "metadata": {
    "collapsed": false
   },
   "outputs": [
    {
     "data": {
      "text/html": [
       "<div>\n",
       "<table border=\"1\" class=\"dataframe\">\n",
       "  <thead>\n",
       "    <tr style=\"text-align: right;\">\n",
       "      <th></th>\n",
       "      <th>Status</th>\n",
       "      <th>bytes</th>\n",
       "      <th>Request</th>\n",
       "      <th>Time</th>\n",
       "    </tr>\n",
       "  </thead>\n",
       "  <tbody>\n",
       "    <tr>\n",
       "      <th>2</th>\n",
       "      <td>301</td>\n",
       "      <td>250</td>\n",
       "      <td>GET /2015/calculus HTTP/1.1</td>\n",
       "      <td>14/Apr/2016 08:03:26 +0800</td>\n",
       "    </tr>\n",
       "    <tr>\n",
       "      <th>3</th>\n",
       "      <td>200</td>\n",
       "      <td>15374</td>\n",
       "      <td>GET /2015/calculus/ HTTP/1.1</td>\n",
       "      <td>14/Apr/2016 08:03:26 +0800</td>\n",
       "    </tr>\n",
       "    <tr>\n",
       "      <th>4</th>\n",
       "      <td>200</td>\n",
       "      <td>32841</td>\n",
       "      <td>GET /2015/calculus/js/impress.js HTTP/1.1</td>\n",
       "      <td>14/Apr/2016 08:03:26 +0800</td>\n",
       "    </tr>\n",
       "  </tbody>\n",
       "</table>\n",
       "</div>"
      ],
      "text/plain": [
       "  Status  bytes                                    Request  \\\n",
       "2    301    250                GET /2015/calculus HTTP/1.1   \n",
       "3    200  15374               GET /2015/calculus/ HTTP/1.1   \n",
       "4    200  32841  GET /2015/calculus/js/impress.js HTTP/1.1   \n",
       "\n",
       "                         Time  \n",
       "2  14/Apr/2016 08:03:26 +0800  \n",
       "3  14/Apr/2016 08:03:26 +0800  \n",
       "4  14/Apr/2016 08:03:26 +0800  "
      ]
     },
     "execution_count": 8,
     "metadata": {},
     "output_type": "execute_result"
    }
   ],
   "source": [
    "df = df.rename(columns={'%>s': 'Status', '%b':'bytes', \n",
    "                        '%r':'Request', '%t': 'Time'})\n",
    "df[2:5]"
   ]
  },
  {
   "cell_type": "markdown",
   "metadata": {},
   "source": [
    "Massage the data a bit more so that the access time is a `datetime`, status is an `int`, and the response size is in MB, with missing data represented as `NaN`, not `-`."
   ]
  },
  {
   "cell_type": "code",
   "execution_count": 9,
   "metadata": {
    "collapsed": false
   },
   "outputs": [],
   "source": [
    "df.index = pd.to_datetime(df.pop('Time'))"
   ]
  },
  {
   "cell_type": "code",
   "execution_count": 10,
   "metadata": {
    "collapsed": false
   },
   "outputs": [],
   "source": [
    "df['Status'] = df['Status'].astype('int')"
   ]
  },
  {
   "cell_type": "code",
   "execution_count": 11,
   "metadata": {
    "collapsed": false
   },
   "outputs": [],
   "source": [
    "def dash2nan(x):\n",
    "    if x == '-':\n",
    "        x = np.nan\n",
    "    else:\n",
    "        x = float(x)/1048576.\n",
    "    \n",
    "    return x\n",
    "df['bytes'] = df['bytes'].apply(dash2nan)"
   ]
  },
  {
   "cell_type": "markdown",
   "metadata": {},
   "source": [
    "## Analysis"
   ]
  },
  {
   "cell_type": "markdown",
   "metadata": {},
   "source": [
    "Let's graph the data to visualize what is happening.\n",
    "\n",
    "First let's increase the graph size."
   ]
  },
  {
   "cell_type": "code",
   "execution_count": 12,
   "metadata": {
    "collapsed": false
   },
   "outputs": [],
   "source": [
    "#from pylab import *\n",
    "plt.rcParams['figure.figsize'] = 10, 5 # width, height in inches"
   ]
  },
  {
   "cell_type": "markdown",
   "metadata": {},
   "source": [
    "Now let's graph the requests hitting the web server. `10t` will use a 10 minute interval size, so each point on the graph shows the number of requestes in a 10 minute window."
   ]
  },
  {
   "cell_type": "code",
   "execution_count": 13,
   "metadata": {
    "collapsed": false
   },
   "outputs": [
    {
     "name": "stderr",
     "output_type": "stream",
     "text": [
      "/Users/cch/anaconda/lib/python3.5/site-packages/ipykernel/__main__.py:1: FutureWarning: how in .resample() is deprecated\n",
      "the new syntax is .resample(...).count()\n",
      "  if __name__ == '__main__':\n"
     ]
    },
    {
     "data": {
      "text/plain": [
       "<matplotlib.axes._subplots.AxesSubplot at 0x116d91a58>"
      ]
     },
     "execution_count": 13,
     "metadata": {},
     "output_type": "execute_result"
    },
    {
     "data": {
      "image/png": "[encoded data removed]",
      "text/plain": [
       "<matplotlib.figure.Figure at 0x116db8be0>"
      ]
     },
     "metadata": {},
     "output_type": "display_data"
    }
   ],
   "source": [
    "df_s = df['Status'].resample('10t', how='count')\n",
    "df_s.plot()\n"
   ]
  },
  {
   "cell_type": "markdown",
   "metadata": {},
   "source": [
    "Above we see that we were peaking at around 4500 requests every 10 minutes, or about 450 requests a minute. There was a quick ramp up as the site climbed to the top position on /r/books, then a drop off overnight (for US timezones), another peak the next day as people woke up, and then a decline as the site fell back down the /r/books page.\n",
    "\n",
    "Let's see how the server held up by looking at some response codes."
   ]
  },
  {
   "cell_type": "code",
   "execution_count": 14,
   "metadata": {
    "collapsed": false
   },
   "outputs": [
    {
     "data": {
      "text/plain": [
       "200    6146\n",
       "404     598\n",
       "304     176\n",
       "403      53\n",
       "301      48\n",
       "303      22\n",
       "206      14\n",
       "501       4\n",
       "400       4\n",
       "Name: Status, dtype: int64"
      ]
     },
     "execution_count": 14,
     "metadata": {},
     "output_type": "execute_result"
    }
   ],
   "source": [
    "df['Status'].value_counts()"
   ]
  },
  {
   "cell_type": "code",
   "execution_count": 15,
   "metadata": {
    "collapsed": false
   },
   "outputs": [
    {
     "data": {
      "text/plain": [
       "200    6146\n",
       "404     598\n",
       "304     176\n",
       "403      53\n",
       "301      48\n",
       "303      22\n",
       "206      14\n",
       "501       4\n",
       "400       4\n",
       "Name: Status, dtype: int64"
      ]
     },
     "execution_count": 15,
     "metadata": {},
     "output_type": "execute_result"
    }
   ],
   "source": [
    "df['Status'].value_counts()"
   ]
  },
  {
   "cell_type": "markdown",
   "metadata": {},
   "source": [
    "There are quite a few 500 errors here. 499 errors are also bad news because it means that the client closed the connection before the page could be served. These are almost certainly because the site wasn't responding in a reasonable timeframe.\n",
    "\n",
    "Let's graph the response codes."
   ]
  },
  {
   "cell_type": "code",
   "execution_count": 16,
   "metadata": {
    "collapsed": false
   },
   "outputs": [
    {
     "data": {
      "text/plain": [
       "<matplotlib.axes._subplots.AxesSubplot at 0x1170d8cc0>"
      ]
     },
     "execution_count": 16,
     "metadata": {},
     "output_type": "execute_result"
    },
    {
     "data": {
      "image/png": "[encoded data removed]",
      "text/plain": [
       "<matplotlib.figure.Figure at 0x116db8518>"
      ]
     },
     "metadata": {},
     "output_type": "display_data"
    }
   ],
   "source": [
    "grouped_status = df.groupby('Status')\n",
    "grouped_status.size().plot(kind='bar')"
   ]
  },
  {
   "cell_type": "markdown",
   "metadata": {},
   "source": [
    "OK that doesn't look too bad. The vast majority of requests were served a 200 (OK) response.\n",
    "\n",
    "Let's graph the most common response codes over time, with a sample timespan of 1 hour."
   ]
  },
  {
   "cell_type": "code",
   "execution_count": 17,
   "metadata": {
    "collapsed": false
   },
   "outputs": [],
   "source": [
    "t_span = '60t'\n",
    "df_200 = df['Status'][df['Status'] == 200].resample(t_span).count()\n",
    "df_502 = df['Status'][df['Status'] == 502].resample(t_span).count()\n",
    "df_499 = df['Status'][df['Status'] == 499].resample(t_span).count()\n",
    "df_304 = df['Status'][df['Status'] == 304].resample(t_span).count()\n",
    "df_302 = df['Status'][df['Status'] == 302].resample(t_span).count()\n",
    "df_404 = df['Status'][df['Status'] == 404].resample(t_span).count()\n",
    "df_504 = df['Status'][df['Status'] == 504].resample(t_span).count()\n",
    "df_301 = df['Status'][df['Status'] == 301].resample(t_span).count()\n",
    "\n",
    "\n",
    "status_df = DataFrame({'OK': df_200, \n",
    "                       'Bad Gateway': df_502, \n",
    "                       'Client Closed': df_499, \n",
    "                       'Not Modified': df_304, \n",
    "                       'Found': df_302, \n",
    "                       'Not Found': df_404,\n",
    "                       'Gateway Timeout': df_504,\n",
    "                       'Moved Permenantely': df_301})"
   ]
  },
  {
   "cell_type": "code",
   "execution_count": 18,
   "metadata": {
    "collapsed": false
   },
   "outputs": [
    {
     "data": {
      "text/html": [
       "<div>\n",
       "<table border=\"1\" class=\"dataframe\">\n",
       "  <thead>\n",
       "    <tr style=\"text-align: right;\">\n",
       "      <th></th>\n",
       "      <th>Bad Gateway</th>\n",
       "      <th>Client Closed</th>\n",
       "      <th>Found</th>\n",
       "      <th>Gateway Timeout</th>\n",
       "      <th>Moved Permenantely</th>\n",
       "      <th>Not Found</th>\n",
       "      <th>Not Modified</th>\n",
       "      <th>OK</th>\n",
       "    </tr>\n",
       "    <tr>\n",
       "      <th>Time</th>\n",
       "      <th></th>\n",
       "      <th></th>\n",
       "      <th></th>\n",
       "      <th></th>\n",
       "      <th></th>\n",
       "      <th></th>\n",
       "      <th></th>\n",
       "      <th></th>\n",
       "    </tr>\n",
       "  </thead>\n",
       "  <tbody>\n",
       "    <tr>\n",
       "      <th>2016-04-14 03:00:00</th>\n",
       "      <td>0.0</td>\n",
       "      <td>0.0</td>\n",
       "      <td>0.0</td>\n",
       "      <td>0.0</td>\n",
       "      <td>0.0</td>\n",
       "      <td>4.0</td>\n",
       "      <td>0.0</td>\n",
       "      <td>71</td>\n",
       "    </tr>\n",
       "    <tr>\n",
       "      <th>2016-04-14 04:00:00</th>\n",
       "      <td>0.0</td>\n",
       "      <td>0.0</td>\n",
       "      <td>0.0</td>\n",
       "      <td>0.0</td>\n",
       "      <td>0.0</td>\n",
       "      <td>4.0</td>\n",
       "      <td>0.0</td>\n",
       "      <td>41</td>\n",
       "    </tr>\n",
       "  </tbody>\n",
       "</table>\n",
       "</div>"
      ],
      "text/plain": [
       "                     Bad Gateway  Client Closed  Found  Gateway Timeout  \\\n",
       "Time                                                                      \n",
       "2016-04-14 03:00:00          0.0            0.0    0.0              0.0   \n",
       "2016-04-14 04:00:00          0.0            0.0    0.0              0.0   \n",
       "\n",
       "                     Moved Permenantely  Not Found  Not Modified  OK  \n",
       "Time                                                                  \n",
       "2016-04-14 03:00:00                 0.0        4.0           0.0  71  \n",
       "2016-04-14 04:00:00                 0.0        4.0           0.0  41  "
      ]
     },
     "execution_count": 18,
     "metadata": {},
     "output_type": "execute_result"
    }
   ],
   "source": [
    "status_df.fillna(0, inplace=True)\n",
    "status_df[3:5]"
   ]
  },
  {
   "cell_type": "code",
   "execution_count": 19,
   "metadata": {
    "collapsed": false
   },
   "outputs": [
    {
     "data": {
      "text/plain": [
       "<matplotlib.legend.Legend at 0x11704eb70>"
      ]
     },
     "execution_count": 19,
     "metadata": {},
     "output_type": "execute_result"
    },
    {
     "data": {
      "image/png": "[encoded data removed]",
      "text/plain": [
       "<matplotlib.figure.Figure at 0x11704ea58>"
      ]
     },
     "metadata": {},
     "output_type": "display_data"
    }
   ],
   "source": [
    "status_df.plot()\n",
    "plt.legend()"
   ]
  },
  {
   "cell_type": "markdown",
   "metadata": {},
   "source": [
    "This doesn't look too bad either, but it's hard to make sense of what is going on with so many different response codes. Let's group them into success (web server handled it as expected) and failure (web server error or client closed request).\n",
    "\n",
    "    200    413236    Success    OK \n",
    "    502     39769    Failure    Bad Gateway\n",
    "    499     37443    Failure    Client closed request\n",
    "    304     29777    Success    Not modified\n",
    "    302      9467    Success    Found\n",
    "    404      8171    Success    Not Found\n",
    "    504      8105    Failure    Gateway timeout\n",
    "    301      1743    Success    Moved permanently\n",
    "    401       677    Success    Unauthorized\n",
    "    403       262    Success    Forbidden\n",
    "    500       171    Failure    Internal server error\n",
    "    206        51    Success    Partial content\n",
    "    444        40    Failure?   No response\n",
    "    400        20    Success?   Bad request\n",
    "    408         4    Success?   Request timeout\n",
    "    405         1    Success?   Method not allowed"
   ]
  },
  {
   "cell_type": "code",
   "execution_count": 20,
   "metadata": {
    "collapsed": false
   },
   "outputs": [
    {
     "data": {
      "text/plain": [
       "{200, 206, 301, 303, 304, 400, 403, 404, 501}"
      ]
     },
     "execution_count": 20,
     "metadata": {},
     "output_type": "execute_result"
    }
   ],
   "source": [
    "set(df['Status'])"
   ]
  },
  {
   "cell_type": "code",
   "execution_count": 21,
   "metadata": {
    "collapsed": false
   },
   "outputs": [
    {
     "data": {
      "text/plain": [
       "<matplotlib.legend.Legend at 0x106aa4cf8>"
      ]
     },
     "execution_count": 21,
     "metadata": {},
     "output_type": "execute_result"
    },
    {
     "data": {
      "image/png": "[encoded data removed]",
      "text/plain": [
       "<matplotlib.figure.Figure at 0x117e71710>"
      ]
     },
     "metadata": {},
     "output_type": "display_data"
    },
    {
     "data": {
      "image/png": "[encoded data removed]",
      "text/plain": [
       "<matplotlib.figure.Figure at 0x117e715c0>"
      ]
     },
     "metadata": {},
     "output_type": "display_data"
    }
   ],
   "source": [
    "success_df = df[df['Status'].isin([200, 206, 301, 303, 304, 301, 400, 403, 206])].resample(t_span).count()\n",
    "fail_df = df[df['Status'].isin([501])].resample(t_span).count()\n",
    "success_df.plot(label=\"Success\")\n",
    "fail_df.plot(label=\"Failure\")\n",
    "plt.legend()"
   ]
  },
  {
   "cell_type": "markdown",
   "metadata": {},
   "source": [
    "Those are the requests served by nginx, so it includes both static files like css and javascript and dynamic content that was passed off to the Django app running on uwsgi. Let's filter out the static files and see how uwsgi did. In this case almost all of the static files have `/static/` in the path with a few exceptions such as the `favicon.ico`.\n"
   ]
  },
  {
   "cell_type": "code",
   "execution_count": 22,
   "metadata": {
    "collapsed": false
   },
   "outputs": [
    {
     "name": "stderr",
     "output_type": "stream",
     "text": [
      "/Users/cch/anaconda/lib/python3.5/site-packages/ipykernel/__main__.py:1: UserWarning: This pattern has match groups. To actually get the groups, use str.extract.\n",
      "  if __name__ == '__main__':\n"
     ]
    },
    {
     "data": {
      "text/html": [
       "<div>\n",
       "<table border=\"1\" class=\"dataframe\">\n",
       "  <thead>\n",
       "    <tr style=\"text-align: right;\">\n",
       "      <th></th>\n",
       "      <th>Status</th>\n",
       "      <th>bytes</th>\n",
       "      <th>Request</th>\n",
       "    </tr>\n",
       "    <tr>\n",
       "      <th>Time</th>\n",
       "      <th></th>\n",
       "      <th></th>\n",
       "      <th></th>\n",
       "    </tr>\n",
       "  </thead>\n",
       "  <tbody>\n",
       "    <tr>\n",
       "      <th>2016-04-14 00:01:03</th>\n",
       "      <td>304</td>\n",
       "      <td>NaN</td>\n",
       "      <td>GET /ajax/images/wmi.gif HTTP/1.1</td>\n",
       "    </tr>\n",
       "    <tr>\n",
       "      <th>2016-04-14 00:02:11</th>\n",
       "      <td>304</td>\n",
       "      <td>NaN</td>\n",
       "      <td>GET /ajax/images/title1.gif HTTP/1.1</td>\n",
       "    </tr>\n",
       "    <tr>\n",
       "      <th>2016-04-14 00:03:26</th>\n",
       "      <td>301</td>\n",
       "      <td>0.000238</td>\n",
       "      <td>GET /2015/calculus HTTP/1.1</td>\n",
       "    </tr>\n",
       "    <tr>\n",
       "      <th>2016-04-14 00:03:26</th>\n",
       "      <td>200</td>\n",
       "      <td>0.014662</td>\n",
       "      <td>GET /2015/calculus/ HTTP/1.1</td>\n",
       "    </tr>\n",
       "    <tr>\n",
       "      <th>2016-04-14 00:03:26</th>\n",
       "      <td>200</td>\n",
       "      <td>0.031320</td>\n",
       "      <td>GET /2015/calculus/js/impress.js HTTP/1.1</td>\n",
       "    </tr>\n",
       "    <tr>\n",
       "      <th>2016-04-14 00:03:26</th>\n",
       "      <td>200</td>\n",
       "      <td>0.020339</td>\n",
       "      <td>GET /2015/calculus/css/impress-demo-2.css HTTP...</td>\n",
       "    </tr>\n",
       "    <tr>\n",
       "      <th>2016-04-14 00:03:26</th>\n",
       "      <td>200</td>\n",
       "      <td>0.059296</td>\n",
       "      <td>GET /2015/calculus/MathJax/MathJax.js?config=T...</td>\n",
       "    </tr>\n",
       "    <tr>\n",
       "      <th>2016-04-14 00:03:26</th>\n",
       "      <td>200</td>\n",
       "      <td>0.293543</td>\n",
       "      <td>GET /2015/calculus/MathJax/config/TeX-AMS_HTML...</td>\n",
       "    </tr>\n",
       "    <tr>\n",
       "      <th>2016-04-14 00:03:27</th>\n",
       "      <td>200</td>\n",
       "      <td>0.041979</td>\n",
       "      <td>GET /2015/calculus/MathJax/jax/output/HTML-CSS...</td>\n",
       "    </tr>\n",
       "    <tr>\n",
       "      <th>2016-04-14 00:03:27</th>\n",
       "      <td>200</td>\n",
       "      <td>0.004639</td>\n",
       "      <td>GET /2015/calculus/MathJax/jax/element/mml/opt...</td>\n",
       "    </tr>\n",
       "  </tbody>\n",
       "</table>\n",
       "</div>"
      ],
      "text/plain": [
       "                     Status     bytes  \\\n",
       "Time                                    \n",
       "2016-04-14 00:01:03     304       NaN   \n",
       "2016-04-14 00:02:11     304       NaN   \n",
       "2016-04-14 00:03:26     301  0.000238   \n",
       "2016-04-14 00:03:26     200  0.014662   \n",
       "2016-04-14 00:03:26     200  0.031320   \n",
       "2016-04-14 00:03:26     200  0.020339   \n",
       "2016-04-14 00:03:26     200  0.059296   \n",
       "2016-04-14 00:03:26     200  0.293543   \n",
       "2016-04-14 00:03:27     200  0.041979   \n",
       "2016-04-14 00:03:27     200  0.004639   \n",
       "\n",
       "                                                               Request  \n",
       "Time                                                                    \n",
       "2016-04-14 00:01:03                  GET /ajax/images/wmi.gif HTTP/1.1  \n",
       "2016-04-14 00:02:11               GET /ajax/images/title1.gif HTTP/1.1  \n",
       "2016-04-14 00:03:26                        GET /2015/calculus HTTP/1.1  \n",
       "2016-04-14 00:03:26                       GET /2015/calculus/ HTTP/1.1  \n",
       "2016-04-14 00:03:26          GET /2015/calculus/js/impress.js HTTP/1.1  \n",
       "2016-04-14 00:03:26  GET /2015/calculus/css/impress-demo-2.css HTTP...  \n",
       "2016-04-14 00:03:26  GET /2015/calculus/MathJax/MathJax.js?config=T...  \n",
       "2016-04-14 00:03:26  GET /2015/calculus/MathJax/config/TeX-AMS_HTML...  \n",
       "2016-04-14 00:03:27  GET /2015/calculus/MathJax/jax/output/HTML-CSS...  \n",
       "2016-04-14 00:03:27  GET /2015/calculus/MathJax/jax/element/mml/opt...  "
      ]
     },
     "execution_count": 22,
     "metadata": {},
     "output_type": "execute_result"
    }
   ],
   "source": [
    "dynamic_df = df[df['Request'].str.contains(r'^GET /(static|favicon.ico)') == False]\n",
    "dynamic_df[0:10]"
   ]
  },
  {
   "cell_type": "code",
   "execution_count": 23,
   "metadata": {
    "collapsed": true
   },
   "outputs": [],
   "source": [
    "import qgrid"
   ]
  },
  {
   "cell_type": "code",
   "execution_count": 24,
   "metadata": {
    "collapsed": false
   },
   "outputs": [],
   "source": [
    "qgrid.show_grid(df)"
   ]
  },
  {
   "cell_type": "code",
   "execution_count": 25,
   "metadata": {
    "collapsed": false
   },
   "outputs": [
    {
     "data": {
      "text/plain": [
       "<matplotlib.legend.Legend at 0x118188128>"
      ]
     },
     "execution_count": 25,
     "metadata": {},
     "output_type": "execute_result"
    },
    {
     "data": {
      "image/png": "[encoded data removed]",
      "text/plain": [
       "<matplotlib.figure.Figure at 0x118188198>"
      ]
     },
     "metadata": {},
     "output_type": "display_data"
    },
    {
     "data": {
      "image/png": "[encoded data removed]",
      "text/plain": [
       "<matplotlib.figure.Figure at 0x1180f94a8>"
      ]
     },
     "metadata": {},
     "output_type": "display_data"
    }
   ],
   "source": [
    "success_df = dynamic_df[dynamic_df['Status'].isin([200, 304, 302, 301, 401])].resample(t_span).count()\n",
    "fail_df = dynamic_df[dynamic_df['Status'].isin([501])].resample(t_span).count()\n",
    "success_df.plot(label=\"Success\", color=\"g\")\n",
    "fail_df.plot(label=\"Failure\", color=\"r\")\n",
    "plt.legend()"
   ]
  },
  {
   "cell_type": "markdown",
   "metadata": {},
   "source": [
    "Ouch! So during the initial peak, uwsgi is failing more often than not. Let's look at the same data in a stacked bar chart."
   ]
  },
  {
   "cell_type": "code",
   "execution_count": 26,
   "metadata": {
    "collapsed": false
   },
   "outputs": [
    {
     "ename": "ValueError",
     "evalue": "If using all scalar values, you must pass an index",
     "output_type": "error",
     "traceback": [
      "\u001b[0;31m---------------------------------------------------------------------------\u001b[0m",
      "\u001b[0;31mValueError\u001b[0m                                Traceback (most recent call last)",
      "\u001b[0;32m<ipython-input-26-c52d487dd6f0>\u001b[0m in \u001b[0;36m<module>\u001b[0;34m()\u001b[0m\n\u001b[1;32m      1\u001b[0m responses_df = DataFrame({'Success': success_df, \n\u001b[0;32m----> 2\u001b[0;31m                           \u001b[0;34m'Failure'\u001b[0m\u001b[0;34m:\u001b[0m \u001b[0mfail_df\u001b[0m\u001b[0;34m,\u001b[0m\u001b[0;34m\u001b[0m\u001b[0m\n\u001b[0m\u001b[1;32m      3\u001b[0m                           })\n\u001b[1;32m      4\u001b[0m \u001b[0mresponses_df\u001b[0m\u001b[0;34m.\u001b[0m\u001b[0mplot\u001b[0m\u001b[0;34m(\u001b[0m\u001b[0mkind\u001b[0m\u001b[0;34m=\u001b[0m\u001b[0;34m\"bar\"\u001b[0m\u001b[0;34m,\u001b[0m \u001b[0mstacked\u001b[0m\u001b[0;34m=\u001b[0m\u001b[0;32mTrue\u001b[0m\u001b[0;34m,\u001b[0m \u001b[0mxticks\u001b[0m\u001b[0;34m=\u001b[0m\u001b[0;34m(\u001b[0m\u001b[0;34m)\u001b[0m\u001b[0;34m,\u001b[0m \u001b[0mcolors\u001b[0m\u001b[0;34m=\u001b[0m\u001b[0;34m(\u001b[0m\u001b[0;34m\"r\"\u001b[0m\u001b[0;34m,\u001b[0m \u001b[0;34m\"g\"\u001b[0m\u001b[0;34m,\u001b[0m\u001b[0;34m)\u001b[0m\u001b[0;34m)\u001b[0m\u001b[0;34m\u001b[0m\u001b[0m\n",
      "\u001b[0;32m/Users/cch/anaconda/lib/python3.5/site-packages/pandas/core/frame.py\u001b[0m in \u001b[0;36m__init__\u001b[0;34m(self, data, index, columns, dtype, copy)\u001b[0m\n\u001b[1;32m    222\u001b[0m                                  dtype=dtype, copy=copy)\n\u001b[1;32m    223\u001b[0m         \u001b[0;32melif\u001b[0m \u001b[0misinstance\u001b[0m\u001b[0;34m(\u001b[0m\u001b[0mdata\u001b[0m\u001b[0;34m,\u001b[0m \u001b[0mdict\u001b[0m\u001b[0;34m)\u001b[0m\u001b[0;34m:\u001b[0m\u001b[0;34m\u001b[0m\u001b[0m\n\u001b[0;32m--> 224\u001b[0;31m             \u001b[0mmgr\u001b[0m \u001b[0;34m=\u001b[0m \u001b[0mself\u001b[0m\u001b[0;34m.\u001b[0m\u001b[0m_init_dict\u001b[0m\u001b[0;34m(\u001b[0m\u001b[0mdata\u001b[0m\u001b[0;34m,\u001b[0m \u001b[0mindex\u001b[0m\u001b[0;34m,\u001b[0m \u001b[0mcolumns\u001b[0m\u001b[0;34m,\u001b[0m \u001b[0mdtype\u001b[0m\u001b[0;34m=\u001b[0m\u001b[0mdtype\u001b[0m\u001b[0;34m)\u001b[0m\u001b[0;34m\u001b[0m\u001b[0m\n\u001b[0m\u001b[1;32m    225\u001b[0m         \u001b[0;32melif\u001b[0m \u001b[0misinstance\u001b[0m\u001b[0;34m(\u001b[0m\u001b[0mdata\u001b[0m\u001b[0;34m,\u001b[0m \u001b[0mma\u001b[0m\u001b[0;34m.\u001b[0m\u001b[0mMaskedArray\u001b[0m\u001b[0;34m)\u001b[0m\u001b[0;34m:\u001b[0m\u001b[0;34m\u001b[0m\u001b[0m\n\u001b[1;32m    226\u001b[0m             \u001b[0;32mimport\u001b[0m \u001b[0mnumpy\u001b[0m\u001b[0;34m.\u001b[0m\u001b[0mma\u001b[0m\u001b[0;34m.\u001b[0m\u001b[0mmrecords\u001b[0m \u001b[0;32mas\u001b[0m \u001b[0mmrecords\u001b[0m\u001b[0;34m\u001b[0m\u001b[0m\n",
      "\u001b[0;32m/Users/cch/anaconda/lib/python3.5/site-packages/pandas/core/frame.py\u001b[0m in \u001b[0;36m_init_dict\u001b[0;34m(self, data, index, columns, dtype)\u001b[0m\n\u001b[1;32m    358\u001b[0m             \u001b[0marrays\u001b[0m \u001b[0;34m=\u001b[0m \u001b[0;34m[\u001b[0m\u001b[0mdata\u001b[0m\u001b[0;34m[\u001b[0m\u001b[0mk\u001b[0m\u001b[0;34m]\u001b[0m \u001b[0;32mfor\u001b[0m \u001b[0mk\u001b[0m \u001b[0;32min\u001b[0m \u001b[0mkeys\u001b[0m\u001b[0;34m]\u001b[0m\u001b[0;34m\u001b[0m\u001b[0m\n\u001b[1;32m    359\u001b[0m \u001b[0;34m\u001b[0m\u001b[0m\n\u001b[0;32m--> 360\u001b[0;31m         \u001b[0;32mreturn\u001b[0m \u001b[0m_arrays_to_mgr\u001b[0m\u001b[0;34m(\u001b[0m\u001b[0marrays\u001b[0m\u001b[0;34m,\u001b[0m \u001b[0mdata_names\u001b[0m\u001b[0;34m,\u001b[0m \u001b[0mindex\u001b[0m\u001b[0;34m,\u001b[0m \u001b[0mcolumns\u001b[0m\u001b[0;34m,\u001b[0m \u001b[0mdtype\u001b[0m\u001b[0;34m=\u001b[0m\u001b[0mdtype\u001b[0m\u001b[0;34m)\u001b[0m\u001b[0;34m\u001b[0m\u001b[0m\n\u001b[0m\u001b[1;32m    361\u001b[0m \u001b[0;34m\u001b[0m\u001b[0m\n\u001b[1;32m    362\u001b[0m     \u001b[0;32mdef\u001b[0m \u001b[0m_init_ndarray\u001b[0m\u001b[0;34m(\u001b[0m\u001b[0mself\u001b[0m\u001b[0;34m,\u001b[0m \u001b[0mvalues\u001b[0m\u001b[0;34m,\u001b[0m \u001b[0mindex\u001b[0m\u001b[0;34m,\u001b[0m \u001b[0mcolumns\u001b[0m\u001b[0;34m,\u001b[0m \u001b[0mdtype\u001b[0m\u001b[0;34m=\u001b[0m\u001b[0;32mNone\u001b[0m\u001b[0;34m,\u001b[0m \u001b[0mcopy\u001b[0m\u001b[0;34m=\u001b[0m\u001b[0;32mFalse\u001b[0m\u001b[0;34m)\u001b[0m\u001b[0;34m:\u001b[0m\u001b[0;34m\u001b[0m\u001b[0m\n",
      "\u001b[0;32m/Users/cch/anaconda/lib/python3.5/site-packages/pandas/core/frame.py\u001b[0m in \u001b[0;36m_arrays_to_mgr\u001b[0;34m(arrays, arr_names, index, columns, dtype)\u001b[0m\n\u001b[1;32m   5229\u001b[0m     \u001b[0;31m# figure out the index, if necessary\u001b[0m\u001b[0;34m\u001b[0m\u001b[0;34m\u001b[0m\u001b[0m\n\u001b[1;32m   5230\u001b[0m     \u001b[0;32mif\u001b[0m \u001b[0mindex\u001b[0m \u001b[0;32mis\u001b[0m \u001b[0;32mNone\u001b[0m\u001b[0;34m:\u001b[0m\u001b[0;34m\u001b[0m\u001b[0m\n\u001b[0;32m-> 5231\u001b[0;31m         \u001b[0mindex\u001b[0m \u001b[0;34m=\u001b[0m \u001b[0mextract_index\u001b[0m\u001b[0;34m(\u001b[0m\u001b[0marrays\u001b[0m\u001b[0;34m)\u001b[0m\u001b[0;34m\u001b[0m\u001b[0m\n\u001b[0m\u001b[1;32m   5232\u001b[0m     \u001b[0;32melse\u001b[0m\u001b[0;34m:\u001b[0m\u001b[0;34m\u001b[0m\u001b[0m\n\u001b[1;32m   5233\u001b[0m         \u001b[0mindex\u001b[0m \u001b[0;34m=\u001b[0m \u001b[0m_ensure_index\u001b[0m\u001b[0;34m(\u001b[0m\u001b[0mindex\u001b[0m\u001b[0;34m)\u001b[0m\u001b[0;34m\u001b[0m\u001b[0m\n",
      "\u001b[0;32m/Users/cch/anaconda/lib/python3.5/site-packages/pandas/core/frame.py\u001b[0m in \u001b[0;36mextract_index\u001b[0;34m(data)\u001b[0m\n\u001b[1;32m   5268\u001b[0m \u001b[0;34m\u001b[0m\u001b[0m\n\u001b[1;32m   5269\u001b[0m         \u001b[0;32mif\u001b[0m \u001b[0;32mnot\u001b[0m \u001b[0mindexes\u001b[0m \u001b[0;32mand\u001b[0m \u001b[0;32mnot\u001b[0m \u001b[0mraw_lengths\u001b[0m\u001b[0;34m:\u001b[0m\u001b[0;34m\u001b[0m\u001b[0m\n\u001b[0;32m-> 5270\u001b[0;31m             raise ValueError('If using all scalar values, you must pass'\n\u001b[0m\u001b[1;32m   5271\u001b[0m                              ' an index')\n\u001b[1;32m   5272\u001b[0m \u001b[0;34m\u001b[0m\u001b[0m\n",
      "\u001b[0;31mValueError\u001b[0m: If using all scalar values, you must pass an index"
     ]
    }
   ],
   "source": [
    "responses_df = DataFrame({'Success': success_df, \n",
    "                          'Failure': fail_df,\n",
    "                          })\n",
    "responses_df.plot(kind=\"bar\", stacked=True, xticks=(), colors=(\"r\", \"g\",))"
   ]
  },
  {
   "cell_type": "markdown",
   "metadata": {},
   "source": [
    "It looks like about 2,000 requests / hour is all uwsgi can handle before it starts to throw errors. That is only about 1 request every two seconds so that is a pretty big problem.\n",
    "\n",
    "We needed to handle 10,000 requests / hour, but we were only able to handle 2,000 requests / hour. So it looks like we would need roughly 5x the capacity to handle a spike of this size. This is a little bit misleading though because many visitors abandoned the site after hitting 50X errors and long page loads.\n",
    "\n",
    "Here is a view of the same traffic spike from Google Analytics.\n",
    "\n",
    "![Google Analytics Pageviews vs. Pages per Visit](files/data/google-analytics.png)\n",
    "\n",
    "During the spike, pages per visit were roughly half of what they normally were, so let's double the 5x estimate and plan for 10x the capacity to handle this load."
   ]
  },
  {
   "cell_type": "markdown",
   "metadata": {},
   "source": [
    "## Solutions"
   ]
  },
  {
   "cell_type": "markdown",
   "metadata": {},
   "source": [
    "One solution is to upgrade the server running uwsgi and use ten times the number of workers to handle requests, but let's see if we can be a bit smarter.\n",
    "\n",
    "Another solution is to optimize the web app by shortening long-running requests, but I have already picked most of the low hanging fruit there. \n",
    "\n",
    "Let's investigate to see if there are any opportunities to prevent requests from hitting uwsgi in the first place.\n",
    "\n",
    "First let's get a count pages with the most requests.\n"
   ]
  },
  {
   "cell_type": "code",
   "execution_count": 27,
   "metadata": {
    "collapsed": false
   },
   "outputs": [
    {
     "data": {
      "text/plain": [
       "POST /wmi/webroot/main.php HTTP/1.1                                                                             297\n",
       "GET /NTU/ HTTP/1.1                                                                                              182\n",
       "GET /nursing/html/basic/basic-1.php HTTP/1.1                                                                    145\n",
       "GET /nursing/html/smoke/smoke-1.php HTTP/1.1                                                                    142\n",
       "GET / HTTP/1.0                                                                                                  139\n",
       "GET /nursing/html/wine/wine-1.php HTTP/1.1                                                                      138\n",
       "GET /nursing/html/areca/areca-1.php HTTP/1.1                                                                    137\n",
       "GET /2015/calculus/ HTTP/1.1                                                                                     76\n",
       "GET /nursing/html/wine/data/wine.png HTTP/1.1                                                                    73\n",
       "GET /2015/calculus/favicon.png HTTP/1.1                                                                          73\n",
       "POST /nursing/html/smoke/smoke-1.php HTTP/1.1                                                                    69\n",
       "POST /nursing/html/wine/wine-1.php HTTP/1.1                                                                      68\n",
       "POST /nursing/html/areca/areca-1.php HTTP/1.1                                                                    68\n",
       "POST /nursing/html/basic/basic-1.php HTTP/1.1                                                                    68\n",
       "GET /2015/calculus/MathJax/MathJax.js?config=TeX-AMS_HTML-full HTTP/1.1                                          66\n",
       "GET /2015/calculus/css/impress-demo-2.css HTTP/1.1                                                               66\n",
       "GET /2015/calculus/MathJax/config/TeX-AMS_HTML-full.js?rev=2.6.1 HTTP/1.1                                        66\n",
       "GET /2015/calculus/js/impress.js HTTP/1.1                                                                        65\n",
       "GET /NTU/ntufolium.html HTTP/1.1                                                                                 63\n",
       "GET /2015/calculus/MathJax/jax/element/mml/optable/BasicLatin.js?rev=2.6.1 HTTP/1.1                              61\n",
       "GET /2015/calculus/MathJax/jax/element/mml/optable/SuppMathOperators.js?rev=2.6.1 HTTP/1.1                       61\n",
       "GET /2015/calculus/MathJax/jax/output/HTML-CSS/fonts/TeX/fontdata.js?rev=2.6.1 HTTP/1.1                          60\n",
       "GET /2015/calculus/MathJax/fonts/HTML-CSS/TeX/woff/MathJax_Math-Italic.woff?rev=2.6.1 HTTP/1.1                   59\n",
       "GET /2015/calculus/MathJax/fonts/HTML-CSS/TeX/woff/MathJax_Main-Regular.woff?rev=2.6.1 HTTP/1.1                  58\n",
       "GET /2015/calculus/MathJax/fonts/HTML-CSS/TeX/woff/MathJax_AMS-Regular.woff?rev=2.6.1 HTTP/1.1                   58\n",
       "GET /2015/calculus/MathJax/fonts/HTML-CSS/TeX/woff/MathJax_Main-Bold.woff?rev=2.6.1 HTTP/1.1                     58\n",
       "GET /2015/calculus/MathJax/jax/output/HTML-CSS/fonts/TeX/AMS/Regular/SuppMathOperators.js?rev=2.6.1 HTTP/1.1     57\n",
       "GET /2015/calculus/MathJax/jax/output/HTML-CSS/fonts/TeX/Main/Bold/Latin1Supplement.js?rev=2.6.1 HTTP/1.1        57\n",
       "GET /2015/calculus/MathJax/fonts/HTML-CSS/TeX/woff/MathJax_Size1-Regular.woff?rev=2.6.1 HTTP/1.1                 57\n",
       "GET /2015/calculus/MathJax/fonts/HTML-CSS/TeX/woff/MathJax_Size4-Regular.woff?rev=2.6.1 HTTP/1.1                 57\n",
       "GET /2015/calculus/MathJax/jax/output/HTML-CSS/fonts/TeX/Main/Bold/MathOperators.js?rev=2.6.1 HTTP/1.1           57\n",
       "GET /2015/calculus/MathJax/jax/output/HTML-CSS/fonts/TeX/AMS/Regular/Main.js?rev=2.6.1 HTTP/1.1                  57\n",
       "GET /2015/calculus/apple-touch-icon.png HTTP/1.1                                                                 55\n",
       "GET /2015/calculus/MathJax/jax/output/HTML-CSS/autoload/multiline.js?rev=2.6.1 HTTP/1.1                          55\n",
       "GET /2015/calculus/MathJax/jax/output/HTML-CSS/fonts/TeX/Main/Bold/CombDiactForSymbols.js?rev=2.6.1 HTTP/1.1     54\n",
       "GET /2015/calculus/MathJax/fonts/HTML-CSS/TeX/woff/MathJax_Size3-Regular.woff?rev=2.6.1 HTTP/1.1                 53\n",
       "GET /2015/calculus/MathJax/fonts/HTML-CSS/TeX/woff/MathJax_Size2-Regular.woff?rev=2.6.1 HTTP/1.1                 53\n",
       "GET / HTTP/1.1                                                                                                   49\n",
       "GET /ajax/js/MathJax/MathJax.js?config=TeX-AMS_HTML HTTP/1.1                                                     41\n",
       "GET /robots.txt HTTP/1.1                                                                                         30\n",
       "Name: Request, dtype: int64"
      ]
     },
     "execution_count": 27,
     "metadata": {},
     "output_type": "execute_result"
    }
   ],
   "source": [
    "dynamic_df['Request'].value_counts().head(40)"
   ]
  },
  {
   "cell_type": "markdown",
   "metadata": {},
   "source": [
    "There isn't much that can be done with the POST requests - they need to hit uwsgi so we can save new accounts or ratings in the database. So let's move on to the GET requests. There are two basic techniques for having nginx serve these pages. First, we could have uwsgi store the fully rendered page in memcached or similar, then have nginx try to pull the page from memcached and falling back to uwsgi if the page wasn't in the cache. The second idea is to have uwsgi create a static file, and then let nginx serve that if it exists. Unfortunately, in this case both of those solutions are problematic. It is beyond the scope of this notebook to go into details (hopefully I will have a separate blog post on that soon), but the gist is that for most of these pages, the content changes depending on who is viewing them, so they can't readily be cached at the page level.\n",
    "\n",
    "The biggest gain would be to make the homepage static. The homepage will redirect to a user's recommended page if they are already logged in, but we could possibly detect logged in users with nginx via the http headers and only serve the static page to logged out visitors. Let's see what proportion of visitors who hit the homepage were logged in already."
   ]
  },
  {
   "cell_type": "code",
   "execution_count": 43,
   "metadata": {
    "collapsed": false
   },
   "outputs": [
    {
     "data": {
      "text/plain": [
       "200    297\n",
       "Name: Status, dtype: int64"
      ]
     },
     "execution_count": 43,
     "metadata": {},
     "output_type": "execute_result"
    }
   ],
   "source": [
    "dynamic_df[dynamic_df['Request'].str.contains('POST /wmi/webroot/main.php HTTP/1.1')]['Status'].value_counts()"
   ]
  },
  {
   "cell_type": "code",
   "execution_count": 28,
   "metadata": {
    "collapsed": false
   },
   "outputs": [
    {
     "data": {
      "text/plain": [
       "200    5453\n",
       "404     585\n",
       "304     176\n",
       "403      53\n",
       "301      48\n",
       "303      22\n",
       "206       8\n",
       "400       3\n",
       "Name: Status, dtype: int64"
      ]
     },
     "execution_count": 28,
     "metadata": {},
     "output_type": "execute_result"
    }
   ],
   "source": [
    "dynamic_df[dynamic_df['Request'].str.contains('HTTP/1.1')]['Status'].value_counts()"
   ]
  },
  {
   "cell_type": "code",
   "execution_count": 29,
   "metadata": {
    "collapsed": false
   },
   "outputs": [
    {
     "data": {
      "text/plain": [
       "404    2\n",
       "Name: Status, dtype: int64"
      ]
     },
     "execution_count": 29,
     "metadata": {},
     "output_type": "execute_result"
    }
   ],
   "source": [
    "dynamic_df[dynamic_df['Request'].str.contains('admin')]['Status'].value_counts()"
   ]
  },
  {
   "cell_type": "markdown",
   "metadata": {},
   "source": [
    "Of the visitors who were able to access the homepage, 5453/(5453+176+48+22+206)* 100 = 92% were logged out. So that httpd configuration change would have saved a bit more than 6,000 requests.\n",
    "\n",
    "Out of how many total?"
   ]
  },
  {
   "cell_type": "code",
   "execution_count": 50,
   "metadata": {
    "collapsed": false
   },
   "outputs": [
    {
     "data": {
      "text/plain": [
       "0.923454699407282"
      ]
     },
     "execution_count": 50,
     "metadata": {},
     "output_type": "execute_result"
    }
   ],
   "source": [
    "5453/(5453+176+48+22+206)"
   ]
  },
  {
   "cell_type": "code",
   "execution_count": 44,
   "metadata": {
    "collapsed": false
   },
   "outputs": [
    {
     "data": {
      "text/plain": [
       "Status     6503\n",
       "bytes      6310\n",
       "Request    6503\n",
       "dtype: int64"
      ]
     },
     "execution_count": 44,
     "metadata": {},
     "output_type": "execute_result"
    }
   ],
   "source": [
    "dynamic_df.count()"
   ]
  },
  {
   "cell_type": "markdown",
   "metadata": {},
   "source": [
    "So that change alone would offload 13% of uwsgi's request load to nginx. That's a good start.\n",
    "\n",
    "Another thing that jumps out is that `/apple-touch-icon.png` and `/apple-touch-icon-precomposed.png` don't actually exist have to be passed off to uwsgi before they 404. Setting up nginx to serve anything ending in `.png` will save some requests. Let's see if there are any other files like that."
   ]
  },
  {
   "cell_type": "code",
   "execution_count": 45,
   "metadata": {
    "collapsed": false
   },
   "outputs": [
    {
     "name": "stderr",
     "output_type": "stream",
     "text": [
      "/Users/cch/anaconda/lib/python3.5/site-packages/ipykernel/__main__.py:1: UserWarning: This pattern has match groups. To actually get the groups, use str.extract.\n",
      "  if __name__ == '__main__':\n"
     ]
    },
    {
     "data": {
      "text/plain": [
       "GET /2015/calculus/favicon.png HTTP/1.1             73\n",
       "GET /nursing/html/wine/data/wine.png HTTP/1.1       73\n",
       "GET /2015/calculus/apple-touch-icon.png HTTP/1.1    55\n",
       "GET /apple-touch-icon.png HTTP/1.1                  27\n",
       "GET /apple-touch-icon-precomposed.png HTTP/1.1      27\n",
       "GET /ajax/images/wmi.gif HTTP/1.1                   20\n",
       "GET /ajax/images/title1.gif HTTP/1.1                20\n",
       "GET /ajax/images/2-2.png HTTP/1.1                   18\n",
       "GET /ajax/images/2-0.png HTTP/1.1                   16\n",
       "GET /ajax/images/2-1.png HTTP/1.1                   16\n",
       "Name: Request, dtype: int64"
      ]
     },
     "execution_count": 45,
     "metadata": {},
     "output_type": "execute_result"
    }
   ],
   "source": [
    "dynamic_df[dynamic_df['Request'].str.contains(r'(png |xml |gif )')]['Request'].value_counts().head(10)"
   ]
  },
  {
   "cell_type": "markdown",
   "metadata": {},
   "source": [
    "Let's see how many requests that will save."
   ]
  },
  {
   "cell_type": "code",
   "execution_count": 46,
   "metadata": {
    "collapsed": false
   },
   "outputs": [
    {
     "name": "stderr",
     "output_type": "stream",
     "text": [
      "/Users/cch/anaconda/lib/python3.5/site-packages/ipykernel/__main__.py:1: UserWarning: This pattern has match groups. To actually get the groups, use str.extract.\n",
      "  if __name__ == '__main__':\n"
     ]
    },
    {
     "data": {
      "text/plain": [
       "Status     1504\n",
       "bytes      1433\n",
       "Request    1504\n",
       "dtype: int64"
      ]
     },
     "execution_count": 46,
     "metadata": {},
     "output_type": "execute_result"
    }
   ],
   "source": [
    "dynamic_df[dynamic_df['Request'].str.contains(r'(png |xml |gif )')].count()"
   ]
  },
  {
   "cell_type": "markdown",
   "metadata": {},
   "source": [
    "That is another 3.5% of requests.\n",
    "\n",
    "Between those two changes we will save 16.5% of requests from hitting uwsgi. It isn't enough to prevent the need for a server upgrade, but it does get us a bit closer."
   ]
  }
 ],
 "metadata": {
  "kernelspec": {
   "display_name": "Python 3",
   "language": "python",
   "name": "python3"
  },
  "language_info": {
   "codemirror_mode": {
    "name": "ipython",
    "version": 3
   },
   "file_extension": ".py",
   "mimetype": "text/x-python",
   "name": "python",
   "nbconvert_exporter": "python",
   "pygments_lexer": "ipython3",
   "version": "3.5.2"
  }
 },
 "nbformat": 4,
 "nbformat_minor": 0
}
