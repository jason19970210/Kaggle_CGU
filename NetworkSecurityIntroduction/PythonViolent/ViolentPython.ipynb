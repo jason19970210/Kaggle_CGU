{
 "cells": [
  {
   "cell_type": "markdown",
   "metadata": {},
   "source": [
    "T.J. OCannor: Violent Python\n",
    "---\n",
    "Violent Python, 1st Edition\n",
    "\n",
    "```\n",
    "Chapter 2. Penetration Testing with Python\n",
    "  Introduction: The Morris Worm—Would it Work Today?\n",
    "  Building a Port Scanner\n",
    "  Building an SSH BotNet with Python\n",
    "  Mass Compromise by Bridging FTP and Web\n",
    "  Conficker, Why Trying Hard is Always Good Enough\n",
    "  Writing Your Own Zero-Day Proof of Concept Code\n",
    "  Chapter Wrap Up\n",
    "  References\n",
    "Chapter 3. Forensic Investigations with Python\n",
    "  Introduction: How Forensics Solved the BTK Murders\n",
    "  Where Have You Been?—Analysis of Wireless Access Points in the Registry\n",
    "  Using Python to Recover Deleted Items in the Recycle Bin\n",
    "  Metadata\n",
    "  Investigating Application Artifacts with Python\n",
    "  Investigating iTunes Mobile Backups with Python\n",
    "  Chapter Wrap-Up\n",
    "  References\n",
    "```  \n",
    " "
   ]
  },
  {
   "cell_type": "code",
   "execution_count": null,
   "metadata": {
    "collapsed": true
   },
   "outputs": [],
   "source": []
  },
  {
   "cell_type": "code",
   "execution_count": null,
   "metadata": {
    "collapsed": true
   },
   "outputs": [],
   "source": []
  }
 ],
 "metadata": {
  "kernelspec": {
   "display_name": "Python 3",
   "language": "python",
   "name": "python3"
  },
  "language_info": {
   "codemirror_mode": {
    "name": "ipython",
    "version": 3
   },
   "file_extension": ".py",
   "mimetype": "text/x-python",
   "name": "python",
   "nbconvert_exporter": "python",
   "pygments_lexer": "ipython3",
   "version": "3.5.2"
  }
 },
 "nbformat": 4,
 "nbformat_minor": 0
}
