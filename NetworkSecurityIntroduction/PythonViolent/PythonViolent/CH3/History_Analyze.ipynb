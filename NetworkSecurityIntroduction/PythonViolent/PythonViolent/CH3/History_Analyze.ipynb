{
 "cells": [
  {
   "cell_type": "markdown",
   "metadata": {},
   "source": [
    "Analyze Browsing History,  Recognize Ourselves\n",
    "==="
   ]
  },
  {
   "cell_type": "raw",
   "metadata": {},
   "source": [
    "\n",
    "One of mission of using pc/laptop could safari on web,  and the browser should record all the websites we had visited. Suppose that we want to know which ones are our favorite; the following we will show how it is so simple to reuse the Google-chrome log to recall where we had visited.\n",
    "\n",
    "Chrome stores its data locally in an SQLite database, which is at the directory, profile, located in:\n",
    "\n",
    "**Google /Chrome profile**\n",
    "\n",
    "- Windows 7, 8.1, and 10: `C:\\Users\\<username>\\AppData\\Local\\Google\\Chrome\\User Data\\Default`,\n",
    "- Mac OS X El Capitan,Sirrea: `Users/<usernam>/Library/Application Support/Google/Chrome/Default`,\n",
    "- Linux: `/home/<username>/.config/google-chrome/default`.\n",
    "\n"
   ]
  },
  {
   "cell_type": "markdown",
   "metadata": {},
   "source": [
    "<img src=\"imgs/sqlite.png\" width=90% />"
   ]
  },
  {
   "cell_type": "code",
   "execution_count": 1,
   "metadata": {
    "collapsed": true
   },
   "outputs": [],
   "source": [
    "import os\n",
    "import sqlite3\n",
    "import operator\n",
    "from collections import OrderedDict\n",
    "import matplotlib.pyplot as plt\n",
    "\n",
    "%matplotlib inline"
   ]
  },
  {
   "cell_type": "markdown",
   "metadata": {},
   "source": [
    "Convert data  into CSV\n",
    "---\n",
    "Sqlite is decoded as binary code; it can converted into csv format:"
   ]
  },
  {
   "cell_type": "code",
   "execution_count": null,
   "metadata": {
    "collapsed": true
   },
   "outputs": [],
   "source": [
    "from datetime import datetime, timedelta\n",
    "import csv\n",
    "#conn = sqlite3.connect('C:\\Users\\<USER NAME>\\AppData\\Local\\Google\\Chrome\\User Data\\Default\\History')\n",
    "conn = sqlite3.connect('History')\n",
    "conn.text_factory = str\n",
    "c = conn.cursor()\n",
    "\n",
    "# writing binary requires the option, encoding='utf8'\n",
    "filename='chrome_history.csv'\n",
    "output_file = open(filename, 'w',encoding='utf8')\n",
    "csv_writer = csv.writer(output_file)\n",
    "headers = ('Title', 'Visit Count', 'Date (GMT)')\n",
    "csv_writer.writerow(headers)\n",
    "epoch = datetime(1601, 1, 1)\n",
    "for row in (c.execute('select url, title, visit_count, last_visit_time from urls')):\n",
    "    row = list(row)\n",
    "    url_time = epoch + timedelta(microseconds=row[3])\n",
    "    row[3] = url_time\n",
    "    csv_writer.writerow(row)"
   ]
  },
  {
   "cell_type": "code",
   "execution_count": 15,
   "metadata": {},
   "outputs": [
    {
     "name": "stdout",
     "output_type": "stream",
     "text": [
      "\"URL\",\"Title\",\"Visit Count\",\"Date (GMT)\"\r",
      "\r\n",
      "\"http://pythonkit.com/SymPy-pdf.pdf\",\"SymPy PDF ( 36 Free Books )\",\"0\",\"1601-01-01 00:00:00\"\r",
      "\r\n",
      "\"https://www.google.com.tw/search?es_sm=91&q=ipython+notebook+clear+screen&oq=ipython+notebook+clear+screen&gs_l=serp.3...25165.28644.0.28972.12.10.0.2.2.0.159.535.9j1.10.0....0...1c.1.48.serp..3.9.293.ZCe1HnEoy0Y\",\"ipython notebook clear screen - Google 搜尋\",\"0\",\"1601-01-01 00:00:00\"\r",
      "\r\n",
      "\"http://artsci.drake.edu/grout/doku.php/teaching_resources\",\"Teaching Resources [Jason Grout]\",\"0\",\"1601-01-01 00:00:00\"\r",
      "\r\n",
      "\"http://microbe.net/2014/05/01/teaching-bioinformatics-using-ipython-notebooks/\",\"Teaching bioinformatics using IPython Notebooks | microBEnet: The microbiology of the Built Environment network.\",\"0\",\"1601-01-01 00:00:00\"\r",
      "\r\n"
     ]
    }
   ],
   "source": [
    "# The data format\n",
    "!head -n 5  chrome_history.csv"
   ]
  },
  {
   "cell_type": "code",
   "execution_count": 1,
   "metadata": {
    "collapsed": true
   },
   "outputs": [],
   "source": [
    "import pandas as pd\n",
    "import seaborn as sns\n",
    "from numpy import genfromtxt\n",
    "import warnings\n",
    "warnings.filterwarnings('ignore')\n",
    "\n",
    "sns.set()"
   ]
  },
  {
   "cell_type": "code",
   "execution_count": 8,
   "metadata": {
    "collapsed": true
   },
   "outputs": [],
   "source": [
    "?pd.DataFrame.from_csv"
   ]
  },
  {
   "cell_type": "code",
   "execution_count": 9,
   "metadata": {},
   "outputs": [
    {
     "name": "stdout",
     "output_type": "stream",
     "text": [
      "<class 'pandas.core.frame.DataFrame'>\n",
      "RangeIndex: 136 entries, 0 to 135\n",
      "Data columns (total 4 columns):\n",
      "URL            136 non-null object\n",
      "Title          105 non-null object\n",
      "Visit Count    136 non-null int64\n",
      "Date (GMT)     136 non-null object\n",
      "dtypes: int64(1), object(3)\n",
      "memory usage: 4.3+ KB\n"
     ]
    }
   ],
   "source": [
    "#df = pd.DataFrame.from_csv('chrome_history.csv',index_col=0,parse_dates=[0],encoding=\"utf-8\")\n",
    "df = pd.DataFrame.from_csv('chrome_history.csv',index_col=None,encoding=\"utf-8\")\n",
    "df.info()"
   ]
  },
  {
   "cell_type": "code",
   "execution_count": 11,
   "metadata": {},
   "outputs": [
    {
     "data": {
      "text/html": [
       "<div>\n",
       "<table border=\"1\" class=\"dataframe\">\n",
       "  <thead>\n",
       "    <tr style=\"text-align: right;\">\n",
       "      <th></th>\n",
       "      <th>URL</th>\n",
       "      <th>Title</th>\n",
       "      <th>Visit Count</th>\n",
       "      <th>Date (GMT)</th>\n",
       "    </tr>\n",
       "  </thead>\n",
       "  <tbody>\n",
       "    <tr>\n",
       "      <th>126</th>\n",
       "      <td>http://127.0.0.1:8888/edit/Documents/2016/Andr...</td>\n",
       "      <td>GPSCoord-3.html (editing)</td>\n",
       "      <td>1</td>\n",
       "      <td>2016-11-07 02:30:22.250694</td>\n",
       "    </tr>\n",
       "    <tr>\n",
       "      <th>127</th>\n",
       "      <td>http://127.0.0.1:8888/edit/Documents/2016/Andr...</td>\n",
       "      <td>GPSCoord-5-1.html (editing)</td>\n",
       "      <td>1</td>\n",
       "      <td>2016-11-07 02:31:25.256371</td>\n",
       "    </tr>\n",
       "    <tr>\n",
       "      <th>128</th>\n",
       "      <td>http://127.0.0.1:8888/edit/Documents/2016/Andr...</td>\n",
       "      <td>GPSCoord-5-1.html</td>\n",
       "      <td>7</td>\n",
       "      <td>2016-11-07 02:46:14.580961</td>\n",
       "    </tr>\n",
       "    <tr>\n",
       "      <th>129</th>\n",
       "      <td>file:///Users/cch/Documents/2016/Android/googl...</td>\n",
       "      <td>NaN</td>\n",
       "      <td>1</td>\n",
       "      <td>2016-11-07 08:49:10.997982</td>\n",
       "    </tr>\n",
       "    <tr>\n",
       "      <th>130</th>\n",
       "      <td>http://www.tenlong.com.tw/</td>\n",
       "      <td>天瓏網路書店</td>\n",
       "      <td>1</td>\n",
       "      <td>2016-11-22 04:55:59.873200</td>\n",
       "    </tr>\n",
       "    <tr>\n",
       "      <th>131</th>\n",
       "      <td>https://www.tenlong.com.tw/</td>\n",
       "      <td>天瓏網路書店</td>\n",
       "      <td>2</td>\n",
       "      <td>2016-11-22 04:57:54.259416</td>\n",
       "    </tr>\n",
       "    <tr>\n",
       "      <th>132</th>\n",
       "      <td>https://www.tenlong.com.tw/events/274</td>\n",
       "      <td>天瓏網路書店</td>\n",
       "      <td>1</td>\n",
       "      <td>2016-11-22 04:56:27.681181</td>\n",
       "    </tr>\n",
       "    <tr>\n",
       "      <th>133</th>\n",
       "      <td>http://localhost:8888/notebooks/Documents/IPyt...</td>\n",
       "      <td>Jupyter Notebook</td>\n",
       "      <td>1</td>\n",
       "      <td>2016-11-23 11:07:44.851059</td>\n",
       "    </tr>\n",
       "    <tr>\n",
       "      <th>134</th>\n",
       "      <td>http://ge.cgu.edu.tw/files/13-1002-5325.php</td>\n",
       "      <td>人文藝術成員介紹 - 長庚大學 通識中心</td>\n",
       "      <td>1</td>\n",
       "      <td>2016-12-08 04:10:02.937801</td>\n",
       "    </tr>\n",
       "    <tr>\n",
       "      <th>135</th>\n",
       "      <td>file:///Users/cch/Desktop/cgee.html</td>\n",
       "      <td>人文藝術成員介紹 - 長庚大學 通識中心</td>\n",
       "      <td>1</td>\n",
       "      <td>2016-12-08 04:11:17.129225</td>\n",
       "    </tr>\n",
       "  </tbody>\n",
       "</table>\n",
       "</div>"
      ],
      "text/plain": [
       "                                                   URL  \\\n",
       "126  http://127.0.0.1:8888/edit/Documents/2016/Andr...   \n",
       "127  http://127.0.0.1:8888/edit/Documents/2016/Andr...   \n",
       "128  http://127.0.0.1:8888/edit/Documents/2016/Andr...   \n",
       "129  file:///Users/cch/Documents/2016/Android/googl...   \n",
       "130                         http://www.tenlong.com.tw/   \n",
       "131                        https://www.tenlong.com.tw/   \n",
       "132              https://www.tenlong.com.tw/events/274   \n",
       "133  http://localhost:8888/notebooks/Documents/IPyt...   \n",
       "134        http://ge.cgu.edu.tw/files/13-1002-5325.php   \n",
       "135                file:///Users/cch/Desktop/cgee.html   \n",
       "\n",
       "                           Title  Visit Count                  Date (GMT)  \n",
       "126    GPSCoord-3.html (editing)            1  2016-11-07 02:30:22.250694  \n",
       "127  GPSCoord-5-1.html (editing)            1  2016-11-07 02:31:25.256371  \n",
       "128            GPSCoord-5-1.html            7  2016-11-07 02:46:14.580961  \n",
       "129                          NaN            1  2016-11-07 08:49:10.997982  \n",
       "130                       天瓏網路書店            1  2016-11-22 04:55:59.873200  \n",
       "131                       天瓏網路書店            2  2016-11-22 04:57:54.259416  \n",
       "132                       天瓏網路書店            1  2016-11-22 04:56:27.681181  \n",
       "133             Jupyter Notebook            1  2016-11-23 11:07:44.851059  \n",
       "134         人文藝術成員介紹 - 長庚大學 通識中心            1  2016-12-08 04:10:02.937801  \n",
       "135         人文藝術成員介紹 - 長庚大學 通識中心            1  2016-12-08 04:11:17.129225  "
      ]
     },
     "execution_count": 11,
     "metadata": {},
     "output_type": "execute_result"
    }
   ],
   "source": [
    "df.tail(10)"
   ]
  },
  {
   "cell_type": "code",
   "execution_count": 2,
   "metadata": {
    "collapsed": true
   },
   "outputs": [],
   "source": [
    "def parse(url):\n",
    "    try:\n",
    "        parsed_url_components = url.split('//')\n",
    "        sublevel_split = parsed_url_components[1].split('/', 1)\n",
    "        domain = sublevel_split[0].replace(\"www.\", \"\")\n",
    "        return domain\n",
    "    except IndexError:\n",
    "        print(\"URL format error!\")"
   ]
  },
  {
   "cell_type": "code",
   "execution_count": 12,
   "metadata": {
    "collapsed": true
   },
   "outputs": [],
   "source": [
    "def analyze(results,prompt=\"p\"):\n",
    "    #prompt = raw_input(\"[.] Type <c> to print or <p> to plot\\n[>] \")\n",
    "    if prompt == \"c\":\n",
    "       for site, count in sites_count_sorted.items():\n",
    "           print(site, count)\n",
    "    else:\n",
    "        plt.figure(figsize=(10,8))\n",
    "        plt.bar(range(len(results)), results.values(), align='edge')\n",
    "        plt.xticks(rotation=45)\n",
    "        plt.xticks(range(len(results)), results.keys())"
   ]
  },
  {
   "cell_type": "code",
   "execution_count": 5,
   "metadata": {
    "collapsed": true
   },
   "outputs": [],
   "source": [
    "# File\n",
    "#data_path = os.path.expanduser('~')+\"\\AppData\\Local\\Google\\Chrome\\User Data\\Default\"\n",
    "#files = os.listdir(data_path)\n",
    "\n",
    "#history_db = os.path.join(data_path, 'history')\n",
    "history_db=\"History\""
   ]
  },
  {
   "cell_type": "markdown",
   "metadata": {},
   "source": [
    "What the Sqlite DB stored\n",
    "---\n",
    "```shell\n",
    "> sqlite3 History\n",
    "SQLite version 3.13.0 2016-05-18 10:57:30\n",
    "Enter \".help\" for usage hints.\n",
    "sqlite> .tables\n",
    "downloads             meta                  urls                \n",
    "downloads_url_chains  segment_usage         visit_source        \n",
    "keyword_search_terms  segments              visits              \n",
    "sqlite> .schema\n",
    "...\n",
    "CREATE TABLE urls(id INTEGER PRIMARY KEY,url LONGVARCHAR,title LONGVARCHAR,visit_count INTEGER DEFAULT 0 NOT NULL,typed_count INTEGER DEFAULT 0 NOT NULL,last_visit_time INTEGER NOT NULL,hidden INTEGER DEFAULT 0 NOT NULL,favicon_id INTEGER DEFAULT 0 NOT NULL);\n",
    "...\n",
    "sqlite> \n",
    "```"
   ]
  },
  {
   "cell_type": "code",
   "execution_count": 19,
   "metadata": {
    "collapsed": true
   },
   "outputs": [],
   "source": [
    "# Open Sqlite database\n",
    "c = sqlite3.connect(history_db)\n",
    "cursor = c.cursor()\n",
    "# Select Data\n",
    "select_statement = \"SELECT urls.url, urls.visit_count FROM urls, visits WHERE urls.id = visits.url;\"\n",
    "cursor.execute(select_statement)\n",
    "\n",
    "results = cursor.fetchall() #tuple"
   ]
  },
  {
   "cell_type": "code",
   "execution_count": 22,
   "metadata": {},
   "outputs": [
    {
     "data": {
      "text/plain": [
       "([('https://www.google.com.tw/webhp?sourceid=chrome-instant&ion=1&espv=2&ie=UTF-8',\n",
       "   9),\n",
       "  ('https://www.google.com.tw/webhp?sourceid=chrome-instant&ion=1&espv=2&ie=UTF-8',\n",
       "   9)],\n",
       " ('https://www.google.com.tw/webhp?sourceid=chrome-instant&ion=1&espv=2&ie=UTF-8#q=enigma',\n",
       "  2))"
      ]
     },
     "execution_count": 22,
     "metadata": {},
     "output_type": "execute_result"
    }
   ],
   "source": [
    "results[0:2]"
   ]
  },
  {
   "cell_type": "code",
   "execution_count": 11,
   "metadata": {},
   "outputs": [
    {
     "data": {
      "image/png": "[encoded data removed]",
      "text/plain": [
       "<matplotlib.figure.Figure at 0x106d63358>"
      ]
     },
     "metadata": {},
     "output_type": "display_data"
    }
   ],
   "source": [
    "sites_count = {} #dict makes iterations easier :D\n",
    "\n",
    "for url, count in results:\n",
    "    url = parse(url)\n",
    "    if url in sites_count:\n",
    "       sites_count[url] += 1\n",
    "    else:\n",
    "       sites_count[url] = 1\n",
    "\n",
    "sites_count_sorted = OrderedDict(sorted(sites_count.items(), key=operator.itemgetter(1), reverse=True))\n",
    "\n",
    "analyze (sites_count_sorted)"
   ]
  },
  {
   "cell_type": "markdown",
   "metadata": {
    "collapsed": true
   },
   "source": [
    "Mac/IPhone\n",
    "---\n",
    "data could be found in `~/Library/Safari`.\n",
    "\n",
    "\n",
    "```\n",
    "> sqlite3 History.db\n",
    "\n",
    "sqlite> .table\n",
    "history_client_versions  history_tombstones       metadata               \n",
    "history_items            history_visits         \n",
    "sqlite> .schema\n",
    "CREATE TABLE history_items (id INTEGER PRIMARY KEY AUTOINCREMENT,url TEXT NOT NULL UNIQUE,domain_expansion TEXT NULL,visit_count INTEGER NOT NULL,daily_visit_counts BLOB NOT NULL,weekly_visit_counts BLOB NULL,autocomplete_triggers BLOB NULL,should_recompute_derived_visit_counts INTEGER NOT NULL, visit_count_score INTEGER NOT NULL DEFAULT 0);\n",
    "CREATE TABLE history_visits (id INTEGER PRIMARY KEY AUTOINCREMENT,history_item INTEGER NOT NULL REFERENCES history_items(id) ON DELETE CASCADE,visit_time REAL NOT NULL,title TEXT NULL,load_successful BOOLEAN NOT NULL DEFAULT 1,http_non_get BOOLEAN NOT NULL DEFAULT 0,synthesized BOOLEAN NOT NULL DEFAULT 0,redirect_source INTEGER NULL UNIQUE REFERENCES history_visits(id) ON DELETE CASCADE,redirect_destination INTEGER NULL UNIQUE REFERENCES history_visits(id) ON DELETE CASCADE,origin INTEGER NOT NULL DEFAULT 0,generation INTEGER NOT NULL DEFAULT 0, attributes INTEGER NOT NULL DEFAULT 0, score INTEGER NOT NULL DEFAULT 100);\n",
    "...\n",
    "sqlite> \n",
    "\n",
    "```"
   ]
  },
  {
   "cell_type": "code",
   "execution_count": null,
   "metadata": {
    "collapsed": true
   },
   "outputs": [],
   "source": [
    "conn = sqlite3.connect('History.db')\n",
    "conn.text_factory = str\n",
    "\n",
    "c = conn.cursor()\n",
    "filename='safari_history.csv'\n",
    "output_file = open(filename, 'w',encoding='utf8')\n",
    "csv_writer = csv.writer(output_file)\n",
    "headers = ('Title', 'Visit Count', 'Date (GMT)')\n",
    "csv_writer.writerow(headers)\n",
    "epoch = datetime(1601, 1, 1)\n",
    "for row in (c.execute('select url, title, visit_count, last_visit_time from urls')):\n",
    "    row = list(row)\n",
    "    url_time = epoch + timedelta(microseconds=row[3])\n",
    "    row[3] = url_time\n",
    "    csv_writer.writerow(row)"
   ]
  },
  {
   "cell_type": "code",
   "execution_count": null,
   "metadata": {
    "collapsed": true
   },
   "outputs": [],
   "source": [
    "'History.db'history_db=\n",
    "c = sqlite3.connect(history_db)\n",
    "cursor = c.cursor()\n",
    "# Select Data\n",
    "select_statement = \"SELECT urls.url, urls.visit_count FROM urls, visits WHERE urls.id = visits.url;\"\n",
    "cursor.execute(select_statement)\n",
    "\n",
    "results = cursor.fetchall() #tuple"
   ]
  },
  {
   "cell_type": "code",
   "execution_count": null,
   "metadata": {
    "collapsed": true
   },
   "outputs": [],
   "source": [
    "import plistlib\n",
    "pl = plistlib.readPlist(\"Downloads.plist\")\n",
    "pl[\"DownloadHistory\"]"
   ]
  },
  {
   "cell_type": "code",
   "execution_count": null,
   "metadata": {
    "collapsed": true
   },
   "outputs": [],
   "source": []
  }
 ],
 "metadata": {
  "kernelspec": {
   "display_name": "Python 3",
   "language": "python",
   "name": "python3"
  },
  "language_info": {
   "codemirror_mode": {
    "name": "ipython",
    "version": 3
   },
   "file_extension": ".py",
   "mimetype": "text/x-python",
   "name": "python",
   "nbconvert_exporter": "python",
   "pygments_lexer": "ipython3",
   "version": "3.5.2"
  }
 },
 "nbformat": 4,
 "nbformat_minor": 2
}
