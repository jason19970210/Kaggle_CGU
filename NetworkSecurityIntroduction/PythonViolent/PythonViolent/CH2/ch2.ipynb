{
 "cells": [
  {
   "cell_type": "markdown",
   "metadata": {},
   "source": [
    "Penetration Testing\n",
    "===\n",
    "INTRODUCTION: THE MORRIS WORM—WOULD IT WORK TODAY?\n",
    "---\n",
    "**a).** More than decade before the StuxNet worm crippled the Iranian nuclear power plants in Bushehr and Natantz (Albright, Brannan, & Walrond, 2010); \n",
    "**b).** a graduate student at Cornell launched the  first digital munitions. Robert Tappen Morris Jr., son of the head of the NSA’s National Computer Security Center, infected six thousand workstations with a worm aptly dubbed, the Morris Worm (Elmer-Dewitt, McCarroll, & Voorst, 1988). \n",
    "\n",
    "While 6000 workstations seem trivial by today’s standards, this figure represents ten percent of all computers that were connected to the Internet in 1988. Rough estimates by the US Government Accountability Office put the cost somewhere between $10 and $100 million dollars to eradicate the damage left by Morris’s worm (GAO, 1989). So how did it work?\n",
    "\n",
    "Morris’s worm used a three-pronged attack in order to compromise systems. \n",
    "- It first took advantage of vulnerability in the Unix sendmail program. \n",
    "- Second, it exploited a separate vulnerability in the  finger daemon used by Unix systems. \n",
    "- Finally, it attempted to connect to targets using the remote shell (RSH) protocol using a list of common usernames and passwords. \n",
    "\n",
    "If any of the three attack vectors succeeded, the worm would use a small program as a grappling hook to pull over the rest of the virus (Eichin & Rochlis, 1989).\n"
   ]
  },
  {
   "cell_type": "markdown",
   "metadata": {},
   "source": [
    "BUILDING A PORT SCANNER\n",
    "---\n",
    "Reconnaissance serves as the first step in any good cyber assault. An attacker must discover where the vulnerabilities are before selecting and choosing exploits for a target. In the following section, we will build a small reconnaissance script that scans a target host for open TCP ports. However, in order to interact with TCP ports, we will need to  first construct TCP sockets.\n",
    "\n",
    "Through a series of socket API functions, provided by Python, we can create, bind, listen, connect, or send traf c on TCP/IP sockets. At this point, a greater understanding of TCP/IP and sockets are needed in order to help further develop our own attacks.\n",
    "\n",
    "The majority of Internet accessible applications reside on the TCP, For example, in a target organization, the web server might reside on TCP port 80, the email server on TCP port 25, and the  le transfer server on TCP port 21. To connect to any of these services in our target organization, an attacker must know both the Internet Protocol Address and the TCP port associated with the service. While someone familiar with our target organization would probably have access to this information, an attacker may not.\n",
    "\n",
    "\n",
    "Let’s begin by writing our own TCP port scanner that utilizes a TCP full connect scan to identify hosts."
   ]
  },
  {
   "cell_type": "markdown",
   "metadata": {},
   "source": [
    "TYPES OF SCANNING PROTOCOLS\n",
    "---\n",
    "- **TCP Scanning**, The simplest port scanners use the operating system's network functions and are generally the next option to go to when *SYN* is not a feasible option.\n",
    "- **SYN Scanning**, SYN scan is another form of TCP scanning. Rather than use the operating system's network functions, the port scanner generates raw IP packets itself, and monitors for responses. This scan type is also known as \"half-open scanning\", because it never actually opens a full TCP connection. The port scanner generates a SYN packet. If the target port is open, it will respond with a SYN-ACK packet. The scanner host responds with an RST packet, closing the connection before the handshake is completed. If the port is closed but unfiltered, the target will instantly respond with a RST packet.\n",
    "- **UDP Scanning**, UDP is a connectionless protocol so there is no equivalent to a TCP SYN packet. However, if a UDP packet is sent to a port that is not open, the system will respond with an ICMP port unreachable message. \n",
    "- **ACK Scanning**, ACK scanning is one of the more unusual scan types, as it does not exactly determine whether the port is open or closed, but whether the port is filtered or unfiltered. \n",
    "- ** window scanning**,  is fairly untrustworthy in determining whether a port is opened or closed. It generates the same packet as an ACK scan, but checks whether the window field of the packet has been modified. When the packet reaches its destination, a design flaw attempts to create a window size for the packet if the port is open, flagging the window field of the packet with 1's before it returns to the sender. Using this scanning technique with systems that no longer support this implementation returns 0's for the window field, labeling open ports as closed.\n",
    "- **FIN Scanning**, Since SYN scans are not surreptitious enough, firewalls are, in general, scanning for and blocking packets in the form of SYN packets.3 FIN packets can bypass firewalls without modification. \n",
    "- **ICMP Scan**,  determines if a host responds to ICMP requests, such as echo (ping), netmask, etc.\n",
    "- **others**,\n"
   ]
  },
  {
   "cell_type": "code",
   "execution_count": 1,
   "metadata": {
    "collapsed": false
   },
   "outputs": [
    {
     "name": "stdout",
     "output_type": "stream",
     "text": [
      "\n",
      "[*] Host: 127.0.0.1, IP: 127.0.0.1 \n",
      "\n",
      "[*] Scanning Started at 09:20:25 ... \n",
      "[*] Scanning Stoped at 09:20:25 ... \n",
      "[*] Scan Drring: 0:00:00.000126 ... \n",
      "[-] Scanning Completed!\n"
     ]
    }
   ],
   "source": [
    "from socket import *\n",
    "import sys, time\n",
    "from datetime import datetime\n",
    "\n",
    "host='127.0.0.1'\n",
    "max_port= 1\n",
    "min_port=9000\n",
    "\n",
    "def scan_host(host,port,r_code=1):\n",
    "    try:\n",
    "        s = socket(AF_INET, SOCK_STREAM)\n",
    "        code=s.connect_ex((host, port))\n",
    "        \n",
    "        if code==0:\n",
    "           r_code=code;\n",
    "        s.close;\n",
    "    except:\n",
    "        pass;\n",
    "    return r_code;\n",
    "hostip=gethostbyname(host)\n",
    "print('\\n[*] Host: %s, IP: %s ' % (host,hostip))\n",
    "print('\\n[*] Scanning Started at %s ... ' % (time.strftime(\"%H:%M:%S\")))\n",
    "\n",
    "start_time=datetime.now()\n",
    "for port in range(min_port,max_port):\n",
    "    try:\n",
    "        response=scan_host(host,port)\n",
    "        if response==0:\n",
    "           print('[*] Port %s: Open ' % (port))\n",
    "    except:\n",
    "        pass;\n",
    "stop_time=datetime.now()    \n",
    "total_time_duration= stop_time-start_time\n",
    "print('[*] Scanning Stoped at %s ... ' % (time.strftime(\"%H:%M:%S\")))\n",
    "print('[*] Scan Drring: %s ... ' % (total_time_duration))\n",
    "print('[-] Scanning Completed!')"
   ]
  },
  {
   "cell_type": "code",
   "execution_count": 11,
   "metadata": {
    "collapsed": false
   },
   "outputs": [
    {
     "name": "stdout",
     "output_type": "stream",
     "text": [
      "\n",
      "[*] Host: www.cgu.edu.tw, IP: 163.25.114.6 \n",
      "\n",
      "[*] Scanning Started at 09:23:11 ... \n",
      "[*] Scanning Stoped at 09:23:11 ... \n",
      "[*] Scan Durating: 0:00:00.000143 ... \n",
      "[-] Scanning Completed!\n"
     ]
    }
   ],
   "source": [
    "from socket import *\n",
    "import sys, time\n",
    "from datetime import datetime\n",
    "\n",
    "host='www.cgu.edu.tw'\n",
    "max_port= 1\n",
    "min_port=1000\n",
    "\n",
    "def scan_host(host,port,r_code=1):\n",
    "    try:\n",
    "        s = socket(AF_INET, SOCK_STREAM)\n",
    "        #print(connSkt)\n",
    "        #print(tgtHost, tgtPort)\n",
    "        code=s.connect_ex((host, port))\n",
    "        \n",
    "        if code==0:\n",
    "           r_code=code;\n",
    "        s.close;\n",
    "    except:\n",
    "        pass;\n",
    "    return r_code;\n",
    "hostip=gethostbyname(host)\n",
    "print('\\n[*] Host: %s, IP: %s ' % (host,hostip))\n",
    "print('\\n[*] Scanning Started at %s ... ' % (time.strftime(\"%H:%M:%S\")))\n",
    "\n",
    "start_time=datetime.now()\n",
    "for port in range(min_port,max_port):\n",
    "    try:\n",
    "        response=scan_host(host,port)\n",
    "        if response==0:\n",
    "           print('[*] Port %s: Open ' % (port))\n",
    "    except:\n",
    "        pass;\n",
    "stop_time=datetime.now()    \n",
    "total_time_duration= stop_time-start_time\n",
    "print('[*] Scanning Stoped at %s ... ' % (time.strftime(\"%H:%M:%S\")))\n",
    "print('[*] Scan Durating: %s ... ' % (total_time_duration))\n",
    "print('[-] Scanning Completed!')"
   ]
  },
  {
   "cell_type": "code",
   "execution_count": 15,
   "metadata": {
    "collapsed": false
   },
   "outputs": [
    {
     "name": "stdout",
     "output_type": "stream",
     "text": [
      "Adresses to scan: 99\n",
      "Ping 120.126.22.{1-100}\n",
      "Delay: 0s\n",
      "120.126.22.1 responds in 4.390ms\n",
      "120.126.22.2 not responding, offline\n",
      "120.126.22.3 not responding, offline\n",
      "120.126.22.4 not responding, offline\n",
      "120.126.22.5 not responding, offline\n",
      "120.126.22.6 not responding, offline\n",
      "120.126.22.7 not responding, offline\n",
      "120.126.22.8 not responding, offline\n",
      "120.126.22.9 not responding, offline\n",
      "120.126.22.10 not responding, offline\n",
      "120.126.22.11 not responding, offline\n",
      "120.126.22.12 not responding, offline\n",
      "120.126.22.13 not responding, offline\n",
      "120.126.22.14 not responding, offline\n",
      "120.126.22.15 not responding, offline\n",
      "120.126.22.16 not responding, offline\n",
      "120.126.22.17 not responding, offline\n",
      "120.126.22.18 responds in 1.458ms\n",
      "120.126.22.19 not responding, offline\n",
      "120.126.22.20 responds in 1.317ms\n",
      "120.126.22.21 not responding, offline\n",
      "120.126.22.22 not responding, offline\n",
      "120.126.22.23 responds in 2.869ms\n",
      "120.126.22.24 not responding, offline\n",
      "120.126.22.25 not responding, offline\n",
      "120.126.22.26 not responding, offline\n",
      "120.126.22.27 not responding, offline\n",
      "120.126.22.28 not responding, offline\n",
      "120.126.22.29 not responding, offline\n",
      "120.126.22.30 not responding, offline\n",
      "120.126.22.31 responds in 2.099ms\n",
      "120.126.22.32 not responding, offline\n",
      "120.126.22.33 not responding, offline\n",
      "120.126.22.34 responds in 2.294ms\n",
      "120.126.22.35 not responding, offline\n",
      "120.126.22.36 not responding, offline\n",
      "120.126.22.37 responds in 1.975ms\n",
      "120.126.22.38 not responding, offline\n",
      "120.126.22.39 not responding, offline\n",
      "120.126.22.40 not responding, offline\n",
      "120.126.22.41 not responding, offline\n",
      "120.126.22.42 not responding, offline\n",
      "120.126.22.43 not responding, offline\n",
      "120.126.22.44 not responding, offline\n",
      "120.126.22.45 responds in 1.932ms\n",
      "120.126.22.46 not responding, offline\n",
      "120.126.22.47 not responding, offline\n",
      "120.126.22.48 not responding, offline\n",
      "120.126.22.49 not responding, offline\n",
      "120.126.22.50 not responding, offline\n",
      "120.126.22.51 not responding, offline\n",
      "120.126.22.52 not responding, offline\n",
      "120.126.22.53 not responding, offline\n",
      "120.126.22.54 responds in 1.612ms\n",
      "120.126.22.55 not responding, offline\n",
      "120.126.22.56 not responding, offline\n",
      "120.126.22.57 not responding, offline\n",
      "120.126.22.58 not responding, offline\n",
      "120.126.22.59 not responding, offline\n",
      "120.126.22.60 responds in 2.791ms\n",
      "120.126.22.61 not responding, offline\n",
      "120.126.22.62 not responding, offline\n",
      "120.126.22.63 not responding, offline\n",
      "120.126.22.64 not responding, offline\n",
      "120.126.22.65 not responding, offline\n",
      "120.126.22.66 not responding, offline\n",
      "120.126.22.67 not responding, offline\n",
      "120.126.22.68 not responding, offline\n",
      "120.126.22.69 not responding, offline\n",
      "120.126.22.70 not responding, offline\n",
      "120.126.22.71 not responding, offline\n",
      "120.126.22.72 not responding, offline\n",
      "120.126.22.73 not responding, offline\n",
      "120.126.22.74 not responding, offline\n",
      "120.126.22.75 responds in 1.976ms\n",
      "120.126.22.76 not responding, offline\n",
      "120.126.22.77 not responding, offline\n",
      "120.126.22.78 not responding, offline\n",
      "120.126.22.79 not responding, offline\n",
      "120.126.22.80 responds in 0.649ms\n",
      "120.126.22.81 not responding, offline\n",
      "120.126.22.82 not responding, offline\n",
      "120.126.22.83 not responding, offline\n",
      "120.126.22.84 responds in 2.196ms\n",
      "120.126.22.85 not responding, offline\n",
      "120.126.22.86 not responding, offline\n",
      "120.126.22.87 not responding, offline\n",
      "120.126.22.88 not responding, offline\n",
      "120.126.22.89 not responding, offline\n",
      "120.126.22.90 not responding, offline\n",
      "120.126.22.91 not responding, offline\n",
      "120.126.22.92 not responding, offline\n",
      "120.126.22.93 not responding, offline\n",
      "120.126.22.94 not responding, offline\n",
      "120.126.22.95 not responding, offline\n",
      "120.126.22.96 not responding, offline\n",
      "120.126.22.97 not responding, offline\n",
      "120.126.22.98 not responding, offline\n",
      "120.126.22.99 responds in 1.541ms\n",
      "120.126.22.100 responds in 1.758ms\n"
     ]
    }
   ],
   "source": [
    "%%bash\n",
    "#python3 scan-network.py --from=1 --to=100 --ip 120.126.22\n",
    "python3 scan-network.py -f 1 -t 100 -i 120.126.22.*"
   ]
  },
  {
   "cell_type": "code",
   "execution_count": 2,
   "metadata": {
    "collapsed": false
   },
   "outputs": [],
   "source": [
    "#import optparse\n",
    "from socket import *\n",
    "from threading import *\n",
    "\n",
    "screenLock = Semaphore(value=1)\n",
    "\n",
    "def connScan(tgtHost, tgtPort):\n",
    "    try:\n",
    "        connSkt = socket(AF_INET, SOCK_STREAM)\n",
    "        #print(connSkt)\n",
    "        #print(tgtHost, tgtPort)\n",
    "        connSkt.connect((tgtHost, tgtPort))\n",
    "        print(connSkt.send('ViolentPython\\r\\n'),\"test\")\n",
    "        if connSkt.send('ViolentPython\\r\\n')==\"\":\n",
    "           results = connSkt.recv(100)\n",
    "           screenLock.acquire()\n",
    "           print('[+] %s/tcp open' % tgtPort)\n",
    "           print('[+] ' + str(results))\n",
    "        else:\n",
    "           print('[+] %s/tcp open' % tgtPort) \n",
    "    except:\n",
    "        screenLock.acquire()\n",
    "        print('[-] %s/tcp closed' % tgtPort)\n",
    "    finally:\n",
    "        screenLock.release()\n",
    "        connSkt.close()\t\n",
    "\n",
    "def portScan(tgtHost, tgtPorts):\n",
    "    try:\n",
    "        tgtIP = gethostbyname(tgtHost)\n",
    "    except:\n",
    "        print(\"[-] Cannot resolve '%s': Unknown host\" %tgtHost)\n",
    "        return\n",
    "\n",
    "    try:\n",
    "        tgtName = gethostbyaddr(tgtIP)\n",
    "        print('\\n[+] Scan Results for: ' + tgtName[0])\n",
    "    except:\n",
    "        print('\\n[+] Scan Results for: ' + tgtIP)\n",
    "\n",
    "    setdefaulttimeout(1)\n",
    "    #print(tgtPorts,len(tgtPorts))\n",
    "    #for tgtPort in tgtPorts:\n",
    "        #t = Thread(target=connScan,args=(tgtHost,int(tgtPort)))\n",
    "    t = Thread(target=connScan,args=(tgtHost,int(tgtPorts)))\n",
    "    t.start()\n",
    "\n",
    "def mainPortScan(Host,Ports):\n",
    "    \"\"\"\n",
    "    mainPortScan(Host,ports)\n",
    "    \"\"\"\n",
    "\n",
    "    tgtHost = Host\n",
    "    tgtPorts = str(Ports).split(',')\n",
    "    \n",
    "    for tgtPort in  tgtPorts:\n",
    "        portScan(tgtHost, tgtPort)"
   ]
  },
  {
   "cell_type": "code",
   "execution_count": 3,
   "metadata": {
    "collapsed": false
   },
   "outputs": [
    {
     "name": "stdout",
     "output_type": "stream",
     "text": [
      "[-] 8080/tcp closed\n"
     ]
    }
   ],
   "source": [
    "connScan(\"diffusion.cgu.edu.tw\", \"8080\")"
   ]
  },
  {
   "cell_type": "code",
   "execution_count": 4,
   "metadata": {
    "collapsed": false
   },
   "outputs": [
    {
     "name": "stdout",
     "output_type": "stream",
     "text": [
      "[-] 80/tcp closed\n"
     ]
    }
   ],
   "source": [
    "connScan(\"127.0.0.1\", \"80\")"
   ]
  },
  {
   "cell_type": "code",
   "execution_count": 5,
   "metadata": {
    "collapsed": false
   },
   "outputs": [
    {
     "name": "stdout",
     "output_type": "stream",
     "text": [
      "\n",
      "[+] Scan Results for: localhost\n",
      "[-] 8888/tcp closed\n"
     ]
    }
   ],
   "source": [
    "portScan(\"127.0.0.1\", \"8888\")\n"
   ]
  },
  {
   "cell_type": "code",
   "execution_count": 6,
   "metadata": {
    "collapsed": false
   },
   "outputs": [
    {
     "name": "stdout",
     "output_type": "stream",
     "text": [
      "\n",
      "[+] Scan Results for: localhost\n",
      "[-] 21/tcp closed\n",
      "\n",
      "[+] Scan Results for: localhost\n",
      "[-] 80/tcp closed\n",
      "\n",
      "[+] Scan Results for: localhost\n",
      "[-] 8888/tcp closed\n"
     ]
    }
   ],
   "source": [
    "mainPortScan(\"127.0.0.1\", \"21,80,8888\")"
   ]
  },
  {
   "cell_type": "code",
   "execution_count": 9,
   "metadata": {
    "collapsed": false
   },
   "outputs": [
    {
     "name": "stdout",
     "output_type": "stream",
     "text": [
      "0\n"
     ]
    }
   ],
   "source": [
    "connSkt=socket(AF_INET, SOCK_STREAM)\n",
    "print(connSkt.connect_ex(('127.0.0.1', 8888)))"
   ]
  },
  {
   "cell_type": "code",
   "execution_count": 82,
   "metadata": {
    "collapsed": false
   },
   "outputs": [
    {
     "ename": "OSError",
     "evalue": "[Errno 48] Address already in use",
     "output_type": "error",
     "traceback": [
      "\u001b[0;31m---------------------------------------------------------------------------\u001b[0m",
      "\u001b[0;31mOSError\u001b[0m                                   Traceback (most recent call last)",
      "\u001b[0;32m<ipython-input-82-2ec0258c1be2>\u001b[0m in \u001b[0;36m<module>\u001b[0;34m()\u001b[0m\n\u001b[1;32m      1\u001b[0m \u001b[0ms\u001b[0m \u001b[0;34m=\u001b[0m \u001b[0msocket\u001b[0m\u001b[0;34m(\u001b[0m\u001b[0mAF_INET\u001b[0m\u001b[0;34m,\u001b[0m\u001b[0mSOCK_STREAM\u001b[0m\u001b[0;34m)\u001b[0m\u001b[0;34m\u001b[0m\u001b[0m\n\u001b[0;32m----> 2\u001b[0;31m \u001b[0ms\u001b[0m\u001b[0;34m.\u001b[0m\u001b[0mbind\u001b[0m\u001b[0;34m(\u001b[0m\u001b[0;34m(\u001b[0m\u001b[0;34m'127.0.0.1'\u001b[0m\u001b[0;34m,\u001b[0m \u001b[0;36m8900\u001b[0m\u001b[0;34m)\u001b[0m\u001b[0;34m)\u001b[0m\u001b[0;34m\u001b[0m\u001b[0m\n\u001b[0m\u001b[1;32m      3\u001b[0m \u001b[0ms\u001b[0m\u001b[0;34m.\u001b[0m\u001b[0mlisten\u001b[0m\u001b[0;34m(\u001b[0m\u001b[0;36m1\u001b[0m\u001b[0;34m)\u001b[0m\u001b[0;34m\u001b[0m\u001b[0m\n\u001b[1;32m      4\u001b[0m \u001b[0mconn\u001b[0m\u001b[0;34m,\u001b[0m \u001b[0maddr\u001b[0m \u001b[0;34m=\u001b[0m \u001b[0ms\u001b[0m\u001b[0;34m.\u001b[0m\u001b[0maccept\u001b[0m\u001b[0;34m(\u001b[0m\u001b[0;34m)\u001b[0m\u001b[0;34m\u001b[0m\u001b[0m\n",
      "\u001b[0;31mOSError\u001b[0m: [Errno 48] Address already in use"
     ]
    }
   ],
   "source": [
    "s = socket(AF_INET,SOCK_STREAM)\n",
    "s.bind(('127.0.0.1', 8900))\n",
    "s.listen(1)\n",
    "conn, addr = s.accept()"
   ]
  },
  {
   "cell_type": "code",
   "execution_count": 84,
   "metadata": {
    "collapsed": false
   },
   "outputs": [
    {
     "ename": "timeout",
     "evalue": "timed out",
     "output_type": "error",
     "traceback": [
      "\u001b[0;31m---------------------------------------------------------------------------\u001b[0m",
      "\u001b[0;31mtimeout\u001b[0m                                   Traceback (most recent call last)",
      "\u001b[0;32m<ipython-input-84-b884cde66311>\u001b[0m in \u001b[0;36m<module>\u001b[0;34m()\u001b[0m\n\u001b[1;32m      1\u001b[0m \u001b[0ms\u001b[0m\u001b[0;34m.\u001b[0m\u001b[0mlisten\u001b[0m\u001b[0;34m(\u001b[0m\u001b[0;36m10\u001b[0m\u001b[0;34m)\u001b[0m\u001b[0;34m\u001b[0m\u001b[0m\n\u001b[0;32m----> 2\u001b[0;31m \u001b[0mconn\u001b[0m\u001b[0;34m,\u001b[0m \u001b[0maddr\u001b[0m \u001b[0;34m=\u001b[0m \u001b[0ms\u001b[0m\u001b[0;34m.\u001b[0m\u001b[0maccept\u001b[0m\u001b[0;34m(\u001b[0m\u001b[0;34m)\u001b[0m\u001b[0;34m\u001b[0m\u001b[0m\n\u001b[0m",
      "\u001b[0;32m/Users/cch/anaconda/lib/python3.5/socket.py\u001b[0m in \u001b[0;36maccept\u001b[0;34m(self)\u001b[0m\n\u001b[1;32m    193\u001b[0m         \u001b[0mFor\u001b[0m \u001b[0mIP\u001b[0m \u001b[0msockets\u001b[0m\u001b[0;34m,\u001b[0m \u001b[0mthe\u001b[0m \u001b[0maddress\u001b[0m \u001b[0minfo\u001b[0m \u001b[0;32mis\u001b[0m \u001b[0ma\u001b[0m \u001b[0mpair\u001b[0m \u001b[0;34m(\u001b[0m\u001b[0mhostaddr\u001b[0m\u001b[0;34m,\u001b[0m \u001b[0mport\u001b[0m\u001b[0;34m)\u001b[0m\u001b[0;34m.\u001b[0m\u001b[0;34m\u001b[0m\u001b[0m\n\u001b[1;32m    194\u001b[0m         \"\"\"\n\u001b[0;32m--> 195\u001b[0;31m         \u001b[0mfd\u001b[0m\u001b[0;34m,\u001b[0m \u001b[0maddr\u001b[0m \u001b[0;34m=\u001b[0m \u001b[0mself\u001b[0m\u001b[0;34m.\u001b[0m\u001b[0m_accept\u001b[0m\u001b[0;34m(\u001b[0m\u001b[0;34m)\u001b[0m\u001b[0;34m\u001b[0m\u001b[0m\n\u001b[0m\u001b[1;32m    196\u001b[0m         \u001b[0;31m# If our type has the SOCK_NONBLOCK flag, we shouldn't pass it onto the\u001b[0m\u001b[0;34m\u001b[0m\u001b[0;34m\u001b[0m\u001b[0m\n\u001b[1;32m    197\u001b[0m         \u001b[0;31m# new socket. We do not currently allow passing SOCK_NONBLOCK to\u001b[0m\u001b[0;34m\u001b[0m\u001b[0;34m\u001b[0m\u001b[0m\n",
      "\u001b[0;31mtimeout\u001b[0m: timed out"
     ]
    }
   ],
   "source": [
    "s.listen(10)\n",
    "conn, addr = s.accept()"
   ]
  },
  {
   "cell_type": "markdown",
   "metadata": {},
   "source": [
    "Threading the Scan\n",
    "---\n",
    "Depending on the timeout variable for a socket, a scan of each socket can take several seconds. While this appears trivial, it quickly adds up if we are scanning multiple hosts or ports. Ideally, we would like to scan sockets simultaneously as opposed to sequentially. Enter Python threading. Threading provides a way to perform these kinds of executions simultaneously. To utilize this in our scan, we will modify the iteration loop in our portScan() function. Notice how we call the connScan function as a thread. Each thread created in the iteration will now appear to execute at the same time."
   ]
  },
  {
   "cell_type": "code",
   "execution_count": null,
   "metadata": {
    "collapsed": true
   },
   "outputs": [],
   "source": []
  }
 ],
 "metadata": {
  "kernelspec": {
   "display_name": "Python 3",
   "language": "python",
   "name": "python3"
  },
  "language_info": {
   "codemirror_mode": {
    "name": "ipython",
    "version": 3
   },
   "file_extension": ".py",
   "mimetype": "text/x-python",
   "name": "python",
   "nbconvert_exporter": "python",
   "pygments_lexer": "ipython3",
   "version": "3.5.2"
  }
 },
 "nbformat": 4,
 "nbformat_minor": 1
}
