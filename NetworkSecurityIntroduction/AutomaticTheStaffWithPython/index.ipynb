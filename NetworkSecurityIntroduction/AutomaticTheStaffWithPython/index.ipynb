{
 "cells": [
  {
   "cell_type": "markdown",
   "metadata": {},
   "source": [
    "Basics of Python\n",
    "===\n",
    "1. [Data type](#1.-Data-Type)<br>\n",
    "  a. [1.1 For Human or Machines](#1.1-For-Human-or-Machines)<br>\n",
    "  b. [1.2 Example, ASCII table's Layout](#1.2-Example,-ASCII-table's-Layout)<br>\n",
    "-  [String Manipulating](#2.-String-Manipulating)\n",
    "- [Regular expression Module, re](#3.-Matching-Multiple-Groups-with-the-Pipe) <br>\n",
    "  a. [Whether the phone number in Taipei is](#Find-out-from-a-messages)<br>\n",
    "  b. [re Module](#re-module)<br>\n",
    "  c. [Passwords Enchancement](#Passwords-Design)<br>"
   ]
  },
  {
   "cell_type": "markdown",
   "metadata": {},
   "source": [
    "# Basics of Basics\n",
    "\n",
    "## Basic Syntax\n",
    "  * arithmatic operators, 數學運算: \n",
    "  <code style=\"color:brown\">+, -, *, /, **, %, ==, ... </code>\n",
    "  * variables, 設定變數:\n",
    "  <pre style=\"color:brown\">\n",
    "  x=...\n",
    "  </pre>\n",
    "  * define function, 定義函數:\n",
    "  <pre style=\"color:brown\">\n",
    "  def func(arg1,arg2,...,argn=\"val\"):\n",
    "      ...\n",
    "      return result\n",
    "  </pre>    \n",
    "  * conditional statement, 條件式:\n",
    "  <pre style=\"color:brown\">\n",
    "    if cond1: \n",
    "          ...\n",
    "       elif cond2:\n",
    "          ...\n",
    "       else:\n",
    "          ...\n",
    "   </pre>\n",
    "  * while ...:\n",
    "  * for ..."
   ]
  },
  {
   "cell_type": "markdown",
   "metadata": {},
   "source": [
    "Example, Dictionary data\n",
    "---\n",
    "Not easy to read the dict-type data, use python to finalize the data:\n",
    "\n",
    "```\n",
    "Dict Type:\n",
    "   data={key1:value1, key2:val2,...}\n",
    "-> data[key1] = value1\n",
    "```\n",
    "Python solution:\n",
    "```Python\n",
    "   data = (dict type ...)\n",
    "   for item in data:\n",
    "       print('[+] ' + item + ':' + data[item])\n",
    "                       ꜛ              ꜛ   \n",
    "                      key           value\n",
    " ```    "
   ]
  },
  {
   "cell_type": "code",
   "execution_count": 3,
   "metadata": {
    "collapsed": true
   },
   "outputs": [],
   "source": [
    "book_info={'Producer': 'Adobe PDF Library 10.00', \n",
    "           'CreationDate': \"D:20121106094325+05'30'\",  \n",
    "           'Title': 'Network Traffic Analysis with Python', \n",
    "           'Creator': 'Elsevier',\n",
    "           'Subject': 'Violent Python, First Edition (2013) 125-169. doi:10.1016/B978-1-59-749957-6.00004-1'}"
   ]
  },
  {
   "cell_type": "code",
   "execution_count": 4,
   "metadata": {},
   "outputs": [
    {
     "name": "stdout",
     "output_type": "stream",
     "text": [
      "[+] Creator:Elsevier\n",
      "[+] Producer:Adobe PDF Library 10.00\n",
      "[+] CreationDate:D:20121106094325+05'30'\n",
      "[+] Subject:Violent Python, First Edition (2013) 125-169. doi:10.1016/B978-1-59-749957-6.00004-1\n",
      "[+] Title:Network Traffic Analysis with Python\n"
     ]
    }
   ],
   "source": [
    "for item in book_info:\n",
    "    print('[+] ' + item + ':' + book_info[item])"
   ]
  },
  {
   "cell_type": "code",
   "execution_count": null,
   "metadata": {
    "collapsed": true
   },
   "outputs": [],
   "source": []
  },
  {
   "cell_type": "markdown",
   "metadata": {
    "collapsed": true
   },
   "source": [
    "Text Strings\n",
    "---\n",
    "Text is the most familiar type of data to most readers, so we’ll begin with some of the powerful features of text strings in Python."
   ]
  },
  {
   "cell_type": "markdown",
   "metadata": {},
   "source": [
    "Unicode\n",
    "---\n",
    "萬國碼\n",
    "\n",
    "All of the text examples in this book thus far have been plain old **ASCII**. ASCII was defined in the 1960s, when computers were the size of refrigerators and only slightly better at performing computations. The basic unit of computer storage is the byte, which can store 256 unique values in its eight bits. For various reasons, ASCII only used 7 bits (128 unique values): 26 uppercase letters, 26 lowercase letters, 10 digits, some punctuation symbols, some spacing characters, and some *nonprinting control codes*.\n",
    "\n",
    "Unfortunately, the world has more letters than ASCII provides. You could have a hot dog at a diner, but never a Gewürztraminer1 at a café. Many attempts have been made to add more letters and symbols, and you’ll see them at times. Just a couple of those include:\n",
    "- Latin-1, or called ISO 8859-1\n",
    "- Windows code page 1252\n",
    "\n",
    "Each of these uses all eight bits, but even that’s not enough, especially when you need non-European languages. <b><font color=\"red\">Unicode</font></b> is an ongoing international standard to define the characters of all the world’s languages, plus symbols from mathematics and other fields."
   ]
  },
  {
   "cell_type": "code",
   "execution_count": 77,
   "metadata": {},
   "outputs": [
    {
     "name": "stdout",
     "output_type": "stream",
     "text": [
      "I have a dream, <class 'str'>\n"
     ]
    }
   ],
   "source": [
    "msg='I have a dream,'\n",
    "# print out the message and its type\n",
    "print(msg,type(msg))"
   ]
  },
  {
   "cell_type": "code",
   "execution_count": 78,
   "metadata": {},
   "outputs": [
    {
     "name": "stdout",
     "output_type": "stream",
     "text": [
      "b'I have a dream,' <class 'bytes'>\n"
     ]
    }
   ],
   "source": [
    "msg_bytes=msg.encode('latin-1')\n",
    "# print the string in ASCII\n",
    "print(msg_bytes,type(msg_bytes))"
   ]
  },
  {
   "cell_type": "code",
   "execution_count": 28,
   "metadata": {},
   "outputs": [
    {
     "name": "stdout",
     "output_type": "stream",
     "text": [
      "97 b'a' <class 'bytes'>\n"
     ]
    }
   ],
   "source": [
    "a='a'\n",
    "a_bytes=a.encode('latin-1')\n",
    "print(ord(a),a_bytes,type(a_bytes))"
   ]
  },
  {
   "cell_type": "code",
   "execution_count": 29,
   "metadata": {},
   "outputs": [
    {
     "name": "stdout",
     "output_type": "stream",
     "text": [
      "97 b'a' <class 'bytes'>\n"
     ]
    }
   ],
   "source": [
    "a='a'\n",
    "a_bytes=a.encode('utf-8')\n",
    "print(ord(a),a_bytes,type(a_bytes))"
   ]
  },
  {
   "cell_type": "code",
   "execution_count": 2,
   "metadata": {},
   "outputs": [
    {
     "name": "stdout",
     "output_type": "stream",
     "text": [
      "ü <class 'str'>\n"
     ]
    }
   ],
   "source": [
    "uber='ü'\n",
    "print(uber,type(uber))"
   ]
  },
  {
   "cell_type": "code",
   "execution_count": 30,
   "metadata": {},
   "outputs": [
    {
     "name": "stdout",
     "output_type": "stream",
     "text": [
      "252 b'\\xfc'\n"
     ]
    }
   ],
   "source": [
    "uber_bytes=uber.encode('latin-1')\n",
    "print(ord(uber),uber_bytes)"
   ]
  },
  {
   "cell_type": "markdown",
   "metadata": {},
   "source": [
    "```252 > 128``` which means it is ouside the ASCII table! And ```\\xfc=16*15+12=252```."
   ]
  },
  {
   "cell_type": "code",
   "execution_count": 31,
   "metadata": {},
   "outputs": [
    {
     "name": "stdout",
     "output_type": "stream",
     "text": [
      "252 b'\\xc3\\xbc'\n"
     ]
    }
   ],
   "source": [
    "uber='ü'\n",
    "uber_bytes=uber.encode('utf-8')\n",
    "print(ord(uber),uber_bytes)"
   ]
  },
  {
   "cell_type": "code",
   "execution_count": 24,
   "metadata": {},
   "outputs": [
    {
     "data": {
      "text/plain": [
       "b'\\\\xfc'"
      ]
     },
     "execution_count": 24,
     "metadata": {},
     "output_type": "execute_result"
    }
   ],
   "source": [
    "a.encode('ascii', 'backslashreplace')"
   ]
  },
  {
   "cell_type": "code",
   "execution_count": 3,
   "metadata": {},
   "outputs": [
    {
     "name": "stdout",
     "output_type": "stream",
     "text": [
      "卦包 <class 'str'>\n"
     ]
    }
   ],
   "source": [
    "# Let's input the Traditional Chinese Character\n",
    "b='卦包'\n",
    "# What we input what we see\n",
    "print(b,type(b))"
   ]
  },
  {
   "cell_type": "code",
   "execution_count": 4,
   "metadata": {},
   "outputs": [
    {
     "ename": "UnicodeEncodeError",
     "evalue": "'latin-1' codec can't encode characters in position 0-1: ordinal not in range(256)",
     "output_type": "error",
     "traceback": [
      "\u001b[0;31m---------------------------------------------------------------------------\u001b[0m",
      "\u001b[0;31mUnicodeEncodeError\u001b[0m                        Traceback (most recent call last)",
      "\u001b[0;32m<ipython-input-4-5750bdb54e22>\u001b[0m in \u001b[0;36m<module>\u001b[0;34m()\u001b[0m\n\u001b[1;32m      1\u001b[0m \u001b[0;31m# whether it could be encoded in ASCII or not\u001b[0m\u001b[0;34m\u001b[0m\u001b[0;34m\u001b[0m\u001b[0m\n\u001b[0;32m----> 2\u001b[0;31m \u001b[0mb_bytes\u001b[0m\u001b[0;34m=\u001b[0m\u001b[0mb\u001b[0m\u001b[0;34m.\u001b[0m\u001b[0mencode\u001b[0m\u001b[0;34m(\u001b[0m\u001b[0;34m'latin-1'\u001b[0m\u001b[0;34m)\u001b[0m\u001b[0;34m\u001b[0m\u001b[0m\n\u001b[0m\u001b[1;32m      3\u001b[0m \u001b[0mb_bytes\u001b[0m\u001b[0;34m,\u001b[0m\u001b[0mtype\u001b[0m\u001b[0;34m(\u001b[0m\u001b[0mb_bytes\u001b[0m\u001b[0;34m)\u001b[0m\u001b[0;34m\u001b[0m\u001b[0m\n",
      "\u001b[0;31mUnicodeEncodeError\u001b[0m: 'latin-1' codec can't encode characters in position 0-1: ordinal not in range(256)"
     ]
    }
   ],
   "source": [
    "# whether it could be encoded in ASCII or not\n",
    "b_bytes=b.encode('latin-1')\n",
    "b_bytes,type(b_bytes)"
   ]
  },
  {
   "cell_type": "markdown",
   "metadata": {},
   "source": [
    "<font color=\"brown\">What's wrong here?</font> As system's response, wrong encoding! "
   ]
  },
  {
   "cell_type": "code",
   "execution_count": 80,
   "metadata": {},
   "outputs": [
    {
     "name": "stdout",
     "output_type": "stream",
     "text": [
      "b'\\xe5\\x8d\\xa6\\xe5\\x8c\\x85' <class 'bytes'>\n"
     ]
    }
   ],
   "source": [
    "# encoded in utf-8 again\n",
    "b_bytes=b.encode('utf-8')\n",
    "print(b_bytes,type(b_bytes))"
   ]
  },
  {
   "cell_type": "code",
   "execution_count": 82,
   "metadata": {},
   "outputs": [
    {
     "name": "stdout",
     "output_type": "stream",
     "text": [
      "卦包\n"
     ]
    }
   ],
   "source": [
    "# decode back to string\n",
    "print(b_bytes.decode('utf-8'))"
   ]
  },
  {
   "cell_type": "code",
   "execution_count": 12,
   "metadata": {},
   "outputs": [
    {
     "data": {
      "text/plain": [
       "b'\\\\u5366\\\\u5305'"
      ]
     },
     "execution_count": 12,
     "metadata": {},
     "output_type": "execute_result"
    }
   ],
   "source": [
    "# Hexidecimal codes of above\n",
    "b.encode('ascii', 'backslashreplace')"
   ]
  },
  {
   "cell_type": "code",
   "execution_count": 13,
   "metadata": {},
   "outputs": [
    {
     "data": {
      "text/plain": [
       "b'&#21350;&#21253;'"
      ]
     },
     "execution_count": 13,
     "metadata": {},
     "output_type": "execute_result"
    }
   ],
   "source": [
    "# Decimal Codes of above\n",
    "b.encode('ascii', 'xmlcharrefreplace')"
   ]
  },
  {
   "cell_type": "markdown",
   "metadata": {},
   "source": [
    "Relation between above\n",
    "---\n",
    "<img src=\"imgs/fonttable.png\" width=60% />"
   ]
  },
  {
   "cell_type": "markdown",
   "metadata": {},
   "source": [
    "Mathematical Time\n",
    "---\n",
    "Why <pre>U 5366 = 21350</pre>\n",
    "<b>Answer</b><br>\n",
    "<pre style=\"color:brown\">\n",
    "6 + 6*16 + 3*16*16 + 5*16*16*16 = 21350\n",
    "</pre>"
   ]
  },
  {
   "cell_type": "code",
   "execution_count": 18,
   "metadata": {},
   "outputs": [
    {
     "data": {
      "text/plain": [
       "21350"
      ]
     },
     "execution_count": 18,
     "metadata": {},
     "output_type": "execute_result"
    }
   ],
   "source": [
    "# check it out\n",
    "6 + 6*16 + 3*16**2 + 5*16**3"
   ]
  },
  {
   "cell_type": "markdown",
   "metadata": {},
   "source": [
    "1. Data Type\n",
    "===\n",
    "Formally, we read and use the symbols in ASCII code as listed\n",
    "\n",
    "<code style=\"color:brown;font-size:2em;\">\n",
    "! \" # $ % & ' ( ) * + , - . /  0\n",
    "1 2 3 4 5 6 7 8 9 : ; < = > ?  @\n",
    "A B C D E F G H I J K L M N O  P\n",
    "Q R S T U V W X Y Z [ \\ ] ^ _  `\n",
    "a b c d e f g h i j k l m n o  p\n",
    "q r s t u v w x y z { | } ~ \n",
    "</code>\n",
    "\n",
    "With the ordered keymap, we can work with computer with keyboard."
   ]
  },
  {
   "cell_type": "markdown",
   "metadata": {},
   "source": [
    "1.1 For Human or Machines\n",
    "---\n",
    "- **Human read**: ```a, b, c, ...```\n",
    "- **ASCII order**: ```97, 98, 99, ...```\n",
    "- **Machines read**: ```0x61, 0x62, 0x63, ...```"
   ]
  },
  {
   "cell_type": "code",
   "execution_count": 83,
   "metadata": {},
   "outputs": [
    {
     "data": {
      "text/plain": [
       "True"
      ]
     },
     "execution_count": 83,
     "metadata": {},
     "output_type": "execute_result"
    }
   ],
   "source": [
    "# How comes '0x61'\n",
    "6*16+1==97"
   ]
  },
  {
   "cell_type": "code",
   "execution_count": 84,
   "metadata": {},
   "outputs": [
    {
     "name": "stdout",
     "output_type": "stream",
     "text": [
      "97\n"
     ]
    }
   ],
   "source": [
    "print(ord('a'))"
   ]
  },
  {
   "cell_type": "code",
   "execution_count": 85,
   "metadata": {},
   "outputs": [
    {
     "name": "stdout",
     "output_type": "stream",
     "text": [
      "97\n",
      "98\n",
      "99\n",
      "100\n"
     ]
    }
   ],
   "source": [
    "# order of character\n",
    "codes=['a','b','c','d']\n",
    "for c in codes:\n",
    "    print(ord(c))\n"
   ]
  },
  {
   "cell_type": "markdown",
   "metadata": {},
   "source": [
    "But machines read Hexi-code (十六進位碼, 或 binary code 機器碼):"
   ]
  },
  {
   "cell_type": "code",
   "execution_count": 86,
   "metadata": {},
   "outputs": [
    {
     "name": "stdout",
     "output_type": "stream",
     "text": [
      "0x61\n"
     ]
    }
   ],
   "source": [
    "print(hex(97))"
   ]
  },
  {
   "cell_type": "code",
   "execution_count": 160,
   "metadata": {},
   "outputs": [
    {
     "name": "stdout",
     "output_type": "stream",
     "text": [
      "0x61\n",
      "0x62\n",
      "0x63\n",
      "0x64\n"
     ]
    }
   ],
   "source": [
    "for c in codes:\n",
    "    st=hex(ord(c))\n",
    "    print(st)\n",
    "    #print(str(st))"
   ]
  },
  {
   "cell_type": "markdown",
   "metadata": {},
   "source": [
    "**In Brief**,\n",
    "<code style=\"color:red;\">\n",
    "              ord(i)   \n",
    "    Human     ---&gt;    ASCII \n",
    "             &lt;---\n",
    "       ^      chr(i)    |\n",
    "       |                | hex(i)\n",
    "       |                V\n",
    "       .   --------  Machine\n",
    "           print(hex)\n",
    "</code>"
   ]
  },
  {
   "cell_type": "code",
   "execution_count": 162,
   "metadata": {},
   "outputs": [
    {
     "name": "stdout",
     "output_type": "stream",
     "text": [
      "  i hex(i) chr(i)\n",
      " 97  0x61    a\n",
      " 98  0x62    b\n",
      " 99  0x63    c\n",
      "100  0x64    d\n"
     ]
    }
   ],
   "source": [
    "# Pretty layout by format()\n",
    "print(\"{:3}\".format(\"  i\"),\"{:6}\".format('hex(i)'),\"{}\".format('chr(i)'))\n",
    "for i in range(97,101):\n",
    "    print(\"{:3}\".format(i),\"{:6}\".format(' '+hex(i)),\"{}\".format('  '+chr(i)))\n",
    "    #print(i,hex(i),chr(i))"
   ]
  },
  {
   "cell_type": "markdown",
   "metadata": {},
   "source": [
    "1.2 Example, ASCII table's Layout\n",
    "---\n",
    "Make table for the first 128 ASCII characters:"
   ]
  },
  {
   "cell_type": "code",
   "execution_count": 25,
   "metadata": {},
   "outputs": [
    {
     "name": "stdout",
     "output_type": "stream",
     "text": [
      " 0x0  0x1  0x2  0x3  0x4  0x5  0x6  0x7  0x8  0x9  0xa  0xb  0xc  0xd  0xe  0xf   \u0000    \u0001    \u0002    \u0003    \u0004    \u0005    \u0006    \u0007    \b    \t    \n",
      "    \u000b",
      "    \f",
      "    \r",
      "    \u000e    \u000f\n",
      "  \u0010    \u0011    \u0012    \u0013    \u0014    \u0015    \u0016    \u0017    \u0018    \u0019    \u001a    \u001b    \u001c",
      "    \u001d",
      "    \u001e",
      "    \u001f\n",
      "       !    \"    #    $    %    &    '    (    )    *    +    ,    -    .    /\n",
      "  0    1    2    3    4    5    6    7    8    9    :    ;    <    =    >    ?\n",
      "  @    A    B    C    D    E    F    G    H    I    J    K    L    M    N    O\n",
      "  P    Q    R    S    T    U    V    W    X    Y    Z    [    \\    ]    ^    _\n",
      "  `    a    b    c    d    e    f    g    h    i    j    k    l    m    n    o\n",
      "  p    q    r    s    t    u    v    w    x    y    z    {    |    }    ~    \n",
      "                      ",
      "                                        \n",
      "                                                              \n",
      "       ¡    ¢    £    ¤    ¥    ¦    §    ¨    ©    ª    «    ¬    ­    ®    ¯\n",
      "  °    ±    ²    ³    ´    µ    ¶    ·    ¸    ¹    º    »    ¼    ½    ¾    ¿\n",
      "  À    Á    Â    Ã    Ä    Å    Æ    Ç    È    É    Ê    Ë    Ì    Í    Î    Ï\n",
      "  Ð    Ñ    Ò    Ó    Ô    Õ    Ö    ×    Ø    Ù    Ú    Û    Ü    Ý    Þ    ß\n",
      "  à    á    â    ã    ä    å    æ    ç    è    é    ê    ë    ì    í    î    ï\n",
      "  ð    ñ    ò    ó    ô    õ    ö    ÷    ø    ù    ú    û    ü    ý    þ    ÿ\n"
     ]
    }
   ],
   "source": [
    "# ASCII Table for 0 - 128\n",
    "for i in range(16):\n",
    "    print('',hex(i),end=' ')\n",
    "for i in range(256):\n",
    "    if i%16==15:\n",
    "       print(' ',chr(i))\n",
    "    else:\n",
    "       #print(chr(i),end=' ') \n",
    "       print(' ',\"{:2}\".format(chr(i)),end=' ')"
   ]
  },
  {
   "cell_type": "code",
   "execution_count": 32,
   "metadata": {},
   "outputs": [
    {
     "name": "stdout",
     "output_type": "stream",
     "text": [
      "b'\\x00\\x01\\x02\\x03\\x04\\x05\\x06\\x07\\x08\\t\\n\\x0b\\x0c\\r\\x0e\\x0f'\n",
      "b'\\x10\\x11\\x12\\x13\\x14\\x15\\x16\\x17\\x18\\x19\\x1a\\x1b\\x1c\\x1d\\x1e\\x1f'\n",
      "b' !\"#$%&\\'()*+,-./'\n",
      "b'0123456789:;<=>?'\n",
      "b'@ABCDEFGHIJKLMNO'\n",
      "b'PQRSTUVWXYZ[\\\\]^_'\n",
      "b'`abcdefghijklmno'\n",
      "b'pqrstuvwxyz{|}~\\x7f'\n",
      "b'\\x80\\x81\\x82\\x83\\x84\\x85\\x86\\x87\\x88\\x89\\x8a\\x8b\\x8c\\x8d\\x8e\\x8f'\n",
      "b'\\x90\\x91\\x92\\x93\\x94\\x95\\x96\\x97\\x98\\x99\\x9a\\x9b\\x9c\\x9d\\x9e\\x9f'\n",
      "b'\\xa0\\xa1\\xa2\\xa3\\xa4\\xa5\\xa6\\xa7\\xa8\\xa9\\xaa\\xab\\xac\\xad\\xae\\xaf'\n",
      "b'\\xb0\\xb1\\xb2\\xb3\\xb4\\xb5\\xb6\\xb7\\xb8\\xb9\\xba\\xbb\\xbc\\xbd\\xbe\\xbf'\n",
      "b'\\xc0\\xc1\\xc2\\xc3\\xc4\\xc5\\xc6\\xc7\\xc8\\xc9\\xca\\xcb\\xcc\\xcd\\xce\\xcf'\n",
      "b'\\xd0\\xd1\\xd2\\xd3\\xd4\\xd5\\xd6\\xd7\\xd8\\xd9\\xda\\xdb\\xdc\\xdd\\xde\\xdf'\n",
      "b'\\xe0\\xe1\\xe2\\xe3\\xe4\\xe5\\xe6\\xe7\\xe8\\xe9\\xea\\xeb\\xec\\xed\\xee\\xef'\n",
      "b'\\xf0\\xf1\\xf2\\xf3\\xf4\\xf5\\xf6\\xf7\\xf8\\xf9\\xfa\\xfb\\xfc\\xfd\\xfe\\xff'\n"
     ]
    }
   ],
   "source": [
    "for i in range(16):\n",
    "    j=16*i\n",
    "    print(bytes(range(j,j+16)))\n"
   ]
  },
  {
   "cell_type": "markdown",
   "metadata": {},
   "source": [
    "TCP/IP address\n",
    "---\n",
    "All the devices live on the internet should be assigned a 4-numeric address, each ranges from 0 to 255, like\n",
    "<code>\n",
    "127.0.0.1\n",
    "</code>"
   ]
  },
  {
   "cell_type": "code",
   "execution_count": 41,
   "metadata": {},
   "outputs": [
    {
     "data": {
      "text/plain": [
       "b'\\x7f\\x00\\x00\\x01'"
      ]
     },
     "execution_count": 41,
     "metadata": {},
     "output_type": "execute_result"
    }
   ],
   "source": [
    "import socket\n",
    "s = '127.0.0.1'\n",
    "dst = socket.inet_aton(s)\n",
    "dst"
   ]
  },
  {
   "cell_type": "code",
   "execution_count": 161,
   "metadata": {},
   "outputs": [
    {
     "name": "stdout",
     "output_type": "stream",
     "text": [
      "\u0001\n"
     ]
    }
   ],
   "source": [
    "# nothing print out?\n",
    "print('\\x01')"
   ]
  },
  {
   "cell_type": "markdown",
   "metadata": {},
   "source": [
    "Questions\n",
    "---\n",
    "1. What's the relation between <code>'\\x7f\\x00\\x00\\x01'</code> and <code>127.0.0.1</code>?\n",
    "2. Some found a string within his log file with <code>\\x16\\x03\\x01\\x01\\x1e\\x01</code>. Try to help him to translate this string. "
   ]
  },
  {
   "cell_type": "code",
   "execution_count": 5,
   "metadata": {},
   "outputs": [
    {
     "data": {
      "text/plain": [
       "b'\\xa3\\x19r\\x01'"
      ]
     },
     "execution_count": 5,
     "metadata": {},
     "output_type": "execute_result"
    }
   ],
   "source": [
    "import socket\n",
    "s = '163.25.114.1'\n",
    "dst = socket.inet_aton(s)\n",
    "dst"
   ]
  },
  {
   "cell_type": "code",
   "execution_count": 3,
   "metadata": {
    "collapsed": true
   },
   "outputs": [],
   "source": [
    "# ** help on-line **\n",
    "# bytes giving packed 32-bit IP representation\n",
    "?socket.inet_aton"
   ]
  },
  {
   "cell_type": "code",
   "execution_count": 35,
   "metadata": {},
   "outputs": [
    {
     "data": {
      "text/plain": [
       "'163.25.114.1'"
      ]
     },
     "execution_count": 35,
     "metadata": {},
     "output_type": "execute_result"
    }
   ],
   "source": [
    "socket.inet_ntoa(dst)"
   ]
  },
  {
   "cell_type": "markdown",
   "metadata": {},
   "source": [
    "Automatic the IP Conversion\n",
    "---\n",
    "\n",
    "<code style=\"color:brown;font-size:1.2em;\">\n",
    "\\xa3\\x19r\\x01    --->    163.25.114.1\n",
    "                                               output\n",
    "\\xa3   ---> a (10) x 16 + 3   --->  163 + '.'   --->   163.\n",
    "\\x19   --->     1  x 16 + 9   --->   25 + '.'   --->       25.\n",
    "r      --->   ord(r) = 114    --->  114 + '.'   --->          114.\n",
    "\\x01   --->               1   --->    1 + '.'   --->              1\n",
    "\n",
    "</code>\n",
    "--->  **163.25.114.1**"
   ]
  },
  {
   "cell_type": "code",
   "execution_count": 34,
   "metadata": {
    "collapsed": true
   },
   "outputs": [],
   "source": [
    "from struct import pack"
   ]
  },
  {
   "cell_type": "code",
   "execution_count": 35,
   "metadata": {
    "collapsed": true
   },
   "outputs": [],
   "source": [
    "def my_ntoa ( dst,sep='.' ):\n",
    "    #import re\n",
    "    hexs = ''\n",
    "    for ch in dst:\n",
    "        if ch!=dst[-1]:\n",
    "           hexs += str(ord(ch)) + sep\n",
    "           #hexs = re.sub('\\.$', '', hexs) \n",
    "        else:\n",
    "           hexs += str(ord(ch)) \n",
    "    return hexs"
   ]
  },
  {
   "cell_type": "code",
   "execution_count": 36,
   "metadata": {},
   "outputs": [
    {
     "data": {
      "text/plain": [
       "'127.0.0.1'"
      ]
     },
     "execution_count": 36,
     "metadata": {},
     "output_type": "execute_result"
    }
   ],
   "source": [
    "address1='\\x7f\\x00\\x00\\x01'\n",
    "my_ntoa (address1)"
   ]
  },
  {
   "cell_type": "code",
   "execution_count": 38,
   "metadata": {},
   "outputs": [
    {
     "data": {
      "text/plain": [
       "'163.25.114.1'"
      ]
     },
     "execution_count": 38,
     "metadata": {},
     "output_type": "execute_result"
    }
   ],
   "source": [
    "address2=\"\\xa3\\x19r\\x01\"\n",
    "my_ntoa (address2)"
   ]
  },
  {
   "cell_type": "code",
   "execution_count": 37,
   "metadata": {},
   "outputs": [
    {
     "name": "stdout",
     "output_type": "stream",
     "text": [
      "\u0016\u0003\u0001\u0001\u001e",
      "\u0001\n"
     ]
    }
   ],
   "source": [
    "print('\\x16\\x03\\x01\\x01\\x1e\\x01')"
   ]
  },
  {
   "cell_type": "code",
   "execution_count": 38,
   "metadata": {},
   "outputs": [
    {
     "data": {
      "text/plain": [
       "'3922 3 1 1 30 1 39'"
      ]
     },
     "execution_count": 38,
     "metadata": {},
     "output_type": "execute_result"
    }
   ],
   "source": [
    "address2=\"'\\x16\\x03\\x01\\x01\\x1e\\x01'\"\n",
    "my_ntoa (address2,' ')"
   ]
  },
  {
   "cell_type": "markdown",
   "metadata": {},
   "source": [
    "PNG, the Iamge Format\n",
    "---\n",
    "<img src=\"imgs/logo-bro.png\" />\n",
    "\n",
    "PNG is one of popular iamge format. Its code is like the following list,\n",
    "<pre style=\"color:brown\">\n",
    "<89>PNG^M\n",
    "^Z\n",
    "^@^@^@^MIHDR^@^@^@¯^@^@^@H^H^F^@^@^@<80>Ó¥O^@^@^@       pHYs^@^@.#^@^@.#^Ax¥?v^@^@\n",
    "OiCCPPhotoshop ICC profile^@^@xÚ<9d>SgTSé^V=÷ÞôBK<88><80><94>KoR^U^H RB<8b><80>^T<91>&*!        ^PJ<88>!¡Ù^UQÁ^QEE^D^[È <88>^C<8e><8e><80><8c>^UQ,^L<8a>\n",
    "Ø^Gä!¢<8e><83>£<88><8a>Êûá{£kÖ¼÷æÍþµ×>ç¬ó<9d>³Ï^GÀ^H^L<96>H3Q5<80>^L©B^^^Qà<83>ÇÄÆáä.@<81>\n",
    "$p^@^P^H³d!sý#^A^@ø~<<+\"À^G¾^@^AxÓ^K^H^@ÀM<9b>À0^\\<87>ÿ^OêB<99>\\^A<80><84>^AÀt<91>8K^H<80>^T^@@z<8e>B¦^@@F^A<80><9d><98>&S^@ ^D^@`Ëcbã^@P-^@`'^?æÓ^@<80><9d>ø<99>{^A^@[<94>!^U^A <91>^@ ^Se<88>D^@h;^@¬ÏV<8a>E^@X0^@^TfKÄ9^@Ø-^@0IWfH^@°·^@ÀÎ^P^K²^@^H^L^@0Q<88><85>)^@^D{^@`È##x^@<84><99>^@^TFòW<ñ+®^Pç*^@^@x<99>²<¹$9E<81>[^H-q^GWW.^^(ÎI^W+^T6a^Ba<9a>@.Ây<99>^Y2<81>4^OàóÌ^@^@ <91>^U^Qà<83>óýxÎ^N®ÎÎ6<8e>¶^N_-ê¿^Fÿ\"bbãþåÏ«p@^@^@át~Ñþ,/³^Z<80>;^F<80>mþ¢%î^Dh^^K u÷<8b>f²^O@µ^@ éÚWópø~<<E¡<90>¹ÙÙåääØJÄB[aÊW}þgÂ_ÀWýlù~<ü÷õà¾â$<81>2]<81>G^DøàÂÌôL¥^\\Ï<92>      <84>bÜæ<8f>Gü·^Kÿü^]Ó\"ÄIb¹X*^TãQ^Rq<8e>D<9a><8c>ó2¥\"<89>B<92>)Å%Òÿdâß,û^C>ß5^@°j>^A{<91>-¨]c^CöK'^PXtÀâ÷^@^@ò»oÁÔ(^H^C<80>h<83>áÏwÿï?ýG %^@<80>fI<92>q^@^@^D$.TÊ³?Ç^H^@^@D <81>*°A^[ôÁ^X,À^F^\\Á^EÜÁ^Kü`6<84>B$ÄÂB^PB\n",
    "d<80>^\\r`)¬<82>B(<86>Í°^]*`/Ô@^]4ÀQh<86><93>p^N.ÂU¸^N=p^Oúa^H<9e>Á(¼<81>        ^DAÈ^H^Sa!Ú<88>^Ab<8a>X#<8e>^H^W<99><85>ø!ÁH^D^R<8b>$ É<88>^TQ\"K<91>5H1R<8a>T UH^]ò=r^B9<87>\\Fº<91>;È^@2<82>ü<86>¼G1<94><81>²Q=Ô^LµC¹¨7^Z<84>F¢^KÐdt1<9a><8f>^V <9b>Ðr´^Z=<8c>6¡çÐ«h^OÚ<8f>>CÇ0Àè^X^G3Äl0.ÆÃB±8,        <93>cË±\"¬^L«Æ^Z°V¬^C»<89>õcÏ±w^D^R<81>EÀ        6^DwB a^^AHXLXNØH¨ ^\\$4^QÚ      7       ^C<84>QÂ'\"<93>¨K´&º^QùÄ^Xb21<87>XH,#Ö^R<8f>^S/^P{<88>CÄ7$^R<89>C2'¹<90>^BI±¤TÒ^RÒFÒnR#é,©<9b>4H^Z#<93>ÉÚdk²^G9<94>, +È<85>ä<9d>äÃä3ä^[ä!ò[\n",
    "<9d>b@q¤øSâ(RÊjJ^Yå^På4å^Fe<98>2AU£<9a>RÝ¨¡T^Q5<8f>ZB­¡¶R¯Q<87>¨^S4u<9a>9Í<83>^VIK¥­¢<95>Ó^Zh^Wh÷i¯ètº^QÝ<95>^^N<97>ÐWÒËéGè<97>è^Côw^L^M<86>^U<83>Ç<88>g(^Y<9b>^X^G^Xg^Yw^X¯<98>L¦^YÓ<8b>^YÇT071ë<98>ç<99>^O<99>oUX*¶*|^U<91>Ê\n",
    "<95>J<95>&<95>^[*/T©ª¦ªÞª^KUóUËT<8f>©^S}®FU3Sã© Ô<96>«Uª<9d>PëS^[Sg©;¨<87>ªg¨oT?¤~Yý<89>^FYÃLÃOC¤Q ±_ã¼Æ ^Kc^Y³x,!k^M«<86>u<81>5Ä&±ÍÙ|v*»<98>ý^]»<8b>=ª©¡9C3J3W³Ró<94>f?^Gã<98>qø<9c>tN ç(§<97>ó~<8a>Þ^Tï)â)^[¦4L¹1e\\kª<96><97><96>X«H«Q«Gë½6®í§<9d>¦½E»Yû<81>^NAÇJ'\\'Gg<8f>Î^E<9d>çSÙSÝ§\n",
    "</pre>"
   ]
  },
  {
   "cell_type": "markdown",
   "metadata": {},
   "source": [
    "It could be opened by centain applications except editor applications! \n",
    "\n",
    "Print first 24 bytes:\n",
    "1. open the image file, read  and close it,\n",
    "-  get its specification about its shape, (from its head) \n",
    "-  calculate its size."
   ]
  },
  {
   "cell_type": "code",
   "execution_count": null,
   "metadata": {
    "collapsed": true
   },
   "outputs": [],
   "source": []
  },
  {
   "cell_type": "code",
   "execution_count": 40,
   "metadata": {},
   "outputs": [
    {
     "name": "stdout",
     "output_type": "stream",
     "text": [
      "Size of image file: 10.6 k\n"
     ]
    }
   ],
   "source": [
    "# read the binary file\n",
    "imgfile = open('imgs/logo-bro.png', 'rb')\n",
    "bdata = imgfile.read()\n",
    "imgfile.close()\n",
    "\n",
    "# calculate its size in K, 1K is equal to 1024 bytes\n",
    "size=int(len(bdata))/1024\n",
    "print(\"Size of image file: %3.1f k\" %size)"
   ]
  },
  {
   "cell_type": "code",
   "execution_count": 105,
   "metadata": {},
   "outputs": [
    {
     "name": "stdout",
     "output_type": "stream",
     "text": [
      "b'\\x89PNG\\r\\n\\x1a\\n\\x00\\x00\\x00\\rIHDR\\x00\\x00\\x00\\xaf\\x00\\x00\\x00H\\x08' 25\n"
     ]
    }
   ],
   "source": [
    "print(bdata[:25],len(bdata[:25]))"
   ]
  },
  {
   "cell_type": "code",
   "execution_count": 99,
   "metadata": {},
   "outputs": [
    {
     "data": {
      "text/plain": [
       "6"
      ]
     },
     "execution_count": 99,
     "metadata": {},
     "output_type": "execute_result"
    }
   ],
   "source": [
    "bdata[25]"
   ]
  },
  {
   "cell_type": "markdown",
   "metadata": {},
   "source": [
    "The first 25 bytes,\n",
    "<code>\n",
    "<font color=\"red\">\\x89 P N G \\r \\n \\x1a \\n</font> \\x00 \\x00 \\x00 \\r I H D R <font color=\"green\">\\x00 \\x00 \\x00 \\xaf</font><font color=\"brown\"> \\x00 \\x00 \\x00 H</font> \\x08\n",
    "</code>"
   ]
  },
  {
   "cell_type": "code",
   "execution_count": 82,
   "metadata": {},
   "outputs": [
    {
     "data": {
      "text/plain": [
       "(65, 90, 10, 13)"
      ]
     },
     "execution_count": 82,
     "metadata": {},
     "output_type": "execute_result"
    }
   ],
   "source": [
    "ord('A'),ord('Z'),ord('\\n'),ord('\\r')"
   ]
  },
  {
   "cell_type": "code",
   "execution_count": 95,
   "metadata": {},
   "outputs": [
    {
     "name": "stdout",
     "output_type": "stream",
     "text": [
      "0x89 P N G \\r \\n 0x1a \\n 0x0 0x0 0x0 \\r I H D R 0x0 0x0 0x0 0xaf 0x0 0x0 0x0 H 0x8 "
     ]
    }
   ],
   "source": [
    "for i in range(25):\n",
    "    if (bdata[i]) in range(65,91):\n",
    "        print(chr(bdata[i]),end=' ')\n",
    "    elif (bdata[i]==10):  \n",
    "        print('\\\\n',end=' ')\n",
    "    elif (bdata[i]==13):  \n",
    "        print('\\\\r',end=' ')    \n",
    "    else:\n",
    "        print(''.join(hex(bdata[i])),end=' ')"
   ]
  },
  {
   "cell_type": "markdown",
   "metadata": {},
   "source": [
    "The PNG format specification stipulates that the width and height are stored within the first 24 bytes. Using Python standard library, <b>struct</b>, we can convert binary data to and from Python data structures."
   ]
  },
  {
   "cell_type": "code",
   "execution_count": 30,
   "metadata": {
    "collapsed": true
   },
   "outputs": [],
   "source": [
    "import struct"
   ]
  },
  {
   "cell_type": "code",
   "execution_count": 50,
   "metadata": {},
   "outputs": [
    {
     "name": "stdout",
     "output_type": "stream",
     "text": [
      "Valid PNG, width 175 height 72\n"
     ]
    }
   ],
   "source": [
    "valid_png_header = b'\\x89PNG\\r\\n\\x1a\\n'\n",
    "\n",
    "if bdata[:8] == valid_png_header:\n",
    "    # width is extracted from bytes 16-20, and height from bytes 21-24\n",
    "    width, height = struct.unpack('>LL', bdata[16:24])\n",
    "    print('Valid PNG, width', width, 'height', height)\n",
    "else:\n",
    "    print('Not a valid PNG')    "
   ]
  },
  {
   "cell_type": "markdown",
   "metadata": {},
   "source": [
    "Note about struc module\n",
    "---\n",
    "<pre>\n",
    "Specifier Byte order\n",
    "<         little endian \n",
    ">         big endian\n",
    "\n",
    "Specifier   Description             Bytes\n",
    "L           unsigned long integer   4 \n",
    "</pre>\n",
    "\n",
    "Here, <big><font color=\"brown\">&gt;LL</font></big>, means to covert data,  ```bdata[16:24]```, into 2 ```\"4-byte unsigned long integer\"```'s (from left to right)."
   ]
  },
  {
   "cell_type": "code",
   "execution_count": 109,
   "metadata": {},
   "outputs": [
    {
     "name": "stdout",
     "output_type": "stream",
     "text": [
      "b'\\x00\\x00\\x00\\xaf' b'\\x00\\x00\\x00H'\n"
     ]
    }
   ],
   "source": [
    "# width size and height size\n",
    "print(bdata[16:20],bdata[20:24])"
   ]
  },
  {
   "cell_type": "code",
   "execution_count": 28,
   "metadata": {},
   "outputs": [
    {
     "data": {
      "text/plain": [
       "175"
      ]
     },
     "execution_count": 28,
     "metadata": {},
     "output_type": "execute_result"
    }
   ],
   "source": [
    "0xaf"
   ]
  },
  {
   "cell_type": "code",
   "execution_count": 69,
   "metadata": {},
   "outputs": [
    {
     "data": {
      "text/plain": [
       "(175, 72)"
      ]
     },
     "execution_count": 69,
     "metadata": {},
     "output_type": "execute_result"
    }
   ],
   "source": [
    "# convert 2 4-byte data, [16:20] and [20:24], to Python data\n",
    "struct.unpack('>2L', bdata[16:24])"
   ]
  },
  {
   "cell_type": "code",
   "execution_count": 64,
   "metadata": {},
   "outputs": [
    {
     "data": {
      "text/plain": [
       "b'\\x00\\x00\\x00\\xaf'"
      ]
     },
     "execution_count": 64,
     "metadata": {},
     "output_type": "execute_result"
    }
   ],
   "source": [
    "# convert Python data to bytes\n",
    "struct.pack('>L', 175)"
   ]
  },
  {
   "cell_type": "code",
   "execution_count": 31,
   "metadata": {},
   "outputs": [
    {
     "data": {
      "text/plain": [
       "b'\\x00\\x00\\x00H'"
      ]
     },
     "execution_count": 31,
     "metadata": {},
     "output_type": "execute_result"
    }
   ],
   "source": [
    "# convert Python data to bytes\n",
    "struct.pack('>L', 72)"
   ]
  },
  {
   "cell_type": "code",
   "execution_count": 32,
   "metadata": {},
   "outputs": [
    {
     "data": {
      "text/plain": [
       "b'H\\x00\\x00\\x00'"
      ]
     },
     "execution_count": 32,
     "metadata": {},
     "output_type": "execute_result"
    }
   ],
   "source": [
    "# convert Python data to bytes\n",
    "struct.pack('<L', 72)"
   ]
  },
  {
   "cell_type": "markdown",
   "metadata": {},
   "source": [
    "Question\n",
    "---\n",
    "1. As above\n",
    "<pre>\n",
    "In:  bdata[20:24]\n",
    "Out: b'\\x00\\x00\\x00H'\n",
    "</pre>\n",
    "Could we input\n",
    "<code>\n",
    " H\n",
    "</code>\n",
    "to get the size of height?\n",
    "- The size of width, (height) of PNG image is in ```L, unsigned long Integer``` format.  How big could the dimensions of PNG be?"
   ]
  },
  {
   "cell_type": "code",
   "execution_count": 2,
   "metadata": {},
   "outputs": [
    {
     "name": "stdout",
     "output_type": "stream",
     "text": [
      "Size of image file: 41.0 k\n"
     ]
    }
   ],
   "source": [
    "# read the binary file\n",
    "imgfile = open('imgs/20161121002864.jpg', 'rb')\n",
    "bdata = imgfile.read()\n",
    "imgfile.close()\n",
    "size=int(len(bdata))/1024\n",
    "print(\"Size of image file: %3.1f k\" %size)"
   ]
  },
  {
   "cell_type": "code",
   "execution_count": 127,
   "metadata": {},
   "outputs": [
    {
     "name": "stdout",
     "output_type": "stream",
     "text": [
      "b'\\x00`\\x00\\x00\\xff\\xdb\\x00C'\n"
     ]
    }
   ],
   "source": [
    "print(bdata[16:24])"
   ]
  },
  {
   "cell_type": "code",
   "execution_count": 50,
   "metadata": {},
   "outputs": [
    {
     "name": "stdout",
     "output_type": "stream",
     "text": [
      "Valid PNG, width 175 height 72\n"
     ]
    }
   ],
   "source": [
    "valid_png_header = b'\\x89PNG\\r\\n\\x1a\\n'\n",
    "\n",
    "if bdata[:8] == valid_png_header:\n",
    "    # width is extracted from bytes 16-20, and height from bytes 21-24\n",
    "    width, height = struct.unpack('>LL', bdata[16:24])\n",
    "    print('Valid PNG, width', width, 'height', height)\n",
    "else:\n",
    "    print('Not a valid PNG')    "
   ]
  },
  {
   "cell_type": "markdown",
   "metadata": {},
   "source": [
    "2. String Manipulating\n",
    "---"
   ]
  },
  {
   "cell_type": "markdown",
   "metadata": {},
   "source": [
    "Dictionary Array\n",
    "---\n",
    "Python supports the dictionary-type data format as follows: \n",
    "<code style=\"color:brown;\">\n",
    "array_data={'key1':,val1, 'key2':,val2, ...}\n",
    "array_data['key1']=val1\n",
    "</code>"
   ]
  },
  {
   "cell_type": "code",
   "execution_count": 1,
   "metadata": {},
   "outputs": [
    {
     "name": "stdout",
     "output_type": "stream",
     "text": [
      "nice......□□□□150000\n"
     ]
    }
   ],
   "source": [
    "print('nice'.ljust(10, '.') + '150000'.rjust(10,'□'))"
   ]
  },
  {
   "cell_type": "code",
   "execution_count": null,
   "metadata": {
    "collapsed": true
   },
   "outputs": [],
   "source": [
    "def printPicnic(itemsDict, leftWidth, rightWidth):\n",
    "    print('PICNIC ITEMS'.center(leftWidth + rightWidth, '-'))\n",
    "    for k, v in itemsDict.items():\n",
    "        print(k.ljust(leftWidth, '.') + str(v).rjust(rightWidth))\n",
    "picnicItems = {'sandwiches': 4, 'apples': 12, 'cups': 4, 'cookies': 8000}"
   ]
  },
  {
   "cell_type": "code",
   "execution_count": null,
   "metadata": {
    "collapsed": true
   },
   "outputs": [],
   "source": [
    "printPicnic(picnicItems, 12, 5)"
   ]
  },
  {
   "cell_type": "code",
   "execution_count": null,
   "metadata": {
    "collapsed": true
   },
   "outputs": [],
   "source": [
    "printPicnic(picnicItems, 20, 6)"
   ]
  },
  {
   "cell_type": "markdown",
   "metadata": {},
   "source": [
    "3. Matching Multiple Groups with the Pipe\n",
    "===\n",
    "\n",
    "Say you want to  find a phone number from Taipei in a string.\n",
    "\n",
    "Pattern Exmple: <code style=\"color:brown\">02-211-8800</code>\n",
    "\n",
    "1. length: 9\n",
    "- area code check: 02\n",
    "-  -, the  first hyphen, after the area code\n",
    "- three more numeric characters,\n",
    "- -, another hyphen,\n",
    "- and  finally four more numbers"
   ]
  },
  {
   "cell_type": "code",
   "execution_count": null,
   "metadata": {
    "collapsed": true
   },
   "outputs": [],
   "source": [
    "def isPhoneNumber(text):\n",
    "    print('Whether is %s a phone code in Teipei?' %text)\n",
    "    if len(text) != 11:\n",
    "        return False\n",
    "    for i in range(0, 2):\n",
    "        if not text[i].isdecimal():\n",
    "            return False\n",
    "    if text[2] != '-':\n",
    "        return False\n",
    "    for i in range(3, 6):\n",
    "        if not text[i].isdecimal():\n",
    "            return False\n",
    "    if text[6] != '-':\n",
    "        return False\n",
    "    for i in range(7, 11):\n",
    "        if not text[i].isdecimal():\n",
    "            return False\n",
    "    return True"
   ]
  },
  {
   "cell_type": "code",
   "execution_count": null,
   "metadata": {
    "collapsed": true
   },
   "outputs": [],
   "source": [
    "#print('087-222222 is a phone number:')\n",
    "print(isPhoneNumber('087-222222'))"
   ]
  },
  {
   "cell_type": "code",
   "execution_count": null,
   "metadata": {
    "collapsed": true
   },
   "outputs": [],
   "source": [
    "isPhoneNumber('02-211-8800')"
   ]
  },
  {
   "cell_type": "markdown",
   "metadata": {},
   "source": [
    "Find out from a messages\n",
    "---\n",
    "1. test for consective strings with length being 11."
   ]
  },
  {
   "cell_type": "code",
   "execution_count": null,
   "metadata": {
    "collapsed": true
   },
   "outputs": [],
   "source": [
    "def isPhoneNumberv2(text):\n",
    "    if len(text) != 11:\n",
    "        return False\n",
    "    for i in range(0, 2):\n",
    "        if not text[i].isdecimal():\n",
    "            return False\n",
    "    if text[2] != '-':\n",
    "        return False\n",
    "    for i in range(3, 6):\n",
    "        if not text[i].isdecimal():\n",
    "            return False\n",
    "    if text[6] != '-':\n",
    "        return False\n",
    "    for i in range(7, 11):\n",
    "        if not text[i].isdecimal():\n",
    "            return False\n",
    "    return True"
   ]
  },
  {
   "cell_type": "code",
   "execution_count": null,
   "metadata": {
    "collapsed": true
   },
   "outputs": [],
   "source": [
    "message = 'The representive number of campus number is 02-211-8800 and 02-211-8700 is of scanner.'\n",
    "k=1\n",
    "for i in range(len(message)): \n",
    "    chunk = message[i:i+11]\n",
    "    if isPhoneNumberv2(chunk):\n",
    "       print(k,' Phone number found: ' + chunk)\n",
    "       k=k+1  \n",
    "print('o-- Done and ',k-1, ' phone numbers found')"
   ]
  },
  {
   "cell_type": "markdown",
   "metadata": {},
   "source": [
    "Finding Patterns of text with regular expressions\n",
    "---\n",
    "Seem to work well. However, the stings, '022118800', couldn't be recognized out:\n"
   ]
  },
  {
   "cell_type": "code",
   "execution_count": null,
   "metadata": {
    "collapsed": true
   },
   "outputs": [],
   "source": [
    "print(isPhoneNumber('022118800'))"
   ]
  },
  {
   "cell_type": "markdown",
   "metadata": {},
   "source": [
    "<code style=\"color:brown\">re</code> module\n",
    "---\n",
    "Professional regular expressions module, <code style=\"color:brown\">re</code>, in python does help to such works:\n",
    "\n",
    "1. Import the regex module with `import re`.\n",
    "2. Create a Regex object with the `re.compile()` function. (Remember to use araw string.)\n",
    "3. Pass the string you want to search into the Regex object’s `search()` method. This returns a Match object.\n",
    "4. Call the Match object’s `group()` method to return a string of the actual matched text.\n",
    "\n",
    "**Fact**\n",
    "\n",
    "xx-xxx-xxxx is as same as xx xxx xxxx\n",
    "\n",
    "**Formula**\n",
    "\n",
    "<code style=\"background-color:#99eeee\">rule=re.compile(...)</code><br>\n",
    "<code style=\"background-color:#99ffff\">rule.search(string)</code>"
   ]
  },
  {
   "cell_type": "code",
   "execution_count": 1,
   "metadata": {},
   "outputs": [
    {
     "data": {
      "text/plain": [
       "'02-211-8800'"
      ]
     },
     "execution_count": 1,
     "metadata": {},
     "output_type": "execute_result"
    }
   ],
   "source": [
    "import re\n",
    "phoneNumRegex1 = re.compile(r'(\\d\\d)-(\\d\\d\\d-\\d\\d\\d\\d)')\n",
    "mo = phoneNumRegex1.search('CGU number is 02-211-8800.')\n",
    "mo.group()"
   ]
  },
  {
   "cell_type": "code",
   "execution_count": 2,
   "metadata": {},
   "outputs": [
    {
     "data": {
      "text/plain": [
       "'(02)-211-8800'"
      ]
     },
     "execution_count": 2,
     "metadata": {},
     "output_type": "execute_result"
    }
   ],
   "source": [
    "phoneNumRegex2 = re.compile(r'(\\(\\d\\d\\))-(\\d\\d\\d-\\d\\d\\d\\d)')\n",
    "mo = phoneNumRegex2.search('CGU tel number is (02)-211-8800')\n",
    "mo.group()"
   ]
  },
  {
   "cell_type": "markdown",
   "metadata": {},
   "source": [
    "**motifier, (...)?**\n",
    "\n",
    "<code>(</code><code style=\"color:brown\">\\\\(</code><code>)?, (</code><code style=\"color:brown\">\\\\)</code><code>)?</code>: part of the regular expression means that the pattern, `(` or   `)` is an optional group. \n",
    "\n",
    "**Note** that the backslash symbol, \\, used here, acclaims that \"(\" and \")\" are charcters  but not part of function."
   ]
  },
  {
   "cell_type": "code",
   "execution_count": 3,
   "metadata": {},
   "outputs": [
    {
     "data": {
      "text/plain": [
       "'02-211-8800'"
      ]
     },
     "execution_count": 3,
     "metadata": {},
     "output_type": "execute_result"
    }
   ],
   "source": [
    "phoneNumRegex3 = re.compile(r'((\\()?\\d\\d(\\))?)-(\\d\\d\\d-\\d\\d\\d\\d)')\n",
    "mo = phoneNumRegex3.search('CGU tel number is 02-211-8800')\n",
    "mo.group()"
   ]
  },
  {
   "cell_type": "code",
   "execution_count": 4,
   "metadata": {},
   "outputs": [
    {
     "data": {
      "text/plain": [
       "'(02)-211-8800'"
      ]
     },
     "execution_count": 4,
     "metadata": {},
     "output_type": "execute_result"
    }
   ],
   "source": [
    "mo = phoneNumRegex3.search('CGU tel number is (02)-211-8800')\n",
    "mo.group()"
   ]
  },
  {
   "cell_type": "markdown",
   "metadata": {},
   "source": [
    "Other motifiers\n",
    "---\n",
    "- `(...)*`, Matching Zero or More with the Star,\n",
    "- `(...)+`, Matching One or More with the Plus\n",
    "- `(...){2,3}`, repeat a specific number of 2 or 3 times here,\n",
    "- `^, $`, ( called caret or dollar), at beginning or end text.\n",
    "- `.`, (called dot) wild character\n",
    "- `|`, or"
   ]
  },
  {
   "cell_type": "markdown",
   "metadata": {
    "collapsed": true
   },
   "source": [
    "the findall() method\n",
    "---\n",
    "\n",
    "fiind out all the satisfied contents, "
   ]
  },
  {
   "cell_type": "code",
   "execution_count": 5,
   "metadata": {},
   "outputs": [
    {
     "data": {
      "text/plain": [
       "'02-211-8800'"
      ]
     },
     "execution_count": 5,
     "metadata": {},
     "output_type": "execute_result"
    }
   ],
   "source": [
    "mo = phoneNumRegex3.search('CGU tel number is 02-211-8800 and trnsfer number is (02)-211-8700')\n",
    "mo.group()"
   ]
  },
  {
   "cell_type": "code",
   "execution_count": 6,
   "metadata": {},
   "outputs": [
    {
     "data": {
      "text/plain": [
       "([('02', '', '', '211-8800'), ('(02)', '(', ')', '211-8700')],\n",
       " ('(02)', '(', ')', '211-8700'))"
      ]
     },
     "execution_count": 6,
     "metadata": {},
     "output_type": "execute_result"
    }
   ],
   "source": [
    "mo = phoneNumRegex3.findall('CGU tel number is 02-211-8800 and trnsfer number is (02)-211-8700')\n",
    "mo,mo[1],"
   ]
  },
  {
   "cell_type": "code",
   "execution_count": 7,
   "metadata": {},
   "outputs": [
    {
     "name": "stdout",
     "output_type": "stream",
     "text": [
      "(02) - 211-8700\n"
     ]
    }
   ],
   "source": [
    "print(mo[1][0],'-',mo[1][3])"
   ]
  },
  {
   "cell_type": "code",
   "execution_count": 17,
   "metadata": {},
   "outputs": [
    {
     "name": "stdout",
     "output_type": "stream",
     "text": [
      "There are 2 found\n",
      "1). 02 - 211-8800\n",
      "2). (02) - 211-8700\n"
     ]
    }
   ],
   "source": [
    "print(\"There are %d found\" %len(mo))\n",
    "i=1\n",
    "for item in mo:\n",
    "    print(\"%s).\" %i,item[0],'-',item[3])\n",
    "    i=i+1"
   ]
  },
  {
   "cell_type": "markdown",
   "metadata": {},
   "source": [
    "Character Classes\n",
    "---\n",
    "```\n",
    "\\d Any numeric digit from 0 to 9.\n",
    "\\D Any character that is not a numeric digit from 0 to 9.\n",
    "\\w Any letter, numeric digit, or the underscore character. \n",
    "\\W Any character that is not a letter, numeric digit, or the underscore character\n",
    "\\s Any space, tab, or newline character.\n",
    "\\S Any character that is not a space, tab, or newline.\n",
    "\n",
    "```"
   ]
  },
  {
   "cell_type": "code",
   "execution_count": null,
   "metadata": {
    "collapsed": true
   },
   "outputs": [],
   "source": [
    "import pyperclip, re"
   ]
  },
  {
   "cell_type": "code",
   "execution_count": null,
   "metadata": {
    "collapsed": true
   },
   "outputs": [],
   "source": [
    "phoneRegex = re.compile(r'''(\n",
    "    (\\d{3}|\\(\\d{3}\\))?                # area code, 2 digits\n",
    "    (\\s|-|\\.)?                        # separator\n",
    "    (\\d{3})                           # first 3 digits\n",
    "    (\\s|-|\\.)                         # separator\n",
    "    (\\d{4})                           # last 4 digits\n",
    "    (\\s*(ext|x|ext.)\\s*(\\d{2,5}))?    # extension\n",
    "    )''', re.VERBOSE)"
   ]
  },
  {
   "cell_type": "code",
   "execution_count": null,
   "metadata": {
    "collapsed": true
   },
   "outputs": [],
   "source": [
    "text='CGU tel number is 02-211-8800 and trnsfer number is (02)-211-8700'\n",
    "matches = []\n",
    "for groups in phoneRegex.findall(text):\n",
    "    phoneNum = '-'.join([groups[1], groups[3], groups[5]])\n",
    "    if groups[8] != '':\n",
    "        phoneNum += ' x' + groups[8]\n",
    "    matches.append(phoneNum)"
   ]
  },
  {
   "cell_type": "code",
   "execution_count": null,
   "metadata": {
    "collapsed": true
   },
   "outputs": [],
   "source": [
    "if len(matches) > 0:"
   ]
  },
  {
   "cell_type": "code",
   "execution_count": null,
   "metadata": {
    "collapsed": true
   },
   "outputs": [],
   "source": [
    "# Copy results to the clipboard.\n",
    "if len(matches) > 0:\n",
    "    pyperclip.copy('\\n'.join(matches)) # get one string at once\n",
    "    print('Copied to clipboard:')\n",
    "    print('\\n'.join(matches))          # get all strings\n",
    "else:\n",
    "    print('No phone numbers or email addresses found.')"
   ]
  },
  {
   "cell_type": "markdown",
   "metadata": {},
   "source": [
    "Passwords Design\n",
    "---\n",
    "Recently, app providers always ask customs or users to strengthen theirs passwords for security. But how does the authentication work?"
   ]
  },
  {
   "cell_type": "code",
   "execution_count": 18,
   "metadata": {
    "collapsed": true
   },
   "outputs": [],
   "source": [
    "import string"
   ]
  },
  {
   "cell_type": "code",
   "execution_count": null,
   "metadata": {
    "collapsed": true
   },
   "outputs": [],
   "source": [
    "string.ascii_uppercase "
   ]
  },
  {
   "cell_type": "code",
   "execution_count": null,
   "metadata": {
    "collapsed": true
   },
   "outputs": [],
   "source": [
    "string.ascii_lowercase "
   ]
  },
  {
   "cell_type": "markdown",
   "metadata": {},
   "source": [
    "Requirement\n",
    "---\n",
    "no less than length 8, includes at least a). 1 digits, b). one upeercase alphbet, c). one lower alphbet, and d). one punctuation. "
   ]
  },
  {
   "cell_type": "code",
   "execution_count": 19,
   "metadata": {
    "collapsed": true
   },
   "outputs": [],
   "source": [
    "def is_strong_password(s):\n",
    "    # define 8-digit strengthened passwords\n",
    "    lenth_regex = re.compile(r'.{8,}')\n",
    "    upper_regex = re.compile(r'[ABCDEFGHIJKLMNOPQRSTUVWXYZ]')\n",
    "    lower_regex = re.compile(r'[abcdefghijklmnopqrstuvwxyz]')\n",
    "    digit_regex = re.compile(r'[0123456789]')\n",
    "    punctuation_regex = re.compile(r'[!\"#$%&\\'()*+,-./:;<=>?@[\\]^_`{|}~]')\n",
    "    if lenth_regex.search(s) and \\\n",
    "        upper_regex.search(s) and \\\n",
    "        lower_regex.search(s) and \\\n",
    "        digit_regex.search(s) and \\\n",
    "        punctuation_regex.search(s):\n",
    "            return 'Well done!'\n",
    "    return False"
   ]
  },
  {
   "cell_type": "code",
   "execution_count": 20,
   "metadata": {},
   "outputs": [
    {
     "data": {
      "text/plain": [
       "False"
      ]
     },
     "execution_count": 20,
     "metadata": {},
     "output_type": "execute_result"
    }
   ],
   "source": [
    "passwd='Uv123450'\n",
    "is_strong_password(passwd)"
   ]
  },
  {
   "cell_type": "code",
   "execution_count": null,
   "metadata": {
    "collapsed": true
   },
   "outputs": [],
   "source": [
    "passwd='0Us#dwq_'\n",
    "is_strong_password(passwd)"
   ]
  },
  {
   "cell_type": "code",
   "execution_count": null,
   "metadata": {
    "collapsed": true
   },
   "outputs": [],
   "source": []
  }
 ],
 "metadata": {
  "kernelspec": {
   "display_name": "Python 3",
   "language": "python",
   "name": "python3"
  },
  "language_info": {
   "codemirror_mode": {
    "name": "ipython",
    "version": 3
   },
   "file_extension": ".py",
   "mimetype": "text/x-python",
   "name": "python",
   "nbconvert_exporter": "python",
   "pygments_lexer": "ipython3",
   "version": "3.5.3"
  },
  "widgets": {
   "state": {},
   "version": "2.0.10"
  }
 },
 "nbformat": 4,
 "nbformat_minor": 1
}
