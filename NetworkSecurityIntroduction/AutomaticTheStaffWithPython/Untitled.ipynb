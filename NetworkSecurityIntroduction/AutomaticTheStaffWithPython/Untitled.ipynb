{
 "cells": [
  {
   "cell_type": "code",
   "execution_count": 2,
   "metadata": {
    "collapsed": true
   },
   "outputs": [],
   "source": [
    "import piexif"
   ]
  },
  {
   "cell_type": "code",
   "execution_count": 3,
   "metadata": {},
   "outputs": [
    {
     "name": "stdout",
     "output_type": "stream",
     "text": [
      "Model b'PadFone2'\n",
      "YCbCrPositioning 1\n",
      "GPSTag 665\n",
      "ResolutionUnit 2\n",
      "ExifTag 140\n",
      "XResolution (72, 1)\n",
      "YResolution (72, 1)\n",
      "Make b'ASUS'\n",
      "FlashpixVersion b'0100'\n",
      "ColorSpace 1\n",
      "ApertureValue (20, 10)\n",
      "DateTimeOriginal b'2016:12:01 12:18:12'\n",
      "DateTimeDigitized b'2016:12:01 12:18:12'\n",
      "InteroperabilityTag 635\n",
      "ExifVersion b'0220'\n",
      "MeteringMode 255\n",
      "Flash 0\n",
      "FocalLength (378, 100)\n",
      "PixelXDimension 4160\n",
      "FocalPlaneYResolution (3000000, 1)\n",
      "PixelYDimension 2340\n",
      "ExposureBiasValue (0, 100)\n",
      "ExposureTime (1, 30)\n",
      "FNumber (20, 10)\n",
      "DigitalZoomRatio (166, 100)\n",
      "MaxApertureValue (20, 10)\n",
      "ExposureMode 0\n",
      "SceneCaptureType 0\n",
      "ISOSpeedRatings 250\n",
      "WhiteBalance 0\n",
      "ComponentsConfiguration b'\\x01\\x02\\x03\\x00'\n",
      "ExposureProgram 2\n",
      "MakerNote b'<ZenCircleTag>ZenUI,PixelMasterCamera,AutoMode</ZenCircleTag>\\x00\\x00\\x00\\x00\\x00\\x00\\x00\\x00\\x00\\x00\\x00\\x00\\x00\\x00\\x00\\x00\\x00\\x00\\x00\\x00\\x00\\x00\\x00\\x00'\n",
      "JPEGInterchangeFormat 797\n",
      "DateTime b'2016:12:01 12:18:12'\n",
      "Compression 6\n",
      "ResolutionUnit 2\n",
      "XResolution (72, 1)\n",
      "YResolution (72, 1)\n",
      "JPEGInterchangeFormatLength 14782\n"
     ]
    }
   ],
   "source": [
    "exif_dict = piexif.load(\"imgs/1.jpg\")\n",
    "for ifd in (\"0th\", \"Exif\", \"GPS\", \"1st\"):\n",
    "    for tag in exif_dict[ifd]:\n",
    "        print(piexif.TAGS[ifd][tag][\"name\"], exif_dict[ifd][tag])"
   ]
  },
  {
   "cell_type": "code",
   "execution_count": 4,
   "metadata": {
    "collapsed": true
   },
   "outputs": [],
   "source": [
    "gps_ifd = {piexif.GPSIFD.GPSVersionID: (2, 0, 0, 0),\n",
    "           piexif.GPSIFD.GPSAltitudeRef: 1,\n",
    "           piexif.GPSIFD.GPSDateStamp: u\"1999:99:99 99:99:99\",\n",
    "           \n",
    "           }"
   ]
  },
  {
   "cell_type": "code",
   "execution_count": null,
   "metadata": {
    "collapsed": true
   },
   "outputs": [],
   "source": [
    "var data = {\n",
    "  lat: 59.43553989213321,\n",
    "  lng: 24.73842144012451\n",
    "}\n",
    "\n",
    "exifObj[\"GPS\"][piexif.GPSIFD.GPSLatitudeRef] = data.lat < 0 ? 'S' : 'N'\n",
    "exifObj[\"GPS\"][piexif.GPSIFD.GPSLatitude] = degToDmsRational(data.lat)\n",
    "exifObj[\"GPS\"][piexif.GPSIFD.GPSLongitudeRef] = data.lng < 0 ? 'W' : 'E'\n",
    "exifObj[\"GPS\"][piexif.GPSIFD.GPSLongitude] = degToDmsRational(data.lng)\n",
    "\n",
    "/**\n",
    " * degToDmsRational(59.43553989213321) -> [[59, 1], [26, 1], [794, 100]]\n",
    " */\n",
    "\n",
    "function degToDmsRational(degFloat) {\n",
    "  var minFloat = degFloat % 1 * 60\n",
    "  var secFloat = minFloat % 1 * 60\n",
    "  var deg = Math.floor(degFloat)\n",
    "  var min = Math.floor(minFloat)\n",
    "  var sec = Math.round(secFloat * 100)\n",
    "\n",
    "  return [[deg, 1], [min, 1], [sec, 100]]\n",
    "}"
   ]
  },
  {
   "cell_type": "code",
   "execution_count": 5,
   "metadata": {
    "collapsed": true
   },
   "outputs": [],
   "source": [
    "exif_dict = {\"GPS\":gps_ifd}"
   ]
  },
  {
   "cell_type": "code",
   "execution_count": 6,
   "metadata": {
    "collapsed": true
   },
   "outputs": [],
   "source": [
    "exif_bytes = piexif.dump(exif_dict)"
   ]
  },
  {
   "cell_type": "code",
   "execution_count": 9,
   "metadata": {
    "collapsed": true
   },
   "outputs": [],
   "source": [
    "from PIL import Image\n",
    "\n",
    "im = Image.open(\"imgs/20161121002864.jpg\")\n",
    "im.thumbnail((100, 100), Image.ANTIALIAS)\n",
    "im.save(\"imgs/out.jpg\", exif=exif_bytes)"
   ]
  },
  {
   "cell_type": "code",
   "execution_count": 10,
   "metadata": {},
   "outputs": [
    {
     "name": "stdout",
     "output_type": "stream",
     "text": [
      "GPSTag 26\n",
      "GPSVersionID (2, 0, 0, 0)\n",
      "GPSAltitudeRef 1\n",
      "GPSDateStamp b'1999:99:99 99:99:99'\n"
     ]
    }
   ],
   "source": [
    "exif_dict = piexif.load(\"imgs/out.jpg\")\n",
    "for ifd in (\"0th\", \"Exif\", \"GPS\", \"1st\"):\n",
    "    for tag in exif_dict[ifd]:\n",
    "        print(piexif.TAGS[ifd][tag][\"name\"], exif_dict[ifd][tag])"
   ]
  },
  {
   "cell_type": "code",
   "execution_count": null,
   "metadata": {
    "collapsed": true
   },
   "outputs": [],
   "source": [
    "insert(exif_bytes, filename)"
   ]
  },
  {
   "cell_type": "code",
   "execution_count": 11,
   "metadata": {},
   "outputs": [
    {
     "name": "stdout",
     "output_type": "stream",
     "text": [
      "ExifTool Version Number         : 10.36\n",
      "File Name                       : out.jpg\n",
      "Directory                       : imgs\n",
      "File Size                       : 2.7 kB\n",
      "File Modification Date/Time     : 2016:11:28 14:08:16+08:00\n",
      "File Access Date/Time           : 2016:11:28 14:09:31+08:00\n",
      "File Inode Change Date/Time     : 2016:11:28 14:08:16+08:00\n",
      "File Permissions                : rw-r--r--\n",
      "File Type                       : JPEG\n",
      "File Type Extension             : jpg\n",
      "MIME Type                       : image/jpeg\n",
      "JFIF Version                    : 1.01\n",
      "Resolution Unit                 : None\n",
      "X Resolution                    : 1\n",
      "Y Resolution                    : 1\n",
      "Exif Byte Order                 : Big-endian (Motorola, MM)\n",
      "GPS Version ID                  : 2.0.0.0\n",
      "GPS Altitude Ref                : Below Sea Level\n",
      "GPS Date Stamp                  : 1999:99:99 99:99:99\n",
      "Image Width                     : 100\n",
      "Image Height                    : 62\n",
      "Encoding Process                : Baseline DCT, Huffman coding\n",
      "Bits Per Sample                 : 8\n",
      "Color Components                : 3\n",
      "Y Cb Cr Sub Sampling            : YCbCr4:2:0 (2 2)\n",
      "Image Size                      : 100x62\n",
      "Megapixels                      : 0.006\n"
     ]
    }
   ],
   "source": [
    "%%bash\n",
    "\n",
    "exiftool imgs/out.jpg"
   ]
  },
  {
   "cell_type": "code",
   "execution_count": 2,
   "metadata": {},
   "outputs": [
    {
     "name": "stdout",
     "output_type": "stream",
     "text": [
      "ExifTool Version Number         : 10.36\n",
      "File Name                       : logo-bro.png\n",
      "Directory                       : imgs\n",
      "File Size                       : 11 kB\n",
      "File Modification Date/Time     : 2016:11:25 06:28:34+08:00\n",
      "File Access Date/Time           : 2016:11:29 20:58:35+08:00\n",
      "File Inode Change Date/Time     : 2016:11:25 06:28:34+08:00\n",
      "File Permissions                : rw-r--r--\n",
      "File Type                       : PNG\n",
      "File Type Extension             : png\n",
      "MIME Type                       : image/png\n",
      "Image Width                     : 175\n",
      "Image Height                    : 72\n",
      "Bit Depth                       : 8\n",
      "Color Type                      : RGB with Alpha\n",
      "Compression                     : Deflate/Inflate\n",
      "Filter                          : Adaptive\n",
      "Interlace                       : Noninterlaced\n",
      "Pixels Per Unit X               : 11811\n",
      "Pixels Per Unit Y               : 11811\n",
      "Pixel Units                     : meters\n",
      "Profile Name                    : Photoshop ICC profile\n",
      "Profile CMM Type                : Lino\n",
      "Profile Version                 : 2.1.0\n",
      "Profile Class                   : Display Device Profile\n",
      "Color Space Data                : RGB\n",
      "Profile Connection Space        : XYZ\n",
      "Profile Date Time               : 1998:02:09 06:49:00\n",
      "Profile File Signature          : acsp\n",
      "Primary Platform                : Microsoft Corporation\n",
      "CMM Flags                       : Not Embedded, Independent\n",
      "Device Manufacturer             : IEC\n",
      "Device Model                    : sRGB\n",
      "Device Attributes               : Reflective, Glossy, Positive, Color\n",
      "Rendering Intent                : Media-Relative Colorimetric\n",
      "Connection Space Illuminant     : 0.9642 1 0.82491\n",
      "Profile Creator                 : HP\n",
      "Profile ID                      : 0\n",
      "Profile Copyright               : Copyright (c) 1998 Hewlett-Packard Company\n",
      "Profile Description             : sRGB IEC61966-2.1\n",
      "Media White Point               : 0.95045 1 1.08905\n",
      "Media Black Point               : 0 0 0\n",
      "Red Matrix Column               : 0.43607 0.22249 0.01392\n",
      "Green Matrix Column             : 0.38515 0.71687 0.09708\n",
      "Blue Matrix Column              : 0.14307 0.06061 0.7141\n",
      "Device Mfg Desc                 : IEC http://www.iec.ch\n",
      "Device Model Desc               : IEC 61966-2.1 Default RGB colour space - sRGB\n",
      "Viewing Cond Desc               : Reference Viewing Condition in IEC61966-2.1\n",
      "Viewing Cond Illuminant         : 19.6445 20.3718 16.8089\n",
      "Viewing Cond Surround           : 3.92889 4.07439 3.36179\n",
      "Viewing Cond Illuminant Type    : D50\n",
      "Luminance                       : 76.03647 80 87.12462\n",
      "Measurement Observer            : CIE 1931\n",
      "Measurement Backing             : 0 0 0\n",
      "Measurement Geometry            : Unknown\n",
      "Measurement Flare               : 0.999%\n",
      "Measurement Illuminant          : D65\n",
      "Technology                      : Cathode Ray Tube Display\n",
      "Red Tone Reproduction Curve     : (Binary data 2060 bytes, use -b option to extract)\n",
      "Green Tone Reproduction Curve   : (Binary data 2060 bytes, use -b option to extract)\n",
      "Blue Tone Reproduction Curve    : (Binary data 2060 bytes, use -b option to extract)\n",
      "White Point X                   : 0.31269\n",
      "White Point Y                   : 0.32899\n",
      "Red X                           : 0.63999\n",
      "Red Y                           : 0.33001\n",
      "Green X                         : 0.3\n",
      "Green Y                         : 0.6\n",
      "Blue X                          : 0.15\n",
      "Blue Y                          : 0.05999\n",
      "Image Size                      : 175x72\n",
      "Megapixels                      : 0.013\n"
     ]
    }
   ],
   "source": [
    "%%bash\n",
    "\n",
    "exiftool imgs/logo-bro.png"
   ]
  },
  {
   "cell_type": "code",
   "execution_count": 2,
   "metadata": {},
   "outputs": [
    {
     "name": "stdout",
     "output_type": "stream",
     "text": [
      "ExifTool Version Number         : 10.36\n",
      "File Name                       : logo-bro.png\n",
      "Directory                       : imgs\n",
      "File Size                       : 11 kB\n",
      "File Modification Date/Time     : 2016:11:25 06:28:34+08:00\n",
      "File Access Date/Time           : 2016:11:29 20:58:35+08:00\n",
      "File Inode Change Date/Time     : 2016:11:25 06:28:34+08:00\n",
      "File Permissions                : rw-r--r--\n",
      "File Type                       : PNG\n",
      "File Type Extension             : png\n",
      "MIME Type                       : image/png\n",
      "Image Width                     : 175\n",
      "Image Height                    : 72\n",
      "Bit Depth                       : 8\n",
      "Color Type                      : RGB with Alpha\n",
      "Compression                     : Deflate/Inflate\n",
      "Filter                          : Adaptive\n",
      "Interlace                       : Noninterlaced\n",
      "Pixels Per Unit X               : 11811\n",
      "Pixels Per Unit Y               : 11811\n",
      "Pixel Units                     : meters\n",
      "Profile Name                    : Photoshop ICC profile\n",
      "Profile CMM Type                : Lino\n",
      "Profile Version                 : 2.1.0\n",
      "Profile Class                   : Display Device Profile\n",
      "Color Space Data                : RGB\n",
      "Profile Connection Space        : XYZ\n",
      "Profile Date Time               : 1998:02:09 06:49:00\n",
      "Profile File Signature          : acsp\n",
      "Primary Platform                : Microsoft Corporation\n",
      "CMM Flags                       : Not Embedded, Independent\n",
      "Device Manufacturer             : IEC\n",
      "Device Model                    : sRGB\n",
      "Device Attributes               : Reflective, Glossy, Positive, Color\n",
      "Rendering Intent                : Media-Relative Colorimetric\n",
      "Connection Space Illuminant     : 0.9642 1 0.82491\n",
      "Profile Creator                 : HP\n",
      "Profile ID                      : 0\n",
      "Profile Copyright               : Copyright (c) 1998 Hewlett-Packard Company\n",
      "Profile Description             : sRGB IEC61966-2.1\n",
      "Media White Point               : 0.95045 1 1.08905\n",
      "Media Black Point               : 0 0 0\n",
      "Red Matrix Column               : 0.43607 0.22249 0.01392\n",
      "Green Matrix Column             : 0.38515 0.71687 0.09708\n",
      "Blue Matrix Column              : 0.14307 0.06061 0.7141\n",
      "Device Mfg Desc                 : IEC http://www.iec.ch\n",
      "Device Model Desc               : IEC 61966-2.1 Default RGB colour space - sRGB\n",
      "Viewing Cond Desc               : Reference Viewing Condition in IEC61966-2.1\n",
      "Viewing Cond Illuminant         : 19.6445 20.3718 16.8089\n",
      "Viewing Cond Surround           : 3.92889 4.07439 3.36179\n",
      "Viewing Cond Illuminant Type    : D50\n",
      "Luminance                       : 76.03647 80 87.12462\n",
      "Measurement Observer            : CIE 1931\n",
      "Measurement Backing             : 0 0 0\n",
      "Measurement Geometry            : Unknown\n",
      "Measurement Flare               : 0.999%\n",
      "Measurement Illuminant          : D65\n",
      "Technology                      : Cathode Ray Tube Display\n",
      "Red Tone Reproduction Curve     : (Binary data 2060 bytes, use -b option to extract)\n",
      "Green Tone Reproduction Curve   : (Binary data 2060 bytes, use -b option to extract)\n",
      "Blue Tone Reproduction Curve    : (Binary data 2060 bytes, use -b option to extract)\n",
      "White Point X                   : 0.31269\n",
      "White Point Y                   : 0.32899\n",
      "Red X                           : 0.63999\n",
      "Red Y                           : 0.33001\n",
      "Green X                         : 0.3\n",
      "Green Y                         : 0.6\n",
      "Blue X                          : 0.15\n",
      "Blue Y                          : 0.05999\n",
      "Image Size                      : 175x72\n",
      "Megapixels                      : 0.013\n"
     ]
    }
   ],
   "source": [
    "%%bash\n",
    "\n",
    "exiftool imgs/logo-bro.png"
   ]
  },
  {
   "cell_type": "code",
   "execution_count": 24,
   "metadata": {},
   "outputs": [
    {
     "name": "stdout",
     "output_type": "stream",
     "text": [
      "ExifTool Version Number         : 10.36\n",
      "File Name                       : 1.jpg\n",
      "Directory                       : imgs\n",
      "File Size                       : 1087 kB\n",
      "File Modification Date/Time     : 2016:12:01 13:02:40+08:00\n",
      "File Access Date/Time           : 2016:12:01 13:06:37+08:00\n",
      "File Inode Change Date/Time     : 2016:12:01 13:03:07+08:00\n",
      "File Permissions                : rw-r--r--\n",
      "File Type                       : JPEG\n",
      "File Type Extension             : jpg\n",
      "MIME Type                       : image/jpeg\n",
      "Exif Byte Order                 : Big-endian (Motorola, MM)\n",
      "GPS Latitude Ref                : North\n",
      "GPS Longitude Ref               : East\n",
      "GPS Altitude Ref                : Above Sea Level\n",
      "GPS Time Stamp                  : 05:00:46\n",
      "GPS Processing Method           : NETWORK\n",
      "GPS Date Stamp                  : 2016:12:01\n",
      "Camera Model Name               : PadFone2\n",
      "Aperture Value                  : 2.0\n",
      "Interoperability Index          : R98 - DCF basic file (sRGB)\n",
      "Interoperability Version        : 0100\n",
      "Create Date                     : 2016:12:01 13:01:33\n",
      "Color Space                     : sRGB\n",
      "Date/Time Original              : 2016:12:01 13:01:33\n",
      "Flashpix Version                : 0100\n",
      "Metering Mode                   : Other\n",
      "Exposure Compensation           : 0\n",
      "Exif Image Height               : 2340\n",
      "Exif Version                    : 0220\n",
      "Max Aperture Value              : 2.0\n",
      "Exif Image Width                : 4160\n",
      "Focal Length                    : 3.8 mm\n",
      "Digital Zoom Ratio              : 2.19\n",
      "Scene Capture Type              : Standard\n",
      "Flash                           : No Flash\n",
      "Focal Plane Y Resolution        : 3000000\n",
      "White Balance                   : Auto\n",
      "Exposure Mode                   : Auto\n",
      "Exposure Time                   : 1/60\n",
      "ISO                             : 125\n",
      "Components Configuration        : Y, Cb, Cr, -\n",
      "F Number                        : 2.0\n",
      "Exposure Program                : Program AE\n",
      "Maker Note Unknown Text         : (Binary data 85 bytes, use -b option to extract)\n",
      "Y Cb Cr Positioning             : Centered\n",
      "Y Resolution                    : 72\n",
      "Resolution Unit                 : inches\n",
      "X Resolution                    : 72\n",
      "Make                            : ASUS\n",
      "Compression                     : JPEG (old-style)\n",
      "Modify Date                     : 2016:12:01 13:01:33\n",
      "Thumbnail Offset                : 1024\n",
      "Thumbnail Length                : 9475\n",
      "Image Width                     : 4160\n",
      "Image Height                    : 2340\n",
      "Encoding Process                : Baseline DCT, Huffman coding\n",
      "Bits Per Sample                 : 8\n",
      "Color Components                : 3\n",
      "Y Cb Cr Sub Sampling            : YCbCr4:2:0 (2 2)\n",
      "Aperture                        : 2.0\n",
      "GPS Altitude                    : 0 m Above Sea Level\n",
      "GPS Date/Time                   : 2016:12:01 05:00:46Z\n",
      "GPS Latitude                    : 25 deg 2' 2.67\" N\n",
      "GPS Longitude                   : 121 deg 23' 17.68\" E\n",
      "GPS Position                    : 25 deg 2' 2.67\" N, 121 deg 23' 17.68\" E\n",
      "Image Size                      : 4160x2340\n",
      "Megapixels                      : 9.7\n",
      "Shutter Speed                   : 1/60\n",
      "Thumbnail Image                 : (Binary data 9475 bytes, use -b option to extract)\n",
      "Focal Length                    : 3.8 mm\n",
      "Light Value                     : 7.6\n"
     ]
    }
   ],
   "source": [
    "%%bash\n",
    "\n",
    "exiftool imgs/1.jpg"
   ]
  },
  {
   "cell_type": "code",
   "execution_count": 17,
   "metadata": {
    "collapsed": true
   },
   "outputs": [],
   "source": [
    "from PIL import Image\n",
    "from PIL.ExifTags import TAGS, GPSTAGS\n",
    "def get_exif_data(image):\n",
    "    \"\"\"Returns a dictionary from the exif data of an PIL Image item. Also converts the GPS Tags\"\"\"\n",
    "    exif_data = {}\n",
    "    info = image._getexif()\n",
    "    if info:\n",
    "        for tag, value in info.items():\n",
    "            decoded = TAGS.get(tag, tag)\n",
    "            if decoded == \"GPSInfo\":\n",
    "                gps_data = {}\n",
    "                for t in value:\n",
    "                    sub_decoded = GPSTAGS.get(t, t)\n",
    "                    gps_data[sub_decoded] = value[t]\n",
    "\n",
    "                exif_data[decoded] = gps_data\n",
    "            else:\n",
    "                exif_data[decoded] = value\n",
    "\n",
    "    return exif_data\n",
    "\n",
    "def _get_if_exist(data, key):\n",
    "    if key in data:\n",
    "        return data[key]\n",
    "\t\t\n",
    "    return None\n",
    "\n",
    "def _convert_to_degress(value):\n",
    "    \"\"\"Helper function to convert the GPS coordinates stored in the EXIF to degress in float format\"\"\"\n",
    "    d0 = value[0][0]\n",
    "    d1 = value[0][1]\n",
    "    d = float(d0) / float(d1)\n",
    "\n",
    "    m0 = value[1][0]\n",
    "    m1 = value[1][1]\n",
    "    m = float(m0) / float(m1)\n",
    "\n",
    "    s0 = value[2][0]\n",
    "    s1 = value[2][1]\n",
    "    s = float(s0) / float(s1)\n",
    "\n",
    "    return d + (m / 60.0) + (s / 3600.0)\n",
    "\n",
    "def get_lat_lon(exif_data):\n",
    "    \"\"\"Returns the latitude and longitude, if available, from the provided exif_data (obtained through get_exif_data above)\"\"\"\n",
    "    lat = None\n",
    "    lon = None\n",
    "\n",
    "    if \"GPSInfo\" in exif_data:\t\t\n",
    "        gps_info = exif_data[\"GPSInfo\"]\n",
    "\n",
    "        gps_latitude = _get_if_exist(gps_info, \"GPSLatitude\")\n",
    "        gps_latitude_ref = _get_if_exist(gps_info, 'GPSLatitudeRef')\n",
    "        gps_longitude = _get_if_exist(gps_info, 'GPSLongitude')\n",
    "        gps_longitude_ref = _get_if_exist(gps_info, 'GPSLongitudeRef')\n",
    "\n",
    "        if gps_latitude and gps_latitude_ref and gps_longitude and gps_longitude_ref:\n",
    "            lat = _convert_to_degress(gps_latitude)\n",
    "            if gps_latitude_ref != \"N\":                     \n",
    "                lat = 0 - lat\n",
    "\n",
    "            lon = _convert_to_degress(gps_longitude)\n",
    "            if gps_longitude_ref != \"E\":\n",
    "                lon = 0 - lon\n",
    "\n",
    "    return lat, lon\n"
   ]
  },
  {
   "cell_type": "code",
   "execution_count": 10,
   "metadata": {
    "collapsed": true
   },
   "outputs": [],
   "source": [
    "from PIL import Image \n",
    "im = Image.open( \"imgs/1.jpg\" )"
   ]
  },
  {
   "cell_type": "code",
   "execution_count": 6,
   "metadata": {
    "collapsed": true
   },
   "outputs": [],
   "source": [
    "get_float = lambda x: float(x[0]) / float(x[1])\n",
    "def convert_to_degrees(value):\n",
    "    d = get_float(value[0])\n",
    "    m = get_float(value[1])\n",
    "    s = get_float(value[2])\n",
    "    return d + (m / 60.0) + (s / 3600.0)\n",
    "\n",
    "def get_lat_lon(info):\n",
    "    try:\n",
    "        gps_latitude = info[34853][2]\n",
    "        gps_latitude_ref = info[34853][1]\n",
    "        gps_longitude = info[34853][4]\n",
    "        gps_longitude_ref = info[34853][3]\n",
    "        lat = convert_to_degrees(gps_latitude)\n",
    "        if gps_latitude_ref != \"N\":\n",
    "            lat *= -1\n",
    "\n",
    "        lon = convert_to_degrees(gps_longitude)\n",
    "        if gps_longitude_ref != \"E\":\n",
    "            lon *= -1\n",
    "        return lat, lon\n",
    "    except KeyError:\n",
    "        return None"
   ]
  },
  {
   "cell_type": "code",
   "execution_count": 18,
   "metadata": {},
   "outputs": [
    {
     "name": "stdout",
     "output_type": "stream",
     "text": [
      "(25.034075555555557, 121.38824361111112)\n"
     ]
    }
   ],
   "source": [
    "exif_data = get_exif_data(im)\n",
    "print(get_lat_lon(exif_data))"
   ]
  },
  {
   "cell_type": "code",
   "execution_count": 23,
   "metadata": {
    "collapsed": true
   },
   "outputs": [],
   "source": [
    "\n",
    "import gmplot\n",
    "\n",
    "gmap = gmplot.GoogleMapPlotter(25.034075555555557, 121.38824361111112, 16)\n",
    "latitudes=[25.034075555555557]\n",
    "longitudes=[121.38824361111112]\n",
    "gmap.plot(latitudes, longitudes, 'cornflowerblue', edge_width=10)\n",
    "#gmap.scatter(more_lats, more_lngs, '#3B0B39', size=40, marker=False)\n",
    "gmap.scatter(latitudes, longitudes, 'k', marker=True)\n",
    "#gmap.heatmap(heat_lats, heat_lngs)\n",
    "\n",
    "gmap.draw(\"mymap.html\")"
   ]
  },
  {
   "cell_type": "markdown",
   "metadata": {},
   "source": [
    "HTMP for lat/lon Position\n",
    "---\n",
    "Here, we use gmap library to  create the HTML file with Google map. However, gmplot is Python-2 clone; this means we have to export the cort to Python3 manually.\n",
    "\n",
    "By **2to3** function,\n",
    "\n",
    "1. download gmplot and extract the source;\n",
    "2. Enter the extracted folder and install by the following steps\n",
    "   <code>\n",
    "    &gt; 2to3 *.py\n",
    "    &gt; 2to3 */*.py\n",
    "    &gt; python setup.py install\n",
    "   </code> \n",
    "3. or modify the lat/lon what you got in mymap.html.\n"
   ]
  },
  {
   "cell_type": "code",
   "execution_count": 28,
   "metadata": {},
   "outputs": [
    {
     "data": {
      "text/plain": [
       "{'GPS GPSAltitude': (0x0006) Ratio=0 @ 827,\n",
       " 'GPS GPSAltitudeRef': (0x0005) Byte=0 @ 723,\n",
       " 'GPS GPSDate': (0x001D) ASCII=2016:12:01 @ 875,\n",
       " 'GPS GPSLatitude': (0x0002) Ratio=[25, 2, 334/125] @ 779,\n",
       " 'GPS GPSLatitudeRef': (0x0001) ASCII=N @ 675,\n",
       " 'GPS GPSLongitude': (0x0004) Ratio=[121, 23, 17677/1000] @ 803,\n",
       " 'GPS GPSLongitudeRef': (0x0003) ASCII=E @ 699,\n",
       " 'GPS GPSProcessingMethod': (0x001B) Undefined=[65, 83, 67, 73, 73, 0, 0, 0, 78, 69, 84, 87, 79, 82, 75, 0] @ 859,\n",
       " 'GPS GPSTimeStamp': (0x0007) Ratio=[5, 0, 46] @ 835}"
      ]
     },
     "execution_count": 28,
     "metadata": {},
     "output_type": "execute_result"
    }
   ],
   "source": [
    "import exifread\n",
    "\n",
    "tags = exifread.process_file(open('imgs/1.jpg', 'rb'))                                              \n",
    "\n",
    "geo = {i:tags[i] for i in tags.keys() if i.startswith('GPS')}\n",
    "\n",
    "geo\n"
   ]
  },
  {
   "cell_type": "code",
   "execution_count": 29,
   "metadata": {
    "collapsed": true
   },
   "outputs": [],
   "source": [
    "import exifread\n",
    "\n",
    "# based on https://gist.github.com/erans/983821\n",
    "\n",
    "def _get_if_exist(data, key):\n",
    "    if key in data:\n",
    "        return data[key]\n",
    "\n",
    "    return None\n",
    "\n",
    "\n",
    "def _convert_to_degress(value):\n",
    "    \"\"\"\n",
    "    Helper function to convert the GPS coordinates stored in the EXIF to degress in float format\n",
    "    :param value:\n",
    "    :type value: exifread.utils.Ratio\n",
    "    :rtype: float\n",
    "    \"\"\"\n",
    "    d = float(value.values[0].num) / float(value.values[0].den)\n",
    "    m = float(value.values[1].num) / float(value.values[1].den)\n",
    "    s = float(value.values[2].num) / float(value.values[2].den)\n",
    "\n",
    "    return d + (m / 60.0) + (s / 3600.0)\n",
    "    \n",
    "def get_exif_location(exif_data):\n",
    "    \"\"\"\n",
    "    Returns the latitude and longitude, if available, from the provided exif_data (obtained through get_exif_data above)\n",
    "    \"\"\"\n",
    "    lat = None\n",
    "    lon = None\n",
    "\n",
    "    gps_latitude = _get_if_exist(exif_data, 'GPS GPSLatitude')\n",
    "    gps_latitude_ref = _get_if_exist(exif_data, 'GPS GPSLatitudeRef')\n",
    "    gps_longitude = _get_if_exist(exif_data, 'GPS GPSLongitude')\n",
    "    gps_longitude_ref = _get_if_exist(exif_data, 'GPS GPSLongitudeRef')\n",
    "\n",
    "    if gps_latitude and gps_latitude_ref and gps_longitude and gps_longitude_ref:\n",
    "        lat = _convert_to_degress(gps_latitude)\n",
    "        if gps_latitude_ref.values[0] != 'N':\n",
    "            lat = 0 - lat\n",
    "\n",
    "        lon = _convert_to_degress(gps_longitude)\n",
    "        if gps_longitude_ref.values[0] != 'E':\n",
    "            lon = 0 - lon\n",
    "\n",
    "    return lat, lon"
   ]
  },
  {
   "cell_type": "code",
   "execution_count": 31,
   "metadata": {},
   "outputs": [
    {
     "data": {
      "text/plain": [
       "(25.034075555555557, 121.38824361111112)"
      ]
     },
     "execution_count": 31,
     "metadata": {},
     "output_type": "execute_result"
    }
   ],
   "source": [
    "get_exif_location(tags)"
   ]
  },
  {
   "cell_type": "code",
   "execution_count": null,
   "metadata": {
    "collapsed": true
   },
   "outputs": [],
   "source": []
  }
 ],
 "metadata": {
  "kernelspec": {
   "display_name": "Python 3",
   "language": "python",
   "name": "python3"
  },
  "language_info": {
   "codemirror_mode": {
    "name": "ipython",
    "version": 3
   },
   "file_extension": ".py",
   "mimetype": "text/x-python",
   "name": "python",
   "nbconvert_exporter": "python",
   "pygments_lexer": "ipython3",
   "version": "3.5.2"
  }
 },
 "nbformat": 4,
 "nbformat_minor": 1
}
