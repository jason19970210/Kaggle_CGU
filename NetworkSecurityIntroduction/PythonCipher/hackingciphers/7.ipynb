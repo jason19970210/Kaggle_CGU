{
 "cells": [
  {
   "cell_type": "markdown",
   "metadata": {},
   "source": [
    "The Brute-Force Attack\n",
    "---\n",
    "\n",
    "```\n",
    "Claude Shann (April 30, 1916 - February 24, 2001)\n",
    "“The enemy knows the system.”\n",
    "```\n",
    "Nothing stops a cryptanalyst from guessing one key, decrypting the ciphertext with that key, looking at the output, and if it was not the correct key then moving on to the next key. The technique of trying every possible decryption key is called a brute-force attack."
   ]
  },
  {
   "cell_type": "code",
   "execution_count": 2,
   "metadata": {},
   "outputs": [
    {
     "name": "stdout",
     "output_type": "stream",
     "text": [
      "Key #0: GUVF VF ZL FRPERG ZRFFNTR.\n",
      "Key #1: FTUE UE YK EQODQF YQEEMSQ.\n",
      "Key #2: ESTD TD XJ DPNCPE XPDDLRP.\n",
      "Key #3: DRSC SC WI COMBOD WOCCKQO.\n",
      "Key #4: CQRB RB VH BNLANC VNBBJPN.\n",
      "Key #5: BPQA QA UG AMKZMB UMAAIOM.\n",
      "Key #6: AOPZ PZ TF ZLJYLA TLZZHNL.\n",
      "Key #7: ZNOY OY SE YKIXKZ SKYYGMK.\n",
      "Key #8: YMNX NX RD XJHWJY RJXXFLJ.\n",
      "Key #9: XLMW MW QC WIGVIX QIWWEKI.\n",
      "Key #10: WKLV LV PB VHFUHW PHVVDJH.\n",
      "Key #11: VJKU KU OA UGETGV OGUUCIG.\n",
      "Key #12: UIJT JT NZ TFDSFU NFTTBHF.\n",
      "Key #13: THIS IS MY SECRET MESSAGE.\n",
      "Key #14: SGHR HR LX RDBQDS LDRRZFD.\n",
      "Key #15: RFGQ GQ KW QCAPCR KCQQYEC.\n",
      "Key #16: QEFP FP JV PBZOBQ JBPPXDB.\n",
      "Key #17: PDEO EO IU OAYNAP IAOOWCA.\n",
      "Key #18: OCDN DN HT NZXMZO HZNNVBZ.\n",
      "Key #19: NBCM CM GS MYWLYN GYMMUAY.\n",
      "Key #20: MABL BL FR LXVKXM FXLLTZX.\n",
      "Key #21: LZAK AK EQ KWUJWL EWKKSYW.\n",
      "Key #22: KYZJ ZJ DP JVTIVK DVJJRXV.\n",
      "Key #23: JXYI YI CO IUSHUJ CUIIQWU.\n",
      "Key #24: IWXH XH BN HTRGTI BTHHPVT.\n",
      "Key #25: HVWG WG AM GSQFSH ASGGOUS.\n"
     ]
    }
   ],
   "source": [
    "# http://inventwithpython.com/hacking (BSD Licensed)\n",
    "\n",
    "message = 'GUVF VF ZL FRPERG ZRFFNTR.'\n",
    "LETTERS = 'ABCDEFGHIJKLMNOPQRSTUVWXYZ'\n",
    "\n",
    "# loop through every possible key\n",
    "for key in range(len(LETTERS)):\n",
    "\n",
    "    # It is important to set translated to the blank string so that the\n",
    "    # previous iteration's value for translated is cleared.\n",
    "    translated = ''\n",
    "\n",
    "    # The rest of the program is the same as the original Caesar program:\n",
    "\n",
    "    # run the encryption/decryption code on each symbol in the message\n",
    "    for symbol in message:\n",
    "        if symbol in LETTERS:\n",
    "            num = LETTERS.find(symbol) # get the number of the symbol\n",
    "            num = num - key\n",
    "\n",
    "            # handle the wrap-around if num is 26 or larger or less than 0\n",
    "            if num < 0:\n",
    "                num = num + len(LETTERS)\n",
    "\n",
    "            # add number's symbol at the end of translated\n",
    "            translated = translated + LETTERS[num]\n",
    "\n",
    "        else:\n",
    "            # just add the symbol without encrypting/decrypting\n",
    "            translated = translated + symbol\n",
    "\n",
    "    # display the current key being tested, along with its decryption\n",
    "    print('Key #%s: %s' % (key, translated))"
   ]
  },
  {
   "cell_type": "code",
   "execution_count": 4,
   "metadata": {},
   "outputs": [
    {
     "name": "stdout",
     "output_type": "stream",
     "text": [
      "[NbConvertApp] Converting notebook 7.ipynb to html\n",
      "[NbConvertApp] Writing 253570 bytes to 7.html\n"
     ]
    }
   ],
   "source": [
    "!jupyter nbconvert 7.ipynb"
   ]
  },
  {
   "cell_type": "code",
   "execution_count": null,
   "metadata": {
    "collapsed": true
   },
   "outputs": [],
   "source": []
  }
 ],
 "metadata": {
  "kernelspec": {
   "display_name": "Python 3",
   "language": "python",
   "name": "python3"
  },
  "language_info": {
   "codemirror_mode": {
    "name": "ipython",
    "version": 3
   },
   "file_extension": ".py",
   "mimetype": "text/x-python",
   "name": "python",
   "nbconvert_exporter": "python",
   "pygments_lexer": "ipython3",
   "version": "3.5.2"
  }
 },
 "nbformat": 4,
 "nbformat_minor": 1
}
