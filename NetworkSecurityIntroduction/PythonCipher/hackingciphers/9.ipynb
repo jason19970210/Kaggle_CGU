{
 "cells": [
  {
   "cell_type": "markdown",
   "metadata": {},
   "source": [
    "Decrypting with the Transposition Cipher\n",
    "---\n",
    "Instead of replacing characters with other characters, the transposition cipher jumbles up the message’s symbols into an order that makes the original message unreadable."
   ]
  },
  {
   "cell_type": "markdown",
   "metadata": {},
   "source": [
    "The steps for decrypting\n",
    "---\n",
    "1. Calculate the number of columns you will have by taking the length of the message and dividing by the key, then rounding up.\n",
    "2. Draw out a number of boxes. The number of columns was calculated in step 1. The number of rows is the same as the key.\n",
    "3. Calculate the number of boxes to shade in by taking the number of boxes (this is the number of rows and columns multiplied) and subtracting the length of the ciphertext message.\n",
    "4. Shade in the number of boxes you calculated in step 3 at the bottom of the rightmost column.\n",
    "5. Fill in the characters of the ciphertext starting at the top row and going from left to right. Skip any of the shaded boxes.\n",
    "6. Get the plaintext by reading from the leftmost column going from top to bottom, and moving over to the top of the next column.\n",
    "\n",
    "Example\n",
    "---\n",
    "Let’s decrypt the encrypt codes, create in previous chapter:  \n",
    "```\n",
    "Cenoonommstmme oo snnio. s s c\n",
    "```\n",
    "Including the spaces and punctuation, this message has 30 characters.\n",
    "\n",
    "**Use key:8**\n",
    "\n",
    "1. draw 4 x 8 boxes\n",
    "```\n",
    "           0   1   2   3\n",
    "  |  0    C   e   n   o\n",
    "  |       0   1   2   3\n",
    "  |  1    o   n   o   m\n",
    "  |       4   5   6   7\n",
    "  |  2    m   s   t   m\n",
    "  |       8   9   10  11\n",
    "  |  3    m   e   □   o\n",
    "  |       12  13  14  15\n",
    "  |  4    o   □   s   m\n",
    "  |       16  17  18  19\n",
    "  |  5    n   i   o   .\n",
    "  |       20  21  22  23\n",
    "  |  6    □   s       █\n",
    "  |       24  25  26\n",
    "  V  7    s   □   c   █\n",
    "           27  28  29\n",
    "       -------------->\n",
    "```\n",
    "where □ is space and █ is null character.\n",
    "2.  decrypt: from top left goung down,  \n",
    "```\n",
    "Common sense is not so common.\n",
    "```"
   ]
  },
  {
   "cell_type": "code",
   "execution_count": 1,
   "metadata": {
    "collapsed": true
   },
   "outputs": [],
   "source": [
    "import math, pyperclip\n",
    "\n",
    "def main():\n",
    "    myMessage = 'Cenoonommstmme oo snnio. s s c'\n",
    "    myKey = 8\n",
    "\n",
    "    plaintext = decryptMessage(myKey, myMessage)\n",
    "\n",
    "    # Print with a | (called \"pipe\" character) after it in case\n",
    "    # there are spaces at the end of the decrypted message.\n",
    "    print(plaintext + '|')\n",
    "\n",
    "    pyperclip.copy(plaintext)\n",
    "\n",
    "\n",
    "def decryptMessage(key, message):\n",
    "    # The transposition decrypt function will simulate the \"columns\" and\n",
    "    # \"rows\" of the grid that the plaintext is written on by using a list\n",
    "    # of strings. First, we need to calculate a few values.\n",
    "\n",
    "    # The number of \"columns\" in our transposition grid:\n",
    "    numOfColumns = math.ceil(len(message) / key)\n",
    "    # The number of \"rows\" in our grid will need:\n",
    "    numOfRows = key\n",
    "    # The number of \"shaded boxes\" in the last \"column\" of the grid:\n",
    "    numOfShadedBoxes = (numOfColumns * numOfRows) - len(message)\n",
    "\n",
    "    # Each string in plaintext represents a column in the grid.\n",
    "    plaintext = [''] * numOfColumns\n",
    "\n",
    "    # The col and row variables point to where in the grid the next\n",
    "    # character in the encrypted message will go.\n",
    "    col = 0\n",
    "    row = 0\n",
    "\n",
    "    for symbol in message:\n",
    "        plaintext[col] += symbol\n",
    "        col += 1 # point to next column\n",
    "\n",
    "        # If there are no more columns OR we're at a shaded box, go back to\n",
    "        # the first column and the next row.\n",
    "        if (col == numOfColumns) or (col == numOfColumns - 1 and row >= numOfRows - numOfShadedBoxes):\n",
    "            col = 0\n",
    "            row += 1\n",
    "\n",
    "    return ''.join(plaintext)"
   ]
  },
  {
   "cell_type": "code",
   "execution_count": 1,
   "metadata": {
    "collapsed": true
   },
   "outputs": [],
   "source": [
    "import math, pyperclip\n",
    "\n",
    "def main2(myMessage,myKey):\n",
    "    #myMessage = 'Cenoonommstmme oo snnio. s s c'\n",
    "    #myKey = 8\n",
    "\n",
    "    plaintext = decryptMessage(myKey, myMessage)\n",
    "\n",
    "    # Print with a | (called \"pipe\" character) after it in case\n",
    "    # there are spaces at the end of the decrypted message.\n",
    "    print(plaintext + '|')\n",
    "\n",
    "    pyperclip.copy(plaintext)\n",
    "\n",
    "\n",
    "def decryptMessage(key, message):\n",
    "    # The transposition decrypt function will simulate the \"columns\" and\n",
    "    # \"rows\" of the grid that the plaintext is written on by using a list\n",
    "    # of strings. First, we need to calculate a few values.\n",
    "\n",
    "    # The number of \"columns\" in our transposition grid:\n",
    "    numOfColumns = math.ceil(len(message) / key)\n",
    "    # The number of \"rows\" in our grid will need:\n",
    "    numOfRows = key\n",
    "    # The number of \"shaded boxes\" in the last \"column\" of the grid:\n",
    "    numOfShadedBoxes = (numOfColumns * numOfRows) - len(message)\n",
    "\n",
    "    # Each string in plaintext represents a column in the grid.\n",
    "    plaintext = [''] * numOfColumns\n",
    "\n",
    "    # The col and row variables point to where in the grid the next\n",
    "    # character in the encrypted message will go.\n",
    "    col = 0\n",
    "    row = 0\n",
    "\n",
    "    for symbol in message:\n",
    "        plaintext[col] += symbol\n",
    "        col += 1 # point to next column\n",
    "\n",
    "        # If there are no more columns OR we're at a shaded box, go back to\n",
    "        # the first column and the next row.\n",
    "        if (col == numOfColumns) or (col == numOfColumns - 1 and row >= numOfRows - numOfShadedBoxes):\n",
    "            col = 0\n",
    "            row += 1\n",
    "\n",
    "    return ''.join(plaintext)"
   ]
  },
  {
   "cell_type": "markdown",
   "metadata": {},
   "source": [
    "Use shortcut, <code style=\"color:red;background-color:pink\">ESC+L</code>, to enable toggle line above.\n",
    "\n",
    "1. line 4: input the code to decrypt;\n",
    "-  line 5: key is 8;\n",
    "-  line 7: decrpyt the code by the key;\n",
    "-  line 11: print out the decrpypted result with end symbol \"|\";\n",
    "-  line 16: define the function, <code style=\"color:green;background-color:lightgreen\">decryptMessage(key, message)</code>;\n",
    "-  line 22: define number of columns of table, \n",
    "-  line 24: define number of rows of table, i.e. key's value,\n",
    "-  line 26: number of shaded, length after end of codes;\n",
    "-  line 29: define an array with length equal to number of columns, here being 4;\n",
    "-  line 36~46: divid codes equally and put in element of plaintext;\n",
    "-  line 42~44: check whether at the end of each row and not being a shaded box\n",
    "-  line 46: return the whole decrypted result.\n",
    "\n",
    "```\n",
    "key:8\n",
    "encrypted code: \n",
    "    s:  s[0],s[1],s[2],s[,...,s[30] = Cenoonommstmme oo snnio. s s c\n",
    "numOfColumns: 30/8=3.x ->4\n",
    "numOfRows = key =8\n",
    "plaintext= [''0,''1,''2,''3]\n",
    "\n",
    "``0: s[0]: C + s[4]:o  = Co + s[8]: m = Com        Common s\n",
    "``1: s[1]: e + s[5]:n  = en + s[9]: s = ens   ---> ense is \n",
    "``2: s[2]: n + s[6]:o  = no + s[10]:t = not        not so c\n",
    "``3: s[3]: o + s[7]:m  = om + s[11]:m = omm        ommon.██\n",
    "\n",
    "```"
   ]
  },
  {
   "cell_type": "code",
   "execution_count": 3,
   "metadata": {
    "collapsed": false
   },
   "outputs": [
    {
     "name": "stdout",
     "output_type": "stream",
     "text": [
      "Common sense is not so common.|\n"
     ]
    }
   ],
   "source": [
    "main()"
   ]
  },
  {
   "cell_type": "code",
   "execution_count": 2,
   "metadata": {
    "collapsed": true
   },
   "outputs": [],
   "source": [
    "str1='te259beol57mbr'\n",
    "str2='oxeithnirnteathpitefqj'\n",
    "str3='wnq93ymt311tq'\n",
    "str4='flp35kvzxv237fn'\n",
    "str5='dgq36lrnlyu;yi468/u'\n",
    "str6='3l7dkgsrdok3kqgsgy6ks3'\n",
    "\n",
    "str='&&&.^^^.&.%.^^.%.%.^^.%.%.@.%.^^.#.*.@@.*.&&&&'\n",
    "str='seessftfffnsfessfssfoftsznesiiieewiniieieiiiiiioiwieiiiii4d23shoesvv8r7l'"
   ]
  },
  {
   "cell_type": "code",
   "execution_count": 12,
   "metadata": {
    "collapsed": false
   },
   "outputs": [
    {
     "name": "stdout",
     "output_type": "stream",
     "text": [
      "te259beol57mbr|\n",
      "toel25579mbber|\n",
      "tb7eem2ob5lr95|\n",
      "t9lmeb5b2e7r5o|\n",
      "t5e5be9o7r2blm|\n",
      "t5el7be9o5mr2b|\n",
      "t29el7be5bo5mr|\n",
      "t29el7bre5bo5m|\n",
      "t29el7mbre5bo5|\n",
      "t29el57mbre5bo|\n",
      "t29eol57mbre5b|\n",
      "t29beol57mbre5|\n",
      "t259beol57mbre|\n",
      "te259beol57mbr|\n",
      "te259beol57mbr|\n",
      "te259beol57mbr|\n",
      "te259beol57mbr|\n",
      "te259beol57mbr|\n",
      "te259beol57mbr|\n"
     ]
    }
   ],
   "source": [
    "for i in range(1,20):\n",
    "    main2(str1,i)"
   ]
  },
  {
   "cell_type": "markdown",
   "metadata": {
    "collapsed": true
   },
   "source": [
    "Exercise\n",
    "---\n",
    "Just the trnaspose of matrix\n",
    "$$\n",
    " T=\\text{Matrix}_{m\\times n} \\Longrightarrow T^t=\\text{Matrix}_{n\\times m}\n",
    "$$ \n",
    "Implement by transpose matrix again."
   ]
  },
  {
   "cell_type": "code",
   "execution_count": 4,
   "metadata": {
    "collapsed": false
   },
   "outputs": [
    {
     "name": "stdout",
     "output_type": "stream",
     "text": [
      "[NbConvertApp] Converting notebook 9.ipynb to html\n",
      "[NbConvertApp] Writing 258824 bytes to 9.html\n"
     ]
    }
   ],
   "source": [
    "!jupyter nbconvert 9.ipynb"
   ]
  },
  {
   "cell_type": "code",
   "execution_count": null,
   "metadata": {
    "collapsed": true
   },
   "outputs": [],
   "source": []
  }
 ],
 "metadata": {
  "kernelspec": {
   "display_name": "Python 3",
   "language": "python",
   "name": "python3"
  },
  "language_info": {
   "codemirror_mode": {
    "name": "ipython",
    "version": 3
   },
   "file_extension": ".py",
   "mimetype": "text/x-python",
   "name": "python",
   "nbconvert_exporter": "python",
   "pygments_lexer": "ipython3",
   "version": "3.5.1"
  },
  "widgets": {
   "state": {},
   "version": "1.1.2"
  }
 },
 "nbformat": 4,
 "nbformat_minor": 1
}
