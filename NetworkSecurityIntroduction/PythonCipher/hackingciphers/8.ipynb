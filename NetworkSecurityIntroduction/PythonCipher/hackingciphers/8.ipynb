{
 "cells": [
  {
   "cell_type": "markdown",
   "metadata": {},
   "source": [
    "Encrypting with the Transposition Cipher\n",
    "---\n",
    "Instead of replacing characters with other characters, the transposition cipher jumbles up the message’s symbols into an order that makes the original message unreadable."
   ]
  },
  {
   "cell_type": "markdown",
   "metadata": {},
   "source": [
    "The steps for encrypting\n",
    "---\n",
    "1. Count the number of characters in the message and the key.\n",
    "- Draw a number of boxes equal to the key in a single row. (For example, 12 boxes for a\n",
    "key of 12.)\n",
    "- Start filling in the boxes from left to right, with one character per box.\n",
    "- When you run out of boxes and still have characters left, add another row of boxes.\n",
    "- Shade in the unused boxes in the last row.\n",
    "- Starting from the top left and going down, write out the characters. When you get to the\n",
    "bottom of the column, move to the next column to the right. Skip any shaded boxes. This will be the ciphertext.\n",
    "\n",
    "\n",
    "Example\n",
    "---\n",
    "Let’s encrypt the message \n",
    "```\n",
    "Common sense is not so common.\n",
    "```\n",
    "Including the spaces and punctuation, this message has 30 characters.\n",
    "\n",
    "**Use key:8**\n",
    "\n",
    "1. draw 8 boxes\n",
    "```\n",
    "       1 2 3 4 5 6 7 8    \n",
    "|   C o m m o n □ s\n",
    "|   e n s e □ i s □\n",
    "|   n o t □ s o □ c\n",
    "V   o m m o n . █ █\n",
    "\n",
    "    -------------->\n",
    "```\n",
    "where □ is space and █ is null character.\n",
    "2.  Ciper: from top left goung down,  \n",
    "```\n",
    "Cenoonommstmme oo snnio. s s c\n",
    "```"
   ]
  },
  {
   "cell_type": "code",
   "execution_count": 3,
   "metadata": {
    "collapsed": true
   },
   "outputs": [],
   "source": [
    "# Transposition Cipher Encryption\n",
    "# http://inventwithpython.com/hacking (BSD Licensed)\n",
    "\n",
    "import pyperclip\n",
    "\n",
    "def main():\n",
    "    myMessage = 'Common sense is not so common.'\n",
    "    myKey = 8\n",
    "\n",
    "    ciphertext = encryptMessage(myKey, myMessage)\n",
    "\n",
    "    # Print the encrypted string in ciphertext to the screen, with\n",
    "    # a | (called \"pipe\" character) after it in case there are spaces at\n",
    "    # the end of the encrypted message.\n",
    "    print(ciphertext + '|')\n",
    "\n",
    "    # Copy the encrypted string in ciphertext to the clipboard.\n",
    "    pyperclip.copy(ciphertext)\n",
    "\n",
    "\n",
    "def encryptMessage(key, message):\n",
    "    # Each string in ciphertext represents a column in the grid.\n",
    "    ciphertext = [''] * key\n",
    "\n",
    "    # Loop through each column in ciphertext.\n",
    "    for col in range(key):\n",
    "        pointer = col\n",
    "\n",
    "        # Keep looping until pointer goes past the length of the message.\n",
    "        while pointer < len(message):\n",
    "            # Place the character at pointer in message at the end of the\n",
    "            # current column in the ciphertext list.\n",
    "            ciphertext[col] += message[pointer]\n",
    "\n",
    "            # move pointer over\n",
    "            pointer += key\n",
    "\n",
    "    # Convert the ciphertext list into a single string value and return it.\n",
    "    return ''.join(ciphertext)"
   ]
  },
  {
   "cell_type": "code",
   "execution_count": 4,
   "metadata": {
    "collapsed": true
   },
   "outputs": [],
   "source": [
    "# Transposition Cipher Encryption\n",
    "# http://inventwithpython.com/hacking (BSD Licensed)\n",
    "\n",
    "import pyperclip\n",
    "\n",
    "def main():\n",
    "    myMessage = '見山是山 見水是水 見山不是山 見水不是水'\n",
    "    myKey = 8\n",
    "\n",
    "    ciphertext = encryptMessage(myKey, myMessage)\n",
    "\n",
    "    # Print the encrypted string in ciphertext to the screen, with\n",
    "    # a | (called \"pipe\" character) after it in case there are spaces at\n",
    "    # the end of the encrypted message.\n",
    "    print(ciphertext + '|')\n",
    "\n",
    "    # Copy the encrypted string in ciphertext to the clipboard.\n",
    "    pyperclip.copy(ciphertext)\n",
    "\n",
    "\n",
    "def encryptMessage(key, message):\n",
    "    # Each string in ciphertext represents a column in the grid.\n",
    "    ciphertext = [''] * key\n",
    "\n",
    "    # Loop through each column in ciphertext.\n",
    "    for col in range(key):\n",
    "        pointer = col\n",
    "\n",
    "        # Keep looping until pointer goes past the length of the message.\n",
    "        while pointer < len(message):\n",
    "            # Place the character at pointer in message at the end of the\n",
    "            # current column in the ciphertext list.\n",
    "            ciphertext[col] += message[pointer]\n",
    "\n",
    "            # move pointer over\n",
    "            pointer += key\n",
    "\n",
    "    # Convert the ciphertext list into a single string value and return it.\n",
    "    return ''.join(ciphertext)"
   ]
  },
  {
   "cell_type": "code",
   "execution_count": null,
   "metadata": {
    "collapsed": true
   },
   "outputs": [],
   "source": [
    "# Transposition Cipher Encryption\n",
    "# http://inventwithpython.com/hacking (BSD Licensed)\n",
    "\n",
    "import pyperclip"
   ]
  },
  {
   "cell_type": "code",
   "execution_count": 12,
   "metadata": {
    "collapsed": true
   },
   "outputs": [],
   "source": [
    "def main(Message,keyNum=8):\n",
    "    myMessage = Message\n",
    "    myKey = keyNum\n",
    "\n",
    "    ciphertext = encryptMessage(myKey, myMessage)\n",
    "\n",
    "    # Print the encrypted string in ciphertext to the screen, with\n",
    "    # a | (called \"pipe\" character) after it in case there are spaces at\n",
    "    # the end of the encrypted message.\n",
    "    print(ciphertext + '|')\n",
    "\n",
    "    # Copy the encrypted string in ciphertext to the clipboard.\n",
    "    pyperclip.copy(ciphertext)\n",
    "\n",
    "\n",
    "def encryptMessage(key, message):\n",
    "    # Each string in ciphertext represents a column in the grid.\n",
    "    ciphertext = [''] * key\n",
    "\n",
    "    # Loop through each column in ciphertext.\n",
    "    for col in range(key):\n",
    "        pointer = col\n",
    "\n",
    "        # Keep looping until pointer goes past the length of the message.\n",
    "        while pointer < len(message):\n",
    "            # Place the character at pointer in message at the end of the\n",
    "            # current column in the ciphertext list.\n",
    "            ciphertext[col] += message[pointer]\n",
    "\n",
    "            # move pointer over\n",
    "            pointer += key\n",
    "\n",
    "    # Convert the ciphertext list into a single string value and return it.\n",
    "    return ''.join(ciphertext)"
   ]
  },
  {
   "cell_type": "markdown",
   "metadata": {},
   "source": [
    "Use shortcut, <code style=\"color:red;background-color:pink\">ESC+L</code>, to enable toggle line above."
   ]
  },
  {
   "cell_type": "code",
   "execution_count": 13,
   "metadata": {},
   "outputs": [
    {
     "name": "stdout",
     "output_type": "stream",
     "text": [
      "見水見山 水是見不山山是 不水見是水山是 |\n"
     ]
    }
   ],
   "source": [
    "codeTW = '見山是山 見水是水 見山不是山 見水不是水'\n",
    "main(Message=codeTW)"
   ]
  },
  {
   "cell_type": "code",
   "execution_count": 14,
   "metadata": {},
   "outputs": [
    {
     "name": "stdout",
     "output_type": "stream",
     "text": [
      "見山水 不 不山 是見是見是是見水山山水水|\n"
     ]
    }
   ],
   "source": [
    "main(Message=codeTW,keyNum=3)"
   ]
  },
  {
   "cell_type": "code",
   "execution_count": 15,
   "metadata": {},
   "outputs": [
    {
     "name": "stdout",
     "output_type": "stream",
     "text": [
      "[NbConvertApp] Converting notebook 8.ipynb to html\n",
      "[NbConvertApp] Writing 263986 bytes to 8.html\n"
     ]
    }
   ],
   "source": [
    "!jupyter nbconvert 8.ipynb"
   ]
  },
  {
   "cell_type": "code",
   "execution_count": null,
   "metadata": {
    "collapsed": true
   },
   "outputs": [],
   "source": []
  }
 ],
 "metadata": {
  "kernelspec": {
   "display_name": "Python 3",
   "language": "python",
   "name": "python3"
  },
  "language_info": {
   "codemirror_mode": {
    "name": "ipython",
    "version": 3
   },
   "file_extension": ".py",
   "mimetype": "text/x-python",
   "name": "python",
   "nbconvert_exporter": "python",
   "pygments_lexer": "ipython3",
   "version": "3.5.2"
  }
 },
 "nbformat": 4,
 "nbformat_minor": 1
}
