{
 "cells": [
  {
   "cell_type": "markdown",
   "metadata": {},
   "source": [
    "Cryptography\n",
    "===\n",
    "\n",
    "MIXEDMATH, Brown University\n",
    "---\n",
    "\n",
    "Link: https://gist.github.com/davidlowryduda/c0e8d526a8e144997fac\n",
    "\n",
    "\n",
    "\n",
    "\n",
    "\n",
    "Recall the basic setup of cryptography. We have two people, Anabel and Bartolo. Anabel wants to send Bartolo a secure message. What do we mean by “secure?” We mean that even though that dastardly Eve might intercept and read the transmitted message, Eve won’t learn anything about the actual message Anabel wants to send to Bartolo.\n",
    "\n",
    "Before the 1970s, the only way for Anabel to send Bartolo a secure message required Anabel and Bartolo to get together beforehand and agree on a secret method of communicating. To communicate, Anabel first decides on a message. The original message is sometimes called the plaintext. She then encrypts the message, producing a ciphertext.\n",
    "\n",
    "She then sends the ciphertext. If Eve gets hold of hte ciphertext, she shouldn’t be able to decode it (unless it’s a poor encryption scheme).\n",
    "\n",
    "When Bartolo receives the ciphertext, he can decrypt it to recover the plaintext message, since he agreed on the encryption scheme beforehand.\n"
   ]
  },
  {
   "cell_type": "markdown",
   "metadata": {},
   "source": [
    "caesar shift\n",
    "---\n",
    "The first known instance of cryptography came from Julius Caesar. It was not a very good method. To encrypt a message, he shifted each letter over by 2, so for instance “A” becomes “C”, and “B” becomes “D”, and so on.\n",
    "```\n",
    "shift 2\n",
    "    B,C\n",
    " A -----> C\n",
    "    C,D\n",
    " B -----> D\n",
    "``` \n",
    "and\n",
    "```\n",
    " abcdefghijklmnopqrstuvwxyz\n",
    "            \n",
    "            ↓ \n",
    "            \n",
    " cdefghijklmnopqrstuvwxyzab\n",
    " \n",
    "``` \n",
    "\n",
    "In the following, number and space characters are also considered in cipered. "
   ]
  },
  {
   "cell_type": "code",
   "execution_count": 1,
   "metadata": {
    "collapsed": true
   },
   "outputs": [],
   "source": [
    "# \" \" followed 0 represents space, and `\\n represents carrier return (or called new line)  \n",
    "alpha = \"abcdefghijklmnopqrstuvwxyz01234567890 \".upper()\n",
    "punct = \",.?:;'\\n\""
   ]
  },
  {
   "cell_type": "markdown",
   "metadata": {},
   "source": [
    "Note\n",
    "---\n",
    "In general decoding, \"space\" is always to be removed for simplicity.  And capitals are also changed to upper case. Here, we kept the space in decoding."
   ]
  },
  {
   "cell_type": "code",
   "execution_count": 7,
   "metadata": {
    "collapsed": true
   },
   "outputs": [],
   "source": [
    "from functools import partial\n",
    "\n",
    "def shift(l, s=2):\n",
    "    # relocate string, l, behind two positions\n",
    "    l = l.upper()\n",
    "    return alpha[(alpha.index(l) + s) % len(alpha)]\n",
    "\n",
    "def caesar_shift_encrypt(m, s=2):\n",
    "    m = m.upper()\n",
    "    c = \"\".join(map(partial(shift, s=s), m))\n",
    "    return c\n",
    "\n",
    "def caesar_shift_decrypt(c, s=-2):\n",
    "    c = c.upper()\n",
    "    m = \"\".join(map(partial(shift, s=s), c))\n",
    "    return m"
   ]
  },
  {
   "cell_type": "markdown",
   "metadata": {},
   "source": [
    "the purpose of `\"\"` above is to retrieve the content of map object."
   ]
  },
  {
   "cell_type": "code",
   "execution_count": 50,
   "metadata": {
    "collapsed": false
   },
   "outputs": [
    {
     "name": "stdout",
     "output_type": "stream",
     "text": [
      "['1', '2', '3'] 1 2 3\n"
     ]
    }
   ],
   "source": [
    "a=['1','2','3']\n",
    "\n",
    "b=\" \".join(a)\n",
    "print(a,b)\n"
   ]
  },
  {
   "cell_type": "code",
   "execution_count": 9,
   "metadata": {
    "collapsed": true
   },
   "outputs": [],
   "source": [
    "?partial"
   ]
  },
  {
   "cell_type": "code",
   "execution_count": 3,
   "metadata": {
    "collapsed": false
   },
   "outputs": [
    {
     "data": {
      "text/plain": [
       "38"
      ]
     },
     "execution_count": 3,
     "metadata": {},
     "output_type": "execute_result"
    }
   ],
   "source": [
    "len(alpha)"
   ]
  },
  {
   "cell_type": "code",
   "execution_count": 5,
   "metadata": {
    "collapsed": false
   },
   "outputs": [
    {
     "name": "stdout",
     "output_type": "stream",
     "text": [
      "Original Message: hi cchuang2009 and bella\n",
      "Ciphertext: JKBEEJWCPI422 BCPFBDGNNC\n"
     ]
    }
   ],
   "source": [
    "str1=\"hi cchuang2009 and bella\"\n",
    "print(\"Original Message: %s\" %str1)\n",
    "print(\"Ciphertext:\", caesar_shift_encrypt(str1.upper()))"
   ]
  },
  {
   "cell_type": "code",
   "execution_count": 5,
   "metadata": {
    "collapsed": false
   },
   "outputs": [
    {
     "name": "stdout",
     "output_type": "stream",
     "text": [
      "Decrypted first message: HI CCHUANG2009 AND BELLA\n"
     ]
    }
   ],
   "source": [
    "print(\"Decrypted first message:\", caesar_shift_decrypt(\"JKBEEJWCPI422 BCPFBDGNNC\"))"
   ]
  },
  {
   "cell_type": "code",
   "execution_count": 10,
   "metadata": {
    "collapsed": false
   },
   "outputs": [
    {
     "name": "stdout",
     "output_type": "stream",
     "text": [
      "Original Message: \n",
      "---\n",
      "To be or not to be that is the questionWhether tis Nobler in the mind to sufferThe Slings and Arrows of outrageous FortuneOr to take Arms against a Sea of troublesAnd by opposing end them\n",
      "\n",
      "Ciphertext:\n",
      "---\n",
      " VQBDGBQTBPQVBVQBDGBVJCVBKUBVJGBSWGUVKQPYJGVJGTBVKUBPQDNGTBKPBVJGBOKPFBVQBUWHHGTVJGBUNKPIUBCPFBCTTQYUBQHBQWVTCIGQWUBHQTVWPGQTBVQBVCMGBCTOUBCICKPUVBCBUGCBQHBVTQWDNGUCPFBD0BQRRQUKPIBGPFBVJGO\n"
     ]
    }
   ],
   "source": [
    "m = \"\"\"To be, or not to be, that is the question:\n",
    "Whether 'tis Nobler in the mind to suffer\n",
    "The Slings and Arrows of outrageous Fortune,\n",
    "Or to take Arms against a Sea of troubles,\n",
    "And by opposing end them.\"\"\"\n",
    "\n",
    "m = \"\".join([l for l in m if not l in punct])\n",
    "\n",
    "print(\"Original Message: \\n---\\n%s\" %m)\n",
    "\n",
    "tobe_ciphertext = caesar_shift_encrypt(m)\n",
    "print(\"\\nCiphertext:\\n---\\n %s\" %tobe_ciphertext)\n"
   ]
  },
  {
   "cell_type": "code",
   "execution_count": 11,
   "metadata": {
    "collapsed": false
   },
   "outputs": [
    {
     "name": "stdout",
     "output_type": "stream",
     "text": [
      "Decrypted second message:\n",
      "---\n",
      " TO BE OR NOT TO BE THAT IS THE QUESTIONWHETHER TIS NOBLER IN THE MIND TO SUFFERTHE SLINGS AND ARROWS OF OUTRAGEOUS FORTUNEOR TO TAKE ARMS AGAINST A SEA OF TROUBLESAND BY OPPOSING END THEM\n"
     ]
    }
   ],
   "source": [
    "print(\"Decrypted second message:\\n---\\n %s\" %caesar_shift_decrypt(tobe_ciphertext))"
   ]
  },
  {
   "cell_type": "code",
   "execution_count": null,
   "metadata": {
    "collapsed": true
   },
   "outputs": [],
   "source": []
  },
  {
   "cell_type": "code",
   "execution_count": 12,
   "metadata": {
    "collapsed": false
   },
   "outputs": [
    {
     "name": "stdout",
     "output_type": "stream",
     "text": [
      "Original Message: \n",
      "---\n",
      "To be or not to be that is the question\n",
      "\n",
      "Ciphertext:\n",
      "---\n",
      " VQBDGBQTBPQVBVQBDGBVJCVBKUBVJGBSWGUVKQP\n"
     ]
    }
   ],
   "source": [
    "m = \"To be, or not to be, that is the question.\"\n",
    "\n",
    "m = \"\".join([l for l in m if not l in punct])\n",
    "\n",
    "print(\"Original Message: \\n---\\n%s\" %m)\n",
    "\n",
    "tobe_ciphertext = caesar_shift_encrypt(m)\n",
    "print(\"\\nCiphertext:\\n---\\n %s\" %tobe_ciphertext)\n"
   ]
  },
  {
   "cell_type": "code",
   "execution_count": 13,
   "metadata": {
    "collapsed": false
   },
   "outputs": [
    {
     "name": "stdout",
     "output_type": "stream",
     "text": [
      "Decrypted second message:\n",
      "---\n",
      " TO BE OR NOT TO BE THAT IS THE QUESTION\n"
     ]
    }
   ],
   "source": [
    "print(\"Decrypted second message:\\n---\\n %s\" %caesar_shift_decrypt(tobe_ciphertext))"
   ]
  },
  {
   "cell_type": "markdown",
   "metadata": {},
   "source": [
    "Question\n",
    "---\n",
    "How to remain original format without changing plain text into upper case? How about encode/decode by removing spaces?"
   ]
  },
  {
   "cell_type": "markdown",
   "metadata": {},
   "source": [
    "Is this a good encryption scheme? No, not really. There are only 26 different things to try. This can be decrypted very quickly and easily, even if entirely by hand."
   ]
  },
  {
   "cell_type": "markdown",
   "metadata": {},
   "source": [
    "substitution cipher\n",
    "---\n",
    "A slightly different scheme is to choose a different letter for each letter. For instance, maybe “A” actually means “G” while “B” actually means “E”. We call this a substitution cipher as each letter is substituted for another."
   ]
  },
  {
   "cell_type": "code",
   "execution_count": 23,
   "metadata": {
    "collapsed": true
   },
   "outputs": [],
   "source": [
    "import random\n",
    "permutation = list(alpha)\n",
    "random.shuffle(permutation)"
   ]
  },
  {
   "cell_type": "code",
   "execution_count": 15,
   "metadata": {
    "collapsed": false
   },
   "outputs": [
    {
     "name": "stdout",
     "output_type": "stream",
     "text": [
      "ABCDEFGHIJKLMNOPQRSTUVWXYZ01234567890 \n",
      "S8QYKNZFU2D9 3H6TXJMA7W50LB10REGVOP4IC\n"
     ]
    }
   ],
   "source": [
    "# Display the new alphabet\n",
    "print(alpha)\n",
    "subs = \"\".join(permutation)\n",
    "print(subs)"
   ]
  },
  {
   "cell_type": "markdown",
   "metadata": {},
   "source": [
    "Note\n",
    "---\n",
    "`alpha.find(\"character\")`: find out the position of character in alpha"
   ]
  },
  {
   "cell_type": "code",
   "execution_count": 24,
   "metadata": {
    "collapsed": true
   },
   "outputs": [],
   "source": [
    "def subs_cipher_encrypt(m):\n",
    "    m = \"\".join([l.upper() for l in m if not l in punct])\n",
    "    return \"\".join([subs[alpha.find(l)] for l in m])\n",
    "\n",
    "def subs_cipher_decrypt(c):\n",
    "    c = \"\".join([l.upper() for l in c if not l in punct])\n",
    "    return \"\".join([alpha[subs.find(l)] for l in c])"
   ]
  },
  {
   "cell_type": "code",
   "execution_count": 25,
   "metadata": {
    "collapsed": false
   },
   "outputs": [
    {
     "name": "stdout",
     "output_type": "stream",
     "text": [
      "Original message: this is a test\n",
      "Encrypted Message: MFUJCUJCSCMKJM\n",
      "Decrypted Message: THIS IS A TEST\n"
     ]
    }
   ],
   "source": [
    "m1 = \"this is a test\"\n",
    "print (\"Original message:\", m1)\n",
    "\n",
    "c1 = subs_cipher_encrypt(m1)\n",
    "print(\"Encrypted Message:\", c1)\n",
    "\n",
    "print(\"Decrypted Message:\", subs_cipher_decrypt(c1))"
   ]
  },
  {
   "cell_type": "code",
   "execution_count": 26,
   "metadata": {
    "collapsed": false
   },
   "outputs": [
    {
     "name": "stdout",
     "output_type": "stream",
     "text": [
      "Original message:\n",
      "---\n",
      " To be or not to be that is the question\n",
      "Encrypted Message:\n",
      "---\n",
      " MHC8KCHXC3HMCMHC8KCMFSMCUJCMFKCTAKJMUH3\n",
      "Decrypted Message:\n",
      "---\n",
      " TO BE OR NOT TO BE THAT IS THE QUESTION\n"
     ]
    }
   ],
   "source": [
    "print(\"Original message:\\n---\\n %s\" %m)\n",
    "\n",
    "c2 = subs_cipher_encrypt(m)\n",
    "print(\"Encrypted Message:\\n---\\n %s\" %c2)\n",
    "\n",
    "print(\"Decrypted Message:\\n---\\n %s\" %subs_cipher_decrypt(c2))"
   ]
  },
  {
   "cell_type": "markdown",
   "metadata": {},
   "source": [
    "Is this a good encryption scheme? Still no. In fact, these are routinely used as puzzles in newspapers or puzzle books, because given a reasonably long message, it’s pretty easy to figure it out using things like the frequency of letters.\n",
    "\n",
    "For instance, in English, the letters ```RSTLNEAO``` are very common, and much more common than other letters. So one might start to guess that the most common letter in the ciphertext is one of these. More powerfully, one might try to see which pairs of letters (called bigrams) are common, and look for those in the ciphertext, and so on.\n",
    "\n",
    "From this sort of thought process, encryption schemes that ultimately rely on a single secret alphabet (even if it’s not our typical alphabet) fall pretty quickly. So… what about polyalphabetic ciphers? For instance, what if each group of 5 letters uses a different set of alphabets?\n",
    "\n",
    "This is a great avenue for exploration, and there are lots of such encryption schemes that we won’t discuss in this class. But a class on cryptography (or a book on cryptography) would certainly go into some of these. It might also be a reasonable avenue of exploration for a final project."
   ]
  },
  {
   "cell_type": "markdown",
   "metadata": {},
   "source": [
    "German Enigma\n",
    "---\n",
    "One very well-known polyalphabetic encryption scheme is the German Enigma\n",
    "<img src=\"imgs/EnigmaMachineLabeled.jpg\" width=50% height=40% />\n",
    "used before and during World War II. This was by far the most complicated cryptosystem in use up to that point, and the story of how it was broken is a long and tricky one. Intial successes towards breaking the Enigma came through the work of Polish mathematicians, fearful (and rightfully so) of the Germans across the border. By 1937, they had built replicas and understood many details of the Enigma system. But in 1938, the Germans shifted to a more secure and complicated cryptosystem. Just weeks before the German invasion of Poland and the beginning of World War II, Polish mathematicians sent their work and notes to mathematicians in France and Britain, who carried out this work.\n",
    "\n",
    "The second major progress towards breaking the Enigma occurred largely in Bletchley Park in Britain, a communication center with an enormous dedicated effort to breaking the Enigma. This is where the tragic tale of Alan Turing, recently popularized through the movie The Imitation Game, begins. This is also the origin tale for modern computers, as Alan Turing developed electromechanical computers to help break the Enigma.\n",
    "\n",
    "The Enigma worked by having a series of cogs or rotors whose positions determined a substitution cipher. \n",
    "<img src=\"imgs/Enigma_rotor.png\" width=40% />\n",
    "<div align=\"center\">\n",
    "Figure, A series of three rotors from an Enigma machine scrambler. <br>\n",
    "When loaded in the machine, these rotors connect with the entry    <br>\n",
    "plate on the right and the reflector drum on the left.             </div>\n",
    "\n",
    "```\n",
    "After each letter, the positions were changed through a mechanical process. \n",
    "```\n",
    "\n",
    "An Enigma machine is a very impressive machine to look at [and the “computer” Alan Turing used to help break them was also very impressive].\n",
    "\n",
    "1. Keyboard\n",
    "---\n",
    "When the operator presses the letter 'T' on the keyboard it creates an electric signal that begins the journey through the Enigma machine wiring that will end with a lamp flashing on the lampboard.\n",
    "\n"
   ]
  },
  {
   "cell_type": "markdown",
   "metadata": {},
   "source": [
    "How Enigma Works\n",
    "---\n",
    "<figure>\n",
    "<img src=\"imgs/wiringdiagram.png\" width=80% ><figcaption align=\"center\"> Fig 1.</figcaption>\n",
    "</figure>\n",
    "The diagram above shows the path the signal takes from pressing the letter <font color=\"red\">'T'</font> on the keyboard to the <font color=\"blue\">'G'</font> lamp lighting up.\n",
    "\n",
    "\n",
    "2. Plugboard\n",
    "---\n",
    "<img src=\"imgs/Enigma-plugboard.kpg.jpg\" width=60% ><caption align=\"center\">\n",
    "\n",
    "As above, Wire connection:\n",
    "```\n",
    "A -> J\n",
    "S -> O\n",
    "```\n",
    "\n",
    "The first stop on the journey is the plugboard. Here the signal is connected to the 'A' input on the plugboard. Some of the letters on the plugboard will be wired up to other letters (the plugs), causing the signal to be diverted. If the 'A' input is not plugged to another letter then our signal will pass straight to the 'A output. In our case, though the 'A' is plugged to the 'J', so the signal is diverted to a new path, the letter is now 'J'.\n",
    "\n",
    "3. Static Rotor\n",
    "---\n",
    "The next stop is the static rotor, which as the name suggests does nothing to the signal it simply turns wires into contacts (the signal only passes when the contacts touch). So our signal is still the letter 'J'. The static rotor output is connected to the input of the right rotor. This is where things get more complicated.\n",
    "\n",
    "4. Rotors (Scramblers)\n",
    "---\n",
    "There are five possible rotors that can be used in any order for the three rotor positions: right, middle, left. Each rotor has an inner ring of contacts and an outer ring of contacts and their purpose is to scramble the signal. The outer ring contacts connect each rotor to the next rotor (or the static rotor / reflector) as well as its own inner ring. The inner ring contacts can be rotated relative to the outer ring which results in even more possible connections (and therefore, letter substitutions). The whole rotor itself can be rotated relative to the static rotor, so that the static rotor 'A' output is not connected to 'A' input on the rotating rotor.\n",
    "\n",
    "Furthermore, as each letter is entered the rotors rotate by one position, so that the same letters are **never** connected together in the same message. To add further complication, each rotor has a notches (different rotors have the notch in different positions) which when reached, causes the next rotor to its left to step forward too. In the case of the middle rotor, it causes the left rotor to step as well as itself (the infamous double stepping mechanism).\n",
    "\n",
    "In our example, we are using rotor III in the right-hand position.\n",
    "\n",
    "```\n",
    "why same inputs get different ciper outputs\n",
    "\n",
    "Input         1st Rotors                 2st Roters\n",
    "\n",
    "  A         B (then rotate 1, i.e. C)\n",
    "  A         C (then rotate 1, i.e. D)\n",
    "   ...\n",
    "   after 26 runs                           rotate 1\n",
    "\n",
    "```\n",
    "this means there are different $26\\times26\\times26$ combinations for input in this rotors' effect.\n",
    "5. Reflector\n",
    "---\n",
    "The reflector takes the input and reflects back the electrical signal for its return journey through the rotors. There are two possible reflectors, each of which is wired up differently so that the input letter is transformed to a different letter when reflected back. In our example, we are using 'Reflector B', which turns our input letter 'H' into output letter 'D'.\n",
    "\n",
    "It is important that the signal is scrambled when reflected, because of the way the Enigma machine is designed -- if you enter the cipher text you get back the clear text. So if the reflector output is the same letter as its input when the signal passes back through the rotors they will just unscramble what was already scrambled and you would get your original letter back again unencrypted!\n",
    "\n",
    "6. Reverse Journey\n",
    "---\n",
    "The reflected signal now passes back through the rotors, which work in exactly the same way in reverse. So our letter 'D' passes through the left rotor and becomes 'G', which then passes through the middle rotor and becomes 'R', which then passes through the right rotor and becomes 'W'. The signal remains unchanged as it passes through the static rotor again (connecting contacts to wires), before it passes through the plugboard - here the signal is again left as it is if there is no plug, or changed if the letter 'W' is plugged to another letter. In our case the 'W' is plugged to the letter 'G', so our plugboard output is 'G'.\n",
    "\n",
    "7. Lampboard\n",
    "---\n",
    "The final stop is the lampboard, where the plugboard output is connected to the corresponding lamp for that letter. In our example, the letter 'G' lights up meaning the original letter 'T' is encrypted as 'G'.\n",
    "\n",
    "The Enigma machine operator notes down the output letter and then enters the next letter in the message, and so on for every letter in the message."
   ]
  },
  {
   "cell_type": "markdown",
   "metadata": {},
   "source": [
    "Implement of Engima\n",
    "---\n",
    "Below, use python codes to implement an Enigma machine, by default set to 4 rotors. The interesting part is how meaningless the output message looks. Note that I’ve kept the spacing and punctuation from the original message for easier comparison. \n",
    "\n",
    "The plaintext used for demonstration is from Wikipedia’s article on the Enigma."
   ]
  },
  {
   "cell_type": "code",
   "execution_count": 2,
   "metadata": {
    "collapsed": true
   },
   "outputs": [],
   "source": [
    "from random import shuffle,randint,choice  \n",
    "from copy import copy  \n",
    "num_alphabet = range(26)   \n",
    "    \n",
    "def en_shift(l, n):                         # Rotate cogs and arrays\n",
    "    return l[n:] + l[:n]  \n",
    "      \n",
    "    \n",
    "class Cog:                                  # Each cog has a substitution cipher  \n",
    "    def __init__(self):  \n",
    "        #self.shuf = copy(num_alphabet) \n",
    "        self.shuf = list(copy(num_alphabet))\n",
    "        shuffle(self.shuf)                  # Create the individual substition cipher\n",
    "        return                              # Really, these were not random\n",
    "    \n",
    "    def subs_in(self,i):                    # Perform a substition\n",
    "        return self.shuf[i] \n",
    "    \n",
    "    def subs_out(self,i):                   # Perform a reverse substition\n",
    "        return self.shuf.index(i)\n",
    "    \n",
    "    def rotate(self):                       # Rotate the cog by 1.\n",
    "        self.shuf = en_shift(self.shuf, 1)\n",
    "        \n",
    "    def setcog(self,a):                     # Set up a particular substitution\n",
    "        self.shuf = a  \n"
   ]
  },
  {
   "cell_type": "code",
   "execution_count": 3,
   "metadata": {
    "collapsed": true
   },
   "outputs": [],
   "source": [
    "class Enigma:  \n",
    "    def __init__(self, numcogs,readability=True):  \n",
    "        self.readability = readability  \n",
    "        self.numcogs = numcogs  \n",
    "        self.cogs = []  \n",
    "        self.oCogs = []                     # \"Original Cog positions\"  \n",
    " \n",
    "        for i in range(0,self.numcogs): # Create the cogs\n",
    "            self.cogs.append(Cog())\n",
    "            self.oCogs.append(self.cogs[i].shuf)  \n",
    "            \n",
    "        #refabet = copy(num_alphabet) \n",
    "        #self.reflector = copy(num_alphabet)  \n",
    "        refabet = list(copy(num_alphabet) )\n",
    "        self.reflector = list(copy(num_alphabet) )\n",
    "        while len(refabet) > 0:             # Pair letters in the reflector\n",
    "            a = choice(refabet)  \n",
    "            refabet.remove(a)  \n",
    "            \n",
    "            b = choice(refabet)  \n",
    "            refabet.remove(b)  \n",
    "            \n",
    "            self.reflector[a] = b  \n",
    "            self.reflector[b] = a\n",
    "              \n",
    "    def print_setup(self): # Print out substituion setup.\n",
    "        print (\"Enigma Setup:\\nCogs: \",self.numcogs,\"\\nCog arrangement:\" ) \n",
    "        for i in range(0,self.numcogs):  \n",
    "            print (self.cogs[i].shuf)  \n",
    "        print (\"Reflector arrangement:\\n\",self.reflector,\"\\n\")\n",
    "          \n",
    "    def reset(self):  \n",
    "        for i in range(0,self.numcogs):  \n",
    "            self.cogs[i].setcog(self.oCogs[i])  \n",
    "              \n",
    "    def encode(self,text):  \n",
    "        t = 0     # Ticker counter  \n",
    "        ciphertext=\"\"  \n",
    "        for l in text.lower():  \n",
    "            num = ord(l) % 97  \n",
    "            # Handle special characters for readability\n",
    "            if (num>25 or num<0):  \n",
    "                if (self.readability):\n",
    "                    ciphertext += l   \n",
    "                else:  \n",
    "                    pass              \n",
    "            else:\n",
    "                # Pass through cogs, reflect, then return through cogs\n",
    "                t += 1  \n",
    "                for i in range(self.numcogs): \n",
    "                    num = self.cogs[i].subs_in(num)  \n",
    "                      \n",
    "                num = self.reflector[num]  \n",
    "                  \n",
    "                for i in range(self.numcogs):  \n",
    "                    num = self.cogs[self.numcogs-i-1].subs_out(num)  \n",
    "                ciphertext += \"\" + chr(97+num)\n",
    "                  \n",
    "                # Rotate cogs\n",
    "                for i in range(self.numcogs):\n",
    "                    if ( t % ((i*6)+1) == 0 ):\n",
    "                        self.cogs[i].rotate()  \n",
    "        return ciphertext.upper()    "
   ]
  },
  {
   "cell_type": "code",
   "execution_count": 7,
   "metadata": {
    "collapsed": false
   },
   "outputs": [
    {
     "name": "stdout",
     "output_type": "stream",
     "text": [
      "Original plain text\n",
      "aaaaaaaaaaaaaaaaaaaaaaaaaaaaaaaaaaaaaaaa\n",
      "\n",
      "Encrypted Message\n",
      "JBZUEFSFJXDLVTLMQWPINDXSXBDGDQIXMTCJRXFN\n",
      "\n",
      "Decrypted Message:\n",
      "AAAAAAAAAAAAAAAAAAAAAAAAAAAAAAAAAAAAAAAA\n"
     ]
    }
   ],
   "source": [
    "test=40*\"a\"\n",
    "\n",
    "print(\"Original plain text\\n%s\\n\" %test)\n",
    "x=Enigma(4)  \n",
    "#x.print_setup()  \n",
    "  \n",
    "ciphertext = x.encode(test)  \n",
    "print(\"Encrypted Message\\n%s\\n\" %ciphertext)\n",
    "\n",
    "print\n",
    "# Decryption and encryption are symmetric, so to decode we reset and re-encrypt.\n",
    "x.reset()  \n",
    "decipheredtext = x.encode(ciphertext)  \n",
    "print(\"Decrypted Message:\\n%s\" %decipheredtext)\n"
   ]
  },
  {
   "cell_type": "code",
   "execution_count": 79,
   "metadata": {
    "collapsed": false
   },
   "outputs": [
    {
     "name": "stdout",
     "output_type": "stream",
     "text": [
      "Original Message:\n",
      "WHEN PLACED IN AN ENIGMA, EACH ROTOR CAN BE SET TO ONE OF 26 POSSIBLE POSITIONS. WHEN INSERTED, IT CAN BE TURNED BY HAND USING THE GROOVED FINGER-WHEEL, WHICH PROTRUDES FROM THE INTERNAL ENIGMA COVER WHEN CLOSED. SO THAT THE OPERATOR CAN KNOW THE ROTOR'S POSITION, EACH HAD AN ALPHABET TYRE (OR LETTER RING) ATTACHED TO THE OUTSIDE OF THE ROTOR DISK, WITH 26 CHARACTERS (TYPICALLY LETTERS); ONE OF THESE COULD BE SEEN THROUGH THE WINDOW, THUS INDICATING THE ROTATIONAL POSITION OF THE ROTOR. IN EARLY MODELS, THE ALPHABET RING WAS FIXED TO THE ROTOR DISK. A LATER IMPROVEMENT WAS THE ABILITY TO ADJUST THE ALPHABET RING RELATIVE TO THE ROTOR DISK. THE POSITION OF THE RING WAS KNOWN AS THE RINGSTELLUNG (\"RING SETTING\"), AND WAS A PART OF THE INITIAL SETTING PRIOR TO AN OPERATING SESSION. IN MODERN TERMS IT WAS A PART OF THE INITIALIZATION VECTOR.\n",
      "\n"
     ]
    }
   ],
   "source": [
    "plaintext=\"\"\"When placed in an Enigma, each rotor can be set to one of 26 possible positions. \n",
    "When inserted, it can be turned by hand using the grooved finger-wheel, which protrudes from \n",
    "the internal Enigma cover when closed. So that the operator can know the rotor's position, \n",
    "each had an alphabet tyre (or letter ring) attached to the outside of the rotor disk, with \n",
    "26 characters (typically letters); one of these could be seen through the window, thus indicating \n",
    "the rotational position of the rotor. In early models, the alphabet ring was fixed to the rotor \n",
    "disk. A later improvement was the ability to adjust the alphabet ring relative to the rotor disk. \n",
    "The position of the ring was known as the Ringstellung (\"ring setting\"), and was a part of the \n",
    "initial setting prior to an operating session. In modern terms it was a part of the \n",
    "initialization vector.\"\"\"\n",
    "\n",
    "# Remove newlines for encryption\n",
    "pt = \"\".join([l.upper() for l in plaintext if not l == \"\\n\"])\n",
    "# pt = \"\".join([l.upper() for l in plaintext if not l in punct])\n",
    "\n",
    "print(\"Original Message:\\n%s\\n\" %pt)"
   ]
  },
  {
   "cell_type": "code",
   "execution_count": 80,
   "metadata": {
    "collapsed": false
   },
   "outputs": [
    {
     "name": "stdout",
     "output_type": "stream",
     "text": [
      "Encrypted Message\n",
      "NEPH HFLTHG GW DW QZTOAS, JEWI WNUWV VSQ XT DPZ MB KJX UM 26 TSMZOMAA KJTTENXWC. YLMT YRYMILWV, QB MCY YP LBJPZY OH SMRL ARABR AYF CIZWLIH OOHMNO-IOBTU, RYMGC OSLQTAVOG RGYF QTH BQRVHMOK VWPDHS TDXAC KCRC LAHMAZ. LL OXKK MVK CQWHHFWD QMF YXSL CYH NJZDX'H VUVGQWRI, UUEA PJH JK XILVLVIU SWST (CZ BHGQRO LNYL) ECOOVTVU CY NUJ GZYXMUS JH WTX EXJBH OJZE, ACFJ 26 LJJXXNBUCC (LFZQWKIOS RPCMZLC); MLB PW PPDAG HMMTY FB HXXO ZEDTGEV QIC QXSBMG, GKQN KRBQBBBPMN UEY QTREQXRQHO GVAOUUWW HH QBL ASLFJ. QX JLNSH FQKQMV, XKW LRRDFFAW KXAV PZM BGTGF AC HKY ZRYWW FBGZ. I NQFLA YDTEXBXAGIA CLA VEM ZHYTMQT KY ZLFKLK PEM HPUSFWWG ZCFF TDEWHZJG HN VKS HBREH OOCD. NXS JIUPKBDC XY LZI LFWQ OQV XXASE LE QLX NSUQLHBDUWHM (\"TRVC XAAKUKN\"), ZOC DFH L ABTP SY HEI PDSPKGX XGHQUDB CGLJD RA OZ BWCYGKNUK QIRWYPG. HT SJLIAI NZLVA AN DTZ T BMYD GN CYB WGPFMQAPDBCPHY ESTPSN.\n",
      "\n",
      "Decrypted Message:\n",
      "WHEN PLACED IN AN ENIGMA, EACH ROTOR CAN BE SET TO ONE OF 26 POSSIBLE POSITIONS. WHEN INSERTED, IT CAN BE TURNED BY HAND USING THE GROOVED FINGER-WHEEL, WHICH PROTRUDES FROM THE INTERNAL ENIGMA COVER WHEN CLOSED. SO THAT THE OPERATOR CAN KNOW THE ROTOR'S POSITION, EACH HAD AN ALPHABET TYRE (OR LETTER RING) ATTACHED TO THE OUTSIDE OF THE ROTOR DISK, WITH 26 CHARACTERS (TYPICALLY LETTERS); ONE OF THESE COULD BE SEEN THROUGH THE WINDOW, THUS INDICATING THE ROTATIONAL POSITION OF THE ROTOR. IN EARLY MODELS, THE ALPHABET RING WAS FIXED TO THE ROTOR DISK. A LATER IMPROVEMENT WAS THE ABILITY TO ADJUST THE ALPHABET RING RELATIVE TO THE ROTOR DISK. THE POSITION OF THE RING WAS KNOWN AS THE RINGSTELLUNG (\"RING SETTING\"), AND WAS A PART OF THE INITIAL SETTING PRIOR TO AN OPERATING SESSION. IN MODERN TERMS IT WAS A PART OF THE INITIALIZATION VECTOR.\n"
     ]
    }
   ],
   "source": [
    "x=Enigma(4)  \n",
    "#x.print_setup()  \n",
    "  \n",
    "ciphertext = x.encode(pt)  \n",
    "print(\"Encrypted Message\\n---\\n%s\\n\" %ciphertext)\n",
    "\n",
    "print\n",
    "# Decryption and encryption are symmetric, so to decode we reset and re-encrypt.\n",
    "x.reset()  \n",
    "decipheredtext = x.encode(ciphertext)  \n",
    "print(\"Decrypted Message:\\n---\\n%s\" %decipheredtext)\n"
   ]
  },
  {
   "cell_type": "markdown",
   "metadata": {},
   "source": [
    "The advent of computers brought in a paradigm shift in approaches towards cryptography. Prior to computers, one of the ways of maintaining security was to come up with a hidden key and a hidden cryptosystem, and keep it safe merely by not letting anyone know anything about how it actually worked at all. This has the short cute name security through obscurity. As the number of type of attacks on cryptosystems are much, much higher with computers, a different model of security and safety became necessary.\n",
    "\n",
    "It is interesting to note that it is not obvious that security through obscurity is always bad, as long as it’s really really well-hidden. This is relevant to some problems concerning current events and cryptography."
   ]
  },
  {
   "cell_type": "markdown",
   "metadata": {},
   "source": [
    "Public Key Cryptography¶\n",
    "===\n",
    "The new model begins with a slightly different setup. We should think of Anabel and Bartolo as sitting on opposite sides of a classroom, trying to communicate securely even though there are lots of people in the middle of the classroom who might be listening in. In particular, Anabel has something she wants to tell Bartolo.\n",
    "\n",
    "Instead of keeping the cryptosystem secret, Bartolo tells everyone (in our metaphor, he shouts to the entire classroom) a public key K, and explains how to use it to send him a message. Anabel uses this key to encrypt her message. She then sends this message to Bartolo.\n",
    "\n",
    "If the system is well-designed, no one will be able to understand the ciphertext even though they all know how the cryptosystem works. This is why the system is called Public Key.\n",
    "\n",
    "Bartolo receives this message and (using something only he knows) he decrypts the message.\n",
    "\n",
    "We will learn one such cryptosystem here: RSA, named after Rivest, Shamir, and Addleman — the first major public key cryptosystem"
   ]
  },
  {
   "cell_type": "markdown",
   "metadata": {},
   "source": [
    "rsa\n",
    "---\n",
    "\n",
    "Bartolo takes two primes such as \n",
    "$p=12553$\n",
    " and $q=\n",
    "13007$\n",
    ". He notes their product\n",
    "\n",
    "$$m = pq = 163276871$$\n",
    "\n",
    "and computes $\\varphi(m)$,\n",
    "\n",
    "$$\\varphi(m) = (p-1)(q-1) = 163251312.$$\n",
    "\n",
    "Finally, he chooses some integer $k$  relatively prime to\n",
    "$\\varphi(m)$, like say\n",
    "$k=79921.$\n",
    "\n",
    "Then the **public key** he distributes is\n",
    "$(m, k) = (163276871, 79921).$\n",
    "\n",
    "In order to send Bartolo a message using this key, Anabel must convert her message to numbers. She might use the identification A = 11, B = 12, C = 13, … and concatenate her numbers. To send the word CAB, for instance, she would send 131112. Let’s say that Anabel wants to send the message\n",
    "\n",
    "```\n",
    "NUMBER THEORY IS THE QUEEN OF THE SCIENCES\n",
    "```\n",
    "\n",
    "Then she needs to convert this to numbers."
   ]
  },
  {
   "cell_type": "code",
   "execution_count": 64,
   "metadata": {
    "collapsed": true
   },
   "outputs": [],
   "source": [
    "conversion_dict = dict()\n",
    "alpha = \"abcdefghijklmnopqrstuvwxyz\".upper()\n",
    "curnum = 11\n",
    "for l in alpha:\n",
    "    conversion_dict[l] = curnum\n",
    "    curnum += 1"
   ]
  },
  {
   "cell_type": "code",
   "execution_count": 122,
   "metadata": {
    "collapsed": false
   },
   "outputs": [
    {
     "name": "stdout",
     "output_type": "stream",
     "text": [
      "Original Message:\n",
      " NUMBERTHEORYISTHEQUEENOFTHESCIENCES\n",
      "Numerical Message:\n",
      " 2431231215283018152528351929301815273115152425163018152913191524131529\n"
     ]
    }
   ],
   "source": [
    "\n",
    "msg = \"NUMBERTHEORYISTHEQUEENOFTHESCIENCES\"\n",
    "print( \"Original Message:\\n %s\" %msg)\n",
    "\n",
    "\n",
    "def letters_to_numbers(m):\n",
    "    return \"\".join([str(conversion_dict[l]) for l in m.upper()])\n",
    "\n",
    "msg_num = letters_to_numbers(msg)\n",
    "print(\"Numerical Message:\\n %s\"  %msg_num)\n"
   ]
  },
  {
   "cell_type": "markdown",
   "metadata": {},
   "source": [
    "So Anabel’s message is the number\n",
    "\n",
    "$$2431231215283018152528351929301815273115152425163018152913191524131529$$\n",
    "which she wants to encrypt and send to Bartolo. To make this manageable, she cuts the message into 8-digit numbers,\n",
    "\n",
    "```\n",
    "24312312\n",
    "15283018\n",
    "15252835\n",
    "19293018\n",
    "15273115\n",
    "15242516\n",
    "30181529\n",
    "13191524\n",
    "131529.\n",
    "```\n",
    "To send her message, she takes one of the 8-digit blocks and raises it to the power of $k$\n",
    " modulo $m$. That is, to transmit the first block, she computes\n",
    "\n",
    "$$24312312^{79921} \\equiv 13851252 \\pmod{163276871}.$$"
   ]
  },
  {
   "cell_type": "code",
   "execution_count": 68,
   "metadata": {
    "collapsed": false
   },
   "outputs": [
    {
     "name": "stdout",
     "output_type": "stream",
     "text": [
      "13851252\n"
     ]
    }
   ],
   "source": [
    "# Secret information\n",
    "p = 12553\n",
    "q = 13007\n",
    "phi = (p-1)*(q-1) # varphi(pq)\n",
    "\n",
    "# Public information\n",
    "m = p*q # 163276871\n",
    "k = 79921\n",
    "\n",
    "print(pow(24312312, k, m))"
   ]
  },
  {
   "cell_type": "markdown",
   "metadata": {},
   "source": [
    "She sends this number\n",
    "```\n",
    "13851252\n",
    "```\n",
    "to Bartolo (maybe by shouting. Even though everyone can hear, they cannot decrypt it). How does Bartolo decrypt this message?\n",
    "He computes $\\varphi(m) = (p-1)(q-1)$\n",
    " (which he can do because he knows $p$\n",
    " and $q$\n",
    " separately), and then finds a solution $u$\n",
    " to\n",
    "\n",
    "$$uk = 1 + \\varphi(m) v.$$\n",
    "This can be done quickly through the Euclidean Algorithm.\n"
   ]
  },
  {
   "cell_type": "code",
   "execution_count": 70,
   "metadata": {
    "collapsed": true
   },
   "outputs": [],
   "source": [
    "def extended_euclidean(a,b):\n",
    "    if b == 0:\n",
    "        return (1,0,a)\n",
    "    else :\n",
    "        x, y, gcd = extended_euclidean(b, a % b) # Aside: Python has no tail recursion\n",
    "        return y, x - y * (a // b),gcd           # But it does have meaningful stack traces\n",
    "    \n",
    "# This version comes from Exercise 6.3 in the book, but without recursion\n",
    "def extended_euclidean2(a,b):\n",
    "    x = 1\n",
    "    g = a\n",
    "    v = 0\n",
    "    w = b\n",
    "    while w != 0:\n",
    "        q = g // w\n",
    "        t = g - q*w\n",
    "        s = x - q*v\n",
    "        x,g = v,w\n",
    "        v,w = s,t\n",
    "    y = (g - a*x) / b\n",
    "    return (x,y,g)\n",
    " \n",
    "def modular_inverse(a,m) :\n",
    "    x,y,gcd = extended_euclidean(a,m)\n",
    "    if gcd == 1 :\n",
    "        return x % m\n",
    "    else :\n",
    "        return None"
   ]
  },
  {
   "cell_type": "code",
   "execution_count": 125,
   "metadata": {
    "collapsed": false
   },
   "outputs": [
    {
     "name": "stdout",
     "output_type": "stream",
     "text": [
      "k, p, q: 79921 12553 13007\n",
      "computed u: 145604785\n"
     ]
    }
   ],
   "source": [
    "print(\"k, p, q:\", k, p, q)\n",
    "\n",
    "u = modular_inverse(k,(p-1)*(q-1))\n",
    "print(\"computed u: %s\" %u)"
   ]
  },
  {
   "cell_type": "markdown",
   "metadata": {},
   "source": [
    "In particular, Bartolo computes that his $u=145604785$\n",
    ". To recover the message, he takes the number \n",
    "13851252\n",
    " sent to him by Anabel and raises it to the \n",
    "$u$\n",
    " power. He computes\n",
    "\n",
    "$$13851252^{u} \\equiv 24312312 \\pmod{pq},$$\n",
    "\n",
    "which we can see must be true as\n",
    "$$13851252^{u} \\equiv (24312312^{k})^u \\equiv 24312312^{1 + \\varphi(pq)v} \\equiv 24312312 \\pmod{pq}.$$\n",
    "\n",
    "In this last step, we have used \n",
    "\n",
    "**Euler’s Theorem** \n",
    "$$24312312^{\\varphi(pq)v} \\equiv 1 \\pmod{pq}.$$"
   ]
  },
  {
   "cell_type": "code",
   "execution_count": 72,
   "metadata": {
    "collapsed": false
   },
   "outputs": [
    {
     "name": "stdout",
     "output_type": "stream",
     "text": [
      "24312312\n"
     ]
    }
   ],
   "source": [
    "# Checking this power explicitly.\n",
    "print(pow(13851252, 145604785, m))"
   ]
  },
  {
   "cell_type": "markdown",
   "metadata": {},
   "source": [
    "Now Bartolo needs to perform this process for each 8-digit chunk that Anabel sent over. Note that the work is very easy, as he computes the integer $u$\n",
    " only once. Each other time, he simply computes $c^u \\pmod m$\n",
    " for each ciphertext $c$, and this is very fast with repeated-squaring.\n",
    "\n",
    "We do this below, in an automated fashion, step by step.\n",
    "\n",
    "First, we split the message into 8-digit chunks."
   ]
  },
  {
   "cell_type": "code",
   "execution_count": 73,
   "metadata": {
    "collapsed": false
   },
   "outputs": [
    {
     "name": "stdout",
     "output_type": "stream",
     "text": [
      "['24312312', '15283018', '15252835', '19293018', '15273115', '15242516', '30181529', '13191524', '131529']\n"
     ]
    }
   ],
   "source": [
    "# Break into chunks of 8 digits in length.\n",
    "def chunk8(message_number):\n",
    "    cp = str(message_number)\n",
    "    ret_list = []\n",
    "    while len(cp) > 7:\n",
    "        ret_list.append(cp[:8])\n",
    "        cp = cp[8:]\n",
    "    if cp:\n",
    "        ret_list.append(cp)\n",
    "    return ret_list\n",
    "\n",
    "msg_list = chunk8(msg_num)\n",
    "print(msg_list)"
   ]
  },
  {
   "cell_type": "markdown",
   "metadata": {},
   "source": [
    "This is a numeric representation of the message Anabel wants to send Bartolo. So she encrypts each chunk. This is done below\n",
    "\n"
   ]
  },
  {
   "cell_type": "code",
   "execution_count": 74,
   "metadata": {
    "collapsed": false
   },
   "outputs": [
    {
     "name": "stdout",
     "output_type": "stream",
     "text": [
      "[13851252, 14944940, 158577269, 117640431, 139757098, 25099917, 88562046, 6640362, 10543199]\n"
     ]
    }
   ],
   "source": [
    "# Compute ciphertexts separately on each 8-digit chunk.\n",
    "def encrypt_chunks(chunked_list):\n",
    "    ret_list = []\n",
    "    for chunk in chunked_list:\n",
    "        #print chunk\n",
    "        #print int(chunk)\n",
    "        ret_list.append(pow(int(chunk), k, m))\n",
    "    return ret_list\n",
    "\n",
    "cipher_list = encrypt_chunks(msg_list)\n",
    "print(cipher_list)"
   ]
  },
  {
   "cell_type": "markdown",
   "metadata": {},
   "source": [
    "This is the encrypted message. Having computed this, Anabel sends this message to Bartolo.\n",
    "\n",
    "To decrypt the message, Bartolo uses his knowledge of $u$\n",
    ", which comes from his ability to compute $\\varphi(pq)$\n",
    ", and decrypts each part of the message. This looks like below."
   ]
  },
  {
   "cell_type": "code",
   "execution_count": 75,
   "metadata": {
    "collapsed": false
   },
   "outputs": [
    {
     "name": "stdout",
     "output_type": "stream",
     "text": [
      "[24312312, 15283018, 15252835, 19293018, 15273115, 15242516, 30181529, 13191524, 131529]\n"
     ]
    }
   ],
   "source": [
    "# Decipher the ciphertexts all in the same way\n",
    "def decrypt_chunks(chunked_list):\n",
    "    ret_list = []\n",
    "    for chunk in chunked_list:\n",
    "        ret_list.append(pow(int(chunk), u, m))\n",
    "    return ret_list\n",
    "\n",
    "decipher_list = decrypt_chunks(cipher_list)\n",
    "print(decipher_list)"
   ]
  },
  {
   "cell_type": "markdown",
   "metadata": {},
   "source": [
    "Finally, Bartolo concatenates these numbers together and translates them back into letters. Will he get the right message back?\n",
    "\n"
   ]
  },
  {
   "cell_type": "code",
   "execution_count": 76,
   "metadata": {
    "collapsed": false
   },
   "outputs": [
    {
     "name": "stdout",
     "output_type": "stream",
     "text": [
      "NUMBERTHEORYISTHEQUEENOFTHESCIENCES\n"
     ]
    }
   ],
   "source": [
    "alpha = \"ABCDEFGHIJKLMNOPQRSTUVWXYZ\"\n",
    "\n",
    "# Collect deciphered texts into a single list, and translate back into letters.\n",
    "def chunks_to_letters(chunked_list):\n",
    "    s = \"\".join([str(chunk) for chunk in chunked_list])\n",
    "    ret_str = \"\"\n",
    "    while s:\n",
    "        ret_str += alpha[int(s[:2])-11].upper()\n",
    "        s = s[2:]\n",
    "    return ret_str\n",
    "\n",
    "print(chunks_to_letters(decipher_list))"
   ]
  },
  {
   "cell_type": "markdown",
   "metadata": {},
   "source": [
    "Yes! Bartolo successfully decrypts the message and sees that Anabel thinks that \n",
    "```\n",
    "Number Theory is the Queen of the Sciences.\n",
    "```\n",
    "This is a quote from Gauss, the famous mathematician who has been popping up again and again in this course."
   ]
  },
  {
   "cell_type": "markdown",
   "metadata": {},
   "source": [
    "why is this secure?\n",
    "---\n",
    "\n",
    "Let’s pause to think about why this is secure.\n",
    "\n",
    "What if someone catches the message in transit? Suppose Eve is eavesdropping and hears Anabel’s first chunk, $13851252$. How would she decrypt it?\n",
    "\n",
    "Eve knows that she wants to solve\n",
    "\n",
    "$$x^k \\equiv 13851252 \\pmod {pq}$$\n",
    "\n",
    "or rather\n",
    "$$x^{79921} \\equiv 13851252 \\pmod {163276871}.$$\n",
    "\n",
    "How can she do that? We can do that because we know to raise this to a particular power depending on \n",
    "$\\varphi(163276871)$\n",
    ". But Eve doesn’t know what $\\varphi(163276871)$ \n",
    "is since she can’t factor \n",
    "$163276871$. In fact, knowing $\\varphi(163276871)$\n",
    " is exactly as hard as factoring $163276871$.\n",
    "But if Eve could somehow find $79921$st roots modulo $163276871$\n",
    ", or if Eve could factor $163276871$\n",
    ", then she would be able to decrypt the message. These are both really hard problems! And it’s these problems that give the method its security.\n",
    "\n",
    "More generally, one might use primes $p$\n",
    " and $q$\n",
    "that are each about $200$\n",
    " digits long, and a fairly large $k$\n",
    ". Then the resulting $m$\n",
    " would be about $400$\n",
    "digits, which is far larger than we know how to factor effectively. The reason for choosing a somewhat large $k$\n",
    " is for security reasons that are beyond the scope of this segment. The relevant idea here is that since this is a publicly known encryption scheme, many people have strenghtened it over the years by making it more secure against every clever attack known. This is another, sometimes overlooked benefit of public-key cryptography: since the methodology isn’t secret, everyone can contribute to its security — indeed, it is in the interest of anyone desiring such security to contribute. This is sort of the exact opposite of Security through Obscurity.\n",
    "\n",
    "The nature of code being open, public, private, or secret is also very topical in current events. Recently, Volkswagen cheated in its car emissions-software and had it report false outputs, leading to a large scandal. Their software is proprietary and secret, and the deliberate bug went unnoticed for years. Some argue that this means that more software, and especially software that either serves the public or that is under strong jurisdiction, should be publicly viewable for analysis.\n",
    "\n",
    "Another relevant current case is that the code for most voting machines in the United States is proprietary and secret. Hopefully they aren’t cheating!\n",
    "\n",
    "On the other side, many say that it is necessary for companies to be able to have secret software for at least some time period to recuperate the expenses that go into developing the software. This is similar to how drug companies have patents on new drugs for a number of years. This way, a new successful drug pays for its development since the company can charge above the otherwise-market-rate.\n",
    "\n",
    "Further, many say that opening some code would open it up to attacks from malicious users who otherwise wouldn’t be able to see the code. Of course, this sounds a lot like trying for security through obscurity.\n",
    "\n",
    "This is a very relevant and big topic, and the shape it takes over the next few years may very well have long-lasting impacts."
   ]
  },
  {
   "cell_type": "markdown",
   "metadata": {},
   "source": [
    "condensed version\n",
    "---\n",
    "Now that we’ve gone through it all once, we have a condensed RSA system set up with our $p,q,$\n",
    " and $k$\n",
    " from above. To show that this can be done quickly with a computer, let’s do another right now.\n",
    "\n",
    "Let us encrypt, transmit, and decrypt the message\n",
    "\n",
    "“I have never done anything useful. No discovery of mine has made, or is likely to make, directly or indirectly, for good or ill, the least difference to the amenity of the world”.\n",
    "\n",
    "First, we prepare the message for conversion to numbers."
   ]
  },
  {
   "cell_type": "code",
   "execution_count": 77,
   "metadata": {
    "collapsed": false
   },
   "outputs": [
    {
     "name": "stdout",
     "output_type": "stream",
     "text": [
      "Our message:\n",
      "IHAVENEVERDONEANYTHINGUSEFULNODISCOVERYOFMINEHASMADEORISLIKELYTOMAKEDIRECTLYORINDIRECTLYFORGOODORILLTHELEASTDIFFERENCETOTHEAMENITYOFTHEWORLD\n"
     ]
    }
   ],
   "source": [
    "message = \"\"\"I have never done anything useful. No discovery of mine has made, \n",
    "or is likely to make, directly or indirectly, for good or ill, the least \n",
    "difference to the amenity of the world\"\"\"\n",
    "\n",
    "message = \"\".join([l.upper() for l in message if not l in \"\\n .,\"])\n",
    "print(\"Our message:\\n\"+message)"
   ]
  },
  {
   "cell_type": "markdown",
   "metadata": {},
   "source": [
    "Now we convert the message to numbers, and transform those numbers into 8-digit chunks."
   ]
  },
  {
   "cell_type": "code",
   "execution_count": 120,
   "metadata": {
    "collapsed": false
   },
   "outputs": [
    {
     "name": "stdout",
     "output_type": "stream",
     "text": [
      "Our message, converted to numbers:\n",
      " 1918113215241532152814252415112435301819241731291516312224251419291325321528352516231924151811292311141525281929221921152235302523112115141928151330223525281924141928151330223516252817252514252819222230181522151129301419161615281524131530253018151123152419303525163018153325282214\n",
      "Separated into 8-digit chunks:\n",
      "\n",
      "19181132 15241532 15281425 24151124 35301819 24173129 15163122 24251419 29132532 15283525 16231924 15181129 23111415 25281929 22192115 22353025 23112115 14192815 13302235 25281924 14192815 13302235 16252817 25251425 28192222 30181522 15112930 14191616 15281524 13153025 30181511 23152419 30352516 30181533 25282214\n"
     ]
    }
   ],
   "source": [
    "numerical_message = letters_to_numbers(message)\n",
    "print(\"Our message, converted to numbers:\\n %s\" %numerical_message)\n",
    "print\n",
    "\n",
    "plaintext_chunks = chunk8(numerical_message)\n",
    "#print(\"Separated into 8-digit chunks:\\n%s\" %plaintext_chunks)\n",
    "print(\"Separated into 8-digit chunks:\\n\")\n",
    "strarry=\" \".join(plaintext_chunks)\n",
    "print(strarry)"
   ]
  },
  {
   "cell_type": "markdown",
   "metadata": {},
   "source": [
    "We encrypt each chunk by computing $P^k \\bmod {m}$\n",
    " for each plaintext chunk $P$."
   ]
  },
  {
   "cell_type": "code",
   "execution_count": 99,
   "metadata": {
    "collapsed": false
   },
   "outputs": [
    {
     "name": "stdout",
     "output_type": "stream",
     "text": [
      "[99080958, 142898385, 80369161, 11935375, 108220081, 82708130, 158605094, 96274325, 154177847, 121856444, 91409978, 47916550, 155466420, 92033719, 95710042, 86490776, 15468891, 139085799, 68027514, 53153945, 139085799, 68027514, 9216376, 155619290, 83776861, 132272900, 57738842, 119368739, 88984801, 83144549, 136916742, 13608445, 92485089, 89508242, 25375188]\n"
     ]
    }
   ],
   "source": [
    "ciphertext_chunks = encrypt_chunks(plaintext_chunks)\n",
    "print(ciphertext_chunks)"
   ]
  },
  {
   "cell_type": "markdown",
   "metadata": {},
   "source": [
    "This is the message that Anabel can sent Bartolo.\n",
    "\n",
    "To decrypt it, he computes $c^u \\bmod m$\n",
    " for each ciphertext chunk $c$."
   ]
  },
  {
   "cell_type": "code",
   "execution_count": 100,
   "metadata": {
    "collapsed": false
   },
   "outputs": [
    {
     "name": "stdout",
     "output_type": "stream",
     "text": [
      "Deciphered chunks:\n",
      " [19181132, 15241532, 15281425, 24151124, 35301819, 24173129, 15163122, 24251419, 29132532, 15283525, 16231924, 15181129, 23111415, 25281929, 22192115, 22353025, 23112115, 14192815, 13302235, 25281924, 14192815, 13302235, 16252817, 25251425, 28192222, 30181522, 15112930, 14191616, 15281524, 13153025, 30181511, 23152419, 30352516, 30181533, 25282214]\n"
     ]
    }
   ],
   "source": [
    "deciphered_chunks = decrypt_chunks(ciphertext_chunks)\n",
    "print(\"Deciphered chunks:\\n %s\" %deciphered_chunks)"
   ]
  },
  {
   "cell_type": "markdown",
   "metadata": {},
   "source": [
    "Finally, he translates the chunks back into letters."
   ]
  },
  {
   "cell_type": "code",
   "execution_count": 107,
   "metadata": {
    "collapsed": false
   },
   "outputs": [
    {
     "name": "stdout",
     "output_type": "stream",
     "text": [
      "Decoded Message:\n",
      " IHAVENEVERDONEANYTHINGUSEFULNODISCOVERYOFMINEHASMADEORISLIKELYTOMAKEDIRECTLYORINDIRECTLYFORGOODORILLTHELEASTDIFFERENCETOTHEAMENITYOFTHEWORLD\n"
     ]
    }
   ],
   "source": [
    "decoded_message = chunks_to_letters(deciphered_chunks)\n",
    "print(\"Decoded Message:\\n %s\" %decoded_message)"
   ]
  },
  {
   "cell_type": "markdown",
   "metadata": {},
   "source": [
    "Even with large numbers, RSA is pretty fast. But one of the key things that one can do with RSA is securely transmit secret keys for other types of faster-encryption that don’t work in a public-key sense. There is a lot of material in this subject, and it’s very important.\n",
    "\n",
    "The study of sending and receiving secret messages is called Cryptography. There are lots of interesting related topics, some of which we’ll touch on in class.\n",
    "\n",
    "The study of analyzing and breaking cryptosystems is called Cryptanalysis, and is something I find quite fun. But it’s also quite intense.\n",
    "\n",
    "I should mention that in practice, RSA is performed a little bit differently to make it more secure."
   ]
  },
  {
   "cell_type": "code",
   "execution_count": null,
   "metadata": {
    "collapsed": true
   },
   "outputs": [],
   "source": []
  }
 ],
 "metadata": {
  "kernelspec": {
   "display_name": "Python 3",
   "language": "python",
   "name": "python3"
  },
  "language_info": {
   "codemirror_mode": {
    "name": "ipython",
    "version": 3
   },
   "file_extension": ".py",
   "mimetype": "text/x-python",
   "name": "python",
   "nbconvert_exporter": "python",
   "pygments_lexer": "ipython3",
   "version": "3.5.2"
  }
 },
 "nbformat": 4,
 "nbformat_minor": 1
}
