{
 "cells": [
  {
   "cell_type": "markdown",
   "metadata": {},
   "source": [
    " Caesar cipher\n",
    " ---\n",
    " \n",
    " Mapping\n",
    " ```\n",
    "   A  B  C  D  E  F  G  H  I  J  K  L  M\n",
    "   0  1  2  3  4  5  6  7  8  9  10 11 12\n",
    "   N  O  P  Q  R  S  T  U  V  W  X  Y  Z\n",
    "   13 14 15 16 17 18 19 20 21 22 23 24 25\n",
    " ```\n",
    "\n",
    "```\n",
    "encrypt = mod(source+key)\n",
    "```\n",
    "\n",
    "example\n",
    "---\n",
    "key=13 \n",
    " \n",
    "source: TAIWAN\n",
    "```\n",
    "T: 19 -> 19+13=32 -> 32-25=7  -> G\n",
    "A:  0 ->     0+13 = 13        -> N\n",
    "I:  8 ->     8+13 = 21        -> V\n",
    "W: 22 -> 22+13=35 -> 35-25=10 -> K\n",
    "A:  0 ->     0+13 = 13        -> N \n",
    "N: 13 -> 13+13=26 -> 26-15=1  -> B\n",
    "```\n",
    "encrypt: GNVKNB"
   ]
  },
  {
   "cell_type": "code",
   "execution_count": null,
   "metadata": {
    "collapsed": true
   },
   "outputs": [],
   "source": [
    "str1='te259beol57mbr'\n",
    "str2='oxeithnirnteathpitefqj'\n",
    "str3='wnq93ymt311tq'\n",
    "str4='flp35kvzxv237fn'\n",
    "str5='dgq36lrnlyu;yi468/u'\n",
    "str6='3l7dkgsrdok3kqgsgy6ks3'\n",
    "\n",
    "str='&&&.^^^.&.%.^^.%.%.^^.%.%.@.%.^^.#.*.@@.*.&&&&'\n",
    "str='seessftfffnsfessfssfoftsznesiiieewiniieieiiiiiioiwieiiiii4d23shoesvv8r7l'"
   ]
  },
  {
   "cell_type": "code",
   "execution_count": 1,
   "metadata": {},
   "outputs": [
    {
     "name": "stdout",
     "output_type": "stream",
     "text": [
      "GUVF VF ZL FRPERG ZRFFNTR.\n"
     ]
    }
   ],
   "source": [
    "import pyperclip\n",
    "\n",
    "# the string to be encrypted/decrypted\n",
    "message = 'This is my secret message.'\n",
    "\n",
    "# the encryption/decryption key\n",
    "key = 13\n",
    "\n",
    "# tells the program to encrypt or decrypt\n",
    "mode = 'encrypt' # set to 'encrypt' or 'decrypt'\n",
    "\n",
    "# every possible symbol that can be encrypted\n",
    "LETTERS = 'ABCDEFGHIJKLMNOPQRSTUVWXYZ'\n",
    "\n",
    "# stores the encrypted/decrypted form of the message\n",
    "translated = ''\n",
    "\n",
    "# capitalize the string in message\n",
    "message = message.upper()\n",
    "\n",
    "# run the encryption/decryption code on each symbol in the message string\n",
    "for symbol in message:\n",
    "    if symbol in LETTERS:\n",
    "        # get the encrypted (or decrypted) number for this symbol\n",
    "        num = LETTERS.find(symbol) # get the number of the symbol\n",
    "        if mode == 'encrypt':\n",
    "            num = num + key\n",
    "        elif mode == 'decrypt':\n",
    "            num = num - key\n",
    "\n",
    "        # handle the wrap-around if num is larger than the length of\n",
    "        # LETTERS or less than 0\n",
    "        if num >= len(LETTERS):\n",
    "            num = num - len(LETTERS)\n",
    "        elif num < 0:\n",
    "            num = num + len(LETTERS)\n",
    "\n",
    "        # add encrypted/decrypted number's symbol at the end of translated\n",
    "        translated = translated + LETTERS[num]\n",
    "\n",
    "    else:\n",
    "        # just add the symbol without encrypting/decrypting\n",
    "        translated = translated + symbol\n",
    "\n",
    "# print the encrypted/decrypted string to the screen\n",
    "print(translated)\n",
    "\n",
    "# copy the encrypted/decrypted string to the clipboard\n",
    "pyperclip.copy(translated)\n",
    "\n"
   ]
  },
  {
   "cell_type": "markdown",
   "metadata": {},
   "source": [
    "Decrypt\n",
    "---"
   ]
  },
  {
   "cell_type": "code",
   "execution_count": 2,
   "metadata": {},
   "outputs": [
    {
     "name": "stdout",
     "output_type": "stream",
     "text": [
      "THIS IS MY SECRET MESSAGE.\n"
     ]
    }
   ],
   "source": [
    "import pyperclip\n",
    "\n",
    "# the string to be encrypted/decrypted\n",
    "message = 'GUVF VF ZL FRPERG ZRFFNTR.'\n",
    "\n",
    "# the encryption/decryption key\n",
    "key = 13\n",
    "\n",
    "# tells the program to encrypt or decrypt\n",
    "mode = 'decrypt' # set to 'encrypt' or 'decrypt'\n",
    "\n",
    "# every possible symbol that can be encrypted\n",
    "LETTERS = 'ABCDEFGHIJKLMNOPQRSTUVWXYZ'\n",
    "\n",
    "# stores the encrypted/decrypted form of the message\n",
    "translated = ''\n",
    "\n",
    "# capitalize the string in message\n",
    "message = message.upper()\n",
    "\n",
    "# run the encryption/decryption code on each symbol in the message string\n",
    "for symbol in message:\n",
    "    if symbol in LETTERS:\n",
    "        # get the encrypted (or decrypted) number for this symbol\n",
    "        num = LETTERS.find(symbol) # get the number of the symbol\n",
    "        if mode == 'encrypt':\n",
    "            num = num + key\n",
    "        elif mode == 'decrypt':\n",
    "            num = num - key\n",
    "\n",
    "        # handle the wrap-around if num is larger than the length of\n",
    "        # LETTERS or less than 0\n",
    "        if num >= len(LETTERS):\n",
    "            num = num - len(LETTERS)\n",
    "        elif num < 0:\n",
    "            num = num + len(LETTERS)\n",
    "\n",
    "        # add encrypted/decrypted number's symbol at the end of translated\n",
    "        translated = translated + LETTERS[num]\n",
    "\n",
    "    else:\n",
    "        # just add the symbol without encrypting/decrypting\n",
    "        translated = translated + symbol\n",
    "\n",
    "# print the encrypted/decrypted string to the screen\n",
    "print(translated)\n",
    "\n",
    "# copy the encrypted/decrypted string to the clipboard\n",
    "pyperclip.copy(translated)\n",
    "\n"
   ]
  },
  {
   "cell_type": "code",
   "execution_count": 5,
   "metadata": {},
   "outputs": [
    {
     "name": "stdout",
     "output_type": "stream",
     "text": [
      "[NbConvertApp] Converting notebook 6.ipynb to html\n",
      "[NbConvertApp] Writing 259757 bytes to 6.html\n"
     ]
    }
   ],
   "source": [
    "!jupyter nbconvert 6.ipynb"
   ]
  },
  {
   "cell_type": "code",
   "execution_count": null,
   "metadata": {
    "collapsed": true
   },
   "outputs": [],
   "source": []
  }
 ],
 "metadata": {
  "kernelspec": {
   "display_name": "Python 3",
   "language": "python",
   "name": "python3"
  },
  "language_info": {
   "codemirror_mode": {
    "name": "ipython",
    "version": 3
   },
   "file_extension": ".py",
   "mimetype": "text/x-python",
   "name": "python",
   "nbconvert_exporter": "python",
   "pygments_lexer": "ipython3",
   "version": "3.5.2"
  }
 },
 "nbformat": 4,
 "nbformat_minor": 1
}
