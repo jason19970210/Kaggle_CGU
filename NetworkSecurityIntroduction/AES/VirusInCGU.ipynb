{
 "cells": [
  {
   "cell_type": "markdown",
   "metadata": {},
   "source": [
    "# Link Virus, Trojan or Malware! \n",
    "\n",
    "While plug USB device, all the files can't be opened by any application, the worse, files and folders were disappeared.\n",
    "How can I do? Don't worry, this is a joke of certain anonymouse hacker, this could be recoveryed  very easily.\n",
    "\n",
    "First we have to understand what happens here:\n",
    "\n",
    "1. the system of equipment has been infected and so was your USB device;\n",
    "- Find another clean PC/Laptop,\n",
    "  - this kind of virus only affects Windows-clone but not for Linux-clone or Mac-clone;\n",
    "  - or directly use the affected one."
   ]
  },
  {
   "cell_type": "markdown",
   "metadata": {},
   "source": [
    "Symptoms of affected devices\n",
    "---\n",
    "\n",
    "1. devices contains file-name.lnk/folder,lnk \n",
    "- files/folders are still on devices but can't be seen in \"hidden\" mode or be moves to a hidden folder, \"_\"."
   ]
  },
  {
   "cell_type": "markdown",
   "metadata": {},
   "source": [
    "Solution\n",
    "---\n",
    "For System PC\n",
    "\n",
    "1. disconnect device,\n",
    "- ”Ctrl+Alt+Del” -> ”啟動工作管理員”->”處理程序” -> ”顯示來自所有使用者的處理程序”, and close all processes, ”WScript.exe”;\n",
    "- execute \"cmd\" to open a text console:\n",
    "<pre>\n",
    "cd $User\\AppData\\Local\\Temp\n",
    "dir /ah system*\t// check whether hidden file, system.wSf exists, 查看隱藏檔是否有system.wSf檔, 若有表示主機中毒\n",
    "attrib –s –h system*  // change the main virus file mode to nohidden, 將system.wSf,顯示出來\n",
    "del system.wSf     // delete the virus file, 刪除這可惡的病毒檔\n",
    "cd \"..\\..\\Roaming\\Microsoft\\Windows\\Start Menu\\Programs\\Startup\"  // change to another directory, 切到另一個目錄\n",
    "dir /ah system*\t// check whether hidden file, system.wSf exists,查看隱藏檔是否有system.wSf檔,\n",
    "attrib –s –h system*  \n",
    "del system.wSf     \n",
    "</pre>\n",
    "- input ”regedit” -> edit -> \n",
    "```\n",
    "   HKEY_CURRENT_USER -> Software -> Microsoft -> Windows -> CurrentVersion -> Run  \n",
    "```\n",
    "delete if any sysem.wSf.\n",
    "\n",
    "For USB devices\n",
    "\n",
    "1. plug USB device\n",
    "- execute \"cmd\" to open a text console and enter into its disk alise, for instance \"F:\"\n",
    "- similar to above\n",
    "<pre>\n",
    "del *.lnk\t\t// delete all the files with extension, lnk,\n",
    "attrib –s –h system*  // change system.wSf to nohidden\n",
    "del system.wSf     // delete it\n",
    "attrib –s –h *.* /D /S\t// recovery the files/folders to nohidden state \n",
    "</pre>"
   ]
  },
  {
   "cell_type": "markdown",
   "metadata": {},
   "source": [
    "ShortCut\n",
    "---\n",
    "1. you can try the \"MicroTrend's online virus scan\"\n",
    "- install firefox extension, Link Virus Check - Security Plus."
   ]
  },
  {
   "cell_type": "code",
   "execution_count": null,
   "metadata": {},
   "outputs": [],
   "source": []
  }
 ],
 "metadata": {
  "kernelspec": {
   "display_name": "Python 3",
   "language": "python",
   "name": "python3"
  },
  "language_info": {
   "codemirror_mode": {
    "name": "ipython",
    "version": 3
   },
   "file_extension": ".py",
   "mimetype": "text/x-python",
   "name": "python",
   "nbconvert_exporter": "python",
   "pygments_lexer": "ipython3",
   "version": "3.6.1"
  }
 },
 "nbformat": 4,
 "nbformat_minor": 2
}
