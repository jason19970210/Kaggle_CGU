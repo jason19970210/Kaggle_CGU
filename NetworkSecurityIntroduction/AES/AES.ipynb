{
 "cells": [
  {
   "cell_type": "markdown",
   "metadata": {},
   "source": [
    "Say \"Hi\" To Ransomware \n",
    "===\n",
    "Outline\n",
    "---\n",
    "1. [What Files Does Fsociety Encrypt?](#1.What-Files-Does-Fsociety-Encrypt?)\n",
    "- [Advanced Encryption Standard, AES](#Advanced-Encryption-Standard-,-AES)\n",
    "- [Remove RansomWare](#Appendex)"
   ]
  },
  {
   "cell_type": "markdown",
   "metadata": {},
   "source": [
    "Kinds of  Malwares\n",
    "---\n",
    "- Morris Worm-like virus: harm to system, rip the adminstration, secret files;\n",
    "- destruction program,  break whole the system;\n",
    "- Ronsomware, just encrpts whole the resources,  "
   ]
  },
  {
   "cell_type": "markdown",
   "metadata": {},
   "source": [
    "Recognize it more\n",
    "---\n",
    "1. What files will it encrypt?\n",
    "- How does it encrypt files (what algorithm does it use)?\n",
    "- Is there a way to decrypt the files?\n",
    "- What are the payment instructions like? And should we?"
   ]
  },
  {
   "cell_type": "markdown",
   "metadata": {},
   "source": [
    "\n",
    "**Fsociety** has also implemented several new dangerous features in this release, such as *infecting network drives, anti-VM techniques*, *downloading* and *executing new payloads off of the internet* - something which we provide more details here."
   ]
  },
  {
   "cell_type": "markdown",
   "metadata": {},
   "source": [
    " One of the Python-based ransomware variants,  “Fsociety Locker”, owns the featutures, easy-coding, fast developed. Maybe start of a new malware trend in the next future."
   ]
  },
  {
   "cell_type": "markdown",
   "metadata": {},
   "source": [
    "1.What Files Does Fsociety Encrypt?\n",
    "---\n",
    "- The first thing ransomware has to do is to sneak into your system,\n",
    "- find files to encrypt. \n",
    "  - Fsociety calls functions with names <br>\n",
    "    <code style=\"color:brown\">walk_C_drive (),walk_D_drive (),..., walk_Z_drive ()</code><br>\n",
    "    to iterate through each drive in order to find files to encrypt. Fsociety also has the dangerous potential to infect network drives too.\n",
    "  - **walk_%_drive ()** uses the Python built-in module “os” to get the full path of non-directory files in the targeted drive, and appends them to a list.  Note that the targeted files are filtered with certain extensions (“ext”), which means this ransomware only chooses certain types of files to encrypt.\n",
    "  - Any files with an extension listed below will be encrypted:<br>\n",
    "  <code style=\"color:brown\">doc, php, html, avi, pdf, ...</code><br>\n",
    "  - After locating targeted files, Fsociety then encrypts them using an AES algorithm with a hard-coded key and  the file names are appended with \".fs0ciety\"."
   ]
  },
  {
   "cell_type": "markdown",
   "metadata": {},
   "source": [
    "Is There a Way to Recover the Encrypted Files?\n",
    "---\n",
    "The answer is **<font size=+1>YES</font>**. All we have to do is to find the hard-coded key and use an AES decryption method to decrypt the files using this key."
   ]
  },
  {
   "cell_type": "markdown",
   "metadata": {},
   "source": [
    "What are the payment instructions like? \n",
    "---\n",
    "Normally, ransomware will show victims payment instruction on how to purchase a “decryptor” to decrypt and recover thire encrypted files. Fsociety has a sub-function to compose such an instruction, and uses a browser to open it. However, this sub-function is not called in its main function in this version, so victims are not able to see the instructions. In addition, the instructions themselves seem to be unfinished."
   ]
  },
  {
   "cell_type": "markdown",
   "metadata": {},
   "source": [
    "Unused Malicious Features\n",
    "---\n",
    "Besides infecting network share resources, there are some additional features which have not introduced, but are not being used. For example, \n",
    "- one feature of Fsociety allows it to download an executable file from a link and run it locally.  The executable it downloads, for example, might be a tor client to help Fsociety hide its network traffic, such as its payment server.\n",
    "- Another feature is an anti-VM evasion technique. If the malware detects that it is running in a VM environment, it will exit immediately."
   ]
  },
  {
   "cell_type": "markdown",
   "metadata": {},
   "source": [
    "Conclusion\n",
    "---\n",
    "Currently, it appears that Fsociety is still under early development, but as we described, it already has many dangerous features implemented. It is entirely possible that in the near future this new ransomware variant will be launched into the wild just as dangerous as any other mature ransomware, but with the time required for upgrades and modifications significantly shortened due to the relatively easiness of coding in Python. Moreover, since it’s written in Python and compiled with PyInstaller, authors can easily change it to support other platforms, such as Linux and MacOS.\n",
    "\n",
    "** While Ransomware infected, what should I do?**\n",
    "Pay the bitcoin is not the best solution; it is better:\n",
    "1. disconnect the network, backup the un-infected files if any;\n",
    "- restore the files if any;\n",
    "- re-install the OS;\n",
    "- Have the custom to backup the data, especially consider the cloud storage solutions, such as google, github etc; they should have the better infomatics protect processing than us. "
   ]
  },
  {
   "cell_type": "code",
   "execution_count": null,
   "metadata": {
    "collapsed": true
   },
   "outputs": [],
   "source": []
  },
  {
   "cell_type": "markdown",
   "metadata": {},
   "source": [
    "Advanced Encryption Standard , AES\n",
    "---\n",
    "\n",
    "AES encryption uses a single key as a part of the encryption process. The key can be 128 bits (16 bytes, 1 byte= 8bits), 192 bits (24 bytes), or 256 bits (32 bytes) in length. The term 128-bit encryption refers to the use of a 128-bit encryption key. With AES both the encryption and the decryption are performed using the same key. This is called a symmetric encryption algorithm.\n"
   ]
  },
  {
   "cell_type": "markdown",
   "metadata": {},
   "source": [
    "Kinds of Block cipher mode \n",
    "---\n",
    "- ECB (Electronic codebook，ECB)\n",
    "<img src=\"imgs/ECB.png\" width=90% />\n"
   ]
  },
  {
   "cell_type": "markdown",
   "metadata": {},
   "source": [
    "- CBC (Cipher-block chaining)\n",
    "<img src=\"imgs/CBC.png\" width=90% />"
   ]
  },
  {
   "cell_type": "markdown",
   "metadata": {},
   "source": [
    "- CFB (Cipher feedback)\n",
    "<img src=\"imgs/CFB.png\" width=90% />"
   ]
  },
  {
   "cell_type": "markdown",
   "metadata": {},
   "source": [
    "- OFB (Output feedback)\n",
    "<img src=\"imgs/OFB.png\" width=90% />"
   ]
  },
  {
   "cell_type": "code",
   "execution_count": 1,
   "metadata": {
    "collapsed": true
   },
   "outputs": [],
   "source": [
    "from Crypto.Cipher import AES\n",
    "# Encryption\n",
    "encryption_suite = AES.new('This is a key123', AES.MODE_CBC, 'This is an IV456')\n",
    "cipher_text = encryption_suite.encrypt(\"A really secret message. Not for prying eyes.   \")\n",
    "\n",
    "# Decryption\n",
    "decryption_suite = AES.new('This is a key123', AES.MODE_CBC, 'This is an IV456')\n",
    "plain_text = decryption_suite.decrypt(cipher_text)"
   ]
  },
  {
   "cell_type": "code",
   "execution_count": 2,
   "metadata": {},
   "outputs": [
    {
     "name": "stdout",
     "output_type": "stream",
     "text": [
      "b'M,\\xadT\\xce\\xd6\\x9a\\xea\\x1b\\xb6%&\\xa4AQj\"\\xf6\\xf4\\x05\\x95\\x91\\xe9\\x0e)\\xde\\x8et\\xc0%\\xce\\x00\\xd2\\xc7\\xbe\\xdb\\xb8\\xed\\x80\\x1dF(axJ\\xafn\\xb2'\n"
     ]
    }
   ],
   "source": [
    "print(cipher_text)"
   ]
  },
  {
   "cell_type": "code",
   "execution_count": 8,
   "metadata": {},
   "outputs": [
    {
     "name": "stdout",
     "output_type": "stream",
     "text": [
      "b'A really secret message. Not for prying eyes.   '\n"
     ]
    }
   ],
   "source": [
    "print(plain_text)"
   ]
  },
  {
   "cell_type": "code",
   "execution_count": 4,
   "metadata": {
    "collapsed": true
   },
   "outputs": [],
   "source": [
    "def padding(s,modu=16):\n",
    "    \" padding s with the mudu factor\"\n",
    "    pad=\".\".encode(\"utf8\")\n",
    "    additional=modu-len(s)%modu\n",
    "    return s+additional*pad"
   ]
  },
  {
   "cell_type": "code",
   "execution_count": 5,
   "metadata": {
    "collapsed": true
   },
   "outputs": [],
   "source": [
    "key='Hi Ransonware!'.encode(\"utf-8\")\n",
    "keyAES=padding(key)\n",
    "IV='secret Key'.encode(\"utf-8\")\n",
    "IVAES=padding(IV)\n",
    "encryption_suite = AES.new(keyAES, AES.MODE_CBC, IVAES)\n",
    "\n",
    "plaintext='お元気ですか, How are you, Comment allez-vous, Wie geht es dir'.encode(\"utf-8\")\n",
    "cipher_text = encryption_suite.encrypt(padding(plaintext))\n",
    "\n",
    "# Decryption\n",
    "decryption_suite = AES.new(keyAES, AES.MODE_CBC, IVAES)\n",
    "plain_text = decryption_suite.decrypt(cipher_text)"
   ]
  },
  {
   "cell_type": "code",
   "execution_count": 6,
   "metadata": {},
   "outputs": [
    {
     "name": "stdout",
     "output_type": "stream",
     "text": [
      "b'\\xe7\\xee\\xe0b\\x12\\x9a\\xe5\\xcb\\xd2U3\\x89\\x9f\\x0f\\x1f\\x82\\xaa\\x11\\x90\\xed\\x0e\\xaa\\xb0|\\x00P\\x1c<Di\\xee\\x1e\\x95&\\xad\\n\\x894\\xf1%\\xf9@B\\xa1\\x1d?\"^\\x97x\\xae\\x8aE~D\\xfd\\x9b\\xc6\"\\x80\\xed$\\x87p\\xdaf\\xf3r\\xf9\\xc0\\x931\\xddF\\x8b]d\\x16q?'\n"
     ]
    }
   ],
   "source": [
    "print(cipher_text)"
   ]
  },
  {
   "cell_type": "code",
   "execution_count": 43,
   "metadata": {},
   "outputs": [
    {
     "data": {
      "text/plain": [
       "'お元気ですか, How are you, Comment allez-vous, Wie geht es dir............'"
      ]
     },
     "execution_count": 43,
     "metadata": {},
     "output_type": "execute_result"
    }
   ],
   "source": [
    "plain_text.decode(\"utf-8\")"
   ]
  },
  {
   "cell_type": "code",
   "execution_count": null,
   "metadata": {
    "collapsed": true
   },
   "outputs": [],
   "source": []
  },
  {
   "cell_type": "code",
   "execution_count": 44,
   "metadata": {
    "collapsed": true
   },
   "outputs": [],
   "source": [
    "def str_to_bytes(data):\n",
    "    u_type = type(b''.decode('utf8'))\n",
    "    if isinstance(data, u_type):\n",
    "       return data.encode('utf8')\n",
    "    return data"
   ]
  },
  {
   "cell_type": "markdown",
   "metadata": {
    "collapsed": true
   },
   "source": [
    "Appendex\n",
    "---\n",
    "Since <font color=\"red\">**Ransomware**</font> is a nasty ransomware threat that can intrude any OS, could it be possible to remove it from infected box? Exports tell us the best way being to re-build the the intruded system but not pay the \"ransome\". \n",
    "\n",
    "The first step of all is \"get a Virus/Malware Scanner\".  And\n",
    "\n",
    "Solution - Remove Python Ransomware Manually\n",
    "---\n",
    "1. <font color=\"brown\">Find and Remove Hidden Malicious Files from PC</font>\n",
    "   - Show Hidden Files and Folder\n",
    "     - FOR WINDOWS 7/ XP & VISTA PC\n",
    "   ```\n",
    "   a) Right-click on Windows Logo and select Open Windows Explorer.\n",
    "   b) Click Organise and select Folder then Search Options.\n",
    "   c) Now click on View tab.\n",
    "   d) Select Show hidden files and folders then uncheck the Hide protected system operating files option.\n",
    "   e) Click Yes in confirmation window and then click OK.\n",
    "   ```\n",
    "     - FOR WINDOWS 10 PC\n",
    "   ```\n",
    "   a) Press Windows + E keys on your keyboard. \n",
    "   b) Click on the View tab.\n",
    "   c) Check File name extensions and Hidden items.\n",
    "   ```\n",
    "   - Delete Python Ransomware Related Files from Hidden Folders\n",
    "   ```\n",
    "   %Temp%\\[Python Ransomware] \n",
    "   %AppData%\\[Python Ransomware] \n",
    "   %LocalAppData%\\[Python Ransomware]    \n",
    "   %LocalAppData%\\[Python Ransomware].exe \n",
    "   %CommonAppData%\\[Python Ransomware]    \n",
    "   %AllUsersProfile%random.exe\n",
    "   ```\n",
    "   where ```[Python Ransomware]``` means the the name of RansomWare.\n",
    "2. <font color=\"brown\">Remove Python Ransomware Related Registry Files</font>\n",
    "  - Press Wind+R keys.\n",
    "  - Type regedit.exe in the dialog box and press OK.\n",
    "  - Find and delete bellow listed registry files from your PC.\n",
    "    <img src=\"imgs/HKEY.png\" width=60% />\n",
    "    ```\n",
    "    HKEY_LOCAL_MACHINESOFTWAREsupWPM \n",
    "    HKEY_LOCAL_MACHINESYSTEMCurrentControlSetServicesWpm\n",
    "    HKEY_CURRENT_USERSoftwareMicrosoftInternet ExplorerMain “Default_Page_URL”\n",
    "    HKEY_LOCAL_Machine\\Software\\Classes\\[Python Ransomware]\n",
    "    HKEY_CURRENT_USER\\Software\\Microsoft\\Windows\\Current Version\\Uninstall\\[Python Ransomware]\n",
    "    ```\n",
    "3. <font color=\"brown\">Uinstall Python Ransomware From Control Panel</font>\n",
    "  - FROM WINDOWS 10 PC\n",
    "    - Click Start Menu.\n",
    "    - Go to Settings menu to see all contents.\n",
    "    - Here, choose the System menu.\n",
    "    - Under System menu, Click on Apps and features option.\n",
    "    - Choose Python Ransomware from the list.\n",
    "    - Click on Uninstall button to get rid of Python Ransomware in your PC.\n",
    "  - FROM WINDOWS 8 PC\n",
    "    - Click on bottom left corner of your computer screen. \n",
    "    - Now click on Control Panel option.\n",
    "    - Select Uninstall a Program from control panel.\n",
    "    - Finally find Python Ransomware from the list and hit Uninstall button.\n",
    "  - FROM WINDOWS 7, WINDOWS VISTA OR WINDOWS XP\n",
    "    - Go to Start menu, then Control Panel.\n",
    "    - Double-click on the Add or Remove Programs option.\n",
    "      <img src=\"imgs/remove1.png\" width=60% />\n",
    "    -   From the list of all ‘Currently Installed Programs’ select Python Ransomware and then click Change/Remove button.\n",
    "      <img src=\"imgs/remove2.png\" width=60% />\n",
    "4. <font color=\"brown\">Remove Python Ransomware Related extensions, add-ons, plug-in, toolbar from Browsers</font>\n",
    "   - <font color=\"blue\">Remove Python Ransomware From Microsoft Edge</font>: As, Edge browser doesn’t have extension option hence we have to reset the homepage and search engine to remove Python Ransomware from your browser.\n",
    "     - RESET HOMEPAGE\n",
    "     ```\n",
    "     a) Click on More (...) icon and go to Settings\n",
    "     b) Select A specific page or pages from under the Open option.\n",
    "     c) Choose Custom and enter a desired URL of page, you want to set as homepage.\n",
    "     ```\n",
    "     - RESET SEARCH ENGINE\n",
    "     ```\n",
    "     a) Select More (...) then click on Settings. \n",
    "     b) Click the View advanced settings option.\n",
    "     c) Click <Add new> under “Search in the address bar with”. \n",
    "     d) Enter the search engine you like and click Add as default.\n",
    "     ```\n",
    "     - RESET BROWSER SETTINGS\n",
    "     ```\n",
    "     a) Choose More (...) icon on the address bar.\n",
    "     b) Go to Settings option.\n",
    "     c) Click “Choose what to clear”\n",
    "     d) Check the first three options and then click Clear.\n",
    "     ```\n",
    "   - <font color=\"blue\">Remove Python Ransomware From Chrome Browser</font>\n",
    "     - REMOVE EXTENSIONS\n",
    "     ```\n",
    "     a) Click on Chrome menu on your browser toolbar.\n",
    "     b) Click Tools option.\n",
    "     c) Go to Extensions.\n",
    "     d) Click trash can icon to delete Python Ransomware extension along with all unwanted extensions.\n",
    "     e) Click Remove if the confirmation dialog appears.\n",
    "     ```\n",
    "     - RESET BROWSER SETTINGS\n",
    "     ```\n",
    "     a) Open Chrome, click “Customize and control Google Chrome” option then click on Settings.\n",
    "     b) From the bottom of Settings page, click on Show advanced settings option. \n",
    "     c) Click on Reset browser settings button.\n",
    "     d) Click Reset button in the confirmation window and restart your browser.\n",
    "     ```\n",
    "  -  <font color=\"blue\">Remove Python Ransomware From Mozilla Firefox</font>\n",
    "     - REMOVE EXTENSIONS\n",
    "     ```\n",
    "     a) Click menu option and select Add-ons.\n",
    "     b) In the Add-ons Manager tab, click on the Extensions tab. \n",
    "     c) Find all malicious extensions including Python Ransomware. \n",
    "     d) Click Disable or Remove button under the desired extension. \n",
    "     e) Finally restart your browser.\n",
    "     ```\n",
    "     - RESET BROWSER SETTINGS\n",
    "     ```\n",
    "     a) Open Firefox, click on Firefox button, then Click on Help button.\n",
    "     b) Now select Troubleshooting Information option.\n",
    "     c) Here you will need to click on Reset Firefox.\n",
    "     e) If the confirmation window appear the click Reset Firefox button to confirm and restart browser.\n",
    "     ```\n",
    "  -  <font color=\"blue\">Remove Python Ransomware From Internet Explorer</font>\n",
    "     - REMOVE EXTENSIONS\n",
    "     ```\n",
    "     a) Open the IE, click on Tools option, then go to Manage add-ons.\n",
    "     b) Select Toolbars and Extensions option from left side of the window.\n",
    "     c) Now select Python Ransomware extension.\n",
    "     d) You’ll see the Remove option, the add-on can be deleted. Click Remove and then click Close.\n",
    "     e) If there is no remove button then simply click Disable button.\n",
    "\n",
    "     ```\n",
    "     - RESET BROWSER SETTINGS\n",
    "     ```\n",
    "     a) Open browser, then click on Tools.\n",
    "     b) Click on Internet Options.\n",
    "     c) Select Advanced tab, then click Reset button.\n",
    "     d) Once the reset process completed then restart your web browser and start browsing.\n",
    "     ```"
   ]
  },
  {
   "cell_type": "markdown",
   "metadata": {},
   "source": [
    "If you think manual removal (above) too risky or di cult for you then using **SpyHunter Malware Scanner Tool** will be simply the best option for you (not suggested).\n",
    "\n",
    "Mac machine. Well, infecting OS X is certainly very di cult but removing an infection from Mac is even more tricky and complicated. However you could try MacBooster Lite if you system is infected with Python Ransomware (not suggested).\n",
    "\n",
    "Reminder\n",
    "---\n",
    "Things To Do After Removing Python Ransomware\n",
    "To avoid Python Ransomware coming back on your Machine and to prevent similar threats in future, you must follow these basic tips while using your computer:\n",
    "- Always choose the Custom Installation method when you are installing any software.\n",
    "- Uncheck all hidden options and bundled program that you are unaware of or don’t know.\n",
    "- Scan all email attachments before you open them on your system. – Never download update from unknown and unsafe websites.\n",
    "- Do not visit adult / porn website.\n",
    "- Do not click on any misleading advertisements.\n",
    "- Always scan USB drives before transferring or copying files.\n",
    "- Scan your machine at regular intervals for hidden threats and malware."
   ]
  },
  {
   "cell_type": "markdown",
   "metadata": {},
   "source": [
    "Have Enjoy the lecture!"
   ]
  },
  {
   "cell_type": "code",
   "execution_count": null,
   "metadata": {
    "collapsed": true
   },
   "outputs": [],
   "source": []
  }
 ],
 "metadata": {
  "kernelspec": {
   "display_name": "Python 3",
   "language": "python",
   "name": "python3"
  },
  "language_info": {
   "codemirror_mode": {
    "name": "ipython",
    "version": 3
   },
   "file_extension": ".py",
   "mimetype": "text/x-python",
   "name": "python",
   "nbconvert_exporter": "python",
   "pygments_lexer": "ipython3",
   "version": "3.5.3"
  },
  "widgets": {
   "state": {},
   "version": "2.0.10"
  }
 },
 "nbformat": 4,
 "nbformat_minor": 2
}
