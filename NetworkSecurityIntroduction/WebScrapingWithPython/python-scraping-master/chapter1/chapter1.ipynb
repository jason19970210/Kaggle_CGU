{
 "cells": [
  {
   "cell_type": "markdown",
   "metadata": {},
   "source": [
    "Chapter 1. Your First Web Scraper\n",
    "---"
   ]
  },
  {
   "cell_type": "code",
   "execution_count": 2,
   "metadata": {
    "collapsed": false
   },
   "outputs": [
    {
     "name": "stdout",
     "output_type": "stream",
     "text": [
      "b'<!DOCTYPE HTML>\\n<html>\\n\\n<head>\\n    <meta charset=\"utf-8\">\\n\\n    <title>canvas-1.html (editing)</title>\\n    <link rel=\"shortcut icon\" type=\"image/x-icon\" href=\"/static/base/images/favicon.ico?v=30780f272ab4aac64aa073a841546240\">\\n    <meta http-equiv=\"X-UA-Compatible\" content=\"IE=edge\" />\\n    <link rel=\"stylesheet\" href=\"/static/components/jquery-ui/themes/smoothness/jquery-ui.min.css?v=9b2c8d3489227115310662a343fce11c\" type=\"text/css\" />\\n    <link rel=\"stylesheet\" href=\"/static/components/jquery-typeahead/dist/jquery.typeahead.min.css?v=7afb461de36accb1aa133a1710f5bc56\" type=\"text/css\" />\\n    <meta name=\"viewport\" content=\"width=device-width, initial-scale=1.0\">\\n    \\n    \\n<link rel=\"stylesheet\" href=\"/static/components/codemirror/lib/codemirror.css?v=2336fb49f85e9fa887ada9af35223dce\">\\n<link rel=\"stylesheet\" href=\"/static/components/codemirror/addon/dialog/dialog.css?v=c89dce10b44d2882a024e7befc2b63f5\">\\n\\n    <link rel=\"stylesheet\" href=\"/static/style/style.min.css?v=f6c09475baf6beabd41f8fe518601204\" type=\"text/css\"/>\\n    \\n\\n    <link rel=\"stylesheet\" href=\"/custom/custom.css\" type=\"text/css\" />\\n    <script src=\"/static/components/es6-promise/promise.min.js?v=f004a16cb856e0ff11781d01ec5ca8fe\" type=\"text/javascript\" charset=\"utf-8\"></script>\\n    <script src=\"/static/components/requirejs/require.js?v=6da8be361b9ee26c5e721e76c6d4afce\" type=\"text/javascript\" charset=\"utf-8\"></script>\\n    <script>\\n      require.config({\\n          \\n          urlArgs: \"v=20161019063341\",\\n          \\n          baseUrl: \\'/static/\\',\\n          paths: {\\n            \\'auth/js/main\\': \\'auth/js/main.min\\',\\n            custom : \\'/custom\\',\\n            nbextensions : \\'/nbextensions\\',\\n            kernelspecs : \\'/kernelspecs\\',\\n            underscore : \\'components/underscore/underscore-min\\',\\n            backbone : \\'components/backbone/backbone-min\\',\\n            jquery: \\'components/jquery/jquery.min\\',\\n            bootstrap: \\'components/bootstrap/js/bootstrap.min\\',\\n            bootstraptour: \\'components/bootstrap-tour/build/js/bootstrap-tour.min\\',\\n            \\'jquery-ui\\': \\'components/jquery-ui/ui/minified/jquery-ui.min\\',\\n            moment: \\'components/moment/moment\\',\\n            codemirror: \\'components/codemirror\\',\\n            termjs: \\'components/term.js/src/term\\',\\n            typeahead: \\'components/jquery-typeahead/dist/jquery.typeahead\\'\\n          },\\n\\t  map: { // for backward compatibility\\n\\t    \"*\": {\\n\\t\\t\"jqueryui\": \"jquery-ui\",\\n\\t    }\\n\\t  },\\n          shim: {\\n            typeahead: {\\n              deps: [\"jquery\"],\\n              exports: \"typeahead\"\\n            },\\n            underscore: {\\n              exports: \\'_\\'\\n            },\\n            backbone: {\\n              deps: [\"underscore\", \"jquery\"],\\n              exports: \"Backbone\"\\n            },\\n            bootstrap: {\\n              deps: [\"jquery\"],\\n              exports: \"bootstrap\"\\n            },\\n            bootstraptour: {\\n              deps: [\"bootstrap\"],\\n              exports: \"Tour\"\\n            },\\n            \"jquery-ui\": {\\n              deps: [\"jquery\"],\\n              exports: \"$\"\\n            }\\n          },\\n          waitSeconds: 30,\\n      });\\n\\n      require.config({\\n          map: {\\n              \\'*\\':{\\n                \\'contents\\': \\'services/contents\\',\\n              }\\n          }\\n      });\\n\\n      define(\"bootstrap\", function () {\\n          return window.$;\\n      });\\n\\n      define(\"jquery\", function () {\\n          return window.$;\\n      });\\n\\n      define(\"jqueryui\", function () {\\n          return window.$;\\n      });\\n\\n      define(\"jquery-ui\", function () {\\n          return window.$;\\n      });\\n    </script>\\n\\n    \\n    \\n\\n</head>\\n\\n<body class=\"edit_app \" \\ndata-base-url=\"/\"\\ndata-file-path=\"Documents/2016/Android/canvas/codes/canvas-1.html\"\\n\\n>\\n\\n<noscript>\\n    <div id=\\'noscript\\'>\\n      Jupyter Notebook requires JavaScript.<br>\\n      Please enable it to proceed.\\n  </div>\\n</noscript>\\n\\n<div id=\"header\">\\n  <div id=\"header-container\" class=\"container\">\\n  <div id=\"ipython_notebook\" class=\"nav navbar-brand pull-left\"><a href=\"/tree\" title=\\'dashboard\\'><img src=\\'/static/base/images/logo.png?v=7c4597ba713d804995e8f8dad448a397\\' alt=\\'Jupyter Notebook\\'/></a></div>\\n\\n  \\n  \\n  \\n\\n    <span id=\"login_widget\">\\n      \\n    </span>\\n\\n  \\n\\n  \\n\\n  \\n\\n<span id=\"save_widget\" class=\"pull-left save_widget\">\\n    <span class=\"filename\"></span>\\n    <span class=\"last_modified\"></span>\\n</span>\\n\\n\\n  </div>\\n  <div class=\"header-bar\"></div>\\n\\n  \\n\\n<div id=\"menubar-container\" class=\"container\">\\n  <div id=\"menubar\">\\n    <div id=\"menus\" class=\"navbar navbar-default\" role=\"navigation\">\\n      <div class=\"container-fluid\">\\n          <p  class=\"navbar-text indicator_area\">\\n          <span id=\"current-mode\" >current mode</span>\\n          </p>\\n        <button type=\"button\" class=\"btn btn-default navbar-toggle\" data-toggle=\"collapse\" data-target=\".navbar-collapse\">\\n          <i class=\"fa fa-bars\"></i>\\n          <span class=\"navbar-text\">Menu</span>\\n        </button>\\n        <ul class=\"nav navbar-nav navbar-right\">\\n          <li id=\"notification_area\"></li>\\n        </ul>\\n        <div class=\"navbar-collapse collapse\">\\n          <ul class=\"nav navbar-nav\">\\n            <li class=\"dropdown\"><a href=\"#\" class=\"dropdown-toggle\" data-toggle=\"dropdown\">File</a>\\n              <ul id=\"file-menu\" class=\"dropdown-menu\">\\n                <li id=\"new-file\"><a href=\"#\">New</a></li>\\n                <li id=\"save-file\"><a href=\"#\">Save</a></li>\\n                <li id=\"rename-file\"><a href=\"#\">Rename</a></li>\\n                <li id=\"download-file\"><a href=\"#\">Download</a></li>\\n              </ul>\\n            </li>\\n            <li class=\"dropdown\"><a href=\"#\" class=\"dropdown-toggle\" data-toggle=\"dropdown\">Edit</a>\\n              <ul id=\"edit-menu\" class=\"dropdown-menu\">\\n                <li id=\"menu-find\"><a href=\"#\">Find</a></li>\\n                <li id=\"menu-replace\"><a href=\"#\">Find &amp; Replace</a></li>\\n                <li class=\"divider\"></li>\\n                <li class=\"dropdown-header\">Key Map</li>\\n                <li id=\"menu-keymap-default\"><a href=\"#\">Default<i class=\"fa\"></i></a></li>\\n                <li id=\"menu-keymap-sublime\"><a href=\"#\">Sublime Text<i class=\"fa\"></i></a></li>\\n                <li id=\"menu-keymap-vim\"><a href=\"#\">Vim<i class=\"fa\"></i></a></li>\\n                <li id=\"menu-keymap-emacs\"><a href=\"#\">emacs<i class=\"fa\"></i></a></li>\\n              </ul>\\n            </li>\\n            <li class=\"dropdown\"><a href=\"#\" class=\"dropdown-toggle\" data-toggle=\"dropdown\">View</a>\\n              <ul id=\"view-menu\" class=\"dropdown-menu\">\\n              <li id=\"toggle_header\" title=\"Show/Hide the logo and notebook title (above menu bar)\">\\n              <a href=\"#\">Toggle Header</a></li>\\n              <li id=\"menu-line-numbers\"><a href=\"#\">Toggle Line Numbers</a></li>\\n              </ul>\\n            </li>\\n            <li class=\"dropdown\"><a href=\"#\" class=\"dropdown-toggle\" data-toggle=\"dropdown\">Language</a>\\n              <ul id=\"mode-menu\" class=\"dropdown-menu\">\\n              </ul>\\n            </li>\\n          </ul>\\n        </div>\\n      </div>\\n    </div>\\n  </div>\\n</div>\\n\\n<div class=\"lower-header-bar\"></div>\\n\\n\\n</div>\\n\\n<div id=\"site\">\\n\\n\\n<div id=\"texteditor-backdrop\">\\n<div id=\"texteditor-container\" class=\"container\"></div>\\n</div>\\n\\n\\n</div>\\n\\n\\n\\n\\n\\n\\n    \\n\\n\\n\\n    <script src=\"/static/edit/js/main.min.js?v=ced1eac15a17d99368fa8450c494c68c\" type=\"text/javascript\" charset=\"utf-8\"></script>\\n\\n\\n\\n</body>\\n\\n</html>'\n"
     ]
    }
   ],
   "source": [
    "from urllib.request import urlopen\n",
    "#Retrieve HTML string from the URL\n",
    "html = urlopen(\"http://localhost:8888/edit/Documents/2016/Android/canvas/codes/canvas-1.html\")\n",
    "print(html.read())"
   ]
  },
  {
   "cell_type": "markdown",
   "metadata": {},
   "source": [
    "BeautifulSoup\n",
    "---\n",
    "Like its Wonderland namesake, BeautifulSoup tries to make sense of the nonsensical; it\n",
    "helps format and organize the messy web by fixing bad HTML and presenting us with\n",
    "easily-traversible Python objects representing XML structures."
   ]
  },
  {
   "cell_type": "code",
   "execution_count": 3,
   "metadata": {
    "collapsed": false
   },
   "outputs": [
    {
     "name": "stdout",
     "output_type": "stream",
     "text": [
      "<ul class=\"nav navbar-nav navbar-right\">\n",
      "<li id=\"notification_area\"></li>\n",
      "</ul>\n"
     ]
    }
   ],
   "source": [
    "from bs4 import BeautifulSoup\n",
    "\n",
    "html = urlopen(\"http://localhost:8888/edit/Documents/2016/Android/canvas/codes/canvas-1.html\")\n",
    "bsObj = BeautifulSoup(html.read(),'lxml')\n",
    "print(bsObj.ul)                                                                                                                                   "
   ]
  },
  {
   "cell_type": "markdown",
   "metadata": {},
   "source": [
    "To prevant falling into trouble about the internet connetion errors, sucg like \"400 Page not found\", \"500 Internal Server Error,” etc, use python state in \"urllib.urlopen()\":\n",
    "```python\n",
    "try:\n",
    "    ...\n",
    "    except HTTPError as e:\n",
    "      ...\n",
    "``` \n",
    "which could filter out unnecessay system waring message."
   ]
  },
  {
   "cell_type": "code",
   "execution_count": 5,
   "metadata": {
    "collapsed": false
   },
   "outputs": [
    {
     "name": "stdout",
     "output_type": "stream",
     "text": [
      "<body class=\"edit_app \" data-base-url=\"/\" data-file-path=\"Documents/2016/Android/canvas/codes/canvas-1.html\">\n",
      "<noscript>\n",
      "<div id=\"noscript\">\n",
      "      Jupyter Notebook requires JavaScript.<br/>\n",
      "      Please enable it to proceed.\n",
      "  </div>\n",
      "</noscript>\n",
      "<div id=\"header\">\n",
      "<div class=\"container\" id=\"header-container\">\n",
      "<div class=\"nav navbar-brand pull-left\" id=\"ipython_notebook\"><a href=\"/tree\" title=\"dashboard\"><img alt=\"Jupyter Notebook\" src=\"/static/base/images/logo.png?v=7c4597ba713d804995e8f8dad448a397\"/></a></div>\n",
      "<span id=\"login_widget\">\n",
      "</span>\n",
      "<span class=\"pull-left save_widget\" id=\"save_widget\">\n",
      "<span class=\"filename\"></span>\n",
      "<span class=\"last_modified\"></span>\n",
      "</span>\n",
      "</div>\n",
      "<div class=\"header-bar\"></div>\n",
      "<div class=\"container\" id=\"menubar-container\">\n",
      "<div id=\"menubar\">\n",
      "<div class=\"navbar navbar-default\" id=\"menus\" role=\"navigation\">\n",
      "<div class=\"container-fluid\">\n",
      "<p class=\"navbar-text indicator_area\">\n",
      "<span id=\"current-mode\">current mode</span>\n",
      "</p>\n",
      "<button class=\"btn btn-default navbar-toggle\" data-target=\".navbar-collapse\" data-toggle=\"collapse\" type=\"button\">\n",
      "<i class=\"fa fa-bars\"></i>\n",
      "<span class=\"navbar-text\">Menu</span>\n",
      "</button>\n",
      "<ul class=\"nav navbar-nav navbar-right\">\n",
      "<li id=\"notification_area\"></li>\n",
      "</ul>\n",
      "<div class=\"navbar-collapse collapse\">\n",
      "<ul class=\"nav navbar-nav\">\n",
      "<li class=\"dropdown\"><a class=\"dropdown-toggle\" data-toggle=\"dropdown\" href=\"#\">File</a>\n",
      "<ul class=\"dropdown-menu\" id=\"file-menu\">\n",
      "<li id=\"new-file\"><a href=\"#\">New</a></li>\n",
      "<li id=\"save-file\"><a href=\"#\">Save</a></li>\n",
      "<li id=\"rename-file\"><a href=\"#\">Rename</a></li>\n",
      "<li id=\"download-file\"><a href=\"#\">Download</a></li>\n",
      "</ul>\n",
      "</li>\n",
      "<li class=\"dropdown\"><a class=\"dropdown-toggle\" data-toggle=\"dropdown\" href=\"#\">Edit</a>\n",
      "<ul class=\"dropdown-menu\" id=\"edit-menu\">\n",
      "<li id=\"menu-find\"><a href=\"#\">Find</a></li>\n",
      "<li id=\"menu-replace\"><a href=\"#\">Find &amp; Replace</a></li>\n",
      "<li class=\"divider\"></li>\n",
      "<li class=\"dropdown-header\">Key Map</li>\n",
      "<li id=\"menu-keymap-default\"><a href=\"#\">Default<i class=\"fa\"></i></a></li>\n",
      "<li id=\"menu-keymap-sublime\"><a href=\"#\">Sublime Text<i class=\"fa\"></i></a></li>\n",
      "<li id=\"menu-keymap-vim\"><a href=\"#\">Vim<i class=\"fa\"></i></a></li>\n",
      "<li id=\"menu-keymap-emacs\"><a href=\"#\">emacs<i class=\"fa\"></i></a></li>\n",
      "</ul>\n",
      "</li>\n",
      "<li class=\"dropdown\"><a class=\"dropdown-toggle\" data-toggle=\"dropdown\" href=\"#\">View</a>\n",
      "<ul class=\"dropdown-menu\" id=\"view-menu\">\n",
      "<li id=\"toggle_header\" title=\"Show/Hide the logo and notebook title (above menu bar)\">\n",
      "<a href=\"#\">Toggle Header</a></li>\n",
      "<li id=\"menu-line-numbers\"><a href=\"#\">Toggle Line Numbers</a></li>\n",
      "</ul>\n",
      "</li>\n",
      "<li class=\"dropdown\"><a class=\"dropdown-toggle\" data-toggle=\"dropdown\" href=\"#\">Language</a>\n",
      "<ul class=\"dropdown-menu\" id=\"mode-menu\">\n",
      "</ul>\n",
      "</li>\n",
      "</ul>\n",
      "</div>\n",
      "</div>\n",
      "</div>\n",
      "</div>\n",
      "</div>\n",
      "<div class=\"lower-header-bar\"></div>\n",
      "</div>\n",
      "<div id=\"site\">\n",
      "<div id=\"texteditor-backdrop\">\n",
      "<div class=\"container\" id=\"texteditor-container\"></div>\n",
      "</div>\n",
      "</div>\n",
      "<script charset=\"utf-8\" src=\"/static/edit/js/main.min.js?v=ced1eac15a17d99368fa8450c494c68c\" type=\"text/javascript\"></script>\n",
      "</body>\n"
     ]
    }
   ],
   "source": [
    "from urllib.error import HTTPError\n",
    "import sys\n",
    "\n",
    "def getTitle(url):\n",
    "    try:\n",
    "        html = urlopen(url)\n",
    "    except HTTPError as e:\n",
    "        print(e)\n",
    "        return None\n",
    "    try:\n",
    "        bsObj = BeautifulSoup(html.read(),'lxml')\n",
    "        title = bsObj.body\n",
    "    except AttributeError as e:\n",
    "        return None\n",
    "    return title\n",
    "\n",
    "title = getTitle(\"http://localhost:8888/edit/Documents/2016/Android/canvas/codes/canvas-1.html\")\n",
    "if title == None:\n",
    "    print(\"Title could not be found\")\n",
    "else:\n",
    "    print(title)                                                                                                                                                     "
   ]
  },
  {
   "cell_type": "code",
   "execution_count": 6,
   "metadata": {
    "collapsed": false
   },
   "outputs": [
    {
     "name": "stdout",
     "output_type": "stream",
     "text": [
      "HTTP Error 404: Not Found\n",
      "Title could not be found\n"
     ]
    }
   ],
   "source": [
    "title = getTitle(\"http://localhost:8888/Documents/2016/Android/canvas/codes/canvas-1.html\")\n",
    "if title == None:\n",
    "    print(\"Title could not be found\")\n",
    "else:\n",
    "    print(title)                                                                                                                                                     "
   ]
  },
  {
   "cell_type": "code",
   "execution_count": null,
   "metadata": {
    "collapsed": true
   },
   "outputs": [],
   "source": []
  }
 ],
 "metadata": {
  "kernelspec": {
   "display_name": "Python 3",
   "language": "python",
   "name": "python3"
  },
  "language_info": {
   "codemirror_mode": {
    "name": "ipython",
    "version": 3
   },
   "file_extension": ".py",
   "mimetype": "text/x-python",
   "name": "python",
   "nbconvert_exporter": "python",
   "pygments_lexer": "ipython3",
   "version": "3.5.2"
  }
 },
 "nbformat": 4,
 "nbformat_minor": 1
}
