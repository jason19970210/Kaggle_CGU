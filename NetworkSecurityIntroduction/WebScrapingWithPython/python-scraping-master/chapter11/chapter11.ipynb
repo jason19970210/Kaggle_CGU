{
 "cells": [
  {
   "cell_type": "markdown",
   "metadata": {},
   "source": [
    "Chapter 11. Image Processing and Text Recognition\n",
    "==="
   ]
  },
  {
   "cell_type": "code",
   "execution_count": 2,
   "metadata": {
    "collapsed": false
   },
   "outputs": [],
   "source": [
    "from PIL import Image, ImageFilter\n",
    "\n",
    "kitten = Image.open(\"page.jpg\")\n",
    "blurryKitten = kitten.filter(ImageFilter.GaussianBlur)\n",
    "blurryKitten.save(\"kitten_blurred.jpg\")\n",
    "blurryKitten.show()"
   ]
  },
  {
   "cell_type": "code",
   "execution_count": 23,
   "metadata": {
    "collapsed": false
   },
   "outputs": [],
   "source": [
    "from PIL import Image\n",
    "import subprocess\n",
    "\n",
    "def cleanFile(filePath, newFilePath):\n",
    "    image = Image.open(filePath)\n",
    "\n",
    "    #Set a threshold value for the image, and save\n",
    "    image = image.point(lambda x: 0 if x<143 else 255)\n",
    "    image.save(newFilePath)\n",
    "\n",
    "    #call tesseract to do OCR on the newly created image\n",
    "       subprocess.call([\"tesseract\", newFilePath, \"output\"])\n",
    "\n",
    "    #Open and read the resulting data file\n",
    "    outputFile = open(\"output.txt\", 'r')\n",
    "    print(\"Text Captured:\\n\", outputFile.read())\n",
    "    outputFile.close()\n"
   ]
  },
  {
   "cell_type": "code",
   "execution_count": null,
   "metadata": {
    "collapsed": true
   },
   "outputs": [],
   "source": [
    "cleanFile(\"page.jpg\", \"text_2_clean.jpg\")"
   ]
  },
  {
   "cell_type": "markdown",
   "metadata": {},
   "source": [
    "PNG recognition\n",
    "---\n",
    "Original image\n",
    "<img src=\"ch4-1.png\" />\n",
    "Handled Image\n",
    "<img src=\"ch4-1_clean.png\" />"
   ]
  },
  {
   "cell_type": "code",
   "execution_count": 6,
   "metadata": {
    "collapsed": false
   },
   "outputs": [
    {
     "name": "stdout",
     "output_type": "stream",
     "text": [
      "Text Captured:\n",
      " f (E) /\n",
      "f ’(E) +\n",
      "\n",
      "\n"
     ]
    }
   ],
   "source": [
    "cleanFile(\"ch4-1.png\", \"ch4-1_clean.png\")"
   ]
  },
  {
   "cell_type": "markdown",
   "metadata": {
    "collapsed": false
   },
   "source": [
    "Tradtional Chinese Image\n",
    "---\n",
    "<img src=\"TradChinese.png\" width=40%/>"
   ]
  },
  {
   "cell_type": "code",
   "execution_count": 26,
   "metadata": {
    "collapsed": false
   },
   "outputs": [
    {
     "name": "stdout",
     "output_type": "stream",
     "text": [
      "Tesseract Open Source OCR Engine v3.05.00dev with Leptonica\n",
      "Detected 97 diacritics\n"
     ]
    }
   ],
   "source": [
    "!tesseract TradChinese.png output -l chi_tra"
   ]
  },
  {
   "cell_type": "code",
   "execution_count": 27,
   "metadata": {
    "collapsed": false
   },
   "outputs": [
    {
     "name": "stdout",
     "output_type": "stream",
     "text": [
      " \r\n",
      "\r\n",
      " \r\n",
      "\r\n",
      "「趟客鰻胡纓，吳鉤霜雪明。銀鞍照ˊ …u\r\n",
      "十步殺_人 千裹不留行。 辜菖了…弗衣去\r\n",
      "\r\n",
      " \r\n",
      "\r\n",
      " \r\n",
      "\r\n",
      " \r\n",
      "\r\n",
      " \r\n",
      "\r\n",
      "閑過信陵飲 脫劍膝前橫。 將炙口炎朱亥\r\n",
      "三杯吐然諾 五嶽到為輕。 眼花=熱後\r\n",
      "求叉趟揮金鍾 邯鄲先震驚。 千秋二 壯‥‥\r\n",
      "縱死俠骨香 ， 不慚世上英。 誰能書閣ˉ‥\r\n",
      "\r\n",
      " \r\n",
      "\r\n",
      " \r\n",
      "\r\n",
      " \r\n",
      "\r\n",
      " \r\n",
      "\r\n",
      " \r\n",
      "\r\n",
      " \r\n",
      "\r\n",
      "，瘋還如流星。\r\n",
      "\r\n",
      "深藏身與名。\r\n",
      "持觴勸侯羸。\r\n",
      "意氣素霓生 。\r\n",
      "姮赫大梁城 。\r\n",
      "ˊ首人玄經?\r\n",
      "\r\n",
      " \r\n",
      "\r\n",
      " \r\n",
      "\r\n",
      " \r\n",
      "\r\n",
      " \r\n",
      "\r\n",
      " \r\n",
      "\r\n",
      " \r\n",
      "\r\n",
      "」\r\n",
      "\r\n"
     ]
    }
   ],
   "source": [
    "!cat output.txt"
   ]
  },
  {
   "cell_type": "markdown",
   "metadata": {},
   "source": [
    "Why message worse\n",
    "---\n",
    "Here, the text in the image was created by $\\TeX$ (and in image format) which is differeent from general text come from font file. "
   ]
  },
  {
   "cell_type": "code",
   "execution_count": null,
   "metadata": {
    "collapsed": true
   },
   "outputs": [],
   "source": [
    "import time\n",
    "from urllib.request import urlretrieve\n",
    "import subprocess\n",
    "from selenium import webdriver\n",
    "\n",
    "#driver = webdriver.PhantomJS(executable_path='/Users/ryan/Documents/pythonscraping/code/headless/phantomjs-1.9.8-macosx/bin/phantomjs')\n",
    "driver = webdriver.Firefox()\n",
    "driver.get(\"http://www.amazon.com/War-Peace-Leo-Nikolayevich-Tolstoy/dp/1427030200\")\n",
    "time.sleep(2)\n",
    "\n",
    "driver.find_element_by_id(\"img-canvas\").click()\n",
    "#The easiest way to get exactly one of every page\n",
    "imageList = set()\n",
    "\n",
    "#Wait for the page to load\n",
    "time.sleep(10)\n",
    "print(driver.find_element_by_id(\"sitbReaderRightPageTurner\").get_attribute(\"style\"))\n",
    "while \"pointer\" in driver.find_element_by_id(\"sitbReaderRightPageTurner\").get_attribute(\"style\"):\n",
    "    #While we can click on the right arrow, move through the pages\n",
    "    driver.find_element_by_id(\"sitbReaderRightPageTurner\").click()\n",
    "    time.sleep(2)\n",
    "    #Get any new pages that have loaded (multiple pages can load at once)\n",
    "    pages = driver.find_elements_by_xpath(\"//div[@class='pageImage']/div/img\")\n",
    "    for page in pages:\n",
    "        image = page.get_attribute(\"src\")\n",
    "        imageList.add(image)\n",
    "\n",
    "driver.quit()\n",
    "\n",
    "#Start processing the images we've collected URLs for with Tesseract\n",
    "for image in sorted(imageList):\n",
    "    urlretrieve(image, \"page.jpg\")\n",
    "    p = subprocess.Popen([\"tesseract\", \"page.jpg\", \"page\"], stdout=subprocess.PIPE,stderr=subprocess.PIPE)\n",
    "    p.wait()\n",
    "    f = open(\"page.txt\", \"r\")\n",
    "    print(f.read())"
   ]
  },
  {
   "cell_type": "code",
   "execution_count": null,
   "metadata": {
    "collapsed": true
   },
   "outputs": [],
   "source": [
    "from urllib.request import urlretrieve\n",
    "from urllib.request import urlopen\n",
    "from bs4 import BeautifulSoup\n",
    "import subprocess\n",
    "import requests\n",
    "from PIL import Image\n",
    "from PIL import ImageOps\n",
    "\n",
    "def cleanImage(imagePath):\n",
    "    image = Image.open(imagePath)\n",
    "    image = image.point(lambda x: 0 if x<143 else 255)\n",
    "    borderImage = ImageOps.expand(image,border=20,fill='white')\n",
    "    borderImage.save(imagePath)\n",
    "\n",
    "html = urlopen(\"http://www.pythonscraping.com/humans-only\")\n",
    "bsObj = BeautifulSoup(html, \"html.parser\")\n",
    "#Gather prepopulated form values\n",
    "imageLocation = bsObj.find(\"img\", {\"title\": \"Image CAPTCHA\"})[\"src\"]\n",
    "formBuildId = bsObj.find(\"input\", {\"name\":\"form_build_id\"})[\"value\"]\n",
    "captchaSid = bsObj.find(\"input\", {\"name\":\"captcha_sid\"})[\"value\"]\n",
    "captchaToken = bsObj.find(\"input\", {\"name\":\"captcha_token\"})[\"value\"]\n",
    "\n",
    "captchaUrl = \"http://pythonscraping.com\"+imageLocation\n",
    "urlretrieve(captchaUrl, \"captcha.jpg\")\n",
    "cleanImage(\"captcha.jpg\")\n",
    "p = subprocess.Popen([\"tesseract\", \"captcha.jpg\", \"captcha\"], stdout=\n",
    "    subprocess.PIPE,stderr=subprocess.PIPE)\n",
    "p.wait()\n",
    "f = open(\"captcha.txt\", \"r\")\n",
    "\n",
    "#Clean any whitespace characters\n",
    "captchaResponse = f.read().replace(\" \", \"\").replace(\"\\n\", \"\")\n",
    "print(\"Captcha solution attempt: \"+captchaResponse)\n",
    "\n",
    "if len(captchaResponse) == 5:\n",
    "    params = {\"captcha_token\":captchaToken, \"captcha_sid\":captchaSid,   \n",
    "              \"form_id\":\"comment_node_page_form\", \"form_build_id\": formBuildId, \n",
    "                  \"captcha_response\":captchaResponse, \"name\":\"Ryan Mitchell\", \n",
    "                  \"subject\": \"I come to seek the Grail\", \n",
    "                  \"comment_body[und][0][value]\": \n",
    "                                           \"...and I am definitely not a bot\"}\n",
    "    r = requests.post(\"http://www.pythonscraping.com/comment/reply/10\", \n",
    "                          data=params)\n",
    "    responseObj = BeautifulSoup(r.text)\n",
    "    if responseObj.find(\"div\", {\"class\":\"messages\"}) is not None:\n",
    "        print(responseObj.find(\"div\", {\"class\":\"messages\"}).get_text())\n",
    "else:\n",
    "    print(\"There was a problem reading the CAPTCHA correctly!\")"
   ]
  }
 ],
 "metadata": {
  "kernelspec": {
   "display_name": "Python 3",
   "language": "python",
   "name": "python3"
  },
  "language_info": {
   "codemirror_mode": {
    "name": "ipython",
    "version": 3
   },
   "file_extension": ".py",
   "mimetype": "text/x-python",
   "name": "python",
   "nbconvert_exporter": "python",
   "pygments_lexer": "ipython3",
   "version": "3.5.2"
  }
 },
 "nbformat": 4,
 "nbformat_minor": 1
}
