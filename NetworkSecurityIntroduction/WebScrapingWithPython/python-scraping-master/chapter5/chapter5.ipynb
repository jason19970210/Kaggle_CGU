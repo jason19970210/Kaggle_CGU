{
 "cells": [
  {
   "cell_type": "markdown",
   "metadata": {},
   "source": [
    "Chapter 5. Storing Data\n",
    "===\n"
   ]
  },
  {
   "cell_type": "code",
   "execution_count": 35,
   "metadata": {
    "collapsed": true
   },
   "outputs": [],
   "source": [
    "import os\n",
    "from urllib.request import urlretrieve\n",
    "from urllib.request import urlopen\n",
    "from bs4 import BeautifulSoup"
   ]
  },
  {
   "cell_type": "code",
   "execution_count": 36,
   "metadata": {
    "collapsed": false
   },
   "outputs": [
    {
     "name": "stdout",
     "output_type": "stream",
     "text": [
      "<html>\n",
      "<body>\n",
      "<a id=\"logo\"><img src=\"logo.jpg\" /></a>\n",
      "</body>\n",
      "</html>\n",
      "\n"
     ]
    }
   ],
   "source": [
    "html = urlopen(\"http://localhost:8000/WebScrapPython/5/\")\n",
    "print(str(html.read(), 'utf-8'))"
   ]
  },
  {
   "cell_type": "code",
   "execution_count": 45,
   "metadata": {
    "collapsed": true
   },
   "outputs": [],
   "source": [
    "urladdr=\"http://localhost:8000/WebScrapPython/5/\"\n",
    "html = urlopen(urladdr)"
   ]
  },
  {
   "cell_type": "code",
   "execution_count": 46,
   "metadata": {
    "collapsed": false
   },
   "outputs": [
    {
     "name": "stdout",
     "output_type": "stream",
     "text": [
      "<html>\n",
      "<body>\n",
      "<a id=\"logo\"><img src=\"logo.jpg\"/></a>\n",
      "</body>\n",
      "</html>\n",
      "\n"
     ]
    }
   ],
   "source": [
    "bsObj = BeautifulSoup(html, \"html.parser\")\n",
    "print(bsObj)"
   ]
  },
  {
   "cell_type": "markdown",
   "metadata": {},
   "source": [
    "How BeautifulSoup Works\n",
    "---\n",
    "\n",
    "\n",
    "--|**|-- html code (bsObj) ---|**|---\n",
    "```HTML\n",
    "<html>\n",
    "  <body>\n",
    "     <a id=\"logo\">\n",
    "        <img src=\"logo.jpg\" />\n",
    "        <img src=\"other.png\" />\n",
    "     </a>\n",
    "     <a href=\"whatelse.com\" />  \n",
    "  </body>\n",
    "</html>\n",
    "```\n",
    "a). Find out specified tag with attributes:\n",
    "```\n",
    "---\n",
    "bsObj.find(\"a\",  {\"id\": \"logo\"}).find(\"img\")[\"src\"]) -→ logo.jpg\n",
    "             ↘    ↙    ↙             ↙    ↙\n",
    "              <a id=\"logo\">          <img src=\"logo.jpg\" />\n",
    "\n",
    "```\n",
    "\n",
    "b). find out all the elements:\n",
    "```python\n",
    "  bsObj.findAll(\"a\")\n",
    "  ``` \n",
    " ```\n",
    "            ↓ \n",
    "[ \" <a id=\"logo\"><img src=\"logo.jpg\"/><img src=\"other.png\" /></a>\",\n",
    "\" <a href=\"whatelse.com\" />\" ]\n",
    "```\n",
    "c). Find out element of tag with specified attribute:\n",
    "```python\n",
    "For link in bsObj.findAll(\"a\")\n",
    "    if 'id' in link.attrs:\n",
    "```\n",
    "\n",
    "```HTML\n",
    "\n",
    "     |------------- link -----------------|\n",
    "     |                ↓                   |\n",
    "                      \n",
    "     <a id=\"logo\"><img src=\"logo.jpg\"/><img src=\"other.png\" /></a>\n",
    "        \n",
    "        ↑      ↖\n",
    "       id    link.attrs['id']  \n",
    "```\n",
    "&nbsp;&nbsp;&nbsp;&nbsp;&nbsp;&nbsp;&nbsp;&nbsp;&nbsp;&nbsp;&nbsp;&nbsp;&nbsp;&nbsp;&nbsp;&nbsp;&nbsp;&nbsp;<font color=\"#ff0000\"><strike> &lt;a href=\"whatelse.com\" /&gt;\n",
    "\n"
   ]
  },
  {
   "cell_type": "code",
   "execution_count": 43,
   "metadata": {
    "collapsed": false
   },
   "outputs": [
    {
     "name": "stdout",
     "output_type": "stream",
     "text": [
      "logo.jpg\n",
      "logo\n",
      "<a id=\"logo\"><img src=\"logo.jpg\"/></a>\n"
     ]
    }
   ],
   "source": [
    "bsObj = BeautifulSoup(html, \"html.parser\")\n",
    "print(bsObj.find(\"a\", {\"id\": \"logo\"}).find(\"img\")[\"src\"])\n",
    "for link in bsObj.findAll(\"a\"):\n",
    "    if 'id' in link.attrs:\n",
    "        print(link.attrs['id'])\n",
    "    print(link)"
   ]
  },
  {
   "cell_type": "code",
   "execution_count": 21,
   "metadata": {
    "collapsed": false
   },
   "outputs": [
    {
     "name": "stdout",
     "output_type": "stream",
     "text": [
      "http://localhost:8000/WebScrapPython/5/logo.jpg\n"
     ]
    },
    {
     "data": {
      "text/plain": [
       "('UrlLogo.jpg', <http.client.HTTPMessage at 0x10a0e3390>)"
      ]
     },
     "execution_count": 21,
     "metadata": {},
     "output_type": "execute_result"
    }
   ],
   "source": [
    "bsObj = BeautifulSoup(html, \"html.parser\")\n",
    "imageLocation = bsObj.find(\"a\", {\"id\": \"logo\"}).find(\"img\")[\"src\"]\n",
    "print(urladdr+imageLocation)\n",
    "urlretrieve (urladdr+imageLocation, \"UrlLogo.jpg\")                             "
   ]
  },
  {
   "cell_type": "code",
   "execution_count": null,
   "metadata": {
    "collapsed": true
   },
   "outputs": [],
   "source": [
    "downloadDirectory = \"WebScrapPython/5\"\n",
    "baseUrl = \"http://127.0.0.1:8000\"\n",
    "\n",
    "def getAbsoluteURL(baseUrl, source):\n",
    "    if source.startswith(\"http://www.\"):\n",
    "        url = \"http://\"+source[11:]\n",
    "    elif source.startswith(\"http://\"):\n",
    "        url = source\n",
    "    elif source.startswith(\"www.\"):\n",
    "        url = source[4:]\n",
    "        url = \"http://\"+source\n",
    "    else:\n",
    "        url = baseUrl+\"/\"+source\n",
    "    if baseUrl not in url:\n",
    "        return None\n",
    "    return url\n",
    "\n",
    "def getDownloadPath(baseUrl, absoluteUrl, downloadDirectory):\n",
    "    path = absoluteUrl.replace(\"www.\", \"\")\n",
    "    path = path.replace(baseUrl, \"\")\n",
    "    path = downloadDirectory+path\n",
    "    directory = os.path.dirname(path)\n",
    "\n",
    "    if not os.path.exists(directory):\n",
    "        os.makedirs(directory)\n",
    "\n",
    "    return path\n",
    "\n",
    "html = urlopen(\"http://www.pythonscraping.com\")\n",
    "bsObj = BeautifulSoup(html, \"html.parser\")\n",
    "downloadList = bsObj.findAll(src=True)\n",
    "\n",
    "for download in downloadList:\n",
    "    fileUrl = getAbsoluteURL(baseUrl, download[\"src\"])\n",
    "    if fileUrl is not None:\n",
    "        print(fileUrl)\n",
    "        urlretrieve(fileUrl, getDownloadPath(baseUrl, fileUrl, downloadDirectory))"
   ]
  }
 ],
 "metadata": {
  "kernelspec": {
   "display_name": "Python 3",
   "language": "python",
   "name": "python3"
  },
  "language_info": {
   "codemirror_mode": {
    "name": "ipython",
    "version": 3
   },
   "file_extension": ".py",
   "mimetype": "text/x-python",
   "name": "python",
   "nbconvert_exporter": "python",
   "pygments_lexer": "ipython3",
   "version": "3.5.2"
  }
 },
 "nbformat": 4,
 "nbformat_minor": 1
}
