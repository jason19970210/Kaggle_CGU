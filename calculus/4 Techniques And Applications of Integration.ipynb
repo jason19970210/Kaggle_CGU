{
 "cells": [
  {
   "cell_type": "markdown",
   "metadata": {},
   "source": [
    "5. Techniques And Applications of Integration\n",
    "===\n",
    "[7.1 Integration by parts](#Integration-by-Parts)<br>\n",
    "[7.2 Trigonometric Integration](http://#Trigonometric-Integration)<br>\n",
    "[7.3 Trigonometric Substitution](#Trigonometric-Substitution)<br>\n",
    "[7.4 Partial Fraction](#7.4-Partial-Fraction)"
   ]
  },
  {
   "cell_type": "markdown",
   "metadata": {},
   "source": [
    "Review\n",
    "---\n",
    "\n",
    "Review the definition of Definite Integral:\n",
    "$$\\color{blue}{|S| = \\int^b_a f (x) d x = \\lim_{n \\rightarrow \\infty}\n",
    "   \\sum_{k = 1}^n f (x_k^{\\ast}) \\Delta x.} $$\n",
    "In another words, sum of infinite constants can be evaluated by the <font color=\"red\">integration</font> operation.\n"
   ]
  },
  {
   "cell_type": "markdown",
   "metadata": {},
   "source": [
    "Example  (Length of Roll Toilet Paper)\n",
    "---\n",
    "Consider a solid roll toilet paper with radius $b$. Then area of its side\n",
    "  surface is about $b^2 \\pi$\n",
    "\n",
    "\n",
    "  \n",
    "  The area can be approximated by the following sum:\n",
    "  $$ \\sum_{k = 1}^n \\pi ((k \\Delta x)^2 - \\pi ((k - 1) \\Delta x)^2) $$\n",
    "  where $\\Delta x = b / n$. And this sum can be evaluated by the following:\n",
    "  \\begin{eqnarray*}\n",
    "    &  & \\sum_{k = 1}^n \\pi ((k \\Delta x)^2 - \\pi ((k - 1) \\Delta x)^2)\\\\\n",
    "    & = & \\sum_{k = 1}^n \\pi (2 k - 1) (\\Delta x)^2\\\\\n",
    "    & = & \\sum_{k = 1}^n \\pi [(2 k - 1) \\Delta x] \\Delta x\\\\\n",
    "    & = & \\sum_{k = 1}^n 2 \\pi \\left[ \\frac{(2 k - 1)}{2} \\Delta x \\right]\n",
    "    \\Delta x\\\\\n",
    "    & \\overset{n \\rightarrow \\infty}{\\longrightarrow} & \\int^b_0 2 \\pi x d x\n",
    "    = \\pi b^2\n",
    "  \\end{eqnarray*}\n",
    "  Here we use the fact:\n",
    "  $$ \\begin{array}{ccccccccccccc}\n",
    "       \\color{blue}{x_0} &  & \\color{blue}{x_1} &  & \\color{blue}{x_2} &\n",
    "       \\cdots & \\color{blue}{x_{k - 1}} &  & \\color{blue}{x_k} & \\cdots &\n",
    "       \\color{blue}{x_{n - 1}} &  & \\color{blue}{x_n}\\\\\n",
    "       0 &  & \\Delta x &  & 2 \\Delta x & \\cdots & (k - 1) \\Delta x &  & k\n",
    "       \\Delta x & \\cdots & (n - 1) \\Delta x &  & n \\Delta x\\\\\n",
    "       & \\downarrow &  & \\downarrow &  &  &  & \\downarrow &  &  &  &\n",
    "       \\downarrow & \\\\\n",
    "       & \\color{brown}{\\frac{\\Delta x}{2}} &  & \\color{brown}{\\frac{3\n",
    "       \\Delta x}{2}} &  & \\cdots &  & \\color{brown}{\\frac{(2 k - 1) \\Delta\n",
    "       x}{2}} &  &  &  & \\color{brown}{\\frac{(2 n - 1) \\Delta x}{2}} & \\\\\n",
    "       & \\color{red}{x^{\\ast}_1} &  & \\color{red}{x^{\\ast}_2} &  &  &  &\n",
    "       \\color{red}{x^{\\ast}_k} &  &  &  & \\color{red}{x^{\\ast}_n} & \n",
    "     \\end{array} $$\n",
    "  \n",
    "  \n",
    "  where $\\Delta x = b / n$ and $\\{ \\color{red}{x^{\\ast}_k} \\}$ is the middle\n",
    "  points in each sub-interval, $[\\color{blue}{x_{k - 1}},\n",
    "  \\color{blue}{x_k}]$.\n",
    "  \n",
    "  After expanding the roll paper, the area is also equal to\n",
    "  $\\color{red}{\\Delta x \\cdot L}$. This says: the length,\n",
    "  $\\color{red}{L}$, is $\\color{red}{b^2 \\pi / \\Delta x}$.\n"
   ]
  },
  {
   "cell_type": "markdown",
   "metadata": {},
   "source": [
    "Integration by Parts\n",
    "---\n",
    "1154\n"
   ]
  },
  {
   "cell_type": "markdown",
   "metadata": {},
   "source": [
    "\\begin{eqnarray*}\n",
    "  (f (x) \\cdot g (x))' & = & f' (x) \\cdot g (x) + f (x) \\cdot g' (x)\\\\\n",
    "  & \\Downarrow & \\\\\n",
    "  f' (x) \\cdot g (x) & = & (f (x) \\cdot g (x))' - f (x) \\cdot g' (x)\\\\\n",
    "  & \\Downarrow & \\color{red}{\\text{Integrating both sides}}\\\\\n",
    "  \\int f' (x) g (x) d x & = & f (x) \\cdot g (x) - \\int f (x) g' (x) d x\n",
    "\\end{eqnarray*}\n",
    "And\n",
    "\\begin{eqnarray*}\n",
    "  \\int_a^b f' (x) g (x) d x & = & \\left.f (x) \\cdot g (x)  \\right|^b_a - \\int^b_a f\n",
    "  (x) g' (x) d x\\\\\n",
    "  & = & f (b) g (b) - f (a) g (a) - \\int^b_a f (x) g' (x) d x\n",
    "\\end{eqnarray*}\n",
    "This technique integration is called **integration by\n",
    "parts**."
   ]
  },
  {
   "cell_type": "markdown",
   "metadata": {},
   "source": [
    "What kind of functions need to be integrated by this method? In general, if\n",
    "the integrand is the product of any two types of the following functions, it\n",
    "does need:\n",
    "\n",
    "$$\\color{brown}{x^r, e^{a x}, \\sin b x \\text{ or } \\cos b x}, \\ln x, \\sin^{-\n",
    "   1} x \\text{ or } \\tan^{- 1} x \\text{ etc} . $$\n"
   ]
  },
  {
   "cell_type": "markdown",
   "metadata": {},
   "source": [
    "Example\n",
    "---\n",
    "($g (x) = \\color{brown}{x^n}$ and $f' (x) = \\color{brown}{e^{a x}}$)\n",
    "\n",
    "\\begin{eqnarray*}\n",
    "  &  & \\int \\color{brown}{x^{}} e^{- x} d x\\\\\n",
    "  \\begin{array}{l}\n",
    "    \\color{brown}{g' (x) = x' = 1}\\\\\n",
    "    \\int e^{- x} d x = - e^{- x} + c\n",
    "  \\end{array} & = & - \\color{brown}{x} e^{- x} + \\int^{} \\color{brown}{1}\n",
    "  \\cdot e^{- x} d x\\\\\n",
    "  & = & - x e^{- x} - e^{- x} + c\n",
    "\\end{eqnarray*}\n",
    "\n",
    "**Note**\n",
    "$$\\int \\color{brown}{x^n} e^{a x} d x = e^{a x} (\\color{brown}{a_n x^n +\n",
    "   a_{n - 1} x^{n - 1} + \\cdots + a_1 x + a_0}) + C $$"
   ]
  },
  {
   "cell_type": "markdown",
   "metadata": {},
   "source": [
    "Example\n",
    "---\n",
    "\\begin{eqnarray*}\n",
    "  \\int x^{} e^{- x} d x & = & e^{- x} (a_1 x + a_0) + C\\\\\n",
    "  & \\Downarrow & \\\\\n",
    "  x^{} e^{- x} & = & - e^{- x} (a_1 x + a_0) + a_1 e^{- x}\\\\\n",
    "  & \\Downarrow & \\\\\n",
    "  \\begin{array}{l}\n",
    "    - a_1 = 1\\\\\n",
    "    a_1 - a_0 = 0\n",
    "  \\end{array} & \\Rightarrow & a_1 = a_0 = - 1\n",
    "\\end{eqnarray*}\n",
    "Then\n",
    "$$ \\begin{array}{ll}\n",
    "     \\int x^{} e^{- x} d x & =\n",
    "   \\end{array} - x e^{- x} - e^{- x} + c$$\n"
   ]
  },
  {
   "cell_type": "markdown",
   "metadata": {},
   "source": [
    "Example\n",
    "---\n",
    "\n",
    "Suppose that $\\Gamma (n)$ function is defined as follows:\n",
    "  \\begin{eqnarray*}\n",
    "    {\\Gamma} (n) & = & \\int^{\\infty}_0 x^{n - 1} e^{- x} d x\\\\\n",
    "    & = & (n - 1) \\Gamma (n - 1)\\\\\n",
    "    \\Gamma (1) & = & 0! = 1\\\\\n",
    "    \\Gamma (n) & = & (n - 1) ! \\text{if} n = 1, 2, 3, \\cdots\\\\\n",
    "    \\Gamma \\left( \\frac{1}{2} \\right) & = \\sqrt{\\pi} & \n",
    "  \\end{eqnarray*}\n",
    "  \n",
    "  \n",
    "  We need:\n",
    "1.\n",
    "    \\begin{eqnarray*}\n",
    "      \\Gamma (1) & = & \\int^{\\infty}_0 x^{1 - 1} e^{- x} d x\\\\\n",
    "      & = & \\left.\\frac{- 1}{e^x} \\right|^{\\infty}_0\\\\\n",
    "      & = & - \\left( \\frac{1}{e^{\\infty}} - 1 \\right) = 1\n",
    "    \\end{eqnarray*}\n",
    "    \n",
    "- For $n = 1, 2, 3, \\cdots$:\n",
    "    \n",
    "\\begin{eqnarray*}\n",
    "      \\Gamma (n) & = & \\int^{\\infty}_0 x^{n - 1} \\color{brown}{e^{- x}} dx\\\\\n",
    "      & = & \\color{red}{ x^{n - 1} \\cdot (- e^{- x})\n",
    "      |^{\\infty}_0} - (n - 1) \\int^{\\infty}_0 x^{n - 2} \\color{brown}{(-\n",
    "      e^{- x})} d x\\\\\n",
    "      & = & 0 + (n - 1) \\int^{\\infty}_0 x^{n - 2} \\color{brown}{e^{- x}} d\n",
    "      x\\\\\n",
    "      & = & (n - 1) \\Gamma (n - 1)\n",
    "    \\end{eqnarray*}\n",
    "    \n",
    "- for $n = 1, 2, 3, \\cdots$:\n",
    "\n",
    "\\begin{eqnarray*}\n",
    "      \\Gamma (n) & = & (n - 1) \\Gamma (n - 1)\\\\\n",
    "      & = & (n - 1) (n - 2) \\Gamma (n - 2)\\\\\n",
    "      & = & \\cdots\\\\\n",
    "      & = & (n - 1) \\cdots 3 \\cdot 2 \\cdot \\Gamma (2)\\\\\n",
    "      & = & (n - 1) \\cdots 3 \\cdot 2 \\cdot 1 \\cdot \\Gamma (1) = (n - 1) !\n",
    "    \\end{eqnarray*}\n",
    "\n",
    "\n"
   ]
  },
  {
   "cell_type": "markdown",
   "metadata": {},
   "source": [
    "Example\n",
    "---\n",
    " ( $x^r$ and $\\ln x$ )\n",
    "$$ \\int x^{1 / 2} \\color{brown}{\\ln x} d x = \\frac{2}{3} x^{3 / 2}\n",
    "     \\color{brown}{\\ln x} - \\frac{2}{3} \\int x^{3 / 2}\n",
    "     \\color{brown}{\\frac{1}{x}} d x = \\frac{2}{3} x^{3 / 2}\n",
    "     \\color{brown}{\\ln x} - \\frac{4}{9} x^{3 / 2} + C $$"
   ]
  },
  {
   "cell_type": "markdown",
   "metadata": {},
   "source": [
    "Example\n",
    "---\n",
    "$$\\int \\color{brown}{x}\\ln xdx=\\color{brown}{\\frac{x^2}{2}}\\ln x-\\int\\color{brown}{\\frac{x^2}{2}}\\cdot\\frac{1}{x}dx=\\color{brown}{\\frac{x^2}{2}}\\ln x-\\color{brown}{\\frac{x^2}{4}}+C$$"
   ]
  },
  {
   "cell_type": "markdown",
   "metadata": {},
   "source": [
    "\n"
   ]
  },
  {
   "cell_type": "markdown",
   "metadata": {},
   "source": [
    "Example\n",
    "---\n",
    "  ( $g (x) = x^n$ and $f' (x) = \\sin b x$ or $\\cos b x$ )\n",
    "  \\begin{eqnarray*}\n",
    "    \\int \\color{brown}{x^2} \\sin x d x & = & - \\color{brown}{x^2} \\cos x +\n",
    "    \\color{brown}{2} \\int \\color{brown}{x}^{} \\cos x d x\\\\\n",
    "    & = & - \\color{brown}{x^2} \\cos x + \\left( \\color{brown}{2 x^{}} \\sin\n",
    "    x - \\int \\color{brown}{2} \\cdot \\sin x d x \\right)\\\\\n",
    "    & = & - \\color{brown}{x^2} \\cos x + \\color{brown}{2 x}^{} \\sin x +\n",
    "    \\color{brown}{2} \\cos x + c\n",
    "  \\end{eqnarray*}\n"
   ]
  },
  {
   "cell_type": "markdown",
   "metadata": {},
   "source": [
    "Example\n",
    "---\n",
    " ( $e^{a x}$ and $\\sin b x$ or $\\cos b x$ )\n",
    "  \n",
    "$$ \\begin{array}{ll}\n",
    "       I = \\int e^x \\color{brown}{\\sin x} d x = e^x \\color{brown}{\\sin x}\n",
    "       - \\int e^x \\color{brown}{\\cos x} d x & \n",
    "     \\end{array} $$\n",
    "  And in the similar way, we have\n",
    "$$ \\int e^x \\color{brown}{\\cos x} d x = e^x \\color{brown}{\\cos x} +\n",
    "     \\int e^x \\color{brown}{\\sin x} d x $$\n",
    "  From these facts, we conclude:\n",
    "\n",
    "\\begin{eqnarray*}\n",
    "    I & = & e^x \\sin x - \\int e^x \\cos x d x\\\\\n",
    "    & = & e^x \\sin x - e^x \\cos x - \\int e^x \\sin x d x \\color{red}{(=\n",
    "    I)}\\\\\n",
    "    & \\Downarrow & \\\\\n",
    "    2 I & = & e^x \\sin x - e^x \\cos x + C\\\\\n",
    "    & \\Downarrow & \\\\\n",
    "    I & = & \\frac{1}{2} (e^x \\sin x - e^x \\cos x) + C\n",
    "  \\end{eqnarray*}\n",
    " \n",
    "Note\n",
    "---\n",
    "For such type of integration, we also have the following result:\n",
    "\n",
    "$$ \\int e^{a x} \\cdot \\color{brown}{\\begin{array}{c}\n",
    "         \\sin b x\\\\\n",
    "         \\cos b x\n",
    "       \\end{array}} d x = e^{a x} (\\color{brown}{A \\sin b x + B \\cos b x}) +C $$\n",
    "\n",
    "Back to our example:\n",
    "\n",
    "$$ \\int e^x \\color{brown}{\\cos x} d x = e^x (\\color{brown}{A \\sin x +\n",
    "       B \\cos x}) + C $$\n",
    "Differentiating both sides and comparing the coefficients get the\n",
    "    following relations:\n",
    "    \\begin{eqnarray*}\n",
    "      e^x \\cos x & = & e^x (\\color{blue}{A \\sin x} + B \\cos x) + e^x (A \\cos\n",
    "      x \\color{blue}{- B \\sin x})\\\\\n",
    "      & \\Downarrow & \\\\\n",
    "      \\color{blue}{A - B} & = & 0\\\\\n",
    "      A + B & = & 1\\\\\n",
    "      & \\Downarrow & \\\\\n",
    "      A = 1 / 2 & \\text{and} & B = 1 / 2\n",
    "    \\end{eqnarray*}\n",
    "   "
   ]
  },
  {
   "cell_type": "markdown",
   "metadata": {},
   "source": [
    "Example\n",
    "---\n",
    "($\\sin^{-1}$ or $\\tan^{-1}$)\n",
    "\n",
    "\\begin{eqnarray*}\n",
    "    \\int \\sin^{- 1} x d x & = & \\int 1 \\cdot \\sin^{- 1} x d x\\\\\n",
    "    & = & x \\sin^{- 1} x - \\int \\frac{x}{\\sqrt{1 - x^2}} d x\\\\\n",
    "    & = & x + \\sin^{- 1} x + \\sqrt{1 - x^2 } + C\n",
    "  \\end{eqnarray*}\n"
   ]
  },
  {
   "cell_type": "markdown",
   "metadata": {},
   "source": [
    "Example\n",
    "---\n",
    "Integrate the following integrals:\n",
    "1. $\\int x e^{2 x} d x^{}$\n",
    "- $\\int x^2 \\cos x d x$\n",
    "- $\\int x^2 \\ln x d x$\n",
    "- $\\int e^x \\cos 2 x d x$\n",
    "- $\\int \\frac{x \\sin^{- 1} x}{\\sqrt{1 - x^2}} d x$\n",
    "\n",
    "\n",
    "Sol:<br>\n",
    "\n",
    "**1.** Let $f (x) = x$ and $g' (x) = e^{2 x}$. Then\n",
    "\n",
    "\\begin{eqnarray*}\n",
    "    \\int \\color{brown}{x} e^{2 x} d x & = & \\frac{1}{2} \\color{brown}{x}e^{2 x} - \\frac{1}{2} \\int \\color{brown}{1} \\cdot e^{2 x} d x\\\\\n",
    "    & = & \\frac{1}{2} \\color{brown}{x} e^{2 x} - \\frac{1}{4} e^{2 x} + C\n",
    "\\end{eqnarray*}\n",
    "\n",
    "**2.** Let $f (x) = x^2$ and $g' (x) = \\cos x$. Then\n",
    " \n",
    "\\begin{eqnarray*}\n",
    "    \\text{$\\int \\color{brown}{x^2} \\cos x d x$} & = & \\color{brown}{x^2}\\sin x - \\text{$\\color{brown}{2} \\int \\color{brown}{x} \\sin x d x$}\\\\\n",
    "    & = & \\color{brown}{x^2} \\sin x + \\color{brown}{2 x} \\cos x -\\color{brown}{2} \\int \\cos x d x\\\\\n",
    "    & = & \\color{brown}{x^2} \\sin x + \\color{brown}{2 x} \\cos x -\\color{brown}{2} \\sin x + C\n",
    "\\end{eqnarray*}\n",
    "\n",
    "**3.** Since the elementary integration formula don't include logarithmic\n",
    "  function, let $f (x) = \\ln x$ and $g' (x) = x^2$. Then\n",
    "  \n",
    "\\begin{eqnarray*}\n",
    "    \\text{$\\int x^2 \\color{brown}{\\ln x} d x$} & = & \\frac{1}{3} x^3\\color{brown}{\\ln x} - \\frac{1}{3} \\int x^3 \\cdot\\color{brown}{\\frac{1}{x}} d x\\\\\n",
    "    & = & \\frac{1}{3} x^3 \\color{brown}{\\ln x} - \\frac{1}{9} x^3 + C\n",
    "\\end{eqnarray*}\n",
    "\n",
    "**4.** The integration about product of exponential functions and sine\n",
    "  function is a special case. Any type can be chosen as $f (x)$. So let $f\n",
    "  (x) = \\cos 2 x$ and $g' (x) = e^x$.\n",
    "\n",
    "\\begin{eqnarray*}\n",
    "    \\text{$\\int e^x \\color{brown}{\\cos 2 x} d x$} & = & e^x\\color{brown}{\\cos 2 x} + \\color{brown}{2} \\int e^x\\color{brown}{\\sin 2 x} d x\\\\\n",
    "    & = & e^x \\color{brown}{\\cos 2 x} + \\color{brown}{2} e^x\\color{brown}{\\sin 2 x} - \\color{brown}{4} \\int e^x\\color{brown}{\\cos 2 x} d x\n",
    "\\end{eqnarray*}\n",
    "\n",
    "Moving the integral in right side to the left side gets:\n",
    "\n",
    "$$ \\int e^x \\cos 2 x d x = \\frac{1}{5} e^x \\cos 2 x + \\frac{2}{5} e^x \\sin 2x + C $$\n",
    "\n",
    "**5.** Let $f (x) = \\sin^{- 1} x$ and $g' (x) = x / \\sqrt{1 - x^2}$:\n",
    "\n",
    "\\begin{eqnarray*}\n",
    "    \\text{$\\int \\frac{x}{\\sqrt{1 - x^2}} \\cdot \\color{brown}{\\sin^{- 1} x} dx$} & = & - \\sqrt{1 - x^2}  \\color{brown}{\\sin^{- 1} x} + \\int\\frac{\\not{\\sqrt{1 - x^2}}}{\\not{\\sqrt{\\color{brown}{1 - x^2}}}} d x\\\\\n",
    "    & = & - \\sqrt{1 - x^2}  \\color{brown}{\\sin^{- 1} x} + x + C\n",
    "  \\end{eqnarray*}"
   ]
  },
  {
   "cell_type": "code",
   "execution_count": 4,
   "metadata": {},
   "outputs": [
    {
     "name": "stdout",
     "output_type": "stream",
     "text": [
      "The indefinite integral of  ʃ x*exp(2*x) dx is \n",
      "           2⋅x\n",
      "(2⋅x - 1)⋅ℯ   \n",
      "──────────────\n",
      "      4       \n"
     ]
    }
   ],
   "source": [
    "Int(x*exp(2*x))"
   ]
  },
  {
   "cell_type": "code",
   "execution_count": 5,
   "metadata": {},
   "outputs": [
    {
     "name": "stdout",
     "output_type": "stream",
     "text": [
      "The indefinite integral of  ʃ x**2*cos(x) dx is \n",
      " 2                               \n",
      "x ⋅sin(x) + 2⋅x⋅cos(x) - 2⋅sin(x)\n"
     ]
    }
   ],
   "source": [
    "Int(x**2*cos(x))"
   ]
  },
  {
   "cell_type": "code",
   "execution_count": 6,
   "metadata": {},
   "outputs": [
    {
     "name": "stdout",
     "output_type": "stream",
     "text": [
      "The indefinite integral of  ʃ x**2*log(x) dx is \n",
      " 3           3\n",
      "x ⋅log(x)   x \n",
      "───────── - ──\n",
      "    3       9 \n"
     ]
    }
   ],
   "source": [
    "Int(x**2*log(x))"
   ]
  },
  {
   "cell_type": "code",
   "execution_count": 7,
   "metadata": {},
   "outputs": [
    {
     "name": "stdout",
     "output_type": "stream",
     "text": [
      "The indefinite integral of  ʃ exp(x)*cos(2*x) dx is \n",
      "   x             x         \n",
      "2⋅ℯ ⋅sin(2⋅x)   ℯ ⋅cos(2⋅x)\n",
      "───────────── + ───────────\n",
      "      5              5     \n"
     ]
    }
   ],
   "source": [
    "Int(exp(x)*cos(2*x))"
   ]
  },
  {
   "cell_type": "code",
   "execution_count": 8,
   "metadata": {},
   "outputs": [
    {
     "name": "stdout",
     "output_type": "stream",
     "text": [
      "The indefinite integral of  ʃ x*asin(x)/sqrt(-x**2 + 1) dx is \n",
      "       __________        \n",
      "      ╱    2             \n",
      "x - ╲╱  - x  + 1 ⋅asin(x)\n"
     ]
    }
   ],
   "source": [
    "Int(x/sqrt(1-x**2)*asin(x))"
   ]
  },
  {
   "cell_type": "code",
   "execution_count": null,
   "metadata": {
    "collapsed": true
   },
   "outputs": [],
   "source": []
  },
  {
   "cell_type": "markdown",
   "metadata": {
    "collapsed": true
   },
   "source": [
    "Note\n",
    "---\n",
    "Summary from the above results: we have some experienced formula:\n",
    "1. $\\int x^n e^{a x} d x = (a_n x^n + a_{n - 1} x^{n - 1}+ \\cdots + a_1 x + a_0) e^{a x} + C$,\n",
    "- $\\int x^n \\cos b x d x = a_n x^n \\sin b x + a_{n - 1} x^{n - 1} \\cos b\n",
    "  x + \\cdots + C$,\n",
    "- $\\int e^{a x} \\left\\{ \\begin{array}{c}\n",
    "    \\sin b x\\\\\n",
    "    \\cos b x\n",
    "  \\end{array} d x \\right.$ \\ $= A e^{a x} \\sin b x + B e^{a x} \\cos b x + C$.\n",
    "- $\\int x^k \\ln x d x = A x^{k + 1} \\ln x + B x^{k + 1}+ C$\n",
    "\n",
    "We can differentiate the above equations to find out the coefficients to\n",
    "calculate integration."
   ]
  },
  {
   "cell_type": "code",
   "execution_count": 12,
   "metadata": {
    "collapsed": true
   },
   "outputs": [],
   "source": [
    "a,b=symbols(\"a b\")\n"
   ]
  },
  {
   "cell_type": "code",
   "execution_count": 13,
   "metadata": {},
   "outputs": [
    {
     "name": "stdout",
     "output_type": "stream",
     "text": [
      "The indefinite integral of  ʃ exp(a*x)*sin(b*x) dx is \n",
      "⎧                              0                                 for a = 0 ∧ b\n",
      "⎪                                                                             \n",
      "⎪   -ⅈ⋅b⋅x                 -ⅈ⋅b⋅x               -ⅈ⋅b⋅x                        \n",
      "⎪x⋅ℯ      ⋅sin(b⋅x)   ⅈ⋅x⋅ℯ      ⋅cos(b⋅x)   ⅈ⋅ℯ      ⋅sin(b⋅x)               \n",
      "⎪────────────────── - ──────────────────── + ──────────────────    for a = -ⅈ⋅\n",
      "⎪        2                     2                    2⋅b                       \n",
      "⎪                                                                             \n",
      "⎪     ⅈ⋅b⋅x                 ⅈ⋅b⋅x             ⅈ⋅b⋅x                           \n",
      "⎨  x⋅ℯ     ⋅sin(b⋅x)   ⅈ⋅x⋅ℯ     ⋅cos(b⋅x)   ℯ     ⋅cos(b⋅x)                  \n",
      "⎪  ───────────────── + ─────────────────── - ───────────────        for a = ⅈ⋅\n",
      "⎪          2                    2                  2⋅b                        \n",
      "⎪                                                                             \n",
      "⎪                 a⋅x               a⋅x                                       \n",
      "⎪              a⋅ℯ   ⋅sin(b⋅x)   b⋅ℯ   ⋅cos(b⋅x)                              \n",
      "⎪              ─────────────── - ───────────────                     otherwise\n",
      "⎪                   2    2            2    2                                  \n",
      "⎩                  a  + b            a  + b                                   \n",
      "\n",
      " = 0\n",
      "    \n",
      "    \n",
      "    \n",
      "b   \n",
      "    \n",
      "    \n",
      "    \n",
      "    \n",
      "b   \n",
      "    \n",
      "    \n",
      "    \n",
      "    \n",
      "    \n",
      "    \n",
      "    \n"
     ]
    }
   ],
   "source": [
    "Int(exp(a*x)*sin(b*x))"
   ]
  },
  {
   "cell_type": "markdown",
   "metadata": {
    "collapsed": true
   },
   "source": [
    "**(Example revisited)** Since\n",
    "\n",
    "$${\\int x e^{2 x} dx= A x e^{2 x} + B e^{2 x} + C}, $$\n",
    " \n",
    " differentiating both sides gets:\n",
    "\n",
    "\\begin{eqnarray*}\n",
    "    x e^{2 x} = 2 A x e^{2 x} + (A + 2 B) e^{2 x} &  & \n",
    "  \\end{eqnarray*}\n",
    "  This implies\n",
    "\n",
    "\\begin{eqnarray*}\n",
    "    2 A = 1 \\text{ and } A + 2 B = 0 & \\Rightarrow & A = \\frac{1}{2} \\text{ and }\n",
    "    B = - \\frac{1}{4}\n",
    "\\end{eqnarray*}    "
   ]
  },
  {
   "cell_type": "markdown",
   "metadata": {
    "collapsed": true
   },
   "source": [
    "Example\n",
    "---\n",
    "Evaluate the integral, $\\int \\sec^n x d x$, for $n = 1, 2, 3, \\cdots$.\n",
    "  \n",
    "Sol:\n",
    "\n",
    "First, consider the case $n = 1$:\n",
    " $$ \\color{brown}{\\int \\sec x d x} = \\int \\sec x \\cdot \\frac{\\sec x +\n",
    "       \\tan x}{\\sec x + \\tan x} d x = \\ln | \\sec x + \\tan x| + C $$\n",
    "And $n = 2$ is a trivial case:\n",
    "$$\\color{brown}{\\int \\sec^2 x d x} = \\tan x + C $$\n",
    "For the higher power, $n \\ge 3$, we have\n",
    "\\begin{eqnarray*}\n",
    "      \\int \\sec^n x d x & = & \\int \\sec^{n - 2} x d \\tan x\\\\\n",
    "      & = & \\sec^{n - 2} x \\tan x - (n - 2) \\int \\sec^{n - 2} x \\cdot \\tan^2\n",
    "      x d x\\\\\n",
    "      & = & \\sec^{n - 2} x \\tan x - (n - 2) \\int \\sec^n x d x + (n - 2) \\int\n",
    "      \\sec^{n - 2} x d x\n",
    "\\end{eqnarray*}\n",
    "    Then this results the following recursive formula:\n",
    "$$ \\int \\sec^n x d x = \\frac{1}{n - 1} \\sec^{n - 2} x \\tan x - \\frac{n -\n",
    "       2}{n - 1} \\int \\sec^{n - 2} x d x $$\n",
    "    For the case $n = 3$, the integral is\n",
    "$$ \\color{brown}{\\int \\sec^3 x d x} = \\frac{1}{2} \\sec x \\tan x +\n",
    "       \\frac{1}{2} \\int \\sec^{} x d x = \\frac{1}{2} \\sec x \\tan x +\n",
    "       \\frac{1}{2} \\ln | \\sec x + \\tan x| + C $$"
   ]
  },
  {
   "cell_type": "markdown",
   "metadata": {
    "collapsed": true
   },
   "source": [
    "Exercise, p613\n",
    "---"
   ]
  },
  {
   "cell_type": "code",
   "execution_count": 1,
   "metadata": {
    "collapsed": true
   },
   "outputs": [],
   "source": [
    "from sympy import *\n",
    "x=Symbol(\"x\")\n"
   ]
  },
  {
   "cell_type": "code",
   "execution_count": 2,
   "metadata": {
    "collapsed": true
   },
   "outputs": [],
   "source": [
    "def DefInt(f,a,b):\n",
    "    print(\"                          \",b)\n",
    "    print(\"The definite integral of  ʃ %s dt is \" %f)\n",
    "    print(\"                          \",a)\n",
    "    pprint(integrate(f,(x,a,b)))"
   ]
  },
  {
   "cell_type": "code",
   "execution_count": 3,
   "metadata": {
    "collapsed": true
   },
   "outputs": [],
   "source": [
    "def Int(f,*args):\n",
    "    if(len(args)!=0):\n",
    "       a=args[0]\n",
    "       b=args[1]\n",
    "       print(\"                          \",b)\n",
    "       print(\"The definite integral of  ʃ %s dx is \" %f)\n",
    "       print(\"                          \",a)\n",
    "       pprint(integrate(f,(x,a,b)))\n",
    "    else:\n",
    "       print(\"The indefinite integral of  ʃ %s dx is \" %f) \n",
    "       pprint(integrate(f,x))"
   ]
  },
  {
   "cell_type": "code",
   "execution_count": null,
   "metadata": {
    "collapsed": true
   },
   "outputs": [],
   "source": []
  },
  {
   "cell_type": "code",
   "execution_count": 48,
   "metadata": {},
   "outputs": [
    {
     "data": {
      "text/plain": [
       "x**2*atan(x)/2 - x/2 + atan(x)/2"
      ]
     },
     "execution_count": 48,
     "metadata": {},
     "output_type": "execute_result"
    }
   ],
   "source": [
    "#**18.**\n",
    "integrate(x*atan(x),x)"
   ]
  },
  {
   "cell_type": "code",
   "execution_count": 49,
   "metadata": {},
   "outputs": [
    {
     "data": {
      "text/plain": [
       "-1/2 + pi/4"
      ]
     },
     "execution_count": 49,
     "metadata": {},
     "output_type": "execute_result"
    }
   ],
   "source": [
    "integrate(x*atan(x),(x,0,1))"
   ]
  },
  {
   "cell_type": "code",
   "execution_count": 50,
   "metadata": {},
   "outputs": [
    {
     "name": "stdout",
     "output_type": "stream",
     "text": [
      "                           1\n",
      "The definite integral of  ʃ x*atan(x) dt is \n",
      "                           0\n",
      "  1   π\n",
      "- ─ + ─\n",
      "  2   4\n"
     ]
    }
   ],
   "source": [
    "DefInt(x*atan(x),0,1)"
   ]
  },
  {
   "cell_type": "code",
   "execution_count": 51,
   "metadata": {},
   "outputs": [
    {
     "name": "stdout",
     "output_type": "stream",
     "text": [
      "                           1\n",
      "The definite integral of  ʃ x*atan(x) dx is \n",
      "                           0\n",
      "  1   π\n",
      "- ─ + ─\n",
      "  2   4\n"
     ]
    }
   ],
   "source": [
    "Int(x*atan(x),0,1)"
   ]
  },
  {
   "cell_type": "code",
   "execution_count": 52,
   "metadata": {},
   "outputs": [
    {
     "name": "stdout",
     "output_type": "stream",
     "text": [
      "The indefinite integral of  ʃ x*atan(x) dx is \n",
      " 2                      \n",
      "x ⋅atan(x)   x   atan(x)\n",
      "────────── - ─ + ───────\n",
      "    2        2      2   \n"
     ]
    }
   ],
   "source": [
    "Int(x*atan(x))"
   ]
  },
  {
   "cell_type": "code",
   "execution_count": 53,
   "metadata": {},
   "outputs": [
    {
     "name": "stdout",
     "output_type": "stream",
     "text": [
      "The indefinite integral of  ʃ (x**2 - 1)*cos(x) dx is \n",
      " 2                               \n",
      "x ⋅sin(x) + 2⋅x⋅cos(x) - 3⋅sin(x)\n"
     ]
    }
   ],
   "source": [
    "#30\n",
    "Int((x**2-1)*cos(x))"
   ]
  },
  {
   "cell_type": "code",
   "execution_count": 54,
   "metadata": {},
   "outputs": [
    {
     "name": "stdout",
     "output_type": "stream",
     "text": [
      "                           2\n",
      "The definite integral of  ʃ log(x + 1) dx is \n",
      "                           0\n",
      "-2 + 3⋅log(3)\n"
     ]
    }
   ],
   "source": [
    "#34.\n",
    "Int(log(x+1),0,2)"
   ]
  },
  {
   "cell_type": "code",
   "execution_count": 55,
   "metadata": {},
   "outputs": [
    {
     "name": "stdout",
     "output_type": "stream",
     "text": [
      "                           pi\n",
      "The definite integral of  ʃ x*sin(2*x) dx is \n",
      "                           0\n",
      "-π \n",
      "───\n",
      " 2 \n"
     ]
    }
   ],
   "source": [
    "#36.\n",
    "Int(x*sin(2*x),0,pi)"
   ]
  },
  {
   "cell_type": "code",
   "execution_count": 56,
   "metadata": {},
   "outputs": [
    {
     "name": "stdout",
     "output_type": "stream",
     "text": [
      "                           pi**2/4\n",
      "The definite integral of  ʃ sin(sqrt(x)) dx is \n",
      "                           0\n",
      "2\n"
     ]
    }
   ],
   "source": [
    "#42.\n",
    "Int(sin(sqrt(x)),0,pi**2/4)"
   ]
  },
  {
   "cell_type": "code",
   "execution_count": 57,
   "metadata": {},
   "outputs": [
    {
     "name": "stdout",
     "output_type": "stream",
     "text": [
      "The indefinite integral of  ʃ sin(sqrt(x)) dx is \n",
      "-2⋅√x⋅cos(√x) + 2⋅sin(√x)\n"
     ]
    }
   ],
   "source": [
    "Int(sin(sqrt(x)))"
   ]
  },
  {
   "cell_type": "code",
   "execution_count": 46,
   "metadata": {},
   "outputs": [
    {
     "name": "stdout",
     "output_type": "stream",
     "text": [
      "                           1\n",
      "The definite integral of  ʃ atan(sqrt(x)) dx is \n",
      "                           0\n",
      "     π\n",
      "-1 + ─\n",
      "     2\n"
     ]
    }
   ],
   "source": [
    "#44.\n",
    "Int(atan(sqrt(x)),0,1)"
   ]
  },
  {
   "cell_type": "code",
   "execution_count": 47,
   "metadata": {},
   "outputs": [
    {
     "name": "stdout",
     "output_type": "stream",
     "text": [
      "The indefinite integral of  ʃ atan(sqrt(x)) dx is \n",
      "-√x + x⋅atan(√x) + atan(√x)\n"
     ]
    }
   ],
   "source": [
    "#44.\n",
    "Int(atan(sqrt(x)))"
   ]
  },
  {
   "cell_type": "code",
   "execution_count": null,
   "metadata": {
    "collapsed": true
   },
   "outputs": [],
   "source": []
  },
  {
   "cell_type": "markdown",
   "metadata": {
    "collapsed": true
   },
   "source": [
    "Trigonometric Integration\n",
    "---\n",
    "1455"
   ]
  },
  {
   "cell_type": "markdown",
   "metadata": {
    "collapsed": true
   },
   "source": [
    "In this section, we will discuss the integration technique about trigonometric\n",
    "functions, trigonmetric integration.\n",
    "\n",
    "Consider\n",
    "$$ \\int \\sin^m x \\cos^n x d x $$\n",
    "where $m$ and $n$ are integer.\n",
    "\n",
    "\n",
    "1. one of $m$ and $n$ is odd: suppose that $n$ is odd\n",
    "  and let $n = 2 k + 1$, $k \\in \\mathbb{R}$\n",
    "  \\begin{eqnarray*}\n",
    "    \\int \\sin^m x \\cos^n x d x & = & \\int \\sin^m x \\cos^{2 k} x\n",
    "    \\color{brown}{\\cos x d x}\\\\\n",
    "    & = & \\int \\sin^m x (1 - \\sin^2 x)^k  \\color{brown}{d \\sin x}\\\\\n",
    "    & = & \\int u^m (1 - u^2)^k d u\n",
    "  \\end{eqnarray*}\n",
    "- $m$ and $n$ are even: Use the following formula to\n",
    "  simplify the integral:\n",
    "$$ \\text{$\\sin^2 x = \\frac{1 - \\cos 2 x}{2}$ and $\\cos^2 x = \\frac{1 + \\cos\n",
    "     2 x}{2}$} $$\n",
    "  "
   ]
  },
  {
   "cell_type": "markdown",
   "metadata": {
    "collapsed": true
   },
   "source": [
    "Example\n",
    "---\n",
    "Evaluate $\\int \\sin x \\cos^4 x d x$.\n",
    "  \n",
    "  Sol:\n",
    "$$ \\int \\color{brown}{\\sin x} \\cos^4 x \\color{brown}{d x} = - \\int\n",
    "       \\cos^4 x \\color{brown}{d \\cos x} = \\frac{- 1}{5} \\cos^5 x + C $$"
   ]
  },
  {
   "cell_type": "code",
   "execution_count": 4,
   "metadata": {},
   "outputs": [
    {
     "name": "stdout",
     "output_type": "stream",
     "text": [
      "The indefinite integral of  ʃ sin(x)**5*cos(x)**2 dx is \n",
      "     7           5         3   \n",
      "  cos (x)   2⋅cos (x)   cos (x)\n",
      "- ─────── + ───────── - ───────\n",
      "     7          5          3   \n"
     ]
    }
   ],
   "source": [
    "# EXAMPLE\n",
    "Int(sin(x)**5*cos(x)**2)"
   ]
  },
  {
   "cell_type": "code",
   "execution_count": null,
   "metadata": {
    "collapsed": true
   },
   "outputs": [],
   "source": [
    "Int(sin(x)**3*sqrt(cos(x)),0,pi/2)"
   ]
  },
  {
   "cell_type": "markdown",
   "metadata": {},
   "source": [
    "Example\n",
    "---\n",
    "\\begin{eqnarray}\n",
    "\\int_0^{\\pi/2}\\sin^3x\\sqrt{\\cos x}dx&=&\\int_0^{\\pi/2}(1-\\cos^2x)\\sqrt{\\cos x}\\sin xdx\\\\\n",
    "&=& -\\left.\\left(\\frac{2}{3}\\cos^{3/2}x-\\frac{2}{7}\\cos^{7/2}x\\right)\\right|_0^{\\pi/2}=\\frac{8}{21}\n",
    "\\end{eqnarray}"
   ]
  },
  {
   "cell_type": "markdown",
   "metadata": {
    "collapsed": true
   },
   "source": [
    "Example\n",
    "---\n",
    "Evaluate the integral $\\int \\cos^4 x d x$.\n",
    "  \n",
    " Sol:\n",
    "\n",
    "\\begin{eqnarray*}\n",
    "      \\int \\cos^4 x d x & = & \\int \\left( \\frac{1 + \\cos 2 x}{2} \\right)^2 d\n",
    "      x\\\\\n",
    "      & = & \\frac{1}{4} \\int (1 + 2 \\cos 2 x + \\cos^2 2 x) d x\\\\\n",
    "      & = & \\frac{1}{4} \\int \\left( \\frac{3}{2} + 2 \\cos 2 x + \\frac{\\cos 4\n",
    "      x}{2} \\right) d x\\\\\n",
    "      & = & \\frac{3}{8} x + \\frac{1}{4} \\sin 2 x + \\frac{\\sin 4 x}{32} + C\n",
    "\\end{eqnarray*}\n",
    "\n",
    "Here, we use:\n",
    "$$ \\int \\cos a x d x = \\frac{1}{a} \\int \\cos \\color{brown}{a x} d\n",
    "   \\color{brown}{a x} = \\frac{1}{a} \\sin \\color{brown}{a x} + C $$"
   ]
  },
  {
   "cell_type": "code",
   "execution_count": 5,
   "metadata": {},
   "outputs": [
    {
     "name": "stdout",
     "output_type": "stream",
     "text": [
      "The indefinite integral of  ʃ sin(x)**4 dx is \n",
      "         3                            \n",
      "3⋅x   sin (x)⋅cos(x)   3⋅sin(x)⋅cos(x)\n",
      "─── - ────────────── - ───────────────\n",
      " 8          4                 8       \n"
     ]
    }
   ],
   "source": [
    "#Example\n",
    "Int(sin(x)**4)"
   ]
  },
  {
   "cell_type": "markdown",
   "metadata": {
    "collapsed": true
   },
   "source": [
    "The second case is the integral with the integrand being $\\tan^m x \\sec^n x$} then\n",
    "1. If $m$ is odd, say $m = 2 k + 1$,  $k \\in \\mathbb{R}$\n",
    "  \\begin{eqnarray*}\n",
    "    \\int \\tan^m x \\sec^n x d x & = & \\int \\tan^{2 k} x \\sec^{n - 1} x \\sec x\n",
    "    \\tan x d x\\\\\n",
    "    & = & \\int (\\sec^2 x - 1)^k \\sec^{n - 1} x d \\sec x\\\\\n",
    "    & = & \\int (u^2 - 1)^k u^{n - 1} d u\n",
    "  \\end{eqnarray*}\n",
    "  where $u = \\sec x$.\n",
    "- If $n$ is even, say $n = 2 k$,  $k \\in \\mathbb{R}$\n",
    "  \\begin{eqnarray*}\n",
    "    \\int \\tan^m x \\sec^n x d x & = & \\int \\tan^m x \\sec^{2 k - 2} x \\sec^2 x d\n",
    "    x\\\\\n",
    "    & = & \\int \\tan^m x (\\tan^2 x + 1)^{k - 1} d \\tan x\\\\\n",
    "    & = & \\int v^m (v^2 + 1)^{k - 1} d v\n",
    "  \\end{eqnarray*}\n",
    "  where $v = \\tan x$."
   ]
  },
  {
   "cell_type": "code",
   "execution_count": null,
   "metadata": {
    "collapsed": true
   },
   "outputs": [],
   "source": [
    "Int(tan(x)**3*sec(x)**7)"
   ]
  },
  {
   "cell_type": "code",
   "execution_count": null,
   "metadata": {
    "collapsed": true
   },
   "outputs": [],
   "source": [
    "Int(sqrt(tan(x))*sec(x)**6)"
   ]
  },
  {
   "cell_type": "markdown",
   "metadata": {},
   "source": [
    "Example\n",
    "---\n",
    "\\begin{eqnarray}\n",
    "\\int_0^{\\pi/4}\\sec^6x\\sqrt{\\tan x}dx&=&\\int_0^{\\pi/4}(1+\\tan^2x)^2\\sqrt{\\tan x}\\sec^2 xdx\\\\\n",
    "&=& \\left.\\left(\\frac{2}{3}\\tan^{3/2}x+\\frac{4}{7}\\tan^{7/2}x+\\frac{2}{11}\\tan^{11/2}x\\right)\\right|_0^{\\pi/2}=\\frac{328}{231}\n",
    "\\end{eqnarray}"
   ]
  },
  {
   "cell_type": "code",
   "execution_count": 4,
   "metadata": {},
   "outputs": [
    {
     "name": "stdout",
     "output_type": "stream",
     "text": [
      "The indefinite integral of  ʃ cot(x)**5*csc(x)**5 dx is \n",
      " ⎛      4            2        ⎞ \n",
      "-⎝63⋅sin (x) - 90⋅sin (x) + 35⎠ \n",
      "────────────────────────────────\n",
      "                 9              \n",
      "          315⋅sin (x)           \n"
     ]
    }
   ],
   "source": [
    "Int(cot(x)**5*csc(x)**5)"
   ]
  },
  {
   "cell_type": "code",
   "execution_count": 5,
   "metadata": {},
   "outputs": [
    {
     "name": "stdout",
     "output_type": "stream",
     "text": [
      "The indefinite integral of  ʃ tan(x)/sec(x)**2 dx is \n",
      "   2   \n",
      "sin (x)\n",
      "───────\n",
      "   2   \n"
     ]
    }
   ],
   "source": [
    "Int(tan(x)/sec(x)**2)"
   ]
  },
  {
   "cell_type": "markdown",
   "metadata": {},
   "source": [
    "Example\n",
    "---\n",
    "Evaluate $I = \\int \\sec^2 x \\tan^3 x d x$.\n",
    "  \n",
    "  Sol:\n",
    "- Let $\\tan x$ be the variable, then\n",
    "    $$ I = \\int \\tan^3 x d \\tan x = \\frac{1}{4} \\tan^4 x + C $$\n",
    "- Let $\\sec x$ be the variable, then\n",
    "$$ I = \\int \\sec x (\\sec^2 x - 1) d \\sec x = \\frac{1}{4} \\sec^4 x +\n",
    "       \\frac{1}{2} \\sec^2 x + C $$"
   ]
  },
  {
   "cell_type": "markdown",
   "metadata": {},
   "source": [
    "None of above satisfies, then by other techniques.\n",
    "\n",
    "Example\n",
    "---\n",
    "  Consider the integral $\\int \\tan^n x d x$ where $n = 1, 2, 3, \\cdots$.\n",
    "  \n",
    "  Sol:\n",
    "  \n",
    "When $n = 1$,\n",
    "$$ \\int \\tan x d x = \\int \\frac{\\sin x}{\\cos x} d x = - \\ln | \\cos x| + C\n",
    "       = \\ln | \\sec x| + C $$\n",
    "    If $n = 2$, we have\n",
    "$$ \\int \\tan^2 x d x = \\int (\\sec^2 x - 1) d x = \\tan x - x + C $$\n",
    "    The more higher power, $n \\ge 3$, integrals can be derived by the\n",
    "    following recursive formula:\n",
    "\\begin{eqnarray*}\n",
    "      \\int \\tan^n x d x & = & \\int \\tan^{n - 2} x (\\sec^2 x - 1) d x\\\\\n",
    "      & = & \\frac{1}{n - 1} \\tan^{n - 1} x - \\int \\tan^{n - 2} x d x\n",
    "    \\end{eqnarray*}\n",
    "    For $n = 3$, the integral is:\n",
    "$$\\int \\tan^3 x d x = \\frac{1}{2} \\tan^2 x - \\int \\tan x d x =\n",
    "       \\frac{1}{2} \\tan^2 x - \\ln | \\sec x| + C $$\n"
   ]
  },
  {
   "cell_type": "markdown",
   "metadata": {},
   "source": [
    "There is still a exceptional case under these conditions: $n$ being even and\n",
    "$m$ being odd. Certainly, no absolute procedure may be used in such case. But\n",
    "it does not mean no way to solve this type.\n",
    "\n",
    "Example\n",
    "---\n",
    "  Solve $\\int \\frac{\\tan^2 x}{\\sec^{} x} d x$.\n",
    "  \n",
    "  Sol:\n",
    "  \n",
    "\n",
    " This example is just the exceptional case out of control. Consider that\n",
    "    transform the $\\tan x$ and $\\sec x$ into $\\sin x$ and $\\cos x$:\n",
    "\\begin{eqnarray*}\n",
    "      \\int \\frac{\\tan^2 x}{\\sec^{} x} d x & = & \\int \\frac{\\sec^2 x - 1}{\\sec\n",
    "      x} d x\\\\\n",
    "      & = & \\int \\sec x d x - \\int \\cos x d x\\\\\n",
    "      & = & \\ln | \\sec x + \\tan x| - \\sin x + C\n",
    "    \\end{eqnarray*}\n"
   ]
  },
  {
   "cell_type": "markdown",
   "metadata": {},
   "source": [
    "Before the end of this section, we introduce the type of integration of $\\sin\n",
    "a x \\cos b x$ where $a \\neq b$. In such cases, the following rules are needed:\n",
    "\\begin{eqnarray*}\n",
    "  \\sin a x \\cos b x & = & \\frac{1}{2} (\\sin (a + b) x + \\sin (a - b) x)\\\\\n",
    "  \\cos a x \\cos b x & = & \\frac{1}{2} (\\cos (a + b) x + \\cos (a - b) x)\\\\\n",
    "  \\sin a x \\sin b x & = & \\frac{1}{2} (\\cos (a - b) x - \\cos (a + b) x)\n",
    "\\end{eqnarray*}\n"
   ]
  },
  {
   "cell_type": "markdown",
   "metadata": {},
   "source": [
    "Example\n",
    "---\n",
    "  Calculate $\\int \\sin 3 x \\sin 7 x d x$.\n",
    "  \n",
    "  Sol:\n",
    "\\begin{eqnarray*}\n",
    "    \\int \\sin 3 x \\sin 7 x d x & = & \\frac{1}{2} \\int (\\cos (7 - 3) x - \\cos\n",
    "    (7 + 3) x) d x\\\\\n",
    "    & = & \\frac{1}{8} \\sin 4 x - \\frac{1}{20} \\sin 10 x + C\n",
    "  \\end{eqnarray*}\n",
    "  "
   ]
  },
  {
   "cell_type": "code",
   "execution_count": 6,
   "metadata": {},
   "outputs": [
    {
     "name": "stdout",
     "output_type": "stream",
     "text": [
      "The indefinite integral of  ʃ sin(4*x)*cos(5*x) dx is \n",
      "5⋅sin(4⋅x)⋅sin(5⋅x)   4⋅cos(4⋅x)⋅cos(5⋅x)\n",
      "─────────────────── + ───────────────────\n",
      "         9                     9         \n"
     ]
    }
   ],
   "source": [
    "Int(sin(4*x)*cos(5*x))"
   ]
  },
  {
   "cell_type": "markdown",
   "metadata": {},
   "source": [
    "Example\n",
    "---\n",
    "  Calculate the following definite integrals, $a, b \\in \\mathbb{N}$:\n",
    "\n",
    "1. \\begin{eqnarray*}\n",
    "      \\int_0^{2 \\pi} \\cos a x \\cos b x = \\pi \\delta (a - b), &  & \n",
    "    \\end{eqnarray*}\n",
    "    where $\\delta (x) = 1$ if $x = 0$ and $\\delta (x) = 0$ if $x \\neq 0$.\n",
    "\n",
    "**2.** \n",
    "\n",
    "$$ \\begin{array}{lll}\n",
    "         \\int_0^{2 \\pi} \\sin a x \\sin b x = \\pi \\delta (a - b), &  & \n",
    "       \\end{array} $$\n",
    "**3.**\n",
    "\n",
    "$$\\begin{array}{lll}\n",
    "         \\int_0^{2 \\pi} \\sin a x \\cos b x = 0 &  & \n",
    "       \\end{array} $$\n",
    "    \n",
    "    \n",
    "    Sol:\n",
    "1. Suppose that $a \\neq b$, then\n",
    "\n",
    "\\begin{eqnarray*}\n",
    "        \\int_0^{2 \\pi} \\cos a x \\cos b x d x & = & \\int_0^{2 \\pi} \\frac{1}{2}\n",
    "        (\\cos (a + b) x + \\cos (a - b) x) d x\\\\\n",
    "        & = & \\left. \\frac{1}{2 (a + b)} \\sin (a + b) x + \\frac{1}{2 (a - b)}\n",
    "        \\sin (a - b) x \\right|^{2 \\pi}_0\\\\\n",
    "        & = & 0\n",
    "\\end{eqnarray*}\n",
    "\n",
    "**2.** If $a = b$, then\n",
    "  \n",
    "\\begin{eqnarray*}\n",
    "        \\int_0^{2 \\pi} \\cos a x \\cos b x d x & = & \\int_0^{2 \\pi} \\cos^2 a x d\n",
    "        x\\\\\n",
    "        & = & \\int_0^{2 \\pi} \\frac{1 + \\cos (2 a x)}{2} d x\\\\\n",
    "        & = & \\left. \\frac{x}{2} + \\frac{\\sin (2 a x)}{4 a}  \\right|^{2\n",
    "        \\pi}_0\\\\\n",
    "        & = & \\pi\n",
    "      \\end{eqnarray*}\n",
    "and 3) are the same."
   ]
  },
  {
   "cell_type": "markdown",
   "metadata": {},
   "source": [
    "\n",
    "Consider the type of integral of power of sine function:\n",
    "$$ I_n = \\int f^n (x) d x $$\n",
    "\n",
    "Example\n",
    "---\n",
    "  For $n \\ge2$, consider\n",
    "  \\begin{eqnarray*}\n",
    "    I_n & = & \\int^{\\pi / 2}_0 \\sin^n x d x\\\\\n",
    "    & = & \\int^{\\pi / 2}_0 (- \\cos x)' \\cdot \\sin^{n - 1} x d x\\\\\n",
    "    & = & - \\left.\\cos x \\sin^{n - 1} x \\right|^{\\pi / 2}_0 + (n - 1) \\int^{\\pi /\n",
    "    2}_0 \\sin^{n - 2} x \\color{brown}{\\cos^2 x} d x\\\\\n",
    "    & = & 0 + (n - 1) \\int^{\\pi / 2}_0 \\sin^{n - 2} x (1 - \\sin^2 x) d x\\\\\n",
    "    & \\Downarrow & \\\\\n",
    "    I_n & = & \\frac{n - 1}{n} \\int^{\\pi / 2}_0 \\sin^{n - 2} x d x = \\frac{n -\n",
    "    1}{n} I_{n - 2}\n",
    "  \\end{eqnarray*}\n",
    "  This implies\n",
    "1. $\\int^{\\pi / 2}_0 \\sin^{10} x d x = \\frac{9 \\cdot 7 \\cdot 5 \\cdot 3\n",
    "    \\cdot 1}{10 \\cdot 8 \\cdot 6 \\cdot 4 \\cdot 2} \\cdot \\frac{\\pi}{2}$;\n",
    "- $\\int^{\\pi / 2}_0 \\sin^{11} x d x = \\frac{10 \\cdot 8 \\cdot 6 \\cdot 4\n",
    "    \\cdot 2}{11 \\cdot 9 \\cdot 7 \\cdot 5 \\cdot 3} \\cdot 1$."
   ]
  },
  {
   "cell_type": "markdown",
   "metadata": {},
   "source": [
    "Type of $F (a \\sin x + b \\cos x), a \\neq b$\n",
    "---\n",
    "<img src=\"imgs/6/cal5-1.png\" width=25% />\n",
    "\n"
   ]
  },
  {
   "cell_type": "markdown",
   "metadata": {},
   "source": [
    "Scheme\n",
    "---\n",
    "1. take new variable, $\\mathbf{t=\\tan\\frac{x}{2}}$.\n",
    "- $\\sin x=2\\sin(x/2)\\cos(x/2)=2\\tan(x/2)\\cos^2(x/2)=\\mathbf{\\frac{2t}{1+t^2}}$,\n",
    "- $\\cos x=2\\cos^2(x/2)-1=\\mathbf{\\frac{1-t^2}{1+t^2}}$,\n",
    "- $x=2\\tan^{-1}t\\Longrightarrow \\mathbf{dx=\\frac{2dt}{1+t^2}}$.\n"
   ]
  },
  {
   "cell_type": "markdown",
   "metadata": {},
   "source": [
    "Example\n",
    "---\n",
    " By the help of $t = \\tan \\frac{x}{2}$, we have:\n",
    "  \\begin{eqnarray*}\n",
    "    \\int \\frac{d x}{4 \\sin x + 3 \\cos x} & = & \\int \\frac{1}{4 \\frac{2 t}{1 +\n",
    "    t^2} + 3 \\frac{1 - t^2}{1 + t^2}} \\cdot \\frac{2 d t}{1 + t^2}\\\\\n",
    "    & = & \\int \\frac{2 d t}{3 + 8 t - 3 t^2}\\\\\n",
    "    & = & \\int \\frac{1}{5} \\left( \\frac{3}{3 t + 1} - \\frac{1}{t - 3} \\right)\n",
    "    d t\\\\\n",
    "    & = & \\frac{1}{5} (\\ln |3t + 1| - \\ln |t - 3|) + C\\\\\n",
    "    & = & \\frac{1}{5} \\ln \\left| \\frac{3 t + 1}{t - 3} \\right| + C\\\\\n",
    "    & = & \\frac{1}{5} \\ln \\left| \\frac{3 \\tan \\frac{x}{2} + 1}{\\tan\n",
    "    \\frac{x}{2} - 3} \\right| + C\\\\\n",
    "    &  & \n",
    "  \\end{eqnarray*}\n",
    "  "
   ]
  },
  {
   "cell_type": "code",
   "execution_count": 58,
   "metadata": {},
   "outputs": [
    {
     "name": "stdout",
     "output_type": "stream",
     "text": [
      "The indefinite integral of  ʃ 1/(4*sin(x) + 3*cos(x)) dx is \n",
      "     ⎛   ⎛x⎞    ⎞      ⎛   ⎛x⎞   1⎞\n",
      "  log⎜tan⎜─⎟ - 3⎟   log⎜tan⎜─⎟ + ─⎟\n",
      "     ⎝   ⎝2⎠    ⎠      ⎝   ⎝2⎠   3⎠\n",
      "- ─────────────── + ───────────────\n",
      "         5                 5       \n"
     ]
    }
   ],
   "source": [
    "Int(1/(4*sin(x)+3*cos(x)))"
   ]
  },
  {
   "cell_type": "markdown",
   "metadata": {},
   "source": [
    "P.623\n",
    "---\n"
   ]
  },
  {
   "cell_type": "code",
   "execution_count": 61,
   "metadata": {},
   "outputs": [
    {
     "name": "stdout",
     "output_type": "stream",
     "text": [
      "The indefinite integral of  ʃ cos(x)**3 dx is \n",
      "     3            \n",
      "  sin (x)         \n",
      "- ─────── + sin(x)\n",
      "     3            \n"
     ]
    }
   ],
   "source": [
    "#6\n",
    "Int(cos(x)**3)"
   ]
  },
  {
   "cell_type": "code",
   "execution_count": 62,
   "metadata": {},
   "outputs": [
    {
     "name": "stdout",
     "output_type": "stream",
     "text": [
      "The indefinite integral of  ʃ sin(2*x)**2*cos(2*x)**4 dx is \n",
      "                 5                    3                         \n",
      "x    sin(2⋅x)⋅cos (2⋅x)   sin(2⋅x)⋅cos (2⋅x)   sin(2⋅x)⋅cos(2⋅x)\n",
      "── - ────────────────── + ────────────────── + ─────────────────\n",
      "16           12                   48                   32       \n"
     ]
    }
   ],
   "source": [
    "# 10\n",
    "Int(sin(2*x)**2*cos(2*x)**4)"
   ]
  },
  {
   "cell_type": "code",
   "execution_count": 63,
   "metadata": {},
   "outputs": [
    {
     "name": "stdout",
     "output_type": "stream",
     "text": [
      "The indefinite integral of  ʃ x*cos(x)**2 dx is \n",
      " 2    2       2    2                           2   \n",
      "x ⋅sin (x)   x ⋅cos (x)   x⋅sin(x)⋅cos(x)   cos (x)\n",
      "────────── + ────────── + ─────────────── + ───────\n",
      "    4            4               2             4   \n"
     ]
    }
   ],
   "source": [
    "#18\n",
    "Int(x*cos(x)**2)"
   ]
  },
  {
   "cell_type": "code",
   "execution_count": 64,
   "metadata": {},
   "outputs": [
    {
     "name": "stdout",
     "output_type": "stream",
     "text": [
      "The indefinite integral of  ʃ -tan(x)**3 dx is \n",
      "     ⎛   2       ⎞                \n",
      "  log⎝sin (x) - 1⎠         1      \n",
      "- ──────────────── + ─────────────\n",
      "         2                2       \n",
      "                     2⋅sin (x) - 2\n"
     ]
    }
   ],
   "source": [
    "#20\n",
    "Int(tan(pi-x)**3)"
   ]
  },
  {
   "cell_type": "code",
   "execution_count": 65,
   "metadata": {},
   "outputs": [
    {
     "name": "stdout",
     "output_type": "stream",
     "text": [
      "The indefinite integral of  ʃ tan(x)**5*sec(x)**3 dx is \n",
      "      4            2        \n",
      "35⋅cos (x) - 42⋅cos (x) + 15\n",
      "────────────────────────────\n",
      "               7            \n",
      "        105⋅cos (x)         \n"
     ]
    }
   ],
   "source": [
    "#22\n",
    "Int(tan(x)**5*sec(x)**3)\n"
   ]
  },
  {
   "cell_type": "code",
   "execution_count": 66,
   "metadata": {},
   "outputs": [
    {
     "name": "stdout",
     "output_type": "stream",
     "text": [
      "                           pi/4\n",
      "The definite integral of  ʃ tan(x)**2*sec(x)**2 dx is \n",
      "                           0\n",
      "1/3\n"
     ]
    }
   ],
   "source": [
    "##24\n",
    "Int(tan(x)**2*sec(x)**2,0,pi/4)"
   ]
  },
  {
   "cell_type": "code",
   "execution_count": null,
   "metadata": {
    "collapsed": true
   },
   "outputs": [],
   "source": [
    "##38\n",
    "Int((1+cot(x))**2*csc(x))"
   ]
  },
  {
   "cell_type": "code",
   "execution_count": 72,
   "metadata": {},
   "outputs": [
    {
     "name": "stdout",
     "output_type": "stream",
     "text": [
      "The indefinite integral of  ʃ (sin(x) + cos(x))/sin(x)**3 dx is \n",
      "     2⎛x⎞      ⎛x⎞                       \n",
      "  tan ⎜─⎟   tan⎜─⎟                       \n",
      "      ⎝2⎠      ⎝2⎠      1           1    \n",
      "- ─────── + ────── - ──────── - ─────────\n",
      "     8        2           ⎛x⎞        2⎛x⎞\n",
      "                     2⋅tan⎜─⎟   8⋅tan ⎜─⎟\n",
      "                          ⎝2⎠         ⎝2⎠\n"
     ]
    }
   ],
   "source": [
    "Int((sin(x)+cos(x))/sin(x)**3)"
   ]
  },
  {
   "cell_type": "code",
   "execution_count": 69,
   "metadata": {},
   "outputs": [
    {
     "name": "stdout",
     "output_type": "stream",
     "text": [
      "The indefinite integral of  ʃ sin(3*x)*sin(4*x) dx is \n",
      "  4⋅sin(3⋅x)⋅cos(4⋅x)   3⋅sin(4⋅x)⋅cos(3⋅x)\n",
      "- ─────────────────── + ───────────────────\n",
      "           7                     7         \n"
     ]
    }
   ],
   "source": [
    "#40\n",
    "Int(sin(3*x)*sin(4*x))"
   ]
  },
  {
   "cell_type": "code",
   "execution_count": 70,
   "metadata": {},
   "outputs": [
    {
     "name": "stdout",
     "output_type": "stream",
     "text": [
      "The indefinite integral of  ʃ cos(2*x)/(sin(x) + cos(x)) dx is \n",
      "⌠                   \n",
      "⎮     cos(2⋅x)      \n",
      "⎮ ─────────────── dx\n",
      "⎮ sin(x) + cos(x)   \n",
      "⌡                   \n"
     ]
    }
   ],
   "source": [
    "#48, cos^2=(cos x+sin(x))(cos(x)-sin(x))\n",
    "Int(cos(2*x)/(cos(x)+sin(x)))"
   ]
  },
  {
   "cell_type": "code",
   "execution_count": null,
   "metadata": {
    "collapsed": true
   },
   "outputs": [],
   "source": []
  },
  {
   "cell_type": "markdown",
   "metadata": {},
   "source": [
    "Trigonometric Substitution\n",
    "---\n",
    "1793"
   ]
  },
  {
   "cell_type": "markdown",
   "metadata": {},
   "source": [
    "Sometimes, the integrand of functions based on quadratic function can be\n",
    "transformed into function of trigonometric functions and integrated out by\n",
    "trigonometric integration technique introduced above.\n",
    "\n",
    "With suitable trigonometric functions substitution, $f (a x^2 + b x + c)$ can\n",
    "be simplified into function concerned with trigonometric functions.\n",
    "\n",
    "1. Type of $a x^2 + b x + c \\rightarrow a^2 - u^2$: let $u = a \\sin \\theta$.\n",
    "- Type of $a x^2 + b x + c \\rightarrow a^2 + u^2$: let $u = a \\tan\\theta$.\n",
    "- Type of $a x^2 + b x + c \\rightarrow u^2 - a^2$: let $u = a \\sec \\theta$.\n",
    "\n",
    "with the following transformation respectively:\n",
    "<img src=\"imgs/6/cal5-3.png\" width=50% />"
   ]
  },
  {
   "cell_type": "markdown",
   "metadata": {
    "collapsed": true
   },
   "source": [
    "Example\n",
    "---\n",
    "1. $a^2 - x^2 \\Rightarrow x = a \\sin \\theta$ and $d x = a \\cos \\theta d \\theta$\n",
    "    \n",
    "\\begin{eqnarray*}\n",
    "      \\int \\frac{d x}{(9 - x^2)^{3 / 2}} & = & \\int \\frac{3 \\cos \\theta d\n",
    "      \\theta}{(9 - (3 \\sin \\theta)^2)^{3 / 2}}\\\\\n",
    "      & = & \\frac{1}{9} \\int \\frac{d \\theta}{\\cos^2 \\theta}\\\\\n",
    "      & = & \\frac{1}{9} \\tan \\theta + C\\\\\n",
    "      & = & \\frac{x}{9 \\sqrt{9 - x^2}} + C\n",
    "\\end{eqnarray*}\n",
    "\n",
    "**2.** $a^2 + x^2 \\Rightarrow x = a \\tan \\theta$ and $d x = a \\sec^2 \\theta d \\theta$\n",
    "    \n",
    "\\begin{eqnarray*}\n",
    "      \\int \\frac{d x}{1 + x^2} & = & \\int \\frac{\\sec^2 \\theta d \\theta}{\\sec^2 \\theta}\\\\\n",
    "      & = & \\int 1 d \\theta\\\\\n",
    "      & = & \\theta + C = \\tan^{- 1} x + C\n",
    "\\end{eqnarray*}\n",
    "\n",
    "**3.** $x^2 - a^2 \\Rightarrow x = a \\sec \\theta$ and $d x = a \\sec \\theta \\tan \\theta d \\theta$\n",
    "    \n",
    "\\begin{eqnarray*}\n",
    "      \\int \\frac{d x}{x^2 - 4} & = & \\int \\frac{2 \\sec \\theta \\tan \\theta d \\theta}{4 \\tan^2 \\theta}\\\\\n",
    "      & = & \\int \\frac{d \\theta}{2 \\sin \\theta}\\\\\n",
    "      & = & - \\frac{\\ln | \\csc \\theta + \\cot \\theta |}{2} + C\\\\\n",
    "      & = & - \\frac{\\ln | \\frac{x}{\\sqrt{x^2 - 4}} + \\frac{2}{\\sqrt{x^2 - 4}} |}{2} + C\\\\\n",
    "      & = & - \\frac{1}{2} \\left( \\ln |x - 2| - \\ln \\sqrt{x^2 - 4} \\right) +C\\\\\n",
    "      & = & \\frac{\\ln | x - 2|}{4} - \\frac{\\ln |x + 2|}{4} + C\n",
    "\\end{eqnarray*}"
   ]
  },
  {
   "cell_type": "code",
   "execution_count": 8,
   "metadata": {},
   "outputs": [
    {
     "name": "stdout",
     "output_type": "stream",
     "text": [
      "The indefinite integral of  ʃ x**2/sqrt(-x**2 + 9) dx is \n",
      "       __________         ⎛x⎞\n",
      "      ╱    2        9⋅asin⎜─⎟\n",
      "  x⋅╲╱  - x  + 9          ⎝3⎠\n",
      "- ─────────────── + ─────────\n",
      "         2              2    \n"
     ]
    }
   ],
   "source": [
    "Int(x**2/sqrt(9-x**2))"
   ]
  },
  {
   "cell_type": "code",
   "execution_count": 7,
   "metadata": {},
   "outputs": [
    {
     "name": "stdout",
     "output_type": "stream",
     "text": [
      "The indefinite integral of  ʃ sqrt(x**2 + 1) dx is \n",
      "     ________           \n",
      "    ╱  2                \n",
      "x⋅╲╱  x  + 1    asinh(x)\n",
      "───────────── + ────────\n",
      "      2            2    \n"
     ]
    }
   ],
   "source": [
    "Int(sqrt(1+x**2))"
   ]
  },
  {
   "cell_type": "code",
   "execution_count": 9,
   "metadata": {},
   "outputs": [
    {
     "name": "stdout",
     "output_type": "stream",
     "text": [
      "The indefinite integral of  ʃ (x**2 + 4)**(3/2) dx is \n",
      "      ________          ________             \n",
      " 3   ╱  2              ╱  2                  \n",
      "x ⋅╲╱  x  + 4    5⋅x⋅╲╱  x  + 4           ⎛x⎞\n",
      "────────────── + ─────────────── + 6⋅asinh⎜─⎟\n",
      "      4                 2                 ⎝2⎠\n"
     ]
    }
   ],
   "source": [
    "Int((sqrt(4+x**2))**3)"
   ]
  },
  {
   "cell_type": "code",
   "execution_count": 12,
   "metadata": {
    "scrolled": true
   },
   "outputs": [
    {
     "name": "stdout",
     "output_type": "stream",
     "text": [
      "The indefinite integral of  ʃ sqrt(x**2 - 16)/x dx is \n",
      "⎧       ⅈ⋅x                  ⎛4⎞         16⋅ⅈ               │1 │    \n",
      "⎪- ────────────── - 4⋅ⅈ⋅acosh⎜─⎟ + ────────────────  for 16⋅│──│ > 1\n",
      "⎪       _________            ⎝x⎠          _________         │ 2│    \n",
      "⎪      ╱      16                         ╱      16          │x │    \n",
      "⎪     ╱  -1 + ──                   x⋅   ╱  -1 + ──                  \n",
      "⎪    ╱         2                       ╱         2                  \n",
      "⎪  ╲╱         x                      ╲╱         x                   \n",
      "⎨                                                                   \n",
      "⎪         x               ⎛4⎞          16                           \n",
      "⎪   ───────────── + 4⋅asin⎜─⎟ - ───────────────         otherwise   \n",
      "⎪        ________         ⎝x⎠          ________                     \n",
      "⎪       ╱     16                      ╱     16                      \n",
      "⎪      ╱  1 - ──                x⋅   ╱  1 - ──                      \n",
      "⎪     ╱        2                    ╱        2                      \n",
      "⎩   ╲╱        x                   ╲╱        x                       \n"
     ]
    }
   ],
   "source": [
    "Int(sqrt(x**2-16)/x)"
   ]
  },
  {
   "cell_type": "markdown",
   "metadata": {},
   "source": [
    "Example\n",
    "---\n",
    "$$\\int\\frac{dx}{\\sqrt{x^2+4x+7}}=\\int\\frac{du}{\\sqrt{u^2+3}}=\\left|\\ln\\frac{\\sqrt{u^2+3}}{\\sqrt3}+\\frac{u}{\\sqrt 3}\\right|+C$$"
   ]
  },
  {
   "cell_type": "code",
   "execution_count": 15,
   "metadata": {},
   "outputs": [
    {
     "name": "stdout",
     "output_type": "stream",
     "text": [
      "The indefinite integral of  ʃ 1/sqrt(x**2 + 3) dx is \n",
      "     ⎛√3⋅x⎞\n",
      "asinh⎜────⎟\n",
      "     ⎝ 3  ⎠\n"
     ]
    }
   ],
   "source": [
    "Int(1/sqrt(x**2+3))"
   ]
  },
  {
   "cell_type": "markdown",
   "metadata": {},
   "source": [
    "Example\n",
    "---\n",
    " Evaluate the integral:\n",
    "  \n",
    "  \\begin{eqnarray*}\n",
    "    \\int^{\\infty}_0 \\frac{d x}{1 + x^2} & = & \\left. \\tan^{- 1} x\\right|^{\\infty}_0\\\\\n",
    "    & = & \\tan^{- 1} \\infty - \\tan^{- 1} 0\\\\\n",
    "    & = & \\frac{\\pi}{2}\n",
    "  \\end{eqnarray*}"
   ]
  },
  {
   "cell_type": "markdown",
   "metadata": {},
   "source": [
    "Example\n",
    "---\n",
    "Take  $x = 2 \\sin t$:\n",
    "\n",
    "\\begin{eqnarray*}\n",
    "    \\int \\frac{d x}{2 + \\sqrt{4 - x^2}} & = & \\int \\frac{2 \\cos t d t}{2 +\n",
    "    \\sqrt{4 - 4 \\sin^2 t}}\\\\\n",
    "    & = & \\int \\frac{\\cos t d t}{1 + \\cos t}\\\\\n",
    "    & = & \\int \\left( 1 - \\frac{1}{1 + \\cos t} \\right) d t\\\\\n",
    "    \\left( \\cos \\frac{t}{2} = \\sqrt{\\frac{1 + \\cos t}{2}} \\right) & = & t -\n",
    "    \\int \\frac{d t}{2 \\cos^2 \\frac{t}{2}}\\\\\n",
    "    & = & t - \\frac{1}{2} \\int \\sec^2 \\frac{t}{2} d t\\\\\n",
    "    & = & t - \\tan \\frac{t}{2} + C\n",
    "\\end{eqnarray*}"
   ]
  },
  {
   "cell_type": "markdown",
   "metadata": {},
   "source": [
    "Example\n",
    "---\n",
    " $(a^2 - x^2$ and $a^2 + x^2)$\n",
    "\n",
    "\\begin{eqnarray*}\n",
    "    \\int \\frac{d x}{(4 - x^2) \\sqrt{4 + x^2}} & = & \\int \\frac{d (2 \\tan\n",
    "    \\theta)}{(4 - 4 \\tan^2 \\theta) \\sqrt{4 + 4 \\tan^2 \\theta}} \n",
    "    (\\color{brown}{x = 2 \\tan \\theta})\\\\\n",
    "    & = & \\frac{1}{4} \\int \\frac{\\sec^{} \\theta}{1 - \\tan^2 \\theta} d\n",
    "    \\theta\\\\\n",
    "    & = & \\frac{1}{4} \\int \\frac{\\cos \\theta}{\\cos^2 \\theta - \\sin^2 \\theta}\n",
    "    d \\theta\\\\\n",
    "    & = & \\frac{1}{4} \\int \\frac{d t}{1 - 2 t^2}  (\\color{brown}{t = \\sin\n",
    "    \\theta})\\\\\n",
    "    & = & \\frac{1}{8} \\int \\left( \\frac{1 / \\sqrt{2}}{t + \\frac{1}{\\sqrt{2}}}\n",
    "    - \\frac{1 / \\sqrt{2}}{t - \\frac{1}{\\sqrt{2}}} \\right) d t\\\\\n",
    "    & = & \\frac{1}{8 \\sqrt{2}} \\ln \\frac{t + \\frac{1}{\\sqrt{2}}}{t -\n",
    "    \\frac{1}{\\sqrt{2}}} + C\\\\\n",
    "    & = & \\frac{1}{8 \\sqrt{2}} \\ln \\frac{\\sin \\theta +\n",
    "    \\frac{1}{\\sqrt{2}}}{\\sin \\theta - \\frac{1}{\\sqrt{2}}} + C\\\\\n",
    "    & = & \\frac{1}{8 \\sqrt{2}} \\ln \\frac{\\frac{x}{\\sqrt{4 + x^2}} +\n",
    "    \\frac{1}{\\sqrt{2}}}{\\frac{x}{\\sqrt{4 + x^2}} - \\frac{1}{\\sqrt{2}}} + C\n",
    "\\end{eqnarray*}"
   ]
  },
  {
   "cell_type": "markdown",
   "metadata": {},
   "source": []
  },
  {
   "cell_type": "markdown",
   "metadata": {
    "collapsed": true
   },
   "source": [
    "P.631, Exercises\n",
    "---"
   ]
  },
  {
   "cell_type": "code",
   "execution_count": 17,
   "metadata": {},
   "outputs": [
    {
     "name": "stdout",
     "output_type": "stream",
     "text": [
      "The indefinite integral of  ʃ sqrt(-x**2 + 4)/x**2 dx is \n",
      "               __________\n",
      "              ╱    2     \n",
      "      ⎛x⎞   ╲╱  - x  + 4 \n",
      "- asin⎜─⎟ - ─────────────\n",
      "      ⎝2⎠         x      \n"
     ]
    }
   ],
   "source": [
    "#4\n",
    "Int(sqrt(4-x**2)/x**2)"
   ]
  },
  {
   "cell_type": "code",
   "execution_count": 18,
   "metadata": {},
   "outputs": [
    {
     "name": "stdout",
     "output_type": "stream",
     "text": [
      "The indefinite integral of  ʃ x**3*sqrt(x**2 + 1) dx is \n",
      "      ________         ________        ________\n",
      " 4   ╱  2         2   ╱  2            ╱  2     \n",
      "x ⋅╲╱  x  + 1    x ⋅╲╱  x  + 1    2⋅╲╱  x  + 1 \n",
      "────────────── + ────────────── - ─────────────\n",
      "      5                15               15     \n"
     ]
    }
   ],
   "source": [
    "#6\n",
    "Int(x**3*sqrt(1+x**2))"
   ]
  },
  {
   "cell_type": "code",
   "execution_count": 20,
   "metadata": {},
   "outputs": [
    {
     "name": "stdout",
     "output_type": "stream",
     "text": [
      "The indefinite integral of  ʃ 1/(x**3*sqrt(x**2 - 4)) dx is \n",
      "⎧                              _________                           \n",
      "⎪                             ╱      4                             \n",
      "⎪                 ⎛2⎞   ⅈ⋅   ╱  -1 + ──                            \n",
      "⎪          ⅈ⋅acosh⎜─⎟       ╱         2                            \n",
      "⎪                 ⎝x⎠     ╲╱         x                     │1 │    \n",
      "⎪          ────────── + ────────────────             for 4⋅│──│ > 1\n",
      "⎪              16             8⋅x                          │ 2│    \n",
      "⎪                                                          │x │    \n",
      "⎪                                                                  \n",
      "⎨      ⎛2⎞                                                         \n",
      "⎪  asin⎜─⎟                                                         \n",
      "⎪      ⎝x⎠           1                   1                         \n",
      "⎪- ─────── + ───────────────── - ──────────────────    otherwise   \n",
      "⎪     16              ________             ________                \n",
      "⎪                    ╱     4        3     ╱     4                  \n",
      "⎪            8⋅x⋅   ╱  1 - ──    2⋅x ⋅   ╱  1 - ──                 \n",
      "⎪                  ╱        2           ╱        2                 \n",
      "⎪                ╲╱        x          ╲╱        x                  \n",
      "⎩                                                                  \n"
     ]
    }
   ],
   "source": [
    "#8\n",
    "Int(1/x**3/sqrt(x**2-4))"
   ]
  },
  {
   "cell_type": "markdown",
   "metadata": {},
   "source": [
    "Explicitly,\n",
    "\n",
    "\\begin{eqnarray}\n",
    "\\int\\frac{dx}{x^3\\sqrt{x^2-4}}&=&\\int\\frac{\\sec t\\tan tdt}{\\sec^3t\\tan t}\\\\\n",
    "     &=&\\int{\\cos^2t}dt\\\\\n",
    "     &=&\\int\\frac{1+\\cos2t}{2}dt=\\frac{2t+\\sin2t}{4}+C\n",
    "\\end{eqnarray}"
   ]
  },
  {
   "cell_type": "code",
   "execution_count": 22,
   "metadata": {},
   "outputs": [
    {
     "name": "stdout",
     "output_type": "stream",
     "text": [
      "The indefinite integral of  ʃ (2*x + 3)/sqrt(-x**2 + 1) dx is \n",
      "       __________            \n",
      "      ╱    2                 \n",
      "- 2⋅╲╱  - x  + 1  + 3⋅asin(x)\n"
     ]
    }
   ],
   "source": [
    "#24\n",
    "Int((2*x+3)/sqrt(1-x**2))"
   ]
  },
  {
   "cell_type": "code",
   "execution_count": 24,
   "metadata": {},
   "outputs": [
    {
     "name": "stdout",
     "output_type": "stream",
     "text": [
      "The indefinite integral of  ʃ sqrt(exp(x) + 1)*exp(x) dx is \n",
      "     ________           ________\n",
      "    ╱  x       x       ╱  x     \n",
      "2⋅╲╱  ℯ  + 1 ⋅ℯ    2⋅╲╱  ℯ  + 1 \n",
      "──────────────── + ─────────────\n",
      "       3                 3      \n"
     ]
    }
   ],
   "source": [
    "#26\n",
    "Int(exp(x)*sqrt(exp(x)+1))"
   ]
  },
  {
   "cell_type": "code",
   "execution_count": 25,
   "metadata": {},
   "outputs": [
    {
     "name": "stdout",
     "output_type": "stream",
     "text": [
      "The indefinite integral of  ʃ x**2/sqrt(-x**2 + 4*x) dx is \n",
      "⌠                  \n",
      "⎮        2         \n",
      "⎮       x          \n",
      "⎮ ────────────── dx\n",
      "⎮   ____________   \n",
      "⎮ ╲╱ -x⋅(x - 4)    \n",
      "⌡                  \n"
     ]
    }
   ],
   "source": [
    "#30\n",
    "Int(x**2/sqrt(4*x-x**2))"
   ]
  },
  {
   "cell_type": "markdown",
   "metadata": {},
   "source": [
    "Sympy could not *solve* this integral directly. Let us  use  change the variable, $u=x-2$, and re-run integration:\n",
    "\n",
    "\\begin{eqnarray}\n",
    "u&=&x-2\\\\\n",
    "du&=&dx\\\\\n",
    "\\frac{x^2}{\\sqrt{4x-x^2}}&=&\\frac{(u+2)^2}{\\sqrt{4-u^2}}\n",
    "\\end{eqnarray}"
   ]
  },
  {
   "cell_type": "code",
   "execution_count": 26,
   "metadata": {},
   "outputs": [
    {
     "name": "stdout",
     "output_type": "stream",
     "text": [
      "The indefinite integral of  ʃ (x + 2)**2/sqrt(-x**2 + 4) dx is \n",
      "       __________                              \n",
      "      ╱    2             __________            \n",
      "  x⋅╲╱  - x  + 4        ╱    2              ⎛x⎞\n",
      "- ─────────────── - 4⋅╲╱  - x  + 4  + 6⋅asin⎜─⎟\n",
      "         2                                  ⎝2⎠\n"
     ]
    }
   ],
   "source": [
    "# x=t-2\n",
    "Int((x+2)**2/sqrt(4-x**2))"
   ]
  },
  {
   "cell_type": "markdown",
   "metadata": {},
   "source": [
    "7.4 Partial Fraction\n",
    "---\n"
   ]
  },
  {
   "cell_type": "markdown",
   "metadata": {},
   "source": [
    "The form of partial fraction functions is in form as follows:\n",
    "$$\\frac{P_n(x)}{Q_m(x)}$$\n",
    "where $P_n(x)$ and $Q_m(x)$ are polynomials of $n,m$ respectively.\n",
    "\n",
    "Since improper partial fraction can be represented as sum of polynomial and proper rational function, it is only to consider how to manipulate the integration on proper rational function if want to manipulate integation over partial fraction.\n",
    "\n",
    "Rules\n",
    "---\n",
    "1. \n",
    "$$\\mathbf{\\int\\frac{dx}{(x-a)^n}=\\cases{\\frac{(x-a)^{-n+1}}{-n+1}+C, &if $n\\ne1$\\\\\n",
    "                                   \\ln |x-a|+C, &if $n=1$}}$$\n",
    "\n",
    "2. $ax^2+2bx+c=a(x+b/a)^2+c-b^2/a$ and use **trigonometric substitution** to take integration over it;\n",
    "\n",
    "3. \n",
    "\n",
    "$$\\mathbf{\\frac{1}{(x-a)^m(ax^2+2bx+c)^n}=\\frac{A_1}{(x-a)}+\\cdots+\\frac{A_m}{(x-a)^m}\n",
    "                                  +\\frac{B_1x+C_1}{(ax^2+2bx+c)}+\\cdots+\\frac{B_nx+C_n}{(ax^2+2bx+c)^n}}$$\n"
   ]
  },
  {
   "cell_type": "code",
   "execution_count": 28,
   "metadata": {},
   "outputs": [
    {
     "name": "stdout",
     "output_type": "stream",
     "text": [
      "f= (4*x**2 - 4*x + 6)/(x**3 - x**2 - 6*x)  =  3/(x + 2) + 2/(x - 3) - 1/x\n"
     ]
    }
   ],
   "source": [
    "\n",
    "f=(4*x**2-4*x+6)/(x**3-x**2-6*x)\n",
    "print('f=',f,' = ',apart(f))"
   ]
  },
  {
   "cell_type": "code",
   "execution_count": 29,
   "metadata": {},
   "outputs": [
    {
     "name": "stdout",
     "output_type": "stream",
     "text": [
      "The indefinite integral of  ʃ (4*x**2 - 4*x + 6)/(x**3 - x**2 - 6*x) dx is \n",
      "-log(x) + 2⋅log(x - 3) + 3⋅log(x + 2)\n"
     ]
    }
   ],
   "source": [
    "Int(f)"
   ]
  },
  {
   "cell_type": "markdown",
   "metadata": {},
   "source": [
    "Example\n",
    "---\n",
    "$$\\mathbf{\\int\\frac{4x^3+x}{2x^2+x-3}dx}$$\n",
    "\n",
    "1. \n",
    "$$\\mathbf{\\frac{4x^3+x}{2x^2+x-3}=2x-1+\\frac{8x-3}{2x^2+x-3}}$$\n",
    "By polynomial quotient rule:\n",
    "<b><big><big>\n",
    "<table>\n",
    "<tr>\n",
    "<td></td><td></td><td><font color=\"brown\">2x</font></td><td><font color=\"red\">-1</font></td><td></td><td></td>\n",
    "</tr>\n",
    "<tr>\n",
    "<td></td><td colspan=5>-----------------------------</td>\n",
    "</tr>\n",
    "<tr>\n",
    " <td>2x<sup>2</sup>+x-3</td>  \n",
    " <td> ) </td>  \n",
    " <td>4x<sup>3</sup></td>\n",
    " <td>+ 0 x<sup>2</sup></td>\n",
    " <td>+ x</td>\n",
    "</tr>\n",
    "<tr>\n",
    " <td></td>  \n",
    " <td></td> \n",
    " <td style=\"color:brown\">4x<sup>3</sup></td>\n",
    " <td style=\"color:brown\">+ 2 x<sup>2</sup></td>\n",
    " <td style=\"color:brown\">-6 x</td>\n",
    "</tr>\n",
    "<tr>\n",
    "<td></td><td></td><td colspan=4>--------------------------</td>\n",
    "</tr>\n",
    "<tr>\n",
    " <td></td>  \n",
    " <td></td>  \n",
    " <td></td>\n",
    " <td>- 2 x<sup>2</sup></td>\n",
    " <td>7 x</td>\n",
    "</tr>\n",
    "<tr>\n",
    " <td></td>  \n",
    " <td></td>  \n",
    " <td></td>\n",
    " <td style=\"color:red\">- 2 x<sup>2</sup></td>\n",
    " <td style=\"color:red\">- x</td>\n",
    " <td style=\"color:red\">3</td>\n",
    "</tr>\n",
    "<tr>\n",
    "<td></td><td></td><td colspan=4>--------------------------</td>\n",
    "</tr>\n",
    "<tr>\n",
    " <td></td>  \n",
    " <td></td>  \n",
    " <td></td>\n",
    " <td></td>\n",
    " <td>8x</td>\n",
    " <td>-3</td>\n",
    "</tr>\n",
    "<tr>\n",
    "</table>\n",
    "</big></big></b>"
   ]
  },
  {
   "cell_type": "markdown",
   "metadata": {},
   "source": [
    "**2.**\n",
    "\n",
    "$$\\mathbf{\\frac{8x-3}{2x^2+x-3}=\\frac{8x-3}{(2x+3)(x-1)}=\\frac{6}{2x+3}+\\frac{1}{x-1}}$$"
   ]
  },
  {
   "cell_type": "markdown",
   "metadata": {},
   "source": [
    "**3.**\n",
    "\\begin{eqnarray}\n",
    "\\mathbf{\\int\\frac{4x^3+x}{2x^2+x-3}dx}&=&\\int\\left(2x-1+\\frac{8x-3}{2x^2+x-3}\\right)dx\\\\\n",
    "&=&\\int\\left(2x-1+\\frac{6}{2x+3}+\\frac{1}{x-1}\\right)dx\\\\\n",
    "&=&\\mathbf{x^2-x+\\ln|x-1|+3\\ln|2x+3|+C}\n",
    "\\end{eqnarray}"
   ]
  },
  {
   "cell_type": "code",
   "execution_count": 49,
   "metadata": {
    "collapsed": true
   },
   "outputs": [],
   "source": [
    "def FracInt(f,g):\n",
    "    func=\"(%s)/(%s)\" %(f,g)\n",
    "    print(\"1. Integrand: (%s)/(%s) could be expressed as folllows:\" %(f,g))\n",
    "    pf=apart(f/g)\n",
    "    pprint(pf)\n",
    "    print(\"2.\")\n",
    "    Int(f/g)"
   ]
  },
  {
   "cell_type": "code",
   "execution_count": 50,
   "metadata": {},
   "outputs": [
    {
     "name": "stdout",
     "output_type": "stream",
     "text": [
      "1. Integrand: (4*x**3 + x)/(2*x**2 + x - 3) could be expressed as folllows:\n",
      "             6        1  \n",
      "2⋅x - 1 + ─────── + ─────\n",
      "          2⋅x + 3   x - 1\n",
      "2.\n",
      "The indefinite integral of  ʃ (4*x**3 + x)/(2*x**2 + x - 3) dx is \n",
      " 2                                  \n",
      "x  - x + log(x - 1) + 3⋅log(x + 3/2)\n"
     ]
    }
   ],
   "source": [
    "FracInt(4*x**3+x,2*x**2+x-3)"
   ]
  },
  {
   "cell_type": "code",
   "execution_count": 32,
   "metadata": {},
   "outputs": [
    {
     "name": "stdout",
     "output_type": "stream",
     "text": [
      "f= (4*x**3 + x)/(2*x**2 + x - 3)  =  2*x - 1 + 6/(2*x + 3) + 1/(x - 1)\n",
      "The indefinite integral of  ʃ (4*x**3 + x)/(2*x**2 + x - 3) dx is \n",
      " 2                                  \n",
      "x  - x + log(x - 1) + 3⋅log(x + 3/2)\n"
     ]
    }
   ],
   "source": [
    "f=(4*x**3+x)/(2*x**2+x-3)\n",
    "print('f=',f,' = ',apart(f))\n",
    "Int(f)"
   ]
  },
  {
   "cell_type": "code",
   "execution_count": 34,
   "metadata": {},
   "outputs": [
    {
     "name": "stdout",
     "output_type": "stream",
     "text": [
      "f= (2*x**2 + 3*x + 7)/(x**3 + x**2 - x - 1)  =  -1/(x + 1) - 3/(x + 1)**2 + 3/(x - 1)\n",
      "The indefinite integral of  ʃ (2*x**2 + 3*x + 7)/(x**3 + x**2 - x - 1) dx is \n",
      "                              3  \n",
      "3⋅log(x - 1) - log(x + 1) + ─────\n",
      "                            x + 1\n"
     ]
    }
   ],
   "source": [
    "f=(2*x**2+3*x+7)/(x**3+x**2-x-1)\n",
    "print('f=',f,' = ',apart(f))\n",
    "Int(f)"
   ]
  },
  {
   "cell_type": "code",
   "execution_count": 51,
   "metadata": {},
   "outputs": [
    {
     "name": "stdout",
     "output_type": "stream",
     "text": [
      "1. Integrand: (x**4 + 3*x**3 + 14*x**2 + 14*x + 41)/((x**2 + 4)*(x**2 + 2*x + 5)) could be expressed as folllows:\n",
      "   x + 4             1   \n",
      "──────────── + 1 + ──────\n",
      " 2                  2    \n",
      "x  + 2⋅x + 5       x  + 4\n",
      "2.\n",
      "The indefinite integral of  ʃ (x**4 + 3*x**3 + 14*x**2 + 14*x + 41)/((x**2 + 4)*(x**2 + 2*x + 5)) dx is \n",
      "                            ⎛x⎞         ⎛x   1⎞\n",
      "       ⎛ 2          ⎞   atan⎜─⎟   3⋅atan⎜─ + ─⎟\n",
      "    log⎝x  + 2⋅x + 5⎠       ⎝2⎠         ⎝2   2⎠\n",
      "x + ───────────────── + ─────── + ─────────────\n",
      "            2              2            2      \n"
     ]
    }
   ],
   "source": [
    "FracInt(x**4+3*x**3+14*x**2+14*x+41,(x**2+4)*(x**2+2*x+5))"
   ]
  },
  {
   "cell_type": "markdown",
   "metadata": {},
   "source": [
    "Note\n",
    "---\n",
    "- For $a\\ne0$,\n",
    "$$\\mathbf{\\int\\frac{dx}{x^2+a^2}=\\frac{1}{a}\\int\\frac{d\\left(\\frac{x}{a}\\right)}\n",
    "{\\left(\\frac{x}{a}\\right)^2+1}=\n",
    "\\frac{1}{a}\\tan^{-1}\\frac{x}{a}+C}$$\n",
    "-  $$\\mathbf{\n",
    "\\int\\frac{x+4}{x^2+2x+5}dx=\\int\\frac{x+1}{(x+1)^2+2^2}dx+\\int\\frac{3}{2^2+(x+1)^2}dx\n",
    "=\\frac{1}{2}\\ln|(x+1)^2+4|+\\frac{3}{2}\\tan^{-1}\\frac{x+1}{2}+C\n",
    "}$$\n",
    "the former comes *substitution method* and the latter comes from *above*."
   ]
  },
  {
   "cell_type": "markdown",
   "metadata": {},
   "source": [
    "Example\n",
    "---\n",
    "Evaluate \n",
    "$$\\mathbf{\\int\\frac{x^3-2x^2+3x+2}{x(1+x^2)^2}dx}$$"
   ]
  },
  {
   "cell_type": "code",
   "execution_count": 52,
   "metadata": {},
   "outputs": [
    {
     "name": "stdout",
     "output_type": "stream",
     "text": [
      "1. Integrand: (x**3 - 2*x**2 + 3*x + 2)/(x*(x**2 + 1)**2) could be expressed as folllows:\n",
      "  2⋅x - 1   2⋅(2⋅x - 1)   2\n",
      "- ─────── - ─────────── + ─\n",
      "    2                2    x\n",
      "   x  + 1    ⎛ 2    ⎞      \n",
      "             ⎝x  + 1⎠      \n",
      "2.\n",
      "The indefinite integral of  ʃ (x**3 - 2*x**2 + 3*x + 2)/(x*(x**2 + 1)**2) dx is \n",
      "x + 2                  ⎛ 2    ⎞            \n",
      "────── + 2⋅log(x) - log⎝x  + 1⎠ + 2⋅atan(x)\n",
      " 2                                         \n",
      "x  + 1                                     \n"
     ]
    }
   ],
   "source": [
    "FracInt(x**3-2*x**2+3*x+2,x*(x**2+1)**2)"
   ]
  },
  {
   "cell_type": "markdown",
   "metadata": {},
   "source": [
    "Steps\n",
    "---\n",
    "1. $$\\mathbf{\\frac{x^3-2x^2+3x+2}{x(1+x^2)^2}=\\frac{a}{x}+\\frac{bx+c}{1+x^2}+\\frac{dx+e}{(1+x^2)^2}}$$\n",
    "-  get the values, $a,b,c,d,e$:\n",
    "\n",
    "\\begin{eqnarray}\n",
    "x^3-2x^2+3x+2&=&a((1+x^2)^2+(bx+c)x(1+x^2)+(dx+e)x\\\\\n",
    "x=0&\\Rightarrow&a=2\\\\\n",
    "\\color{red}{\\text{coefficient of }}x^4&\\Rightarrow& (a+b)=0\\Rightarrow b=-2\\\\\n",
    "\\color{brown}{\\text{coefficient of }}x^3&\\Rightarrow&c=1\\\\\n",
    "\\color{red}{\\text{coefficient of }}x^2&\\Rightarrow&2a+b+d=-2\\Rightarrow d=-4\\\\\n",
    "\\color{brown}{\\text{coefficient of }}x&\\Rightarrow&c+e=3\\Rightarrow e=2\\\\\n",
    "\\end{eqnarray}\n",
    "imply\n",
    "$$\\mathbf{\\frac{x^3-2x^2+3x+2}{x(1+x^2)^2}=\\frac{2}{x}+\\frac{-2x+1}{1+x^2}+\\frac{-4x+2}{(1+x^2)^2}}$$\n",
    "\n",
    "**3.** integrate term by term:\n",
    " \n",
    "  - $$\\mathbf{\\int\\frac{2dx}{x}=2\\ln |x|+C}$$\n",
    "  - \n",
    "  $$\\mathbf{\\int\\frac{-2x+1}{1+x^2}dx=-\\int\\frac{2xdx}{1+x^2}+\\int\\frac{dx}{1+x^2}=-\\ln|1+x^2|+\\tan^{-1}x+C}$$\n",
    "  - \n",
    " \n",
    " \\begin{eqnarray}\n",
    "  \\mathbf{\\int\\frac{-4x+2}{(1+x^2)^2}dx}&=&\\int\\frac{-2(2x)+2}{(1+x^2)^2}dx\\\\\n",
    "  &=&-2\\int\\frac{(2x)dx}{(1+x^2)^2}dx+\\int\\frac{2}{(1+x^2)^2}dx\\\\\n",
    "  &=&\\frac{2}{1+x^2}+2\\int\\frac{\\sec^2tdt}{(1+\\tan^2t)^2}\\\\\n",
    "  &=&\\frac{2}{1+x^2}+2\\int\\cos^2tdt= \\frac{2}{1+x^2}+\\int(1+\\cos2t)dt\\\\\n",
    "   &=&\\frac{2}{1+x^2}+t+\\frac{\\sin2t}{2}+C=\\frac{2}{1+x^2}+t+{\\sin t\\cos t}+C\\\\\n",
    "   &=&\\mathbf{\\frac{2}{1+x^2}+\\tan^{-1}x+\\frac{1\\cdot x}{1+x^2}+C}\n",
    "  \\end{eqnarray}\n",
    "\n",
    "Result\n",
    "---\n",
    "$$\\mathbf{\\int\\frac{x^3-2x^2+3x+2}{x(1+x^2)^2}dt\n",
    "= \\frac{x+2}{1+x^2}+2\\ln|x|-\\ln|1+x^2|+2\\tan^{-1}x+C\n",
    "}$$"
   ]
  },
  {
   "cell_type": "markdown",
   "metadata": {},
   "source": [
    "P.642 Exercise\n",
    "---"
   ]
  },
  {
   "cell_type": "code",
   "execution_count": 53,
   "metadata": {},
   "outputs": [
    {
     "name": "stdout",
     "output_type": "stream",
     "text": [
      "1. Integrand: (2*x - 1)/(2*x**2 - x) could be expressed as folllows:\n",
      "1\n",
      "─\n",
      "x\n",
      "2.\n",
      "The indefinite integral of  ʃ (2*x - 1)/(2*x**2 - x) dx is \n",
      "log(x)\n"
     ]
    }
   ],
   "source": [
    "#10\n",
    "FracInt(2*x-1,2*x**2-x)"
   ]
  },
  {
   "cell_type": "code",
   "execution_count": 54,
   "metadata": {},
   "outputs": [
    {
     "name": "stdout",
     "output_type": "stream",
     "text": [
      "1. Integrand: (x**4 - 3*x**2 - 3*x - 2)/(x**3 - x**2 - 2*x) could be expressed as folllows:\n",
      "            1           2       1\n",
      "x + 1 - ───────── - ───────── + ─\n",
      "        3⋅(x + 1)   3⋅(x - 2)   x\n",
      "2.\n",
      "The indefinite integral of  ʃ (x**4 - 3*x**2 - 3*x - 2)/(x**3 - x**2 - 2*x) dx is \n",
      " 2                                         \n",
      "x                 2⋅log(x - 2)   log(x + 1)\n",
      "── + x + log(x) - ──────────── - ──────────\n",
      "2                      3             3     \n"
     ]
    }
   ],
   "source": [
    "#20\n",
    "f=(x**4-3*x**2-3*x-2)/(x**3-x**2-2*x)\n",
    "FracInt(x**4-3*x**2-3*x-2,x**3-x**2-2*x)"
   ]
  },
  {
   "cell_type": "code",
   "execution_count": 55,
   "metadata": {},
   "outputs": [
    {
     "name": "stdout",
     "output_type": "stream",
     "text": [
      "1. Integrand: (x**2)/((x**2 + 4*x + 3)**2) could be expressed as folllows:\n",
      "    3           9            3           1     \n",
      "───────── + ────────── - ───────── + ──────────\n",
      "4⋅(x + 3)            2   4⋅(x + 1)            2\n",
      "            4⋅(x + 3)                4⋅(x + 1) \n",
      "2.\n",
      "The indefinite integral of  ʃ x**2/(x**2 + 4*x + 3)**2 dx is \n",
      "     5⋅x + 6       3⋅log(x + 1)   3⋅log(x + 3)\n",
      "- ────────────── - ──────────── + ────────────\n",
      "     2                  4              4      \n",
      "  2⋅x  + 8⋅x + 6                              \n"
     ]
    }
   ],
   "source": [
    "#28\n",
    "f=x**2/(x**2+4*x+3)**2\n",
    "FracInt(x**2,(x**2+4*x+3)**2)"
   ]
  },
  {
   "cell_type": "markdown",
   "metadata": {},
   "source": [
    "44.\n",
    "$$\\mathbf{\\int\\frac{\\cos x}{\\sin^2 x-\\sin x-6}dx=\\int\\frac{t dt}{t^2-t-6}=\\frac{\\ln|t-3|-\\ln|t+2|}{5}+C}$$"
   ]
  },
  {
   "cell_type": "code",
   "execution_count": 56,
   "metadata": {},
   "outputs": [
    {
     "name": "stdout",
     "output_type": "stream",
     "text": [
      "The indefinite integral of  ʃ cos(x)/(sin(x)**2 - sin(x) - 6) dx is \n",
      "log(sin(x) - 3)   log(sin(x) + 2)\n",
      "─────────────── - ───────────────\n",
      "       5                 5       \n"
     ]
    }
   ],
   "source": [
    "#44\n",
    "f=cos(x)/(sin(x)**2-sin(x)-6)\n",
    "#print('f=',f,\":\")\n",
    "#pprint(apart(f))\n",
    "Int(f)"
   ]
  },
  {
   "cell_type": "markdown",
   "metadata": {},
   "source": [
    "46.\n",
    "$$\\mathbf{\\int\\frac{e^xdx}{e^{2x}+2e^x-8}=\\int\\frac{dt}{t^2+2t-8}=\\frac{\\ln|t-2|-\\ln|t+4|}{6}+C}$$"
   ]
  },
  {
   "cell_type": "code",
   "execution_count": 57,
   "metadata": {},
   "outputs": [
    {
     "name": "stdout",
     "output_type": "stream",
     "text": [
      "The indefinite integral of  ʃ exp(x)/(exp(2*x) + 2*exp(x) - 8) dx is \n",
      "   ⎛ x    ⎞      ⎛ x    ⎞\n",
      "log⎝ℯ  - 2⎠   log⎝ℯ  + 4⎠\n",
      "─────────── - ───────────\n",
      "     6             6     \n"
     ]
    }
   ],
   "source": [
    "#46\n",
    "f=exp(x)/(exp(2*x)+2*exp(x)-8)\n",
    "Int(f)"
   ]
  }
 ],
 "metadata": {
  "kernelspec": {
   "display_name": "Python 3",
   "language": "python",
   "name": "python3"
  },
  "language_info": {
   "codemirror_mode": {
    "name": "ipython",
    "version": 3
   },
   "file_extension": ".py",
   "mimetype": "text/x-python",
   "name": "python",
   "nbconvert_exporter": "python",
   "pygments_lexer": "ipython3",
   "version": "3.6.1"
  },
  "widgets": {
   "state": {},
   "version": "2.0.10"
  }
 },
 "nbformat": 4,
 "nbformat_minor": 1
}
