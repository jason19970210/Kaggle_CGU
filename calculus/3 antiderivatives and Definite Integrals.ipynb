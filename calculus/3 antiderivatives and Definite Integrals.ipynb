{
 "cells": [
  {
   "cell_type": "markdown",
   "metadata": {},
   "source": [
    "4 Antiderivatives and the Definite Integrals\n",
    "===\n",
    "[4.1 Antiderivatives](#4.1-Antiderivatives)<br>\n",
    "[4.2 Integration by Substitution](#4.2-Integration-by-Substitution)<br>\n",
    "[4.3 Area](#4.3&4.4-Area-and-Definite-Integral)<br>\n",
    "[4.5 Fundamental Theorem of Calculus, FTC](#4.5-Fundamental-Theorem-of-Calculus)"
   ]
  },
  {
   "cell_type": "markdown",
   "metadata": {},
   "source": [
    "4.1 Antiderivatives\n",
    "---\n",
    "\n",
    "Definition\n",
    "---\n",
    "The function $F (x)$ is called an antiderivative for the function $f (x)$ if\n",
    " $F (x)$ is differentiable and if\n",
    "$$\n",
    "F' (x) = f (x) \n",
    "$$\n",
    "for all $x$ in the domain of $F (x)$.\n"
   ]
  },
  {
   "cell_type": "markdown",
   "metadata": {},
   "source": [
    "Example\n",
    "---\n",
    "- $F (x) = x^2 + x$ is the antiderivative of $f (x) = 2 x + 1.$\n",
    "    \n",
    "- $F (x) = \\frac{1}{2} e^{2 x} + \\ln x + 5$ is the antiderivative of\n",
    "    $f (x) = e^{2 x} + \\frac{1}{x} .$ Note that $\\frac{1}{2} e^{2 x} + \\ln x +\n",
    "    e$ is also an antiderivative of $f (x)$.\n"
   ]
  },
  {
   "cell_type": "markdown",
   "metadata": {},
   "source": [
    "From the last example, we find that $f (x)$ has at least two antiderivatives.\n",
    "The following theorem will show that there are infinite antiderivatives for $f(x)$ if there is one antiderivative."
   ]
  },
  {
   "cell_type": "markdown",
   "metadata": {},
   "source": [
    "Lemma\n",
    "---\n",
    "  If $F' (x) = 0$ then $F (x) = C$ for some $C$.\n",
    "\n",
    "Proof\n",
    "---\n",
    "Suppose that $F(a)\\ne F(b)$ for any distinct $a,b\\in \\text{Domain}(F)$. Then by **Mean value theorem**, \n",
    "$$ 0=F'(c)=\\frac{F(b)-F(a)}{b-a}\\ne0$$\n",
    "this is a contraction."
   ]
  },
  {
   "cell_type": "markdown",
   "metadata": {},
   "source": [
    "Theorem\n",
    "---\n",
    "  Let $F (x)$ and $G (x)$ be the antiderivatives for $f (x)$. Then there\n",
    "  exists a constant $C$ such that\n",
    "$$ G (x) = F (x) + C $$\n",
    "\n",
    "proof\n",
    "---\n",
    "Consider new function $F(x)-G(x)$. And \n",
    "$$(F(x)-G(x))'=f(x)-f(x)=0$$\n",
    "This means\n",
    "$$F(x)-G(x)=C\\Longrightarrow F(x)=G(x)+C$$\n",
    "for some $C\\in \\mathbb{R}$."
   ]
  },
  {
   "cell_type": "markdown",
   "metadata": {},
   "source": [
    "In other words, $F (x) + C$ is also antiderivative of $f (x)$ if $F (x)$ is\n",
    "  antiderivative of $f (x)$. Then the antiderivative is denoted by the\n",
    "  following\n",
    "$$ \\int f (x) d x $$\n",
    "  where $\\int$is called the integral sign, $f (x)$ is called integrand and $d\n",
    "  x$ is called differential. And it is called indefinite integral of $f (x)$.\n"
   ]
  },
  {
   "cell_type": "markdown",
   "metadata": {},
   "source": [
    "Example\n",
    "---\n",
    "Confirm the following indefinite integrals:\n",
    "\n",
    "1) $\\int \\frac{1}{2 \\sqrt{x}} d x = \\sqrt{x} + C$,\n",
    "\n",
    "2) $\\int \\frac{1}{x} d x = \\ln |x| + C$,\n",
    "\n",
    "3) $\\int e^{a x}d x=e^{a x}/a+C$,\n",
    "\n",
    "4) $\\int x^n d x = \\frac{x^{n + 1}}{n + 1} + C$, $n \\neq - 1$.\n"
   ]
  },
  {
   "cell_type": "markdown",
   "metadata": {},
   "source": [
    "  In 1), it is obvious that\n",
    " $$ (\\sqrt{x} + C)' = \\frac{1}{2 \\sqrt{x}} $$\n",
    "  i.e. equal to integrand. As the same way, we can prove the others."
   ]
  },
  {
   "cell_type": "markdown",
   "metadata": {},
   "source": [
    "Proposition\n",
    "---\n",
    "For any continuous function, $f(x),g(x)$,   \n",
    "1. $\\int c f (x) d x = c \\int f (x) d x$\n",
    "- $\\int  (f (x) \\pm g (x)) d x = \\int f (x) d x \\pm \\int g (x) d x$\n"
   ]
  },
  {
   "cell_type": "markdown",
   "metadata": {},
   "source": [
    "Practice\n",
    "---\n",
    "Find the indefinte integrals of the forllowing functions: \n",
    "1. $2 x^2 - 3 x - 9$, \n",
    "- $|x|$, \n",
    "- $\\sin (a x + c)$, \n",
    "- $(x + 3)^9$, \n",
    "- $\\frac{1}{9 + x^2}$,\n",
    "- $x^{3 / 2}$,\n",
    "- $2^x .$\n",
    "  "
   ]
  },
  {
   "cell_type": "code",
   "execution_count": 1,
   "metadata": {
    "collapsed": true
   },
   "outputs": [],
   "source": [
    "from sympy import Symbol,symbols,Abs,sin,exp,integrate,pprint,sqrt,cos,exp"
   ]
  },
  {
   "cell_type": "code",
   "execution_count": 2,
   "metadata": {
    "collapsed": true
   },
   "outputs": [],
   "source": [
    "x,a,c=symbols(\"x a c\")"
   ]
  },
  {
   "cell_type": "code",
   "execution_count": 3,
   "metadata": {},
   "outputs": [
    {
     "name": "stdout",
     "output_type": "stream",
     "text": [
      "   3      2      \n",
      "2⋅x    3⋅x       \n",
      "──── - ──── - 9⋅x\n",
      " 3      2        \n"
     ]
    }
   ],
   "source": [
    "pprint(integrate(2*x**2-3*x-9,x))"
   ]
  },
  {
   "cell_type": "code",
   "execution_count": 4,
   "metadata": {},
   "outputs": [
    {
     "name": "stdout",
     "output_type": "stream",
     "text": [
      "⌠       \n",
      "⎮ │x│ dx\n",
      "⌡       \n"
     ]
    }
   ],
   "source": [
    "pprint(integrate(Abs(x),x))"
   ]
  },
  {
   "cell_type": "code",
   "execution_count": 5,
   "metadata": {},
   "outputs": [
    {
     "name": "stdout",
     "output_type": "stream",
     "text": [
      " 2\n",
      "x \n",
      "──\n",
      "2 \n"
     ]
    }
   ],
   "source": [
    "pprint(integrate(sqrt(x**2),x))"
   ]
  },
  {
   "cell_type": "code",
   "execution_count": 6,
   "metadata": {},
   "outputs": [
    {
     "name": "stdout",
     "output_type": "stream",
     "text": [
      "⎧   x⋅sin(c)     for a = 0\n",
      "⎪                         \n",
      "⎨-cos(a⋅x + c)            \n",
      "⎪──────────────  otherwise\n",
      "⎩      a                  \n"
     ]
    }
   ],
   "source": [
    "pprint(integrate(sin(a*x+c),x))"
   ]
  },
  {
   "cell_type": "code",
   "execution_count": 7,
   "metadata": {},
   "outputs": [
    {
     "name": "stdout",
     "output_type": "stream",
     "text": [
      " 10              8                             5                              \n",
      "x        9   81⋅x         7         6   30618⋅x           4          3   59049\n",
      "─── + 3⋅x  + ───── + 324⋅x  + 1701⋅x  + ──────── + 15309⋅x  + 26244⋅x  + ─────\n",
      " 10            2                           5                                2 \n",
      "\n",
      "  2          \n",
      "⋅x           \n",
      "─── + 19683⋅x\n",
      "             \n"
     ]
    }
   ],
   "source": [
    "pprint(integrate((x+3)**9,x))"
   ]
  },
  {
   "cell_type": "code",
   "execution_count": 8,
   "metadata": {},
   "outputs": [
    {
     "name": "stdout",
     "output_type": "stream",
     "text": [
      "    ⎛x⎞\n",
      "atan⎜─⎟\n",
      "    ⎝3⎠\n",
      "───────\n",
      "   3   \n"
     ]
    }
   ],
   "source": [
    "pprint(integrate(1/(9+x**2),x))"
   ]
  },
  {
   "cell_type": "code",
   "execution_count": 9,
   "metadata": {},
   "outputs": [
    {
     "name": "stdout",
     "output_type": "stream",
     "text": [
      "     2.5\n",
      "0.4⋅x   \n"
     ]
    }
   ],
   "source": [
    "pprint(integrate(x**(3/2),x))"
   ]
  },
  {
   "cell_type": "code",
   "execution_count": 10,
   "metadata": {},
   "outputs": [
    {
     "name": "stdout",
     "output_type": "stream",
     "text": [
      "   x  \n",
      "  2   \n",
      "──────\n",
      "log(2)\n"
     ]
    }
   ],
   "source": [
    "pprint(integrate(2**x,x))"
   ]
  },
  {
   "cell_type": "markdown",
   "metadata": {},
   "source": [
    "For the case $|x|$,  Sympy got the wrong answer."
   ]
  },
  {
   "cell_type": "code",
   "execution_count": 11,
   "metadata": {
    "collapsed": true
   },
   "outputs": [],
   "source": [
    "import numpy as np\n",
    "import matplotlib.pyplot as plt\n",
    "%matplotlib inline"
   ]
  },
  {
   "cell_type": "code",
   "execution_count": 12,
   "metadata": {
    "collapsed": true
   },
   "outputs": [],
   "source": [
    "def antiabs(x):\n",
    "    result=x*x\n",
    "    result[x<0]=-x[x<0]**2\n",
    "    return result"
   ]
  },
  {
   "cell_type": "code",
   "execution_count": 15,
   "metadata": {},
   "outputs": [
    {
     "data": {
      "text/plain": [
       "(-2, 2)"
      ]
     },
     "execution_count": 15,
     "metadata": {},
     "output_type": "execute_result"
    },
    {
     "data": {
      "image/png": "[encoded data removed]",
      "text/plain": [
       "<matplotlib.figure.Figure at 0x109ec7cc0>"
      ]
     },
     "metadata": {},
     "output_type": "display_data"
    }
   ],
   "source": [
    "x=np.linspace(-2,2,101)\n",
    "plt.figure(figsize=(4,4))\n",
    "plt.plot(x,np.abs(x))\n",
    "plt.plot(x,antiabs(x))\n",
    "plt.axis(\"equal\")\n",
    "plt.xlim([-2,2])\n",
    "plt.ylim([-2,2])"
   ]
  },
  {
   "cell_type": "markdown",
   "metadata": {},
   "source": [
    "Formulas of  Antiderivatives\n",
    "---\n",
    "Table of Integrals\n",
    "---\n",
    "1. $\\int a d x = a x + C$\n",
    "- $\\int x^r d x = \\frac{1}{1 + r} x^{r + 1} + c$ if $r \\neq - 1$ and\n",
    "  $\\ln |x| + C$ if $x = - 1$\n",
    "- $\\int \\sin x d x = - \\cos x + C$, $\\int \\cos x d x = \\sin x + C$, $\\int \\tan x \\sec x d x = \\sec x + C$\n",
    "  , $\\int \\cot x \\csc x d x = - \\csc x + c$,$\\int \\sec^2 x d x = \\tan x + C$, $\\int \\csc^2 x d x = - \\cot x + c^{}$\n",
    "- $\\int \\frac{1}{\\sqrt{1 - x^2}} d x = \\sin^{- 1} x + C$\n",
    "- $\\int \\frac{1}{1 + x^2} d x = \\tan^{- 1} x + C$\n",
    "- $\\int e^x d x = e^x + C$\n"
   ]
  },
  {
   "cell_type": "markdown",
   "metadata": {},
   "source": [
    "Example\n",
    "---\n",
    "Evaluate the following integrals:\n",
    "- $\\int (x^3 - 3 x^2 + 1) d x$\n",
    "- $\\int (x + 3) / x^2 d x$\n",
    "- $\\int (x + 3 \\cos x) d x$\n",
    "- $\\int \\sec x (\\tan x + \\sec x) d x$ \n",
    "\n",
    "Sol\n",
    "---  \n",
    "- \n",
    "\n",
    "\\begin{eqnarray*}\n",
    "   \\int (x^3 - 3 x^2 + 1) d x & = & \\int x^3 d x - 3 \\int x^2 d x + \\int 1 d x\\\\\n",
    "      & = & \\frac{1}{4} x^4 - x^3 + x + C\n",
    "\\end{eqnarray*}\n",
    "\n",
    "- \n",
    "\n",
    "\\begin{eqnarray*}\n",
    "  \\int (x + 3) / x^2 d x & = & \\int \\frac{1}{x} d x + \\int \\frac{3}{x^2} d x\\\\\n",
    "      & = & \\ln |x| - \\frac{3}{x} + C\n",
    " \\end{eqnarray*}\n",
    "\n",
    "- \n",
    "\n",
    "\\begin{eqnarray*}\n",
    "  \\int (x + 3 \\cos x) d x & = & \\int x d x + 3 \\int \\cos x d x\\\\\n",
    "      & = & \\frac{x^2}{2} + 3 \\sin x + C\n",
    "\\end{eqnarray*}\n",
    "\n",
    "- \n",
    "\n",
    "\\begin{eqnarray*}\n",
    "   \\int \\sec x (\\tan x + \\sec x) d x & = & \\int \\sec x \\tan x d x + \\int \\sec^2 x d x\\\\\n",
    "      & = & \\sec x + \\tan x + C\n",
    "\\end{eqnarray*}\n"
   ]
  },
  {
   "cell_type": "markdown",
   "metadata": {},
   "source": [
    "Compute by Sympy\n",
    "---\n",
    "  Evaluate the following integrals:\n",
    "  \n",
    "a) $\\int (x^2 - x + 3 x^{- 2}) d x$ <br>\n",
    "b) $\\int (2 \\sin x - 3 \\cos x) d x$ <br>\n",
    "c) $\\int (4 \\sin x - x^{- 2}) d x$ <br>\n",
    "d) $\\int \\frac{1 + x^2}{x} d x$\n"
   ]
  },
  {
   "cell_type": "code",
   "execution_count": 56,
   "metadata": {},
   "outputs": [
    {
     "name": "stdout",
     "output_type": "stream",
     "text": [
      " 3    2    \n",
      "x    x    3\n",
      "── - ── - ─\n",
      "3    2    x\n"
     ]
    }
   ],
   "source": [
    "pprint(integrate(x**2-x+3*x**(-2),x))"
   ]
  },
  {
   "cell_type": "code",
   "execution_count": 59,
   "metadata": {},
   "outputs": [
    {
     "name": "stdout",
     "output_type": "stream",
     "text": [
      "-3⋅sin(x) - 2⋅cos(x)\n"
     ]
    }
   ],
   "source": [
    "pprint(integrate(2*sin(x)-3*cos(x),x))"
   ]
  },
  {
   "cell_type": "code",
   "execution_count": 60,
   "metadata": {},
   "outputs": [
    {
     "name": "stdout",
     "output_type": "stream",
     "text": [
      "            1\n",
      "-4⋅cos(x) + ─\n",
      "            x\n"
     ]
    }
   ],
   "source": [
    "pprint(integrate(4*sin(x)-x**(-2),x))"
   ]
  },
  {
   "cell_type": "code",
   "execution_count": 62,
   "metadata": {},
   "outputs": [
    {
     "name": "stdout",
     "output_type": "stream",
     "text": [
      " 2         \n",
      "x          \n",
      "── + log(x)\n",
      "2          \n"
     ]
    }
   ],
   "source": [
    "pprint(integrate((1+x**2)/x,x))"
   ]
  },
  {
   "cell_type": "markdown",
   "metadata": {},
   "source": [
    "Example\n",
    "---\n",
    "Evaluate the following integrals:\n",
    "1. $\\int 2 x^3  d x$\n",
    "- $\\int (2x+\\sin x) d x$\n",
    "- $\\int (2x^2 -1) / x^2 d x$\n",
    "- $\\int (3x^5-2x^3+2-x^{-1/3}) d x$\n",
    "- $\\int \\sin x / \\cos^2 x d x$ \n"
   ]
  },
  {
   "cell_type": "markdown",
   "metadata": {},
   "source": [
    "Sol\n",
    "---  \n",
    "1. $2\\int x^3 d x=2\\cdot x^4/4+C=x^4/2+C$\n",
    "- $2\\int x d x + \\int\\sin x d x= x^2-\\cos x +C$ \n",
    "- $\\int 2 dx-\\int x^{-2}d x=2x+1/x+C$\n",
    "- $3\\int x^5 d x-2\\int x^3 +\\int 2 d x-\\int x^{-1/3}dx=x^6/2-x^4/2+2x-9x/2+C$\n",
    "- $\\int (\\sin x/\\cos x)\\cdot (1/\\cos x) d x= \\int \\tan x\\sec x dx=\\sec x +C$"
   ]
  },
  {
   "cell_type": "markdown",
   "metadata": {},
   "source": [
    "Exercise, p. 358\n",
    "---\n",
    "**12.** $\\int(x^2+1)/x^2 d x= \\int (1+x^{-2}) d x= x-1/x+c$"
   ]
  },
  {
   "cell_type": "markdown",
   "metadata": {},
   "source": [
    "**16.** $\\int(\\pi^2+\\pi+1) d x= (\\pi^2+\\pi+1) x+c$"
   ]
  },
  {
   "cell_type": "markdown",
   "metadata": {},
   "source": [
    "**23.** $\\int\\cos x/(1-\\cos^2 x) d x=\\int \\cos x/\\sin x\\sin x d x=\\int\\cot x \\csc x d x=-\\csc x +c$"
   ]
  },
  {
   "cell_type": "markdown",
   "metadata": {},
   "source": [
    "**24.** $\\int\\sin2x /\\cos x d x= \\int 2\\sin x d x=-2\\cos x +C$"
   ]
  },
  {
   "cell_type": "markdown",
   "metadata": {},
   "source": [
    "**26.** $\\int \\cos^2 x/(\\cos x-\\sin x) d x=\\int(\\cos^2-\\sin^2 x)/(\\cos x-\\sin x)dx=\\int(\\cos x+\\sin x)d x=\\sin x-\\cos x+C$"
   ]
  },
  {
   "cell_type": "markdown",
   "metadata": {},
   "source": [
    "**28.**\n",
    "$\\int \\tan ^2x d x=\\int(\\sec^2x-1)dx=\\tan x-x+C$"
   ]
  },
  {
   "cell_type": "markdown",
   "metadata": {},
   "source": [
    "**81-86**, True or False. Assume that $F'(x)=f(x), G'(x)=g(x)$.\n",
    "\n",
    "**81.** $\\int f'(x) d x = f(x)+C$, \n",
    "\n",
    "<b><font color=\"white\">True, since $(f(x)+C)'=f'(x)$</b>. "
   ]
  },
  {
   "cell_type": "markdown",
   "metadata": {},
   "source": [
    "**82.** $\\int f(x)g(x) d x = F(x)G(x)+C$, \n",
    "\n",
    "<b><font color=\"white\">False since $(F(x)G(x))'=f(x)G(x)+F(x)g(x)\\ne f(x)g(x)$</b>. "
   ]
  },
  {
   "cell_type": "markdown",
   "metadata": {},
   "source": [
    "**83.** $\\int x f(x) d x =x \\int f(x)d x= xF(x)+C$, \n",
    "\n",
    "<b><font color=\"white\">False, since $(xF(x)+C)'=xf'(x)+F(x)\\ne xf(x)$</b>. "
   ]
  },
  {
   "cell_type": "markdown",
   "metadata": {},
   "source": [
    "**84.** $\\int (2 f(x)-3g(x)) d x =2F(x)-3G(x)+C$, \n",
    "\n",
    "<b><font color=\"white\">True, since $(2F(x)-3G(x)+C)'=2 f(x)-3g(x)$</b>. "
   ]
  },
  {
   "cell_type": "markdown",
   "metadata": {},
   "source": [
    "**85.** $\\int (f(x)/g(x)) d x =F(x)/(G(x))+C$, \n",
    "\n",
    "<b><font color=\"white\">False, since $(F(x)/G(x)+C)'=(f(x)G(x)-g(x)F(x))/G^2(x)\\ne f(x)/g(x)$</b>. "
   ]
  },
  {
   "cell_type": "markdown",
   "metadata": {},
   "source": [
    "**86.** $\\int(\\int f(x)dx ) d x =\\mathbb{ F}(x)+C_1x+C_2$, where $\\mathbb{ F}'(x)=F(x)$,\n",
    "\n",
    "<b><font color=\"white\">True, since $(\\mathbb(F)(x)+C_1x+C_2)'= F(x)+C_1$</b>. "
   ]
  },
  {
   "cell_type": "markdown",
   "metadata": {},
   "source": [
    "4.2 Integration by Substitution\n",
    "---\n",
    "Theorem\n",
    "---\n",
    "Suppose that $F' (x) = f (x)$ then\n",
    "$$ \\int f (u (x))_{} \\cdot u' (x) d x = F (u (x)) + C $$\n",
    "\n",
    "<img src=\"imgs/5/ch5-2.png\" width=50% />"
   ]
  },
  {
   "cell_type": "markdown",
   "metadata": {},
   "source": [
    " Example\n",
    " ---\n",
    "1. Let $u = x^2+3$, $d u = 2 x d x$,\n",
    "    \n",
    "\\begin{eqnarray*}\n",
    "      \\int 2 x \\sqrt{x^2 +3}d x & = & \\int \\sqrt u d u\\\\\n",
    "      & = & \\frac{2}{3} u^{3/2} + C\\\\\n",
    "      & = & \\frac{2}{3} (x^2+3)^{3/2}+ C\n",
    "\\end{eqnarray*}\n",
    "\n",
    "- Let $u = 2x-4$, $d u = 2 d x$,\n",
    "    \n",
    "    \\begin{eqnarray*}\n",
    "      \\int \\frac{1}{(2x-4)^3} d x & = & \\frac{1}{2} \\int \\frac{d u}{u^{-3}}\\\\\n",
    "      & = & -\\frac{1}{4}  u^{-2} + C\\\\\n",
    "      & = & -\\frac{1}{4(2x-4)^2} + C\n",
    "    \\end{eqnarray*}\n",
    "    \n",
    "- Let $u = 2x-1$, then $d u = 2  d x$,\n",
    "\n",
    "\\begin{eqnarray*}\n",
    "      \\int (x+1) \\sqrt{2x-1} d x & = & \\int \\left( u/2+3/2\\right)u^{1 / 2}\\frac{d u}{2}\\\\\n",
    "      & = & \\int \\left( \\frac{u^{3/2}}{4}+\\frac{\\sqrt u}{4}\\right)d u\\\\\n",
    "      & = & \\frac{u^{5 / 2}}{10} + \\frac{u^{3 / 2}}{2}+C\\\\\n",
    "      & = & \\frac{(2x-1)^{5/2}}{10}+\\frac{(2x-1)^{3/2}}{2} + C\n",
    "    \\end{eqnarray*}    \n",
    "\n",
    "\n",
    "-  Let $u = 5 x$, then $d u = 5d x$,\n",
    "\n",
    "\\begin{eqnarray*}\n",
    "      \\int \\sin 5x d x & = & \\int \\sin u \\frac{d u}{5}\\\\\n",
    "      & = &-\\frac{\\cos u}{5}+ C\\\\\n",
    "      & = & -\\frac{\\cos 5x}{5}+ C\n",
    "\\end{eqnarray*}\n",
    "\n",
    "-  Let $u = \\sqrt x$, then $d u = \\frac{d x}{2\\sqrt x}$,\n",
    "\n",
    "\\begin{eqnarray*}\n",
    "      \\int \\frac{\\cos\\sqrt x}{\\sqrt x} d x & = & \\int 2\\cos u d u\\\\\n",
    "      & = &2\\sin u+ C\\\\\n",
    "      & = & 2\\sin \\sqrt x+ C\n",
    "\\end{eqnarray*}\n",
    "\n",
    "-  Let $u = \\sin x$, then $d u = \\cos x{d x}$,\n",
    "\n",
    "\\begin{eqnarray*}\n",
    "      \\int {\\cos x}{\\sin^3 x} d x & = & \\int  u^3 d u\\\\\n",
    "      & = &\\frac{u^4}{4}+ C\\\\\n",
    "      & = & \\frac{\\sin^4 x}{4}++ C\n",
    "\\end{eqnarray*}"
   ]
  },
  {
   "cell_type": "markdown",
   "metadata": {},
   "source": [
    " Example\n",
    " ---\n",
    "1. Let $u = x^2$, $d u = 2 x d x$,\n",
    "    \\begin{eqnarray*}\n",
    "      \\int 2 x \\sin x^2 d x & = & \\int \\sin u d u\\\\\n",
    "      & = & - \\cos u + C\\\\\n",
    "      & = & - \\cos x^2 + C\n",
    "    \\end{eqnarray*}\n",
    "- Let $u = x^3$, $d u = 3 x^2 d x$,\n",
    "    \\begin{eqnarray*}\n",
    "      \\int \\frac{x^2}{1 + x^3} d x & = & \\frac{1}{3} \\int \\frac{d u}{u}\\\\\n",
    "      & = & \\frac{1}{3} \\ln |u| + C\\\\\n",
    "      & = & \\frac{\\ln |1 + x^3 |}{3} + C\n",
    "    \\end{eqnarray*}\n",
    "- Let $u = 9 + x^2$, then $d u = 2 x d x$,\n",
    "    \\begin{eqnarray*}\n",
    "      \\int 3 x \\sqrt{9 + x^2} d x & = & 3 / 2 \\int u^{1 / 2} d u\\\\\n",
    "      & = & u^{3 / 2} + C\\\\\n",
    "      & = & \\sqrt{(9 + x^2)^3} + C\n",
    "    \\end{eqnarray*}\n",
    "\n",
    "-  Let $u = 5 x^{6 / 5} - 3 x$, then $d u = 3 (2 x^{1 / 5} - 1) d x$,\n",
    "    \\begin{eqnarray*}\n",
    "      \\int (5 x^{6 / 5} - 3 x)^{3 / 2} (6 x^{1 / 5} - 3) d x & = & \\int u^{3 /\n",
    "      2} d u\\\\\n",
    "      & = & 2 / 5 u^{5 / 2} + C\\\\\n",
    "      & = & 2 / 5 \\sqrt{(5 x^{6 / 5} - 3 x)^5} + C\n",
    "    \\end{eqnarray*}\n"
   ]
  },
  {
   "cell_type": "markdown",
   "metadata": {},
   "source": [
    "Computer practicea\n",
    "---\n",
    "  Evaluate the following indefinite integrals:\n",
    "  \n",
    "a) $\\int (x^3 + x^2 + x + 1) (3 x^2 + 2 x + 1) d x$ <br>\n",
    "b) $\\int x / \\sqrt{1+ x^2} d x$ <br>\n",
    "c)  $\\int x \\sqrt[3]{1 + x} d x$ <br>\n",
    "d)  $\\int\\frac{x d x}{1 + x^2}$<br>\n",
    "e)  $\\int \\tan^2 x \\sec^2 x d x$ <br>\n",
    "f)  $\\int x e^{- x^2 / 2} d x$ <br>\n",
    "g)  $\\int (x + \\frac{1}{x}) (1 - \\frac{1}{x^2}) d x$ <br>\n",
    "h) $\\int (1 + 1 / x)^2 / x^2 d x$"
   ]
  },
  {
   "cell_type": "code",
   "execution_count": 63,
   "metadata": {},
   "outputs": [
    {
     "name": "stdout",
     "output_type": "stream",
     "text": [
      " 6           4             2    \n",
      "x     5   3⋅x       3   3⋅x     \n",
      "── + x  + ──── + 2⋅x  + ──── + x\n",
      "2          2             2      \n"
     ]
    }
   ],
   "source": [
    "pprint(integrate((x**3+x**2+x+1)*(3*x**2+2*x+1),x))"
   ]
  },
  {
   "cell_type": "code",
   "execution_count": 64,
   "metadata": {},
   "outputs": [
    {
     "name": "stdout",
     "output_type": "stream",
     "text": [
      "   ________\n",
      "  ╱  2     \n",
      "╲╱  x  + 1 \n"
     ]
    }
   ],
   "source": [
    "pprint(integrate((x)/sqrt(x**2+1),x))"
   ]
  },
  {
   "cell_type": "markdown",
   "metadata": {},
   "source": [
    "Note\n",
    "$$x(1+x)^{1/3}=(t-1) t^{1/3}=t^{4/3}-t^{1/3}$$\n",
    "where $t=1+x$."
   ]
  },
  {
   "cell_type": "code",
   "execution_count": 71,
   "metadata": {},
   "outputs": [
    {
     "name": "stdout",
     "output_type": "stream",
     "text": [
      "        1.33333333333333                      2.33333333333333\n",
      "- 0.75⋅t                 + 0.428571428571429⋅t                \n"
     ]
    }
   ],
   "source": [
    "t=Symbol(\"t\")\n",
    "pprint(integrate((t)**(4/3)-t**(1/3),t))"
   ]
  },
  {
   "cell_type": "code",
   "execution_count": 72,
   "metadata": {},
   "outputs": [
    {
     "name": "stdout",
     "output_type": "stream",
     "text": [
      "   ⎛ 2    ⎞\n",
      "log⎝x  + 1⎠\n",
      "───────────\n",
      "     2     \n"
     ]
    }
   ],
   "source": [
    "pprint(integrate((x)/(x**2+1),x))"
   ]
  },
  {
   "cell_type": "code",
   "execution_count": 74,
   "metadata": {},
   "outputs": [
    {
     "name": "stdout",
     "output_type": "stream",
     "text": [
      "     2⋅sin(x)\n",
      "-x + ────────\n",
      "      cos(x) \n"
     ]
    }
   ],
   "source": [
    "from sympy import sec,tan\n",
    "pprint(integrate(sec(x)**2+tan(x)**2,x))"
   ]
  },
  {
   "cell_type": "code",
   "execution_count": 75,
   "metadata": {},
   "outputs": [
    {
     "name": "stdout",
     "output_type": "stream",
     "text": [
      "    2 \n",
      "  -x  \n",
      "  ────\n",
      "   2  \n",
      "-ℯ    \n"
     ]
    }
   ],
   "source": [
    "pprint(integrate(x*exp(-x**2/2),x))"
   ]
  },
  {
   "cell_type": "code",
   "execution_count": 76,
   "metadata": {},
   "outputs": [
    {
     "name": "stdout",
     "output_type": "stream",
     "text": [
      " 2       \n",
      "x     1  \n",
      "── + ────\n",
      "2       2\n",
      "     2⋅x \n"
     ]
    }
   ],
   "source": [
    "pprint(integrate((x+1/x)*(1-1/x**2),x))"
   ]
  },
  {
   "cell_type": "code",
   "execution_count": 77,
   "metadata": {},
   "outputs": [
    {
     "name": "stdout",
     "output_type": "stream",
     "text": [
      " ⎛   2          ⎞ \n",
      "-⎝3⋅x  + 3⋅x + 1⎠ \n",
      "──────────────────\n",
      "          3       \n",
      "       3⋅x        \n"
     ]
    }
   ],
   "source": [
    "pprint(integrate((1+1/x)**2/x**2,x))"
   ]
  },
  {
   "cell_type": "markdown",
   "metadata": {},
   "source": [
    "Another Application for Integration\n",
    "---\n",
    "Solve the initial value problem, (**IVP**):\n",
    "$$f'(x)=x^3(x^2+1)^{1/2}, f(0)=0$$\n",
    "\n",
    "1.  this is equivalent to  evaluate the integration:\n",
    "\n",
    "Let $u = x^2+1$, $d u = 2 x d x$,\n",
    "    \n",
    "\\begin{eqnarray*}\n",
    "      \\int  x^3 \\sqrt{x^2 +1}d x & = & \\int (u-1)\\sqrt u \\frac{d u}{2}\\\\\n",
    "      & = & \\frac{u^{5/2}}{5}  -  \\frac{u^{3/2} }{3}+C\\\\\n",
    "      & = & \\frac{(x^2+1)^{5/2}}{5}  -  \\frac{(x^2+1)^{3/2} }{3}+ C\n",
    "\\end{eqnarray*}\n",
    "\n",
    "2. since $f(0)=0$,\n",
    "$$ 0=f(0)= \\frac{(0^2+1)^{5/2}}{5}  -  \\frac{(0^2+1)^{3/2} }{3}+ C \\to C=\\frac{2}{15}$$\n",
    "\n",
    "Thus  $f(x)=\\frac{(x^2+1)^{5/2}}{5}  -  \\frac{(x^2+1)^{3/2} }{3}+\\frac{2}{15}$."
   ]
  },
  {
   "cell_type": "markdown",
   "metadata": {},
   "source": [
    "Exercise, p367\n",
    "---"
   ]
  },
  {
   "cell_type": "code",
   "execution_count": 1,
   "metadata": {
    "collapsed": true
   },
   "outputs": [],
   "source": [
    "from sympy import Symbol,integrate,sin,cos,sqrt,pprint,Integral,Rational\n",
    "x=Symbol(\"x\")\n"
   ]
  },
  {
   "cell_type": "code",
   "execution_count": 2,
   "metadata": {
    "collapsed": true
   },
   "outputs": [],
   "source": [
    "def Int(func,var):\n",
    "    #print(\"the integral of \")\n",
    "    Integral(func,x)\n",
    "    pprint(func)\n",
    "    print(\"is:\")\n",
    "    pprint(integrate(func,var))"
   ]
  },
  {
   "cell_type": "code",
   "execution_count": 29,
   "metadata": {},
   "outputs": [
    {
     "name": "stdout",
     "output_type": "stream",
     "text": [
      "    15      12      9      6    3\n",
      "16⋅x     8⋅x     8⋅x    4⋅x    x \n",
      "────── - ───── + ──── - ──── + ──\n",
      "  15       3      3      3     3 \n"
     ]
    }
   ],
   "source": [
    "# 8. u=2x**3-1\n",
    "pprint(integrate(x**2*(2*x**3-1)**4,x))"
   ]
  },
  {
   "cell_type": "code",
   "execution_count": 17,
   "metadata": {},
   "outputs": [
    {
     "name": "stdout",
     "output_type": "stream",
     "text": [
      "the integral of \n",
      "             4\n",
      " 2 ⎛   3    ⎞ \n",
      "x ⋅⎝2⋅x  - 1⎠ \n",
      "is:\n",
      "    15      12      9      6    3\n",
      "16⋅x     8⋅x     8⋅x    4⋅x    x \n",
      "────── - ───── + ──── - ──── + ──\n",
      "  15       3      3      3     3 \n"
     ]
    }
   ],
   "source": [
    "func1=x**2*(2*x**3-1)**4\n",
    "Int(func1,x)"
   ]
  },
  {
   "cell_type": "code",
   "execution_count": 3,
   "metadata": {},
   "outputs": [
    {
     "name": "stdout",
     "output_type": "stream",
     "text": [
      "       ____________\n",
      "    3 ╱      2     \n",
      "2⋅x⋅╲╱  - 4⋅x  + 1 \n",
      "is:\n",
      "        ____________        ____________\n",
      "   2 3 ╱      2          3 ╱      2     \n",
      "3⋅x ⋅╲╱  - 4⋅x  + 1    3⋅╲╱  - 4⋅x  + 1 \n",
      "──────────────────── - ─────────────────\n",
      "         4                     16       \n"
     ]
    }
   ],
   "source": [
    "# 16 2x(1-4x**2)*(1/3)\n",
    "func2=2*x*(1-4*x**2)**Rational(1,3)\n",
    "Int(func2,x)"
   ]
  },
  {
   "cell_type": "code",
   "execution_count": null,
   "metadata": {
    "collapsed": true
   },
   "outputs": [],
   "source": [
    "# 26 (2x+3)(x-1)**(1/2)\n",
    "func3=(2*x+3)*(x-1)**(1/2)\n",
    "Int(func3,x)"
   ]
  },
  {
   "cell_type": "code",
   "execution_count": 33,
   "metadata": {},
   "outputs": [
    {
     "name": "stdout",
     "output_type": "stream",
     "text": [
      "    sin(x)   \n",
      "─────────────\n",
      "            3\n",
      "(cos(x) + 1) \n",
      "is:\n",
      "           1            \n",
      "────────────────────────\n",
      "     2                  \n",
      "2⋅cos (x) + 4⋅cos(x) + 2\n"
     ]
    }
   ],
   "source": [
    "# 36 sin x/(1+cos x)**3\n",
    "func4=sin(x)/(1+cos(x))**3\n",
    "Int(func4,x)"
   ]
  },
  {
   "cell_type": "code",
   "execution_count": 4,
   "metadata": {},
   "outputs": [
    {
     "name": "stdout",
     "output_type": "stream",
     "text": [
      "      1       \n",
      "──────────────\n",
      "       _______\n",
      "√x + ╲╱ x + 1 \n",
      "is:\n",
      "         _______                                            \n",
      "  2⋅√x⋅╲╱ x + 1             4⋅x                   2         \n",
      "────────────────── + ────────────────── + ──────────────────\n",
      "           _______              _______              _______\n",
      "3⋅√x + 3⋅╲╱ x + 1    3⋅√x + 3⋅╲╱ x + 1    3⋅√x + 3⋅╲╱ x + 1 \n"
     ]
    }
   ],
   "source": [
    "#49 1/(x**(1/2)+(1+x)**(1/2))\n",
    "func5=1/(sqrt(x)+sqrt(1+x))\n",
    "Int(func5,x)"
   ]
  },
  {
   "cell_type": "code",
   "execution_count": 36,
   "metadata": {
    "collapsed": true
   },
   "outputs": [],
   "source": [
    "from sympy import assume\n",
    "a=Symbol(\"a\")\n"
   ]
  },
  {
   "cell_type": "code",
   "execution_count": 38,
   "metadata": {},
   "outputs": [
    {
     "name": "stdout",
     "output_type": "stream",
     "text": [
      "   _________\n",
      "  ╱  2    2 \n",
      "╲╱  a  - x  \n",
      "────────────\n",
      "      4     \n",
      "     x      \n",
      "is:\n",
      "⎧            ________         ________                  \n",
      "⎪           ╱  2             ╱  2                       \n",
      "⎪          ╱  a             ╱  a                        \n",
      "⎪         ╱   ── - 1       ╱   ── - 1                   \n",
      "⎪        ╱     2          ╱     2               │ 2│    \n",
      "⎪      ╲╱     x         ╲╱     x                │a │    \n",
      "⎪    - ────────────── + ──────────────      for │──│ > 1\n",
      "⎪              2                2               │ 2│    \n",
      "⎪           3⋅x              3⋅a                │x │    \n",
      "⎨                                                       \n",
      "⎪          __________           __________              \n",
      "⎪         ╱    2               ╱    2                   \n",
      "⎪        ╱    a               ╱    a                    \n",
      "⎪  ⅈ⋅   ╱   - ── + 1    ⅈ⋅   ╱   - ── + 1               \n",
      "⎪      ╱       2            ╱       2                   \n",
      "⎪    ╲╱       x           ╲╱       x                    \n",
      "⎪- ────────────────── + ──────────────────   otherwise  \n",
      "⎪            2                    2                     \n",
      "⎩         3⋅x                  3⋅a                      \n"
     ]
    }
   ],
   "source": [
    "# 50 (a**2-x**2)/x**4, (x=1/t)\n",
    "\n",
    "func6= (sqrt(a**2-x**2)/x**4)\n",
    "Int(func6,x)"
   ]
  },
  {
   "cell_type": "code",
   "execution_count": 41,
   "metadata": {},
   "outputs": [
    {
     "name": "stdout",
     "output_type": "stream",
     "text": [
      "      x      \n",
      "─────────────\n",
      "          3/2\n",
      "⎛   2    ⎞   \n",
      "⎝2⋅x  + 1⎠   \n",
      "is:\n",
      "      -1       \n",
      "───────────────\n",
      "     __________\n",
      "    ╱    2     \n",
      "2⋅╲╱  2⋅x  + 1 \n"
     ]
    }
   ],
   "source": [
    "# slope of tangent line of function is x/(2x**2+1)^(3/2) and passes through (2,-1/6) \n",
    "Int(x/(2*x**2+1)**(Rational(3,2)),x)"
   ]
  },
  {
   "cell_type": "markdown",
   "metadata": {},
   "source": [
    "Since $f(2)=-1/6$, $f(x)= -1/\\left(2\\sqrt{2x^2+1}\\right)$."
   ]
  },
  {
   "cell_type": "markdown",
   "metadata": {},
   "source": [
    "True or False\n",
    "---\n",
    "**61.**  If  $f(x)$ is continuous, then $\\int x f(x^2) d x=\\frac{1}{2}\\int f(u)d u$, where $u=x^2$. (T, by substitution mathod)<br>\n",
    "**62.**  If $f(x)$ is continuous, then $\\int f(ax+b)d x=\\int f(x)dx$. (F, $f(x)=x$)"
   ]
  },
  {
   "cell_type": "markdown",
   "metadata": {},
   "source": [
    "4.3&4.4 Area and Definite Integral\n",
    "---\n",
    "\n",
    "Assume that $f (x)$ is continuous and nonnegative (i.e. $f (x) \\geqslant 0$)\n",
    "on $[a, b]$. Riemann gave a clear procedure to find out the area of the region\n",
    "under the graph of $f (x)$ and above $X$-axis. First partition $[a, b]$ into\n",
    "$n$ non-overlapping and equally-like subintervals with partition points:\n",
    "\\begin{eqnarray*}\n",
    "  a = x_0 \\leqslant x_1 \\leqslant \\cdots \\leqslant x_{n - 1} \\leqslant x_n = b\n",
    "  &  & \\\\\n",
    "  \\Delta x = \\frac{b - a}{n} &  & \\\\\n",
    "  x_k = a + k \\Delta x & \\text{ for } k = 0, 1, \\cdots, n & \n",
    "\\end{eqnarray*}\n",
    "<img src=\"imgs/5/ch5-3.png\" width=90% />\n",
    "\n",
    "where\n",
    "1. $S$: the region under the graph of $f (x)$ and above $X$-axis from $x\n",
    "  = a$ to $x = b$,\n",
    "- $|S|$: area of $S$,\n",
    "- $S_k$: the region under the graph of $f (x)$ and above $X$-axis from \\\n",
    "  $x = x_{k - 1}$ to $x = x_k$ , for $k = 1, \\cdots, n$.\n",
    "- $|S_k |$: area of $S_k$.\n"
   ]
  },
  {
   "cell_type": "markdown",
   "metadata": {},
   "source": [
    "Consider the region, $S_k$, take any point, says $x_k^{\\ast}$, in $[x_{k - 1},\n",
    "x_k]$. Then we have:\n",
    "$$ |S_k | \\backsim f (x_k^{\\ast}) \\Delta x $$\n",
    "i.e. the area of $S_k$ can be approximated by area of rectangle with height,\n",
    "$f (x_k^{\\ast})$. Then we have the approximation of area of all the region,\n",
    "$S$:\n",
    "$$ |S| \\backsim R_n (f) = \\sum_{k = 1}^n f (x_k^{\\ast}) \\Delta x $$\n",
    "where $R_n (f)$ is called the Riemann sum of $f$. Since $f (x)$ is continuous\n",
    "on $[a, b]$, and also on subintervals $[x_{k - 1}, x_k]$ for $k = 1, \\cdots,\n",
    "n$. From the existence of extrema, there exist the maximum, $M_k$, and\n",
    "minimum, $m_k$, of $f (x)$ on $[x_{k - 1}, x_k]$ for each $k$. Then\n",
    "$$ \\sum_{k = 1}^n m_k \\Delta x \\leqslant |S| \\leqslant \\sum_{k = 1}^n M_k\n",
    "   \\Delta x $$\n",
    "Consider the difference between the sum of maxima and sum of minima:\n",
    "\n",
    "\\begin{eqnarray*}\n",
    "  \\left|  \\sum_{k = 1}^n (M_k \\Delta x - m_k \\Delta x)  \\right| & \\leqslant\n",
    "  & \\sum_{k = 1}^n  \\left| M_k - m_k  \\right| \\Delta x\\\\\n",
    "  & \\leqslant & \\max_{k = 1}^n  \\left| M_k - m_k  \\right|  \\sum_{k = 1}^n\n",
    "  \\Delta x\\\\\n",
    "  & \\leqslant & (b - a) \\cdot \\max_{k = 1}^n  \\left| M_k - m_k  \\right| \\\\\n",
    "  & \\longrightarrow 0 & \n",
    "\\end{eqnarray*}\n",
    "as $n \\rightarrow \\infty$. This means that\n",
    "$$ \\lim_{n \\rightarrow \\infty} \\sum_{k = 1}^n m_k \\Delta x = \\lim_{n\n",
    "   \\rightarrow \\infty} \\sum_{k = 1}^n M_k \\Delta x $$\n",
    "Therefore by squeeze theorem, $|S|$ exists and is equal to the above limit."
   ]
  },
  {
   "cell_type": "markdown",
   "metadata": {},
   "source": [
    "Example\n",
    "---\n",
    "The region under the graph of $f(x)=x^2$ from $x=0$ to $x=1$ is $1/3$.\n",
    "1. Partition $[0,1]$ into $[0,1/n,2/n,\\cdots,n/n=1]$ and $\\vartriangle x=1/n$.\n",
    "- $f(x_i^*)=(i-1)/n$ where $x_i^*$  is the left end in sub-interval, $[x_{i-1},x_i]$.\n",
    "-  Area of $S_k,S$:\n",
    "\\begin{eqnarray}\n",
    "  S_k&=&f(x_k^*)\\vartriangle x=\\left(\\frac{k-1}{n}\\right)^2\\cdot \\frac{1}{n}\\\\\n",
    "  S&=&\\sum_{k=1}^nS_k\\\\\n",
    "   &=&\\sum_{k=1}^n\\left(\\frac{k-1}{n}\\right)^2\\cdot \\frac{1}{n}\\\\\n",
    "   &=&\\sum_{k=1}^n\\frac{(k+-1)^2}{n^3}\\\\\n",
    "   &=&\\frac{(n-1)(n)(2n-1)}{6n^3}\\to1/3\n",
    "\\end{eqnarray}\n",
    "while $n\\to\\infty$."
   ]
  },
  {
   "cell_type": "markdown",
   "metadata": {},
   "source": [
    "Theorem\n",
    "---\n",
    "  Suppose that $f (x)$ is continuous and nonnegative on $[a, b]$. Then the\n",
    "  area of the region under the graph of $f (x)$ and above $X$-axis exists and\n",
    "  is equal to:\n",
    "  $$ |S| = \\lim_{n \\rightarrow \\infty} R_n $$\n",
    "  where $R_n$ is the Riemann sum defined as above. $f (x)$ is called\n",
    "  integrable in such case. Also\n",
    "  \n",
    "  the area is denoted as the following symbol, called definite integral of $f\n",
    "  (x)$ on $[a, b]$:\n",
    "  $$ |S| = \\int_a^b f (x) d x $$\n",
    "  where $a,b$ are called the *lower* limit and *upper* limit, $f (x)$ is called\n",
    "  *integrand* and $d x$ is the *differential* of $x$. Furthermore, the condition\n",
    "  of nonnegative property of $f (x)$ can be removed. In such condition, the\n",
    "  definite integral is equal to the sum of area of region above $X$-axis minus\n",
    "  the sum of area."
   ]
  },
  {
   "cell_type": "markdown",
   "metadata": {},
   "source": [
    "Properties of Definite Integral\n",
    "---\n",
    "Assume that $f (x)$ and $g (x)$\n",
    "are continuous on $[a, b]$, $c \\in (a, b)$ , $k \\in \\mathbb{R}$,\n",
    "1.  $\\int^a_a f (x) d x = 0$\n",
    "- $\\int^a_b f (x) d x = - \\int^b_a f (x) d x$\n",
    "- $\\int^{b_{}}_a k f (x) d x = k \\int^b_a f (x) d x$\n",
    "- $\\int^b_a (f (x) \\pm g (x)) d x = \\int^b_a f (x) d x \\pm \\int^b_a g\n",
    "  (x) d x$\n",
    "- If $f \\geqslant 0,$ then $\\int^b_a f (x) d x \\geqslant 0$\n",
    "- If $f (x) \\geqslant g (x)$, then $\\int^b_a f (x) d x \\geqslant\n",
    "  \\int^b_a g (x) d x$\n",
    "   - Since $f (x) - g (x) \\geqslant 0$, then the definite integral of this\n",
    "  difference function is also nonnegative. Then the property is proved.\n",
    "- $| \\int^b_a f (x) d x| \\leqslant \\int^b_a |f (x) | d x$\n",
    "   - Note that $- |f (x) | \\leqslant f (x) \\leqslant |f (x) |$. This can be\n",
    "  proved by last property.\n",
    "- Suppose that $M, m$ are the max and min of $f (x)$ on $[a, b]$, then\n",
    "  $$ m \\leqslant I_f = \\frac{1}{b - a} \\int^b_a f (x) d x \\leqslant M $$\n",
    "  where $I_f$ is called the average of $f (x)$ over $[a, b]$. <img src=\"imgs/5/ch5-4.png\" width=70% />\n",
    "  - $$(b - a) m \\leqslant \\int^b_a f (x) d x \\leqslant M (b - a) $$\n",
    "  since the related region is bounded by the rectangles with the same base and\n",
    "  the heights which are the maximum and minimum of $f (x)$ on $[a, b]$.\n",
    "- (Mean Value Theorem for Integration) If $f (x)$ is \\ continuous on\n",
    "  $[a, b],$ there exists at least one $c$ in $(a, b)$ such that\n",
    "  $$ f (c) = \\frac{1}{b - a} \\int^b_a f (x) d x $$\n",
    "  And it is called the average of $f (x)$ on $[a, b]$.\n",
    "  - Since $I_f$, the average of $f (x)$ over $[a, b]$, is between the maximum\n",
    "  and minimum of $f (x)$ on $[a, b]$, there exists at least one point $c$ in\n",
    "  $(a, b)$ such that $f (c)$ is equal to $I_f$ by intermediate value theorem.\n",
    "- Suppose that $f (x)$ is continuous on $[- a, a]$ and is odd where $a\n",
    "    > 0$. Then\n",
    "    $$ \\int^a_{- a} f (x) d x = 0 $$\n",
    "    by symmetry. Suppose that $f (x)$ is continuous on $[- a, a]$ and is even where\n",
    "    $a > 0$. Then\n",
    "    $$ \\int^a_{- a} f (x) d x = 2 \\int^a_0 f (x) d x $$\n",
    "    by symmetry."
   ]
  },
  {
   "cell_type": "markdown",
   "metadata": {},
   "source": [
    "1. $\\int^2_{-2}(x^2-2x+4)dx=2\\int^2_0(x^2+4)dx=21\\frac{1}{3}.$\n",
    "2. $\\int^2_{2}(x^2-2x+4)dx=0.$\n",
    "- Estimate $\\int^3_1\\sqrt{3+x^2}d x$.\n",
    "$$4=\\int^3_1\\sqrt{3+1^2}d x\\le\\int^3_1\\sqrt{3+x^2}d x\\le\\int^3_1\\sqrt{3+3^2}d x=4\\sqrt3$$"
   ]
  },
  {
   "cell_type": "markdown",
   "metadata": {},
   "source": [
    "**4.** The region under the graph of $f(x)=4-x^2$ from $x=-1$ to $x=3$ is $1/3$.\n",
    "- Partition $[-1,3]$ into $[-1,-1+4/n,-1+2\\cdot4/n,\\cdots,-1+n\\cdot4/n=3]$ and $\\vartriangle x=(3-(-1))/n=4/n$.\n",
    "- $f(x_i^*)=-1+i\\cdot4/n$ where $x_i^*$  is the right end in sub-interval, $[x_{i-1},x_i]$.\n",
    "-  Area of $S_k,S$:\n",
    "\\begin{eqnarray}\n",
    "  S_k&=&f(x_k^*)\\vartriangle x=\\left(4-\\left(-1+\\frac{4k}{n}\\right)^2\\right)\\cdot \\frac{4}{n}\\\\\n",
    "      &=&\\left(12+\\frac{32k}{n}-\\frac{64k^2}{n^2}\\right)\\cdot \\frac{1}{n}\\\\\n",
    "  S&=&\\sum_{k=1}^nS_k\\\\\n",
    "   &=&\\sum_{k=1}\\left[\\frac{12}{n}+\\frac{32k}{n^2}-\\frac{64k^2}{n^3}\\right]\\\\\n",
    "   &=&\\frac{12n}{n}+\\frac{32n(n+1)}{2n^2}-\\frac{64n(n+1)(2n+1)}{6n^3}\\\\\n",
    "   &\\Longrightarrow&12+16-\\frac{64}{3}=6\\frac{2}{3}\n",
    "\\end{eqnarray}\n",
    "while $n\\to\\infty$. This means\n",
    "\n",
    "$$\\int_{-1}^{3}(4-x^2)dx=6\\frac{2}{3}\\text{ and }\\int_{3}^{-1}(4-x^2)dx=-\\int_{-1}^{3}(4-x^2)dx=-6\\frac{2}{3}$$"
   ]
  },
  {
   "cell_type": "markdown",
   "metadata": {},
   "source": [
    "**5.**\n",
    "\n",
    "a.) $\\int_0^1(x^2-4)dx=\\int_0^1x^2dx-\\int^1_04dx=1/3-4$;<br>\n",
    "b). $\\int_0^1(5x^2)dx=5\\int_0^1x^2dx=5/3$.\n"
   ]
  },
  {
   "cell_type": "markdown",
   "metadata": {},
   "source": [
    "**6.** The mean value of $f(x)=4-2x$ on $[0,2]$ is evaluated by the following:\n",
    "\n",
    "\\begin{eqnarray}\n",
    "4-2c=f(c)&=&\\frac{1}{2-0}\\int_0^2f(x)dx=4\\\\\n",
    "\\to &&c=1\n",
    "\\end{eqnarray}"
   ]
  },
  {
   "cell_type": "markdown",
   "metadata": {},
   "source": [
    "7. Find the "
   ]
  },
  {
   "cell_type": "markdown",
   "metadata": {},
   "source": [
    "Example\n",
    "---\n",
    "Find out the definite integrals:\n",
    "1. $\\int_1^2 (2 x + 1) d x = 4$\n",
    "    <img src=\"imgs/5/ch5-5.png\" width=40% />\n",
    "- $\\int_1^2 (2 x - 3) d x = 0$\n",
    "    <img src=\"imgs/5/ch5-6.png\" width=40% />\n",
    "- $\\int_1^2 |2x - 3| d x = 1 / 2$\n",
    "- $\\int^2_0 x^2 d x$ can not be calculated by the area method, but can\n",
    "    be done by the Riemann method:\n",
    "    <img src=\"imgs/5/ch5-7.png\" width=40% />\n",
    "    \\begin{eqnarray*}\n",
    "      \\int^2_0 x^2 d x & = & \\lim_{n \\rightarrow \\infty} \\sum_{k = 1}^n \n",
    "      \\left(  \\frac{2 k}{n}  \\right)^2 \\cdot \\frac{2}{n}\\\\\n",
    "      & = & \\lim_{n \\rightarrow \\infty} \\sum_{k = 1}^n \\frac{8}{n^3} \\cdot\n",
    "      k^2\\\\\n",
    "      & = & \\lim_{n \\rightarrow \\infty} \\frac{8}{n^3} \\cdot \\frac{1}{6} n (n\n",
    "      + 1) (2 n + 1)\\\\\n",
    "      & = & \\frac{8}{3}\n",
    "    \\end{eqnarray*}\n",
    "- $\\int^2_0 \\sqrt{4 - x^2} d x = \\frac{4 \\pi}{4} = \\pi$, since the\n",
    "    region under the graph $\\sqrt{4 - x^2}$ on $[0, 2]$ is one quarter of\n",
    "    circle with radius $2$.\n",
    "    <img src=\"imgs/5/ch5-8.png\" width=50% />\n",
    "- Find the average value of $f (x) = \\sqrt{4 - x^2} $ over $[0, 2]$.\n",
    "  - By the definition of average value of function, we have\n",
    "    $$ I_f = \\frac{\\pi}{2 - 0} = \\frac{\\pi}{2} $$\n",
    "    and by the formula, it occurs at:\n",
    "    \\begin{eqnarray*}\n",
    "      \\sqrt{4 - x_0^2} = \\frac{\\pi}{2}  & \\Longrightarrow & 4 - x_0^2 = \\left(\n",
    "      \\frac{\\pi}{2}  \\right)^2\\\\\n",
    "      & \\Longrightarrow & x_0 = \\sqrt{4 - \\left(  \\frac{\\pi}{2}  \\right)^2}\n",
    "    \\end{eqnarray*}"
   ]
  },
  {
   "cell_type": "markdown",
   "metadata": {},
   "source": [
    "**7.** \n",
    "- Since  $\\sin x$ is odd, $\\int^a_{-a}\\sin x d x=0$ for any $a\\in \\mathbb R$.\n",
    "- $\\int^1_{-1}|x|dx=\\int^1_0x d x=1$."
   ]
  },
  {
   "cell_type": "markdown",
   "metadata": {},
   "source": [
    "Example\n",
    "---\n",
    "1. Area of region under  the graph of $f(x)=4-x^2$ on $[-1,3]$, $\\int^{3}_{-1}(4-x^2) d x= 6\\frac{2}{3}$.\n",
    "- $\\int^4_{-4}\\sqrt{16-x^2} d x=8\\pi$"
   ]
  },
  {
   "cell_type": "markdown",
   "metadata": {},
   "source": [
    "Computer practice\n",
    "---\n",
    "  Calculate the definite integrals:\n",
    "  \n",
    "a). $\\int^2_{- 2} (x + 1) d x$ <br>\n",
    "b).  $\\int_{0^{}}^5 |2x - 4| d x$ <br>\n",
    "c).  $\\int_{- 3}^3 \\sqrt{9 - x^2 } d x$ <br> \n",
    "d).  $\\int^2_{- 2} x^3 d x$ <br>\n",
    "e).  $\\int^2_{- 2} (x^3 + 1) d x$ "
   ]
  },
  {
   "cell_type": "code",
   "execution_count": 80,
   "metadata": {
    "collapsed": true
   },
   "outputs": [],
   "source": [
    "?integrate"
   ]
  },
  {
   "cell_type": "code",
   "execution_count": 81,
   "metadata": {},
   "outputs": [
    {
     "data": {
      "text/plain": [
       "4"
      ]
     },
     "execution_count": 81,
     "metadata": {},
     "output_type": "execute_result"
    }
   ],
   "source": [
    "integrate(x+1,(x,-2,2))"
   ]
  },
  {
   "cell_type": "code",
   "execution_count": 83,
   "metadata": {},
   "outputs": [
    {
     "data": {
      "text/plain": [
       "13"
      ]
     },
     "execution_count": 83,
     "metadata": {},
     "output_type": "execute_result"
    }
   ],
   "source": [
    "integrate(-(2*x-4),(x,0,2))+integrate((2*x-4),(x,2,5))"
   ]
  },
  {
   "cell_type": "code",
   "execution_count": 85,
   "metadata": {},
   "outputs": [
    {
     "data": {
      "text/plain": [
       "9*pi/2"
      ]
     },
     "execution_count": 85,
     "metadata": {},
     "output_type": "execute_result"
    }
   ],
   "source": [
    "integrate(sqrt(9-x**2),(x,-3,3))"
   ]
  },
  {
   "cell_type": "code",
   "execution_count": 86,
   "metadata": {},
   "outputs": [
    {
     "data": {
      "text/plain": [
       "0"
      ]
     },
     "execution_count": 86,
     "metadata": {},
     "output_type": "execute_result"
    }
   ],
   "source": [
    "integrate(x**3,(x,-2,2))"
   ]
  },
  {
   "cell_type": "code",
   "execution_count": 87,
   "metadata": {},
   "outputs": [
    {
     "data": {
      "text/plain": [
       "4"
      ]
     },
     "execution_count": 87,
     "metadata": {},
     "output_type": "execute_result"
    }
   ],
   "source": [
    "integrate(x**3+1,(x,-2,2))"
   ]
  },
  {
   "cell_type": "markdown",
   "metadata": {},
   "source": [
    "Computer Practice\n",
    "---\n",
    "Find the average of $f (x) = \\sqrt{x + 1} $ over $[1, 4]$.\n",
    "1. integrate $f (x) = \\sqrt{x + 1} $ over $[1, 4]$:\n",
    "$$\\color{white}{\\int_1^4  \\sqrt{x + 1} d x=\\frac{2}{3}(\\sqrt{125}-\\sqrt{8})}$$\n",
    "2. divided by length of inteval:\n",
    "$$\\color{white}{\\frac{2}{3}(\\left.\\sqrt{125}-\\sqrt{8})\\right/(4-1)=\\frac{2}{9}(\\sqrt{125}-\\sqrt{8})}$$\n"
   ]
  },
  {
   "cell_type": "code",
   "execution_count": 3,
   "metadata": {
    "collapsed": true
   },
   "outputs": [],
   "source": [
    "from sympy import solve,symbols,integrate,diff"
   ]
  },
  {
   "cell_type": "code",
   "execution_count": 91,
   "metadata": {},
   "outputs": [
    {
     "data": {
      "text/plain": [
       "-4*sqrt(2)/9 + 10*sqrt(5)/9"
      ]
     },
     "execution_count": 91,
     "metadata": {},
     "output_type": "execute_result"
    }
   ],
   "source": [
    "avg=integrate(sqrt(x+1),(x,1,4))/(4-1)\n",
    "avg"
   ]
  },
  {
   "cell_type": "code",
   "execution_count": 99,
   "metadata": {},
   "outputs": [
    {
     "name": "stdout",
     "output_type": "stream",
     "text": [
      "  80⋅√10   451\n",
      "- ────── + ───\n",
      "    81      81\n"
     ]
    }
   ],
   "source": [
    "pprint(solve(sqrt(x+1)-avg,x)[0])"
   ]
  },
  {
   "cell_type": "code",
   "execution_count": 100,
   "metadata": {
    "collapsed": true
   },
   "outputs": [],
   "source": [
    "def favg(func,a=0,b=1):\n",
    "    avg=integrate(func,(x,a,b))/(b-a)\n",
    "    pprint(solve(func-avg,x)[0])"
   ]
  },
  {
   "cell_type": "code",
   "execution_count": 101,
   "metadata": {},
   "outputs": [
    {
     "name": "stdout",
     "output_type": "stream",
     "text": [
      "  80⋅√10   451\n",
      "- ────── + ───\n",
      "    81      81\n"
     ]
    }
   ],
   "source": [
    "favg(sqrt(x+1),a=1,b=4)"
   ]
  },
  {
   "cell_type": "markdown",
   "metadata": {},
   "source": [
    "Exercises, p401\n",
    "---\n",
    "**14.** \n",
    "$\\lim\\limits_{n\\to\\infty}\\sum_{k=1}^n 2c_k(1-c_k)^2\\vartriangle x\n",
    "  =\\mathbf{\\int_{\\color{white}{a}}^{\\color{white}{b}}{\\color{white}{2x(1-x)^2}} d x}$<br>\n",
    "**26.** $\\int_0^2\\sqrt{-x^2+2x}dx\n",
    "=\\mathbf{\\int_0^2\\sqrt{\\color{white}{1-(x-1)^2}}}dx=\\color{white}{\\pi/2}$<br>\n",
    "**36.** prove $\\int^1_0x^2 dx\\le\\int^1_0\\sqrt x dx$; since  $\\mathbf{x^2\\le\\sqrt x}$ for $x\\in[0,1]$<br>\n",
    "**44.** Estimate $\\int_{\\pi/4}^{\\pi/2}x\\sin x d x$:\n",
    "$$ \\frac{\\pi^2}{16\\sqrt2}=\\int_{\\pi/4}^{\\pi/2}\\frac{\\pi}{4}\\sin\\frac{\\pi}{4}  d x\\le\\int_{\\pi/4}^{\\pi/2}x\\sin x d x\\le\\int_{\\pi/4}^{\\pi/2}\\frac{\\pi}{2}\\sin\\frac{\\pi}{2}  d x=\\frac{\\pi^2}{8}$$\n",
    "**59.** Determine whether the Dirichelet function:\n",
    "$$f(x)=\\cases{1,& if $x$ is rational\\\\0, & otherwise}$$\n",
    "  - $x_k^*\\in\\mathbb Q$: $R_n(f)=\\sum\\limits_{k=1}^nf(x_k^*)\\frac{1}{n}=\\sum\\limits_{k=1}^n1\\cdot\\frac{1}{n}=1\\to1$;\n",
    "  - $x_k^*\\in\\mathbb {Q\\backslash R}$: $R_n(f)=\\sum\\limits_{k=1}^nf(x_k^*)\\frac{1}{n}=\\sum\\limits_{k=1}^n0\\cdot\\frac{1}{n}=0\\to0$;<br>\n",
    "These limits, taking sample points being rationals or irrationals respectively, are different; this means that the limit of Riemann sum **is** not convergent!\n",
    "  \n",
    "**64. (T or <font color=\"red\">F</font>)** If $f(x)$ is continuous on $[a,b]$. and $\\int_a^bf(x)dx>0$. Then $f(x)>0$ on $[a,b]$.<br> \n",
    "**66. ( <font color=\"red\">T</font> or F)** If $f(x)$ is nonnegative and continuous on $[a,b]$. and $a<c<d<b$. Then $\\int_c^df(x)dx<\\int_a^bf(x)dx$.<br> "
   ]
  },
  {
   "cell_type": "markdown",
   "metadata": {},
   "source": [
    "4.5 Fundamental Theorem of Calculus\n",
    "---\n",
    "\n",
    "Fundamental Theorem of Calculus, FTC\n",
    "---\n",
    "(**Part I, Differentiation under Integral sign**)If $f (x)$ is \\ continuous on $[a, b],$ then $\\int_a^x f (t) d t$ is differentiable for $x \\in (a, b)$,and\n",
    "$$ \\frac{d}{d x} \\int^x_a f (t) d t = f (x) $$\n",
    "(**Part II, Evaluate Definite Integral via Indefinite Integral**) Assume that $F (x)$ is an indefinite integral of $f (x) $, then\n",
    "$$ \\int_a^b f (x) d x = \\left. F (x) \\right|^b_a = F (b) - F (a) $$\n",
    " <img src=\"imgs/5/ch5-9.png\" width=70% />\n",
    "From the above picture, let\n",
    "$$ F (x) = \\int^x_a f (t) d t $$\n",
    "Then\n",
    "\\begin{eqnarray*}\n",
    "  & \\frac{F (x + h) - F (x)}{h} = \\frac{1}{h} \\int^{x + h}_x f (t) d t & \\\\\n",
    "  \\Longrightarrow & \\frac{1}{h} \\int^{x + h}_x f (t) d t = f (x^{\\ast})  &\n",
    "  \\text{ by MVT }\\\\\n",
    "  &  & \\\\\n",
    "  & \\text{ and } f (x^{\\ast}) \\longrightarrow f (x) & \\text{ as } h \\rightarrow\n",
    "  0\\\\\n",
    "  \\overset{h \\rightarrow 0}{\\Longrightarrow} & F' (x) = f (x)  & \n",
    "\\end{eqnarray*}\n",
    "The last one holds since $f (x)$ is continuous. And the second part of FTC can\n",
    "be proved by the defintion of indefinite integral:\n",
    "\n",
    "Obviously, $\\int^x_a f (t) d t$ is also an indefinite integral of $f (x)$ by\n",
    "the first part of FTC. Then\n",
    "$$ \\int^x_a f (t) d t = F (x) + C \\text{ for some } C \\in \\mathbb{R} $$\n",
    "Taking $x = a$ gets $C = - F (a)$. Taking $x = b$ proves the FTC.\n"
   ]
  },
  {
   "cell_type": "markdown",
   "metadata": {},
   "source": [
    "Example\n",
    "---\n",
    "1. $\\left(\\int_{-1}^{x}\\frac{dt}{1+t^2}\\right)'=\\frac{1}{1+x^2}$.\n",
    "-  $\\left(\\int_{x}^{3}\\sqrt{1+t^2}dt\\right)'=\\sqrt{1+x^2}$.\n",
    "- $\\left(\\int_{0}^{x^3}\\cos t^2{dt}\\right)'=3x^2\\cos x^2$."
   ]
  },
  {
   "cell_type": "markdown",
   "metadata": {},
   "source": [
    "Example\n",
    "---\n",
    "  Differentiate the following:\n",
    "  \n",
    "a) $\\int^x_0 t e^{- t / 2} d t$ <br>\n",
    "b)  $\\int^x_2 t e^{- t / 2} d t$ <br>\n",
    "c)  $\\int^{2 x}_0 t e^{- t / 2} d t$ <br>\n",
    "d)  $\\int^1_x t e^{- t / 2} d t$ <br>\n",
    "e) $\\int^{2 x}_x t e^{- t / 2} d t$\n",
    "  \n",
    "\n",
    "Solution\n",
    "---\n",
    "a), b)\n",
    "Let $F (x) = \\int^x_c t e^{- t / 2} d t$ for any $c\\in\\mathbb{R}$. Then by FTC, we have\n",
    "$$ F' (x) = x e^{- x / 2} $$\n",
    "  \n",
    "c)  Since $\\int^{2 x}_0 t e^{- t / 2} d t$ can be rewitten as $F (2 x)$,\n",
    "  by chain rule, its derivative is:\n",
    "$$ \\frac{d}{d x} F (2 x) = (2 x)' F' (2 x) = 2 \\cdot 2 x e^{- x} $$\n",
    "d)  Since\n",
    "  $$ \\int^1_x t e^{- t / 2} d t \\text{ =} \\int^1_0 t e^{- t / 2} - \\int^x_0 t\n",
    "     e^{- t / 2} $$\n",
    " differentiating both sites gets\n",
    "  $$ \\frac{d}{d x} \\int^1_x t e^{- t / 2} d t = - x e^{- x / 2} $$\n",
    "e)  Note this integral is equal to $F (2 x) - F (x)$. Theirfore the\n",
    "  derivative of this integral is equal to\n",
    "  $$ \\frac{d}{d x} \\int^{2 x}_x t e^{- t / 2} d t = 4 x e^{- x} - x e^{- x / 2} $$\n"
   ]
  },
  {
   "cell_type": "markdown",
   "metadata": {},
   "source": [
    "Computer practice\n",
    "---\n",
    "  Let $F (x) = \\int^x_0 e^{- t^2} d t$. Evaluate the following:\n",
    "  \n",
    "a)  $\\frac{d}{d x} \\int^{x^2}_0 e^{- t^2} d t$ <br>\n",
    "b)  $\\frac{d}{d x} \\int^{1 - x}_0 e^{- t^2} d t$ <br>\n",
    "c)  $\\frac{d}{d x} \\int^{x^2}_{1 - x} e^{-t^2} d t$\n",
    "  "
   ]
  },
  {
   "cell_type": "code",
   "execution_count": 5,
   "metadata": {
    "collapsed": true
   },
   "outputs": [],
   "source": [
    "from sympy import exp,pprint,symbols\n",
    "t,x = symbols(\"t x\")"
   ]
  },
  {
   "cell_type": "code",
   "execution_count": 7,
   "metadata": {},
   "outputs": [
    {
     "data": {
      "text/plain": [
       "exp(-x**2/2)"
      ]
     },
     "execution_count": 7,
     "metadata": {},
     "output_type": "execute_result"
    }
   ],
   "source": [
    "diff(integrate(exp(-t**2/2),(t,0,x)),x)"
   ]
  },
  {
   "cell_type": "code",
   "execution_count": 1,
   "metadata": {
    "collapsed": true
   },
   "outputs": [],
   "source": [
    "from sympy import diff\n",
    "\n",
    "def FTCI(f,a,b):\n",
    "    print(\"                   \",b)\n",
    "    print(\"The derivative of  ʃ %s dt is \" %f)\n",
    "    print(\"                   \",a)\n",
    "    pprint(diff(integrate(f,(t,a,b)),x))"
   ]
  },
  {
   "cell_type": "code",
   "execution_count": 11,
   "metadata": {},
   "outputs": [
    {
     "name": "stdout",
     "output_type": "stream",
     "text": [
      "                    x\n",
      "The derivative of  ʃ exp(-t**2/2) dt is \n",
      "                    0\n",
      "   2 \n",
      " -x  \n",
      " ────\n",
      "  2  \n",
      "ℯ    \n"
     ]
    }
   ],
   "source": [
    "FTCI(exp(-t**2/2),0,x)"
   ]
  },
  {
   "cell_type": "code",
   "execution_count": 12,
   "metadata": {},
   "outputs": [
    {
     "name": "stdout",
     "output_type": "stream",
     "text": [
      "                    x**2\n",
      "The derivative of  ʃ exp(-t**2/2) dt is \n",
      "                    0\n",
      "       4 \n",
      "     -x  \n",
      "     ────\n",
      "      2  \n",
      "2⋅x⋅ℯ    \n"
     ]
    }
   ],
   "source": [
    "FTCI(exp(-t**2/2),0,x**2)"
   ]
  },
  {
   "cell_type": "code",
   "execution_count": 13,
   "metadata": {},
   "outputs": [
    {
     "name": "stdout",
     "output_type": "stream",
     "text": [
      "                    -x + 1\n",
      "The derivative of  ʃ exp(-t**2/2) dt is \n",
      "                    0\n",
      "           2 \n",
      "  -(-x + 1)  \n",
      "  ───────────\n",
      "       2     \n",
      "-ℯ           \n"
     ]
    }
   ],
   "source": [
    "FTCI(exp(-t**2/2),0,1-x)"
   ]
  },
  {
   "cell_type": "code",
   "execution_count": 14,
   "metadata": {},
   "outputs": [
    {
     "name": "stdout",
     "output_type": "stream",
     "text": [
      "                    x**2\n",
      "The derivative of  ʃ exp(-t**2/2) dt is \n",
      "                    -x + 1\n",
      "       4              2 \n",
      "     -x      -(-x + 1)  \n",
      "     ────    ───────────\n",
      "      2           2     \n",
      "2⋅x⋅ℯ     + ℯ           \n"
     ]
    }
   ],
   "source": [
    "FTCI(exp(-t**2/2),1-x,x**2)"
   ]
  },
  {
   "cell_type": "markdown",
   "metadata": {},
   "source": [
    "Natural Logarithmic function\n",
    "---\n",
    "The natural logarithmic function, $\\ln x$, is defined as the area of region of $f(x)=1/x$ from $1$ to $x$:\n",
    "$$\\ln x=\\int^x_1\\frac{dt}{t}$$"
   ]
  },
  {
   "cell_type": "code",
   "execution_count": 14,
   "metadata": {},
   "outputs": [
    {
     "data": {
      "text/plain": [
       "(0, 3)"
      ]
     },
     "execution_count": 14,
     "metadata": {},
     "output_type": "execute_result"
    },
    {
     "data": {
      "image/png": "[encoded data removed]",
      "text/plain": [
       "<matplotlib.figure.Figure at 0x10861da20>"
      ]
     },
     "metadata": {},
     "output_type": "display_data"
    }
   ],
   "source": [
    "x=np.linspace(1,2.5,101)\n",
    "y=np.linspace(1/3,4,101)\n",
    "plt.plot(x,1/x,'blue')\n",
    "plt.plot(y,1/y,'blue')\n",
    "plt.fill_between(x,1/x,alpha=0.1)\n",
    "plt.text(1.5,1, \"$f(x)=1/x$\",size=16)\n",
    "plt.text(1.6,0.25, \"$\\ln x$\",size=16)\n",
    "plt.text(2.5,-0.2, \"$x$\",size=16)\n",
    "plt.xlim(0,5)\n",
    "plt.ylim(0,3)"
   ]
  },
  {
   "cell_type": "markdown",
   "metadata": {},
   "source": [
    "Derivative of $\\ln x$ is\n",
    "$$(\\ln x)'=\\frac{d}{dx}\\int^x_1\\frac{dt }{t}=\\frac{1}{x}$$\n",
    "by FTC."
   ]
  },
  {
   "cell_type": "markdown",
   "metadata": {},
   "source": [
    "Example\n",
    "---\n",
    "1. $(f(x))'=(\\sqrt{x^2+1})'=\\frac{x}{1+x^2}$.\n",
    "-  (Logaritmic Differentiation)\n",
    "Assume $f(x)=\\frac{(2x-1)^3}{\\sqrt{3x+1}}$. Then\n",
    "  - $(\\ln f)'=f'/f$;\n",
    "  - but  $\\ln(f(x))=3\\ln(2x-1)-(3x+1)/2$\n",
    "  - and\n",
    "  $$ (f(x))'=f\\cdot (\\ln f)'=f\\cdot\\left(\\frac{6}{2x-1}-\\frac{3}{2(3x+1)} \\right)$$"
   ]
  },
  {
   "cell_type": "markdown",
   "metadata": {},
   "source": [
    "p.529\n",
    "---\n",
    "**78.**\n",
    "$\\int\\frac{\\sqrt{1+\\ln x}}{x}dx= 2u^{3/2}/3+C=2(1+\\ln x)^{3/2}/3+C$ where $u=1+\\ln x$.\n"
   ]
  },
  {
   "cell_type": "markdown",
   "metadata": {},
   "source": [
    "\n",
    "**92.**\n",
    "$$\\frac{d}{dx}\\int^{x^2}_{2/x}\\frac{dt}{t}=\\frac{2x}{x^2}-\\frac{-2x^{-2}}{2/x}=\\frac{3}{x}$$.\n"
   ]
  },
  {
   "cell_type": "markdown",
   "metadata": {},
   "source": [
    "Example\n",
    "---\n",
    "  Since an antiderivative for $f (x) = x$ is $F (x) = \\frac{1}{2} x^2$. Thus,\n",
    "  we have the following result:\n",
    "  \\begin{eqnarray*}\n",
    "    \\int^2_0 x d x & = & \\left. \\frac{x^2}{2} \\right|^{^2}_{_0}\\\\\n",
    "    & = & 8\n",
    "  \\end{eqnarray*}\n",
    "\n",
    "Example\n",
    "---\n",
    "Calculate the following definite integral:\n",
    "\\begin{eqnarray*}\n",
    "    \\int_{- 1}^1 (4 x^3 - 3 x^2 + 9) d x & = &  \\left.x^4 - x^3 + 9 x\\right|^{^1}_{_{- 1}}\\\\\n",
    "    & = & 16\n",
    "  \\end{eqnarray*}\n"
   ]
  },
  {
   "cell_type": "markdown",
   "metadata": {},
   "source": [
    "Natural Exponential Functions\n",
    "---\n",
    "$\\exp{x}=y$ if and only if $\\ln y=x$.\n",
    "\n",
    "Derivative of Exponentials\n",
    "---\n",
    "$\\frac{\\ln y}{d x}=\\frac{d x}{dx}=1$ implies $y'=y=\\exp x$."
   ]
  },
  {
   "cell_type": "markdown",
   "metadata": {},
   "source": [
    "Example\n",
    "---\n",
    "1. $\\left.(\\exp x)'\\right|_{x=0}=\\exp0=1$;\n",
    "- $$\\lim_{h\\to0}\\frac{e^h-1}{h}=1$$"
   ]
  },
  {
   "cell_type": "markdown",
   "metadata": {},
   "source": [
    "p.549\n",
    "---\n",
    "**38.**\n",
    "$ (e^{-x}\\tan e^x)'=-e^{-x}\\tan e^x+\\sec^2 e^x$.\n"
   ]
  },
  {
   "cell_type": "markdown",
   "metadata": {},
   "source": [
    "**92.**\n",
    "$\\int\\frac{e^{-1/x}}{x^2}dx=e^u+c=e^{-1/x}+c$ where $u=-1/x$."
   ]
  },
  {
   "cell_type": "markdown",
   "metadata": {},
   "source": [
    "Since by basci property of integration, (10), the above example can be derived as:\n",
    "\\begin{eqnarray*}\n",
    "  \\int_{- 1}^1 (4 x^3 - 3 x^2 + 9) d x & = & 2 \\int_0^1 (- 3 x^2 + 9) d x\\\\\n",
    "  & = & 16\n",
    "\\end{eqnarray*}"
   ]
  },
  {
   "cell_type": "markdown",
   "metadata": {},
   "source": [
    "Eexample\n",
    "---\n",
    "  Evaluate the following differentiation:\n",
    "  \\begin{eqnarray*}\n",
    "    \\frac{d}{d x} \\int^x_0 t^{1 / 2} e^{- t} d t & = & x^{1 / 2} e^{- x}\n",
    "  \\end{eqnarray*}\n",
    "  Note that different lower limit does not inflence the result!\n",
    "\n",
    "Example\n",
    "---\n",
    "Evaluate the following differentiation:\n",
    "1. \n",
    "\\begin{eqnarray*}\n",
    "      \\frac{d}{d x} \\int^1_x t^{1 / 2} e^{- t} d t & = & - \\frac{d}{d x}\n",
    "      \\int^x_0 t^{1 / 2} e^{- t} d t\\\\\n",
    "      & = & - x^{1 / 2} e^{- x}\n",
    "    \\end{eqnarray*}\n",
    "- \n",
    "\\begin{eqnarray*}\n",
    "      \\frac{d}{d x} \\int^{x^2}_0 t^{1 / 2} e^{- t} d t & = & \\left.(x^2)' \\cdot t^{1\n",
    "      / 2} e^{- t} \\right|_{t = x^2}\\\\\n",
    "      & = & 2 x^2 e^{- x^2}\n",
    "    \\end{eqnarray*}\n",
    "- \n",
    "\\begin{eqnarray*}\n",
    "      \\frac{d}{d x} \\int^{x^2}_x t^{1 / 2} e^{- t} d t & = & 2 x^2 e^{- x^2} -\n",
    "      x^{1 / 2} e^{- x}\n",
    "    \\end{eqnarray*}\n"
   ]
  },
  {
   "cell_type": "markdown",
   "metadata": {},
   "source": [
    "The technique of differentiating under integral sign is usually used to find\n",
    "the the probability density function with known distribution function in\n",
    "Probability and Statistics.\n",
    "\n",
    "Exercise\n",
    "---\n",
    "  Evaluate $\\int^2_0 \\frac{x - 1}{x + 2} d x$  and $\\int_0^{\\ln 2}\n",
    "  \\frac{e^x}{1 + e^x} d x$.\n",
    "  \n",
    "Solution\n",
    "---\n",
    "-  Since $(x - 1) / (x + 2) = 1 - 3$ and  $(x + 2)$,we have\n",
    "\n",
    "\\begin{eqnarray}\n",
    "      \\int^2_0 \\frac{x - 1}{x + 2} d x = \\int^2_0 (1 - \\frac{3}{x + 2}) d x &\n",
    "      = \\left(x - 3 \\ln |x + 2|) \\right| ^{^2}_{_0} = 2 - 3 \\ln 2\n",
    "\\end{eqnarray}\n",
    "\n",
    "- Let $u = 1 + e^x$, then $d u = e^x d x$ and\n",
    "$$ \\int \\frac{e^x}{1 + e^x} d x = \\ln |1 + e^x | + C $$\n",
    "Then\n",
    "$$ \\int_0^{\\ln 2} \\frac{e^x}{1 + e^x} d x = \\left.\\ln |1 + e^x |  \\right|^{\\ln 2}_{_0} = \\ln 3 - \\ln 2 $$\n"
   ]
  },
  {
   "cell_type": "markdown",
   "metadata": {},
   "source": [
    "1. $\\int_1^2(x^3-2x^2+1)dx=\\left.\\left(x^4/4-2x^3/3+x\\right)\\right|_1^2=1/12$\n",
    "- $\\int_0^4\\sqrt x dx=\\left.2x^{3/2}/3\\right|_0^4=32/3$,\n",
    "- $\\int_0^{\\pi/2}\\cos x dx=\\left.\\sin x\\right|_0^{\\pi/2}=1$.\n"
   ]
  },
  {
   "cell_type": "markdown",
   "metadata": {},
   "source": [
    "Example\n",
    "---\n",
    "\\begin{eqnarray}\n",
    "&&f(x)=\\cases{-x^2+1&if $x<0$,\\\\\n",
    "               x^3+1&if $x\\ge0$}\\\\\n",
    "\\int_{-2}^{2}f(x)dx&=&\\int_{-2}^{0}(-x^2+1)dx+\\int_{0}^{2}(x^3+1)dx\\\\\n",
    "                      &=&16/3\n",
    "\\end{eqnarray}"
   ]
  },
  {
   "cell_type": "markdown",
   "metadata": {},
   "source": [
    "Example\n",
    "---\n",
    "\\begin{eqnarray}\n",
    "\\int^2_0x\\sqrt{x^2+4}dx&=&\\left.\\frac{(x^2+4)^{3/2}}{3}\\right|^2_0=\\frac{8}{3}(2\\sqrt2-1)\n",
    "\\end{eqnarray}"
   ]
  },
  {
   "cell_type": "markdown",
   "metadata": {},
   "source": [
    "Example\n",
    "---\n",
    "---\n",
    "\\begin{eqnarray}\n",
    "\\int^{\\pi/4}_0\\cos^3 2x\\sin 2xdx&=&\\left.\\frac{1}{8}\\cos^42x\\right|^{\\pi/4}_0=\\frac{1}{8}\n",
    "\\end{eqnarray}"
   ]
  },
  {
   "cell_type": "markdown",
   "metadata": {},
   "source": [
    "Finding Areas by Integration\n",
    "---\n",
    "\n",
    "Assume that $f (x), g (x)$ are continuous on $[a, b]$, the area of region\n",
    "bounded by the graphs of\n",
    "\n",
    "$f (x), g (x)$ from $x = a$ to $x = b$ is:\n",
    "$$ \\int_a^b |f (x) - g (x) | d x $$\n",
    "\n",
    "Example\n",
    "---\n",
    "-  Calulate the area of the region $R$ bounded by the graph of $f (x) =\n",
    "  \\sqrt{x} + 2$ and $X$-axis between $x = 1$ and $x = 4$.  "
   ]
  },
  {
   "cell_type": "code",
   "execution_count": 1,
   "metadata": {
    "collapsed": true
   },
   "outputs": [],
   "source": [
    "import numpy as np\n",
    "import matplotlib.pyplot as plt\n",
    "\n",
    "%matplotlib inline"
   ]
  },
  {
   "cell_type": "code",
   "execution_count": 21,
   "metadata": {},
   "outputs": [
    {
     "data": {
      "text/plain": [
       "(0, 5)"
      ]
     },
     "execution_count": 21,
     "metadata": {},
     "output_type": "execute_result"
    },
    {
     "data": {
      "image/png": "[encoded data removed]",
      "text/plain": [
       "<matplotlib.figure.Figure at 0x109ce68d0>"
      ]
     },
     "metadata": {},
     "output_type": "display_data"
    }
   ],
   "source": [
    "x=np.linspace(1,4,101)\n",
    "plt.plot(x,np.sqrt(x)+2,x,0*x,'blue')\n",
    "plt.fill_between(x,np.sqrt(x)+2,0*x,alpha=0.1)\n",
    "plt.xlim(0,5)"
   ]
  },
  {
   "cell_type": "markdown",
   "metadata": {},
   "source": [
    " This means that$\\int^4_1 | \\sqrt{x} + 2| d x = 32 / 3$\n",
    "  "
   ]
  },
  {
   "cell_type": "markdown",
   "metadata": {},
   "source": [
    "Example\n",
    "---\n",
    " The area of the region $R$ bounded by the graph of $f (x) = 2 + x -\n",
    "  x^2$ and $X$-axis is\n",
    "  $$\\int_{-1}^2 |2+x-x^2-0| d x$$\n",
    "  where $2, - 1$ are the $x$-intercept points of $f (x)$.\n",
    "  "
   ]
  },
  {
   "cell_type": "code",
   "execution_count": 20,
   "metadata": {},
   "outputs": [
    {
     "data": {
      "text/plain": [
       "(-2, 3)"
      ]
     },
     "execution_count": 20,
     "metadata": {},
     "output_type": "execute_result"
    },
    {
     "data": {
      "image/png": "[encoded data removed]",
      "text/plain": [
       "<matplotlib.figure.Figure at 0x109e71860>"
      ]
     },
     "metadata": {},
     "output_type": "display_data"
    }
   ],
   "source": [
    "x=np.linspace(-1,2,101)\n",
    "plt.plot(x,2+x-x**2,x,0*x,'b')\n",
    "plt.fill_between(x,2+x-x**2,0*x,alpha=0.1)\n",
    "plt.xlim(-2,3)"
   ]
  },
  {
   "cell_type": "markdown",
   "metadata": {},
   "source": [
    "Thus, the area is $\\int^2_{- 1} (2 + x - x^2) d x=9/2$. "
   ]
  },
  {
   "cell_type": "code",
   "execution_count": 176,
   "metadata": {},
   "outputs": [
    {
     "data": {
      "text/plain": [
       "9/2"
      ]
     },
     "execution_count": 176,
     "metadata": {},
     "output_type": "execute_result"
    }
   ],
   "source": [
    "x=Symbol(\"x\")\n",
    "integrate(2+x-x**2,(x,-1,2))"
   ]
  },
  {
   "cell_type": "markdown",
   "metadata": {},
   "source": [
    "Example\n",
    "---\n",
    "- The area of the region $R$ bounded above by the graph of $f (x) = |x\n",
    "  + 3|$ and below by \\ $X$-axis between $x = 1$ and $x = 6$ is \n",
    "  $$\\int^6_1 |x +2| d x = 13 / 2$$.\n",
    "- The area of the region $R$ bounded above by the graph of $f (x) = e^x$\n",
    "  and below by \\ $g (x) = 1 / x$ for $1 \\leqslant x \\leqslant 2$ is \n",
    "$$\\int^2_1(e^x - \\frac{1}{x}) d x = e^2 - e - \\ln 2$$.\n",
    "  \n",
    "- The area of the region $R$ bounded by the graphs of $f (x) = x^3 - 4\n",
    "  x$ and \\ $g (x) = 5 x$ \\ is $$\\int^3_{- 3} |x^3 - 5 x| d x = 81 / 2$$."
   ]
  },
  {
   "cell_type": "markdown",
   "metadata": {},
   "source": [
    "Example\n",
    "---\n",
    "Evaluate these definite integrals:\n",
    "a)  $\\int_0^1 x e^{1 - x^2} d x$  b) \\ $\\int_0^4 \\frac{x}{\\sqrt{4 +\n",
    "  x^2}} d x$  c) $\\int^e_1 \\frac{\\sqrt{1 + \\ln x}}{x} d x$  d) \n",
    "  $\\int_0^1 \\frac{x}{1 + x^2} d x$\n",
    "\n",
    "Also these can be evaluated by:\n",
    "- $\\int_0^1 x e^{1 - x^2} d x = .\\left. \\frac{1}{2} e^{1 - x^2} \\right|^1_0\n",
    "    = (e - 1) / 2$;\n",
    "- $\\int_0^4 \\frac{x}{\\sqrt{4 + x^2}} d x = \\left.\\sqrt{4 + x^2} \\right|^4_0\n",
    "    = \\sqrt{20} - 2$;\n",
    "- $\\int^e_1 \\frac{\\sqrt{1 + \\ln x}}{x} d x = \\left.2 \\sqrt{(1 + \\ln x)^3} /\n",
    "    3 \\right|^e_1 = 2 (\\sqrt{8} - 1) / 3$\n",
    "- $\\int^1_0 \\frac{x}{1 + x^2} d x = \\left.\\ln (1 + x^2) / 2\n",
    "    \\right|^{^1}_{_0} = \\ln 2 / 2$"
   ]
  },
  {
   "cell_type": "markdown",
   "metadata": {},
   "source": [
    "Computer practice\n",
    "---\n",
    "  Find the area of the region $R$ bounded by the graph of $e^{x - 1} + e^{- x\n",
    "  + 1} - e^2 - e^{- 2}$ and $X$-axis. Also find the area of the region $R$\n",
    "  bounded by the graph of $x \\sqrt{16 - x^2}$ and $X$-axis.\n"
   ]
  },
  {
   "cell_type": "code",
   "execution_count": 18,
   "metadata": {},
   "outputs": [
    {
     "data": {
      "text/plain": [
       "<matplotlib.collections.PolyCollection at 0x10a35c978>"
      ]
     },
     "execution_count": 18,
     "metadata": {},
     "output_type": "execute_result"
    },
    {
     "data": {
      "image/png": "[encoded data removed]",
      "text/plain": [
       "<matplotlib.figure.Figure at 0x10a35c940>"
      ]
     },
     "metadata": {},
     "output_type": "display_data"
    }
   ],
   "source": [
    "from numpy import exp\n",
    "x=np.linspace(-1,3,101)\n",
    "plt.plot(x,exp(x-1)+exp(-x+1)-exp(2)-exp(-2),x,0*x,'b')\n",
    "plt.fill_between(x,exp(x-1)+exp(-x+1)-exp(2)-exp(-2),0*x,alpha=0.1)\n"
   ]
  },
  {
   "cell_type": "code",
   "execution_count": 197,
   "metadata": {},
   "outputs": [
    {
     "data": {
      "text/plain": [
       "-2*exp(2) + 2*exp(-2) + 4*(1 + exp(4))*exp(-2)"
      ]
     },
     "execution_count": 197,
     "metadata": {},
     "output_type": "execute_result"
    }
   ],
   "source": [
    "from sympy import integrate,exp\n",
    "x=Symbol(\"x\")\n",
    "integrate(exp(2)+exp(-2)-exp(x-1)-exp(-x+1),(x,-1,3))"
   ]
  },
  {
   "cell_type": "markdown",
   "metadata": {},
   "source": [
    "$\\int_{-1}^3|e^{x-1}+e^{-x+1}-e^{2}-e^{-2}| d x=2e^2+6e^{-2}$"
   ]
  },
  {
   "cell_type": "code",
   "execution_count": 19,
   "metadata": {},
   "outputs": [
    {
     "data": {
      "text/plain": [
       "<matplotlib.collections.PolyCollection at 0x10a08acc0>"
      ]
     },
     "execution_count": 19,
     "metadata": {},
     "output_type": "execute_result"
    },
    {
     "data": {
      "image/png": "[encoded data removed]",
      "text/plain": [
       "<matplotlib.figure.Figure at 0x10a08a208>"
      ]
     },
     "metadata": {},
     "output_type": "display_data"
    }
   ],
   "source": [
    "from numpy import sqrt\n",
    "x=np.linspace(-4,4,101)\n",
    "plt.plot(x,x*sqrt(16-x**2),x,0*x,'b')\n",
    "plt.fill_between(x,x*sqrt(16-x**2),0*x,alpha=0.1)\n"
   ]
  },
  {
   "cell_type": "code",
   "execution_count": 194,
   "metadata": {},
   "outputs": [
    {
     "data": {
      "text/plain": [
       "128/3"
      ]
     },
     "execution_count": 194,
     "metadata": {},
     "output_type": "execute_result"
    }
   ],
   "source": [
    "from sympy import integrate,sqrt\n",
    "x=Symbol(\"x\")\n",
    "2*integrate(x*sqrt(16-x**2),(x,0,4))"
   ]
  },
  {
   "cell_type": "markdown",
   "metadata": {},
   "source": [
    "$\\int_{0}^4|x\\sqrt{16-x^2}| d x=128/3$"
   ]
  },
  {
   "cell_type": "markdown",
   "metadata": {
    "collapsed": true
   },
   "source": [
    "Exercise p416\n",
    "---\n"
   ]
  },
  {
   "cell_type": "markdown",
   "metadata": {},
   "source": [
    "**16.**\n",
    "$\\mathbf{\\left(\\int^5_{\\sqrt x}\\frac{\\sin t^2}{t}dt\\right)'= -\\frac{\\sin x}{2x}}$"
   ]
  },
  {
   "cell_type": "code",
   "execution_count": 8,
   "metadata": {},
   "outputs": [
    {
     "name": "stdout",
     "output_type": "stream",
     "text": [
      "                    5\n",
      "The derivative of  ʃ sin(t**2)/t dt is \n",
      "                    sqrt(x)\n",
      "-sin(x) \n",
      "────────\n",
      "  2⋅x   \n"
     ]
    }
   ],
   "source": [
    "from sympy import sin,sqrt,pi,integrate\n",
    "from sympy import *\n",
    "FTCI(sin(t**2)/t,sqrt(x),5)"
   ]
  },
  {
   "cell_type": "markdown",
   "metadata": {},
   "source": [
    "**28.** \n",
    "$\\int^\\pi_0|\\cos x|dx=\\int_0^{\\pi/2}\\cos x dx-\\int_{\\pi/2}^{\\pi}\\cos x d x=2$\n"
   ]
  },
  {
   "cell_type": "markdown",
   "metadata": {},
   "source": [
    "**48.**\n",
    "$\\int_{-\\pi/4}^{\\pi/4}\\frac{\\tan^3 x}{1+x^2}dx=0$ sine the integrand is odd."
   ]
  },
  {
   "cell_type": "markdown",
   "metadata": {},
   "source": [
    "**56.** The area of the region of $f(x)=|\\sin x|$ over $[-\\pi/2,\\pi]$ is\n",
    "$$\\int_{-\\pi/2}^{\\pi}|\\sin x| d x= -\\int_{-\\pi/4}^0\\sin x dx+\\int_0^\\pi\\sin x dx=2+1/\\sqrt2$$"
   ]
  },
  {
   "cell_type": "markdown",
   "metadata": {},
   "source": [
    "**62.**\n",
    "\n",
    "\\begin{eqnarray}\n",
    "&&\\lim_{n\\to\\infty}\\frac{2\\pi}{n}\\sum_{k=1}^n\\cos\\left(\\frac{k\\pi}{2n}\\right)\n",
    "&=&\\int^{\\pi/2}_{0}\\cos x d x=1\n",
    "\\end{eqnarray}\n",
    "\n",
    "since $\\vartriangle x=\\frac{\\pi/2-0}{n}$, i.e.$a=0,b=\\pi/2$, $\\cos\\left(\\frac{k\\pi}{2n}\\right)=\\cos(k\\vartriangle x)$, i.e.\n",
    "$x_k^*$ being right end point  in each subinterval."
   ]
  },
  {
   "cell_type": "code",
   "execution_count": null,
   "metadata": {
    "collapsed": true
   },
   "outputs": [],
   "source": []
  }
 ],
 "metadata": {
  "kernelspec": {
   "display_name": "Python 3",
   "language": "python",
   "name": "python3"
  },
  "language_info": {
   "codemirror_mode": {
    "name": "ipython",
    "version": 3
   },
   "file_extension": ".py",
   "mimetype": "text/x-python",
   "name": "python",
   "nbconvert_exporter": "python",
   "pygments_lexer": "ipython3",
   "version": "3.5.2"
  }
 },
 "nbformat": 4,
 "nbformat_minor": 1
}
