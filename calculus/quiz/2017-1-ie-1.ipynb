{
 "cells": [
  {
   "cell_type": "markdown",
   "metadata": {},
   "source": [
    "# <div align=\"center\">Calculus, 2017-1-IE-1</div>\n",
    "\n",
    "<h3><div align=\"right\">Name:&nbsp;&nbsp;&nbsp;&nbsp;&nbsp;&nbsp;&nbsp;&nbsp;&nbsp;&nbsp;&nbsp;&nbsp;&nbsp;&nbsp;&nbsp;&nbsp;&nbsp;&nbsp;&nbsp;&nbsp;  Sequence Number:&nbsp;&nbsp;&nbsp;&nbsp;&nbsp;&nbsp;&nbsp;&nbsp;&nbsp;&nbsp;&nbsp;&nbsp;&nbsp;&nbsp;&nbsp;&nbsp;&nbsp;&nbsp;&nbsp;&nbsp;&nbsp;&nbsp;&nbsp;&nbsp;</div></h3>\n"
   ]
  },
  {
   "cell_type": "markdown",
   "metadata": {
    "collapsed": true
   },
   "source": [
    "<big>\n",
    "<big><b>1$^\\circ$). </b> </big>\n",
    "Find the following limits: (total 10%, each 5%) <br>\n",
    "a$^\\circ$). $\\mathbf{\\lim\\limits_{\\theta\\to0}\\frac{\\sin2 \\theta }{\\theta}}$\n",
    "\n",
    "b$^\\circ$). $\\mathbf{\\lim\\limits_{x\\to\\pi/4}\\frac{\\sin{x}-\\frac{\\sqrt2}{2}}{x-\\frac{\\pi}{4}}}$ (Hint: Consider the derivative of $\\mathbf{\\sin{x}}$).\n",
    "</big> "
   ]
  },
  {
   "cell_type": "markdown",
   "metadata": {},
   "source": [
    "<big>\n",
    "<big><b>2$^\\circ$).</b></big>\n",
    "Evaluate the following derivatives of given functions: (total 30%, each 5% ($\\color{brown}{\\times6}$))<br />\n",
    "a$^\\circ$). $\\mathbf{\\left[\\left(\\frac{x-x^{-1}}{x}\\right)^{2} \\right]' }$\n",
    "b$^\\circ$). $\\mathbf{\\left[\\sqrt{\\left(\\frac{1}{x}\\right) } \\right]'}$\n",
    "c$^\\circ$). $\\mathbf{\\left[x^2 \\cos x \\right]'}$\n",
    "d$^\\circ$). $\\mathbf{\\left[\\frac{2x-x^2}{x-1} \\right]'}$\n",
    "<br />\n",
    "e$^\\circ$). $\\mathbf{\\left.\\frac{d }{dx}(x^4-x^3-4x+6)\\right|_{x=1} }$\n",
    "f$^\\circ$). $\\mathbf{\\frac{d }{dx}\\left( \\frac{1+\\sin x}{\\cos x}\\right)}$\n",
    "g$^\\circ$). $\\mathbf{D_x\\left(\\sin x^3\\right)}$<br />\n",
    "\n",
    "</big> "
   ]
  },
  {
   "cell_type": "markdown",
   "metadata": {},
   "source": [
    "<big>\n",
    "<big><b>3$^\\circ$).</b></big>\n",
    "Find the values of $\\mathbf{A,B}$ such that the following function is continuous and differentiable at $\\mathbf{x=1}$: (total 10%)<br />\n",
    "\n",
    "$$\\mathbf{f (x) = \\left\\{ \\begin{array}{l}\n",
    "       x^2 \\text{, if } x \\le 1,\\\\\n",
    "       Ax+B, \\text{ if } x > 1\n",
    "     \\end{array} \\right. }$$\n",
    "</big> "
   ]
  },
  {
   "cell_type": "markdown",
   "metadata": {
    "collapsed": true
   },
   "source": [
    "<big>\n",
    "<big><b>4$^\\circ$).</b> </big>(total 10%)</font><br>\n",
    " \n",
    "Suppose that \n",
    "$$ \\mathbf{f(x)=x^2\\sin (-x)}$$\n",
    "Find the third derivative of $\\mathbf{f(x)}$,  $\\mathbf{f'''(x)}$.\n",
    " \n",
    "</big> "
   ]
  },
  {
   "cell_type": "markdown",
   "metadata": {
    "collapsed": true
   },
   "source": [
    "<big>\n",
    "<big><b>5$^\\circ$).</b> </big>(total 10%)<br>\n",
    "Suppose that $x,y\\in\\mathbb{R}$ satisfy:\n",
    "$$\\mathbf{ \\frac{x+y}{x-y}=y^2+1}$$\n",
    "Find the derivative of $y$ (10%)\n",
    "</big> "
   ]
  },
  {
   "cell_type": "markdown",
   "metadata": {
    "collapsed": true
   },
   "source": [
    "<big>\n",
    "<big><b>6$^\\circ$).</b></big> (20%)\n",
    "Suppose that  $\\mathbf{f (x) =x-3x^{1/3}}$ for all $\\mathbf{x\\in \\mathbb{R}}$. <br>\n",
    "a$^\\circ$). (5%) Find all the critical values of $\\mathbf{f(x)}$.<br>\n",
    "b$^\\circ$). (5%) Determine the interval at which  $\\mathbf{f(x)}$ is increasing and concave downward.<br>  \n",
    "c$^\\circ$). (5%) Find all the relative extreme values of $\\mathbf{f (x)}$ if any. <br>\n",
    "d$^\\circ$). (5%) Plot the graph of  $\\mathbf{f (x)}$.     \n",
    "</big> "
   ]
  },
  {
   "cell_type": "markdown",
   "metadata": {
    "collapsed": true
   },
   "source": [
    "<big>\n",
    "<big><b>7$^\\circ$).</b></big> (total 10%, each 5%) Describe the following Theorems:<br>\n",
    "a$^\\circ$). Rolle's Theorem <br>\n",
    "b$^\\circ$). Mean Value Theorem. \n",
    "</big> "
   ]
  },
  {
   "cell_type": "raw",
   "metadata": {
    "collapsed": true
   },
   "source": [
    "             √2\n",
    " 1. a) 2 b)  ──\n",
    "             2 \n",
    " 2. a) \n",
    "        ⎛    1 ⎞\n",
    "      4⋅⎜1 - ──⎟\n",
    "        ⎜     2⎟\n",
    "        ⎝    x ⎠\n",
    "        ──────────\n",
    "             3    \n",
    "            x     \n",
    "    b)            -1.5\n",
    "            -0.5⋅x         \n",
    "    c)     2                    \n",
    "        - x ⋅sin(x) + 2⋅x⋅cos(x)\n",
    "        \n",
    "    d)                  2      \n",
    "          -2⋅x + 2   - x  + 2⋅x\n",
    "          ──────── - ──────────\n",
    "           x - 1             2 \n",
    "                      (x - 1)  \n",
    "   \n",
    "   \n",
    "    e) 5\n",
    "   \n",
    "    f)               2\n",
    "        (1+cos x)/cos x\n",
    "   \n",
    "   \n",
    "    g)    2    ⎛ 3⎞\n",
    "       3⋅x ⋅ cos⎝x ⎠\n",
    "   \n",
    "3. A=2,B=-1\n",
    "4. \n",
    "   2                               \n",
    "  x ⋅cos(x) + 6⋅x⋅sin(x) - 6⋅cos(x)\n",
    "   \n",
    "5.  y/(2y-x)\n",
    "\n",
    "6. a) 0, 1,-1 b) x<-1 c)relative maximum f(-1)=2, relative minimum f(1)=-2\n",
    "\n",
    "   "
   ]
  },
  {
   "cell_type": "markdown",
   "metadata": {
    "collapsed": true
   },
   "source": [
    "Answer\n",
    "---"
   ]
  },
  {
   "cell_type": "code",
   "execution_count": 1,
   "metadata": {},
   "outputs": [],
   "source": [
    "from sympy import symbols, pprint,limit,diff,sin,tan,sqrt,cos,pi,solve,Derivative,Function,floor"
   ]
  },
  {
   "cell_type": "code",
   "execution_count": 7,
   "metadata": {},
   "outputs": [],
   "source": [
    "x,t =symbols(\"x t\")"
   ]
  },
  {
   "cell_type": "code",
   "execution_count": 3,
   "metadata": {},
   "outputs": [
    {
     "name": "stdout",
     "output_type": "stream",
     "text": [
      "1. a) The limit of sin(2t)/(t)) at t=0, is:\n",
      "2\n"
     ]
    }
   ],
   "source": [
    "# 1. a)\n",
    "print(\"1. a) The limit of sin(2t)/(t)) at t=0, is:\")\n",
    "pprint(limit(sin(2*t)/(t),t,0))"
   ]
  },
  {
   "cell_type": "code",
   "execution_count": 6,
   "metadata": {},
   "outputs": [
    {
     "name": "stdout",
     "output_type": "stream",
     "text": [
      "1. b) The derivative of sin(x) at x=pi/4,, is:\n",
      "√2\n",
      "──\n",
      "2 \n"
     ]
    }
   ],
   "source": [
    "#1. b)\n",
    "print(\"1. b) The derivative of sin(x) at x=pi/4,, is:\")\n",
    "pprint(limit((sin(x)-sqrt(2)/2)/(x-pi/4),x,pi/4))"
   ]
  },
  {
   "cell_type": "code",
   "execution_count": 14,
   "metadata": {},
   "outputs": [
    {
     "name": "stdout",
     "output_type": "stream",
     "text": [
      "2. a) The derivatice of (x^2-x^{-2})^2/x, is:\n",
      "  ⎛    1 ⎞\n",
      "4⋅⎜1 - ──⎟\n",
      "  ⎜     2⎟\n",
      "  ⎝    x ⎠\n",
      "──────────\n",
      "     3    \n",
      "    x     \n"
     ]
    }
   ],
   "source": [
    "#2. a)\n",
    "print(\"2. a) The derivatice of (x^2-x^{-2})^2/x, is:\")\n",
    "pprint(diff((1-1/x**2)**2,x))"
   ]
  },
  {
   "cell_type": "code",
   "execution_count": 21,
   "metadata": {},
   "outputs": [
    {
     "name": "stdout",
     "output_type": "stream",
     "text": [
      "2. b) The derivatice of x^(-1/2), is:\n",
      "      -1.5\n",
      "-0.5⋅x    \n"
     ]
    }
   ],
   "source": [
    "#2. b)\n",
    "print(\"2. b) The derivatice of x^(-1/2), is:\")\n",
    "pprint(diff(1/x**(1/2),x))"
   ]
  },
  {
   "cell_type": "code",
   "execution_count": 22,
   "metadata": {},
   "outputs": [
    {
     "name": "stdout",
     "output_type": "stream",
     "text": [
      "2. c) The derivatice of x^2 cos x, is:\n",
      "   2                    \n",
      "- x ⋅sin(x) + 2⋅x⋅cos(x)\n"
     ]
    }
   ],
   "source": [
    "#2. c)\n",
    "print(\"2. c) The derivatice of x^2 cos x, is:\")\n",
    "pprint(diff(x**2*cos(x),x))"
   ]
  },
  {
   "cell_type": "code",
   "execution_count": 23,
   "metadata": {},
   "outputs": [
    {
     "name": "stdout",
     "output_type": "stream",
     "text": [
      "2. d) The derivatice of (2x-x^2)/(x-1), is:\n",
      "              2      \n",
      "-2⋅x + 2   - x  + 2⋅x\n",
      "──────── - ──────────\n",
      " x - 1             2 \n",
      "            (x - 1)  \n"
     ]
    }
   ],
   "source": [
    "#2. d)\n",
    "print(\"2. d) The derivatice of (2x-x^2)/(x-1), is:\")\n",
    "pprint(diff((2*x-x*x)/(x-1),x))"
   ]
  },
  {
   "cell_type": "code",
   "execution_count": 24,
   "metadata": {},
   "outputs": [
    {
     "name": "stdout",
     "output_type": "stream",
     "text": [
      "2. e) The derivatice of -x^4-x^3+4x+6 at x=-1, is:\n",
      "5\n"
     ]
    }
   ],
   "source": [
    "#2. e)\n",
    "print(\"2. e) The derivatice of -x^4-x^3+4x+6 at x=-1, is:\")\n",
    "pprint(diff(-x**4-x**3+4*x+6,x).subs({x:-1}))"
   ]
  },
  {
   "cell_type": "code",
   "execution_count": 25,
   "metadata": {},
   "outputs": [
    {
     "name": "stdout",
     "output_type": "stream",
     "text": [
      "2. f) The derivatice of (1+sin x)/cos x, is:\n",
      "     2          \n",
      "  sin (x)    1  \n",
      " ───────── + ─  \n",
      "      2      2  \n",
      " 2⋅cos (x)      \n",
      "────────────────\n",
      "    ____________\n",
      "   ╱ sin(x)     \n",
      "  ╱  ────── + 1 \n",
      "╲╱   cos(x)     \n"
     ]
    }
   ],
   "source": [
    "#2. f)\n",
    "print(\"2. f) The derivatice of (1+sin x)/cos x, is:\")\n",
    "pprint(diff(sqrt(1+sin(x)/(cos(x))),x))"
   ]
  },
  {
   "cell_type": "code",
   "execution_count": 27,
   "metadata": {},
   "outputs": [
    {
     "name": "stdout",
     "output_type": "stream",
     "text": [
      "2. g) The derivatice of sin x^3, is:\n",
      "   2    ⎛ 3⎞\n",
      "3⋅x ⋅cos⎝x ⎠\n"
     ]
    }
   ],
   "source": [
    "#2. g)\n",
    "print(\"2. g) The derivatice of sin x^3, is:\")\n",
    "pprint(diff(sin(x**3),x))"
   ]
  },
  {
   "cell_type": "markdown",
   "metadata": {},
   "source": [
    "Note\n",
    "---\n",
    "above equal to the simple form, $\\mathbf{\\frac{1}{1+\\cos x}}$."
   ]
  },
  {
   "cell_type": "code",
   "execution_count": 15,
   "metadata": {},
   "outputs": [
    {
     "name": "stdout",
     "output_type": "stream",
     "text": [
      "2. g) The derivatice of sin^3(x), is:\n",
      "     2          \n",
      "3⋅sin (x)⋅cos(x)\n"
     ]
    }
   ],
   "source": [
    "#2. g)\n",
    "print(\"2. g) The derivatice of sin^3(x), is:\")\n",
    "pprint(diff(sin(x)**3,x))"
   ]
  },
  {
   "cell_type": "markdown",
   "metadata": {},
   "source": [
    "**2.** h)\n",
    "\n",
    "  \\begin{eqnarray*}\n",
    "    f' (0) & = & \\lim_{h \\rightarrow 0} \\frac{f (h) - f (0)}{h}\\\\\n",
    "    & = & \\lim_{h \\rightarrow 0} \\frac{h \\sin (1 / h)}{h}\\\\\n",
    "    & = & \\lim_{h \\rightarrow 0} \\sin (1 / h)\n",
    "  \\end{eqnarray*}\n",
    "  This concludes that the limit fails to exist.\n"
   ]
  },
  {
   "cell_type": "code",
   "execution_count": 36,
   "metadata": {},
   "outputs": [
    {
     "name": "stdout",
     "output_type": "stream",
     "text": [
      "3. The third-order derivatice of x^2 sin x, is:\n",
      " 2                               \n",
      "x ⋅cos(x) + 6⋅x⋅sin(x) - 6⋅cos(x)\n"
     ]
    }
   ],
   "source": [
    "#3. a)\n",
    "print(\"3. The third-order derivatice of x^2 sin x, is:\")\n",
    "pprint(diff(-x**2*sin(x),x,3))"
   ]
  },
  {
   "cell_type": "code",
   "execution_count": 34,
   "metadata": {},
   "outputs": [],
   "source": [
    "def ImplicitDiff(express):\n",
    "    l=diff(express,x);\n",
    "    print(\"y'(x) =\",solve(l,Derivative(y,x))[0])"
   ]
  },
  {
   "cell_type": "code",
   "execution_count": 37,
   "metadata": {},
   "outputs": [
    {
     "name": "stdout",
     "output_type": "stream",
     "text": [
      "2. f) The derivatice of (x+y)/(x-y)=y^2+1, is:\n",
      "                    d                         ⎛d           ⎞\n",
      "                    ──(y(x)) + 1   (x + y(x))⋅⎜──(y(x)) - 1⎟\n",
      "         d          dx                        ⎝dx          ⎠\n",
      "- 2⋅y(x)⋅──(y(x)) + ──────────── + ─────────────────────────\n",
      "         dx           x - y(x)                      2       \n",
      "                                          (x - y(x))        \n"
     ]
    }
   ],
   "source": [
    "y=Function(\"y\")\n",
    "y=y(x)\n",
    "print(\"2. f) The derivatice of (x+y)/(x-y)=y^2+1, is:\")\n",
    "pprint(diff((x+y)/(x-y)-y*y-1,x))"
   ]
  },
  {
   "cell_type": "markdown",
   "metadata": {},
   "source": [
    "If $y'(x)=0$, it implies $x=\\pm1$. Then\n",
    "$(\\pm1)^3+y^3=3\\cdot(\\pm1)\\to \\mathbf{y=\\pm2^{1/3}}$ \n"
   ]
  },
  {
   "cell_type": "markdown",
   "metadata": {},
   "source": [
    "4). a)\n",
    "\n",
    "\n",
    "\\begin{eqnarray}\n",
    " \\left|\\frac{\\cos a-\\cos b}{a-b}\\right|&=& \\left|\\sin x_0\\right|\\le1\\\\\n",
    " \\Longrightarrow&&\\left|\\cos a-\\cos b\\right|\\le \\left|a-b\\right|\n",
    "\\end{eqnarray}\n",
    "b) $\\mathbf{x\\in\\mathbb{R}}$"
   ]
  },
  {
   "cell_type": "markdown",
   "metadata": {},
   "source": [
    "5). **a)**  critical values:\n",
    "$$ \n",
    "  f'(t)=\\left(4t^{\\frac{1}{3}}+3t^{\\frac{4}{3}}\\right)'=\\frac{4}{3}\\left(t^{-\\frac{2}{3}}+3t^{\\frac{1}{3}}\\right)\n",
    "       =\\frac{4(1+3t)}{3t^\\frac{2}{3}}\n",
    "$$\n",
    "\n",
    "**i).** If $f'(t)=0\\Rightarrow1+3t=0\\to t=-1/3$<br>\n",
    "**ii).** If $f'(t)=0$ fails to exist, then the denominator is zero, $t^{2/3}=0\\to t=0$<br>\n",
    "\n",
    "**b).** Since \n",
    "  \n",
    "  $$\\lim\\limits_{t\\to\\pm\\infty} f(t) =+\\infty,$$\n",
    "  \n",
    "  $f(t)$ can only attain its absolute minimum. The minimum is $f(-1/3)$, which is smaller than 0, since it is smaller than $f(0)=0$. "
   ]
  },
  {
   "cell_type": "markdown",
   "metadata": {},
   "source": [
    "6) . <br>\n",
    "a). Rolle's theorem, Assume that $f (x)$ is continuous on $[a, b]$ and differentiable in $(a,\n",
    "  b)$. If $f (a) = f (b)$, there exists at least $c \\in (a, b)$ such that $f'\n",
    "  (c) = 0$. <br>\n",
    "b). Mean Value Theorem, MVT,\n",
    "Assume that $f (x)$\n",
    "  is continuous on $[a, b]$ and differentiable in $(a, b)$. There exists at\n",
    "  least one $c \\in (a, b)$ such that\n",
    "$$ f' (c) = \\frac{f (b) - f (a)}{b - a} $$"
   ]
  },
  {
   "cell_type": "code",
   "execution_count": 28,
   "metadata": {},
   "outputs": [
    {
     "name": "stdout",
     "output_type": "stream",
     "text": [
      "[NbConvertApp] Converting notebook 2016-1-me-1.ipynb to html\n",
      "[NbConvertApp] Writing 274903 bytes to 2016-1-me-1.html\n"
     ]
    }
   ],
   "source": [
    "!jupyter nbconvert --to html 2016-1-me-1.ipynb"
   ]
  },
  {
   "cell_type": "code",
   "execution_count": null,
   "metadata": {
    "collapsed": true
   },
   "outputs": [],
   "source": []
  }
 ],
 "metadata": {
  "kernelspec": {
   "display_name": "Python 3",
   "language": "python",
   "name": "python3"
  },
  "language_info": {
   "codemirror_mode": {
    "name": "ipython",
    "version": 3
   },
   "file_extension": ".py",
   "mimetype": "text/x-python",
   "name": "python",
   "nbconvert_exporter": "python",
   "pygments_lexer": "ipython3",
   "version": "3.6.1"
  }
 },
 "nbformat": 4,
 "nbformat_minor": 1
}
