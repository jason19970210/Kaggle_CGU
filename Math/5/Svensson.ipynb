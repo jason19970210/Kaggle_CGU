{
 "cells": [
  {
   "cell_type": "markdown",
   "metadata": {},
   "source": [
    "A Way of Implementing Statistical Methods for Ordinal Data to Researchers\n",
    "---\n",
    "Elisabeth Svensson,Journal of Mathematics and System Science 2 (2012) 8-12\n",
    "\n",
    "\n",
    "The frequency distribution of ordinal data from certain population with size $n$ on a five-point scale, the ordered categories being \n",
    "$$A < B < C < D < E$$\n",
    "\n",
    "degrees scaled from very satisfied, $A$, to very un-satisfied, $E$, 5scales. Let $X$ be pre-category data, $Y$ be post-category data \n",
    "\n",
    "某個單位, 工作人員對工作環境的滿意度從極好到極差, 分為五個等級, 為了提高工作人員對環境的滿意度, 公司決定重新裝修辦公室, 並且回收了 243  調查紀錄, 其中 X 代表裝修前員工的評價, Y 代表裝修後員工的評價. 裝修的代價, 是否提高了員工對環境的滿意度？\n",
    "\n",
    "Other Applications\n",
    "---\n",
    "檢驗受訓前後的認知是否有明顯的差別? 手術前後, 吃藥前後, 病人的不舒服感是否有效改善?\n",
    "\n",
    "Relative Position, **RP**\n",
    "---\n",
    "with value within (-1,1),  estimates the difference between the probabilities of the marginal distribution Y being shifted toward higher categories than X and the opposite, $\\mathbf{P} (X < Y) – \\mathbf{P} (Y < X)$.  A positive value of **RP**, indicates that the data set $Y$ has systematically toward higher categories than $X$ has, and negative  toward lower categories:\n",
    "\n",
    "$$RP=\\frac{1}{n^2}\\sum_i y_iC(X)_{i-1}-\\frac{1}{n^2}\\sum_i x_iC(Y)_{i-1}$$\n",
    "where $C(X),C(Y)$: Accumated Frequencies of $X,Y$ respectively. In brief, RP is a sign of a homogeneous group change which could reflect the efficacy of certain plan for the group and reflects the  what future trends become.  \n",
    "\n",
    "\n",
    "Relative rank variance, **RV**,\n",
    "---\n",
    "is defined by the sum squares of aug-rank differences:\n",
    "$$RV=\\frac{6}{n^3}\\sum_i\\sum_j  \\left(\\bar{R}_{ij}^{(X)}-\\bar{R}_{ij}^{(Y)}\\right)^2x_{ij}$$\n",
    "\n",
    "where $n$ is the total sample size and:\n",
    "\n",
    "\\begin{eqnarray}\n",
    "\\bar{R}_{ij}^{(X)}&=&\\sum_k^{i-1}\\sum_j x_{kj}+\\sum_{\\nu=1}^{j-1}x_{i\\nu}\n",
    "                 +\\frac{1}{2}\\left(1+x_{ij}\\right) \\\\\n",
    "\\bar{R}_{ij}^{(Y)}&=&\\sum_k^{j-1}\\sum_i x_{ik}+\\sum_{\\nu=1}^{i-1}x_{\\nu j}\n",
    "                 +\\frac{1}{2}\\left(1+x_{ij}\\right) \\\\                \n",
    "\\end{eqnarray}\n",
    "\n",
    "RV indicates sign of individual heterogeneity in changes, or individual variation in changes.\n",
    "\n",
    "The percentage un-satisfication, **PA**, is 0:\n",
    "\n",
    "$$\\frac{f_{EE}+f_{DD}}{\\text{total}}=0$$\n"
   ]
  },
  {
   "cell_type": "code",
   "execution_count": 1,
   "metadata": {},
   "outputs": [
    {
     "data": {
      "text/plain": [
       "'%.4f'"
      ]
     },
     "execution_count": 1,
     "metadata": {},
     "output_type": "execute_result"
    }
   ],
   "source": [
    "import numpy as np\n",
    "from scipy.stats import t,norm\n",
    "from ipy_table import make_table,apply_theme,set_cell_style,set_column_style,set_row_style\n",
    "%precision 4"
   ]
  },
  {
   "cell_type": "code",
   "execution_count": 4,
   "metadata": {},
   "outputs": [
    {
     "data": {
      "text/html": [
       "<script>\n",
       "code_show=true; \n",
       "function code_toggle() {\n",
       " if (code_show){\n",
       " $('div.input').hide();\n",
       " } else {\n",
       " $('div.input').show();\n",
       " }\n",
       " code_show = !code_show\n",
       "} \n",
       "$( document ).ready(code_toggle);\n",
       "</script>\n",
       "To toggle on/off the raw Python code, click <a href=\"javascript:code_toggle()\">\n",
       "[<code style=\"background-color:brown;color:yellow;\"> here </code>]</a>."
      ],
      "text/plain": [
       "<IPython.core.display.HTML object>"
      ]
     },
     "execution_count": 4,
     "metadata": {},
     "output_type": "execute_result"
    }
   ],
   "source": [
    "from IPython.display import HTML\n",
    "HTML('''<script>\n",
    "code_show=true; \n",
    "function code_toggle() {\n",
    " if (code_show){\n",
    " $('div.input').hide();\n",
    " } else {\n",
    " $('div.input').show();\n",
    " }\n",
    " code_show = !code_show\n",
    "} \n",
    "$( document ).ready(code_toggle);\n",
    "</script>\n",
    "To toggle on/off the raw Python code, click <a href=\"javascript:code_toggle()\">\n",
    "[<code style=\"background-color:brown;color:yellow;\"> here </code>]</a>.''')"
   ]
  },
  {
   "cell_type": "markdown",
   "metadata": {},
   "source": [
    "Jackknife Resampling\n",
    "---\n",
    "<code>\n",
    "Like Harry Potter looking for sword of gryffindor in Gringotts.\n",
    "</code>\n",
    "\n",
    "Suppose that  $\\phi(X)$ be the estimator from $X$, here RP and RV included.\n",
    "The $^{i,j}$th pseudovalue of $\\phi(X)$ is the same estimator from the submatrix of $X$, by deleting $i$ column and \n",
    "$j$ row of $X$, and denoted as $ \\phi_{i,j}(X)$ ."
   ]
  },
  {
   "cell_type": "code",
   "execution_count": 9,
   "metadata": {},
   "outputs": [
    {
     "data": {
      "text/html": [
       "<table border=\"1\" cellpadding=\"3\" cellspacing=\"0\"  style=\"border:1px solid black;border-collapse:collapse;\"><tr><td  style=\"background-color:orange;border-left: 3px solid black;border-top: 3px solid black;border-left: 1px solid transparent;border-top: 1px solid transparent;\"><b>&nbspY\\X&nbsp</b></td><td  style=\"background-color:LightGray;\"><b>1</b></td><td  style=\"background-color:LightGray;\"><b>...</b></td><td  style=\"background-color:gray;\"><b>i</b></td><td  style=\"background-color:LightGray;\"><b>...</b></td><td  style=\"background-color:LightGray;\"><b>m</b></td></tr><tr><td  style=\"background-color:lightgray;\"><b>1</b></td><td  style=\"background-color:Ivory;\">X11</td><td  style=\"background-color:Ivory;\">...</td><td  style=\"background-color:gray;\">X1i</td><td  style=\"background-color:Ivory;\">...</td><td  style=\"background-color:Ivory;\">X1m</td></tr><tr><td  style=\"background-color:lightgray;\"><b>⁞</b></td><td  style=\"background-color:AliceBlue;\"></td><td  style=\"background-color:AliceBlue;\"></td><td  style=\"background-color:gray;\"></td><td  style=\"background-color:AliceBlue;\"></td><td  style=\"background-color:AliceBlue;\"></td></tr><tr><td  style=\"background-color:gray;\"><b>j</b></td><td  style=\"background-color:gray;\">Xj1</td><td  style=\"background-color:gray;\">...</td><td  style=\"background-color:gray;\">Xji</td><td  style=\"background-color:gray;\">...</td><td  style=\"background-color:gray;\">Xjm</td></tr><tr><td  style=\"background-color:lightgray;\"><b>⁞</b></td><td  style=\"background-color:AliceBlue;\"></td><td  style=\"background-color:AliceBlue;\"></td><td  style=\"background-color:gray;\"></td><td  style=\"background-color:AliceBlue;\"></td><td  style=\"background-color:AliceBlue;\"></td></tr><tr><td  style=\"background-color:lightgray;\"><b>m</b></td><td  style=\"background-color:Ivory;\">Xm1</td><td  style=\"background-color:Ivory;\">...</td><td  style=\"background-color:gray;\">Xmi</td><td  style=\"background-color:Ivory;\">...</td><td  style=\"background-color:Ivory;\">Xmm</td></tr></table>"
      ],
      "text/plain": [
       "<ipy_table.IpyTable at 0x108e92cf8>"
      ]
     },
     "execution_count": 9,
     "metadata": {},
     "output_type": "execute_result"
    }
   ],
   "source": [
    "\n",
    "S=np.array([\n",
    "       [' Y\\X ','1','...','i','...','m'],\n",
    "       ['1','X11','...','X1i','...','X1m'],\n",
    "       ['⁞','','','','',''],\n",
    "       ['j','Xj1','...','Xji','...','Xjm'],\n",
    "       ['⁞','','','','',''],\n",
    "       ['m','Xm1','...','Xmi','...','Xmm']\n",
    "])\n",
    "make_table(S)\n",
    "apply_theme('basic_both')\n",
    "set_cell_style(0,0, thick_border='left,top')\n",
    "#set_cell_style(0, 0, color='lightblack')\n",
    "set_column_style(0, color='lightgray')\n",
    "set_column_style(3, color='gray')\n",
    "set_row_style(3, color='gray')\n",
    "#for i in range(1,n+1):\n",
    "#    set_cell_style(i,n+1-i, thick_border='all',color=\"lightbrown\")\n",
    "\n",
    "set_cell_style(0, 0, color='orange')"
   ]
  },
  {
   "cell_type": "markdown",
   "metadata": {},
   "source": [
    "\n",
    "One can then obtain confidence intervals and carry out statistical tests using the Central Limit The- orem. Specifically, let\n",
    "$$\\bar  \\phi(X)=\\frac{\\sum\\limits_{i,j}\\phi_{i,j}(X)}{n}, V(\\bar\\phi(X))=\\frac{\\sum\\limits_{i,j}(\\phi_{i,j}(X)-\\bar  \\phi(X))^2}{n-1}$$\n",
    "be the mean and sample variance of the pseudovalues. The **Jackknife** $(1-\\alpha)\\%$ **confidence interval** for $\\phi(X)$ is:\n",
    "$$\\mathbf{\\left( \n",
    "\\bar  \\phi(X)+z_{\\alpha/2}\\sqrt{\\frac{V(\\bar\\phi(X))}{n}},\\bar  \\phi(X)+z_{1-\\alpha/2}\\sqrt{\\frac{V(\\bar\\phi(X))}{n}}\n",
    "\\right)}$$\n",
    "where $Z$ represents the standard normal random variable, and $z_{\\alpha}$ is the percent point at $\\alpha$ for Z, i.e.\n",
    "$$\\mathbf{Pr(Z<z_\\alpha)=\\alpha}$$"
   ]
  },
  {
   "cell_type": "code",
   "execution_count": 10,
   "metadata": {
    "collapsed": true
   },
   "outputs": [],
   "source": [
    "tabledata=np.array([[0,15,0,8,0],[0,0,16,62,10],[0,0,20,43,0],\n",
    "                   [0,5,0,0,45],[0,0,3,16,0]])"
   ]
  },
  {
   "cell_type": "markdown",
   "metadata": {},
   "source": [
    "Sub-Matrix  Slicing of Numpy array\n",
    "---\n",
    "The following slices the numpy ndarray by deleting `(i)`-row and `(j)`-column:\n",
    "<code style=\"color:brown\">\n",
    "np.delete(np.delete(tabledata,j-1,1),i-1,0)\n",
    "</code>"
   ]
  },
  {
   "cell_type": "code",
   "execution_count": 11,
   "metadata": {},
   "outputs": [
    {
     "data": {
      "text/html": [
       "<table border=\"1\" cellpadding=\"3\" cellspacing=\"0\"  style=\"border:1px solid black;border-collapse:collapse;\"><tr><td>0</td><td>15</td><td>0</td><td>8</td><td>0</td></tr><tr><td>0</td><td>0</td><td>16</td><td>62</td><td>10</td></tr><tr><td>0</td><td>0</td><td>20</td><td>43</td><td>0</td></tr><tr><td>0</td><td>5</td><td>0</td><td>0</td><td>45</td></tr><tr><td>0</td><td>0</td><td>3</td><td>16</td><td>0</td></tr></table>"
      ],
      "text/plain": [
       "<ipy_table.IpyTable at 0x108e88d68>"
      ]
     },
     "execution_count": 11,
     "metadata": {},
     "output_type": "execute_result"
    }
   ],
   "source": [
    "# displat the ordinal data \n",
    "make_table(tabledata)"
   ]
  },
  {
   "cell_type": "code",
   "execution_count": 12,
   "metadata": {
    "collapsed": true
   },
   "outputs": [],
   "source": [
    "def ordinalData(tabledata, category=['A','B','C','D','E']):\n",
    "    n=len(tabledata)\n",
    "    Span_data=np.array([])\n",
    "    for k in range(n+1):\n",
    "      if k==0:\n",
    "         column_ex= np.append(np.array(['Y\\X']),category)\n",
    "         column_ex= np.append(column_ex,'Total')   \n",
    "         #column_ex= np.append(np.array([' \\ ']),category)   \n",
    "         Span_data=np.append(Span_data,column_ex)\n",
    "      else:\n",
    "         Sdata=np.array([category[-k]])\n",
    "         total=  np.sum(tabledata[-k]) \n",
    "         Sdata=np.append(Sdata,tabledata[-k])\n",
    "         Sdata=np.append(Sdata,total)   \n",
    "         Span_data=np.append(Span_data,Sdata)\n",
    "    # sum for each pre-Category data        \n",
    "    Span_data= np.append(Span_data,'Total')        \n",
    "    Span_data= np.append(Span_data,np.sum(tabledata,axis=0))\n",
    "    Span_data= np.append(Span_data,np.sum(tabledata))        \n",
    "    Span_data=Span_data.reshape([n+2,n+2])\n",
    "    \n",
    "    return Span_data"
   ]
  },
  {
   "cell_type": "code",
   "execution_count": 13,
   "metadata": {},
   "outputs": [
    {
     "data": {
      "text/html": [
       "<table border=\"1\" cellpadding=\"3\" cellspacing=\"0\"  style=\"border:1px solid black;border-collapse:collapse;\"><tr><td  style=\"background-color:orange;border-left: 3px solid black;border-top: 3px solid black;border-left: 1px solid transparent;border-top: 1px solid transparent;\"><b>Y\\X</b></td><td  style=\"background-color:LightGray;\"><b>A</b></td><td  style=\"background-color:LightGray;\"><b>B</b></td><td  style=\"background-color:LightGray;\"><b>C</b></td><td  style=\"background-color:LightGray;\"><b>D</b></td><td  style=\"background-color:LightGray;\"><b>E</b></td><td  style=\"background-color:LightGray;\"><b>Total</b></td></tr><tr><td  style=\"background-color:lightgray;\"><b>E</b></td><td  style=\"background-color:Ivory;\">0</td><td  style=\"background-color:Ivory;\">0</td><td  style=\"background-color:Ivory;\">3</td><td  style=\"background-color:Ivory;\">16</td><td  style=\"background-color:lightbrown;border-left: 3px solid black;border-right: 3px solid black;border-top: 3px solid black;border-bottom: 3px solid black;\">0</td><td  style=\"background-color:Ivory;border-left: 3px solid black;\">19</td></tr><tr><td  style=\"background-color:lightgray;\"><b>D</b></td><td  style=\"background-color:AliceBlue;\">0</td><td  style=\"background-color:AliceBlue;\">5</td><td  style=\"background-color:AliceBlue;\">0</td><td  style=\"background-color:lightbrown;border-left: 3px solid black;border-right: 3px solid black;border-top: 3px solid black;border-bottom: 3px solid black;\">0</td><td  style=\"background-color:AliceBlue;border-top: 3px solid black;border-left: 3px solid black;\">45</td><td  style=\"background-color:AliceBlue;\">50</td></tr><tr><td  style=\"background-color:lightgray;\"><b>C</b></td><td  style=\"background-color:Ivory;\">0</td><td  style=\"background-color:Ivory;\">0</td><td  style=\"background-color:lightbrown;border-left: 3px solid black;border-right: 3px solid black;border-top: 3px solid black;border-bottom: 3px solid black;\">20</td><td  style=\"background-color:Ivory;border-top: 3px solid black;border-left: 3px solid black;\">43</td><td  style=\"background-color:Ivory;\">0</td><td  style=\"background-color:Ivory;\">63</td></tr><tr><td  style=\"background-color:lightgray;\"><b>B</b></td><td  style=\"background-color:AliceBlue;\">0</td><td  style=\"background-color:lightbrown;border-left: 3px solid black;border-right: 3px solid black;border-top: 3px solid black;border-bottom: 3px solid black;\">0</td><td  style=\"background-color:AliceBlue;border-top: 3px solid black;border-left: 3px solid black;\">16</td><td  style=\"background-color:AliceBlue;\">62</td><td  style=\"background-color:AliceBlue;\">10</td><td  style=\"background-color:AliceBlue;\">88</td></tr><tr><td  style=\"background-color:lightgray;\"><b>A</b></td><td  style=\"background-color:lightbrown;border-left: 3px solid black;border-right: 3px solid black;border-top: 3px solid black;border-bottom: 3px solid black;\">0</td><td  style=\"background-color:Ivory;border-top: 3px solid black;border-left: 3px solid black;\">15</td><td  style=\"background-color:Ivory;\">0</td><td  style=\"background-color:Ivory;\">8</td><td  style=\"background-color:Ivory;\">0</td><td  style=\"background-color:Ivory;\">23</td></tr><tr><td  style=\"background-color:lightgray;\"><b>Total</b></td><td  style=\"background-color:AliceBlue;border-top: 3px solid black;\">0</td><td  style=\"background-color:AliceBlue;\">20</td><td  style=\"background-color:AliceBlue;\">39</td><td  style=\"background-color:AliceBlue;\">129</td><td  style=\"background-color:AliceBlue;\">55</td><td  style=\"background-color:AliceBlue;\">243</td></tr></table>"
      ],
      "text/plain": [
       "<ipy_table.IpyTable at 0x108e79a20>"
      ]
     },
     "execution_count": 13,
     "metadata": {},
     "output_type": "execute_result"
    }
   ],
   "source": [
    "Sdata=ordinalData(tabledata)\n",
    "n=len(tabledata)\n",
    "make_table(Sdata)\n",
    "\n",
    "apply_theme('basic_both')\n",
    "set_cell_style(0,0, thick_border='left,top')\n",
    "#set_cell_style(0, 0, color='lightblack')\n",
    "set_column_style(0, color='lightgray')\n",
    "for i in range(1,n+1):\n",
    "    set_cell_style(i,n+1-i, thick_border='all',color=\"lightbrown\")\n",
    "\n",
    "set_cell_style(0, 0, color='orange')"
   ]
  },
  {
   "cell_type": "code",
   "execution_count": 22,
   "metadata": {
    "collapsed": true
   },
   "outputs": [],
   "source": [
    "def senssonRP(tabledata):\n",
    "    AvgX=np.sum(tabledata,axis=0)\n",
    "    AvgX=AvgX/sum(AvgX)\n",
    "    AvgY=np.sum(tabledata,axis=1)\n",
    "    AvgY=AvgY/sum(AvgY)\n",
    "    CX=np.zeros(len(AvgX))\n",
    "    for i in range(len(AvgX)-1):\n",
    "        CX[len(AvgX)-i-1]=sum(AvgX[:len(AvgX)-i-1])\n",
    "    CY=np.zeros(len(AvgY))\n",
    "    for i in range(len(AvgY)-1):\n",
    "        CY[len(AvgY)-i-1]=sum(AvgY[:len(AvgY)-i-1])\n",
    "    RP=sum(AvgY*CX-AvgX*CY)\n",
    "    \n",
    "    return RP"
   ]
  },
  {
   "cell_type": "code",
   "execution_count": 23,
   "metadata": {
    "collapsed": true
   },
   "outputs": [],
   "source": [
    "def senssonRV(tabledata):\n",
    "    \n",
    "    n=len(tabledata[0])\n",
    "    RX=np.zeros([n,n])\n",
    "    for i in range(n):\n",
    "        for j in range(n):\n",
    "            RX[i][j]=np.sum(tabledata[:i][:n])+sum(tabledata[i][:j])+(1+tabledata[i][j])/2\n",
    "    RY0=np.zeros([n,n])\n",
    "    tabledata1=tabledata.transpose()\n",
    "    for i in range(n):\n",
    "        for j in range(n):\n",
    "            RY0[i][j]=np.sum(tabledata1[:i][:n])+sum(tabledata1[i][:j])+(1+tabledata1[i][j])/2\n",
    "    RY=RY0.transpose() \n",
    "    RV=np.sum((RX-RY)*(RX-RY)*tabledata)/np.sum(tabledata)**3*6\n",
    "    return RV"
   ]
  },
  {
   "cell_type": "code",
   "execution_count": 24,
   "metadata": {
    "collapsed": true
   },
   "outputs": [],
   "source": [
    "def RPJackknife(tabledata):\n",
    "    n=len(tabledata)\n",
    "    tt=np.array([])\n",
    "    for i in range(n):\n",
    "        for j in range(n):\n",
    "            tt=np.append(tt,senssonRP(np.delete(np.delete(tabledata,j,1),i,0)))\n",
    "    return tt.reshape([n,n])      "
   ]
  },
  {
   "cell_type": "code",
   "execution_count": 25,
   "metadata": {
    "collapsed": true
   },
   "outputs": [],
   "source": [
    "def RVJackknife(tabledata):\n",
    "    n=len(tabledata)\n",
    "    tt=np.array([])\n",
    "    for i in range(n):\n",
    "        for j in range(n):\n",
    "            tt=np.append(tt,senssonRV(np.delete(np.delete(tabledata,j,1),i,0)))\n",
    "    return tt.reshape([n,n])      "
   ]
  },
  {
   "cell_type": "code",
   "execution_count": 27,
   "metadata": {
    "collapsed": true
   },
   "outputs": [],
   "source": [
    "def SvenssonRPCIs(tabledata,p=0.95):\n",
    "    RP=senssonRP(tabledata)\n",
    "    RPJ=RPJackknife(tabledata)\n",
    "    pp=norm.ppf((1+p)/2, loc=0)\n",
    "    a=RP-pp*RPJ.std()/np.sqrt(len(tabledata[0])**2)\n",
    "    b=RP+pp*RPJ.std()/np.sqrt(len(tabledata[0])**2)\n",
    "    if int(p*100) == float(p*100):\n",
    "       decimals = 0\n",
    "    else:\n",
    "       decimals = 1 # Assumes 2 decimal places for money\n",
    "\n",
    "    print('{0:.{1}f}'.format(p*100, decimals),\"% confidence interval of RP, \",'{0:.{1}f}'.format(RP, 3),\":\")\n",
    "    print(\" CIs:  (%.3f,%.3f)\" %(a,b))\n",
    "    print(O+'\\n--[----------- ○ -----------]--'+W)\n",
    "    print(\" %.3f     %0.3f     %.3f \" %(a,RP,b))\n",
    "    if (RP<0):\n",
    "        result=\"Toward the Lower A\"\n",
    "    else:\n",
    "        result=\"Toward the Upper E\"\n",
    "    print(\"\\nConclusion: %s\" %result)    "
   ]
  },
  {
   "cell_type": "code",
   "execution_count": 167,
   "metadata": {
    "collapsed": true
   },
   "outputs": [],
   "source": [
    "#Reference  the bottom\n",
    "\n",
    "W  = '\\033[0m'  # white (normal)\n",
    "R  = '\\033[31m' # red\n",
    "G  = '\\033[32m' # green\n",
    "O  = '\\033[1;33m' # orange\n",
    "B  = '\\033[34m' # blue\n",
    "P  = '\\033[35m' # purple\n",
    "\n",
    "T =  '\\033[1;33;47m' #Title"
   ]
  },
  {
   "cell_type": "code",
   "execution_count": 45,
   "metadata": {
    "collapsed": true
   },
   "outputs": [],
   "source": [
    "def SvenssonRVCIs(tabledata,p=0.95):\n",
    "    RV=senssonRV(tabledata)\n",
    "    RVJ=RVJackknife(tabledata)\n",
    "    pp=norm.ppf((1+p)/2, loc=0)\n",
    "    a=RV-pp*RVJ.std()/np.sqrt(len(tabledata[0])**2)\n",
    "    b=RV+pp*RVJ.std()/np.sqrt(len(tabledata[0])**2)\n",
    "    if int(p*100) == float(p*100):\n",
    "       decimals = 0\n",
    "    else:\n",
    "       decimals = 1 # Assumes 2 decimal places for money\n",
    "\n",
    "    print(T+' {0:.{1}f}'.format(p*100, decimals),\"% confidence interval of RV, \",'{0:.{1}f}'.format(RV, 3),\":\"+W)\n",
    "    print(\" CIs:  (%.3f,%.3f)\" %(a,b))\n",
    "    print(B+'\\n--[----------- ○ -----------]--'+W)\n",
    "    print(\" %.3f       %0.3f       %.3f \" %(a,RV,b))\n",
    "    if (RV<0.2):\n",
    "        result=\"Individual Variation is small\"\n",
    "    elif (RV<0.6):\n",
    "        result=\"Individual Variation has to be concerned\"\n",
    "    else:\n",
    "        result=\"Individual Variation is ver large\"\n",
    "    print(\"\\nConclusion: %s\" %result)    "
   ]
  },
  {
   "cell_type": "markdown",
   "metadata": {},
   "source": [
    "# Estimated RP and 95%/97.5% Confidence Intervals "
   ]
  },
  {
   "cell_type": "code",
   "execution_count": 40,
   "metadata": {},
   "outputs": [
    {
     "name": "stdout",
     "output_type": "stream",
     "text": [
      "95 % confidence interval of RP,  -0.538 :\n",
      " CIs:  (-0.609,-0.467)\n",
      "\u001b[1;33m\n",
      "--[----------- ○ -----------]--\u001b[0m\n",
      " -0.609     -0.538     -0.467 \n",
      "\n",
      "Conclusion: Toward the Lower A\n"
     ]
    }
   ],
   "source": [
    "SvenssonRPCIs(tabledata)"
   ]
  },
  {
   "cell_type": "code",
   "execution_count": 39,
   "metadata": {},
   "outputs": [
    {
     "name": "stdout",
     "output_type": "stream",
     "text": [
      "97.5 % confidence interval of RP,  -0.538 :\n",
      " CIs:  (-0.620,-0.456)\n",
      "\u001b[1;33m\n",
      "--[----------- ○ -----------]--\u001b[0m\n",
      " -0.620     -0.538     -0.456 \n",
      "\n",
      "Conclusion: Toward the Lower A\n"
     ]
    }
   ],
   "source": [
    "SvenssonRPCIs(tabledata,p=0.975)"
   ]
  },
  {
   "cell_type": "markdown",
   "metadata": {},
   "source": [
    "# Estimated RV and 95% Confidence Intervals "
   ]
  },
  {
   "cell_type": "code",
   "execution_count": 168,
   "metadata": {},
   "outputs": [
    {
     "name": "stdout",
     "output_type": "stream",
     "text": [
      "\u001b[1;33;47m 95 % confidence interval of RV,  0.221 :\u001b[0m\n",
      " CIs:  (0.194,0.248)\n",
      "\u001b[34m\n",
      "--[----------- ○ -----------]--\u001b[0m\n",
      " 0.194       0.221       0.248 \n",
      "\n",
      "Conclusion: Individual Variation has to be concerned\n"
     ]
    }
   ],
   "source": [
    "SvenssonRVCIs(tabledata)"
   ]
  },
  {
   "cell_type": "code",
   "execution_count": null,
   "metadata": {
    "collapsed": true
   },
   "outputs": [],
   "source": []
  },
  {
   "cell_type": "markdown",
   "metadata": {
    "collapsed": true
   },
   "source": [
    "Conclusion\n",
    "---\n",
    "1. The negavtive RP and 95% confidence interval of RP, which not including 0, confirm that re-design the office workplace actually  make the satisfication more progress.\n",
    "- Though the RV is too small not to neglect the individual variations, we have to respect to each person's feeling.   \n"
   ]
  },
  {
   "cell_type": "markdown",
   "metadata": {
    "collapsed": true
   },
   "source": [
    "Note\n",
    "---\n",
    "Original reference about ordinal data always suggests make statistical inferences by Central Limit Theorem; however, $t$-criterion is much suitable here."
   ]
  },
  {
   "cell_type": "markdown",
   "metadata": {
    "collapsed": true
   },
   "source": [
    "Appendix: HTML Layout in color\n",
    "---\n",
    "The escape codes are entered right into the print statement.\n",
    "\n",
    "<code>\n",
    "print(\"\\033[1;32;40m Bright Green  \\n\")\n",
    " </code>\n",
    "\n",
    "The above ANSI escape code will set the text colour to bright green. The format is;\n",
    "\n",
    "- \\033[  Escape code, this is always the same\n",
    "- 1 = Style, 1 for normal.\n",
    "- 32 = Text colour, 32 for bright green.\n",
    "- 40m = Background colour, 40 is for black.\n"
   ]
  },
  {
   "cell_type": "markdown",
   "metadata": {},
   "source": [
    "\n",
    "|TEXT COLOR|\tCODE|\tTEXT STYLE\t|CODE\t|BACKGROUND COLOR|\tCODE|\n",
    "|---|---|---|---|---|---|\n",
    "|Black|\t30\t|No effect|\t0\t|Black\t|40|\n",
    "|Red|\t31\t|Bold\t|1\t|Red\t|41|\n",
    "|Green|\t32|\tUnderline|\t2\t|Green|\t42|\n",
    "|Yellow\t|33|\tNegative1|\t3\t|Yellow\t|43|\n",
    "|Blue|\t34|\tNegative2|\t5\t|Blue|\t44|\n",
    "|Purple|\t35|\t\t||\tPurple|\t45|\n",
    "|Cyan|\t36|\t\t||\tCyan|\t46|\n",
    "|White\t|37|\t||\t\tWhite\t|47|\n"
   ]
  },
  {
   "cell_type": "code",
   "execution_count": 33,
   "metadata": {},
   "outputs": [
    {
     "name": "stdout",
     "output_type": "stream",
     "text": [
      "\u001b[0;37;40m Normal text\n",
      "\n",
      "\u001b[2;37;40m Underlined text\u001b[0;37;40m \n",
      "\n",
      "\u001b[1;37;40m Bright Colour\u001b[0;37;40m \n",
      "\n",
      "\u001b[3;37;40m Negative Colour\u001b[0;37;40m \n",
      "\n",
      "\u001b[5;37;40m Negative Colour\u001b[0;37;40m\n",
      "\n",
      "\u001b[1;37;40m \u001b[2;37:40m TextColour BlackBackground          TextColour GreyBackground                WhiteText ColouredBackground\u001b[0;37;40m\n",
      "\n",
      "\u001b[1;30;40m Dark Gray      \u001b[0m 1;30;40m            \u001b[0;30;47m Black      \u001b[0m 0;30;47m               \u001b[0;37;41m Black      \u001b[0m 0;37;41m\n",
      "\u001b[1;31;40m Bright Red     \u001b[0m 1;31;40m            \u001b[0;31;47m Red        \u001b[0m 0;31;47m               \u001b[0;37;42m Black      \u001b[0m 0;37;42m\n",
      "\u001b[1;32;40m Bright Green   \u001b[0m 1;32;40m            \u001b[0;32;47m Green      \u001b[0m 0;32;47m               \u001b[0;37;43m Black      \u001b[0m 0;37;43m\n",
      "\u001b[1;33;40m Yellow         \u001b[0m 1;33;40m            \u001b[0;33;47m Brown      \u001b[0m 0;33;47m               \u001b[0;37;44m Black      \u001b[0m 0;37;44m\n",
      "\u001b[1;34;40m Bright Blue    \u001b[0m 1;34;40m            \u001b[0;34;47m Blue       \u001b[0m 0;34;47m               \u001b[0;37;45m Black      \u001b[0m 0;37;45m\n",
      "\u001b[1;35;40m Bright Magenta \u001b[0m 1;35;40m            \u001b[0;35;47m Magenta    \u001b[0m 0;35;47m               \u001b[0;37;46m Black      \u001b[0m 0;37;46m\n",
      "\u001b[1;36;40m Bright Cyan    \u001b[0m 1;36;40m            \u001b[0;36;47m Cyan       \u001b[0m 0;36;47m               \u001b[0;37;47m Black      \u001b[0m 0;37;47m\n",
      "\u001b[1;37;40m White          \u001b[0m 1;37;40m            \u001b[0;37;40m Light Grey \u001b[0m 0;37;40m               \u001b[0;37;48m Black      \u001b[0m 0;37;48m\n"
     ]
    }
   ],
   "source": [
    "\n",
    "print(\"\\033[0;37;40m Normal text\\n\")\n",
    "print(\"\\033[2;37;40m Underlined text\\033[0;37;40m \\n\")\n",
    "print(\"\\033[1;37;40m Bright Colour\\033[0;37;40m \\n\")\n",
    "print(\"\\033[3;37;40m Negative Colour\\033[0;37;40m \\n\")\n",
    "print(\"\\033[5;37;40m Negative Colour\\033[0;37;40m\\n\")\n",
    " \n",
    "print(\"\\033[1;37;40m \\033[2;37:40m TextColour BlackBackground          TextColour GreyBackground                WhiteText ColouredBackground\\033[0;37;40m\\n\")\n",
    "print(\"\\033[1;30;40m Dark Gray      \\033[0m 1;30;40m            \\033[0;30;47m Black      \\033[0m 0;30;47m               \\033[0;37;41m Black      \\033[0m 0;37;41m\")\n",
    "print(\"\\033[1;31;40m Bright Red     \\033[0m 1;31;40m            \\033[0;31;47m Red        \\033[0m 0;31;47m               \\033[0;37;42m Black      \\033[0m 0;37;42m\")\n",
    "print(\"\\033[1;32;40m Bright Green   \\033[0m 1;32;40m            \\033[0;32;47m Green      \\033[0m 0;32;47m               \\033[0;37;43m Black      \\033[0m 0;37;43m\")\n",
    "print(\"\\033[1;33;40m Yellow         \\033[0m 1;33;40m            \\033[0;33;47m Brown      \\033[0m 0;33;47m               \\033[0;37;44m Black      \\033[0m 0;37;44m\")\n",
    "print(\"\\033[1;34;40m Bright Blue    \\033[0m 1;34;40m            \\033[0;34;47m Blue       \\033[0m 0;34;47m               \\033[0;37;45m Black      \\033[0m 0;37;45m\")\n",
    "print(\"\\033[1;35;40m Bright Magenta \\033[0m 1;35;40m            \\033[0;35;47m Magenta    \\033[0m 0;35;47m               \\033[0;37;46m Black      \\033[0m 0;37;46m\")\n",
    "print(\"\\033[1;36;40m Bright Cyan    \\033[0m 1;36;40m            \\033[0;36;47m Cyan       \\033[0m 0;36;47m               \\033[0;37;47m Black      \\033[0m 0;37;47m\")\n",
    "print(\"\\033[1;37;40m White          \\033[0m 1;37;40m            \\033[0;37;40m Light Grey \\033[0m 0;37;40m               \\033[0;37;48m Black      \\033[0m 0;37;48m\")"
   ]
  },
  {
   "cell_type": "markdown",
   "metadata": {
    "collapsed": true
   },
   "source": [
    "$\\chi^2$ Analysis\n",
    "---\n",
    "the same Properties\n",
    "$$\\chi^2=\\sum\\frac{(f_0-f_e)^2}{f_e}\\sim \\chi^2_{(m-1)\\times(n-1)}$$\n",
    "\n",
    "Correlation  Analysis\n",
    "---\n",
    "Correlation\n",
    "$$\\rho=\\frac{\\sum(x_i-\\bar x)(y_i-\\bar y)}{\\sqrt{\\sum(x_i-\\bar x)^2\\sum(y_i-\\bar y)^2}}$$\n",
    "\n",
    "Fisher Statistics\n",
    "$$t_{n-2}=|r|\\sqrt{\\frac{n-2}{1-r^2}}$$\n",
    "\n",
    "ANOVA\n",
    "---\n",
    "$H_0:\\mu_1=\\mu_2=\\cdots=\\mu_n$\n",
    "\\begin{eqnarray}\n",
    " SSE&=&\\sum_{j=1}^s\\sum_{i=1}^{n_j}(x_{ij}-\\bar x_{\\cdot j})^2\\sim\\chi^2_{ns-s}\\\\\n",
    " SSA&=&\\sum_{j=1}^s\\sum_{i=1}^{n_j}(\\bar x_{\\cdot j}-\\bar x)^2\\sim\\chi^2_{n-s}\\\\\n",
    " SST&=&SSE+SSA\\sim\\chi^2_{ns-1}\n",
    "\\end{eqnarray} \n",
    "Statistic\n",
    "$$F_{(s-1)\\times(n-s)}=\\frac{SSA/(s-1)}{SSE/(n-s)}$$"
   ]
  },
  {
   "cell_type": "markdown",
   "metadata": {},
   "source": [
    "$\\chi^2$ Test\n",
    "---\n",
    "The numbers of absent data of certain person were recorded as follows. Are there the same during same year? 某人的出缺席資料如下, 每一年的情況是否相同? \n",
    "```\n",
    "Month              3   4  5  6\n",
    "absent num(2015)  21  18 15  5\n",
    "absent num(2016)  21  18 15 11\n",
    "```\n",
    "1. 2015: $\\chi^2=9.814>\\chi^2_{0.05}(3)=7.815$,  reject $H_0$, data are different in 2015.\n",
    "- 2016: $\\chi^2=3.369 < \\chi^2_{0.05}(3)=7.815$,  do not reject $H_0$, data is the same in 2016."
   ]
  },
  {
   "cell_type": "code",
   "execution_count": null,
   "metadata": {
    "collapsed": true
   },
   "outputs": [],
   "source": []
  },
  {
   "cell_type": "code",
   "execution_count": 3,
   "metadata": {
    "collapsed": true
   },
   "outputs": [],
   "source": [
    "import scipy.stats as stats\n",
    "import numpy as np\n",
    "import pandas as pd"
   ]
  },
  {
   "cell_type": "code",
   "execution_count": 3,
   "metadata": {},
   "outputs": [
    {
     "name": "stdout",
     "output_type": "stream",
     "text": [
      "2015\n",
      "col_0  count\n",
      "0           \n",
      "April     18\n",
      "June       5\n",
      "March     21\n",
      "May       15\n"
     ]
    }
   ],
   "source": [
    "abs2015 = pd.DataFrame([\"March\"]*21 + [\"April\"]*18 +\\\n",
    "                        [\"May\"]*15 + [\"June\"]*5)\n",
    "           \n",
    "\n",
    "abs2016 = pd.DataFrame([\"March\"]*21 + [\"April\"]*18 +\\\n",
    "                        [\"May\"]*15 + [\"June\"]*11)\n",
    "\n",
    "abs2015_table = pd.crosstab(index=abs2015[0], columns=\"count\")\n",
    "\n",
    "print( \"2015\")\n",
    "print(abs2015_table)\n"
   ]
  },
  {
   "cell_type": "code",
   "execution_count": 6,
   "metadata": {
    "collapsed": true
   },
   "outputs": [],
   "source": [
    "def chisqrare(data,alpha=0.05):\n",
    "    data_table = pd.crosstab(index=data[0], columns=\"count\")\n",
    "    fo = data_table\n",
    "    fe = fo.mean()  # Get expected counts\n",
    "    chi_squared_stat = (((fo-fe)**2)/fe).sum()\n",
    "    df=len(fo)-1 # degree of freedoms\n",
    "    crit = stats.chi2.ppf(q = 0.95,df=df) # Find the critical value for 95% confidence*\n",
    "    p_val = 1 - stats.chi2.cdf(x=chi_squared_stat,df=df)  # p-value= P(H1|H0)\n",
    "    stat_str=\"The χ2 statistic is \"\n",
    "    df_str=\" with degree of freedoms \"\n",
    "    p_str=\"the p-value is \"\n",
    "    cri_str=\", critical value χ2 is \"\n",
    "    if (p_val>alpha):\n",
    "       test_str=\"Test: do not reject H0 \";\n",
    "    else:\n",
    "       test_str=\"Test: reject H0 \"; \n",
    "    print(stat_str,chi_squared_stat[0],df_str,df,\"\\n\",p_str,p_val[0],cri_str,crit,\"\\n\",test_str)"
   ]
  },
  {
   "cell_type": "code",
   "execution_count": 22,
   "metadata": {
    "collapsed": true
   },
   "outputs": [],
   "source": [
    "def chisqrare_v2(data,alpha=0.05):\n",
    "    data_table = pd.crosstab(index=data[0], columns=\"count\")\n",
    "    fo = data_table\n",
    "    fe = fo.mean()  # Get expected counts\n",
    "    chi_squared_stat = (((fo-fe)**2)/fe).sum()\n",
    "    df=len(fo)-1 # degree of freedoms\n",
    "    crit = stats.chi2.ppf(q = 0.95,df=df) # Find the critical value for 95% confidence*\n",
    "    p_val = 1 - stats.chi2.cdf(x=chi_squared_stat,df=df)  # p-value= P(H1|H0)\n",
    "    stat_str=\"The χ2 statistic is \"\n",
    "    df_str=\" with degree of freedoms \"\n",
    "    p_str=\", the p-value is \"\n",
    "    cri_str=\", critical value χ2 is \"\n",
    "    print(stat_str,chi_squared_stat[0],df_str,df,p_str,p_val[0],)\n",
    "    \n",
    "    if (p_val>alpha):\n",
    "       test_str=\"Test: do not reject H0 \";\n",
    "       print(\"                  χ2\")\n",
    "       print(\"|---------x-------) ͨ-------> oo\")\n",
    "       print(\"       %.3f   %.3f\" %(chi_squared_stat[0],crit) ) \n",
    "       print(test_str)\n",
    "    else:\n",
    "       test_str=\"Test: reject H0 \"; \n",
    "       print(\"          χ2\")\n",
    "       print(\"|---------) ͨ-------x-------> oo\")\n",
    "       print(\"       %.3f   %.3f\" %(crit,chi_squared_stat[0]) )  \n",
    "       print(test_str)\n",
    "    #print(stat_str,chi_squared_stat[0],df_str,df,\"\\n\",p_str,p_val[0],cri_str,crit,\"\\n\",test_str)"
   ]
  },
  {
   "cell_type": "code",
   "execution_count": 20,
   "metadata": {},
   "outputs": [
    {
     "name": "stdout",
     "output_type": "stream",
     "text": [
      "The χ2 statistic is  9.81355932203  with degree of freedoms  3 , the p-value is  0.0202192807196\n",
      "          χ2\n",
      "|---------) ͨ-------x-------> oo\n",
      "       7.815   9.814\n",
      "Test: reject H0 \n"
     ]
    }
   ],
   "source": [
    "chisqrare_v2(abs2015,alpha=0.05)"
   ]
  },
  {
   "cell_type": "code",
   "execution_count": 23,
   "metadata": {},
   "outputs": [
    {
     "name": "stdout",
     "output_type": "stream",
     "text": [
      "The χ2 statistic is  3.36923076923  with degree of freedoms  3 , the p-value is  0.338122659055\n",
      "                  χ2\n",
      "|---------x-------) ͨ-------> oo\n",
      "       3.369   7.815\n",
      "Test: do not reject H0 \n"
     ]
    }
   ],
   "source": [
    "chisqrare_v2(abs2016,alpha=0.05)"
   ]
  },
  {
   "cell_type": "markdown",
   "metadata": {},
   "source": [
    "$\\chi^2$\n",
    "---\n",
    "Whether does the eduacation degree relate to the gendre? 教育程度和性別是否有差別\n",
    "```\n",
    "Gener\\ Education Types    A   B   C   D \n",
    "       Male               71 115 140 130\n",
    "      Female             110 141 181 198\n",
    "```\n",
    "Same between Males' and Females' "
   ]
  },
  {
   "cell_type": "code",
   "execution_count": 25,
   "metadata": {
    "collapsed": true
   },
   "outputs": [],
   "source": [
    "from scipy.stats import chi2_contingency"
   ]
  },
  {
   "cell_type": "code",
   "execution_count": 29,
   "metadata": {
    "collapsed": true
   },
   "outputs": [],
   "source": [
    "def chisquare2_v2(data,alpha=0.05,index=\"\",columns=\"\"):\n",
    "    if (index!=\"\"):\n",
    "       df=pd.DataFrame(Edu_data.T,index=index, columns=columns)\n",
    "    else:\n",
    "        df=pd.DataFrame(Edu_data.T) \n",
    "    fo= data   \n",
    "    chi2, p, df, fe =chi2_contingency(fo) \n",
    "    fo_str=\"Observed Data: \"\n",
    "    stat_str=\"The χ2 statistic is \"\n",
    "    df_str=\" with degree of freedoms \"\n",
    "    p_str=\"the p-value is \"\n",
    "    cri_str=\", critical value χ2 is \"\n",
    "    crit = stats.chi2.ppf(q = 1-alpha,df=df)\n",
    "    print(stat_str,chi2,df_str,df,p_str,p)\n",
    "\n",
    "    if (p>alpha):\n",
    "       test_str=\"Test: do not reject H0 \";\n",
    "       print(\"                  χ2\")\n",
    "       print(\"|---------x-------) ͨ-------> oo\")\n",
    "       print(\"       %.3f   %.3f\" %(chi2,crit) ) \n",
    "       print(test_str)\n",
    "    else:\n",
    "       test_str=\"Test: reject H0 \"; \n",
    "       print(\"          χ2\")\n",
    "       print(\"|---------) ͨ-------x-------> oo\")\n",
    "       print(\"       %.3f   %.3f\" %(crit,2) )  \n",
    "       print(test_str)"
   ]
  },
  {
   "cell_type": "code",
   "execution_count": 31,
   "metadata": {
    "collapsed": true
   },
   "outputs": [],
   "source": [
    "def chisquare2(data,alpha=0.05,index=\"\",columns=\"\"):\n",
    "\n",
    "    fo= data   \n",
    "    chi2, p, df, fe =chi2_contingency(fo) \n",
    "    fo_str=\"Observed Data: \"\n",
    "    stat_str=\"The χ2 statistic is \"\n",
    "    df_str=\" with degree of freedoms \"\n",
    "    p_str=\"the p-value is \"\n",
    "    cri_str=\", critical value χ2 is \"\n",
    "    crit = stats.chi2.ppf(q = 1-alpha,df=df)\n",
    "    if (p>alpha):\n",
    "       test_str=\"Test: do not reject H0 \";\n",
    "    else:\n",
    "       test_str=\"Test: reject H0 \"; \n",
    "    print(stat_str,chi2,df_str,df,\"\\n\",p_str,p,cri_str,crit,\"\\n\",test_str)"
   ]
  },
  {
   "cell_type": "code",
   "execution_count": 27,
   "metadata": {
    "collapsed": true
   },
   "outputs": [],
   "source": [
    "Edu_data=np.array([[71,115, 140, 130],[110, 141, 181, 198]])\n",
    "Edutype=[\"A\",\"B\",\"C\",\"D\"]\n",
    "gender=[\"Male\",\"Female\"]\n"
   ]
  },
  {
   "cell_type": "code",
   "execution_count": 147,
   "metadata": {},
   "outputs": [
    {
     "data": {
      "text/html": [
       "<div>\n",
       "<table border=\"1\" class=\"dataframe\">\n",
       "  <thead>\n",
       "    <tr style=\"text-align: right;\">\n",
       "      <th></th>\n",
       "      <th>Male</th>\n",
       "      <th>Female</th>\n",
       "    </tr>\n",
       "  </thead>\n",
       "  <tbody>\n",
       "    <tr>\n",
       "      <th>A</th>\n",
       "      <td>71</td>\n",
       "      <td>110</td>\n",
       "    </tr>\n",
       "    <tr>\n",
       "      <th>B</th>\n",
       "      <td>115</td>\n",
       "      <td>141</td>\n",
       "    </tr>\n",
       "    <tr>\n",
       "      <th>C</th>\n",
       "      <td>140</td>\n",
       "      <td>181</td>\n",
       "    </tr>\n",
       "    <tr>\n",
       "      <th>D</th>\n",
       "      <td>130</td>\n",
       "      <td>198</td>\n",
       "    </tr>\n",
       "  </tbody>\n",
       "</table>\n",
       "</div>"
      ],
      "text/plain": [
       "   Male  Female\n",
       "A    71     110\n",
       "B   115     141\n",
       "C   140     181\n",
       "D   130     198"
      ]
     },
     "execution_count": 147,
     "metadata": {},
     "output_type": "execute_result"
    }
   ],
   "source": [
    "df=pd.DataFrame(Edu_data.T,index=Edutype, columns=gender)\n",
    "df"
   ]
  },
  {
   "cell_type": "code",
   "execution_count": 150,
   "metadata": {},
   "outputs": [
    {
     "name": "stdout",
     "output_type": "stream",
     "text": [
      "The χ2 statistic is  2.56567071395  with degree of freedoms  3 \n",
      " the p-value is  0.463539723191 , critical value χ2 is  7.81472790325 \n",
      " Test: do not reject H0 \n"
     ]
    }
   ],
   "source": [
    "chisquare2(Edu_data,index=Edutype, columns=gender)"
   ]
  },
  {
   "cell_type": "code",
   "execution_count": 33,
   "metadata": {},
   "outputs": [
    {
     "name": "stdout",
     "output_type": "stream",
     "text": [
      "The χ2 statistic is  2.56567071395  with degree of freedoms  3 the p-value is  0.463539723191\n",
      "                  χ2\n",
      "|---------x-------) ͨ-------> oo\n",
      "       2.566   7.815\n",
      "Test: do not reject H0 \n"
     ]
    }
   ],
   "source": [
    "chisquare2_v2(Edu_data,index=Edutype, columns=gender)"
   ]
  },
  {
   "cell_type": "markdown",
   "metadata": {},
   "source": [
    "Correlation\n",
    "---\n",
    "Does the profit have related to the ad. buget? 每一年的獲得利益程度  是否和廣告支出有關?\n",
    "```\n",
    "\n",
    "X  0.20 0.30 0.20 0.40 0.35 0.48 0.30 0.58  0.43 0.60 0.55 0.42 0.4 0.58 0.51\n",
    "Y   20   25   24   30   32   40   28   50    40   70   48   39  42   65   56\n",
    "```\n",
    "1. $r=0.9179$\n",
    "- $t=|0.9179|\\sqrt{\\frac{15-2}{1-0.9179^2}}=8.3403>t_{0.025}(13)=2.1604$ reject $H_0:r=0$,  i.e. $X.Y$ do have corelated with each other."
   ]
  },
  {
   "cell_type": "code",
   "execution_count": 35,
   "metadata": {},
   "outputs": [
    {
     "data": {
      "text/plain": [
       "(0.9179, 0.0000)"
      ]
     },
     "execution_count": 35,
     "metadata": {},
     "output_type": "execute_result"
    }
   ],
   "source": [
    "dataXY=np.array([[0.20,0.30,0.20,0.40,0.35,0.48,0.30,0.58 ,0.43,0.60 ,0.55 ,0.42 ,0.4, 0.58 ,0.51],\n",
    "                 [20,   25 ,  24  , 30 ,  32 ,  40  , 28 ,  50  ,  40  , 70 ,  48 ,  39 , 42 ,  65 ,  56]])\n",
    "stats.pearsonr(dataXY[0],dataXY[1] )"
   ]
  },
  {
   "cell_type": "code",
   "execution_count": 45,
   "metadata": {
    "collapsed": true
   },
   "outputs": [],
   "source": [
    "def fisherR_v2(data,alpha=0.05,two_sided=True):\n",
    "    r,p=stats.pearsonr(data[0],data[1] )\n",
    "    df=len(data[0])-2\n",
    "    cor_str=\" correlation is: \"    \n",
    "    print(cor_str+\"%.3f\" %r)\n",
    "\n",
    "    stat_str=\"The Fisher t statistic is \"\n",
    "    df_str=\" with degree of freedoms \"\n",
    "    p_str=\"the p-value is \"\n",
    "    if two_sided:\n",
    "       cri_str=\", critical value t (two-tailed) is \"\n",
    "       q=1-alpha/2\n",
    "    else:\n",
    "       cri_str=\", critical value t (one-tailed) is \"\n",
    "       q=1-alpha \n",
    "    t_cri = stats.t.ppf(q = q,df=df)\n",
    "    rt=np.abs(r)*np.sqrt((df)/(1-r**2))\n",
    "    #t=np.abs(r_cri)*np.sqrt((df)/(1-r_cri**2))\n",
    "    if (p>alpha and two_sided):\n",
    "       test_str=\"Test: do not reject H0: r=0, i.e. X, Y independent \";\n",
    "       print(\"                       t(%s,%.3f)\" %(df,q))\n",
    "       print(\"-oo <---(------x-------) ͨ-------> oo\")\n",
    "       print(\"       %.3f   %.3f\" %(chi2,crit) ) \n",
    "       print(test_str)\n",
    "    elif(p>alpha and not two_sided):\n",
    "       print(\"\")\n",
    "    elif(p<alpha and not two_sided):\n",
    "       print(\"\") \n",
    "    else:\n",
    "       test_str=\"Test: reject H0, i.e. X,Y dependent\"; \n",
    "       print(\"                       t(%s,%.3f)\" %(df,q))\n",
    "       print(\"-oo <---(------x-------) ͨ-------> oo\")\n",
    "       print(\"       %.3f   %.3f\" %(chi2,crit) ) \n",
    "       print(test_str)\n",
    "    \n",
    "    #print(cor_str,r,\"\\n\",stat_str,rt,df_str,df,\"\\n\",p_str,p,cri_str,t_cri,\"\\n\",test_str)"
   ]
  },
  {
   "cell_type": "code",
   "execution_count": 47,
   "metadata": {
    "collapsed": true
   },
   "outputs": [],
   "source": [
    "def fisherR(data,alpha=0.05,two_sided=True):\n",
    "    r,p=stats.pearsonr(data[0],data[1] )\n",
    "    df=len(data[0])-2\n",
    "    cor_str=\" correlation is: \"\n",
    "    \n",
    "    stat_str=\"The Fisher t statistic is \"\n",
    "    df_str=\" with degree of freedoms \"\n",
    "    p_str=\"the p-value is \"\n",
    "    if two_sided:\n",
    "       cri_str=\", critical value t (two-tailed) is \"\n",
    "       q=1-alpha/2\n",
    "    else:\n",
    "       cri_str=\", critical value t (one-tailed) is \"\n",
    "       q=1-alpha \n",
    "    t_cri = stats.t.ppf(q = q,df=df)\n",
    "    rt=np.abs(r)*np.sqrt((df)/(1-r**2))\n",
    "    #t=np.abs(r_cri)*np.sqrt((df)/(1-r_cri**2))\n",
    "    if (p>alpha):\n",
    "       test_str=\"Test: do not reject H0: r=0, i.e. X, Y independent \";\n",
    "    else:\n",
    "       test_str=\"Test: reject H0, i.e. X,Y dependent\"; \n",
    "    print(stat_str,rt,df_str,df,\"\\n\",p_str,p,cri_str,t_cri,\"\\n\",test_str)"
   ]
  },
  {
   "cell_type": "code",
   "execution_count": 48,
   "metadata": {},
   "outputs": [
    {
     "name": "stdout",
     "output_type": "stream",
     "text": [
      "The Fisher t statistic is  8.33951789063  with degree of freedoms  13 \n",
      " the p-value is  1.414544429e-06 , critical value t (two-tailed) is  2.16036865646 \n",
      " Test: reject H0, i.e. X,Y dependent\n"
     ]
    }
   ],
   "source": [
    "fisherR(dataXY)"
   ]
  },
  {
   "cell_type": "markdown",
   "metadata": {},
   "source": [
    "ANOVA\n",
    "---\n",
    "are there any difference amounf different groups? 群眾之間是否有差別?\n",
    "```\n",
    "Type/trial  A  B  C  D\n",
    "  1         3  8 10  8\n",
    "  2         7 11  7  8\n",
    "  3         7  9  3  5\n",
    "  4         3  7  5  5\n",
    "  5         8  8 11  2\n",
    "  \n",
    "                        df  \n",
    "SSA(Factor A)  31.350    3   MSA=SSA/3=10.45\n",
    "SSE(Error)     102.4    16   MSE=SSE/16=6.4\n",
    "SST(Total)     133.75   19\n",
    "\n",
    "F_A(3,16)=MSA/MSE=1.6328\n",
    "```\n",
    "$F_A(3,16)<F_0.05(3,16)=3.24$ do not reject $H_0:\\mu_1=\\mu_2=\\mu_3=\\mu_4$"
   ]
  },
  {
   "cell_type": "code",
   "execution_count": 209,
   "metadata": {
    "collapsed": true
   },
   "outputs": [],
   "source": [
    "\n"
   ]
  },
  {
   "cell_type": "code",
   "execution_count": 1,
   "metadata": {
    "collapsed": true
   },
   "outputs": [],
   "source": [
    "import plotly.plotly as py\n",
    "import plotly.graph_objs as go\n",
    "from plotly.tools import FigureFactory as FF\n",
    "from io import StringIO\n",
    "%matplotlib inline"
   ]
  },
  {
   "cell_type": "code",
   "execution_count": 4,
   "metadata": {
    "collapsed": true
   },
   "outputs": [],
   "source": [
    "csv_str=StringIO(\"\"\"A,B,C,D\n",
    "          3,8,10,8\n",
    "          7,11,7,8\n",
    "          7,  9,  3,  5\n",
    "          3 , 7,  5 , 5\n",
    "          8 , 8, 11,  2\"\"\")\n",
    "data = pd.read_csv(csv_str)"
   ]
  },
  {
   "cell_type": "code",
   "execution_count": 5,
   "metadata": {},
   "outputs": [
    {
     "data": {
      "text/html": [
       "<div>\n",
       "<table border=\"1\" class=\"dataframe\">\n",
       "  <thead>\n",
       "    <tr style=\"text-align: right;\">\n",
       "      <th></th>\n",
       "      <th>A</th>\n",
       "      <th>B</th>\n",
       "      <th>C</th>\n",
       "      <th>D</th>\n",
       "    </tr>\n",
       "  </thead>\n",
       "  <tbody>\n",
       "    <tr>\n",
       "      <th>0</th>\n",
       "      <td>3</td>\n",
       "      <td>8</td>\n",
       "      <td>10</td>\n",
       "      <td>8</td>\n",
       "    </tr>\n",
       "    <tr>\n",
       "      <th>1</th>\n",
       "      <td>7</td>\n",
       "      <td>11</td>\n",
       "      <td>7</td>\n",
       "      <td>8</td>\n",
       "    </tr>\n",
       "    <tr>\n",
       "      <th>2</th>\n",
       "      <td>7</td>\n",
       "      <td>9</td>\n",
       "      <td>3</td>\n",
       "      <td>5</td>\n",
       "    </tr>\n",
       "    <tr>\n",
       "      <th>3</th>\n",
       "      <td>3</td>\n",
       "      <td>7</td>\n",
       "      <td>5</td>\n",
       "      <td>5</td>\n",
       "    </tr>\n",
       "    <tr>\n",
       "      <th>4</th>\n",
       "      <td>8</td>\n",
       "      <td>8</td>\n",
       "      <td>11</td>\n",
       "      <td>2</td>\n",
       "    </tr>\n",
       "  </tbody>\n",
       "</table>\n",
       "</div>"
      ],
      "text/plain": [
       "   A   B   C  D\n",
       "0  3   8  10  8\n",
       "1  7  11   7  8\n",
       "2  7   9   3  5\n",
       "3  3   7   5  5\n",
       "4  8   8  11  2"
      ]
     },
     "execution_count": 5,
     "metadata": {},
     "output_type": "execute_result"
    }
   ],
   "source": [
    "data"
   ]
  },
  {
   "cell_type": "code",
   "execution_count": 7,
   "metadata": {},
   "outputs": [
    {
     "data": {
      "image/png": "[encoded data removed]",
      "text/plain": [
       "<matplotlib.figure.Figure at 0x1178d9c88>"
      ]
     },
     "metadata": {},
     "output_type": "display_data"
    }
   ],
   "source": [
    "data.boxplot(figsize=(12, 8));"
   ]
  },
  {
   "cell_type": "code",
   "execution_count": 8,
   "metadata": {},
   "outputs": [
    {
     "data": {
      "text/plain": [
       "(1.6328125, 0.22133164752533896)"
      ]
     },
     "execution_count": 8,
     "metadata": {},
     "output_type": "execute_result"
    }
   ],
   "source": [
    "F, p = stats.f_oneway(data['A'], data['B'], data['C'], data['D'])\n",
    "F,p"
   ]
  },
  {
   "cell_type": "code",
   "execution_count": 9,
   "metadata": {
    "collapsed": true
   },
   "outputs": [],
   "source": [
    "def onewayANOVA(data,alpha=0.05):\n",
    "    s=data.shape[1]\n",
    "    n=data.shape[0]*data.shape[1]\n",
    "    F, p = stats.f_oneway(data['A'], data['B'], data['C'], data['D'])\n",
    "\n",
    "    stat_str=\"The one-way ANOVA f statistic is \"\n",
    "    df_str=\" with degrees of freedoms \"\n",
    "    p_str=\"the p-value is \"\n",
    "    cri_str=\", critical value f is \"\n",
    "    f_cri = stats.f.ppf(q = 1-alpha,dfn=s-1,dfd=n-s)\n",
    "\n",
    "    if (p>alpha):\n",
    "       test_str=\"Test: do not reject H0: there is no difference among groups \";\n",
    "    else:\n",
    "       test_str=\"Test: reject H0, i.e. there is some difference amoung groups\"; \n",
    "    print(stat_str,F,df_str,\"(\",s-1,\",\",n-s,\")\",\"\\n\",p_str,p,cri_str,f_cri,\"\\n\",test_str)"
   ]
  },
  {
   "cell_type": "code",
   "execution_count": 10,
   "metadata": {},
   "outputs": [
    {
     "name": "stdout",
     "output_type": "stream",
     "text": [
      "The one-way ANOVA f statistic is  1.6328125  with degrees of freedoms  ( 3 , 16 ) \n",
      " the p-value is  0.221331647525 , critical value f is  3.23887151745 \n",
      " Test: do not reject H0: there is no difference among groups \n"
     ]
    }
   ],
   "source": [
    "onewayANOVA(data)"
   ]
  },
  {
   "cell_type": "code",
   "execution_count": null,
   "metadata": {
    "collapsed": true,
    "scrolled": true
   },
   "outputs": [],
   "source": []
  },
  {
   "cell_type": "code",
   "execution_count": 223,
   "metadata": {
    "collapsed": true
   },
   "outputs": [],
   "source": []
  },
  {
   "cell_type": "code",
   "execution_count": null,
   "metadata": {
    "collapsed": true
   },
   "outputs": [],
   "source": []
  }
 ],
 "metadata": {
  "kernelspec": {
   "display_name": "Python 3",
   "language": "python",
   "name": "python3"
  },
  "language_info": {
   "codemirror_mode": {
    "name": "ipython",
    "version": 3
   },
   "file_extension": ".py",
   "mimetype": "text/x-python",
   "name": "python",
   "nbconvert_exporter": "python",
   "pygments_lexer": "ipython3",
   "version": "3.5.2"
  }
 },
 "nbformat": 4,
 "nbformat_minor": 2
}
